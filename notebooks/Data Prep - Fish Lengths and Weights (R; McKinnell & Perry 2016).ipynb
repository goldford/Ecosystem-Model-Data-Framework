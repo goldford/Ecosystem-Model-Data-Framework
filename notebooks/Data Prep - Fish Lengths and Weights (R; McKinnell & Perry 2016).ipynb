{
 "cells": [
  {
   "cell_type": "markdown",
   "id": "648bd57a",
   "metadata": {},
   "source": [
    "Find the mean weight and length of Juvenile salmon early in marine stage."
   ]
  },
  {
   "cell_type": "code",
   "execution_count": 1,
   "id": "318868e5",
   "metadata": {},
   "outputs": [
    {
     "ename": "ERROR",
     "evalue": "Error: package or namespace load failed for 'dplyr' in loadNamespace(j <- i[[1L]], c(lib.loc, .libPaths()), versionCheck = vI[[j]]):\n there is no package called 'pillar'\n",
     "output_type": "error",
     "traceback": [
      "Error: package or namespace load failed for 'dplyr' in loadNamespace(j <- i[[1L]], c(lib.loc, .libPaths()), versionCheck = vI[[j]]):\n there is no package called 'pillar'\nTraceback:\n",
      "1. library(dplyr)",
      "2. tryCatch({\n .     attr(package, \"LibPath\") <- which.lib.loc\n .     ns <- loadNamespace(package, lib.loc)\n .     env <- attachNamespace(ns, pos = pos, deps, exclude, include.only)\n . }, error = function(e) {\n .     P <- if (!is.null(cc <- conditionCall(e))) \n .         paste(\" in\", deparse(cc)[1L])\n .     else \"\"\n .     msg <- gettextf(\"package or namespace load failed for %s%s:\\n %s\", \n .         sQuote(package), P, conditionMessage(e))\n .     if (logical.return) \n .         message(paste(\"Error:\", msg), domain = NA)\n .     else stop(msg, call. = FALSE, domain = NA)\n . })",
      "3. tryCatchList(expr, classes, parentenv, handlers)",
      "4. tryCatchOne(expr, names, parentenv, handlers[[1L]])",
      "5. value[[3L]](cond)",
      "6. stop(msg, call. = FALSE, domain = NA)"
     ]
    }
   ],
   "source": [
    "library(dplyr)"
   ]
  },
  {
   "cell_type": "code",
   "execution_count": 11,
   "id": "ae3bd02a",
   "metadata": {},
   "outputs": [
    {
     "name": "stderr",
     "output_type": "stream",
     "text": [
      "also installing the dependencies 'cli', 'lifecycle', 'rlang'\n",
      "\n"
     ]
    },
    {
     "name": "stdout",
     "output_type": "stream",
     "text": [
      "\n",
      "  There are binary versions available but the source versions are later:\n",
      "          binary source needs_compilation\n",
      "cli        2.5.0  3.6.0              TRUE\n",
      "lifecycle  1.0.0  1.0.3             FALSE\n",
      "rlang     0.4.11  1.0.6              TRUE\n",
      "pillar     1.6.0  1.8.1             FALSE\n",
      "\n",
      "  Binaries will be installed\n",
      "package 'cli' successfully unpacked and MD5 sums checked\n",
      "package 'rlang' successfully unpacked and MD5 sums checked\n"
     ]
    },
    {
     "name": "stderr",
     "output_type": "stream",
     "text": [
      "Warning message:\n",
      "\"cannot remove prior installation of package 'rlang'\"Warning message in file.copy(savedcopy, lib, recursive = TRUE):\n",
      "\"problem copying C:\\Users\\Greig\\anaconda3\\envs\\RJupNotebooks\\Lib\\R\\library\\00LOCK\\rlang\\libs\\x64\\rlang.dll to C:\\Users\\Greig\\anaconda3\\envs\\RJupNotebooks\\Lib\\R\\library\\rlang\\libs\\x64\\rlang.dll: Permission denied\"Warning message:\n",
      "\"restored 'rlang'\""
     ]
    },
    {
     "name": "stdout",
     "output_type": "stream",
     "text": [
      "\n",
      "The downloaded binary packages are in\n",
      "\tC:\\Users\\Greig\\AppData\\Local\\Temp\\RtmpA9p1sp\\downloaded_packages\n"
     ]
    },
    {
     "name": "stderr",
     "output_type": "stream",
     "text": [
      "installing the source packages 'lifecycle', 'pillar'\n",
      "\n",
      "Warning message in install.packages(\"pillar\", repos = \"http://cran.us.r-project.org\"):\n",
      "\"installation of package 'lifecycle' had non-zero exit status\"Warning message in install.packages(\"pillar\", repos = \"http://cran.us.r-project.org\"):\n",
      "\"installation of package 'pillar' had non-zero exit status\""
     ]
    }
   ],
   "source": []
  },
  {
   "cell_type": "code",
   "execution_count": 4,
   "id": "68d3c95a",
   "metadata": {},
   "outputs": [],
   "source": [
    "# change some column types, rename some, create composite key for predators\n",
    "path_f = \"C:/Users/Greig/Documents/GitHub/JuvenileFishPreyAnalysis/data/Diet_McKinnellPerry_2016/MODIFIED/\"\n",
    "stn_df <- read.csv(paste(path_f,\"Stations_wDepths.csv\",sep=\"\"))\n",
    "stn_dfï..CruiseTowId"
   ]
  },
  {
   "cell_type": "code",
   "execution_count": 14,
   "id": "23f445a1",
   "metadata": {},
   "outputs": [
    {
     "ename": "ERROR",
     "evalue": "Error in stn_df %>% rename(CruiseTowID = \"ï..CruiseTowId\"): could not find function \"%>%\"\n",
     "output_type": "error",
     "traceback": [
      "Error in stn_df %>% rename(CruiseTowID = \"ï..CruiseTowId\"): could not find function \"%>%\"\nTraceback:\n"
     ]
    }
   ],
   "source": [
    "stn_df %>% \n",
    "  rename(\n",
    "    CruiseTowID = \"ï..CruiseTowId\"\n",
    "    )"
   ]
  },
  {
   "cell_type": "code",
   "execution_count": null,
   "id": "3f436e8d",
   "metadata": {},
   "outputs": [],
   "source": []
  },
  {
   "cell_type": "code",
   "execution_count": null,
   "id": "76b1a7ce",
   "metadata": {},
   "outputs": [],
   "source": []
  }
 ],
 "metadata": {
  "kernelspec": {
   "display_name": "R",
   "language": "R",
   "name": "ir"
  },
  "language_info": {
   "codemirror_mode": "r",
   "file_extension": ".r",
   "mimetype": "text/x-r-source",
   "name": "R",
   "pygments_lexer": "r",
   "version": "3.6.1"
  }
 },
 "nbformat": 4,
 "nbformat_minor": 5
}
