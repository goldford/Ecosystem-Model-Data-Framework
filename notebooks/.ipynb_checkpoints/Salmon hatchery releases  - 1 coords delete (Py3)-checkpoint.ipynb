{
 "cells": [
  {
   "cell_type": "code",
   "execution_count": 1,
   "metadata": {},
   "outputs": [],
   "source": [
    "# last edited Jan 12, 2021 by GO"
   ]
  },
  {
   "cell_type": "markdown",
   "metadata": {},
   "source": [
    "### Export Custom Time Series file for Ecosim / Ecospace\n",
    "Jan 2021\n",
    "By: G Oldford\n",
    "<br> Purpose: Export a hatchery forcing or time series file to .csv's or ASCII's for EWE\n",
    "\n",
    "Data In: \n",
    "1. HatcheryRel_TS_ForNextStep.csv - EPAD data from Carl (DFO / SEP)- from 'step 3'\n",
    "\n",
    "Purpose:\n",
    "   - export the monthly timestep forcing file that Ecosim expects\n",
    "   - export the monthly timestep spatial forcing file that Ecospace expects\n",
    "\n",
    "Notes:\n",
    "- EPAD data from Carl Walters and RMIS locations data from SOGDC"
   ]
  },
  {
   "cell_type": "markdown",
   "metadata": {},
   "source": [
    "## TOC: <a class=\"anchor\" id=\"top\"></a>\n",
    "* [1. Read file](#section-1)\n",
    "* [2. Fix dates / timesteps](#section-2)\n",
    "* [3. Produce Ecosim TS file](#section-3)\n",
    "* [4. Produce Ecospace TS file](#section-4)\n",
    "* [5. Write to File](#section-5)"
   ]
  },
  {
   "cell_type": "code",
   "execution_count": null,
   "metadata": {},
   "outputs": [],
   "source": [
    "# Set EWE start yr\n",
    "start_year = 1950\n",
    "start_month = 1"
   ]
  },
  {
   "cell_type": "markdown",
   "metadata": {},
   "source": [
    "## 1. Read file <a class=\"anchor\" id=\"section-1\"></a>\n",
    "[BACK TO TOP](#top)"
   ]
  },
  {
   "cell_type": "code",
   "execution_count": 45,
   "metadata": {},
   "outputs": [],
   "source": [
    "import pandas as pd\n",
    "\n",
    "# locations table from the SSMSP SOGDC (may have more lats / lons added than source at RMIS)\n",
    "localpath_in = \"C:/Users/Greig/Sync/6. SSMSP Model/Model Greig/Data/1. Salmon/Hatchery Releases/EPADHatcherReleasesGST\"\n",
    "releases_df = pd.read_csv(localpath_in + \"/MODIFIED/HatcheryRel_TS_ForNextstep.csv\")"
   ]
  },
  {
   "cell_type": "markdown",
   "metadata": {},
   "source": [
    "## 2. Fix dates / timesteps<a class=\"anchor\" id=\"section-2\"></a>\n",
    "[BACK TO TOP](#top)"
   ]
  },
  {
   "cell_type": "code",
   "execution_count": null,
   "metadata": {},
   "outputs": [],
   "source": []
  },
  {
   "cell_type": "code",
   "execution_count": 4,
   "metadata": {},
   "outputs": [
    {
     "name": "stdout",
     "output_type": "stream",
     "text": [
      "Mean weight of non-zero 'AVE_WEIGHT' records, grouped\n",
      "   RELEASE_STAGE_NAME SPECIES_NAME  NONZERO_MEAN_WEIGHT\n",
      "0            Chan Fry      Chinook             0.708333\n",
      "1            Chan Fry         Chum             0.407788\n",
      "2            Chan Fry         Coho             0.723478\n",
      "3            Chan Fry         Pink             0.296386\n",
      "4            Chan Fry      Sockeye             0.136889\n",
      "5          Chan Sm 0+      Chinook             4.267857\n",
      "6          Chan Sm 1+         Coho             9.846262\n",
      "7            Eyed Egg      Chinook             0.100000\n",
      "8            Eyed Egg         Chum             0.128571\n",
      "9            Eyed Egg         Coho             0.107143\n",
      "10           Eyed Egg         Pink             0.040667\n",
      "11           Eyed Egg      Sockeye                  NaN\n",
      "12           Fed Fall      Chinook             9.571864\n",
      "13           Fed Fall         Coho             7.927436\n",
      "14           Fed Fall      Sockeye             6.587838\n",
      "15            Fed Fry      Chinook             2.142764\n",
      "16            Fed Fry         Chum             0.961208\n",
      "17            Fed Fry         Coho             1.777637\n",
      "18            Fed Fry    Cutthroat             5.491579\n",
      "19            Fed Fry         Pink             0.520000\n",
      "20            Fed Fry      Sockeye             1.186864\n",
      "21            Fed Fry    Steelhead             3.534862\n",
      "22          Nat Emerg      Chinook             3.799032\n",
      "23          Nat Emerg         Chum             0.550000\n",
      "24          Nat Emerg         Coho             0.404815\n",
      "25          Nat Emerg    Cutthroat             2.823529\n",
      "26          Nat Emerg      Sockeye             0.000000\n",
      "27          Nat Emerg    Steelhead             0.125238\n",
      "28            Nat Fry      Chinook             1.860000\n",
      "29            Nat Fry         Coho             0.963111\n",
      "30          Nat Sm 0+      Chinook             3.345152\n",
      "31          Nat Sm 1+         Coho            11.303571\n",
      "32          Nat Sm 1+    Steelhead            50.768421\n",
      "33          Nat Sm 2+    Steelhead            43.150000\n",
      "34               Parr    Cutthroat            17.455000\n",
      "35               Parr    Steelhead            16.191212\n",
      "36             Seapen         Chum             1.953425\n",
      "37             Seapen         Pink             1.027927\n",
      "38          Seapen 0+      Chinook             7.072199\n",
      "39          Seapen 1+      Chinook           104.350000\n",
      "40          Seapen 1+         Coho            22.677243\n",
      "41          Seapen 1+    Cutthroat            37.000000\n",
      "42          Seapen 2+         Coho           212.903000\n",
      "43           Smolt 0+      Chinook             5.937350\n",
      "44           Smolt 1+      Chinook            21.309873\n",
      "45           Smolt 1+         Coho            18.924841\n",
      "46           Smolt 1+    Cutthroat            67.460584\n",
      "47           Smolt 1+      Sockeye            39.603019\n",
      "48           Smolt 1+    Steelhead            63.342495\n",
      "49           Smolt 2+    Cutthroat           104.328043\n",
      "50           Smolt 2+    Steelhead            93.078682\n",
      "51              Unfed      Chinook             0.375385\n",
      "52              Unfed         Chum             0.385799\n",
      "53              Unfed         Coho             0.386124\n",
      "54              Unfed    Cutthroat             0.462500\n",
      "55              Unfed         Pink             0.264457\n",
      "56              Unfed      Sockeye             0.210000\n",
      "57              Unfed    Steelhead             0.240000\n"
     ]
    }
   ],
   "source": [
    "nonzero_aveweight = releases_df.loc[(releases_df[\"AVE_WEIGHT\"]!=0)|\n",
    "                (releases_df[\"AVE_WEIGHT\"].notna())].groupby(['RELEASE_STAGE_NAME','SPECIES_NAME'])['AVE_WEIGHT'].mean().reset_index()\n",
    "nonzero_aveweight.rename(columns={'AVE_WEIGHT':'NONZERO_MEAN_WEIGHT'}, inplace=True)\n",
    "print(\"Mean weight of non-zero 'AVE_WEIGHT' records, grouped\")\n",
    "print(nonzero_aveweight)"
   ]
  },
  {
   "cell_type": "code",
   "execution_count": null,
   "metadata": {},
   "outputs": [],
   "source": []
  },
  {
   "cell_type": "code",
   "execution_count": null,
   "metadata": {},
   "outputs": [],
   "source": []
  },
  {
   "cell_type": "markdown",
   "metadata": {},
   "source": [
    "## 3. Produce Ecosim TS file<a class=\"anchor\" id=\"section-3\"></a>\n",
    "[BACK TO TOP](#top)"
   ]
  },
  {
   "cell_type": "code",
   "execution_count": null,
   "metadata": {},
   "outputs": [],
   "source": []
  },
  {
   "cell_type": "code",
   "execution_count": null,
   "metadata": {},
   "outputs": [],
   "source": []
  },
  {
   "cell_type": "code",
   "execution_count": null,
   "metadata": {},
   "outputs": [],
   "source": []
  },
  {
   "cell_type": "code",
   "execution_count": null,
   "metadata": {},
   "outputs": [],
   "source": []
  },
  {
   "cell_type": "code",
   "execution_count": null,
   "metadata": {},
   "outputs": [],
   "source": []
  },
  {
   "cell_type": "code",
   "execution_count": null,
   "metadata": {},
   "outputs": [],
   "source": []
  },
  {
   "cell_type": "code",
   "execution_count": null,
   "metadata": {},
   "outputs": [],
   "source": []
  },
  {
   "cell_type": "code",
   "execution_count": null,
   "metadata": {},
   "outputs": [],
   "source": []
  },
  {
   "cell_type": "code",
   "execution_count": null,
   "metadata": {},
   "outputs": [],
   "source": []
  },
  {
   "cell_type": "code",
   "execution_count": null,
   "metadata": {},
   "outputs": [],
   "source": []
  },
  {
   "cell_type": "markdown",
   "metadata": {},
   "source": [
    "## 4. Produce Ecospace TS files<a class=\"anchor\" id=\"section-4\"></a>\n",
    "[BACK TO TOP](#top)"
   ]
  },
  {
   "cell_type": "code",
   "execution_count": null,
   "metadata": {},
   "outputs": [],
   "source": []
  },
  {
   "cell_type": "code",
   "execution_count": null,
   "metadata": {},
   "outputs": [],
   "source": []
  },
  {
   "cell_type": "code",
   "execution_count": null,
   "metadata": {},
   "outputs": [],
   "source": []
  },
  {
   "cell_type": "code",
   "execution_count": null,
   "metadata": {},
   "outputs": [],
   "source": []
  },
  {
   "cell_type": "code",
   "execution_count": null,
   "metadata": {},
   "outputs": [],
   "source": []
  },
  {
   "cell_type": "code",
   "execution_count": null,
   "metadata": {},
   "outputs": [],
   "source": []
  },
  {
   "cell_type": "code",
   "execution_count": null,
   "metadata": {},
   "outputs": [],
   "source": []
  },
  {
   "cell_type": "code",
   "execution_count": null,
   "metadata": {},
   "outputs": [],
   "source": []
  },
  {
   "cell_type": "code",
   "execution_count": null,
   "metadata": {},
   "outputs": [],
   "source": []
  },
  {
   "cell_type": "code",
   "execution_count": null,
   "metadata": {},
   "outputs": [],
   "source": []
  },
  {
   "cell_type": "code",
   "execution_count": null,
   "metadata": {},
   "outputs": [],
   "source": []
  },
  {
   "cell_type": "code",
   "execution_count": null,
   "metadata": {},
   "outputs": [],
   "source": []
  },
  {
   "cell_type": "code",
   "execution_count": null,
   "metadata": {},
   "outputs": [],
   "source": []
  },
  {
   "cell_type": "code",
   "execution_count": null,
   "metadata": {},
   "outputs": [],
   "source": []
  },
  {
   "cell_type": "code",
   "execution_count": null,
   "metadata": {},
   "outputs": [],
   "source": []
  },
  {
   "cell_type": "code",
   "execution_count": null,
   "metadata": {},
   "outputs": [],
   "source": []
  },
  {
   "cell_type": "code",
   "execution_count": null,
   "metadata": {},
   "outputs": [],
   "source": []
  },
  {
   "cell_type": "code",
   "execution_count": null,
   "metadata": {},
   "outputs": [],
   "source": []
  },
  {
   "cell_type": "code",
   "execution_count": null,
   "metadata": {},
   "outputs": [],
   "source": [
    "\n"
   ]
  },
  {
   "cell_type": "code",
   "execution_count": null,
   "metadata": {},
   "outputs": [],
   "source": []
  },
  {
   "cell_type": "code",
   "execution_count": null,
   "metadata": {},
   "outputs": [],
   "source": []
  },
  {
   "cell_type": "code",
   "execution_count": null,
   "metadata": {},
   "outputs": [],
   "source": []
  },
  {
   "cell_type": "code",
   "execution_count": null,
   "metadata": {},
   "outputs": [],
   "source": []
  },
  {
   "cell_type": "code",
   "execution_count": null,
   "metadata": {},
   "outputs": [],
   "source": []
  },
  {
   "cell_type": "code",
   "execution_count": null,
   "metadata": {},
   "outputs": [],
   "source": []
  },
  {
   "cell_type": "code",
   "execution_count": null,
   "metadata": {},
   "outputs": [],
   "source": []
  },
  {
   "cell_type": "code",
   "execution_count": null,
   "metadata": {},
   "outputs": [],
   "source": []
  },
  {
   "cell_type": "code",
   "execution_count": null,
   "metadata": {},
   "outputs": [],
   "source": []
  },
  {
   "cell_type": "code",
   "execution_count": null,
   "metadata": {},
   "outputs": [],
   "source": []
  },
  {
   "cell_type": "code",
   "execution_count": null,
   "metadata": {},
   "outputs": [],
   "source": []
  },
  {
   "cell_type": "code",
   "execution_count": null,
   "metadata": {},
   "outputs": [],
   "source": []
  },
  {
   "cell_type": "code",
   "execution_count": null,
   "metadata": {},
   "outputs": [],
   "source": []
  }
 ],
 "metadata": {
  "kernelspec": {
   "display_name": "Python 3",
   "language": "python",
   "name": "python3"
  },
  "language_info": {
   "codemirror_mode": {
    "name": "ipython",
    "version": 3
   },
   "file_extension": ".py",
   "mimetype": "text/x-python",
   "name": "python",
   "nbconvert_exporter": "python",
   "pygments_lexer": "ipython3",
   "version": "3.7.4"
  }
 },
 "nbformat": 4,
 "nbformat_minor": 2
}
