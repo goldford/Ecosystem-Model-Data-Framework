{
 "cells": [
  {
   "cell_type": "code",
   "execution_count": null,
   "id": "57f2f722",
   "metadata": {},
   "outputs": [],
   "source": [
    "# Go Jan 2022\n",
    "#\n",
    "# Purpose: combine chl data from measurements in SoG\n",
    "#\n",
    "# Data in:\n",
    "#     1/ data from DFO / IOS downloaded from waterproperties.ca in 2020,\n",
    "#            1979 - 2000\n",
    "#            .CSV\n",
    "#            filtered for any records with chl or flourescence\n",
    "#            converted by Dhavan at PSF in 2020 to CSV\n",
    "#    "
   ]
  }
 ],
 "metadata": {
  "kernelspec": {
   "display_name": "Python 3 (ipykernel)",
   "language": "python",
   "name": "python3"
  },
  "language_info": {
   "codemirror_mode": {
    "name": "ipython",
    "version": 3
   },
   "file_extension": ".py",
   "mimetype": "text/x-python",
   "name": "python",
   "nbconvert_exporter": "python",
   "pygments_lexer": "ipython3",
   "version": "3.7.12"
  }
 },
 "nbformat": 4,
 "nbformat_minor": 5
}
