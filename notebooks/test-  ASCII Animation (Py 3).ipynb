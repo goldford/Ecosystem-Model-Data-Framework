{
 "cells": [
  {
   "cell_type": "code",
   "execution_count": null,
   "metadata": {},
   "outputs": [],
   "source": [
    "# animate ASCII grids\n"
   ]
  },
  {
   "cell_type": "code",
   "execution_count": 4,
   "metadata": {},
   "outputs": [
    {
     "name": "stdout",
     "output_type": "stream",
     "text": [
      "Matplotlib version:\n",
      "3.1.2\n"
     ]
    }
   ],
   "source": [
    "import pandas as pd\n",
    "import numpy as np\n",
    "import os\n",
    "import matplotlib\n",
    "import math\n",
    "print(\"Matplotlib version:\")\n",
    "print(matplotlib.__version__)\n",
    "from matplotlib.animation import FuncAnimation\n",
    "import matplotlib.pyplot as plt\n",
    "import numpy as np\n",
    "from matplotlib.colors import LogNorm\n",
    "\n",
    "#xxxxxxxxxxxxxxxxxxxxxxxxxxxxxxxxxxxxxxxxxxxxxxxxxxxxxxxxxxxxxxxxxxxx\n",
    "#Input Root Directory path\n",
    "CEMInputRoot = \"..//..//data//output//CEM//PP_Nutrient//\"\n",
    "#Output Directory Root path\n",
    "rootOutputDir = \"..//..//data//output//CEM//\"\n",
    "\n",
    "prefix='Surface_Nutrient'\n",
    "separator='_'\n",
    "startyear='1980'\n",
    "startmonth='1'\n",
    "endyear='2014'\n",
    "#xxxxxxxxxxxxxxxxxxxxxxxxxxxxxxxxxxxxxxxxxxxxxxxxxxxxxxxxxxxxxxxxxxxx"
   ]
  },
  {
   "cell_type": "code",
   "execution_count": 5,
   "metadata": {},
   "outputs": [
    {
     "data": {
      "text/plain": [
       "'..//..//data//output//CEM//PP_Nutrient//Surface_Nutrient_1981_1.asc'"
      ]
     },
     "execution_count": 5,
     "metadata": {},
     "output_type": "execute_result"
    }
   ],
   "source": [
    "# test concatenation\n",
    "i=1\n",
    "CEMInputRoot + prefix + separator + str(int(startyear)+i) + separator + startmonth + '.asc'"
   ]
  },
  {
   "cell_type": "code",
   "execution_count": 6,
   "metadata": {},
   "outputs": [
    {
     "data": {
      "image/png": "[encoded data removed]",
      "text/plain": [
       "<Figure size 432x288 with 2 Axes>"
      ]
     },
     "metadata": {
      "needs_background": "light"
     },
     "output_type": "display_data"
    }
   ],
   "source": [
    "# test visual\n",
    "\n",
    "temp_asc = open(CEMInputRoot + prefix + separator + startyear + separator + startmonth + '.asc', 'r')\n",
    "temp_asc\n",
    "i = 0\n",
    "\n",
    "headerlines = []\n",
    "asc_list = []\n",
    "for x in temp_asc:\n",
    "    if i<6:\n",
    "        headerlines.append(x)\n",
    "    else:\n",
    "        x = x.split()\n",
    "        x = [float(j) for j in x]\n",
    "        #x = [1 if j >= 0 else 0 for j in x]\n",
    "        asc_list.append(x)    \n",
    "    i += 1\n",
    "#print(headerlines)\n",
    "#print(template_map_list)\n",
    "\n",
    "npArray_asc = np.array(asc_list)\n",
    "\n",
    "\n",
    "# https://matplotlib.org/tutorials/introductory/images.html\n",
    "# https://stackoverflow.com/questions/15908371/matplotlib-colorbars-and-its-text-labels\n",
    "#colorbar\n",
    "# cbar = plt.colorbar(heatmap)\n",
    "# cbar.ax.set_yticklabels(['0','1','2','>3'])\n",
    "#cbar = fig.colorbar(im)\n",
    "#cbar.set_label('Test', y=0.25)\n",
    "# cbar.set_label('# of contacts', rotation=270)\n",
    "# fig = plt.imshow(npArray_asc,norm=LogNorm())\n",
    "# cbar = fig.colorbar(i)\n",
    "# cbar.set_label('# of contacts', rotation=270)\n",
    "# fig.show()\n",
    "\n",
    "# https://stackoverflow.com/questions/33602042/how-to-move-a-colorbar-label-downward\n",
    "# https://stackoverflow.com/questions/2176424/hiding-axis-text-in-matplotlib-plots\n",
    "fig, ax = plt.subplots()\n",
    "im = ax.imshow(npArray_asc,norm=LogNorm())\n",
    "#ax.get_xaxis().set_visible(False)\n",
    "#ax.get_yaxis().set_visible(False)\n",
    "cbar = fig.colorbar(im, pad =0.05)\n",
    "cbar.set_label('N (mg/L)', rotation=270, y=0.5,labelpad=10)\n",
    "               #orientation=\"horizontal\")\n",
    "plt.show()"
   ]
  },
  {
   "cell_type": "code",
   "execution_count": 38,
   "metadata": {},
   "outputs": [],
   "source": []
  },
  {
   "cell_type": "code",
   "execution_count": 104,
   "metadata": {},
   "outputs": [
    {
     "name": "stdout",
     "output_type": "stream",
     "text": [
      "1981\n"
     ]
    }
   ],
   "source": [
    "#(16/12) - math.trunc(16 /12)\n",
    "i = 12\n",
    "year = math.trunc((i+1)/12) + int(startyear)\n",
    "print(year)"
   ]
  },
  {
   "cell_type": "code",
   "execution_count": 107,
   "metadata": {},
   "outputs": [
    {
     "name": "stderr",
     "output_type": "stream",
     "text": [
      "MovieWriter imagemagick unavailable; trying to use <class 'matplotlib.animation.PillowWriter'> instead.\n",
      "C:\\ProgramData\\Anaconda3\\lib\\site-packages\\matplotlib\\colors.py:1110: RuntimeWarning: invalid value encountered in less_equal\n",
      "  mask |= resdat <= 0\n"
     ]
    }
   ],
   "source": [
    "# animation\n",
    "\n",
    "# https://gist.github.com/vaclavcadek/66c9c61a1fac30150514a665c4bcb5dc\n",
    "fig, ax = plt.subplots(figsize=(5, 8))\n",
    "\n",
    "def update(i):\n",
    "    #print(i)\n",
    "    \n",
    "    month_dec = ((i+1)/12) - math.trunc((i+1)/12)\n",
    "    month = math.trunc(month_dec * 12)+1\n",
    "    year = math.trunc((i+1)/12) + int(startyear)\n",
    "\n",
    "    j=0\n",
    "    temp_asc = open(CEMInputRoot + prefix + separator + str(year) + separator + str(month) + '.asc', 'r')\n",
    "  \n",
    "    headerlines = []\n",
    "    asc_list = []\n",
    "    for x in temp_asc:\n",
    "        if j<6:\n",
    "            headerlines.append(x)\n",
    "        else:\n",
    "            x = x.split()\n",
    "            x = [float(k) for k in x]\n",
    "            x = [np.nan if j == -9999 else j for j in x]\n",
    "            asc_list.append(x)    \n",
    "        j += 1\n",
    "    npArray_asc = np.array(asc_list)\n",
    "      \n",
    "    im = ax.imshow(npArray_asc,norm=LogNorm())\n",
    "    \n",
    "    #ax.get_xaxis().set_visible(False)\n",
    "    #ax.get_yaxis().set_visible(False)\n",
    "    ax.set_title(\"Year: {}\".format(year) + \" Month: {}\".format(month), fontsize=20)\n",
    "    ax.set_axis_off()\n",
    "\n",
    "cbar = fig.colorbar(im, pad =0.05)\n",
    "cbar.set_label('N (mg/L)', rotation=270, y=0.5,labelpad=10)\n",
    "anim = FuncAnimation(fig, update, frames=np.arange(0, 200), interval=200)\n",
    "anim.save('animation_test.gif', dpi=80, writer='imagemagick')\n",
    "plt.close()"
   ]
  },
  {
   "cell_type": "code",
   "execution_count": 28,
   "metadata": {},
   "outputs": [],
   "source": [
    "# alternative\n",
    "# https://stackoverflow.com/questions/60033397/moviewriter-ffmpeg-unavailable-trying-to-use-class-matplotlib-animation-pillo\n",
    "# from matplotlib import pyplot as plt\n",
    "# from celluloid import Camera\n",
    "# import numpy as np\n",
    "\n",
    "# # create figure object\n",
    "# fig = plt.figure()\n",
    "# # load axis box\n",
    "# ax = plt.axes()\n",
    "# # set axis limit\n",
    "# ax.set_ylim(0, 1)\n",
    "# ax.set_xlim(0, 10)\n",
    "\n",
    "# camera = Camera(fig)\n",
    "# for i in range(10):\n",
    "#     ax.scatter(i, np.random.random())\n",
    "#     plt.pause(0.1)\n",
    "#     camera.snap()\n",
    "\n",
    "# animation = camera.animate()\n",
    "# animation.save('animation.gif', writer='PillowWriter', fps=2)"
   ]
  },
  {
   "cell_type": "code",
   "execution_count": null,
   "metadata": {},
   "outputs": [],
   "source": []
  },
  {
   "cell_type": "code",
   "execution_count": null,
   "metadata": {},
   "outputs": [],
   "source": []
  }
 ],
 "metadata": {
  "kernelspec": {
   "display_name": "Python 3 (ipykernel)",
   "language": "python",
   "name": "python3"
  },
  "language_info": {
   "codemirror_mode": {
    "name": "ipython",
    "version": 3
   },
   "file_extension": ".py",
   "mimetype": "text/x-python",
   "name": "python",
   "nbconvert_exporter": "python",
   "pygments_lexer": "ipython3",
   "version": "3.7.12"
  }
 },
 "nbformat": 4,
 "nbformat_minor": 2
}
