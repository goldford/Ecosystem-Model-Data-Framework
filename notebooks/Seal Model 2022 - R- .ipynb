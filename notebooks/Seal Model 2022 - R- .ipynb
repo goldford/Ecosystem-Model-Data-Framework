{
 "cells": [
  {
   "cell_type": "markdown",
   "metadata": {},
   "source": [
    "Last updated: Feb 26, 2021<br>\n",
    "Redoing code so it uses the ASC from Ecospace as basemap for transition matrix / interpolation <br>\n",
    "To do:<br>\n",
    "Next - review what a transition matrix is (Etten, 2014, section 4) and what values\n",
    "are needed in the cost raster. \n",
    "https://gis.stackexchange.com/questions/280593/understanding-the-values-from-transition-layers-produced-by-the-r-package-gdist\n",
    "Generate voronoi using marine cells from Ecospace SHP <br>\n",
    "Find nearest marine cell for each haulout (need code in R for spatial join)<br>\n",
    "    \n",
    "\n",
    "### Relative Foraging Intensity using Inverse Path Distance from Seal Haulout Counts \n",
    "input: Olesiuk et al's (2010) and subsequent seal haulout survey data downloaded from DFO's online portal <br>\n",
    "output: GeoTiffs of seal distribution based on distance to haulouts <br>\n",
    "created: Oct 2019 - Feb 2021<br>\n",
    "author: G Oldford <br>\n",
    "based on: gdistance in R by Etten (2014)\n",
    "\n",
    "#### Purpose: \n",
    "- Calculate on-water (non-euclidean) paths from seal haulouts to surrounding marine areas. \n",
    "- Use cost-path surface to calculate inverse path distance weighting to do this (instead of euclidean) for each cell based on actual distance to haulout, respecting topographical barriers. \n",
    "- Sum and rescale scores for each cell for each haulout. Resulting map layer values sum to one (markov matrix) and can be used to distribute total regional seal biomass from other models or surveys. \n",
    "- To be used in representing distribution as spatial-temporal 'habitat' layers in Ecospace. \n",
    " \n",
    "#### General Steps: \n",
    "1) Import haulout locations and fix issues with the locations (e.g., erroneous lat / lons) <br>\n",
    "2) Wrangle the haulout data by interpolating between years, fix multiple surveys per year by taking mean <br>\n",
    "3) Import bathymetry and recode to use as a 'cost' layer <br>\n",
    "4) Ensure the map projections are correct so the haulout points and cost layer actually overlap <br>\n",
    "5) Main code loop <br>\n",
    " - creates a travel 'cost' raster layer for each haulout\n",
    " - converts the 'cost' to an inverse on-the-water distance grid\n",
    " - rescale the grid cell values to sum to 1 for each haulout\n",
    " - use the estimated seal abundance at each haulout as measure of relative haulout size to weight the grid cell values\n",
    " - sum all haulout rasters using a 'map algebra' approach\n",
    " - rescale the grid cell values to 1 in the final raster\n",
    " - use the resulting raster with annual regional abundance estimates to distribute seals spatially in Ecospace\n",
    " \n",
    " #### to do: \n",
    " - add in haulout time series for san juan islands (Jeffries et al)\n",
    " - completed: if haulout landlocked, causes issues... need manual edits to haulout locations\n",
    " - completed: some years a single haulout was surveyed twice? Need to take mean.\n",
    " - completed: surveys done sporadically - need to interpolate each haulout between survey years to fill in missing years\n",
    " - completed: surveys were done for regions annually and so the whole dataset can't be interpolated at once, it has to be for each region - or the data need to be interpolated so there is a haulout estimate each year for each haulout, rather than gaps. See table in write-up. \n",
    " - run for all years\n",
    " - completed: decide whether to output NAs instead of zeros\n",
    " \n",
    " ## TOC: <a class=\"anchor\" id=\"top\"></a>\n",
    "* [1. Read haulout locations, fix issues](#section-1)\n",
    "* [2. Spatial projections](#section-2)\n",
    "    * [2a).](#section-2a)\n",
    "    * [2b). ](#section-2b)\n",
    "        * [2b)i.](#section-2bi)\n",
    "        * [2b)ii.](#section-2bii)\n",
    "* [3. Interpolation](#section-3)\n",
    "    \n",
    "* [4. ](#section-4)\n",
    "* [Crosschecks and experiments](#section-5)"
   ]
  },
  {
   "cell_type": "code",
   "execution_count": null,
   "metadata": {},
   "outputs": [],
   "source": [
    "# to install r packages from notebook\n",
    "#install.packages(\"magick\", repos='http://cran.us.r-project.org')"
   ]
  },
  {
   "cell_type": "code",
   "execution_count": 1,
   "metadata": {},
   "outputs": [
    {
     "name": "stderr",
     "output_type": "stream",
     "text": [
      "Loading required package: gdistance\n",
      "Loading required package: raster\n",
      "Loading required package: sp\n",
      "Loading required package: igraph\n",
      "\n",
      "Attaching package: 'igraph'\n",
      "\n",
      "The following object is masked from 'package:raster':\n",
      "\n",
      "    union\n",
      "\n",
      "The following objects are masked from 'package:stats':\n",
      "\n",
      "    decompose, spectrum\n",
      "\n",
      "The following object is masked from 'package:base':\n",
      "\n",
      "    union\n",
      "\n",
      "Loading required package: Matrix\n",
      "\n",
      "Attaching package: 'gdistance'\n",
      "\n",
      "The following object is masked from 'package:igraph':\n",
      "\n",
      "    normalize\n",
      "\n",
      "rgdal: version: 1.4-6, (SVN revision 841)\n",
      " Geospatial Data Abstraction Library extensions to R successfully loaded\n",
      " Loaded GDAL runtime: GDAL 2.2.3, released 2017/11/20\n",
      " Path to GDAL shared files: C:/Users/Greig/Documents/R/win-library/3.6/rgdal/gdal\n",
      " GDAL binary built with GEOS: TRUE \n",
      " Loaded PROJ.4 runtime: Rel. 4.9.3, 15 August 2016, [PJ_VERSION: 493]\n",
      " Path to PROJ.4 shared files: C:/Users/Greig/Documents/R/win-library/3.6/rgdal/proj\n",
      " Linking to sp version: 1.3-1 \n",
      "Linking to GEOS 3.6.1, GDAL 2.2.3, PROJ 4.9.3\n",
      "\n",
      "Attaching package: 'dplyr'\n",
      "\n",
      "The following objects are masked from 'package:igraph':\n",
      "\n",
      "    as_data_frame, groups, union\n",
      "\n",
      "The following objects are masked from 'package:raster':\n",
      "\n",
      "    intersect, select, union\n",
      "\n",
      "The following objects are masked from 'package:stats':\n",
      "\n",
      "    filter, lag\n",
      "\n",
      "The following objects are masked from 'package:base':\n",
      "\n",
      "    intersect, setdiff, setequal, union\n",
      "\n",
      "\n",
      "Attaching package: 'zoo'\n",
      "\n",
      "The following objects are masked from 'package:base':\n",
      "\n",
      "    as.Date, as.Date.numeric\n",
      "\n",
      "-- \u001b[1mAttaching packages\u001b[22m --------------------------------------- tidyverse 1.3.0 --\n",
      "\u001b[32mv\u001b[39m \u001b[34mtibble \u001b[39m 2.1.3     \u001b[32mv\u001b[39m \u001b[34mpurrr  \u001b[39m 0.3.4\n",
      "\u001b[32mv\u001b[39m \u001b[34mtidyr  \u001b[39m 1.1.2     \u001b[32mv\u001b[39m \u001b[34mstringr\u001b[39m 1.4.0\n",
      "\u001b[32mv\u001b[39m \u001b[34mreadr  \u001b[39m 1.3.1     \u001b[32mv\u001b[39m \u001b[34mforcats\u001b[39m 0.4.0\n",
      "-- \u001b[1mConflicts\u001b[22m ------------------------------------------ tidyverse_conflicts() --\n",
      "\u001b[31mx\u001b[39m \u001b[34mtibble\u001b[39m::\u001b[32mas_data_frame()\u001b[39m masks \u001b[34mdplyr\u001b[39m::as_data_frame(), \u001b[34migraph\u001b[39m::as_data_frame()\n",
      "\u001b[31mx\u001b[39m \u001b[34mpurrr\u001b[39m::\u001b[32mcompose()\u001b[39m        masks \u001b[34migraph\u001b[39m::compose()\n",
      "\u001b[31mx\u001b[39m \u001b[34mtidyr\u001b[39m::\u001b[32mcrossing()\u001b[39m       masks \u001b[34migraph\u001b[39m::crossing()\n",
      "\u001b[31mx\u001b[39m \u001b[34mtidyr\u001b[39m::\u001b[32mexpand()\u001b[39m         masks \u001b[34mMatrix\u001b[39m::expand()\n",
      "\u001b[31mx\u001b[39m \u001b[34mtidyr\u001b[39m::\u001b[32mextract()\u001b[39m        masks \u001b[34mraster\u001b[39m::extract()\n",
      "\u001b[31mx\u001b[39m \u001b[34mdplyr\u001b[39m::\u001b[32mfilter()\u001b[39m         masks \u001b[34mstats\u001b[39m::filter()\n",
      "\u001b[31mx\u001b[39m \u001b[34mdplyr\u001b[39m::\u001b[32mgroups()\u001b[39m         masks \u001b[34migraph\u001b[39m::groups()\n",
      "\u001b[31mx\u001b[39m \u001b[34mdplyr\u001b[39m::\u001b[32mlag()\u001b[39m            masks \u001b[34mstats\u001b[39m::lag()\n",
      "\u001b[31mx\u001b[39m \u001b[34mtidyr\u001b[39m::\u001b[32mpack()\u001b[39m           masks \u001b[34mMatrix\u001b[39m::pack()\n",
      "\u001b[31mx\u001b[39m \u001b[34mdplyr\u001b[39m::\u001b[32mselect()\u001b[39m         masks \u001b[34mraster\u001b[39m::select()\n",
      "\u001b[31mx\u001b[39m \u001b[34mpurrr\u001b[39m::\u001b[32msimplify()\u001b[39m       masks \u001b[34migraph\u001b[39m::simplify()\n",
      "\u001b[31mx\u001b[39m \u001b[34mtidyr\u001b[39m::\u001b[32munpack()\u001b[39m         masks \u001b[34mMatrix\u001b[39m::unpack()\n"
     ]
    }
   ],
   "source": [
    "library(ipdw) # library for inverse path distance weighting\n",
    "#https://github.com/jsta/ipdw/blob/master/R/pathdistGen.R\n",
    "\n",
    "library(rgdal)\n",
    "library(raster)\n",
    "library(sp)\n",
    "library(ncdf4)\n",
    "library(sf) # reads CSV as 'simple features' (spatial)\n",
    "library(ggplot2) # visualize\n",
    "library(rnaturalearth)\n",
    "library(rnaturalearthdata)\n",
    "library(dplyr)\n",
    "library(zoom)\n",
    "library(zoo) #for na.approx\n",
    "library(tidyverse)\n",
    "# to do: the 'janitor' library may make cleaning data far easier"
   ]
  },
  {
   "cell_type": "code",
   "execution_count": 97,
   "metadata": {},
   "outputs": [],
   "source": [
    "hl_df <- read.csv(\"C:/Users/Greig/Sync/6. SSMSP Model/Model Greig/Data/2. Seals/AbundanceLocations_Olesiuketal/MODIFIED/Harbour_Seal_Counts_from_Strait_of_Georgia_Haulout_Locations.csv\")\n",
    "h2_df <- read.csv(\"C:/Users/Greig/Sync/6. SSMSP Model/Model Greig/Data/2. Seals/Abundance_Jeffries2003/MODIFIED/MatchedCountsWithHaulouts.csv\")\n",
    "#\n",
    "#hl_pts <- st_read(\"../AbundanceLocations_Olesiuketal/MODIFIED/Harbour_Seal_Counts_from_Strait_of_Georgia_Haulout_Locations.csv\", options=c(\"X_POSSIBLE_NAMES=Longitude\",\"Y_POSSIBLE_NAMES=Latitude\"))\n",
    "\n",
    "# bathy file for travel cost layer \n",
    "ncpath <- \"../../NEMO-Salish-Sea-2021/data/bathymetry/\"\n",
    "#ncname <- \"Bathymetry_1km\"\n",
    "ncname <- \"bathy_salishsea_20211130_1500m_20210706\"\n",
    "dname <- \"bathymetry\""
   ]
  },
  {
   "cell_type": "markdown",
   "metadata": {},
   "source": [
    "### 1) Read haulout locations file and fix issues\n",
    " <a class=\"anchor\" id=\"section-1\"></a>\n",
    "[BACK TO TOP](#top)"
   ]
  },
  {
   "cell_type": "markdown",
   "metadata": {},
   "source": [
    "#### Fix issues with haulout data for non-survey years and years with multiple surveys"
   ]
  },
  {
   "cell_type": "code",
   "execution_count": 54,
   "metadata": {},
   "outputs": [
    {
     "data": {
      "text/html": [
       "'list'"
      ],
      "text/latex": [
       "'list'"
      ],
      "text/markdown": [
       "'list'"
      ],
      "text/plain": [
       "[1] \"list\""
      ]
     },
     "metadata": {},
     "output_type": "display_data"
    },
    {
     "name": "stderr",
     "output_type": "stream",
     "text": [
      "Warning message in eval(expr, envir, enclos):\n",
      "\"NAs introduced by coercion\"`summarise()` regrouping output by 'Site.Key' (override with `.groups` argument)\n"
     ]
    },
    {
     "data": {
      "text/html": [
       "<table>\n",
       "<caption>A tibble: 4154 × 9</caption>\n",
       "<thead>\n",
       "\t<tr><th scope=col>Site.Key</th><th scope=col>Location.Value</th><th scope=col>Location.Info</th><th scope=col>Latitude</th><th scope=col>Longitude</th><th scope=col>Date</th><th scope=col>Count</th><th scope=col>Date.1</th><th scope=col>Mean</th></tr>\n",
       "\t<tr><th scope=col>&lt;fct&gt;</th><th scope=col>&lt;fct&gt;</th><th scope=col>&lt;fct&gt;</th><th scope=col>&lt;dbl&gt;</th><th scope=col>&lt;dbl&gt;</th><th scope=col>&lt;fct&gt;</th><th scope=col>&lt;dbl&gt;</th><th scope=col>&lt;int&gt;</th><th scope=col>&lt;dbl&gt;</th></tr>\n",
       "</thead>\n",
       "<tbody>\n",
       "\t<tr><td>H0001</td><td>West Bentinck Island Reefs</td><td>South Gulf</td><td>48.3125</td><td>-123.5499</td><td> 1973-06-13</td><td>  1.0000</td><td>1973</td><td>      NA</td></tr>\n",
       "\t<tr><td>H0001</td><td>West Bentinck Island Reefs</td><td>South Gulf</td><td>48.3125</td><td>-123.5499</td><td> 1974-08-14</td><td> 13.0000</td><td>1974</td><td>      NA</td></tr>\n",
       "\t<tr><td>H0001</td><td>West Bentinck Island Reefs</td><td>South Gulf</td><td>48.3125</td><td>-123.5499</td><td> 1976-08-12</td><td> 35.0000</td><td>1976</td><td>      NA</td></tr>\n",
       "\t<tr><td>H0001</td><td>West Bentinck Island Reefs</td><td>South Gulf</td><td>48.3125</td><td>-123.5499</td><td> 1982-08-16</td><td> 54.0000</td><td>1982</td><td>      NA</td></tr>\n",
       "\t<tr><td>H0001</td><td>West Bentinck Island Reefs</td><td>South Gulf</td><td>48.3125</td><td>-123.5499</td><td> 1986-08-16</td><td> 94.0000</td><td>1986</td><td>      NA</td></tr>\n",
       "\t<tr><td>H0001</td><td>West Bentinck Island Reefs</td><td>South Gulf</td><td>48.3125</td><td>-123.5499</td><td> 1988-05-31</td><td>106.3333</td><td>1988</td><td>106.3333</td></tr>\n",
       "\t<tr><td>H0001</td><td>West Bentinck Island Reefs</td><td>South Gulf</td><td>48.3125</td><td>-123.5499</td><td> 1989-03-08</td><td> 23.0000</td><td>1989</td><td>      NA</td></tr>\n",
       "\t<tr><td>H0001</td><td>West Bentinck Island Reefs</td><td>South Gulf</td><td>48.3125</td><td>-123.5499</td><td> 1990-08-07</td><td>174.0000</td><td>1990</td><td>      NA</td></tr>\n",
       "\t<tr><td>H0001</td><td>West Bentinck Island Reefs</td><td>South Gulf</td><td>48.3125</td><td>-123.5499</td><td> 1994-08-21</td><td> 76.0000</td><td>1994</td><td>      NA</td></tr>\n",
       "\t<tr><td>H0001</td><td>West Bentinck Island Reefs</td><td>South Gulf</td><td>48.3125</td><td>-123.5499</td><td> 1996-07-31</td><td>412.0000</td><td>1996</td><td>      NA</td></tr>\n",
       "\t<tr><td>H0001</td><td>West Bentinck Island Reefs</td><td>South Gulf</td><td>48.3125</td><td>-123.5499</td><td> 1998-09-06</td><td>173.0000</td><td>1998</td><td>      NA</td></tr>\n",
       "\t<tr><td>H0001</td><td>West Bentinck Island Reefs</td><td>South Gulf</td><td>48.3125</td><td>-123.5499</td><td> 2000-08-31</td><td> 90.0000</td><td>2000</td><td>      NA</td></tr>\n",
       "\t<tr><td>H0001</td><td>West Bentinck Island Reefs</td><td>South Gulf</td><td>48.3125</td><td>-123.5499</td><td> 2003-08-26</td><td>380.0000</td><td>2003</td><td>      NA</td></tr>\n",
       "\t<tr><td>H0001</td><td>West Bentinck Island Reefs</td><td>South Gulf</td><td>48.3125</td><td>-123.5499</td><td> 2008-08-01</td><td>145.0000</td><td>2008</td><td>      NA</td></tr>\n",
       "\t<tr><td>H0001</td><td>West Bentinck Island Reefs</td><td>South Gulf</td><td>48.3125</td><td>-123.5499</td><td> 2014-08-12</td><td>183.0000</td><td>2014</td><td>      NA</td></tr>\n",
       "\t<tr><td>H0002</td><td>Race Rocks                </td><td>South Gulf</td><td>48.2984</td><td>-123.5306</td><td> 1973-06-13</td><td>158.0000</td><td>1973</td><td>      NA</td></tr>\n",
       "\t<tr><td>H0002</td><td>Race Rocks                </td><td>South Gulf</td><td>48.2984</td><td>-123.5306</td><td> 1974-08-14</td><td>304.0000</td><td>1974</td><td>      NA</td></tr>\n",
       "\t<tr><td>H0002</td><td>Race Rocks                </td><td>South Gulf</td><td>48.2984</td><td>-123.5306</td><td> 1976-08-12</td><td>195.0000</td><td>1976</td><td>      NA</td></tr>\n",
       "\t<tr><td>H0002</td><td>Race Rocks                </td><td>South Gulf</td><td>48.2984</td><td>-123.5306</td><td> 1982-08-16</td><td>290.0000</td><td>1982</td><td>      NA</td></tr>\n",
       "\t<tr><td>H0002</td><td>Race Rocks                </td><td>South Gulf</td><td>48.2984</td><td>-123.5306</td><td> 1986-08-16</td><td>216.0000</td><td>1986</td><td>216.0000</td></tr>\n",
       "\t<tr><td>H0002</td><td>Race Rocks                </td><td>South Gulf</td><td>48.2984</td><td>-123.5306</td><td> 1987-10-23</td><td> 45.0000</td><td>1987</td><td>      NA</td></tr>\n",
       "\t<tr><td>H0002</td><td>Race Rocks                </td><td>South Gulf</td><td>48.2984</td><td>-123.5306</td><td> 1988-05-31</td><td>314.0000</td><td>1988</td><td>314.0000</td></tr>\n",
       "\t<tr><td>H0002</td><td>Race Rocks                </td><td>South Gulf</td><td>48.2984</td><td>-123.5306</td><td> 1989-03-08</td><td> 60.0000</td><td>1989</td><td>      NA</td></tr>\n",
       "\t<tr><td>H0002</td><td>Race Rocks                </td><td>South Gulf</td><td>48.2984</td><td>-123.5306</td><td> 1990-08-07</td><td>617.0000</td><td>1990</td><td>      NA</td></tr>\n",
       "\t<tr><td>H0002</td><td>Race Rocks                </td><td>South Gulf</td><td>48.2984</td><td>-123.5306</td><td> 1994-08-21</td><td>485.0000</td><td>1994</td><td>      NA</td></tr>\n",
       "\t<tr><td>H0002</td><td>Race Rocks                </td><td>South Gulf</td><td>48.2984</td><td>-123.5306</td><td> 1996-07-31</td><td>858.0000</td><td>1996</td><td>      NA</td></tr>\n",
       "\t<tr><td>H0002</td><td>Race Rocks                </td><td>South Gulf</td><td>48.2984</td><td>-123.5306</td><td> 1998-09-06</td><td>359.0000</td><td>1998</td><td>      NA</td></tr>\n",
       "\t<tr><td>H0002</td><td>Race Rocks                </td><td>South Gulf</td><td>48.2984</td><td>-123.5306</td><td> 2000-08-31</td><td>387.0000</td><td>2000</td><td>      NA</td></tr>\n",
       "\t<tr><td>H0002</td><td>Race Rocks                </td><td>South Gulf</td><td>48.2984</td><td>-123.5306</td><td> 2003-08-26</td><td>570.0000</td><td>2003</td><td>      NA</td></tr>\n",
       "\t<tr><td>H0002</td><td>Race Rocks                </td><td>South Gulf</td><td>48.2984</td><td>-123.5306</td><td> 2008-08-01</td><td>306.0000</td><td>2008</td><td>      NA</td></tr>\n",
       "\t<tr><td>...</td><td>...</td><td>...</td><td>...</td><td>...</td><td>...</td><td>...</td><td>...</td><td>...</td></tr>\n",
       "\t<tr><td>H1493</td><td>South Grouse Island        </td><td>North East Gulf</td><td>50.0461</td><td>-125.2249</td><td> 2014-08-10</td><td>  9</td><td>2014</td><td>NA</td></tr>\n",
       "\t<tr><td>H1494</td><td>Ashworth Point             </td><td>North East Gulf</td><td>49.9575</td><td>-124.9166</td><td> 2008-08-15</td><td> 89</td><td>2008</td><td>NA</td></tr>\n",
       "\t<tr><td>H1494</td><td>Ashworth Point             </td><td>North East Gulf</td><td>49.9575</td><td>-124.9166</td><td> 2014-08-10</td><td>199</td><td>2014</td><td>NA</td></tr>\n",
       "\t<tr><td>H1495</td><td>Guide Islets               </td><td>North East Gulf</td><td>50.0780</td><td>-125.0148</td><td> 2008-08-15</td><td> 91</td><td>2008</td><td>NA</td></tr>\n",
       "\t<tr><td>H1495</td><td>Guide Islets               </td><td>North East Gulf</td><td>50.0780</td><td>-125.0148</td><td> 2014-08-10</td><td> 30</td><td>2014</td><td>NA</td></tr>\n",
       "\t<tr><td>H1496</td><td>North Subtle Islands       </td><td>North East Gulf</td><td>50.1251</td><td>-125.0816</td><td> 2008-08-15</td><td> 27</td><td>2008</td><td>NA</td></tr>\n",
       "\t<tr><td>H1496</td><td>North Subtle Islands       </td><td>North East Gulf</td><td>50.1251</td><td>-125.0816</td><td> 2014-08-10</td><td>  0</td><td>2014</td><td>NA</td></tr>\n",
       "\t<tr><td>H1502</td><td>Tswassen                   </td><td>Fraser River   </td><td>49.0256</td><td> 123.1308</td><td> 2014-08-07</td><td> 13</td><td>2014</td><td>NA</td></tr>\n",
       "\t<tr><td>H1503</td><td>Central Roberts Bank Site L</td><td>Fraser River   </td><td>49.0406</td><td> 123.2047</td><td> 2014-08-07</td><td> 24</td><td>2014</td><td>NA</td></tr>\n",
       "\t<tr><td>H1504</td><td>Passage Island             </td><td>Howe Sound     </td><td>49.3396</td><td> 123.3059</td><td> 2014-08-07</td><td> 20</td><td>2014</td><td>NA</td></tr>\n",
       "\t<tr><td>H1505</td><td>Strip Creek                </td><td>Howe Sound     </td><td>49.4164</td><td> 123.2355</td><td> 2014-08-07</td><td>  5</td><td>2014</td><td>NA</td></tr>\n",
       "\t<tr><td>H1506</td><td>Williams Island            </td><td>North East Gulf</td><td>49.6295</td><td> 124.0608</td><td> 2014-08-08</td><td>  7</td><td>2014</td><td>NA</td></tr>\n",
       "\t<tr><td>H1507</td><td>Pearson                    </td><td>North East Gulf</td><td>49.6294</td><td> 124.0835</td><td> 2014-08-08</td><td> 15</td><td>2014</td><td>NA</td></tr>\n",
       "\t<tr><td>H1508</td><td>Oyster Island              </td><td>North East Gulf</td><td>49.7218</td><td> 124.2185</td><td> 2014-08-08</td><td>  9</td><td>2014</td><td>NA</td></tr>\n",
       "\t<tr><td>H1509</td><td>Eagle Cove                 </td><td>North East Gulf</td><td>49.7725</td><td> 124.5743</td><td> 2014-08-08</td><td>  6</td><td>2014</td><td>NA</td></tr>\n",
       "\t<tr><td>H1510</td><td>Southwest Texada Island B  </td><td>North East Gulf</td><td>49.5116</td><td> 124.1816</td><td> 2014-08-08</td><td> 11</td><td>2014</td><td>NA</td></tr>\n",
       "\t<tr><td>H1511</td><td>Circle Island              </td><td>North East Gulf</td><td>49.4911</td><td> 124.1784</td><td> 2014-08-08</td><td> 28</td><td>2014</td><td>NA</td></tr>\n",
       "\t<tr><td>H1512</td><td>Avery Reef                 </td><td>North East Gulf</td><td>49.5058</td><td> 124.2576</td><td> 2014-08-08</td><td> 63</td><td>2014</td><td>NA</td></tr>\n",
       "\t<tr><td>H1513</td><td>Anderson Creek             </td><td>North East Gulf</td><td>49.6378</td><td> 123.8466</td><td> 2014-08-22</td><td> 79</td><td>2014</td><td>NA</td></tr>\n",
       "\t<tr><td>H1514</td><td>Salmon Inlet               </td><td>North East Gulf</td><td>49.6504</td><td> 123.6731</td><td> 2014-08-22</td><td> 27</td><td>2014</td><td>NA</td></tr>\n",
       "\t<tr><td>H1515</td><td>Carlson Point              </td><td>North East Gulf</td><td>49.5348</td><td> 123.7931</td><td> 2014-08-22</td><td> 35</td><td>2014</td><td>NA</td></tr>\n",
       "\t<tr><td>H1516</td><td>Carlson Reef               </td><td>North East Gulf</td><td>49.5257</td><td> 123.7950</td><td> 2014-08-22</td><td> 15</td><td>2014</td><td>NA</td></tr>\n",
       "\t<tr><td>H1517</td><td>Sechelt Islets             </td><td>North East Gulf</td><td>49.7397</td><td> 123.8989</td><td> 2014-08-10</td><td> 11</td><td>2014</td><td>NA</td></tr>\n",
       "\t<tr><td>H1518</td><td>Captain Island             </td><td>North East Gulf</td><td>49.7888</td><td> 123.9968</td><td> 2014-08-10</td><td> 35</td><td>2014</td><td>NA</td></tr>\n",
       "\t<tr><td>H1519</td><td>Sykes Island               </td><td>North East Gulf</td><td>49.8166</td><td> 124.0823</td><td> 2014-08-10</td><td> 36</td><td>2014</td><td>NA</td></tr>\n",
       "\t<tr><td>H1520</td><td>Heather Islets             </td><td>North East Gulf</td><td>50.0855</td><td> 125.0293</td><td> 2014-08-10</td><td>  8</td><td>2014</td><td>NA</td></tr>\n",
       "\t<tr><td>H1521</td><td>Dunsterville Islet         </td><td>North East Gulf</td><td>50.1455</td><td> 125.1640</td><td> 2014-08-10</td><td> 21</td><td>2014</td><td>NA</td></tr>\n",
       "\t<tr><td>H1522</td><td>Sansum Point               </td><td>Gulf Islands   </td><td>48.7799</td><td> 123.5587</td><td> 2014-08-22</td><td> 14</td><td>2014</td><td>NA</td></tr>\n",
       "\t<tr><td>H1523</td><td>Andaje Point               </td><td>Gulf Islands   </td><td>48.9072</td><td> 123.3595</td><td> 2014-08-21</td><td> 10</td><td>2014</td><td>NA</td></tr>\n",
       "\t<tr><td>H1524</td><td>Mayne Island               </td><td>Gulf Islands   </td><td>48.8576</td><td> 123.3396</td><td> 2014-08-21</td><td> 10</td><td>2014</td><td>NA</td></tr>\n",
       "</tbody>\n",
       "</table>\n"
      ],
      "text/latex": [
       "A tibble: 4154 × 9\n",
       "\\begin{tabular}{r|lllllllll}\n",
       " Site.Key & Location.Value & Location.Info & Latitude & Longitude & Date & Count & Date.1 & Mean\\\\\n",
       " <fct> & <fct> & <fct> & <dbl> & <dbl> & <fct> & <dbl> & <int> & <dbl>\\\\\n",
       "\\hline\n",
       "\t H0001 & West Bentinck Island Reefs & South Gulf & 48.3125 & -123.5499 &  1973-06-13 &   1.0000 & 1973 &       NA\\\\\n",
       "\t H0001 & West Bentinck Island Reefs & South Gulf & 48.3125 & -123.5499 &  1974-08-14 &  13.0000 & 1974 &       NA\\\\\n",
       "\t H0001 & West Bentinck Island Reefs & South Gulf & 48.3125 & -123.5499 &  1976-08-12 &  35.0000 & 1976 &       NA\\\\\n",
       "\t H0001 & West Bentinck Island Reefs & South Gulf & 48.3125 & -123.5499 &  1982-08-16 &  54.0000 & 1982 &       NA\\\\\n",
       "\t H0001 & West Bentinck Island Reefs & South Gulf & 48.3125 & -123.5499 &  1986-08-16 &  94.0000 & 1986 &       NA\\\\\n",
       "\t H0001 & West Bentinck Island Reefs & South Gulf & 48.3125 & -123.5499 &  1988-05-31 & 106.3333 & 1988 & 106.3333\\\\\n",
       "\t H0001 & West Bentinck Island Reefs & South Gulf & 48.3125 & -123.5499 &  1989-03-08 &  23.0000 & 1989 &       NA\\\\\n",
       "\t H0001 & West Bentinck Island Reefs & South Gulf & 48.3125 & -123.5499 &  1990-08-07 & 174.0000 & 1990 &       NA\\\\\n",
       "\t H0001 & West Bentinck Island Reefs & South Gulf & 48.3125 & -123.5499 &  1994-08-21 &  76.0000 & 1994 &       NA\\\\\n",
       "\t H0001 & West Bentinck Island Reefs & South Gulf & 48.3125 & -123.5499 &  1996-07-31 & 412.0000 & 1996 &       NA\\\\\n",
       "\t H0001 & West Bentinck Island Reefs & South Gulf & 48.3125 & -123.5499 &  1998-09-06 & 173.0000 & 1998 &       NA\\\\\n",
       "\t H0001 & West Bentinck Island Reefs & South Gulf & 48.3125 & -123.5499 &  2000-08-31 &  90.0000 & 2000 &       NA\\\\\n",
       "\t H0001 & West Bentinck Island Reefs & South Gulf & 48.3125 & -123.5499 &  2003-08-26 & 380.0000 & 2003 &       NA\\\\\n",
       "\t H0001 & West Bentinck Island Reefs & South Gulf & 48.3125 & -123.5499 &  2008-08-01 & 145.0000 & 2008 &       NA\\\\\n",
       "\t H0001 & West Bentinck Island Reefs & South Gulf & 48.3125 & -123.5499 &  2014-08-12 & 183.0000 & 2014 &       NA\\\\\n",
       "\t H0002 & Race Rocks                 & South Gulf & 48.2984 & -123.5306 &  1973-06-13 & 158.0000 & 1973 &       NA\\\\\n",
       "\t H0002 & Race Rocks                 & South Gulf & 48.2984 & -123.5306 &  1974-08-14 & 304.0000 & 1974 &       NA\\\\\n",
       "\t H0002 & Race Rocks                 & South Gulf & 48.2984 & -123.5306 &  1976-08-12 & 195.0000 & 1976 &       NA\\\\\n",
       "\t H0002 & Race Rocks                 & South Gulf & 48.2984 & -123.5306 &  1982-08-16 & 290.0000 & 1982 &       NA\\\\\n",
       "\t H0002 & Race Rocks                 & South Gulf & 48.2984 & -123.5306 &  1986-08-16 & 216.0000 & 1986 & 216.0000\\\\\n",
       "\t H0002 & Race Rocks                 & South Gulf & 48.2984 & -123.5306 &  1987-10-23 &  45.0000 & 1987 &       NA\\\\\n",
       "\t H0002 & Race Rocks                 & South Gulf & 48.2984 & -123.5306 &  1988-05-31 & 314.0000 & 1988 & 314.0000\\\\\n",
       "\t H0002 & Race Rocks                 & South Gulf & 48.2984 & -123.5306 &  1989-03-08 &  60.0000 & 1989 &       NA\\\\\n",
       "\t H0002 & Race Rocks                 & South Gulf & 48.2984 & -123.5306 &  1990-08-07 & 617.0000 & 1990 &       NA\\\\\n",
       "\t H0002 & Race Rocks                 & South Gulf & 48.2984 & -123.5306 &  1994-08-21 & 485.0000 & 1994 &       NA\\\\\n",
       "\t H0002 & Race Rocks                 & South Gulf & 48.2984 & -123.5306 &  1996-07-31 & 858.0000 & 1996 &       NA\\\\\n",
       "\t H0002 & Race Rocks                 & South Gulf & 48.2984 & -123.5306 &  1998-09-06 & 359.0000 & 1998 &       NA\\\\\n",
       "\t H0002 & Race Rocks                 & South Gulf & 48.2984 & -123.5306 &  2000-08-31 & 387.0000 & 2000 &       NA\\\\\n",
       "\t H0002 & Race Rocks                 & South Gulf & 48.2984 & -123.5306 &  2003-08-26 & 570.0000 & 2003 &       NA\\\\\n",
       "\t H0002 & Race Rocks                 & South Gulf & 48.2984 & -123.5306 &  2008-08-01 & 306.0000 & 2008 &       NA\\\\\n",
       "\t ... & ... & ... & ... & ... & ... & ... & ... & ...\\\\\n",
       "\t H1493 & South Grouse Island         & North East Gulf & 50.0461 & -125.2249 &  2014-08-10 &   9 & 2014 & NA\\\\\n",
       "\t H1494 & Ashworth Point              & North East Gulf & 49.9575 & -124.9166 &  2008-08-15 &  89 & 2008 & NA\\\\\n",
       "\t H1494 & Ashworth Point              & North East Gulf & 49.9575 & -124.9166 &  2014-08-10 & 199 & 2014 & NA\\\\\n",
       "\t H1495 & Guide Islets                & North East Gulf & 50.0780 & -125.0148 &  2008-08-15 &  91 & 2008 & NA\\\\\n",
       "\t H1495 & Guide Islets                & North East Gulf & 50.0780 & -125.0148 &  2014-08-10 &  30 & 2014 & NA\\\\\n",
       "\t H1496 & North Subtle Islands        & North East Gulf & 50.1251 & -125.0816 &  2008-08-15 &  27 & 2008 & NA\\\\\n",
       "\t H1496 & North Subtle Islands        & North East Gulf & 50.1251 & -125.0816 &  2014-08-10 &   0 & 2014 & NA\\\\\n",
       "\t H1502 & Tswassen                    & Fraser River    & 49.0256 &  123.1308 &  2014-08-07 &  13 & 2014 & NA\\\\\n",
       "\t H1503 & Central Roberts Bank Site L & Fraser River    & 49.0406 &  123.2047 &  2014-08-07 &  24 & 2014 & NA\\\\\n",
       "\t H1504 & Passage Island              & Howe Sound      & 49.3396 &  123.3059 &  2014-08-07 &  20 & 2014 & NA\\\\\n",
       "\t H1505 & Strip Creek                 & Howe Sound      & 49.4164 &  123.2355 &  2014-08-07 &   5 & 2014 & NA\\\\\n",
       "\t H1506 & Williams Island             & North East Gulf & 49.6295 &  124.0608 &  2014-08-08 &   7 & 2014 & NA\\\\\n",
       "\t H1507 & Pearson                     & North East Gulf & 49.6294 &  124.0835 &  2014-08-08 &  15 & 2014 & NA\\\\\n",
       "\t H1508 & Oyster Island               & North East Gulf & 49.7218 &  124.2185 &  2014-08-08 &   9 & 2014 & NA\\\\\n",
       "\t H1509 & Eagle Cove                  & North East Gulf & 49.7725 &  124.5743 &  2014-08-08 &   6 & 2014 & NA\\\\\n",
       "\t H1510 & Southwest Texada Island B   & North East Gulf & 49.5116 &  124.1816 &  2014-08-08 &  11 & 2014 & NA\\\\\n",
       "\t H1511 & Circle Island               & North East Gulf & 49.4911 &  124.1784 &  2014-08-08 &  28 & 2014 & NA\\\\\n",
       "\t H1512 & Avery Reef                  & North East Gulf & 49.5058 &  124.2576 &  2014-08-08 &  63 & 2014 & NA\\\\\n",
       "\t H1513 & Anderson Creek              & North East Gulf & 49.6378 &  123.8466 &  2014-08-22 &  79 & 2014 & NA\\\\\n",
       "\t H1514 & Salmon Inlet                & North East Gulf & 49.6504 &  123.6731 &  2014-08-22 &  27 & 2014 & NA\\\\\n",
       "\t H1515 & Carlson Point               & North East Gulf & 49.5348 &  123.7931 &  2014-08-22 &  35 & 2014 & NA\\\\\n",
       "\t H1516 & Carlson Reef                & North East Gulf & 49.5257 &  123.7950 &  2014-08-22 &  15 & 2014 & NA\\\\\n",
       "\t H1517 & Sechelt Islets              & North East Gulf & 49.7397 &  123.8989 &  2014-08-10 &  11 & 2014 & NA\\\\\n",
       "\t H1518 & Captain Island              & North East Gulf & 49.7888 &  123.9968 &  2014-08-10 &  35 & 2014 & NA\\\\\n",
       "\t H1519 & Sykes Island                & North East Gulf & 49.8166 &  124.0823 &  2014-08-10 &  36 & 2014 & NA\\\\\n",
       "\t H1520 & Heather Islets              & North East Gulf & 50.0855 &  125.0293 &  2014-08-10 &   8 & 2014 & NA\\\\\n",
       "\t H1521 & Dunsterville Islet          & North East Gulf & 50.1455 &  125.1640 &  2014-08-10 &  21 & 2014 & NA\\\\\n",
       "\t H1522 & Sansum Point                & Gulf Islands    & 48.7799 &  123.5587 &  2014-08-22 &  14 & 2014 & NA\\\\\n",
       "\t H1523 & Andaje Point                & Gulf Islands    & 48.9072 &  123.3595 &  2014-08-21 &  10 & 2014 & NA\\\\\n",
       "\t H1524 & Mayne Island                & Gulf Islands    & 48.8576 &  123.3396 &  2014-08-21 &  10 & 2014 & NA\\\\\n",
       "\\end{tabular}\n"
      ],
      "text/markdown": [
       "\n",
       "A tibble: 4154 × 9\n",
       "\n",
       "| Site.Key &lt;fct&gt; | Location.Value &lt;fct&gt; | Location.Info &lt;fct&gt; | Latitude &lt;dbl&gt; | Longitude &lt;dbl&gt; | Date &lt;fct&gt; | Count &lt;dbl&gt; | Date.1 &lt;int&gt; | Mean &lt;dbl&gt; |\n",
       "|---|---|---|---|---|---|---|---|---|\n",
       "| H0001 | West Bentinck Island Reefs | South Gulf | 48.3125 | -123.5499 |  1973-06-13 |   1.0000 | 1973 |       NA |\n",
       "| H0001 | West Bentinck Island Reefs | South Gulf | 48.3125 | -123.5499 |  1974-08-14 |  13.0000 | 1974 |       NA |\n",
       "| H0001 | West Bentinck Island Reefs | South Gulf | 48.3125 | -123.5499 |  1976-08-12 |  35.0000 | 1976 |       NA |\n",
       "| H0001 | West Bentinck Island Reefs | South Gulf | 48.3125 | -123.5499 |  1982-08-16 |  54.0000 | 1982 |       NA |\n",
       "| H0001 | West Bentinck Island Reefs | South Gulf | 48.3125 | -123.5499 |  1986-08-16 |  94.0000 | 1986 |       NA |\n",
       "| H0001 | West Bentinck Island Reefs | South Gulf | 48.3125 | -123.5499 |  1988-05-31 | 106.3333 | 1988 | 106.3333 |\n",
       "| H0001 | West Bentinck Island Reefs | South Gulf | 48.3125 | -123.5499 |  1989-03-08 |  23.0000 | 1989 |       NA |\n",
       "| H0001 | West Bentinck Island Reefs | South Gulf | 48.3125 | -123.5499 |  1990-08-07 | 174.0000 | 1990 |       NA |\n",
       "| H0001 | West Bentinck Island Reefs | South Gulf | 48.3125 | -123.5499 |  1994-08-21 |  76.0000 | 1994 |       NA |\n",
       "| H0001 | West Bentinck Island Reefs | South Gulf | 48.3125 | -123.5499 |  1996-07-31 | 412.0000 | 1996 |       NA |\n",
       "| H0001 | West Bentinck Island Reefs | South Gulf | 48.3125 | -123.5499 |  1998-09-06 | 173.0000 | 1998 |       NA |\n",
       "| H0001 | West Bentinck Island Reefs | South Gulf | 48.3125 | -123.5499 |  2000-08-31 |  90.0000 | 2000 |       NA |\n",
       "| H0001 | West Bentinck Island Reefs | South Gulf | 48.3125 | -123.5499 |  2003-08-26 | 380.0000 | 2003 |       NA |\n",
       "| H0001 | West Bentinck Island Reefs | South Gulf | 48.3125 | -123.5499 |  2008-08-01 | 145.0000 | 2008 |       NA |\n",
       "| H0001 | West Bentinck Island Reefs | South Gulf | 48.3125 | -123.5499 |  2014-08-12 | 183.0000 | 2014 |       NA |\n",
       "| H0002 | Race Rocks                 | South Gulf | 48.2984 | -123.5306 |  1973-06-13 | 158.0000 | 1973 |       NA |\n",
       "| H0002 | Race Rocks                 | South Gulf | 48.2984 | -123.5306 |  1974-08-14 | 304.0000 | 1974 |       NA |\n",
       "| H0002 | Race Rocks                 | South Gulf | 48.2984 | -123.5306 |  1976-08-12 | 195.0000 | 1976 |       NA |\n",
       "| H0002 | Race Rocks                 | South Gulf | 48.2984 | -123.5306 |  1982-08-16 | 290.0000 | 1982 |       NA |\n",
       "| H0002 | Race Rocks                 | South Gulf | 48.2984 | -123.5306 |  1986-08-16 | 216.0000 | 1986 | 216.0000 |\n",
       "| H0002 | Race Rocks                 | South Gulf | 48.2984 | -123.5306 |  1987-10-23 |  45.0000 | 1987 |       NA |\n",
       "| H0002 | Race Rocks                 | South Gulf | 48.2984 | -123.5306 |  1988-05-31 | 314.0000 | 1988 | 314.0000 |\n",
       "| H0002 | Race Rocks                 | South Gulf | 48.2984 | -123.5306 |  1989-03-08 |  60.0000 | 1989 |       NA |\n",
       "| H0002 | Race Rocks                 | South Gulf | 48.2984 | -123.5306 |  1990-08-07 | 617.0000 | 1990 |       NA |\n",
       "| H0002 | Race Rocks                 | South Gulf | 48.2984 | -123.5306 |  1994-08-21 | 485.0000 | 1994 |       NA |\n",
       "| H0002 | Race Rocks                 | South Gulf | 48.2984 | -123.5306 |  1996-07-31 | 858.0000 | 1996 |       NA |\n",
       "| H0002 | Race Rocks                 | South Gulf | 48.2984 | -123.5306 |  1998-09-06 | 359.0000 | 1998 |       NA |\n",
       "| H0002 | Race Rocks                 | South Gulf | 48.2984 | -123.5306 |  2000-08-31 | 387.0000 | 2000 |       NA |\n",
       "| H0002 | Race Rocks                 | South Gulf | 48.2984 | -123.5306 |  2003-08-26 | 570.0000 | 2003 |       NA |\n",
       "| H0002 | Race Rocks                 | South Gulf | 48.2984 | -123.5306 |  2008-08-01 | 306.0000 | 2008 |       NA |\n",
       "| ... | ... | ... | ... | ... | ... | ... | ... | ... |\n",
       "| H1493 | South Grouse Island         | North East Gulf | 50.0461 | -125.2249 |  2014-08-10 |   9 | 2014 | NA |\n",
       "| H1494 | Ashworth Point              | North East Gulf | 49.9575 | -124.9166 |  2008-08-15 |  89 | 2008 | NA |\n",
       "| H1494 | Ashworth Point              | North East Gulf | 49.9575 | -124.9166 |  2014-08-10 | 199 | 2014 | NA |\n",
       "| H1495 | Guide Islets                | North East Gulf | 50.0780 | -125.0148 |  2008-08-15 |  91 | 2008 | NA |\n",
       "| H1495 | Guide Islets                | North East Gulf | 50.0780 | -125.0148 |  2014-08-10 |  30 | 2014 | NA |\n",
       "| H1496 | North Subtle Islands        | North East Gulf | 50.1251 | -125.0816 |  2008-08-15 |  27 | 2008 | NA |\n",
       "| H1496 | North Subtle Islands        | North East Gulf | 50.1251 | -125.0816 |  2014-08-10 |   0 | 2014 | NA |\n",
       "| H1502 | Tswassen                    | Fraser River    | 49.0256 |  123.1308 |  2014-08-07 |  13 | 2014 | NA |\n",
       "| H1503 | Central Roberts Bank Site L | Fraser River    | 49.0406 |  123.2047 |  2014-08-07 |  24 | 2014 | NA |\n",
       "| H1504 | Passage Island              | Howe Sound      | 49.3396 |  123.3059 |  2014-08-07 |  20 | 2014 | NA |\n",
       "| H1505 | Strip Creek                 | Howe Sound      | 49.4164 |  123.2355 |  2014-08-07 |   5 | 2014 | NA |\n",
       "| H1506 | Williams Island             | North East Gulf | 49.6295 |  124.0608 |  2014-08-08 |   7 | 2014 | NA |\n",
       "| H1507 | Pearson                     | North East Gulf | 49.6294 |  124.0835 |  2014-08-08 |  15 | 2014 | NA |\n",
       "| H1508 | Oyster Island               | North East Gulf | 49.7218 |  124.2185 |  2014-08-08 |   9 | 2014 | NA |\n",
       "| H1509 | Eagle Cove                  | North East Gulf | 49.7725 |  124.5743 |  2014-08-08 |   6 | 2014 | NA |\n",
       "| H1510 | Southwest Texada Island B   | North East Gulf | 49.5116 |  124.1816 |  2014-08-08 |  11 | 2014 | NA |\n",
       "| H1511 | Circle Island               | North East Gulf | 49.4911 |  124.1784 |  2014-08-08 |  28 | 2014 | NA |\n",
       "| H1512 | Avery Reef                  | North East Gulf | 49.5058 |  124.2576 |  2014-08-08 |  63 | 2014 | NA |\n",
       "| H1513 | Anderson Creek              | North East Gulf | 49.6378 |  123.8466 |  2014-08-22 |  79 | 2014 | NA |\n",
       "| H1514 | Salmon Inlet                | North East Gulf | 49.6504 |  123.6731 |  2014-08-22 |  27 | 2014 | NA |\n",
       "| H1515 | Carlson Point               | North East Gulf | 49.5348 |  123.7931 |  2014-08-22 |  35 | 2014 | NA |\n",
       "| H1516 | Carlson Reef                | North East Gulf | 49.5257 |  123.7950 |  2014-08-22 |  15 | 2014 | NA |\n",
       "| H1517 | Sechelt Islets              | North East Gulf | 49.7397 |  123.8989 |  2014-08-10 |  11 | 2014 | NA |\n",
       "| H1518 | Captain Island              | North East Gulf | 49.7888 |  123.9968 |  2014-08-10 |  35 | 2014 | NA |\n",
       "| H1519 | Sykes Island                | North East Gulf | 49.8166 |  124.0823 |  2014-08-10 |  36 | 2014 | NA |\n",
       "| H1520 | Heather Islets              | North East Gulf | 50.0855 |  125.0293 |  2014-08-10 |   8 | 2014 | NA |\n",
       "| H1521 | Dunsterville Islet          | North East Gulf | 50.1455 |  125.1640 |  2014-08-10 |  21 | 2014 | NA |\n",
       "| H1522 | Sansum Point                | Gulf Islands    | 48.7799 |  123.5587 |  2014-08-22 |  14 | 2014 | NA |\n",
       "| H1523 | Andaje Point                | Gulf Islands    | 48.9072 |  123.3595 |  2014-08-21 |  10 | 2014 | NA |\n",
       "| H1524 | Mayne Island                | Gulf Islands    | 48.8576 |  123.3396 |  2014-08-21 |  10 | 2014 | NA |\n",
       "\n"
      ],
      "text/plain": [
       "     Site.Key Location.Value              Location.Info   Latitude Longitude\n",
       "1    H0001    West Bentinck Island Reefs  South Gulf      48.3125  -123.5499\n",
       "2    H0001    West Bentinck Island Reefs  South Gulf      48.3125  -123.5499\n",
       "3    H0001    West Bentinck Island Reefs  South Gulf      48.3125  -123.5499\n",
       "4    H0001    West Bentinck Island Reefs  South Gulf      48.3125  -123.5499\n",
       "5    H0001    West Bentinck Island Reefs  South Gulf      48.3125  -123.5499\n",
       "6    H0001    West Bentinck Island Reefs  South Gulf      48.3125  -123.5499\n",
       "7    H0001    West Bentinck Island Reefs  South Gulf      48.3125  -123.5499\n",
       "8    H0001    West Bentinck Island Reefs  South Gulf      48.3125  -123.5499\n",
       "9    H0001    West Bentinck Island Reefs  South Gulf      48.3125  -123.5499\n",
       "10   H0001    West Bentinck Island Reefs  South Gulf      48.3125  -123.5499\n",
       "11   H0001    West Bentinck Island Reefs  South Gulf      48.3125  -123.5499\n",
       "12   H0001    West Bentinck Island Reefs  South Gulf      48.3125  -123.5499\n",
       "13   H0001    West Bentinck Island Reefs  South Gulf      48.3125  -123.5499\n",
       "14   H0001    West Bentinck Island Reefs  South Gulf      48.3125  -123.5499\n",
       "15   H0001    West Bentinck Island Reefs  South Gulf      48.3125  -123.5499\n",
       "16   H0002    Race Rocks                  South Gulf      48.2984  -123.5306\n",
       "17   H0002    Race Rocks                  South Gulf      48.2984  -123.5306\n",
       "18   H0002    Race Rocks                  South Gulf      48.2984  -123.5306\n",
       "19   H0002    Race Rocks                  South Gulf      48.2984  -123.5306\n",
       "20   H0002    Race Rocks                  South Gulf      48.2984  -123.5306\n",
       "21   H0002    Race Rocks                  South Gulf      48.2984  -123.5306\n",
       "22   H0002    Race Rocks                  South Gulf      48.2984  -123.5306\n",
       "23   H0002    Race Rocks                  South Gulf      48.2984  -123.5306\n",
       "24   H0002    Race Rocks                  South Gulf      48.2984  -123.5306\n",
       "25   H0002    Race Rocks                  South Gulf      48.2984  -123.5306\n",
       "26   H0002    Race Rocks                  South Gulf      48.2984  -123.5306\n",
       "27   H0002    Race Rocks                  South Gulf      48.2984  -123.5306\n",
       "28   H0002    Race Rocks                  South Gulf      48.2984  -123.5306\n",
       "29   H0002    Race Rocks                  South Gulf      48.2984  -123.5306\n",
       "30   H0002    Race Rocks                  South Gulf      48.2984  -123.5306\n",
       "...  ...      ...                         ...             ...      ...      \n",
       "4125 H1493    South Grouse Island         North East Gulf 50.0461  -125.2249\n",
       "4126 H1494    Ashworth Point              North East Gulf 49.9575  -124.9166\n",
       "4127 H1494    Ashworth Point              North East Gulf 49.9575  -124.9166\n",
       "4128 H1495    Guide Islets                North East Gulf 50.0780  -125.0148\n",
       "4129 H1495    Guide Islets                North East Gulf 50.0780  -125.0148\n",
       "4130 H1496    North Subtle Islands        North East Gulf 50.1251  -125.0816\n",
       "4131 H1496    North Subtle Islands        North East Gulf 50.1251  -125.0816\n",
       "4132 H1502    Tswassen                    Fraser River    49.0256   123.1308\n",
       "4133 H1503    Central Roberts Bank Site L Fraser River    49.0406   123.2047\n",
       "4134 H1504    Passage Island              Howe Sound      49.3396   123.3059\n",
       "4135 H1505    Strip Creek                 Howe Sound      49.4164   123.2355\n",
       "4136 H1506    Williams Island             North East Gulf 49.6295   124.0608\n",
       "4137 H1507    Pearson                     North East Gulf 49.6294   124.0835\n",
       "4138 H1508    Oyster Island               North East Gulf 49.7218   124.2185\n",
       "4139 H1509    Eagle Cove                  North East Gulf 49.7725   124.5743\n",
       "4140 H1510    Southwest Texada Island B   North East Gulf 49.5116   124.1816\n",
       "4141 H1511    Circle Island               North East Gulf 49.4911   124.1784\n",
       "4142 H1512    Avery Reef                  North East Gulf 49.5058   124.2576\n",
       "4143 H1513    Anderson Creek              North East Gulf 49.6378   123.8466\n",
       "4144 H1514    Salmon Inlet                North East Gulf 49.6504   123.6731\n",
       "4145 H1515    Carlson Point               North East Gulf 49.5348   123.7931\n",
       "4146 H1516    Carlson Reef                North East Gulf 49.5257   123.7950\n",
       "4147 H1517    Sechelt Islets              North East Gulf 49.7397   123.8989\n",
       "4148 H1518    Captain Island              North East Gulf 49.7888   123.9968\n",
       "4149 H1519    Sykes Island                North East Gulf 49.8166   124.0823\n",
       "4150 H1520    Heather Islets              North East Gulf 50.0855   125.0293\n",
       "4151 H1521    Dunsterville Islet          North East Gulf 50.1455   125.1640\n",
       "4152 H1522    Sansum Point                Gulf Islands    48.7799   123.5587\n",
       "4153 H1523    Andaje Point                Gulf Islands    48.9072   123.3595\n",
       "4154 H1524    Mayne Island                Gulf Islands    48.8576   123.3396\n",
       "     Date        Count    Date.1 Mean    \n",
       "1     1973-06-13   1.0000 1973         NA\n",
       "2     1974-08-14  13.0000 1974         NA\n",
       "3     1976-08-12  35.0000 1976         NA\n",
       "4     1982-08-16  54.0000 1982         NA\n",
       "5     1986-08-16  94.0000 1986         NA\n",
       "6     1988-05-31 106.3333 1988   106.3333\n",
       "7     1989-03-08  23.0000 1989         NA\n",
       "8     1990-08-07 174.0000 1990         NA\n",
       "9     1994-08-21  76.0000 1994         NA\n",
       "10    1996-07-31 412.0000 1996         NA\n",
       "11    1998-09-06 173.0000 1998         NA\n",
       "12    2000-08-31  90.0000 2000         NA\n",
       "13    2003-08-26 380.0000 2003         NA\n",
       "14    2008-08-01 145.0000 2008         NA\n",
       "15    2014-08-12 183.0000 2014         NA\n",
       "16    1973-06-13 158.0000 1973         NA\n",
       "17    1974-08-14 304.0000 1974         NA\n",
       "18    1976-08-12 195.0000 1976         NA\n",
       "19    1982-08-16 290.0000 1982         NA\n",
       "20    1986-08-16 216.0000 1986   216.0000\n",
       "21    1987-10-23  45.0000 1987         NA\n",
       "22    1988-05-31 314.0000 1988   314.0000\n",
       "23    1989-03-08  60.0000 1989         NA\n",
       "24    1990-08-07 617.0000 1990         NA\n",
       "25    1994-08-21 485.0000 1994         NA\n",
       "26    1996-07-31 858.0000 1996         NA\n",
       "27    1998-09-06 359.0000 1998         NA\n",
       "28    2000-08-31 387.0000 2000         NA\n",
       "29    2003-08-26 570.0000 2003         NA\n",
       "30    2008-08-01 306.0000 2008         NA\n",
       "...  ...         ...      ...    ...     \n",
       "4125  2014-08-10   9      2014   NA      \n",
       "4126  2008-08-15  89      2008   NA      \n",
       "4127  2014-08-10 199      2014   NA      \n",
       "4128  2008-08-15  91      2008   NA      \n",
       "4129  2014-08-10  30      2014   NA      \n",
       "4130  2008-08-15  27      2008   NA      \n",
       "4131  2014-08-10   0      2014   NA      \n",
       "4132  2014-08-07  13      2014   NA      \n",
       "4133  2014-08-07  24      2014   NA      \n",
       "4134  2014-08-07  20      2014   NA      \n",
       "4135  2014-08-07   5      2014   NA      \n",
       "4136  2014-08-08   7      2014   NA      \n",
       "4137  2014-08-08  15      2014   NA      \n",
       "4138  2014-08-08   9      2014   NA      \n",
       "4139  2014-08-08   6      2014   NA      \n",
       "4140  2014-08-08  11      2014   NA      \n",
       "4141  2014-08-08  28      2014   NA      \n",
       "4142  2014-08-08  63      2014   NA      \n",
       "4143  2014-08-22  79      2014   NA      \n",
       "4144  2014-08-22  27      2014   NA      \n",
       "4145  2014-08-22  35      2014   NA      \n",
       "4146  2014-08-22  15      2014   NA      \n",
       "4147  2014-08-10  11      2014   NA      \n",
       "4148  2014-08-10  35      2014   NA      \n",
       "4149  2014-08-10  36      2014   NA      \n",
       "4150  2014-08-10   8      2014   NA      \n",
       "4151  2014-08-10  21      2014   NA      \n",
       "4152  2014-08-22  14      2014   NA      \n",
       "4153  2014-08-21  10      2014   NA      \n",
       "4154  2014-08-21  10      2014   NA      "
      ]
     },
     "metadata": {},
     "output_type": "display_data"
    }
   ],
   "source": [
    "# Note that hl_df is not actually interpreted as a data frame by R, rather a 'list'\n",
    "# this is why the 'length' method doesn't work unless converted to df\n",
    "\n",
    "# make into 'tibble' - easier to work with in R (tidyverse)\n",
    "#https://www.datanovia.com/en/lessons/identify-and-remove-duplicate-data-in-r/\n",
    "hl_df_tib <- as_tibble(hl_df)\n",
    "typeof(hl_df_tib)\n",
    "\n",
    "# to convert the 'count' from a factor to dbl given a 'list'\n",
    "hl_df_tib[\"Count\"] <- as.numeric(as.character(unlist(hl_df_tib[[\"Count\"]])))\n",
    "\n",
    "# get only duplicates\n",
    "hl_df_grouped <- hl_df_tib %>% group_by(Site.Key, Date.1) %>%\n",
    "   filter(n()>1) \n",
    "\n",
    "# calculate the mean of duplicates\n",
    "# https://stackoverflow.com/questions/46661461/calculate-mean-by-group-using-dplyr-package\n",
    "hl_df_dupemean <- hl_df_grouped %>%\n",
    "   dplyr::summarize(Mean = mean(Count, na.rm=TRUE))\n",
    "\n",
    "# replace the 'count' for with the mean for certain sites with multiple surveys in a year\n",
    "# exclude records with duplicate year/site key combo (keeps first record of duplicate)\n",
    "hl_df_tibDistinct <- hl_df_tib %>% distinct(Date.1, Site.Key, .keep_all = TRUE)\n",
    "\n",
    "# replaces count for duplicates with the mean value\n",
    "hl_df_tibFixed <- hl_df_tibDistinct %>% \n",
    "  left_join(hl_df_dupemean, by = c(\"Site.Key\",\"Date.1\")) %>% \n",
    "  mutate(Count = ifelse(!is.na(Mean),Mean,Count))\n",
    "  #filter(!is.na(Mean))\n",
    "\n",
    "hl_df_tibFixed"
   ]
  },
  {
   "cell_type": "code",
   "execution_count": 32,
   "metadata": {},
   "outputs": [
    {
     "name": "stdout",
     "output_type": "stream",
     "text": [
      " [1] \"ï..Region.ID\"      \"Region.Name\"       \"Site.Key\"         \n",
      " [4] \"Location\"          \"Survey.Code\"       \"Species\"          \n",
      " [7] \"Count\"             \"Use\"               \"weighting_GO\"     \n",
      "[10] \"Latitude\"          \"Longitude\"         \"Date.1\"           \n",
      "[13] \"yr_total_est_sanj\" \"site_expanded_est\" \"Count1\"           \n",
      "[16] \"X\"                \n"
     ]
    }
   ],
   "source": [
    "print(colnames(h3_df))"
   ]
  },
  {
   "cell_type": "code",
   "execution_count": 33,
   "metadata": {},
   "outputs": [
    {
     "name": "stdout",
     "output_type": "stream",
     "text": [
      "[1] \"Site.Key\"       \"Location.Value\" \"Location.Info\"  \"Latitude\"      \n",
      "[5] \"Longitude\"      \"Date\"           \"Count\"          \"Date.1\"        \n",
      "[9] \"Mean\"          \n"
     ]
    }
   ],
   "source": [
    "print(colnames(hl_df_tibFixed))"
   ]
  },
  {
   "cell_type": "code",
   "execution_count": 67,
   "metadata": {},
   "outputs": [],
   "source": [
    "#combine hl_df_tibFixed (Olesiuk, canada) with h2_df (Jeffries et al., 2000, 2003, San Juan islands)\n",
    "h3_df = h2_df %>%\n",
    "  rename(Latitude = Lat) %>%\n",
    "  rename(Longitude = Lon) %>%\n",
    "  rename(Date.1 = yr) %>%\n",
    "  select(-c(Count)) %>%\n",
    "  rename(Count = site_expanded_est) %>%\n",
    "  mutate(ID = as.factor(ID)) %>%\n",
    "  rename(Site.Key = ID) \n",
    "\n",
    "h2_df_tibFixed = bind_rows(h3_df, hl_df_tibFixed)"
   ]
  },
  {
   "cell_type": "markdown",
   "metadata": {},
   "source": [
    "#### Interpolate values between survey years for site"
   ]
  },
  {
   "cell_type": "code",
   "execution_count": 68,
   "metadata": {},
   "outputs": [
    {
     "data": {
      "text/html": [
       "<table>\n",
       "<caption>A tibble: 6953 × 19</caption>\n",
       "<thead>\n",
       "\t<tr><th scope=col>Date.1</th><th scope=col>ï..Region.ID</th><th scope=col>Region.Name</th><th scope=col>Site.Key</th><th scope=col>Location</th><th scope=col>Survey.Code</th><th scope=col>Species</th><th scope=col>Use</th><th scope=col>weighting_GO</th><th scope=col>Latitude</th><th scope=col>Longitude</th><th scope=col>yr_total_est_sanj</th><th scope=col>Count</th><th scope=col>yr_expanded_est</th><th scope=col>X</th><th scope=col>Location.Value</th><th scope=col>Location.Info</th><th scope=col>Date</th><th scope=col>Mean</th></tr>\n",
       "\t<tr><th scope=col>&lt;int&gt;</th><th scope=col>&lt;int&gt;</th><th scope=col>&lt;fct&gt;</th><th scope=col>&lt;fct&gt;</th><th scope=col>&lt;fct&gt;</th><th scope=col>&lt;dbl&gt;</th><th scope=col>&lt;fct&gt;</th><th scope=col>&lt;fct&gt;</th><th scope=col>&lt;dbl&gt;</th><th scope=col>&lt;dbl&gt;</th><th scope=col>&lt;dbl&gt;</th><th scope=col>&lt;int&gt;</th><th scope=col>&lt;dbl&gt;</th><th scope=col>&lt;dbl&gt;</th><th scope=col>&lt;lgl&gt;</th><th scope=col>&lt;fct&gt;</th><th scope=col>&lt;fct&gt;</th><th scope=col>&lt;fct&gt;</th><th scope=col>&lt;dbl&gt;</th></tr>\n",
       "</thead>\n",
       "<tbody>\n",
       "\t<tr><td>1966</td><td>NA</td><td>NA</td><td>H0005</td><td>NA</td><td>NA</td><td>NA</td><td>NA</td><td>NA</td><td>48.5238</td><td>-123.2905</td><td>NA</td><td> 3.00000</td><td>NA</td><td>NA</td><td>Zero Rock                    </td><td>South Gulf  </td><td> 1966-08-13</td><td>      NA</td></tr>\n",
       "\t<tr><td>1966</td><td>NA</td><td>NA</td><td>H0006</td><td>NA</td><td>NA</td><td>NA</td><td>NA</td><td>NA</td><td>48.5589</td><td>-123.2789</td><td>NA</td><td> 2.00000</td><td>NA</td><td>NA</td><td>South D'Arcy Island Reef     </td><td>South Gulf  </td><td> 1966-08-13</td><td>      NA</td></tr>\n",
       "\t<tr><td>1966</td><td>NA</td><td>NA</td><td>H0009</td><td>NA</td><td>NA</td><td>NA</td><td>NA</td><td>NA</td><td>48.5850</td><td>-123.2890</td><td>NA</td><td> 2.00000</td><td>NA</td><td>NA</td><td>Sallas Rocks                 </td><td>South Gulf  </td><td> 1966-08-13</td><td>      NA</td></tr>\n",
       "\t<tr><td>1966</td><td>NA</td><td>NA</td><td>H0011</td><td>NA</td><td>NA</td><td>NA</td><td>NA</td><td>NA</td><td>48.5958</td><td>-123.3017</td><td>NA</td><td>30.00000</td><td>NA</td><td>NA</td><td>Munroe Rock                  </td><td>South Gulf  </td><td> 1966-08-13</td><td>      NA</td></tr>\n",
       "\t<tr><td>1966</td><td>NA</td><td>NA</td><td>H0013</td><td>NA</td><td>NA</td><td>NA</td><td>NA</td><td>NA</td><td>48.6224</td><td>-123.3086</td><td>NA</td><td> 2.00000</td><td>NA</td><td>NA</td><td>East Sidney Island Reef      </td><td>South Gulf  </td><td> 1966-08-13</td><td>      NA</td></tr>\n",
       "\t<tr><td>1966</td><td>NA</td><td>NA</td><td>H0015</td><td>NA</td><td>NA</td><td>NA</td><td>NA</td><td>NA</td><td>48.6714</td><td>-123.2754</td><td>NA</td><td> 4.00000</td><td>NA</td><td>NA</td><td>Cooper Reef                  </td><td>South Gulf  </td><td> 1966-08-13</td><td>      NA</td></tr>\n",
       "\t<tr><td>1966</td><td>NA</td><td>NA</td><td>H0022</td><td>NA</td><td>NA</td><td>NA</td><td>NA</td><td>NA</td><td>48.6740</td><td>-123.4068</td><td>NA</td><td>30.00000</td><td>NA</td><td>NA</td><td>Tsehum Harbour Reef          </td><td>South Gulf  </td><td> 1966-08-13</td><td>      NA</td></tr>\n",
       "\t<tr><td>1966</td><td>NA</td><td>NA</td><td>H0026</td><td>NA</td><td>NA</td><td>NA</td><td>NA</td><td>NA</td><td>48.9014</td><td>-123.6727</td><td>NA</td><td> 7.00000</td><td>NA</td><td>NA</td><td>Shoal Island Flats           </td><td>Gulf Islands</td><td> 1966-08-14</td><td>      NA</td></tr>\n",
       "\t<tr><td>1966</td><td>NA</td><td>NA</td><td>H0029</td><td>NA</td><td>NA</td><td>NA</td><td>NA</td><td>NA</td><td>49.0800</td><td>-122.8750</td><td>NA</td><td> 0.00000</td><td>NA</td><td>NA</td><td>East Boundary Bay Site A     </td><td>Boundary Bay</td><td> 1966-07-19</td><td>      NA</td></tr>\n",
       "\t<tr><td>1966</td><td>NA</td><td>NA</td><td>H0030</td><td>NA</td><td>NA</td><td>NA</td><td>NA</td><td>NA</td><td>49.0815</td><td>-122.8987</td><td>NA</td><td> 7.00000</td><td>NA</td><td>NA</td><td>East Boundary Bay Site B     </td><td>Boundary Bay</td><td> 1966-08-29</td><td>      NA</td></tr>\n",
       "\t<tr><td>1966</td><td>NA</td><td>NA</td><td>H0031</td><td>NA</td><td>NA</td><td>NA</td><td>NA</td><td>NA</td><td>49.0700</td><td>-122.8917</td><td>NA</td><td>24.66667</td><td>NA</td><td>NA</td><td>East Boundary Bay Site C     </td><td>Boundary Bay</td><td> 1966-07-27</td><td>24.66667</td></tr>\n",
       "\t<tr><td>1966</td><td>NA</td><td>NA</td><td>H0032</td><td>NA</td><td>NA</td><td>NA</td><td>NA</td><td>NA</td><td>49.0663</td><td>-122.9303</td><td>NA</td><td>49.60000</td><td>NA</td><td>NA</td><td>East Boundary Bay Site D     </td><td>Boundary Bay</td><td> 1966-06-08</td><td>49.60000</td></tr>\n",
       "\t<tr><td>1966</td><td>NA</td><td>NA</td><td>H0034</td><td>NA</td><td>NA</td><td>NA</td><td>NA</td><td>NA</td><td>49.0336</td><td>-122.9731</td><td>NA</td><td>72.00000</td><td>NA</td><td>NA</td><td>West Boundary Bay Site F     </td><td>Boundary Bay</td><td> 1966-06-08</td><td>72.00000</td></tr>\n",
       "\t<tr><td>1966</td><td>NA</td><td>NA</td><td>H0035</td><td>NA</td><td>NA</td><td>NA</td><td>NA</td><td>NA</td><td>49.0297</td><td>-122.9950</td><td>NA</td><td>13.33333</td><td>NA</td><td>NA</td><td>West Boundary Bay Site G     </td><td>Boundary Bay</td><td> 1966-07-27</td><td>13.33333</td></tr>\n",
       "\t<tr><td>1966</td><td>NA</td><td>NA</td><td>H0037</td><td>NA</td><td>NA</td><td>NA</td><td>NA</td><td>NA</td><td>49.0555</td><td>-123.2254</td><td>NA</td><td> 0.25000</td><td>NA</td><td>NA</td><td>Central Roberts Bank Site B  </td><td>Fraser River</td><td> 1966-07-19</td><td> 0.25000</td></tr>\n",
       "\t<tr><td>1966</td><td>NA</td><td>NA</td><td>H0040</td><td>NA</td><td>NA</td><td>NA</td><td>NA</td><td>NA</td><td>49.1020</td><td>-123.2067</td><td>NA</td><td>11.00000</td><td>NA</td><td>NA</td><td>North Roberts Bank Site F    </td><td>Fraser River</td><td> 1966-07-27</td><td>11.00000</td></tr>\n",
       "\t<tr><td>1966</td><td>NA</td><td>NA</td><td>H0042</td><td>NA</td><td>NA</td><td>NA</td><td>NA</td><td>NA</td><td>49.1866</td><td>-123.2166</td><td>NA</td><td>44.25000</td><td>NA</td><td>NA</td><td>Central Sturgeon Bank Site C </td><td>Fraser River</td><td> 1966-07-19</td><td>44.25000</td></tr>\n",
       "\t<tr><td>1966</td><td>NA</td><td>NA</td><td>H0047</td><td>NA</td><td>NA</td><td>NA</td><td>NA</td><td>NA</td><td>49.0111</td><td>-123.6453</td><td>NA</td><td>32.00000</td><td>NA</td><td>NA</td><td>Rose Islets                  </td><td>Gulf Islands</td><td> 1966-08-14</td><td>      NA</td></tr>\n",
       "\t<tr><td>1966</td><td>NA</td><td>NA</td><td>H0060</td><td>NA</td><td>NA</td><td>NA</td><td>NA</td><td>NA</td><td>49.1531</td><td>-123.6793</td><td>NA</td><td>11.00000</td><td>NA</td><td>NA</td><td>Southeast Acorn Island Reef  </td><td>Gulf Islands</td><td> 1966-08-14</td><td>      NA</td></tr>\n",
       "\t<tr><td>1966</td><td>NA</td><td>NA</td><td>H0062</td><td>NA</td><td>NA</td><td>NA</td><td>NA</td><td>NA</td><td>49.1223</td><td>-123.6859</td><td>NA</td><td> 1.00000</td><td>NA</td><td>NA</td><td>East Kendrick Island Rock    </td><td>Gulf Islands</td><td> 1966-08-14</td><td>      NA</td></tr>\n",
       "\t<tr><td>1966</td><td>NA</td><td>NA</td><td>H0069</td><td>NA</td><td>NA</td><td>NA</td><td>NA</td><td>NA</td><td>48.8328</td><td>-123.1973</td><td>NA</td><td> 7.00000</td><td>NA</td><td>NA</td><td>Belle Chain Islets           </td><td>Gulf Islands</td><td> 1966-08-13</td><td>      NA</td></tr>\n",
       "\t<tr><td>1966</td><td>NA</td><td>NA</td><td>H0070</td><td>NA</td><td>NA</td><td>NA</td><td>NA</td><td>NA</td><td>49.1288</td><td>-123.2655</td><td>NA</td><td>48.50000</td><td>NA</td><td>NA</td><td>South Sturgeon Bank Site A   </td><td>Fraser River</td><td> 1966-07-28</td><td>48.50000</td></tr>\n",
       "\t<tr><td>1966</td><td>NA</td><td>NA</td><td>H0073</td><td>NA</td><td>NA</td><td>NA</td><td>NA</td><td>NA</td><td>48.8025</td><td>-123.1156</td><td>NA</td><td> 2.00000</td><td>NA</td><td>NA</td><td>West Tumbo Island Reef       </td><td>Gulf Islands</td><td> 1966-08-13</td><td>      NA</td></tr>\n",
       "\t<tr><td>1966</td><td>NA</td><td>NA</td><td>H0074</td><td>NA</td><td>NA</td><td>NA</td><td>NA</td><td>NA</td><td>48.8006</td><td>-123.0926</td><td>NA</td><td>11.00000</td><td>NA</td><td>NA</td><td>Pine Islet                   </td><td>Gulf Islands</td><td> 1966-08-13</td><td>      NA</td></tr>\n",
       "\t<tr><td>1966</td><td>NA</td><td>NA</td><td>H0076</td><td>NA</td><td>NA</td><td>NA</td><td>NA</td><td>NA</td><td>48.7602</td><td>-123.1084</td><td>NA</td><td>10.00000</td><td>NA</td><td>NA</td><td>Java Islets                  </td><td>Gulf Islands</td><td> 1966-08-13</td><td>      NA</td></tr>\n",
       "\t<tr><td>1966</td><td>NA</td><td>NA</td><td>H0077</td><td>NA</td><td>NA</td><td>NA</td><td>NA</td><td>NA</td><td>48.7648</td><td>-123.3037</td><td>NA</td><td>21.00000</td><td>NA</td><td>NA</td><td>Beddis Rock                  </td><td>Gulf Islands</td><td> 1966-08-13</td><td>      NA</td></tr>\n",
       "\t<tr><td>1966</td><td>NA</td><td>NA</td><td>H0078</td><td>NA</td><td>NA</td><td>NA</td><td>NA</td><td>NA</td><td>48.8219</td><td>-123.3214</td><td>NA</td><td> 1.00000</td><td>NA</td><td>NA</td><td>Northeast Stanley Point      </td><td>Gulf Islands</td><td> 1966-08-13</td><td>      NA</td></tr>\n",
       "\t<tr><td>1966</td><td>NA</td><td>NA</td><td>H0079</td><td>NA</td><td>NA</td><td>NA</td><td>NA</td><td>NA</td><td>48.8443</td><td>-123.3788</td><td>NA</td><td> 1.00000</td><td>NA</td><td>NA</td><td>Charles Rocks                </td><td>Gulf Islands</td><td> 1966-08-14</td><td>      NA</td></tr>\n",
       "\t<tr><td>1966</td><td>NA</td><td>NA</td><td>H0080</td><td>NA</td><td>NA</td><td>NA</td><td>NA</td><td>NA</td><td>48.9104</td><td>-123.4264</td><td>NA</td><td> 2.00000</td><td>NA</td><td>NA</td><td>Midwest Galiano Island Reef A</td><td>Gulf Islands</td><td> 1966-08-14</td><td>      NA</td></tr>\n",
       "\t<tr><td>1966</td><td>NA</td><td>NA</td><td>H0082</td><td>NA</td><td>NA</td><td>NA</td><td>NA</td><td>NA</td><td>48.9344</td><td>-123.4882</td><td>NA</td><td> 2.00000</td><td>NA</td><td>NA</td><td>Midwest Galiano Island Reef C</td><td>Gulf Islands</td><td> 1966-08-14</td><td>      NA</td></tr>\n",
       "\t<tr><td>...</td><td>...</td><td>...</td><td>...</td><td>...</td><td>...</td><td>...</td><td>...</td><td>...</td><td>...</td><td>...</td><td>...</td><td>...</td><td>...</td><td>...</td><td>...</td><td>...</td><td>...</td><td>...</td></tr>\n",
       "\t<tr><td>2014</td><td>NA</td><td>NA</td><td>H1494</td><td>NA</td><td>NA</td><td>NA</td><td>NA</td><td>NA</td><td>49.9575</td><td>-124.9166</td><td>NA</td><td>199</td><td>NA</td><td>NA</td><td>Ashworth Point             </td><td>North East Gulf</td><td> 2014-08-10</td><td>NA</td></tr>\n",
       "\t<tr><td>2014</td><td>NA</td><td>NA</td><td>H1495</td><td>NA</td><td>NA</td><td>NA</td><td>NA</td><td>NA</td><td>50.0780</td><td>-125.0148</td><td>NA</td><td> 30</td><td>NA</td><td>NA</td><td>Guide Islets               </td><td>North East Gulf</td><td> 2014-08-10</td><td>NA</td></tr>\n",
       "\t<tr><td>2014</td><td>NA</td><td>NA</td><td>H1496</td><td>NA</td><td>NA</td><td>NA</td><td>NA</td><td>NA</td><td>50.1251</td><td>-125.0816</td><td>NA</td><td>  0</td><td>NA</td><td>NA</td><td>North Subtle Islands       </td><td>North East Gulf</td><td> 2014-08-10</td><td>NA</td></tr>\n",
       "\t<tr><td>2014</td><td>NA</td><td>NA</td><td>H1502</td><td>NA</td><td>NA</td><td>NA</td><td>NA</td><td>NA</td><td>49.0256</td><td> 123.1308</td><td>NA</td><td> 13</td><td>NA</td><td>NA</td><td>Tswassen                   </td><td>Fraser River   </td><td> 2014-08-07</td><td>NA</td></tr>\n",
       "\t<tr><td>2014</td><td>NA</td><td>NA</td><td>H1503</td><td>NA</td><td>NA</td><td>NA</td><td>NA</td><td>NA</td><td>49.0406</td><td> 123.2047</td><td>NA</td><td> 24</td><td>NA</td><td>NA</td><td>Central Roberts Bank Site L</td><td>Fraser River   </td><td> 2014-08-07</td><td>NA</td></tr>\n",
       "\t<tr><td>2014</td><td>NA</td><td>NA</td><td>H1504</td><td>NA</td><td>NA</td><td>NA</td><td>NA</td><td>NA</td><td>49.3396</td><td> 123.3059</td><td>NA</td><td> 20</td><td>NA</td><td>NA</td><td>Passage Island             </td><td>Howe Sound     </td><td> 2014-08-07</td><td>NA</td></tr>\n",
       "\t<tr><td>2014</td><td>NA</td><td>NA</td><td>H1505</td><td>NA</td><td>NA</td><td>NA</td><td>NA</td><td>NA</td><td>49.4164</td><td> 123.2355</td><td>NA</td><td>  5</td><td>NA</td><td>NA</td><td>Strip Creek                </td><td>Howe Sound     </td><td> 2014-08-07</td><td>NA</td></tr>\n",
       "\t<tr><td>2014</td><td>NA</td><td>NA</td><td>H1506</td><td>NA</td><td>NA</td><td>NA</td><td>NA</td><td>NA</td><td>49.6295</td><td> 124.0608</td><td>NA</td><td>  7</td><td>NA</td><td>NA</td><td>Williams Island            </td><td>North East Gulf</td><td> 2014-08-08</td><td>NA</td></tr>\n",
       "\t<tr><td>2014</td><td>NA</td><td>NA</td><td>H1507</td><td>NA</td><td>NA</td><td>NA</td><td>NA</td><td>NA</td><td>49.6294</td><td> 124.0835</td><td>NA</td><td> 15</td><td>NA</td><td>NA</td><td>Pearson                    </td><td>North East Gulf</td><td> 2014-08-08</td><td>NA</td></tr>\n",
       "\t<tr><td>2014</td><td>NA</td><td>NA</td><td>H1508</td><td>NA</td><td>NA</td><td>NA</td><td>NA</td><td>NA</td><td>49.7218</td><td> 124.2185</td><td>NA</td><td>  9</td><td>NA</td><td>NA</td><td>Oyster Island              </td><td>North East Gulf</td><td> 2014-08-08</td><td>NA</td></tr>\n",
       "\t<tr><td>2014</td><td>NA</td><td>NA</td><td>H1509</td><td>NA</td><td>NA</td><td>NA</td><td>NA</td><td>NA</td><td>49.7725</td><td> 124.5743</td><td>NA</td><td>  6</td><td>NA</td><td>NA</td><td>Eagle Cove                 </td><td>North East Gulf</td><td> 2014-08-08</td><td>NA</td></tr>\n",
       "\t<tr><td>2014</td><td>NA</td><td>NA</td><td>H1510</td><td>NA</td><td>NA</td><td>NA</td><td>NA</td><td>NA</td><td>49.5116</td><td> 124.1816</td><td>NA</td><td> 11</td><td>NA</td><td>NA</td><td>Southwest Texada Island B  </td><td>North East Gulf</td><td> 2014-08-08</td><td>NA</td></tr>\n",
       "\t<tr><td>2014</td><td>NA</td><td>NA</td><td>H1511</td><td>NA</td><td>NA</td><td>NA</td><td>NA</td><td>NA</td><td>49.4911</td><td> 124.1784</td><td>NA</td><td> 28</td><td>NA</td><td>NA</td><td>Circle Island              </td><td>North East Gulf</td><td> 2014-08-08</td><td>NA</td></tr>\n",
       "\t<tr><td>2014</td><td>NA</td><td>NA</td><td>H1512</td><td>NA</td><td>NA</td><td>NA</td><td>NA</td><td>NA</td><td>49.5058</td><td> 124.2576</td><td>NA</td><td> 63</td><td>NA</td><td>NA</td><td>Avery Reef                 </td><td>North East Gulf</td><td> 2014-08-08</td><td>NA</td></tr>\n",
       "\t<tr><td>2014</td><td>NA</td><td>NA</td><td>H1513</td><td>NA</td><td>NA</td><td>NA</td><td>NA</td><td>NA</td><td>49.6378</td><td> 123.8466</td><td>NA</td><td> 79</td><td>NA</td><td>NA</td><td>Anderson Creek             </td><td>North East Gulf</td><td> 2014-08-22</td><td>NA</td></tr>\n",
       "\t<tr><td>2014</td><td>NA</td><td>NA</td><td>H1514</td><td>NA</td><td>NA</td><td>NA</td><td>NA</td><td>NA</td><td>49.6504</td><td> 123.6731</td><td>NA</td><td> 27</td><td>NA</td><td>NA</td><td>Salmon Inlet               </td><td>North East Gulf</td><td> 2014-08-22</td><td>NA</td></tr>\n",
       "\t<tr><td>2014</td><td>NA</td><td>NA</td><td>H1515</td><td>NA</td><td>NA</td><td>NA</td><td>NA</td><td>NA</td><td>49.5348</td><td> 123.7931</td><td>NA</td><td> 35</td><td>NA</td><td>NA</td><td>Carlson Point              </td><td>North East Gulf</td><td> 2014-08-22</td><td>NA</td></tr>\n",
       "\t<tr><td>2014</td><td>NA</td><td>NA</td><td>H1516</td><td>NA</td><td>NA</td><td>NA</td><td>NA</td><td>NA</td><td>49.5257</td><td> 123.7950</td><td>NA</td><td> 15</td><td>NA</td><td>NA</td><td>Carlson Reef               </td><td>North East Gulf</td><td> 2014-08-22</td><td>NA</td></tr>\n",
       "\t<tr><td>2014</td><td>NA</td><td>NA</td><td>H1517</td><td>NA</td><td>NA</td><td>NA</td><td>NA</td><td>NA</td><td>49.7397</td><td> 123.8989</td><td>NA</td><td> 11</td><td>NA</td><td>NA</td><td>Sechelt Islets             </td><td>North East Gulf</td><td> 2014-08-10</td><td>NA</td></tr>\n",
       "\t<tr><td>2014</td><td>NA</td><td>NA</td><td>H1518</td><td>NA</td><td>NA</td><td>NA</td><td>NA</td><td>NA</td><td>49.7888</td><td> 123.9968</td><td>NA</td><td> 35</td><td>NA</td><td>NA</td><td>Captain Island             </td><td>North East Gulf</td><td> 2014-08-10</td><td>NA</td></tr>\n",
       "\t<tr><td>2014</td><td>NA</td><td>NA</td><td>H1519</td><td>NA</td><td>NA</td><td>NA</td><td>NA</td><td>NA</td><td>49.8166</td><td> 124.0823</td><td>NA</td><td> 36</td><td>NA</td><td>NA</td><td>Sykes Island               </td><td>North East Gulf</td><td> 2014-08-10</td><td>NA</td></tr>\n",
       "\t<tr><td>2014</td><td>NA</td><td>NA</td><td>H1520</td><td>NA</td><td>NA</td><td>NA</td><td>NA</td><td>NA</td><td>50.0855</td><td> 125.0293</td><td>NA</td><td>  8</td><td>NA</td><td>NA</td><td>Heather Islets             </td><td>North East Gulf</td><td> 2014-08-10</td><td>NA</td></tr>\n",
       "\t<tr><td>2014</td><td>NA</td><td>NA</td><td>H1521</td><td>NA</td><td>NA</td><td>NA</td><td>NA</td><td>NA</td><td>50.1455</td><td> 125.1640</td><td>NA</td><td> 21</td><td>NA</td><td>NA</td><td>Dunsterville Islet         </td><td>North East Gulf</td><td> 2014-08-10</td><td>NA</td></tr>\n",
       "\t<tr><td>2014</td><td>NA</td><td>NA</td><td>H1522</td><td>NA</td><td>NA</td><td>NA</td><td>NA</td><td>NA</td><td>48.7799</td><td> 123.5587</td><td>NA</td><td> 14</td><td>NA</td><td>NA</td><td>Sansum Point               </td><td>Gulf Islands   </td><td> 2014-08-22</td><td>NA</td></tr>\n",
       "\t<tr><td>2014</td><td>NA</td><td>NA</td><td>H1523</td><td>NA</td><td>NA</td><td>NA</td><td>NA</td><td>NA</td><td>48.9072</td><td> 123.3595</td><td>NA</td><td> 10</td><td>NA</td><td>NA</td><td>Andaje Point               </td><td>Gulf Islands   </td><td> 2014-08-21</td><td>NA</td></tr>\n",
       "\t<tr><td>2014</td><td>NA</td><td>NA</td><td>H1524</td><td>NA</td><td>NA</td><td>NA</td><td>NA</td><td>NA</td><td>48.8576</td><td> 123.3396</td><td>NA</td><td> 10</td><td>NA</td><td>NA</td><td>Mayne Island               </td><td>Gulf Islands   </td><td> 2014-08-21</td><td>NA</td></tr>\n",
       "\t<tr><td>2015</td><td>NA</td><td>NA</td><td>NA   </td><td>NA</td><td>NA</td><td>NA</td><td>NA</td><td>NA</td><td>     NA</td><td>       NA</td><td>NA</td><td> NA</td><td>NA</td><td>NA</td><td>NA                         </td><td>NA             </td><td>NA         </td><td>NA</td></tr>\n",
       "\t<tr><td>2016</td><td>NA</td><td>NA</td><td>NA   </td><td>NA</td><td>NA</td><td>NA</td><td>NA</td><td>NA</td><td>     NA</td><td>       NA</td><td>NA</td><td> NA</td><td>NA</td><td>NA</td><td>NA                         </td><td>NA             </td><td>NA         </td><td>NA</td></tr>\n",
       "\t<tr><td>2017</td><td>NA</td><td>NA</td><td>NA   </td><td>NA</td><td>NA</td><td>NA</td><td>NA</td><td>NA</td><td>     NA</td><td>       NA</td><td>NA</td><td> NA</td><td>NA</td><td>NA</td><td>NA                         </td><td>NA             </td><td>NA         </td><td>NA</td></tr>\n",
       "\t<tr><td>2018</td><td>NA</td><td>NA</td><td>NA   </td><td>NA</td><td>NA</td><td>NA</td><td>NA</td><td>NA</td><td>     NA</td><td>       NA</td><td>NA</td><td> NA</td><td>NA</td><td>NA</td><td>NA                         </td><td>NA             </td><td>NA         </td><td>NA</td></tr>\n",
       "</tbody>\n",
       "</table>\n"
      ],
      "text/latex": [
       "A tibble: 6953 × 19\n",
       "\\begin{tabular}{r|lllllllllllllllllll}\n",
       " Date.1 & ï..Region.ID & Region.Name & Site.Key & Location & Survey.Code & Species & Use & weighting\\_GO & Latitude & Longitude & yr\\_total\\_est\\_sanj & Count & yr\\_expanded\\_est & X & Location.Value & Location.Info & Date & Mean\\\\\n",
       " <int> & <int> & <fct> & <fct> & <fct> & <dbl> & <fct> & <fct> & <dbl> & <dbl> & <dbl> & <int> & <dbl> & <dbl> & <lgl> & <fct> & <fct> & <fct> & <dbl>\\\\\n",
       "\\hline\n",
       "\t 1966 & NA & NA & H0005 & NA & NA & NA & NA & NA & 48.5238 & -123.2905 & NA &  3.00000 & NA & NA & Zero Rock                     & South Gulf   &  1966-08-13 &       NA\\\\\n",
       "\t 1966 & NA & NA & H0006 & NA & NA & NA & NA & NA & 48.5589 & -123.2789 & NA &  2.00000 & NA & NA & South D'Arcy Island Reef      & South Gulf   &  1966-08-13 &       NA\\\\\n",
       "\t 1966 & NA & NA & H0009 & NA & NA & NA & NA & NA & 48.5850 & -123.2890 & NA &  2.00000 & NA & NA & Sallas Rocks                  & South Gulf   &  1966-08-13 &       NA\\\\\n",
       "\t 1966 & NA & NA & H0011 & NA & NA & NA & NA & NA & 48.5958 & -123.3017 & NA & 30.00000 & NA & NA & Munroe Rock                   & South Gulf   &  1966-08-13 &       NA\\\\\n",
       "\t 1966 & NA & NA & H0013 & NA & NA & NA & NA & NA & 48.6224 & -123.3086 & NA &  2.00000 & NA & NA & East Sidney Island Reef       & South Gulf   &  1966-08-13 &       NA\\\\\n",
       "\t 1966 & NA & NA & H0015 & NA & NA & NA & NA & NA & 48.6714 & -123.2754 & NA &  4.00000 & NA & NA & Cooper Reef                   & South Gulf   &  1966-08-13 &       NA\\\\\n",
       "\t 1966 & NA & NA & H0022 & NA & NA & NA & NA & NA & 48.6740 & -123.4068 & NA & 30.00000 & NA & NA & Tsehum Harbour Reef           & South Gulf   &  1966-08-13 &       NA\\\\\n",
       "\t 1966 & NA & NA & H0026 & NA & NA & NA & NA & NA & 48.9014 & -123.6727 & NA &  7.00000 & NA & NA & Shoal Island Flats            & Gulf Islands &  1966-08-14 &       NA\\\\\n",
       "\t 1966 & NA & NA & H0029 & NA & NA & NA & NA & NA & 49.0800 & -122.8750 & NA &  0.00000 & NA & NA & East Boundary Bay Site A      & Boundary Bay &  1966-07-19 &       NA\\\\\n",
       "\t 1966 & NA & NA & H0030 & NA & NA & NA & NA & NA & 49.0815 & -122.8987 & NA &  7.00000 & NA & NA & East Boundary Bay Site B      & Boundary Bay &  1966-08-29 &       NA\\\\\n",
       "\t 1966 & NA & NA & H0031 & NA & NA & NA & NA & NA & 49.0700 & -122.8917 & NA & 24.66667 & NA & NA & East Boundary Bay Site C      & Boundary Bay &  1966-07-27 & 24.66667\\\\\n",
       "\t 1966 & NA & NA & H0032 & NA & NA & NA & NA & NA & 49.0663 & -122.9303 & NA & 49.60000 & NA & NA & East Boundary Bay Site D      & Boundary Bay &  1966-06-08 & 49.60000\\\\\n",
       "\t 1966 & NA & NA & H0034 & NA & NA & NA & NA & NA & 49.0336 & -122.9731 & NA & 72.00000 & NA & NA & West Boundary Bay Site F      & Boundary Bay &  1966-06-08 & 72.00000\\\\\n",
       "\t 1966 & NA & NA & H0035 & NA & NA & NA & NA & NA & 49.0297 & -122.9950 & NA & 13.33333 & NA & NA & West Boundary Bay Site G      & Boundary Bay &  1966-07-27 & 13.33333\\\\\n",
       "\t 1966 & NA & NA & H0037 & NA & NA & NA & NA & NA & 49.0555 & -123.2254 & NA &  0.25000 & NA & NA & Central Roberts Bank Site B   & Fraser River &  1966-07-19 &  0.25000\\\\\n",
       "\t 1966 & NA & NA & H0040 & NA & NA & NA & NA & NA & 49.1020 & -123.2067 & NA & 11.00000 & NA & NA & North Roberts Bank Site F     & Fraser River &  1966-07-27 & 11.00000\\\\\n",
       "\t 1966 & NA & NA & H0042 & NA & NA & NA & NA & NA & 49.1866 & -123.2166 & NA & 44.25000 & NA & NA & Central Sturgeon Bank Site C  & Fraser River &  1966-07-19 & 44.25000\\\\\n",
       "\t 1966 & NA & NA & H0047 & NA & NA & NA & NA & NA & 49.0111 & -123.6453 & NA & 32.00000 & NA & NA & Rose Islets                   & Gulf Islands &  1966-08-14 &       NA\\\\\n",
       "\t 1966 & NA & NA & H0060 & NA & NA & NA & NA & NA & 49.1531 & -123.6793 & NA & 11.00000 & NA & NA & Southeast Acorn Island Reef   & Gulf Islands &  1966-08-14 &       NA\\\\\n",
       "\t 1966 & NA & NA & H0062 & NA & NA & NA & NA & NA & 49.1223 & -123.6859 & NA &  1.00000 & NA & NA & East Kendrick Island Rock     & Gulf Islands &  1966-08-14 &       NA\\\\\n",
       "\t 1966 & NA & NA & H0069 & NA & NA & NA & NA & NA & 48.8328 & -123.1973 & NA &  7.00000 & NA & NA & Belle Chain Islets            & Gulf Islands &  1966-08-13 &       NA\\\\\n",
       "\t 1966 & NA & NA & H0070 & NA & NA & NA & NA & NA & 49.1288 & -123.2655 & NA & 48.50000 & NA & NA & South Sturgeon Bank Site A    & Fraser River &  1966-07-28 & 48.50000\\\\\n",
       "\t 1966 & NA & NA & H0073 & NA & NA & NA & NA & NA & 48.8025 & -123.1156 & NA &  2.00000 & NA & NA & West Tumbo Island Reef        & Gulf Islands &  1966-08-13 &       NA\\\\\n",
       "\t 1966 & NA & NA & H0074 & NA & NA & NA & NA & NA & 48.8006 & -123.0926 & NA & 11.00000 & NA & NA & Pine Islet                    & Gulf Islands &  1966-08-13 &       NA\\\\\n",
       "\t 1966 & NA & NA & H0076 & NA & NA & NA & NA & NA & 48.7602 & -123.1084 & NA & 10.00000 & NA & NA & Java Islets                   & Gulf Islands &  1966-08-13 &       NA\\\\\n",
       "\t 1966 & NA & NA & H0077 & NA & NA & NA & NA & NA & 48.7648 & -123.3037 & NA & 21.00000 & NA & NA & Beddis Rock                   & Gulf Islands &  1966-08-13 &       NA\\\\\n",
       "\t 1966 & NA & NA & H0078 & NA & NA & NA & NA & NA & 48.8219 & -123.3214 & NA &  1.00000 & NA & NA & Northeast Stanley Point       & Gulf Islands &  1966-08-13 &       NA\\\\\n",
       "\t 1966 & NA & NA & H0079 & NA & NA & NA & NA & NA & 48.8443 & -123.3788 & NA &  1.00000 & NA & NA & Charles Rocks                 & Gulf Islands &  1966-08-14 &       NA\\\\\n",
       "\t 1966 & NA & NA & H0080 & NA & NA & NA & NA & NA & 48.9104 & -123.4264 & NA &  2.00000 & NA & NA & Midwest Galiano Island Reef A & Gulf Islands &  1966-08-14 &       NA\\\\\n",
       "\t 1966 & NA & NA & H0082 & NA & NA & NA & NA & NA & 48.9344 & -123.4882 & NA &  2.00000 & NA & NA & Midwest Galiano Island Reef C & Gulf Islands &  1966-08-14 &       NA\\\\\n",
       "\t ... & ... & ... & ... & ... & ... & ... & ... & ... & ... & ... & ... & ... & ... & ... & ... & ... & ... & ...\\\\\n",
       "\t 2014 & NA & NA & H1494 & NA & NA & NA & NA & NA & 49.9575 & -124.9166 & NA & 199 & NA & NA & Ashworth Point              & North East Gulf &  2014-08-10 & NA\\\\\n",
       "\t 2014 & NA & NA & H1495 & NA & NA & NA & NA & NA & 50.0780 & -125.0148 & NA &  30 & NA & NA & Guide Islets                & North East Gulf &  2014-08-10 & NA\\\\\n",
       "\t 2014 & NA & NA & H1496 & NA & NA & NA & NA & NA & 50.1251 & -125.0816 & NA &   0 & NA & NA & North Subtle Islands        & North East Gulf &  2014-08-10 & NA\\\\\n",
       "\t 2014 & NA & NA & H1502 & NA & NA & NA & NA & NA & 49.0256 &  123.1308 & NA &  13 & NA & NA & Tswassen                    & Fraser River    &  2014-08-07 & NA\\\\\n",
       "\t 2014 & NA & NA & H1503 & NA & NA & NA & NA & NA & 49.0406 &  123.2047 & NA &  24 & NA & NA & Central Roberts Bank Site L & Fraser River    &  2014-08-07 & NA\\\\\n",
       "\t 2014 & NA & NA & H1504 & NA & NA & NA & NA & NA & 49.3396 &  123.3059 & NA &  20 & NA & NA & Passage Island              & Howe Sound      &  2014-08-07 & NA\\\\\n",
       "\t 2014 & NA & NA & H1505 & NA & NA & NA & NA & NA & 49.4164 &  123.2355 & NA &   5 & NA & NA & Strip Creek                 & Howe Sound      &  2014-08-07 & NA\\\\\n",
       "\t 2014 & NA & NA & H1506 & NA & NA & NA & NA & NA & 49.6295 &  124.0608 & NA &   7 & NA & NA & Williams Island             & North East Gulf &  2014-08-08 & NA\\\\\n",
       "\t 2014 & NA & NA & H1507 & NA & NA & NA & NA & NA & 49.6294 &  124.0835 & NA &  15 & NA & NA & Pearson                     & North East Gulf &  2014-08-08 & NA\\\\\n",
       "\t 2014 & NA & NA & H1508 & NA & NA & NA & NA & NA & 49.7218 &  124.2185 & NA &   9 & NA & NA & Oyster Island               & North East Gulf &  2014-08-08 & NA\\\\\n",
       "\t 2014 & NA & NA & H1509 & NA & NA & NA & NA & NA & 49.7725 &  124.5743 & NA &   6 & NA & NA & Eagle Cove                  & North East Gulf &  2014-08-08 & NA\\\\\n",
       "\t 2014 & NA & NA & H1510 & NA & NA & NA & NA & NA & 49.5116 &  124.1816 & NA &  11 & NA & NA & Southwest Texada Island B   & North East Gulf &  2014-08-08 & NA\\\\\n",
       "\t 2014 & NA & NA & H1511 & NA & NA & NA & NA & NA & 49.4911 &  124.1784 & NA &  28 & NA & NA & Circle Island               & North East Gulf &  2014-08-08 & NA\\\\\n",
       "\t 2014 & NA & NA & H1512 & NA & NA & NA & NA & NA & 49.5058 &  124.2576 & NA &  63 & NA & NA & Avery Reef                  & North East Gulf &  2014-08-08 & NA\\\\\n",
       "\t 2014 & NA & NA & H1513 & NA & NA & NA & NA & NA & 49.6378 &  123.8466 & NA &  79 & NA & NA & Anderson Creek              & North East Gulf &  2014-08-22 & NA\\\\\n",
       "\t 2014 & NA & NA & H1514 & NA & NA & NA & NA & NA & 49.6504 &  123.6731 & NA &  27 & NA & NA & Salmon Inlet                & North East Gulf &  2014-08-22 & NA\\\\\n",
       "\t 2014 & NA & NA & H1515 & NA & NA & NA & NA & NA & 49.5348 &  123.7931 & NA &  35 & NA & NA & Carlson Point               & North East Gulf &  2014-08-22 & NA\\\\\n",
       "\t 2014 & NA & NA & H1516 & NA & NA & NA & NA & NA & 49.5257 &  123.7950 & NA &  15 & NA & NA & Carlson Reef                & North East Gulf &  2014-08-22 & NA\\\\\n",
       "\t 2014 & NA & NA & H1517 & NA & NA & NA & NA & NA & 49.7397 &  123.8989 & NA &  11 & NA & NA & Sechelt Islets              & North East Gulf &  2014-08-10 & NA\\\\\n",
       "\t 2014 & NA & NA & H1518 & NA & NA & NA & NA & NA & 49.7888 &  123.9968 & NA &  35 & NA & NA & Captain Island              & North East Gulf &  2014-08-10 & NA\\\\\n",
       "\t 2014 & NA & NA & H1519 & NA & NA & NA & NA & NA & 49.8166 &  124.0823 & NA &  36 & NA & NA & Sykes Island                & North East Gulf &  2014-08-10 & NA\\\\\n",
       "\t 2014 & NA & NA & H1520 & NA & NA & NA & NA & NA & 50.0855 &  125.0293 & NA &   8 & NA & NA & Heather Islets              & North East Gulf &  2014-08-10 & NA\\\\\n",
       "\t 2014 & NA & NA & H1521 & NA & NA & NA & NA & NA & 50.1455 &  125.1640 & NA &  21 & NA & NA & Dunsterville Islet          & North East Gulf &  2014-08-10 & NA\\\\\n",
       "\t 2014 & NA & NA & H1522 & NA & NA & NA & NA & NA & 48.7799 &  123.5587 & NA &  14 & NA & NA & Sansum Point                & Gulf Islands    &  2014-08-22 & NA\\\\\n",
       "\t 2014 & NA & NA & H1523 & NA & NA & NA & NA & NA & 48.9072 &  123.3595 & NA &  10 & NA & NA & Andaje Point                & Gulf Islands    &  2014-08-21 & NA\\\\\n",
       "\t 2014 & NA & NA & H1524 & NA & NA & NA & NA & NA & 48.8576 &  123.3396 & NA &  10 & NA & NA & Mayne Island                & Gulf Islands    &  2014-08-21 & NA\\\\\n",
       "\t 2015 & NA & NA & NA    & NA & NA & NA & NA & NA &      NA &        NA & NA &  NA & NA & NA & NA                          & NA              & NA          & NA\\\\\n",
       "\t 2016 & NA & NA & NA    & NA & NA & NA & NA & NA &      NA &        NA & NA &  NA & NA & NA & NA                          & NA              & NA          & NA\\\\\n",
       "\t 2017 & NA & NA & NA    & NA & NA & NA & NA & NA &      NA &        NA & NA &  NA & NA & NA & NA                          & NA              & NA          & NA\\\\\n",
       "\t 2018 & NA & NA & NA    & NA & NA & NA & NA & NA &      NA &        NA & NA &  NA & NA & NA & NA                          & NA              & NA          & NA\\\\\n",
       "\\end{tabular}\n"
      ],
      "text/markdown": [
       "\n",
       "A tibble: 6953 × 19\n",
       "\n",
       "| Date.1 &lt;int&gt; | ï..Region.ID &lt;int&gt; | Region.Name &lt;fct&gt; | Site.Key &lt;fct&gt; | Location &lt;fct&gt; | Survey.Code &lt;dbl&gt; | Species &lt;fct&gt; | Use &lt;fct&gt; | weighting_GO &lt;dbl&gt; | Latitude &lt;dbl&gt; | Longitude &lt;dbl&gt; | yr_total_est_sanj &lt;int&gt; | Count &lt;dbl&gt; | yr_expanded_est &lt;dbl&gt; | X &lt;lgl&gt; | Location.Value &lt;fct&gt; | Location.Info &lt;fct&gt; | Date &lt;fct&gt; | Mean &lt;dbl&gt; |\n",
       "|---|---|---|---|---|---|---|---|---|---|---|---|---|---|---|---|---|---|---|\n",
       "| 1966 | NA | NA | H0005 | NA | NA | NA | NA | NA | 48.5238 | -123.2905 | NA |  3.00000 | NA | NA | Zero Rock                     | South Gulf   |  1966-08-13 |       NA |\n",
       "| 1966 | NA | NA | H0006 | NA | NA | NA | NA | NA | 48.5589 | -123.2789 | NA |  2.00000 | NA | NA | South D'Arcy Island Reef      | South Gulf   |  1966-08-13 |       NA |\n",
       "| 1966 | NA | NA | H0009 | NA | NA | NA | NA | NA | 48.5850 | -123.2890 | NA |  2.00000 | NA | NA | Sallas Rocks                  | South Gulf   |  1966-08-13 |       NA |\n",
       "| 1966 | NA | NA | H0011 | NA | NA | NA | NA | NA | 48.5958 | -123.3017 | NA | 30.00000 | NA | NA | Munroe Rock                   | South Gulf   |  1966-08-13 |       NA |\n",
       "| 1966 | NA | NA | H0013 | NA | NA | NA | NA | NA | 48.6224 | -123.3086 | NA |  2.00000 | NA | NA | East Sidney Island Reef       | South Gulf   |  1966-08-13 |       NA |\n",
       "| 1966 | NA | NA | H0015 | NA | NA | NA | NA | NA | 48.6714 | -123.2754 | NA |  4.00000 | NA | NA | Cooper Reef                   | South Gulf   |  1966-08-13 |       NA |\n",
       "| 1966 | NA | NA | H0022 | NA | NA | NA | NA | NA | 48.6740 | -123.4068 | NA | 30.00000 | NA | NA | Tsehum Harbour Reef           | South Gulf   |  1966-08-13 |       NA |\n",
       "| 1966 | NA | NA | H0026 | NA | NA | NA | NA | NA | 48.9014 | -123.6727 | NA |  7.00000 | NA | NA | Shoal Island Flats            | Gulf Islands |  1966-08-14 |       NA |\n",
       "| 1966 | NA | NA | H0029 | NA | NA | NA | NA | NA | 49.0800 | -122.8750 | NA |  0.00000 | NA | NA | East Boundary Bay Site A      | Boundary Bay |  1966-07-19 |       NA |\n",
       "| 1966 | NA | NA | H0030 | NA | NA | NA | NA | NA | 49.0815 | -122.8987 | NA |  7.00000 | NA | NA | East Boundary Bay Site B      | Boundary Bay |  1966-08-29 |       NA |\n",
       "| 1966 | NA | NA | H0031 | NA | NA | NA | NA | NA | 49.0700 | -122.8917 | NA | 24.66667 | NA | NA | East Boundary Bay Site C      | Boundary Bay |  1966-07-27 | 24.66667 |\n",
       "| 1966 | NA | NA | H0032 | NA | NA | NA | NA | NA | 49.0663 | -122.9303 | NA | 49.60000 | NA | NA | East Boundary Bay Site D      | Boundary Bay |  1966-06-08 | 49.60000 |\n",
       "| 1966 | NA | NA | H0034 | NA | NA | NA | NA | NA | 49.0336 | -122.9731 | NA | 72.00000 | NA | NA | West Boundary Bay Site F      | Boundary Bay |  1966-06-08 | 72.00000 |\n",
       "| 1966 | NA | NA | H0035 | NA | NA | NA | NA | NA | 49.0297 | -122.9950 | NA | 13.33333 | NA | NA | West Boundary Bay Site G      | Boundary Bay |  1966-07-27 | 13.33333 |\n",
       "| 1966 | NA | NA | H0037 | NA | NA | NA | NA | NA | 49.0555 | -123.2254 | NA |  0.25000 | NA | NA | Central Roberts Bank Site B   | Fraser River |  1966-07-19 |  0.25000 |\n",
       "| 1966 | NA | NA | H0040 | NA | NA | NA | NA | NA | 49.1020 | -123.2067 | NA | 11.00000 | NA | NA | North Roberts Bank Site F     | Fraser River |  1966-07-27 | 11.00000 |\n",
       "| 1966 | NA | NA | H0042 | NA | NA | NA | NA | NA | 49.1866 | -123.2166 | NA | 44.25000 | NA | NA | Central Sturgeon Bank Site C  | Fraser River |  1966-07-19 | 44.25000 |\n",
       "| 1966 | NA | NA | H0047 | NA | NA | NA | NA | NA | 49.0111 | -123.6453 | NA | 32.00000 | NA | NA | Rose Islets                   | Gulf Islands |  1966-08-14 |       NA |\n",
       "| 1966 | NA | NA | H0060 | NA | NA | NA | NA | NA | 49.1531 | -123.6793 | NA | 11.00000 | NA | NA | Southeast Acorn Island Reef   | Gulf Islands |  1966-08-14 |       NA |\n",
       "| 1966 | NA | NA | H0062 | NA | NA | NA | NA | NA | 49.1223 | -123.6859 | NA |  1.00000 | NA | NA | East Kendrick Island Rock     | Gulf Islands |  1966-08-14 |       NA |\n",
       "| 1966 | NA | NA | H0069 | NA | NA | NA | NA | NA | 48.8328 | -123.1973 | NA |  7.00000 | NA | NA | Belle Chain Islets            | Gulf Islands |  1966-08-13 |       NA |\n",
       "| 1966 | NA | NA | H0070 | NA | NA | NA | NA | NA | 49.1288 | -123.2655 | NA | 48.50000 | NA | NA | South Sturgeon Bank Site A    | Fraser River |  1966-07-28 | 48.50000 |\n",
       "| 1966 | NA | NA | H0073 | NA | NA | NA | NA | NA | 48.8025 | -123.1156 | NA |  2.00000 | NA | NA | West Tumbo Island Reef        | Gulf Islands |  1966-08-13 |       NA |\n",
       "| 1966 | NA | NA | H0074 | NA | NA | NA | NA | NA | 48.8006 | -123.0926 | NA | 11.00000 | NA | NA | Pine Islet                    | Gulf Islands |  1966-08-13 |       NA |\n",
       "| 1966 | NA | NA | H0076 | NA | NA | NA | NA | NA | 48.7602 | -123.1084 | NA | 10.00000 | NA | NA | Java Islets                   | Gulf Islands |  1966-08-13 |       NA |\n",
       "| 1966 | NA | NA | H0077 | NA | NA | NA | NA | NA | 48.7648 | -123.3037 | NA | 21.00000 | NA | NA | Beddis Rock                   | Gulf Islands |  1966-08-13 |       NA |\n",
       "| 1966 | NA | NA | H0078 | NA | NA | NA | NA | NA | 48.8219 | -123.3214 | NA |  1.00000 | NA | NA | Northeast Stanley Point       | Gulf Islands |  1966-08-13 |       NA |\n",
       "| 1966 | NA | NA | H0079 | NA | NA | NA | NA | NA | 48.8443 | -123.3788 | NA |  1.00000 | NA | NA | Charles Rocks                 | Gulf Islands |  1966-08-14 |       NA |\n",
       "| 1966 | NA | NA | H0080 | NA | NA | NA | NA | NA | 48.9104 | -123.4264 | NA |  2.00000 | NA | NA | Midwest Galiano Island Reef A | Gulf Islands |  1966-08-14 |       NA |\n",
       "| 1966 | NA | NA | H0082 | NA | NA | NA | NA | NA | 48.9344 | -123.4882 | NA |  2.00000 | NA | NA | Midwest Galiano Island Reef C | Gulf Islands |  1966-08-14 |       NA |\n",
       "| ... | ... | ... | ... | ... | ... | ... | ... | ... | ... | ... | ... | ... | ... | ... | ... | ... | ... | ... |\n",
       "| 2014 | NA | NA | H1494 | NA | NA | NA | NA | NA | 49.9575 | -124.9166 | NA | 199 | NA | NA | Ashworth Point              | North East Gulf |  2014-08-10 | NA |\n",
       "| 2014 | NA | NA | H1495 | NA | NA | NA | NA | NA | 50.0780 | -125.0148 | NA |  30 | NA | NA | Guide Islets                | North East Gulf |  2014-08-10 | NA |\n",
       "| 2014 | NA | NA | H1496 | NA | NA | NA | NA | NA | 50.1251 | -125.0816 | NA |   0 | NA | NA | North Subtle Islands        | North East Gulf |  2014-08-10 | NA |\n",
       "| 2014 | NA | NA | H1502 | NA | NA | NA | NA | NA | 49.0256 |  123.1308 | NA |  13 | NA | NA | Tswassen                    | Fraser River    |  2014-08-07 | NA |\n",
       "| 2014 | NA | NA | H1503 | NA | NA | NA | NA | NA | 49.0406 |  123.2047 | NA |  24 | NA | NA | Central Roberts Bank Site L | Fraser River    |  2014-08-07 | NA |\n",
       "| 2014 | NA | NA | H1504 | NA | NA | NA | NA | NA | 49.3396 |  123.3059 | NA |  20 | NA | NA | Passage Island              | Howe Sound      |  2014-08-07 | NA |\n",
       "| 2014 | NA | NA | H1505 | NA | NA | NA | NA | NA | 49.4164 |  123.2355 | NA |   5 | NA | NA | Strip Creek                 | Howe Sound      |  2014-08-07 | NA |\n",
       "| 2014 | NA | NA | H1506 | NA | NA | NA | NA | NA | 49.6295 |  124.0608 | NA |   7 | NA | NA | Williams Island             | North East Gulf |  2014-08-08 | NA |\n",
       "| 2014 | NA | NA | H1507 | NA | NA | NA | NA | NA | 49.6294 |  124.0835 | NA |  15 | NA | NA | Pearson                     | North East Gulf |  2014-08-08 | NA |\n",
       "| 2014 | NA | NA | H1508 | NA | NA | NA | NA | NA | 49.7218 |  124.2185 | NA |   9 | NA | NA | Oyster Island               | North East Gulf |  2014-08-08 | NA |\n",
       "| 2014 | NA | NA | H1509 | NA | NA | NA | NA | NA | 49.7725 |  124.5743 | NA |   6 | NA | NA | Eagle Cove                  | North East Gulf |  2014-08-08 | NA |\n",
       "| 2014 | NA | NA | H1510 | NA | NA | NA | NA | NA | 49.5116 |  124.1816 | NA |  11 | NA | NA | Southwest Texada Island B   | North East Gulf |  2014-08-08 | NA |\n",
       "| 2014 | NA | NA | H1511 | NA | NA | NA | NA | NA | 49.4911 |  124.1784 | NA |  28 | NA | NA | Circle Island               | North East Gulf |  2014-08-08 | NA |\n",
       "| 2014 | NA | NA | H1512 | NA | NA | NA | NA | NA | 49.5058 |  124.2576 | NA |  63 | NA | NA | Avery Reef                  | North East Gulf |  2014-08-08 | NA |\n",
       "| 2014 | NA | NA | H1513 | NA | NA | NA | NA | NA | 49.6378 |  123.8466 | NA |  79 | NA | NA | Anderson Creek              | North East Gulf |  2014-08-22 | NA |\n",
       "| 2014 | NA | NA | H1514 | NA | NA | NA | NA | NA | 49.6504 |  123.6731 | NA |  27 | NA | NA | Salmon Inlet                | North East Gulf |  2014-08-22 | NA |\n",
       "| 2014 | NA | NA | H1515 | NA | NA | NA | NA | NA | 49.5348 |  123.7931 | NA |  35 | NA | NA | Carlson Point               | North East Gulf |  2014-08-22 | NA |\n",
       "| 2014 | NA | NA | H1516 | NA | NA | NA | NA | NA | 49.5257 |  123.7950 | NA |  15 | NA | NA | Carlson Reef                | North East Gulf |  2014-08-22 | NA |\n",
       "| 2014 | NA | NA | H1517 | NA | NA | NA | NA | NA | 49.7397 |  123.8989 | NA |  11 | NA | NA | Sechelt Islets              | North East Gulf |  2014-08-10 | NA |\n",
       "| 2014 | NA | NA | H1518 | NA | NA | NA | NA | NA | 49.7888 |  123.9968 | NA |  35 | NA | NA | Captain Island              | North East Gulf |  2014-08-10 | NA |\n",
       "| 2014 | NA | NA | H1519 | NA | NA | NA | NA | NA | 49.8166 |  124.0823 | NA |  36 | NA | NA | Sykes Island                | North East Gulf |  2014-08-10 | NA |\n",
       "| 2014 | NA | NA | H1520 | NA | NA | NA | NA | NA | 50.0855 |  125.0293 | NA |   8 | NA | NA | Heather Islets              | North East Gulf |  2014-08-10 | NA |\n",
       "| 2014 | NA | NA | H1521 | NA | NA | NA | NA | NA | 50.1455 |  125.1640 | NA |  21 | NA | NA | Dunsterville Islet          | North East Gulf |  2014-08-10 | NA |\n",
       "| 2014 | NA | NA | H1522 | NA | NA | NA | NA | NA | 48.7799 |  123.5587 | NA |  14 | NA | NA | Sansum Point                | Gulf Islands    |  2014-08-22 | NA |\n",
       "| 2014 | NA | NA | H1523 | NA | NA | NA | NA | NA | 48.9072 |  123.3595 | NA |  10 | NA | NA | Andaje Point                | Gulf Islands    |  2014-08-21 | NA |\n",
       "| 2014 | NA | NA | H1524 | NA | NA | NA | NA | NA | 48.8576 |  123.3396 | NA |  10 | NA | NA | Mayne Island                | Gulf Islands    |  2014-08-21 | NA |\n",
       "| 2015 | NA | NA | NA    | NA | NA | NA | NA | NA |      NA |        NA | NA |  NA | NA | NA | NA                          | NA              | NA          | NA |\n",
       "| 2016 | NA | NA | NA    | NA | NA | NA | NA | NA |      NA |        NA | NA |  NA | NA | NA | NA                          | NA              | NA          | NA |\n",
       "| 2017 | NA | NA | NA    | NA | NA | NA | NA | NA |      NA |        NA | NA |  NA | NA | NA | NA                          | NA              | NA          | NA |\n",
       "| 2018 | NA | NA | NA    | NA | NA | NA | NA | NA |      NA |        NA | NA |  NA | NA | NA | NA                          | NA              | NA          | NA |\n",
       "\n"
      ],
      "text/plain": [
       "     Date.1 ï..Region.ID Region.Name Site.Key Location Survey.Code Species Use\n",
       "1    1966   NA           NA          H0005    NA       NA          NA      NA \n",
       "2    1966   NA           NA          H0006    NA       NA          NA      NA \n",
       "3    1966   NA           NA          H0009    NA       NA          NA      NA \n",
       "4    1966   NA           NA          H0011    NA       NA          NA      NA \n",
       "5    1966   NA           NA          H0013    NA       NA          NA      NA \n",
       "6    1966   NA           NA          H0015    NA       NA          NA      NA \n",
       "7    1966   NA           NA          H0022    NA       NA          NA      NA \n",
       "8    1966   NA           NA          H0026    NA       NA          NA      NA \n",
       "9    1966   NA           NA          H0029    NA       NA          NA      NA \n",
       "10   1966   NA           NA          H0030    NA       NA          NA      NA \n",
       "11   1966   NA           NA          H0031    NA       NA          NA      NA \n",
       "12   1966   NA           NA          H0032    NA       NA          NA      NA \n",
       "13   1966   NA           NA          H0034    NA       NA          NA      NA \n",
       "14   1966   NA           NA          H0035    NA       NA          NA      NA \n",
       "15   1966   NA           NA          H0037    NA       NA          NA      NA \n",
       "16   1966   NA           NA          H0040    NA       NA          NA      NA \n",
       "17   1966   NA           NA          H0042    NA       NA          NA      NA \n",
       "18   1966   NA           NA          H0047    NA       NA          NA      NA \n",
       "19   1966   NA           NA          H0060    NA       NA          NA      NA \n",
       "20   1966   NA           NA          H0062    NA       NA          NA      NA \n",
       "21   1966   NA           NA          H0069    NA       NA          NA      NA \n",
       "22   1966   NA           NA          H0070    NA       NA          NA      NA \n",
       "23   1966   NA           NA          H0073    NA       NA          NA      NA \n",
       "24   1966   NA           NA          H0074    NA       NA          NA      NA \n",
       "25   1966   NA           NA          H0076    NA       NA          NA      NA \n",
       "26   1966   NA           NA          H0077    NA       NA          NA      NA \n",
       "27   1966   NA           NA          H0078    NA       NA          NA      NA \n",
       "28   1966   NA           NA          H0079    NA       NA          NA      NA \n",
       "29   1966   NA           NA          H0080    NA       NA          NA      NA \n",
       "30   1966   NA           NA          H0082    NA       NA          NA      NA \n",
       "...  ...    ...          ...         ...      ...      ...         ...     ...\n",
       "6924 2014   NA           NA          H1494    NA       NA          NA      NA \n",
       "6925 2014   NA           NA          H1495    NA       NA          NA      NA \n",
       "6926 2014   NA           NA          H1496    NA       NA          NA      NA \n",
       "6927 2014   NA           NA          H1502    NA       NA          NA      NA \n",
       "6928 2014   NA           NA          H1503    NA       NA          NA      NA \n",
       "6929 2014   NA           NA          H1504    NA       NA          NA      NA \n",
       "6930 2014   NA           NA          H1505    NA       NA          NA      NA \n",
       "6931 2014   NA           NA          H1506    NA       NA          NA      NA \n",
       "6932 2014   NA           NA          H1507    NA       NA          NA      NA \n",
       "6933 2014   NA           NA          H1508    NA       NA          NA      NA \n",
       "6934 2014   NA           NA          H1509    NA       NA          NA      NA \n",
       "6935 2014   NA           NA          H1510    NA       NA          NA      NA \n",
       "6936 2014   NA           NA          H1511    NA       NA          NA      NA \n",
       "6937 2014   NA           NA          H1512    NA       NA          NA      NA \n",
       "6938 2014   NA           NA          H1513    NA       NA          NA      NA \n",
       "6939 2014   NA           NA          H1514    NA       NA          NA      NA \n",
       "6940 2014   NA           NA          H1515    NA       NA          NA      NA \n",
       "6941 2014   NA           NA          H1516    NA       NA          NA      NA \n",
       "6942 2014   NA           NA          H1517    NA       NA          NA      NA \n",
       "6943 2014   NA           NA          H1518    NA       NA          NA      NA \n",
       "6944 2014   NA           NA          H1519    NA       NA          NA      NA \n",
       "6945 2014   NA           NA          H1520    NA       NA          NA      NA \n",
       "6946 2014   NA           NA          H1521    NA       NA          NA      NA \n",
       "6947 2014   NA           NA          H1522    NA       NA          NA      NA \n",
       "6948 2014   NA           NA          H1523    NA       NA          NA      NA \n",
       "6949 2014   NA           NA          H1524    NA       NA          NA      NA \n",
       "6950 2015   NA           NA          NA       NA       NA          NA      NA \n",
       "6951 2016   NA           NA          NA       NA       NA          NA      NA \n",
       "6952 2017   NA           NA          NA       NA       NA          NA      NA \n",
       "6953 2018   NA           NA          NA       NA       NA          NA      NA \n",
       "     weighting_GO Latitude Longitude yr_total_est_sanj Count    yr_expanded_est\n",
       "1    NA           48.5238  -123.2905 NA                 3.00000 NA             \n",
       "2    NA           48.5589  -123.2789 NA                 2.00000 NA             \n",
       "3    NA           48.5850  -123.2890 NA                 2.00000 NA             \n",
       "4    NA           48.5958  -123.3017 NA                30.00000 NA             \n",
       "5    NA           48.6224  -123.3086 NA                 2.00000 NA             \n",
       "6    NA           48.6714  -123.2754 NA                 4.00000 NA             \n",
       "7    NA           48.6740  -123.4068 NA                30.00000 NA             \n",
       "8    NA           48.9014  -123.6727 NA                 7.00000 NA             \n",
       "9    NA           49.0800  -122.8750 NA                 0.00000 NA             \n",
       "10   NA           49.0815  -122.8987 NA                 7.00000 NA             \n",
       "11   NA           49.0700  -122.8917 NA                24.66667 NA             \n",
       "12   NA           49.0663  -122.9303 NA                49.60000 NA             \n",
       "13   NA           49.0336  -122.9731 NA                72.00000 NA             \n",
       "14   NA           49.0297  -122.9950 NA                13.33333 NA             \n",
       "15   NA           49.0555  -123.2254 NA                 0.25000 NA             \n",
       "16   NA           49.1020  -123.2067 NA                11.00000 NA             \n",
       "17   NA           49.1866  -123.2166 NA                44.25000 NA             \n",
       "18   NA           49.0111  -123.6453 NA                32.00000 NA             \n",
       "19   NA           49.1531  -123.6793 NA                11.00000 NA             \n",
       "20   NA           49.1223  -123.6859 NA                 1.00000 NA             \n",
       "21   NA           48.8328  -123.1973 NA                 7.00000 NA             \n",
       "22   NA           49.1288  -123.2655 NA                48.50000 NA             \n",
       "23   NA           48.8025  -123.1156 NA                 2.00000 NA             \n",
       "24   NA           48.8006  -123.0926 NA                11.00000 NA             \n",
       "25   NA           48.7602  -123.1084 NA                10.00000 NA             \n",
       "26   NA           48.7648  -123.3037 NA                21.00000 NA             \n",
       "27   NA           48.8219  -123.3214 NA                 1.00000 NA             \n",
       "28   NA           48.8443  -123.3788 NA                 1.00000 NA             \n",
       "29   NA           48.9104  -123.4264 NA                 2.00000 NA             \n",
       "30   NA           48.9344  -123.4882 NA                 2.00000 NA             \n",
       "...  ...          ...      ...       ...               ...      ...            \n",
       "6924 NA           49.9575  -124.9166 NA                199      NA             \n",
       "6925 NA           50.0780  -125.0148 NA                 30      NA             \n",
       "6926 NA           50.1251  -125.0816 NA                  0      NA             \n",
       "6927 NA           49.0256   123.1308 NA                 13      NA             \n",
       "6928 NA           49.0406   123.2047 NA                 24      NA             \n",
       "6929 NA           49.3396   123.3059 NA                 20      NA             \n",
       "6930 NA           49.4164   123.2355 NA                  5      NA             \n",
       "6931 NA           49.6295   124.0608 NA                  7      NA             \n",
       "6932 NA           49.6294   124.0835 NA                 15      NA             \n",
       "6933 NA           49.7218   124.2185 NA                  9      NA             \n",
       "6934 NA           49.7725   124.5743 NA                  6      NA             \n",
       "6935 NA           49.5116   124.1816 NA                 11      NA             \n",
       "6936 NA           49.4911   124.1784 NA                 28      NA             \n",
       "6937 NA           49.5058   124.2576 NA                 63      NA             \n",
       "6938 NA           49.6378   123.8466 NA                 79      NA             \n",
       "6939 NA           49.6504   123.6731 NA                 27      NA             \n",
       "6940 NA           49.5348   123.7931 NA                 35      NA             \n",
       "6941 NA           49.5257   123.7950 NA                 15      NA             \n",
       "6942 NA           49.7397   123.8989 NA                 11      NA             \n",
       "6943 NA           49.7888   123.9968 NA                 35      NA             \n",
       "6944 NA           49.8166   124.0823 NA                 36      NA             \n",
       "6945 NA           50.0855   125.0293 NA                  8      NA             \n",
       "6946 NA           50.1455   125.1640 NA                 21      NA             \n",
       "6947 NA           48.7799   123.5587 NA                 14      NA             \n",
       "6948 NA           48.9072   123.3595 NA                 10      NA             \n",
       "6949 NA           48.8576   123.3396 NA                 10      NA             \n",
       "6950 NA                NA         NA NA                 NA      NA             \n",
       "6951 NA                NA         NA NA                 NA      NA             \n",
       "6952 NA                NA         NA NA                 NA      NA             \n",
       "6953 NA                NA         NA NA                 NA      NA             \n",
       "     X   Location.Value                Location.Info   Date        Mean    \n",
       "1    NA  Zero Rock                     South Gulf       1966-08-13       NA\n",
       "2    NA  South D'Arcy Island Reef      South Gulf       1966-08-13       NA\n",
       "3    NA  Sallas Rocks                  South Gulf       1966-08-13       NA\n",
       "4    NA  Munroe Rock                   South Gulf       1966-08-13       NA\n",
       "5    NA  East Sidney Island Reef       South Gulf       1966-08-13       NA\n",
       "6    NA  Cooper Reef                   South Gulf       1966-08-13       NA\n",
       "7    NA  Tsehum Harbour Reef           South Gulf       1966-08-13       NA\n",
       "8    NA  Shoal Island Flats            Gulf Islands     1966-08-14       NA\n",
       "9    NA  East Boundary Bay Site A      Boundary Bay     1966-07-19       NA\n",
       "10   NA  East Boundary Bay Site B      Boundary Bay     1966-08-29       NA\n",
       "11   NA  East Boundary Bay Site C      Boundary Bay     1966-07-27 24.66667\n",
       "12   NA  East Boundary Bay Site D      Boundary Bay     1966-06-08 49.60000\n",
       "13   NA  West Boundary Bay Site F      Boundary Bay     1966-06-08 72.00000\n",
       "14   NA  West Boundary Bay Site G      Boundary Bay     1966-07-27 13.33333\n",
       "15   NA  Central Roberts Bank Site B   Fraser River     1966-07-19  0.25000\n",
       "16   NA  North Roberts Bank Site F     Fraser River     1966-07-27 11.00000\n",
       "17   NA  Central Sturgeon Bank Site C  Fraser River     1966-07-19 44.25000\n",
       "18   NA  Rose Islets                   Gulf Islands     1966-08-14       NA\n",
       "19   NA  Southeast Acorn Island Reef   Gulf Islands     1966-08-14       NA\n",
       "20   NA  East Kendrick Island Rock     Gulf Islands     1966-08-14       NA\n",
       "21   NA  Belle Chain Islets            Gulf Islands     1966-08-13       NA\n",
       "22   NA  South Sturgeon Bank Site A    Fraser River     1966-07-28 48.50000\n",
       "23   NA  West Tumbo Island Reef        Gulf Islands     1966-08-13       NA\n",
       "24   NA  Pine Islet                    Gulf Islands     1966-08-13       NA\n",
       "25   NA  Java Islets                   Gulf Islands     1966-08-13       NA\n",
       "26   NA  Beddis Rock                   Gulf Islands     1966-08-13       NA\n",
       "27   NA  Northeast Stanley Point       Gulf Islands     1966-08-13       NA\n",
       "28   NA  Charles Rocks                 Gulf Islands     1966-08-14       NA\n",
       "29   NA  Midwest Galiano Island Reef A Gulf Islands     1966-08-14       NA\n",
       "30   NA  Midwest Galiano Island Reef C Gulf Islands     1966-08-14       NA\n",
       "...  ... ...                           ...             ...         ...     \n",
       "6924 NA  Ashworth Point                North East Gulf  2014-08-10 NA      \n",
       "6925 NA  Guide Islets                  North East Gulf  2014-08-10 NA      \n",
       "6926 NA  North Subtle Islands          North East Gulf  2014-08-10 NA      \n",
       "6927 NA  Tswassen                      Fraser River     2014-08-07 NA      \n",
       "6928 NA  Central Roberts Bank Site L   Fraser River     2014-08-07 NA      \n",
       "6929 NA  Passage Island                Howe Sound       2014-08-07 NA      \n",
       "6930 NA  Strip Creek                   Howe Sound       2014-08-07 NA      \n",
       "6931 NA  Williams Island               North East Gulf  2014-08-08 NA      \n",
       "6932 NA  Pearson                       North East Gulf  2014-08-08 NA      \n",
       "6933 NA  Oyster Island                 North East Gulf  2014-08-08 NA      \n",
       "6934 NA  Eagle Cove                    North East Gulf  2014-08-08 NA      \n",
       "6935 NA  Southwest Texada Island B     North East Gulf  2014-08-08 NA      \n",
       "6936 NA  Circle Island                 North East Gulf  2014-08-08 NA      \n",
       "6937 NA  Avery Reef                    North East Gulf  2014-08-08 NA      \n",
       "6938 NA  Anderson Creek                North East Gulf  2014-08-22 NA      \n",
       "6939 NA  Salmon Inlet                  North East Gulf  2014-08-22 NA      \n",
       "6940 NA  Carlson Point                 North East Gulf  2014-08-22 NA      \n",
       "6941 NA  Carlson Reef                  North East Gulf  2014-08-22 NA      \n",
       "6942 NA  Sechelt Islets                North East Gulf  2014-08-10 NA      \n",
       "6943 NA  Captain Island                North East Gulf  2014-08-10 NA      \n",
       "6944 NA  Sykes Island                  North East Gulf  2014-08-10 NA      \n",
       "6945 NA  Heather Islets                North East Gulf  2014-08-10 NA      \n",
       "6946 NA  Dunsterville Islet            North East Gulf  2014-08-10 NA      \n",
       "6947 NA  Sansum Point                  Gulf Islands     2014-08-22 NA      \n",
       "6948 NA  Andaje Point                  Gulf Islands     2014-08-21 NA      \n",
       "6949 NA  Mayne Island                  Gulf Islands     2014-08-21 NA      \n",
       "6950 NA  NA                            NA              NA          NA      \n",
       "6951 NA  NA                            NA              NA          NA      \n",
       "6952 NA  NA                            NA              NA          NA      \n",
       "6953 NA  NA                            NA              NA          NA      "
      ]
     },
     "metadata": {},
     "output_type": "display_data"
    },
    {
     "name": "stderr",
     "output_type": "stream",
     "text": [
      "`summarise()` regrouping output by 'Date.1' (override with `.groups` argument)\n"
     ]
    },
    {
     "data": {
      "text/html": [
       "<table>\n",
       "<caption>A tibble: 53 × 20</caption>\n",
       "<thead>\n",
       "\t<tr><th scope=col>Date.1</th><th scope=col>Site.Key</th><th scope=col>count_number</th><th scope=col>ï..Region.ID</th><th scope=col>Region.Name</th><th scope=col>Location</th><th scope=col>Survey.Code</th><th scope=col>Species</th><th scope=col>Use</th><th scope=col>weighting_GO</th><th scope=col>Latitude</th><th scope=col>Longitude</th><th scope=col>yr_total_est_sanj</th><th scope=col>Count</th><th scope=col>yr_expanded_est</th><th scope=col>X</th><th scope=col>Location.Value</th><th scope=col>Location.Info</th><th scope=col>Date</th><th scope=col>Mean</th></tr>\n",
       "\t<tr><th scope=col>&lt;int&gt;</th><th scope=col>&lt;fct&gt;</th><th scope=col>&lt;dbl&gt;</th><th scope=col>&lt;int&gt;</th><th scope=col>&lt;fct&gt;</th><th scope=col>&lt;fct&gt;</th><th scope=col>&lt;dbl&gt;</th><th scope=col>&lt;fct&gt;</th><th scope=col>&lt;fct&gt;</th><th scope=col>&lt;dbl&gt;</th><th scope=col>&lt;dbl&gt;</th><th scope=col>&lt;dbl&gt;</th><th scope=col>&lt;int&gt;</th><th scope=col>&lt;dbl&gt;</th><th scope=col>&lt;dbl&gt;</th><th scope=col>&lt;lgl&gt;</th><th scope=col>&lt;fct&gt;</th><th scope=col>&lt;fct&gt;</th><th scope=col>&lt;fct&gt;</th><th scope=col>&lt;dbl&gt;</th></tr>\n",
       "</thead>\n",
       "<tbody>\n",
       "\t<tr><td>1966</td><td>H0069</td><td>1</td><td>NA</td><td>NA</td><td>NA</td><td>NA</td><td>NA</td><td>NA</td><td>NA</td><td>48.8328</td><td>-123.1973</td><td>NA</td><td>   7.0</td><td>NA</td><td>NA</td><td>Belle Chain Islets</td><td>Gulf Islands</td><td> 1966-08-13</td><td>   NA</td></tr>\n",
       "\t<tr><td>1967</td><td>H0069</td><td>1</td><td>NA</td><td>NA</td><td>NA</td><td>NA</td><td>NA</td><td>NA</td><td>NA</td><td>     NA</td><td>       NA</td><td>NA</td><td>    NA</td><td>NA</td><td>NA</td><td>NA                </td><td>NA          </td><td>NA         </td><td>   NA</td></tr>\n",
       "\t<tr><td>1968</td><td>H0069</td><td>1</td><td>NA</td><td>NA</td><td>NA</td><td>NA</td><td>NA</td><td>NA</td><td>NA</td><td>     NA</td><td>       NA</td><td>NA</td><td>    NA</td><td>NA</td><td>NA</td><td>NA                </td><td>NA          </td><td>NA         </td><td>   NA</td></tr>\n",
       "\t<tr><td>1969</td><td>H0069</td><td>1</td><td>NA</td><td>NA</td><td>NA</td><td>NA</td><td>NA</td><td>NA</td><td>NA</td><td>     NA</td><td>       NA</td><td>NA</td><td>    NA</td><td>NA</td><td>NA</td><td>NA                </td><td>NA          </td><td>NA         </td><td>   NA</td></tr>\n",
       "\t<tr><td>1970</td><td>H0069</td><td>1</td><td>NA</td><td>NA</td><td>NA</td><td>NA</td><td>NA</td><td>NA</td><td>NA</td><td>     NA</td><td>       NA</td><td>NA</td><td>    NA</td><td>NA</td><td>NA</td><td>NA                </td><td>NA          </td><td>NA         </td><td>   NA</td></tr>\n",
       "\t<tr><td>1971</td><td>H0069</td><td>1</td><td>NA</td><td>NA</td><td>NA</td><td>NA</td><td>NA</td><td>NA</td><td>NA</td><td>     NA</td><td>       NA</td><td>NA</td><td>    NA</td><td>NA</td><td>NA</td><td>NA                </td><td>NA          </td><td>NA         </td><td>   NA</td></tr>\n",
       "\t<tr><td>1972</td><td>H0069</td><td>1</td><td>NA</td><td>NA</td><td>NA</td><td>NA</td><td>NA</td><td>NA</td><td>NA</td><td>     NA</td><td>       NA</td><td>NA</td><td>    NA</td><td>NA</td><td>NA</td><td>NA                </td><td>NA          </td><td>NA         </td><td>   NA</td></tr>\n",
       "\t<tr><td>1973</td><td>H0069</td><td>1</td><td>NA</td><td>NA</td><td>NA</td><td>NA</td><td>NA</td><td>NA</td><td>NA</td><td>48.8328</td><td>-123.1973</td><td>NA</td><td>  14.0</td><td>NA</td><td>NA</td><td>Belle Chain Islets</td><td>Gulf Islands</td><td> 1973-06-14</td><td>   NA</td></tr>\n",
       "\t<tr><td>1974</td><td>H0069</td><td>1</td><td>NA</td><td>NA</td><td>NA</td><td>NA</td><td>NA</td><td>NA</td><td>NA</td><td>48.8328</td><td>-123.1973</td><td>NA</td><td> 106.0</td><td>NA</td><td>NA</td><td>Belle Chain Islets</td><td>Gulf Islands</td><td> 1974-08-15</td><td>   NA</td></tr>\n",
       "\t<tr><td>1975</td><td>H0069</td><td>1</td><td>NA</td><td>NA</td><td>NA</td><td>NA</td><td>NA</td><td>NA</td><td>NA</td><td>     NA</td><td>       NA</td><td>NA</td><td>    NA</td><td>NA</td><td>NA</td><td>NA                </td><td>NA          </td><td>NA         </td><td>   NA</td></tr>\n",
       "\t<tr><td>1976</td><td>H0069</td><td>1</td><td>NA</td><td>NA</td><td>NA</td><td>NA</td><td>NA</td><td>NA</td><td>NA</td><td>     NA</td><td>       NA</td><td>NA</td><td>    NA</td><td>NA</td><td>NA</td><td>NA                </td><td>NA          </td><td>NA         </td><td>   NA</td></tr>\n",
       "\t<tr><td>1977</td><td>H0069</td><td>1</td><td>NA</td><td>NA</td><td>NA</td><td>NA</td><td>NA</td><td>NA</td><td>NA</td><td>     NA</td><td>       NA</td><td>NA</td><td>    NA</td><td>NA</td><td>NA</td><td>NA                </td><td>NA          </td><td>NA         </td><td>   NA</td></tr>\n",
       "\t<tr><td>1978</td><td>H0069</td><td>1</td><td>NA</td><td>NA</td><td>NA</td><td>NA</td><td>NA</td><td>NA</td><td>NA</td><td>     NA</td><td>       NA</td><td>NA</td><td>    NA</td><td>NA</td><td>NA</td><td>NA                </td><td>NA          </td><td>NA         </td><td>   NA</td></tr>\n",
       "\t<tr><td>1979</td><td>H0069</td><td>1</td><td>NA</td><td>NA</td><td>NA</td><td>NA</td><td>NA</td><td>NA</td><td>NA</td><td>     NA</td><td>       NA</td><td>NA</td><td>    NA</td><td>NA</td><td>NA</td><td>NA                </td><td>NA          </td><td>NA         </td><td>   NA</td></tr>\n",
       "\t<tr><td>1980</td><td>H0069</td><td>1</td><td>NA</td><td>NA</td><td>NA</td><td>NA</td><td>NA</td><td>NA</td><td>NA</td><td>     NA</td><td>       NA</td><td>NA</td><td>    NA</td><td>NA</td><td>NA</td><td>NA                </td><td>NA          </td><td>NA         </td><td>   NA</td></tr>\n",
       "\t<tr><td>1981</td><td>H0069</td><td>1</td><td>NA</td><td>NA</td><td>NA</td><td>NA</td><td>NA</td><td>NA</td><td>NA</td><td>     NA</td><td>       NA</td><td>NA</td><td>    NA</td><td>NA</td><td>NA</td><td>NA                </td><td>NA          </td><td>NA         </td><td>   NA</td></tr>\n",
       "\t<tr><td>1982</td><td>H0069</td><td>1</td><td>NA</td><td>NA</td><td>NA</td><td>NA</td><td>NA</td><td>NA</td><td>NA</td><td>48.8328</td><td>-123.1973</td><td>NA</td><td> 140.0</td><td>NA</td><td>NA</td><td>Belle Chain Islets</td><td>Gulf Islands</td><td> 1982-08-18</td><td>   NA</td></tr>\n",
       "\t<tr><td>1983</td><td>H0069</td><td>1</td><td>NA</td><td>NA</td><td>NA</td><td>NA</td><td>NA</td><td>NA</td><td>NA</td><td>     NA</td><td>       NA</td><td>NA</td><td>    NA</td><td>NA</td><td>NA</td><td>NA                </td><td>NA          </td><td>NA         </td><td>   NA</td></tr>\n",
       "\t<tr><td>1984</td><td>H0069</td><td>1</td><td>NA</td><td>NA</td><td>NA</td><td>NA</td><td>NA</td><td>NA</td><td>NA</td><td>     NA</td><td>       NA</td><td>NA</td><td>    NA</td><td>NA</td><td>NA</td><td>NA                </td><td>NA          </td><td>NA         </td><td>   NA</td></tr>\n",
       "\t<tr><td>1985</td><td>H0069</td><td>1</td><td>NA</td><td>NA</td><td>NA</td><td>NA</td><td>NA</td><td>NA</td><td>NA</td><td>     NA</td><td>       NA</td><td>NA</td><td>    NA</td><td>NA</td><td>NA</td><td>NA                </td><td>NA          </td><td>NA         </td><td>   NA</td></tr>\n",
       "\t<tr><td>1986</td><td>H0069</td><td>1</td><td>NA</td><td>NA</td><td>NA</td><td>NA</td><td>NA</td><td>NA</td><td>NA</td><td>48.8328</td><td>-123.1973</td><td>NA</td><td> 471.0</td><td>NA</td><td>NA</td><td>Belle Chain Islets</td><td>Gulf Islands</td><td> 1986-08-19</td><td>   NA</td></tr>\n",
       "\t<tr><td>1987</td><td>H0069</td><td>1</td><td>NA</td><td>NA</td><td>NA</td><td>NA</td><td>NA</td><td>NA</td><td>NA</td><td>     NA</td><td>       NA</td><td>NA</td><td>    NA</td><td>NA</td><td>NA</td><td>NA                </td><td>NA          </td><td>NA         </td><td>   NA</td></tr>\n",
       "\t<tr><td>1988</td><td>H0069</td><td>1</td><td>NA</td><td>NA</td><td>NA</td><td>NA</td><td>NA</td><td>NA</td><td>NA</td><td>48.8328</td><td>-123.1973</td><td>NA</td><td> 424.5</td><td>NA</td><td>NA</td><td>Belle Chain Islets</td><td>Gulf Islands</td><td> 1988-06-01</td><td>424.5</td></tr>\n",
       "\t<tr><td>1989</td><td>H0069</td><td>1</td><td>NA</td><td>NA</td><td>NA</td><td>NA</td><td>NA</td><td>NA</td><td>NA</td><td>     NA</td><td>       NA</td><td>NA</td><td>    NA</td><td>NA</td><td>NA</td><td>NA                </td><td>NA          </td><td>NA         </td><td>   NA</td></tr>\n",
       "\t<tr><td>1990</td><td>H0069</td><td>1</td><td>NA</td><td>NA</td><td>NA</td><td>NA</td><td>NA</td><td>NA</td><td>NA</td><td>48.8328</td><td>-123.1973</td><td>NA</td><td> 573.0</td><td>NA</td><td>NA</td><td>Belle Chain Islets</td><td>Gulf Islands</td><td> 1990-08-05</td><td>   NA</td></tr>\n",
       "\t<tr><td>1991</td><td>H0069</td><td>1</td><td>NA</td><td>NA</td><td>NA</td><td>NA</td><td>NA</td><td>NA</td><td>NA</td><td>     NA</td><td>       NA</td><td>NA</td><td>    NA</td><td>NA</td><td>NA</td><td>NA                </td><td>NA          </td><td>NA         </td><td>   NA</td></tr>\n",
       "\t<tr><td>1992</td><td>H0069</td><td>1</td><td>NA</td><td>NA</td><td>NA</td><td>NA</td><td>NA</td><td>NA</td><td>NA</td><td>48.8328</td><td>-123.1973</td><td>NA</td><td> 800.0</td><td>NA</td><td>NA</td><td>Belle Chain Islets</td><td>Gulf Islands</td><td> 1992-09-09</td><td>   NA</td></tr>\n",
       "\t<tr><td>1993</td><td>H0069</td><td>1</td><td>NA</td><td>NA</td><td>NA</td><td>NA</td><td>NA</td><td>NA</td><td>NA</td><td>     NA</td><td>       NA</td><td>NA</td><td>    NA</td><td>NA</td><td>NA</td><td>NA                </td><td>NA          </td><td>NA         </td><td>   NA</td></tr>\n",
       "\t<tr><td>1994</td><td>H0069</td><td>1</td><td>NA</td><td>NA</td><td>NA</td><td>NA</td><td>NA</td><td>NA</td><td>NA</td><td>     NA</td><td>       NA</td><td>NA</td><td>    NA</td><td>NA</td><td>NA</td><td>NA                </td><td>NA          </td><td>NA         </td><td>   NA</td></tr>\n",
       "\t<tr><td>1995</td><td>H0069</td><td>1</td><td>NA</td><td>NA</td><td>NA</td><td>NA</td><td>NA</td><td>NA</td><td>NA</td><td>     NA</td><td>       NA</td><td>NA</td><td>    NA</td><td>NA</td><td>NA</td><td>NA                </td><td>NA          </td><td>NA         </td><td>   NA</td></tr>\n",
       "\t<tr><td>1996</td><td>H0069</td><td>1</td><td>NA</td><td>NA</td><td>NA</td><td>NA</td><td>NA</td><td>NA</td><td>NA</td><td>48.8328</td><td>-123.1973</td><td>NA</td><td> 755.0</td><td>NA</td><td>NA</td><td>Belle Chain Islets</td><td>Gulf Islands</td><td> 1996-07-29</td><td>   NA</td></tr>\n",
       "\t<tr><td>1997</td><td>H0069</td><td>1</td><td>NA</td><td>NA</td><td>NA</td><td>NA</td><td>NA</td><td>NA</td><td>NA</td><td>     NA</td><td>       NA</td><td>NA</td><td>    NA</td><td>NA</td><td>NA</td><td>NA                </td><td>NA          </td><td>NA         </td><td>   NA</td></tr>\n",
       "\t<tr><td>1998</td><td>H0069</td><td>1</td><td>NA</td><td>NA</td><td>NA</td><td>NA</td><td>NA</td><td>NA</td><td>NA</td><td>48.8328</td><td>-123.1973</td><td>NA</td><td> 458.0</td><td>NA</td><td>NA</td><td>Belle Chain Islets</td><td>Gulf Islands</td><td> 1998-09-05</td><td>   NA</td></tr>\n",
       "\t<tr><td>1999</td><td>H0069</td><td>1</td><td>NA</td><td>NA</td><td>NA</td><td>NA</td><td>NA</td><td>NA</td><td>NA</td><td>     NA</td><td>       NA</td><td>NA</td><td>    NA</td><td>NA</td><td>NA</td><td>NA                </td><td>NA          </td><td>NA         </td><td>   NA</td></tr>\n",
       "\t<tr><td>2000</td><td>H0069</td><td>1</td><td>NA</td><td>NA</td><td>NA</td><td>NA</td><td>NA</td><td>NA</td><td>NA</td><td>48.8328</td><td>-123.1973</td><td>NA</td><td> 608.0</td><td>NA</td><td>NA</td><td>Belle Chain Islets</td><td>Gulf Islands</td><td> 2000-08-30</td><td>   NA</td></tr>\n",
       "\t<tr><td>2001</td><td>H0069</td><td>1</td><td>NA</td><td>NA</td><td>NA</td><td>NA</td><td>NA</td><td>NA</td><td>NA</td><td>     NA</td><td>       NA</td><td>NA</td><td>    NA</td><td>NA</td><td>NA</td><td>NA                </td><td>NA          </td><td>NA         </td><td>   NA</td></tr>\n",
       "\t<tr><td>2002</td><td>H0069</td><td>1</td><td>NA</td><td>NA</td><td>NA</td><td>NA</td><td>NA</td><td>NA</td><td>NA</td><td>     NA</td><td>       NA</td><td>NA</td><td>    NA</td><td>NA</td><td>NA</td><td>NA                </td><td>NA          </td><td>NA         </td><td>   NA</td></tr>\n",
       "\t<tr><td>2003</td><td>H0069</td><td>1</td><td>NA</td><td>NA</td><td>NA</td><td>NA</td><td>NA</td><td>NA</td><td>NA</td><td>48.8328</td><td>-123.1973</td><td>NA</td><td>1175.0</td><td>NA</td><td>NA</td><td>Belle Chain Islets</td><td>Gulf Islands</td><td> 2003-08-29</td><td>   NA</td></tr>\n",
       "\t<tr><td>2004</td><td>H0069</td><td>1</td><td>NA</td><td>NA</td><td>NA</td><td>NA</td><td>NA</td><td>NA</td><td>NA</td><td>     NA</td><td>       NA</td><td>NA</td><td>    NA</td><td>NA</td><td>NA</td><td>NA                </td><td>NA          </td><td>NA         </td><td>   NA</td></tr>\n",
       "\t<tr><td>2005</td><td>H0069</td><td>1</td><td>NA</td><td>NA</td><td>NA</td><td>NA</td><td>NA</td><td>NA</td><td>NA</td><td>     NA</td><td>       NA</td><td>NA</td><td>    NA</td><td>NA</td><td>NA</td><td>NA                </td><td>NA          </td><td>NA         </td><td>   NA</td></tr>\n",
       "\t<tr><td>2006</td><td>H0069</td><td>1</td><td>NA</td><td>NA</td><td>NA</td><td>NA</td><td>NA</td><td>NA</td><td>NA</td><td>     NA</td><td>       NA</td><td>NA</td><td>    NA</td><td>NA</td><td>NA</td><td>NA                </td><td>NA          </td><td>NA         </td><td>   NA</td></tr>\n",
       "\t<tr><td>2007</td><td>H0069</td><td>1</td><td>NA</td><td>NA</td><td>NA</td><td>NA</td><td>NA</td><td>NA</td><td>NA</td><td>     NA</td><td>       NA</td><td>NA</td><td>    NA</td><td>NA</td><td>NA</td><td>NA                </td><td>NA          </td><td>NA         </td><td>   NA</td></tr>\n",
       "\t<tr><td>2008</td><td>H0069</td><td>1</td><td>NA</td><td>NA</td><td>NA</td><td>NA</td><td>NA</td><td>NA</td><td>NA</td><td>48.8328</td><td>-123.1973</td><td>NA</td><td> 438.0</td><td>NA</td><td>NA</td><td>Belle Chain Islets</td><td>Gulf Islands</td><td> 2008-08-01</td><td>   NA</td></tr>\n",
       "\t<tr><td>2009</td><td>H0069</td><td>1</td><td>NA</td><td>NA</td><td>NA</td><td>NA</td><td>NA</td><td>NA</td><td>NA</td><td>     NA</td><td>       NA</td><td>NA</td><td>    NA</td><td>NA</td><td>NA</td><td>NA                </td><td>NA          </td><td>NA         </td><td>   NA</td></tr>\n",
       "\t<tr><td>2010</td><td>H0069</td><td>1</td><td>NA</td><td>NA</td><td>NA</td><td>NA</td><td>NA</td><td>NA</td><td>NA</td><td>     NA</td><td>       NA</td><td>NA</td><td>    NA</td><td>NA</td><td>NA</td><td>NA                </td><td>NA          </td><td>NA         </td><td>   NA</td></tr>\n",
       "\t<tr><td>2011</td><td>H0069</td><td>1</td><td>NA</td><td>NA</td><td>NA</td><td>NA</td><td>NA</td><td>NA</td><td>NA</td><td>     NA</td><td>       NA</td><td>NA</td><td>    NA</td><td>NA</td><td>NA</td><td>NA                </td><td>NA          </td><td>NA         </td><td>   NA</td></tr>\n",
       "\t<tr><td>2012</td><td>H0069</td><td>1</td><td>NA</td><td>NA</td><td>NA</td><td>NA</td><td>NA</td><td>NA</td><td>NA</td><td>     NA</td><td>       NA</td><td>NA</td><td>    NA</td><td>NA</td><td>NA</td><td>NA                </td><td>NA          </td><td>NA         </td><td>   NA</td></tr>\n",
       "\t<tr><td>2013</td><td>H0069</td><td>1</td><td>NA</td><td>NA</td><td>NA</td><td>NA</td><td>NA</td><td>NA</td><td>NA</td><td>     NA</td><td>       NA</td><td>NA</td><td>    NA</td><td>NA</td><td>NA</td><td>NA                </td><td>NA          </td><td>NA         </td><td>   NA</td></tr>\n",
       "\t<tr><td>2014</td><td>H0069</td><td>1</td><td>NA</td><td>NA</td><td>NA</td><td>NA</td><td>NA</td><td>NA</td><td>NA</td><td>48.8328</td><td>-123.1973</td><td>NA</td><td> 486.0</td><td>NA</td><td>NA</td><td>Belle Chain Islets</td><td>Gulf Islands</td><td> 2014-08-21</td><td>   NA</td></tr>\n",
       "\t<tr><td>2015</td><td>H0069</td><td>1</td><td>NA</td><td>NA</td><td>NA</td><td>NA</td><td>NA</td><td>NA</td><td>NA</td><td>     NA</td><td>       NA</td><td>NA</td><td>    NA</td><td>NA</td><td>NA</td><td>NA                </td><td>NA          </td><td>NA         </td><td>   NA</td></tr>\n",
       "\t<tr><td>2016</td><td>H0069</td><td>1</td><td>NA</td><td>NA</td><td>NA</td><td>NA</td><td>NA</td><td>NA</td><td>NA</td><td>     NA</td><td>       NA</td><td>NA</td><td>    NA</td><td>NA</td><td>NA</td><td>NA                </td><td>NA          </td><td>NA         </td><td>   NA</td></tr>\n",
       "\t<tr><td>2017</td><td>H0069</td><td>1</td><td>NA</td><td>NA</td><td>NA</td><td>NA</td><td>NA</td><td>NA</td><td>NA</td><td>     NA</td><td>       NA</td><td>NA</td><td>    NA</td><td>NA</td><td>NA</td><td>NA                </td><td>NA          </td><td>NA         </td><td>   NA</td></tr>\n",
       "\t<tr><td>2018</td><td>H0069</td><td>1</td><td>NA</td><td>NA</td><td>NA</td><td>NA</td><td>NA</td><td>NA</td><td>NA</td><td>     NA</td><td>       NA</td><td>NA</td><td>    NA</td><td>NA</td><td>NA</td><td>NA                </td><td>NA          </td><td>NA         </td><td>   NA</td></tr>\n",
       "</tbody>\n",
       "</table>\n"
      ],
      "text/latex": [
       "A tibble: 53 × 20\n",
       "\\begin{tabular}{r|llllllllllllllllllll}\n",
       " Date.1 & Site.Key & count\\_number & ï..Region.ID & Region.Name & Location & Survey.Code & Species & Use & weighting\\_GO & Latitude & Longitude & yr\\_total\\_est\\_sanj & Count & yr\\_expanded\\_est & X & Location.Value & Location.Info & Date & Mean\\\\\n",
       " <int> & <fct> & <dbl> & <int> & <fct> & <fct> & <dbl> & <fct> & <fct> & <dbl> & <dbl> & <dbl> & <int> & <dbl> & <dbl> & <lgl> & <fct> & <fct> & <fct> & <dbl>\\\\\n",
       "\\hline\n",
       "\t 1966 & H0069 & 1 & NA & NA & NA & NA & NA & NA & NA & 48.8328 & -123.1973 & NA &    7.0 & NA & NA & Belle Chain Islets & Gulf Islands &  1966-08-13 &    NA\\\\\n",
       "\t 1967 & H0069 & 1 & NA & NA & NA & NA & NA & NA & NA &      NA &        NA & NA &     NA & NA & NA & NA                 & NA           & NA          &    NA\\\\\n",
       "\t 1968 & H0069 & 1 & NA & NA & NA & NA & NA & NA & NA &      NA &        NA & NA &     NA & NA & NA & NA                 & NA           & NA          &    NA\\\\\n",
       "\t 1969 & H0069 & 1 & NA & NA & NA & NA & NA & NA & NA &      NA &        NA & NA &     NA & NA & NA & NA                 & NA           & NA          &    NA\\\\\n",
       "\t 1970 & H0069 & 1 & NA & NA & NA & NA & NA & NA & NA &      NA &        NA & NA &     NA & NA & NA & NA                 & NA           & NA          &    NA\\\\\n",
       "\t 1971 & H0069 & 1 & NA & NA & NA & NA & NA & NA & NA &      NA &        NA & NA &     NA & NA & NA & NA                 & NA           & NA          &    NA\\\\\n",
       "\t 1972 & H0069 & 1 & NA & NA & NA & NA & NA & NA & NA &      NA &        NA & NA &     NA & NA & NA & NA                 & NA           & NA          &    NA\\\\\n",
       "\t 1973 & H0069 & 1 & NA & NA & NA & NA & NA & NA & NA & 48.8328 & -123.1973 & NA &   14.0 & NA & NA & Belle Chain Islets & Gulf Islands &  1973-06-14 &    NA\\\\\n",
       "\t 1974 & H0069 & 1 & NA & NA & NA & NA & NA & NA & NA & 48.8328 & -123.1973 & NA &  106.0 & NA & NA & Belle Chain Islets & Gulf Islands &  1974-08-15 &    NA\\\\\n",
       "\t 1975 & H0069 & 1 & NA & NA & NA & NA & NA & NA & NA &      NA &        NA & NA &     NA & NA & NA & NA                 & NA           & NA          &    NA\\\\\n",
       "\t 1976 & H0069 & 1 & NA & NA & NA & NA & NA & NA & NA &      NA &        NA & NA &     NA & NA & NA & NA                 & NA           & NA          &    NA\\\\\n",
       "\t 1977 & H0069 & 1 & NA & NA & NA & NA & NA & NA & NA &      NA &        NA & NA &     NA & NA & NA & NA                 & NA           & NA          &    NA\\\\\n",
       "\t 1978 & H0069 & 1 & NA & NA & NA & NA & NA & NA & NA &      NA &        NA & NA &     NA & NA & NA & NA                 & NA           & NA          &    NA\\\\\n",
       "\t 1979 & H0069 & 1 & NA & NA & NA & NA & NA & NA & NA &      NA &        NA & NA &     NA & NA & NA & NA                 & NA           & NA          &    NA\\\\\n",
       "\t 1980 & H0069 & 1 & NA & NA & NA & NA & NA & NA & NA &      NA &        NA & NA &     NA & NA & NA & NA                 & NA           & NA          &    NA\\\\\n",
       "\t 1981 & H0069 & 1 & NA & NA & NA & NA & NA & NA & NA &      NA &        NA & NA &     NA & NA & NA & NA                 & NA           & NA          &    NA\\\\\n",
       "\t 1982 & H0069 & 1 & NA & NA & NA & NA & NA & NA & NA & 48.8328 & -123.1973 & NA &  140.0 & NA & NA & Belle Chain Islets & Gulf Islands &  1982-08-18 &    NA\\\\\n",
       "\t 1983 & H0069 & 1 & NA & NA & NA & NA & NA & NA & NA &      NA &        NA & NA &     NA & NA & NA & NA                 & NA           & NA          &    NA\\\\\n",
       "\t 1984 & H0069 & 1 & NA & NA & NA & NA & NA & NA & NA &      NA &        NA & NA &     NA & NA & NA & NA                 & NA           & NA          &    NA\\\\\n",
       "\t 1985 & H0069 & 1 & NA & NA & NA & NA & NA & NA & NA &      NA &        NA & NA &     NA & NA & NA & NA                 & NA           & NA          &    NA\\\\\n",
       "\t 1986 & H0069 & 1 & NA & NA & NA & NA & NA & NA & NA & 48.8328 & -123.1973 & NA &  471.0 & NA & NA & Belle Chain Islets & Gulf Islands &  1986-08-19 &    NA\\\\\n",
       "\t 1987 & H0069 & 1 & NA & NA & NA & NA & NA & NA & NA &      NA &        NA & NA &     NA & NA & NA & NA                 & NA           & NA          &    NA\\\\\n",
       "\t 1988 & H0069 & 1 & NA & NA & NA & NA & NA & NA & NA & 48.8328 & -123.1973 & NA &  424.5 & NA & NA & Belle Chain Islets & Gulf Islands &  1988-06-01 & 424.5\\\\\n",
       "\t 1989 & H0069 & 1 & NA & NA & NA & NA & NA & NA & NA &      NA &        NA & NA &     NA & NA & NA & NA                 & NA           & NA          &    NA\\\\\n",
       "\t 1990 & H0069 & 1 & NA & NA & NA & NA & NA & NA & NA & 48.8328 & -123.1973 & NA &  573.0 & NA & NA & Belle Chain Islets & Gulf Islands &  1990-08-05 &    NA\\\\\n",
       "\t 1991 & H0069 & 1 & NA & NA & NA & NA & NA & NA & NA &      NA &        NA & NA &     NA & NA & NA & NA                 & NA           & NA          &    NA\\\\\n",
       "\t 1992 & H0069 & 1 & NA & NA & NA & NA & NA & NA & NA & 48.8328 & -123.1973 & NA &  800.0 & NA & NA & Belle Chain Islets & Gulf Islands &  1992-09-09 &    NA\\\\\n",
       "\t 1993 & H0069 & 1 & NA & NA & NA & NA & NA & NA & NA &      NA &        NA & NA &     NA & NA & NA & NA                 & NA           & NA          &    NA\\\\\n",
       "\t 1994 & H0069 & 1 & NA & NA & NA & NA & NA & NA & NA &      NA &        NA & NA &     NA & NA & NA & NA                 & NA           & NA          &    NA\\\\\n",
       "\t 1995 & H0069 & 1 & NA & NA & NA & NA & NA & NA & NA &      NA &        NA & NA &     NA & NA & NA & NA                 & NA           & NA          &    NA\\\\\n",
       "\t 1996 & H0069 & 1 & NA & NA & NA & NA & NA & NA & NA & 48.8328 & -123.1973 & NA &  755.0 & NA & NA & Belle Chain Islets & Gulf Islands &  1996-07-29 &    NA\\\\\n",
       "\t 1997 & H0069 & 1 & NA & NA & NA & NA & NA & NA & NA &      NA &        NA & NA &     NA & NA & NA & NA                 & NA           & NA          &    NA\\\\\n",
       "\t 1998 & H0069 & 1 & NA & NA & NA & NA & NA & NA & NA & 48.8328 & -123.1973 & NA &  458.0 & NA & NA & Belle Chain Islets & Gulf Islands &  1998-09-05 &    NA\\\\\n",
       "\t 1999 & H0069 & 1 & NA & NA & NA & NA & NA & NA & NA &      NA &        NA & NA &     NA & NA & NA & NA                 & NA           & NA          &    NA\\\\\n",
       "\t 2000 & H0069 & 1 & NA & NA & NA & NA & NA & NA & NA & 48.8328 & -123.1973 & NA &  608.0 & NA & NA & Belle Chain Islets & Gulf Islands &  2000-08-30 &    NA\\\\\n",
       "\t 2001 & H0069 & 1 & NA & NA & NA & NA & NA & NA & NA &      NA &        NA & NA &     NA & NA & NA & NA                 & NA           & NA          &    NA\\\\\n",
       "\t 2002 & H0069 & 1 & NA & NA & NA & NA & NA & NA & NA &      NA &        NA & NA &     NA & NA & NA & NA                 & NA           & NA          &    NA\\\\\n",
       "\t 2003 & H0069 & 1 & NA & NA & NA & NA & NA & NA & NA & 48.8328 & -123.1973 & NA & 1175.0 & NA & NA & Belle Chain Islets & Gulf Islands &  2003-08-29 &    NA\\\\\n",
       "\t 2004 & H0069 & 1 & NA & NA & NA & NA & NA & NA & NA &      NA &        NA & NA &     NA & NA & NA & NA                 & NA           & NA          &    NA\\\\\n",
       "\t 2005 & H0069 & 1 & NA & NA & NA & NA & NA & NA & NA &      NA &        NA & NA &     NA & NA & NA & NA                 & NA           & NA          &    NA\\\\\n",
       "\t 2006 & H0069 & 1 & NA & NA & NA & NA & NA & NA & NA &      NA &        NA & NA &     NA & NA & NA & NA                 & NA           & NA          &    NA\\\\\n",
       "\t 2007 & H0069 & 1 & NA & NA & NA & NA & NA & NA & NA &      NA &        NA & NA &     NA & NA & NA & NA                 & NA           & NA          &    NA\\\\\n",
       "\t 2008 & H0069 & 1 & NA & NA & NA & NA & NA & NA & NA & 48.8328 & -123.1973 & NA &  438.0 & NA & NA & Belle Chain Islets & Gulf Islands &  2008-08-01 &    NA\\\\\n",
       "\t 2009 & H0069 & 1 & NA & NA & NA & NA & NA & NA & NA &      NA &        NA & NA &     NA & NA & NA & NA                 & NA           & NA          &    NA\\\\\n",
       "\t 2010 & H0069 & 1 & NA & NA & NA & NA & NA & NA & NA &      NA &        NA & NA &     NA & NA & NA & NA                 & NA           & NA          &    NA\\\\\n",
       "\t 2011 & H0069 & 1 & NA & NA & NA & NA & NA & NA & NA &      NA &        NA & NA &     NA & NA & NA & NA                 & NA           & NA          &    NA\\\\\n",
       "\t 2012 & H0069 & 1 & NA & NA & NA & NA & NA & NA & NA &      NA &        NA & NA &     NA & NA & NA & NA                 & NA           & NA          &    NA\\\\\n",
       "\t 2013 & H0069 & 1 & NA & NA & NA & NA & NA & NA & NA &      NA &        NA & NA &     NA & NA & NA & NA                 & NA           & NA          &    NA\\\\\n",
       "\t 2014 & H0069 & 1 & NA & NA & NA & NA & NA & NA & NA & 48.8328 & -123.1973 & NA &  486.0 & NA & NA & Belle Chain Islets & Gulf Islands &  2014-08-21 &    NA\\\\\n",
       "\t 2015 & H0069 & 1 & NA & NA & NA & NA & NA & NA & NA &      NA &        NA & NA &     NA & NA & NA & NA                 & NA           & NA          &    NA\\\\\n",
       "\t 2016 & H0069 & 1 & NA & NA & NA & NA & NA & NA & NA &      NA &        NA & NA &     NA & NA & NA & NA                 & NA           & NA          &    NA\\\\\n",
       "\t 2017 & H0069 & 1 & NA & NA & NA & NA & NA & NA & NA &      NA &        NA & NA &     NA & NA & NA & NA                 & NA           & NA          &    NA\\\\\n",
       "\t 2018 & H0069 & 1 & NA & NA & NA & NA & NA & NA & NA &      NA &        NA & NA &     NA & NA & NA & NA                 & NA           & NA          &    NA\\\\\n",
       "\\end{tabular}\n"
      ],
      "text/markdown": [
       "\n",
       "A tibble: 53 × 20\n",
       "\n",
       "| Date.1 &lt;int&gt; | Site.Key &lt;fct&gt; | count_number &lt;dbl&gt; | ï..Region.ID &lt;int&gt; | Region.Name &lt;fct&gt; | Location &lt;fct&gt; | Survey.Code &lt;dbl&gt; | Species &lt;fct&gt; | Use &lt;fct&gt; | weighting_GO &lt;dbl&gt; | Latitude &lt;dbl&gt; | Longitude &lt;dbl&gt; | yr_total_est_sanj &lt;int&gt; | Count &lt;dbl&gt; | yr_expanded_est &lt;dbl&gt; | X &lt;lgl&gt; | Location.Value &lt;fct&gt; | Location.Info &lt;fct&gt; | Date &lt;fct&gt; | Mean &lt;dbl&gt; |\n",
       "|---|---|---|---|---|---|---|---|---|---|---|---|---|---|---|---|---|---|---|---|\n",
       "| 1966 | H0069 | 1 | NA | NA | NA | NA | NA | NA | NA | 48.8328 | -123.1973 | NA |    7.0 | NA | NA | Belle Chain Islets | Gulf Islands |  1966-08-13 |    NA |\n",
       "| 1967 | H0069 | 1 | NA | NA | NA | NA | NA | NA | NA |      NA |        NA | NA |     NA | NA | NA | NA                 | NA           | NA          |    NA |\n",
       "| 1968 | H0069 | 1 | NA | NA | NA | NA | NA | NA | NA |      NA |        NA | NA |     NA | NA | NA | NA                 | NA           | NA          |    NA |\n",
       "| 1969 | H0069 | 1 | NA | NA | NA | NA | NA | NA | NA |      NA |        NA | NA |     NA | NA | NA | NA                 | NA           | NA          |    NA |\n",
       "| 1970 | H0069 | 1 | NA | NA | NA | NA | NA | NA | NA |      NA |        NA | NA |     NA | NA | NA | NA                 | NA           | NA          |    NA |\n",
       "| 1971 | H0069 | 1 | NA | NA | NA | NA | NA | NA | NA |      NA |        NA | NA |     NA | NA | NA | NA                 | NA           | NA          |    NA |\n",
       "| 1972 | H0069 | 1 | NA | NA | NA | NA | NA | NA | NA |      NA |        NA | NA |     NA | NA | NA | NA                 | NA           | NA          |    NA |\n",
       "| 1973 | H0069 | 1 | NA | NA | NA | NA | NA | NA | NA | 48.8328 | -123.1973 | NA |   14.0 | NA | NA | Belle Chain Islets | Gulf Islands |  1973-06-14 |    NA |\n",
       "| 1974 | H0069 | 1 | NA | NA | NA | NA | NA | NA | NA | 48.8328 | -123.1973 | NA |  106.0 | NA | NA | Belle Chain Islets | Gulf Islands |  1974-08-15 |    NA |\n",
       "| 1975 | H0069 | 1 | NA | NA | NA | NA | NA | NA | NA |      NA |        NA | NA |     NA | NA | NA | NA                 | NA           | NA          |    NA |\n",
       "| 1976 | H0069 | 1 | NA | NA | NA | NA | NA | NA | NA |      NA |        NA | NA |     NA | NA | NA | NA                 | NA           | NA          |    NA |\n",
       "| 1977 | H0069 | 1 | NA | NA | NA | NA | NA | NA | NA |      NA |        NA | NA |     NA | NA | NA | NA                 | NA           | NA          |    NA |\n",
       "| 1978 | H0069 | 1 | NA | NA | NA | NA | NA | NA | NA |      NA |        NA | NA |     NA | NA | NA | NA                 | NA           | NA          |    NA |\n",
       "| 1979 | H0069 | 1 | NA | NA | NA | NA | NA | NA | NA |      NA |        NA | NA |     NA | NA | NA | NA                 | NA           | NA          |    NA |\n",
       "| 1980 | H0069 | 1 | NA | NA | NA | NA | NA | NA | NA |      NA |        NA | NA |     NA | NA | NA | NA                 | NA           | NA          |    NA |\n",
       "| 1981 | H0069 | 1 | NA | NA | NA | NA | NA | NA | NA |      NA |        NA | NA |     NA | NA | NA | NA                 | NA           | NA          |    NA |\n",
       "| 1982 | H0069 | 1 | NA | NA | NA | NA | NA | NA | NA | 48.8328 | -123.1973 | NA |  140.0 | NA | NA | Belle Chain Islets | Gulf Islands |  1982-08-18 |    NA |\n",
       "| 1983 | H0069 | 1 | NA | NA | NA | NA | NA | NA | NA |      NA |        NA | NA |     NA | NA | NA | NA                 | NA           | NA          |    NA |\n",
       "| 1984 | H0069 | 1 | NA | NA | NA | NA | NA | NA | NA |      NA |        NA | NA |     NA | NA | NA | NA                 | NA           | NA          |    NA |\n",
       "| 1985 | H0069 | 1 | NA | NA | NA | NA | NA | NA | NA |      NA |        NA | NA |     NA | NA | NA | NA                 | NA           | NA          |    NA |\n",
       "| 1986 | H0069 | 1 | NA | NA | NA | NA | NA | NA | NA | 48.8328 | -123.1973 | NA |  471.0 | NA | NA | Belle Chain Islets | Gulf Islands |  1986-08-19 |    NA |\n",
       "| 1987 | H0069 | 1 | NA | NA | NA | NA | NA | NA | NA |      NA |        NA | NA |     NA | NA | NA | NA                 | NA           | NA          |    NA |\n",
       "| 1988 | H0069 | 1 | NA | NA | NA | NA | NA | NA | NA | 48.8328 | -123.1973 | NA |  424.5 | NA | NA | Belle Chain Islets | Gulf Islands |  1988-06-01 | 424.5 |\n",
       "| 1989 | H0069 | 1 | NA | NA | NA | NA | NA | NA | NA |      NA |        NA | NA |     NA | NA | NA | NA                 | NA           | NA          |    NA |\n",
       "| 1990 | H0069 | 1 | NA | NA | NA | NA | NA | NA | NA | 48.8328 | -123.1973 | NA |  573.0 | NA | NA | Belle Chain Islets | Gulf Islands |  1990-08-05 |    NA |\n",
       "| 1991 | H0069 | 1 | NA | NA | NA | NA | NA | NA | NA |      NA |        NA | NA |     NA | NA | NA | NA                 | NA           | NA          |    NA |\n",
       "| 1992 | H0069 | 1 | NA | NA | NA | NA | NA | NA | NA | 48.8328 | -123.1973 | NA |  800.0 | NA | NA | Belle Chain Islets | Gulf Islands |  1992-09-09 |    NA |\n",
       "| 1993 | H0069 | 1 | NA | NA | NA | NA | NA | NA | NA |      NA |        NA | NA |     NA | NA | NA | NA                 | NA           | NA          |    NA |\n",
       "| 1994 | H0069 | 1 | NA | NA | NA | NA | NA | NA | NA |      NA |        NA | NA |     NA | NA | NA | NA                 | NA           | NA          |    NA |\n",
       "| 1995 | H0069 | 1 | NA | NA | NA | NA | NA | NA | NA |      NA |        NA | NA |     NA | NA | NA | NA                 | NA           | NA          |    NA |\n",
       "| 1996 | H0069 | 1 | NA | NA | NA | NA | NA | NA | NA | 48.8328 | -123.1973 | NA |  755.0 | NA | NA | Belle Chain Islets | Gulf Islands |  1996-07-29 |    NA |\n",
       "| 1997 | H0069 | 1 | NA | NA | NA | NA | NA | NA | NA |      NA |        NA | NA |     NA | NA | NA | NA                 | NA           | NA          |    NA |\n",
       "| 1998 | H0069 | 1 | NA | NA | NA | NA | NA | NA | NA | 48.8328 | -123.1973 | NA |  458.0 | NA | NA | Belle Chain Islets | Gulf Islands |  1998-09-05 |    NA |\n",
       "| 1999 | H0069 | 1 | NA | NA | NA | NA | NA | NA | NA |      NA |        NA | NA |     NA | NA | NA | NA                 | NA           | NA          |    NA |\n",
       "| 2000 | H0069 | 1 | NA | NA | NA | NA | NA | NA | NA | 48.8328 | -123.1973 | NA |  608.0 | NA | NA | Belle Chain Islets | Gulf Islands |  2000-08-30 |    NA |\n",
       "| 2001 | H0069 | 1 | NA | NA | NA | NA | NA | NA | NA |      NA |        NA | NA |     NA | NA | NA | NA                 | NA           | NA          |    NA |\n",
       "| 2002 | H0069 | 1 | NA | NA | NA | NA | NA | NA | NA |      NA |        NA | NA |     NA | NA | NA | NA                 | NA           | NA          |    NA |\n",
       "| 2003 | H0069 | 1 | NA | NA | NA | NA | NA | NA | NA | 48.8328 | -123.1973 | NA | 1175.0 | NA | NA | Belle Chain Islets | Gulf Islands |  2003-08-29 |    NA |\n",
       "| 2004 | H0069 | 1 | NA | NA | NA | NA | NA | NA | NA |      NA |        NA | NA |     NA | NA | NA | NA                 | NA           | NA          |    NA |\n",
       "| 2005 | H0069 | 1 | NA | NA | NA | NA | NA | NA | NA |      NA |        NA | NA |     NA | NA | NA | NA                 | NA           | NA          |    NA |\n",
       "| 2006 | H0069 | 1 | NA | NA | NA | NA | NA | NA | NA |      NA |        NA | NA |     NA | NA | NA | NA                 | NA           | NA          |    NA |\n",
       "| 2007 | H0069 | 1 | NA | NA | NA | NA | NA | NA | NA |      NA |        NA | NA |     NA | NA | NA | NA                 | NA           | NA          |    NA |\n",
       "| 2008 | H0069 | 1 | NA | NA | NA | NA | NA | NA | NA | 48.8328 | -123.1973 | NA |  438.0 | NA | NA | Belle Chain Islets | Gulf Islands |  2008-08-01 |    NA |\n",
       "| 2009 | H0069 | 1 | NA | NA | NA | NA | NA | NA | NA |      NA |        NA | NA |     NA | NA | NA | NA                 | NA           | NA          |    NA |\n",
       "| 2010 | H0069 | 1 | NA | NA | NA | NA | NA | NA | NA |      NA |        NA | NA |     NA | NA | NA | NA                 | NA           | NA          |    NA |\n",
       "| 2011 | H0069 | 1 | NA | NA | NA | NA | NA | NA | NA |      NA |        NA | NA |     NA | NA | NA | NA                 | NA           | NA          |    NA |\n",
       "| 2012 | H0069 | 1 | NA | NA | NA | NA | NA | NA | NA |      NA |        NA | NA |     NA | NA | NA | NA                 | NA           | NA          |    NA |\n",
       "| 2013 | H0069 | 1 | NA | NA | NA | NA | NA | NA | NA |      NA |        NA | NA |     NA | NA | NA | NA                 | NA           | NA          |    NA |\n",
       "| 2014 | H0069 | 1 | NA | NA | NA | NA | NA | NA | NA | 48.8328 | -123.1973 | NA |  486.0 | NA | NA | Belle Chain Islets | Gulf Islands |  2014-08-21 |    NA |\n",
       "| 2015 | H0069 | 1 | NA | NA | NA | NA | NA | NA | NA |      NA |        NA | NA |     NA | NA | NA | NA                 | NA           | NA          |    NA |\n",
       "| 2016 | H0069 | 1 | NA | NA | NA | NA | NA | NA | NA |      NA |        NA | NA |     NA | NA | NA | NA                 | NA           | NA          |    NA |\n",
       "| 2017 | H0069 | 1 | NA | NA | NA | NA | NA | NA | NA |      NA |        NA | NA |     NA | NA | NA | NA                 | NA           | NA          |    NA |\n",
       "| 2018 | H0069 | 1 | NA | NA | NA | NA | NA | NA | NA |      NA |        NA | NA |     NA | NA | NA | NA                 | NA           | NA          |    NA |\n",
       "\n"
      ],
      "text/plain": [
       "   Date.1 Site.Key count_number ï..Region.ID Region.Name Location Survey.Code\n",
       "1  1966   H0069    1            NA           NA          NA       NA         \n",
       "2  1967   H0069    1            NA           NA          NA       NA         \n",
       "3  1968   H0069    1            NA           NA          NA       NA         \n",
       "4  1969   H0069    1            NA           NA          NA       NA         \n",
       "5  1970   H0069    1            NA           NA          NA       NA         \n",
       "6  1971   H0069    1            NA           NA          NA       NA         \n",
       "7  1972   H0069    1            NA           NA          NA       NA         \n",
       "8  1973   H0069    1            NA           NA          NA       NA         \n",
       "9  1974   H0069    1            NA           NA          NA       NA         \n",
       "10 1975   H0069    1            NA           NA          NA       NA         \n",
       "11 1976   H0069    1            NA           NA          NA       NA         \n",
       "12 1977   H0069    1            NA           NA          NA       NA         \n",
       "13 1978   H0069    1            NA           NA          NA       NA         \n",
       "14 1979   H0069    1            NA           NA          NA       NA         \n",
       "15 1980   H0069    1            NA           NA          NA       NA         \n",
       "16 1981   H0069    1            NA           NA          NA       NA         \n",
       "17 1982   H0069    1            NA           NA          NA       NA         \n",
       "18 1983   H0069    1            NA           NA          NA       NA         \n",
       "19 1984   H0069    1            NA           NA          NA       NA         \n",
       "20 1985   H0069    1            NA           NA          NA       NA         \n",
       "21 1986   H0069    1            NA           NA          NA       NA         \n",
       "22 1987   H0069    1            NA           NA          NA       NA         \n",
       "23 1988   H0069    1            NA           NA          NA       NA         \n",
       "24 1989   H0069    1            NA           NA          NA       NA         \n",
       "25 1990   H0069    1            NA           NA          NA       NA         \n",
       "26 1991   H0069    1            NA           NA          NA       NA         \n",
       "27 1992   H0069    1            NA           NA          NA       NA         \n",
       "28 1993   H0069    1            NA           NA          NA       NA         \n",
       "29 1994   H0069    1            NA           NA          NA       NA         \n",
       "30 1995   H0069    1            NA           NA          NA       NA         \n",
       "31 1996   H0069    1            NA           NA          NA       NA         \n",
       "32 1997   H0069    1            NA           NA          NA       NA         \n",
       "33 1998   H0069    1            NA           NA          NA       NA         \n",
       "34 1999   H0069    1            NA           NA          NA       NA         \n",
       "35 2000   H0069    1            NA           NA          NA       NA         \n",
       "36 2001   H0069    1            NA           NA          NA       NA         \n",
       "37 2002   H0069    1            NA           NA          NA       NA         \n",
       "38 2003   H0069    1            NA           NA          NA       NA         \n",
       "39 2004   H0069    1            NA           NA          NA       NA         \n",
       "40 2005   H0069    1            NA           NA          NA       NA         \n",
       "41 2006   H0069    1            NA           NA          NA       NA         \n",
       "42 2007   H0069    1            NA           NA          NA       NA         \n",
       "43 2008   H0069    1            NA           NA          NA       NA         \n",
       "44 2009   H0069    1            NA           NA          NA       NA         \n",
       "45 2010   H0069    1            NA           NA          NA       NA         \n",
       "46 2011   H0069    1            NA           NA          NA       NA         \n",
       "47 2012   H0069    1            NA           NA          NA       NA         \n",
       "48 2013   H0069    1            NA           NA          NA       NA         \n",
       "49 2014   H0069    1            NA           NA          NA       NA         \n",
       "50 2015   H0069    1            NA           NA          NA       NA         \n",
       "51 2016   H0069    1            NA           NA          NA       NA         \n",
       "52 2017   H0069    1            NA           NA          NA       NA         \n",
       "53 2018   H0069    1            NA           NA          NA       NA         \n",
       "   Species Use weighting_GO Latitude Longitude yr_total_est_sanj Count \n",
       "1  NA      NA  NA           48.8328  -123.1973 NA                   7.0\n",
       "2  NA      NA  NA                NA         NA NA                    NA\n",
       "3  NA      NA  NA                NA         NA NA                    NA\n",
       "4  NA      NA  NA                NA         NA NA                    NA\n",
       "5  NA      NA  NA                NA         NA NA                    NA\n",
       "6  NA      NA  NA                NA         NA NA                    NA\n",
       "7  NA      NA  NA                NA         NA NA                    NA\n",
       "8  NA      NA  NA           48.8328  -123.1973 NA                  14.0\n",
       "9  NA      NA  NA           48.8328  -123.1973 NA                 106.0\n",
       "10 NA      NA  NA                NA         NA NA                    NA\n",
       "11 NA      NA  NA                NA         NA NA                    NA\n",
       "12 NA      NA  NA                NA         NA NA                    NA\n",
       "13 NA      NA  NA                NA         NA NA                    NA\n",
       "14 NA      NA  NA                NA         NA NA                    NA\n",
       "15 NA      NA  NA                NA         NA NA                    NA\n",
       "16 NA      NA  NA                NA         NA NA                    NA\n",
       "17 NA      NA  NA           48.8328  -123.1973 NA                 140.0\n",
       "18 NA      NA  NA                NA         NA NA                    NA\n",
       "19 NA      NA  NA                NA         NA NA                    NA\n",
       "20 NA      NA  NA                NA         NA NA                    NA\n",
       "21 NA      NA  NA           48.8328  -123.1973 NA                 471.0\n",
       "22 NA      NA  NA                NA         NA NA                    NA\n",
       "23 NA      NA  NA           48.8328  -123.1973 NA                 424.5\n",
       "24 NA      NA  NA                NA         NA NA                    NA\n",
       "25 NA      NA  NA           48.8328  -123.1973 NA                 573.0\n",
       "26 NA      NA  NA                NA         NA NA                    NA\n",
       "27 NA      NA  NA           48.8328  -123.1973 NA                 800.0\n",
       "28 NA      NA  NA                NA         NA NA                    NA\n",
       "29 NA      NA  NA                NA         NA NA                    NA\n",
       "30 NA      NA  NA                NA         NA NA                    NA\n",
       "31 NA      NA  NA           48.8328  -123.1973 NA                 755.0\n",
       "32 NA      NA  NA                NA         NA NA                    NA\n",
       "33 NA      NA  NA           48.8328  -123.1973 NA                 458.0\n",
       "34 NA      NA  NA                NA         NA NA                    NA\n",
       "35 NA      NA  NA           48.8328  -123.1973 NA                 608.0\n",
       "36 NA      NA  NA                NA         NA NA                    NA\n",
       "37 NA      NA  NA                NA         NA NA                    NA\n",
       "38 NA      NA  NA           48.8328  -123.1973 NA                1175.0\n",
       "39 NA      NA  NA                NA         NA NA                    NA\n",
       "40 NA      NA  NA                NA         NA NA                    NA\n",
       "41 NA      NA  NA                NA         NA NA                    NA\n",
       "42 NA      NA  NA                NA         NA NA                    NA\n",
       "43 NA      NA  NA           48.8328  -123.1973 NA                 438.0\n",
       "44 NA      NA  NA                NA         NA NA                    NA\n",
       "45 NA      NA  NA                NA         NA NA                    NA\n",
       "46 NA      NA  NA                NA         NA NA                    NA\n",
       "47 NA      NA  NA                NA         NA NA                    NA\n",
       "48 NA      NA  NA                NA         NA NA                    NA\n",
       "49 NA      NA  NA           48.8328  -123.1973 NA                 486.0\n",
       "50 NA      NA  NA                NA         NA NA                    NA\n",
       "51 NA      NA  NA                NA         NA NA                    NA\n",
       "52 NA      NA  NA                NA         NA NA                    NA\n",
       "53 NA      NA  NA                NA         NA NA                    NA\n",
       "   yr_expanded_est X  Location.Value     Location.Info Date        Mean \n",
       "1  NA              NA Belle Chain Islets Gulf Islands   1966-08-13    NA\n",
       "2  NA              NA NA                 NA            NA             NA\n",
       "3  NA              NA NA                 NA            NA             NA\n",
       "4  NA              NA NA                 NA            NA             NA\n",
       "5  NA              NA NA                 NA            NA             NA\n",
       "6  NA              NA NA                 NA            NA             NA\n",
       "7  NA              NA NA                 NA            NA             NA\n",
       "8  NA              NA Belle Chain Islets Gulf Islands   1973-06-14    NA\n",
       "9  NA              NA Belle Chain Islets Gulf Islands   1974-08-15    NA\n",
       "10 NA              NA NA                 NA            NA             NA\n",
       "11 NA              NA NA                 NA            NA             NA\n",
       "12 NA              NA NA                 NA            NA             NA\n",
       "13 NA              NA NA                 NA            NA             NA\n",
       "14 NA              NA NA                 NA            NA             NA\n",
       "15 NA              NA NA                 NA            NA             NA\n",
       "16 NA              NA NA                 NA            NA             NA\n",
       "17 NA              NA Belle Chain Islets Gulf Islands   1982-08-18    NA\n",
       "18 NA              NA NA                 NA            NA             NA\n",
       "19 NA              NA NA                 NA            NA             NA\n",
       "20 NA              NA NA                 NA            NA             NA\n",
       "21 NA              NA Belle Chain Islets Gulf Islands   1986-08-19    NA\n",
       "22 NA              NA NA                 NA            NA             NA\n",
       "23 NA              NA Belle Chain Islets Gulf Islands   1988-06-01 424.5\n",
       "24 NA              NA NA                 NA            NA             NA\n",
       "25 NA              NA Belle Chain Islets Gulf Islands   1990-08-05    NA\n",
       "26 NA              NA NA                 NA            NA             NA\n",
       "27 NA              NA Belle Chain Islets Gulf Islands   1992-09-09    NA\n",
       "28 NA              NA NA                 NA            NA             NA\n",
       "29 NA              NA NA                 NA            NA             NA\n",
       "30 NA              NA NA                 NA            NA             NA\n",
       "31 NA              NA Belle Chain Islets Gulf Islands   1996-07-29    NA\n",
       "32 NA              NA NA                 NA            NA             NA\n",
       "33 NA              NA Belle Chain Islets Gulf Islands   1998-09-05    NA\n",
       "34 NA              NA NA                 NA            NA             NA\n",
       "35 NA              NA Belle Chain Islets Gulf Islands   2000-08-30    NA\n",
       "36 NA              NA NA                 NA            NA             NA\n",
       "37 NA              NA NA                 NA            NA             NA\n",
       "38 NA              NA Belle Chain Islets Gulf Islands   2003-08-29    NA\n",
       "39 NA              NA NA                 NA            NA             NA\n",
       "40 NA              NA NA                 NA            NA             NA\n",
       "41 NA              NA NA                 NA            NA             NA\n",
       "42 NA              NA NA                 NA            NA             NA\n",
       "43 NA              NA Belle Chain Islets Gulf Islands   2008-08-01    NA\n",
       "44 NA              NA NA                 NA            NA             NA\n",
       "45 NA              NA NA                 NA            NA             NA\n",
       "46 NA              NA NA                 NA            NA             NA\n",
       "47 NA              NA NA                 NA            NA             NA\n",
       "48 NA              NA NA                 NA            NA             NA\n",
       "49 NA              NA Belle Chain Islets Gulf Islands   2014-08-21    NA\n",
       "50 NA              NA NA                 NA            NA             NA\n",
       "51 NA              NA NA                 NA            NA             NA\n",
       "52 NA              NA NA                 NA            NA             NA\n",
       "53 NA              NA NA                 NA            NA             NA"
      ]
     },
     "metadata": {},
     "output_type": "display_data"
    },
    {
     "name": "stderr",
     "output_type": "stream",
     "text": [
      "`summarise()` ungrouping output (override with `.groups` argument)\n",
      "Joining, by = \"Site.Key\"\n"
     ]
    },
    {
     "data": {
      "text/html": [
       "<table>\n",
       "<caption>A grouped_df: 724 × 26</caption>\n",
       "<thead>\n",
       "\t<tr><th scope=col>Date.1</th><th scope=col>Site.Key</th><th scope=col>count_number</th><th scope=col>ï..Region.ID</th><th scope=col>Region.Name</th><th scope=col>Location</th><th scope=col>Survey.Code</th><th scope=col>Species</th><th scope=col>Use</th><th scope=col>weighting_GO</th><th scope=col>...</th><th scope=col>Location.Value</th><th scope=col>Location.Info</th><th scope=col>Date</th><th scope=col>Mean</th><th scope=col>non_na_count</th><th scope=col>Count_old</th><th scope=col>Lat2</th><th scope=col>Lon2</th><th scope=col>LocVal2</th><th scope=col>LocInfo2</th></tr>\n",
       "\t<tr><th scope=col>&lt;int&gt;</th><th scope=col>&lt;fct&gt;</th><th scope=col>&lt;dbl&gt;</th><th scope=col>&lt;int&gt;</th><th scope=col>&lt;fct&gt;</th><th scope=col>&lt;fct&gt;</th><th scope=col>&lt;dbl&gt;</th><th scope=col>&lt;fct&gt;</th><th scope=col>&lt;fct&gt;</th><th scope=col>&lt;dbl&gt;</th><th scope=col>...</th><th scope=col>&lt;fct&gt;</th><th scope=col>&lt;fct&gt;</th><th scope=col>&lt;fct&gt;</th><th scope=col>&lt;dbl&gt;</th><th scope=col>&lt;int&gt;</th><th scope=col>&lt;dbl&gt;</th><th scope=col>&lt;dbl&gt;</th><th scope=col>&lt;dbl&gt;</th><th scope=col>&lt;fct&gt;</th><th scope=col>&lt;fct&gt;</th></tr>\n",
       "</thead>\n",
       "<tbody>\n",
       "\t<tr><td>1975</td><td>H0010</td><td>1</td><td>NA</td><td>NA</td><td>NA</td><td>NA</td><td>NA</td><td>NA</td><td>NA</td><td>...</td><td>South James Island Reef</td><td>South Gulf</td><td>NA</td><td>NA</td><td>10</td><td>NA</td><td>48.585</td><td>-123.2890</td><td>South James Island Reef</td><td>South Gulf</td></tr>\n",
       "\t<tr><td>1975</td><td>H0010</td><td>1</td><td>NA</td><td>NA</td><td>NA</td><td>NA</td><td>NA</td><td>NA</td><td>NA</td><td>...</td><td>South James Island Reef</td><td>South Gulf</td><td>NA</td><td>NA</td><td>10</td><td>NA</td><td>48.588</td><td>-123.3469</td><td>South James Island Reef</td><td>South Gulf</td></tr>\n",
       "\t<tr><td>1976</td><td>H0010</td><td>1</td><td>NA</td><td>NA</td><td>NA</td><td>NA</td><td>NA</td><td>NA</td><td>NA</td><td>...</td><td>South James Island Reef</td><td>South Gulf</td><td>NA</td><td>NA</td><td>10</td><td>NA</td><td>48.585</td><td>-123.2890</td><td>South James Island Reef</td><td>South Gulf</td></tr>\n",
       "\t<tr><td>1976</td><td>H0010</td><td>1</td><td>NA</td><td>NA</td><td>NA</td><td>NA</td><td>NA</td><td>NA</td><td>NA</td><td>...</td><td>South James Island Reef</td><td>South Gulf</td><td>NA</td><td>NA</td><td>10</td><td>NA</td><td>48.588</td><td>-123.3469</td><td>South James Island Reef</td><td>South Gulf</td></tr>\n",
       "\t<tr><td>1977</td><td>H0010</td><td>1</td><td>NA</td><td>NA</td><td>NA</td><td>NA</td><td>NA</td><td>NA</td><td>NA</td><td>...</td><td>South James Island Reef</td><td>South Gulf</td><td>NA</td><td>NA</td><td>10</td><td>NA</td><td>48.585</td><td>-123.2890</td><td>South James Island Reef</td><td>South Gulf</td></tr>\n",
       "\t<tr><td>1977</td><td>H0010</td><td>1</td><td>NA</td><td>NA</td><td>NA</td><td>NA</td><td>NA</td><td>NA</td><td>NA</td><td>...</td><td>South James Island Reef</td><td>South Gulf</td><td>NA</td><td>NA</td><td>10</td><td>NA</td><td>48.588</td><td>-123.3469</td><td>South James Island Reef</td><td>South Gulf</td></tr>\n",
       "\t<tr><td>1978</td><td>H0010</td><td>1</td><td>NA</td><td>NA</td><td>NA</td><td>NA</td><td>NA</td><td>NA</td><td>NA</td><td>...</td><td>South James Island Reef</td><td>South Gulf</td><td>NA</td><td>NA</td><td>10</td><td>NA</td><td>48.585</td><td>-123.2890</td><td>South James Island Reef</td><td>South Gulf</td></tr>\n",
       "\t<tr><td>1978</td><td>H0010</td><td>1</td><td>NA</td><td>NA</td><td>NA</td><td>NA</td><td>NA</td><td>NA</td><td>NA</td><td>...</td><td>South James Island Reef</td><td>South Gulf</td><td>NA</td><td>NA</td><td>10</td><td>NA</td><td>48.588</td><td>-123.3469</td><td>South James Island Reef</td><td>South Gulf</td></tr>\n",
       "\t<tr><td>1979</td><td>H0010</td><td>1</td><td>NA</td><td>NA</td><td>NA</td><td>NA</td><td>NA</td><td>NA</td><td>NA</td><td>...</td><td>South James Island Reef</td><td>South Gulf</td><td>NA</td><td>NA</td><td>10</td><td>NA</td><td>48.585</td><td>-123.2890</td><td>South James Island Reef</td><td>South Gulf</td></tr>\n",
       "\t<tr><td>1979</td><td>H0010</td><td>1</td><td>NA</td><td>NA</td><td>NA</td><td>NA</td><td>NA</td><td>NA</td><td>NA</td><td>...</td><td>South James Island Reef</td><td>South Gulf</td><td>NA</td><td>NA</td><td>10</td><td>NA</td><td>48.588</td><td>-123.3469</td><td>South James Island Reef</td><td>South Gulf</td></tr>\n",
       "\t<tr><td>1980</td><td>H0010</td><td>1</td><td>NA</td><td>NA</td><td>NA</td><td>NA</td><td>NA</td><td>NA</td><td>NA</td><td>...</td><td>South James Island Reef</td><td>South Gulf</td><td>NA</td><td>NA</td><td>10</td><td>NA</td><td>48.585</td><td>-123.2890</td><td>South James Island Reef</td><td>South Gulf</td></tr>\n",
       "\t<tr><td>1980</td><td>H0010</td><td>1</td><td>NA</td><td>NA</td><td>NA</td><td>NA</td><td>NA</td><td>NA</td><td>NA</td><td>...</td><td>South James Island Reef</td><td>South Gulf</td><td>NA</td><td>NA</td><td>10</td><td>NA</td><td>48.588</td><td>-123.3469</td><td>South James Island Reef</td><td>South Gulf</td></tr>\n",
       "\t<tr><td>1981</td><td>H0010</td><td>1</td><td>NA</td><td>NA</td><td>NA</td><td>NA</td><td>NA</td><td>NA</td><td>NA</td><td>...</td><td>South James Island Reef</td><td>South Gulf</td><td>NA</td><td>NA</td><td>10</td><td>NA</td><td>48.585</td><td>-123.2890</td><td>South James Island Reef</td><td>South Gulf</td></tr>\n",
       "\t<tr><td>1981</td><td>H0010</td><td>1</td><td>NA</td><td>NA</td><td>NA</td><td>NA</td><td>NA</td><td>NA</td><td>NA</td><td>...</td><td>South James Island Reef</td><td>South Gulf</td><td>NA</td><td>NA</td><td>10</td><td>NA</td><td>48.588</td><td>-123.3469</td><td>South James Island Reef</td><td>South Gulf</td></tr>\n",
       "\t<tr><td>1983</td><td>H0010</td><td>1</td><td>NA</td><td>NA</td><td>NA</td><td>NA</td><td>NA</td><td>NA</td><td>NA</td><td>...</td><td>South James Island Reef</td><td>South Gulf</td><td>NA</td><td>NA</td><td>10</td><td>NA</td><td>48.585</td><td>-123.2890</td><td>South James Island Reef</td><td>South Gulf</td></tr>\n",
       "\t<tr><td>1983</td><td>H0010</td><td>1</td><td>NA</td><td>NA</td><td>NA</td><td>NA</td><td>NA</td><td>NA</td><td>NA</td><td>...</td><td>South James Island Reef</td><td>South Gulf</td><td>NA</td><td>NA</td><td>10</td><td>NA</td><td>48.588</td><td>-123.3469</td><td>South James Island Reef</td><td>South Gulf</td></tr>\n",
       "\t<tr><td>1984</td><td>H0010</td><td>1</td><td>NA</td><td>NA</td><td>NA</td><td>NA</td><td>NA</td><td>NA</td><td>NA</td><td>...</td><td>South James Island Reef</td><td>South Gulf</td><td>NA</td><td>NA</td><td>10</td><td>NA</td><td>48.585</td><td>-123.2890</td><td>South James Island Reef</td><td>South Gulf</td></tr>\n",
       "\t<tr><td>1984</td><td>H0010</td><td>1</td><td>NA</td><td>NA</td><td>NA</td><td>NA</td><td>NA</td><td>NA</td><td>NA</td><td>...</td><td>South James Island Reef</td><td>South Gulf</td><td>NA</td><td>NA</td><td>10</td><td>NA</td><td>48.588</td><td>-123.3469</td><td>South James Island Reef</td><td>South Gulf</td></tr>\n",
       "\t<tr><td>1985</td><td>H0010</td><td>1</td><td>NA</td><td>NA</td><td>NA</td><td>NA</td><td>NA</td><td>NA</td><td>NA</td><td>...</td><td>South James Island Reef</td><td>South Gulf</td><td>NA</td><td>NA</td><td>10</td><td>NA</td><td>48.585</td><td>-123.2890</td><td>South James Island Reef</td><td>South Gulf</td></tr>\n",
       "\t<tr><td>1985</td><td>H0010</td><td>1</td><td>NA</td><td>NA</td><td>NA</td><td>NA</td><td>NA</td><td>NA</td><td>NA</td><td>...</td><td>South James Island Reef</td><td>South Gulf</td><td>NA</td><td>NA</td><td>10</td><td>NA</td><td>48.588</td><td>-123.3469</td><td>South James Island Reef</td><td>South Gulf</td></tr>\n",
       "\t<tr><td>1987</td><td>H0010</td><td>1</td><td>NA</td><td>NA</td><td>NA</td><td>NA</td><td>NA</td><td>NA</td><td>NA</td><td>...</td><td>South James Island Reef</td><td>South Gulf</td><td>NA</td><td>NA</td><td>10</td><td>NA</td><td>48.585</td><td>-123.2890</td><td>South James Island Reef</td><td>South Gulf</td></tr>\n",
       "\t<tr><td>1987</td><td>H0010</td><td>1</td><td>NA</td><td>NA</td><td>NA</td><td>NA</td><td>NA</td><td>NA</td><td>NA</td><td>...</td><td>South James Island Reef</td><td>South Gulf</td><td>NA</td><td>NA</td><td>10</td><td>NA</td><td>48.588</td><td>-123.3469</td><td>South James Island Reef</td><td>South Gulf</td></tr>\n",
       "\t<tr><td>1989</td><td>H0010</td><td>1</td><td>NA</td><td>NA</td><td>NA</td><td>NA</td><td>NA</td><td>NA</td><td>NA</td><td>...</td><td>South James Island Reef</td><td>South Gulf</td><td>NA</td><td>NA</td><td>10</td><td>NA</td><td>48.585</td><td>-123.2890</td><td>South James Island Reef</td><td>South Gulf</td></tr>\n",
       "\t<tr><td>1989</td><td>H0010</td><td>1</td><td>NA</td><td>NA</td><td>NA</td><td>NA</td><td>NA</td><td>NA</td><td>NA</td><td>...</td><td>South James Island Reef</td><td>South Gulf</td><td>NA</td><td>NA</td><td>10</td><td>NA</td><td>48.588</td><td>-123.3469</td><td>South James Island Reef</td><td>South Gulf</td></tr>\n",
       "\t<tr><td>1990</td><td>H0010</td><td>1</td><td>NA</td><td>NA</td><td>NA</td><td>NA</td><td>NA</td><td>NA</td><td>NA</td><td>...</td><td>South James Island Reef</td><td>South Gulf</td><td>NA</td><td>NA</td><td>10</td><td>NA</td><td>48.585</td><td>-123.2890</td><td>South James Island Reef</td><td>South Gulf</td></tr>\n",
       "\t<tr><td>1990</td><td>H0010</td><td>1</td><td>NA</td><td>NA</td><td>NA</td><td>NA</td><td>NA</td><td>NA</td><td>NA</td><td>...</td><td>South James Island Reef</td><td>South Gulf</td><td>NA</td><td>NA</td><td>10</td><td>NA</td><td>48.588</td><td>-123.3469</td><td>South James Island Reef</td><td>South Gulf</td></tr>\n",
       "\t<tr><td>1991</td><td>H0010</td><td>1</td><td>NA</td><td>NA</td><td>NA</td><td>NA</td><td>NA</td><td>NA</td><td>NA</td><td>...</td><td>South James Island Reef</td><td>South Gulf</td><td>NA</td><td>NA</td><td>10</td><td>NA</td><td>48.585</td><td>-123.2890</td><td>South James Island Reef</td><td>South Gulf</td></tr>\n",
       "\t<tr><td>1991</td><td>H0010</td><td>1</td><td>NA</td><td>NA</td><td>NA</td><td>NA</td><td>NA</td><td>NA</td><td>NA</td><td>...</td><td>South James Island Reef</td><td>South Gulf</td><td>NA</td><td>NA</td><td>10</td><td>NA</td><td>48.588</td><td>-123.3469</td><td>South James Island Reef</td><td>South Gulf</td></tr>\n",
       "\t<tr><td>1992</td><td>H0010</td><td>1</td><td>NA</td><td>NA</td><td>NA</td><td>NA</td><td>NA</td><td>NA</td><td>NA</td><td>...</td><td>South James Island Reef</td><td>South Gulf</td><td>NA</td><td>NA</td><td>10</td><td>NA</td><td>48.585</td><td>-123.2890</td><td>South James Island Reef</td><td>South Gulf</td></tr>\n",
       "\t<tr><td>1992</td><td>H0010</td><td>1</td><td>NA</td><td>NA</td><td>NA</td><td>NA</td><td>NA</td><td>NA</td><td>NA</td><td>...</td><td>South James Island Reef</td><td>South Gulf</td><td>NA</td><td>NA</td><td>10</td><td>NA</td><td>48.588</td><td>-123.3469</td><td>South James Island Reef</td><td>South Gulf</td></tr>\n",
       "\t<tr><td>...</td><td>...</td><td>...</td><td>...</td><td>...</td><td>...</td><td>...</td><td>...</td><td>...</td><td>...</td><td></td><td>...</td><td>...</td><td>...</td><td>...</td><td>...</td><td>...</td><td>...</td><td>...</td><td>...</td><td>...</td></tr>\n",
       "\t<tr><td>2009</td><td>H0845</td><td>1</td><td>NA</td><td>NA</td><td>NA</td><td>NA</td><td>NA</td><td>NA</td><td>NA</td><td>...</td><td>Port Browning Rocks         </td><td>Gulf Islands</td><td>NA</td><td>NA</td><td>3</td><td>NA</td><td>48.7755</td><td>-123.2651</td><td>Port Browning Rocks         </td><td>Gulf Islands</td></tr>\n",
       "\t<tr><td>2009</td><td>H0845</td><td>1</td><td>NA</td><td>NA</td><td>NA</td><td>NA</td><td>NA</td><td>NA</td><td>NA</td><td>...</td><td>Port Browning Rocks         </td><td>Gulf Islands</td><td>NA</td><td>NA</td><td>3</td><td>NA</td><td>48.7759</td><td>-123.2659</td><td>Port Browning Rocks         </td><td>Gulf Islands</td></tr>\n",
       "\t<tr><td>2010</td><td>H0845</td><td>1</td><td>NA</td><td>NA</td><td>NA</td><td>NA</td><td>NA</td><td>NA</td><td>NA</td><td>...</td><td>Port Browning Rocks         </td><td>Gulf Islands</td><td>NA</td><td>NA</td><td>3</td><td>NA</td><td>48.7755</td><td>-123.2651</td><td>Port Browning Rocks         </td><td>Gulf Islands</td></tr>\n",
       "\t<tr><td>2010</td><td>H0845</td><td>1</td><td>NA</td><td>NA</td><td>NA</td><td>NA</td><td>NA</td><td>NA</td><td>NA</td><td>...</td><td>Port Browning Rocks         </td><td>Gulf Islands</td><td>NA</td><td>NA</td><td>3</td><td>NA</td><td>48.7759</td><td>-123.2659</td><td>Port Browning Rocks         </td><td>Gulf Islands</td></tr>\n",
       "\t<tr><td>2011</td><td>H0845</td><td>1</td><td>NA</td><td>NA</td><td>NA</td><td>NA</td><td>NA</td><td>NA</td><td>NA</td><td>...</td><td>Port Browning Rocks         </td><td>Gulf Islands</td><td>NA</td><td>NA</td><td>3</td><td>NA</td><td>48.7755</td><td>-123.2651</td><td>Port Browning Rocks         </td><td>Gulf Islands</td></tr>\n",
       "\t<tr><td>2011</td><td>H0845</td><td>1</td><td>NA</td><td>NA</td><td>NA</td><td>NA</td><td>NA</td><td>NA</td><td>NA</td><td>...</td><td>Port Browning Rocks         </td><td>Gulf Islands</td><td>NA</td><td>NA</td><td>3</td><td>NA</td><td>48.7759</td><td>-123.2659</td><td>Port Browning Rocks         </td><td>Gulf Islands</td></tr>\n",
       "\t<tr><td>2012</td><td>H0845</td><td>1</td><td>NA</td><td>NA</td><td>NA</td><td>NA</td><td>NA</td><td>NA</td><td>NA</td><td>...</td><td>Port Browning Rocks         </td><td>Gulf Islands</td><td>NA</td><td>NA</td><td>3</td><td>NA</td><td>48.7755</td><td>-123.2651</td><td>Port Browning Rocks         </td><td>Gulf Islands</td></tr>\n",
       "\t<tr><td>2012</td><td>H0845</td><td>1</td><td>NA</td><td>NA</td><td>NA</td><td>NA</td><td>NA</td><td>NA</td><td>NA</td><td>...</td><td>Port Browning Rocks         </td><td>Gulf Islands</td><td>NA</td><td>NA</td><td>3</td><td>NA</td><td>48.7759</td><td>-123.2659</td><td>Port Browning Rocks         </td><td>Gulf Islands</td></tr>\n",
       "\t<tr><td>2013</td><td>H0845</td><td>1</td><td>NA</td><td>NA</td><td>NA</td><td>NA</td><td>NA</td><td>NA</td><td>NA</td><td>...</td><td>Port Browning Rocks         </td><td>Gulf Islands</td><td>NA</td><td>NA</td><td>3</td><td>NA</td><td>48.7755</td><td>-123.2651</td><td>Port Browning Rocks         </td><td>Gulf Islands</td></tr>\n",
       "\t<tr><td>2013</td><td>H0845</td><td>1</td><td>NA</td><td>NA</td><td>NA</td><td>NA</td><td>NA</td><td>NA</td><td>NA</td><td>...</td><td>Port Browning Rocks         </td><td>Gulf Islands</td><td>NA</td><td>NA</td><td>3</td><td>NA</td><td>48.7759</td><td>-123.2659</td><td>Port Browning Rocks         </td><td>Gulf Islands</td></tr>\n",
       "\t<tr><td>2009</td><td>H1465</td><td>1</td><td>NA</td><td>NA</td><td>NA</td><td>NA</td><td>NA</td><td>NA</td><td>NA</td><td>...</td><td>Northeast Galiano Island Bay</td><td>Gulf Islands</td><td>NA</td><td>NA</td><td>2</td><td>NA</td><td>49.0085</td><td>-123.5621</td><td>Northeast Galiano Island Bay</td><td>Gulf Islands</td></tr>\n",
       "\t<tr><td>2009</td><td>H1465</td><td>1</td><td>NA</td><td>NA</td><td>NA</td><td>NA</td><td>NA</td><td>NA</td><td>NA</td><td>...</td><td>Northeast Galiano Island B  </td><td>Gulf Islands</td><td>NA</td><td>NA</td><td>2</td><td>NA</td><td>49.0085</td><td>-123.5621</td><td>Northeast Galiano Island B  </td><td>Gulf Islands</td></tr>\n",
       "\t<tr><td>2010</td><td>H1465</td><td>1</td><td>NA</td><td>NA</td><td>NA</td><td>NA</td><td>NA</td><td>NA</td><td>NA</td><td>...</td><td>Northeast Galiano Island Bay</td><td>Gulf Islands</td><td>NA</td><td>NA</td><td>2</td><td>NA</td><td>49.0085</td><td>-123.5621</td><td>Northeast Galiano Island Bay</td><td>Gulf Islands</td></tr>\n",
       "\t<tr><td>2010</td><td>H1465</td><td>1</td><td>NA</td><td>NA</td><td>NA</td><td>NA</td><td>NA</td><td>NA</td><td>NA</td><td>...</td><td>Northeast Galiano Island B  </td><td>Gulf Islands</td><td>NA</td><td>NA</td><td>2</td><td>NA</td><td>49.0085</td><td>-123.5621</td><td>Northeast Galiano Island B  </td><td>Gulf Islands</td></tr>\n",
       "\t<tr><td>2011</td><td>H1465</td><td>1</td><td>NA</td><td>NA</td><td>NA</td><td>NA</td><td>NA</td><td>NA</td><td>NA</td><td>...</td><td>Northeast Galiano Island Bay</td><td>Gulf Islands</td><td>NA</td><td>NA</td><td>2</td><td>NA</td><td>49.0085</td><td>-123.5621</td><td>Northeast Galiano Island Bay</td><td>Gulf Islands</td></tr>\n",
       "\t<tr><td>2011</td><td>H1465</td><td>1</td><td>NA</td><td>NA</td><td>NA</td><td>NA</td><td>NA</td><td>NA</td><td>NA</td><td>...</td><td>Northeast Galiano Island B  </td><td>Gulf Islands</td><td>NA</td><td>NA</td><td>2</td><td>NA</td><td>49.0085</td><td>-123.5621</td><td>Northeast Galiano Island B  </td><td>Gulf Islands</td></tr>\n",
       "\t<tr><td>2012</td><td>H1465</td><td>1</td><td>NA</td><td>NA</td><td>NA</td><td>NA</td><td>NA</td><td>NA</td><td>NA</td><td>...</td><td>Northeast Galiano Island Bay</td><td>Gulf Islands</td><td>NA</td><td>NA</td><td>2</td><td>NA</td><td>49.0085</td><td>-123.5621</td><td>Northeast Galiano Island Bay</td><td>Gulf Islands</td></tr>\n",
       "\t<tr><td>2012</td><td>H1465</td><td>1</td><td>NA</td><td>NA</td><td>NA</td><td>NA</td><td>NA</td><td>NA</td><td>NA</td><td>...</td><td>Northeast Galiano Island B  </td><td>Gulf Islands</td><td>NA</td><td>NA</td><td>2</td><td>NA</td><td>49.0085</td><td>-123.5621</td><td>Northeast Galiano Island B  </td><td>Gulf Islands</td></tr>\n",
       "\t<tr><td>2013</td><td>H1465</td><td>1</td><td>NA</td><td>NA</td><td>NA</td><td>NA</td><td>NA</td><td>NA</td><td>NA</td><td>...</td><td>Northeast Galiano Island Bay</td><td>Gulf Islands</td><td>NA</td><td>NA</td><td>2</td><td>NA</td><td>49.0085</td><td>-123.5621</td><td>Northeast Galiano Island Bay</td><td>Gulf Islands</td></tr>\n",
       "\t<tr><td>2013</td><td>H1465</td><td>1</td><td>NA</td><td>NA</td><td>NA</td><td>NA</td><td>NA</td><td>NA</td><td>NA</td><td>...</td><td>Northeast Galiano Island B  </td><td>Gulf Islands</td><td>NA</td><td>NA</td><td>2</td><td>NA</td><td>49.0085</td><td>-123.5621</td><td>Northeast Galiano Island B  </td><td>Gulf Islands</td></tr>\n",
       "\t<tr><td>2009</td><td>H1471</td><td>1</td><td>NA</td><td>NA</td><td>NA</td><td>NA</td><td>NA</td><td>NA</td><td>NA</td><td>...</td><td>Marble Island               </td><td>Gulf Islands</td><td>NA</td><td>NA</td><td>2</td><td>NA</td><td>48.7613</td><td>-123.2992</td><td>Marble Island               </td><td>Gulf Islands</td></tr>\n",
       "\t<tr><td>2009</td><td>H1471</td><td>1</td><td>NA</td><td>NA</td><td>NA</td><td>NA</td><td>NA</td><td>NA</td><td>NA</td><td>...</td><td>South Boat Nook             </td><td>Gulf Islands</td><td>NA</td><td>NA</td><td>2</td><td>NA</td><td>48.7613</td><td>-123.2992</td><td>South Boat Nook             </td><td>Gulf Islands</td></tr>\n",
       "\t<tr><td>2010</td><td>H1471</td><td>1</td><td>NA</td><td>NA</td><td>NA</td><td>NA</td><td>NA</td><td>NA</td><td>NA</td><td>...</td><td>Marble Island               </td><td>Gulf Islands</td><td>NA</td><td>NA</td><td>2</td><td>NA</td><td>48.7613</td><td>-123.2992</td><td>Marble Island               </td><td>Gulf Islands</td></tr>\n",
       "\t<tr><td>2010</td><td>H1471</td><td>1</td><td>NA</td><td>NA</td><td>NA</td><td>NA</td><td>NA</td><td>NA</td><td>NA</td><td>...</td><td>South Boat Nook             </td><td>Gulf Islands</td><td>NA</td><td>NA</td><td>2</td><td>NA</td><td>48.7613</td><td>-123.2992</td><td>South Boat Nook             </td><td>Gulf Islands</td></tr>\n",
       "\t<tr><td>2011</td><td>H1471</td><td>1</td><td>NA</td><td>NA</td><td>NA</td><td>NA</td><td>NA</td><td>NA</td><td>NA</td><td>...</td><td>Marble Island               </td><td>Gulf Islands</td><td>NA</td><td>NA</td><td>2</td><td>NA</td><td>48.7613</td><td>-123.2992</td><td>Marble Island               </td><td>Gulf Islands</td></tr>\n",
       "\t<tr><td>2011</td><td>H1471</td><td>1</td><td>NA</td><td>NA</td><td>NA</td><td>NA</td><td>NA</td><td>NA</td><td>NA</td><td>...</td><td>South Boat Nook             </td><td>Gulf Islands</td><td>NA</td><td>NA</td><td>2</td><td>NA</td><td>48.7613</td><td>-123.2992</td><td>South Boat Nook             </td><td>Gulf Islands</td></tr>\n",
       "\t<tr><td>2012</td><td>H1471</td><td>1</td><td>NA</td><td>NA</td><td>NA</td><td>NA</td><td>NA</td><td>NA</td><td>NA</td><td>...</td><td>Marble Island               </td><td>Gulf Islands</td><td>NA</td><td>NA</td><td>2</td><td>NA</td><td>48.7613</td><td>-123.2992</td><td>Marble Island               </td><td>Gulf Islands</td></tr>\n",
       "\t<tr><td>2012</td><td>H1471</td><td>1</td><td>NA</td><td>NA</td><td>NA</td><td>NA</td><td>NA</td><td>NA</td><td>NA</td><td>...</td><td>South Boat Nook             </td><td>Gulf Islands</td><td>NA</td><td>NA</td><td>2</td><td>NA</td><td>48.7613</td><td>-123.2992</td><td>South Boat Nook             </td><td>Gulf Islands</td></tr>\n",
       "\t<tr><td>2013</td><td>H1471</td><td>1</td><td>NA</td><td>NA</td><td>NA</td><td>NA</td><td>NA</td><td>NA</td><td>NA</td><td>...</td><td>Marble Island               </td><td>Gulf Islands</td><td>NA</td><td>NA</td><td>2</td><td>NA</td><td>48.7613</td><td>-123.2992</td><td>Marble Island               </td><td>Gulf Islands</td></tr>\n",
       "\t<tr><td>2013</td><td>H1471</td><td>1</td><td>NA</td><td>NA</td><td>NA</td><td>NA</td><td>NA</td><td>NA</td><td>NA</td><td>...</td><td>South Boat Nook             </td><td>Gulf Islands</td><td>NA</td><td>NA</td><td>2</td><td>NA</td><td>48.7613</td><td>-123.2992</td><td>South Boat Nook             </td><td>Gulf Islands</td></tr>\n",
       "</tbody>\n",
       "</table>\n"
      ],
      "text/latex": [
       "A grouped_df: 724 × 26\n",
       "\\begin{tabular}{r|llllllllllllllllllllllllll}\n",
       " Date.1 & Site.Key & count\\_number & ï..Region.ID & Region.Name & Location & Survey.Code & Species & Use & weighting\\_GO & Latitude & Longitude & yr\\_total\\_est\\_sanj & Count & yr\\_expanded\\_est & X & Location.Value & Location.Info & Date & Mean & non\\_na\\_count & Count\\_old & Lat2 & Lon2 & LocVal2 & LocInfo2\\\\\n",
       " <int> & <fct> & <dbl> & <int> & <fct> & <fct> & <dbl> & <fct> & <fct> & <dbl> & <dbl> & <dbl> & <int> & <dbl> & <dbl> & <lgl> & <fct> & <fct> & <fct> & <dbl> & <int> & <dbl> & <dbl> & <dbl> & <fct> & <fct>\\\\\n",
       "\\hline\n",
       "\t 1975 & H0010 & 1 & NA & NA & NA & NA & NA & NA & NA & 48.585 & -123.2890 & NA & 2.625 & NA & NA & South James Island Reef & South Gulf & NA & NA & 10 & NA & 48.585 & -123.2890 & South James Island Reef & South Gulf\\\\\n",
       "\t 1975 & H0010 & 1 & NA & NA & NA & NA & NA & NA & NA & 48.588 & -123.3469 & NA & 2.625 & NA & NA & South James Island Reef & South Gulf & NA & NA & 10 & NA & 48.588 & -123.3469 & South James Island Reef & South Gulf\\\\\n",
       "\t 1976 & H0010 & 1 & NA & NA & NA & NA & NA & NA & NA & 48.585 & -123.2890 & NA & 3.250 & NA & NA & South James Island Reef & South Gulf & NA & NA & 10 & NA & 48.585 & -123.2890 & South James Island Reef & South Gulf\\\\\n",
       "\t 1976 & H0010 & 1 & NA & NA & NA & NA & NA & NA & NA & 48.588 & -123.3469 & NA & 3.250 & NA & NA & South James Island Reef & South Gulf & NA & NA & 10 & NA & 48.588 & -123.3469 & South James Island Reef & South Gulf\\\\\n",
       "\t 1977 & H0010 & 1 & NA & NA & NA & NA & NA & NA & NA & 48.585 & -123.2890 & NA & 3.875 & NA & NA & South James Island Reef & South Gulf & NA & NA & 10 & NA & 48.585 & -123.2890 & South James Island Reef & South Gulf\\\\\n",
       "\t 1977 & H0010 & 1 & NA & NA & NA & NA & NA & NA & NA & 48.588 & -123.3469 & NA & 3.875 & NA & NA & South James Island Reef & South Gulf & NA & NA & 10 & NA & 48.588 & -123.3469 & South James Island Reef & South Gulf\\\\\n",
       "\t 1978 & H0010 & 1 & NA & NA & NA & NA & NA & NA & NA & 48.585 & -123.2890 & NA & 4.500 & NA & NA & South James Island Reef & South Gulf & NA & NA & 10 & NA & 48.585 & -123.2890 & South James Island Reef & South Gulf\\\\\n",
       "\t 1978 & H0010 & 1 & NA & NA & NA & NA & NA & NA & NA & 48.588 & -123.3469 & NA & 4.500 & NA & NA & South James Island Reef & South Gulf & NA & NA & 10 & NA & 48.588 & -123.3469 & South James Island Reef & South Gulf\\\\\n",
       "\t 1979 & H0010 & 1 & NA & NA & NA & NA & NA & NA & NA & 48.585 & -123.2890 & NA & 5.125 & NA & NA & South James Island Reef & South Gulf & NA & NA & 10 & NA & 48.585 & -123.2890 & South James Island Reef & South Gulf\\\\\n",
       "\t 1979 & H0010 & 1 & NA & NA & NA & NA & NA & NA & NA & 48.588 & -123.3469 & NA & 5.125 & NA & NA & South James Island Reef & South Gulf & NA & NA & 10 & NA & 48.588 & -123.3469 & South James Island Reef & South Gulf\\\\\n",
       "\t 1980 & H0010 & 1 & NA & NA & NA & NA & NA & NA & NA & 48.585 & -123.2890 & NA & 5.750 & NA & NA & South James Island Reef & South Gulf & NA & NA & 10 & NA & 48.585 & -123.2890 & South James Island Reef & South Gulf\\\\\n",
       "\t 1980 & H0010 & 1 & NA & NA & NA & NA & NA & NA & NA & 48.588 & -123.3469 & NA & 5.750 & NA & NA & South James Island Reef & South Gulf & NA & NA & 10 & NA & 48.588 & -123.3469 & South James Island Reef & South Gulf\\\\\n",
       "\t 1981 & H0010 & 1 & NA & NA & NA & NA & NA & NA & NA & 48.585 & -123.2890 & NA & 6.375 & NA & NA & South James Island Reef & South Gulf & NA & NA & 10 & NA & 48.585 & -123.2890 & South James Island Reef & South Gulf\\\\\n",
       "\t 1981 & H0010 & 1 & NA & NA & NA & NA & NA & NA & NA & 48.588 & -123.3469 & NA & 6.375 & NA & NA & South James Island Reef & South Gulf & NA & NA & 10 & NA & 48.588 & -123.3469 & South James Island Reef & South Gulf\\\\\n",
       "\t 1983 & H0010 & 1 & NA & NA & NA & NA & NA & NA & NA & 48.585 & -123.2890 & NA & 5.500 & NA & NA & South James Island Reef & South Gulf & NA & NA & 10 & NA & 48.585 & -123.2890 & South James Island Reef & South Gulf\\\\\n",
       "\t 1983 & H0010 & 1 & NA & NA & NA & NA & NA & NA & NA & 48.588 & -123.3469 & NA & 5.500 & NA & NA & South James Island Reef & South Gulf & NA & NA & 10 & NA & 48.588 & -123.3469 & South James Island Reef & South Gulf\\\\\n",
       "\t 1984 & H0010 & 1 & NA & NA & NA & NA & NA & NA & NA & 48.585 & -123.2890 & NA & 4.000 & NA & NA & South James Island Reef & South Gulf & NA & NA & 10 & NA & 48.585 & -123.2890 & South James Island Reef & South Gulf\\\\\n",
       "\t 1984 & H0010 & 1 & NA & NA & NA & NA & NA & NA & NA & 48.588 & -123.3469 & NA & 4.000 & NA & NA & South James Island Reef & South Gulf & NA & NA & 10 & NA & 48.588 & -123.3469 & South James Island Reef & South Gulf\\\\\n",
       "\t 1985 & H0010 & 1 & NA & NA & NA & NA & NA & NA & NA & 48.585 & -123.2890 & NA & 2.500 & NA & NA & South James Island Reef & South Gulf & NA & NA & 10 & NA & 48.585 & -123.2890 & South James Island Reef & South Gulf\\\\\n",
       "\t 1985 & H0010 & 1 & NA & NA & NA & NA & NA & NA & NA & 48.588 & -123.3469 & NA & 2.500 & NA & NA & South James Island Reef & South Gulf & NA & NA & 10 & NA & 48.588 & -123.3469 & South James Island Reef & South Gulf\\\\\n",
       "\t 1987 & H0010 & 1 & NA & NA & NA & NA & NA & NA & NA & 48.585 & -123.2890 & NA & 1.500 & NA & NA & South James Island Reef & South Gulf & NA & NA & 10 & NA & 48.585 & -123.2890 & South James Island Reef & South Gulf\\\\\n",
       "\t 1987 & H0010 & 1 & NA & NA & NA & NA & NA & NA & NA & 48.588 & -123.3469 & NA & 1.500 & NA & NA & South James Island Reef & South Gulf & NA & NA & 10 & NA & 48.588 & -123.3469 & South James Island Reef & South Gulf\\\\\n",
       "\t 1989 & H0010 & 1 & NA & NA & NA & NA & NA & NA & NA & 48.585 & -123.2890 & NA & 3.000 & NA & NA & South James Island Reef & South Gulf & NA & NA & 10 & NA & 48.585 & -123.2890 & South James Island Reef & South Gulf\\\\\n",
       "\t 1989 & H0010 & 1 & NA & NA & NA & NA & NA & NA & NA & 48.588 & -123.3469 & NA & 3.000 & NA & NA & South James Island Reef & South Gulf & NA & NA & 10 & NA & 48.588 & -123.3469 & South James Island Reef & South Gulf\\\\\n",
       "\t 1990 & H0010 & 1 & NA & NA & NA & NA & NA & NA & NA & 48.585 & -123.2890 & NA & 4.000 & NA & NA & South James Island Reef & South Gulf & NA & NA & 10 & NA & 48.585 & -123.2890 & South James Island Reef & South Gulf\\\\\n",
       "\t 1990 & H0010 & 1 & NA & NA & NA & NA & NA & NA & NA & 48.588 & -123.3469 & NA & 4.000 & NA & NA & South James Island Reef & South Gulf & NA & NA & 10 & NA & 48.588 & -123.3469 & South James Island Reef & South Gulf\\\\\n",
       "\t 1991 & H0010 & 1 & NA & NA & NA & NA & NA & NA & NA & 48.585 & -123.2890 & NA & 5.000 & NA & NA & South James Island Reef & South Gulf & NA & NA & 10 & NA & 48.585 & -123.2890 & South James Island Reef & South Gulf\\\\\n",
       "\t 1991 & H0010 & 1 & NA & NA & NA & NA & NA & NA & NA & 48.588 & -123.3469 & NA & 5.000 & NA & NA & South James Island Reef & South Gulf & NA & NA & 10 & NA & 48.588 & -123.3469 & South James Island Reef & South Gulf\\\\\n",
       "\t 1992 & H0010 & 1 & NA & NA & NA & NA & NA & NA & NA & 48.585 & -123.2890 & NA & 6.000 & NA & NA & South James Island Reef & South Gulf & NA & NA & 10 & NA & 48.585 & -123.2890 & South James Island Reef & South Gulf\\\\\n",
       "\t 1992 & H0010 & 1 & NA & NA & NA & NA & NA & NA & NA & 48.588 & -123.3469 & NA & 6.000 & NA & NA & South James Island Reef & South Gulf & NA & NA & 10 & NA & 48.588 & -123.3469 & South James Island Reef & South Gulf\\\\\n",
       "\t ... & ... & ... & ... & ... & ... & ... & ... & ... & ... & ... & ... & ... & ... & ... & ... & ... & ... & ... & ... & ... & ... & ... & ... & ... & ...\\\\\n",
       "\t 2009 & H0845 & 1 & NA & NA & NA & NA & NA & NA & NA & 48.7755 & -123.2651 & NA &  6.666667 & NA & NA & Port Browning Rocks          & Gulf Islands & NA & NA & 3 & NA & 48.7755 & -123.2651 & Port Browning Rocks          & Gulf Islands\\\\\n",
       "\t 2009 & H0845 & 1 & NA & NA & NA & NA & NA & NA & NA & 48.7759 & -123.2659 & NA &  6.666667 & NA & NA & Port Browning Rocks          & Gulf Islands & NA & NA & 3 & NA & 48.7759 & -123.2659 & Port Browning Rocks          & Gulf Islands\\\\\n",
       "\t 2010 & H0845 & 1 & NA & NA & NA & NA & NA & NA & NA & 48.7755 & -123.2651 & NA &  5.333333 & NA & NA & Port Browning Rocks          & Gulf Islands & NA & NA & 3 & NA & 48.7755 & -123.2651 & Port Browning Rocks          & Gulf Islands\\\\\n",
       "\t 2010 & H0845 & 1 & NA & NA & NA & NA & NA & NA & NA & 48.7759 & -123.2659 & NA &  5.333333 & NA & NA & Port Browning Rocks          & Gulf Islands & NA & NA & 3 & NA & 48.7759 & -123.2659 & Port Browning Rocks          & Gulf Islands\\\\\n",
       "\t 2011 & H0845 & 1 & NA & NA & NA & NA & NA & NA & NA & 48.7755 & -123.2651 & NA &  4.000000 & NA & NA & Port Browning Rocks          & Gulf Islands & NA & NA & 3 & NA & 48.7755 & -123.2651 & Port Browning Rocks          & Gulf Islands\\\\\n",
       "\t 2011 & H0845 & 1 & NA & NA & NA & NA & NA & NA & NA & 48.7759 & -123.2659 & NA &  4.000000 & NA & NA & Port Browning Rocks          & Gulf Islands & NA & NA & 3 & NA & 48.7759 & -123.2659 & Port Browning Rocks          & Gulf Islands\\\\\n",
       "\t 2012 & H0845 & 1 & NA & NA & NA & NA & NA & NA & NA & 48.7755 & -123.2651 & NA &  2.666667 & NA & NA & Port Browning Rocks          & Gulf Islands & NA & NA & 3 & NA & 48.7755 & -123.2651 & Port Browning Rocks          & Gulf Islands\\\\\n",
       "\t 2012 & H0845 & 1 & NA & NA & NA & NA & NA & NA & NA & 48.7759 & -123.2659 & NA &  2.666667 & NA & NA & Port Browning Rocks          & Gulf Islands & NA & NA & 3 & NA & 48.7759 & -123.2659 & Port Browning Rocks          & Gulf Islands\\\\\n",
       "\t 2013 & H0845 & 1 & NA & NA & NA & NA & NA & NA & NA & 48.7755 & -123.2651 & NA &  1.333333 & NA & NA & Port Browning Rocks          & Gulf Islands & NA & NA & 3 & NA & 48.7755 & -123.2651 & Port Browning Rocks          & Gulf Islands\\\\\n",
       "\t 2013 & H0845 & 1 & NA & NA & NA & NA & NA & NA & NA & 48.7759 & -123.2659 & NA &  1.333333 & NA & NA & Port Browning Rocks          & Gulf Islands & NA & NA & 3 & NA & 48.7759 & -123.2659 & Port Browning Rocks          & Gulf Islands\\\\\n",
       "\t 2009 & H1465 & 1 & NA & NA & NA & NA & NA & NA & NA & 49.0085 & -123.5621 & NA & 15.333333 & NA & NA & Northeast Galiano Island Bay & Gulf Islands & NA & NA & 2 & NA & 49.0085 & -123.5621 & Northeast Galiano Island Bay & Gulf Islands\\\\\n",
       "\t 2009 & H1465 & 1 & NA & NA & NA & NA & NA & NA & NA & 49.0085 & -123.5621 & NA & 15.333333 & NA & NA & Northeast Galiano Island B   & Gulf Islands & NA & NA & 2 & NA & 49.0085 & -123.5621 & Northeast Galiano Island B   & Gulf Islands\\\\\n",
       "\t 2010 & H1465 & 1 & NA & NA & NA & NA & NA & NA & NA & 49.0085 & -123.5621 & NA & 12.666667 & NA & NA & Northeast Galiano Island Bay & Gulf Islands & NA & NA & 2 & NA & 49.0085 & -123.5621 & Northeast Galiano Island Bay & Gulf Islands\\\\\n",
       "\t 2010 & H1465 & 1 & NA & NA & NA & NA & NA & NA & NA & 49.0085 & -123.5621 & NA & 12.666667 & NA & NA & Northeast Galiano Island B   & Gulf Islands & NA & NA & 2 & NA & 49.0085 & -123.5621 & Northeast Galiano Island B   & Gulf Islands\\\\\n",
       "\t 2011 & H1465 & 1 & NA & NA & NA & NA & NA & NA & NA & 49.0085 & -123.5621 & NA & 10.000000 & NA & NA & Northeast Galiano Island Bay & Gulf Islands & NA & NA & 2 & NA & 49.0085 & -123.5621 & Northeast Galiano Island Bay & Gulf Islands\\\\\n",
       "\t 2011 & H1465 & 1 & NA & NA & NA & NA & NA & NA & NA & 49.0085 & -123.5621 & NA & 10.000000 & NA & NA & Northeast Galiano Island B   & Gulf Islands & NA & NA & 2 & NA & 49.0085 & -123.5621 & Northeast Galiano Island B   & Gulf Islands\\\\\n",
       "\t 2012 & H1465 & 1 & NA & NA & NA & NA & NA & NA & NA & 49.0085 & -123.5621 & NA &  7.333333 & NA & NA & Northeast Galiano Island Bay & Gulf Islands & NA & NA & 2 & NA & 49.0085 & -123.5621 & Northeast Galiano Island Bay & Gulf Islands\\\\\n",
       "\t 2012 & H1465 & 1 & NA & NA & NA & NA & NA & NA & NA & 49.0085 & -123.5621 & NA &  7.333333 & NA & NA & Northeast Galiano Island B   & Gulf Islands & NA & NA & 2 & NA & 49.0085 & -123.5621 & Northeast Galiano Island B   & Gulf Islands\\\\\n",
       "\t 2013 & H1465 & 1 & NA & NA & NA & NA & NA & NA & NA & 49.0085 & -123.5621 & NA &  4.666667 & NA & NA & Northeast Galiano Island Bay & Gulf Islands & NA & NA & 2 & NA & 49.0085 & -123.5621 & Northeast Galiano Island Bay & Gulf Islands\\\\\n",
       "\t 2013 & H1465 & 1 & NA & NA & NA & NA & NA & NA & NA & 49.0085 & -123.5621 & NA &  4.666667 & NA & NA & Northeast Galiano Island B   & Gulf Islands & NA & NA & 2 & NA & 49.0085 & -123.5621 & Northeast Galiano Island B   & Gulf Islands\\\\\n",
       "\t 2009 & H1471 & 1 & NA & NA & NA & NA & NA & NA & NA & 48.7613 & -123.2992 & NA & 13.666667 & NA & NA & Marble Island                & Gulf Islands & NA & NA & 2 & NA & 48.7613 & -123.2992 & Marble Island                & Gulf Islands\\\\\n",
       "\t 2009 & H1471 & 1 & NA & NA & NA & NA & NA & NA & NA & 48.7613 & -123.2992 & NA & 13.666667 & NA & NA & South Boat Nook              & Gulf Islands & NA & NA & 2 & NA & 48.7613 & -123.2992 & South Boat Nook              & Gulf Islands\\\\\n",
       "\t 2010 & H1471 & 1 & NA & NA & NA & NA & NA & NA & NA & 48.7613 & -123.2992 & NA & 11.333333 & NA & NA & Marble Island                & Gulf Islands & NA & NA & 2 & NA & 48.7613 & -123.2992 & Marble Island                & Gulf Islands\\\\\n",
       "\t 2010 & H1471 & 1 & NA & NA & NA & NA & NA & NA & NA & 48.7613 & -123.2992 & NA & 11.333333 & NA & NA & South Boat Nook              & Gulf Islands & NA & NA & 2 & NA & 48.7613 & -123.2992 & South Boat Nook              & Gulf Islands\\\\\n",
       "\t 2011 & H1471 & 1 & NA & NA & NA & NA & NA & NA & NA & 48.7613 & -123.2992 & NA &  9.000000 & NA & NA & Marble Island                & Gulf Islands & NA & NA & 2 & NA & 48.7613 & -123.2992 & Marble Island                & Gulf Islands\\\\\n",
       "\t 2011 & H1471 & 1 & NA & NA & NA & NA & NA & NA & NA & 48.7613 & -123.2992 & NA &  9.000000 & NA & NA & South Boat Nook              & Gulf Islands & NA & NA & 2 & NA & 48.7613 & -123.2992 & South Boat Nook              & Gulf Islands\\\\\n",
       "\t 2012 & H1471 & 1 & NA & NA & NA & NA & NA & NA & NA & 48.7613 & -123.2992 & NA &  6.666667 & NA & NA & Marble Island                & Gulf Islands & NA & NA & 2 & NA & 48.7613 & -123.2992 & Marble Island                & Gulf Islands\\\\\n",
       "\t 2012 & H1471 & 1 & NA & NA & NA & NA & NA & NA & NA & 48.7613 & -123.2992 & NA &  6.666667 & NA & NA & South Boat Nook              & Gulf Islands & NA & NA & 2 & NA & 48.7613 & -123.2992 & South Boat Nook              & Gulf Islands\\\\\n",
       "\t 2013 & H1471 & 1 & NA & NA & NA & NA & NA & NA & NA & 48.7613 & -123.2992 & NA &  4.333333 & NA & NA & Marble Island                & Gulf Islands & NA & NA & 2 & NA & 48.7613 & -123.2992 & Marble Island                & Gulf Islands\\\\\n",
       "\t 2013 & H1471 & 1 & NA & NA & NA & NA & NA & NA & NA & 48.7613 & -123.2992 & NA &  4.333333 & NA & NA & South Boat Nook              & Gulf Islands & NA & NA & 2 & NA & 48.7613 & -123.2992 & South Boat Nook              & Gulf Islands\\\\\n",
       "\\end{tabular}\n"
      ],
      "text/markdown": [
       "\n",
       "A grouped_df: 724 × 26\n",
       "\n",
       "| Date.1 &lt;int&gt; | Site.Key &lt;fct&gt; | count_number &lt;dbl&gt; | ï..Region.ID &lt;int&gt; | Region.Name &lt;fct&gt; | Location &lt;fct&gt; | Survey.Code &lt;dbl&gt; | Species &lt;fct&gt; | Use &lt;fct&gt; | weighting_GO &lt;dbl&gt; | ... ... | Location.Value &lt;fct&gt; | Location.Info &lt;fct&gt; | Date &lt;fct&gt; | Mean &lt;dbl&gt; | non_na_count &lt;int&gt; | Count_old &lt;dbl&gt; | Lat2 &lt;dbl&gt; | Lon2 &lt;dbl&gt; | LocVal2 &lt;fct&gt; | LocInfo2 &lt;fct&gt; |\n",
       "|---|---|---|---|---|---|---|---|---|---|---|---|---|---|---|---|---|---|---|---|---|\n",
       "| 1975 | H0010 | 1 | NA | NA | NA | NA | NA | NA | NA | ... | South James Island Reef | South Gulf | NA | NA | 10 | NA | 48.585 | -123.2890 | South James Island Reef | South Gulf |\n",
       "| 1975 | H0010 | 1 | NA | NA | NA | NA | NA | NA | NA | ... | South James Island Reef | South Gulf | NA | NA | 10 | NA | 48.588 | -123.3469 | South James Island Reef | South Gulf |\n",
       "| 1976 | H0010 | 1 | NA | NA | NA | NA | NA | NA | NA | ... | South James Island Reef | South Gulf | NA | NA | 10 | NA | 48.585 | -123.2890 | South James Island Reef | South Gulf |\n",
       "| 1976 | H0010 | 1 | NA | NA | NA | NA | NA | NA | NA | ... | South James Island Reef | South Gulf | NA | NA | 10 | NA | 48.588 | -123.3469 | South James Island Reef | South Gulf |\n",
       "| 1977 | H0010 | 1 | NA | NA | NA | NA | NA | NA | NA | ... | South James Island Reef | South Gulf | NA | NA | 10 | NA | 48.585 | -123.2890 | South James Island Reef | South Gulf |\n",
       "| 1977 | H0010 | 1 | NA | NA | NA | NA | NA | NA | NA | ... | South James Island Reef | South Gulf | NA | NA | 10 | NA | 48.588 | -123.3469 | South James Island Reef | South Gulf |\n",
       "| 1978 | H0010 | 1 | NA | NA | NA | NA | NA | NA | NA | ... | South James Island Reef | South Gulf | NA | NA | 10 | NA | 48.585 | -123.2890 | South James Island Reef | South Gulf |\n",
       "| 1978 | H0010 | 1 | NA | NA | NA | NA | NA | NA | NA | ... | South James Island Reef | South Gulf | NA | NA | 10 | NA | 48.588 | -123.3469 | South James Island Reef | South Gulf |\n",
       "| 1979 | H0010 | 1 | NA | NA | NA | NA | NA | NA | NA | ... | South James Island Reef | South Gulf | NA | NA | 10 | NA | 48.585 | -123.2890 | South James Island Reef | South Gulf |\n",
       "| 1979 | H0010 | 1 | NA | NA | NA | NA | NA | NA | NA | ... | South James Island Reef | South Gulf | NA | NA | 10 | NA | 48.588 | -123.3469 | South James Island Reef | South Gulf |\n",
       "| 1980 | H0010 | 1 | NA | NA | NA | NA | NA | NA | NA | ... | South James Island Reef | South Gulf | NA | NA | 10 | NA | 48.585 | -123.2890 | South James Island Reef | South Gulf |\n",
       "| 1980 | H0010 | 1 | NA | NA | NA | NA | NA | NA | NA | ... | South James Island Reef | South Gulf | NA | NA | 10 | NA | 48.588 | -123.3469 | South James Island Reef | South Gulf |\n",
       "| 1981 | H0010 | 1 | NA | NA | NA | NA | NA | NA | NA | ... | South James Island Reef | South Gulf | NA | NA | 10 | NA | 48.585 | -123.2890 | South James Island Reef | South Gulf |\n",
       "| 1981 | H0010 | 1 | NA | NA | NA | NA | NA | NA | NA | ... | South James Island Reef | South Gulf | NA | NA | 10 | NA | 48.588 | -123.3469 | South James Island Reef | South Gulf |\n",
       "| 1983 | H0010 | 1 | NA | NA | NA | NA | NA | NA | NA | ... | South James Island Reef | South Gulf | NA | NA | 10 | NA | 48.585 | -123.2890 | South James Island Reef | South Gulf |\n",
       "| 1983 | H0010 | 1 | NA | NA | NA | NA | NA | NA | NA | ... | South James Island Reef | South Gulf | NA | NA | 10 | NA | 48.588 | -123.3469 | South James Island Reef | South Gulf |\n",
       "| 1984 | H0010 | 1 | NA | NA | NA | NA | NA | NA | NA | ... | South James Island Reef | South Gulf | NA | NA | 10 | NA | 48.585 | -123.2890 | South James Island Reef | South Gulf |\n",
       "| 1984 | H0010 | 1 | NA | NA | NA | NA | NA | NA | NA | ... | South James Island Reef | South Gulf | NA | NA | 10 | NA | 48.588 | -123.3469 | South James Island Reef | South Gulf |\n",
       "| 1985 | H0010 | 1 | NA | NA | NA | NA | NA | NA | NA | ... | South James Island Reef | South Gulf | NA | NA | 10 | NA | 48.585 | -123.2890 | South James Island Reef | South Gulf |\n",
       "| 1985 | H0010 | 1 | NA | NA | NA | NA | NA | NA | NA | ... | South James Island Reef | South Gulf | NA | NA | 10 | NA | 48.588 | -123.3469 | South James Island Reef | South Gulf |\n",
       "| 1987 | H0010 | 1 | NA | NA | NA | NA | NA | NA | NA | ... | South James Island Reef | South Gulf | NA | NA | 10 | NA | 48.585 | -123.2890 | South James Island Reef | South Gulf |\n",
       "| 1987 | H0010 | 1 | NA | NA | NA | NA | NA | NA | NA | ... | South James Island Reef | South Gulf | NA | NA | 10 | NA | 48.588 | -123.3469 | South James Island Reef | South Gulf |\n",
       "| 1989 | H0010 | 1 | NA | NA | NA | NA | NA | NA | NA | ... | South James Island Reef | South Gulf | NA | NA | 10 | NA | 48.585 | -123.2890 | South James Island Reef | South Gulf |\n",
       "| 1989 | H0010 | 1 | NA | NA | NA | NA | NA | NA | NA | ... | South James Island Reef | South Gulf | NA | NA | 10 | NA | 48.588 | -123.3469 | South James Island Reef | South Gulf |\n",
       "| 1990 | H0010 | 1 | NA | NA | NA | NA | NA | NA | NA | ... | South James Island Reef | South Gulf | NA | NA | 10 | NA | 48.585 | -123.2890 | South James Island Reef | South Gulf |\n",
       "| 1990 | H0010 | 1 | NA | NA | NA | NA | NA | NA | NA | ... | South James Island Reef | South Gulf | NA | NA | 10 | NA | 48.588 | -123.3469 | South James Island Reef | South Gulf |\n",
       "| 1991 | H0010 | 1 | NA | NA | NA | NA | NA | NA | NA | ... | South James Island Reef | South Gulf | NA | NA | 10 | NA | 48.585 | -123.2890 | South James Island Reef | South Gulf |\n",
       "| 1991 | H0010 | 1 | NA | NA | NA | NA | NA | NA | NA | ... | South James Island Reef | South Gulf | NA | NA | 10 | NA | 48.588 | -123.3469 | South James Island Reef | South Gulf |\n",
       "| 1992 | H0010 | 1 | NA | NA | NA | NA | NA | NA | NA | ... | South James Island Reef | South Gulf | NA | NA | 10 | NA | 48.585 | -123.2890 | South James Island Reef | South Gulf |\n",
       "| 1992 | H0010 | 1 | NA | NA | NA | NA | NA | NA | NA | ... | South James Island Reef | South Gulf | NA | NA | 10 | NA | 48.588 | -123.3469 | South James Island Reef | South Gulf |\n",
       "| ... | ... | ... | ... | ... | ... | ... | ... | ... | ... | <!----> | ... | ... | ... | ... | ... | ... | ... | ... | ... | ... |\n",
       "| 2009 | H0845 | 1 | NA | NA | NA | NA | NA | NA | NA | ... | Port Browning Rocks          | Gulf Islands | NA | NA | 3 | NA | 48.7755 | -123.2651 | Port Browning Rocks          | Gulf Islands |\n",
       "| 2009 | H0845 | 1 | NA | NA | NA | NA | NA | NA | NA | ... | Port Browning Rocks          | Gulf Islands | NA | NA | 3 | NA | 48.7759 | -123.2659 | Port Browning Rocks          | Gulf Islands |\n",
       "| 2010 | H0845 | 1 | NA | NA | NA | NA | NA | NA | NA | ... | Port Browning Rocks          | Gulf Islands | NA | NA | 3 | NA | 48.7755 | -123.2651 | Port Browning Rocks          | Gulf Islands |\n",
       "| 2010 | H0845 | 1 | NA | NA | NA | NA | NA | NA | NA | ... | Port Browning Rocks          | Gulf Islands | NA | NA | 3 | NA | 48.7759 | -123.2659 | Port Browning Rocks          | Gulf Islands |\n",
       "| 2011 | H0845 | 1 | NA | NA | NA | NA | NA | NA | NA | ... | Port Browning Rocks          | Gulf Islands | NA | NA | 3 | NA | 48.7755 | -123.2651 | Port Browning Rocks          | Gulf Islands |\n",
       "| 2011 | H0845 | 1 | NA | NA | NA | NA | NA | NA | NA | ... | Port Browning Rocks          | Gulf Islands | NA | NA | 3 | NA | 48.7759 | -123.2659 | Port Browning Rocks          | Gulf Islands |\n",
       "| 2012 | H0845 | 1 | NA | NA | NA | NA | NA | NA | NA | ... | Port Browning Rocks          | Gulf Islands | NA | NA | 3 | NA | 48.7755 | -123.2651 | Port Browning Rocks          | Gulf Islands |\n",
       "| 2012 | H0845 | 1 | NA | NA | NA | NA | NA | NA | NA | ... | Port Browning Rocks          | Gulf Islands | NA | NA | 3 | NA | 48.7759 | -123.2659 | Port Browning Rocks          | Gulf Islands |\n",
       "| 2013 | H0845 | 1 | NA | NA | NA | NA | NA | NA | NA | ... | Port Browning Rocks          | Gulf Islands | NA | NA | 3 | NA | 48.7755 | -123.2651 | Port Browning Rocks          | Gulf Islands |\n",
       "| 2013 | H0845 | 1 | NA | NA | NA | NA | NA | NA | NA | ... | Port Browning Rocks          | Gulf Islands | NA | NA | 3 | NA | 48.7759 | -123.2659 | Port Browning Rocks          | Gulf Islands |\n",
       "| 2009 | H1465 | 1 | NA | NA | NA | NA | NA | NA | NA | ... | Northeast Galiano Island Bay | Gulf Islands | NA | NA | 2 | NA | 49.0085 | -123.5621 | Northeast Galiano Island Bay | Gulf Islands |\n",
       "| 2009 | H1465 | 1 | NA | NA | NA | NA | NA | NA | NA | ... | Northeast Galiano Island B   | Gulf Islands | NA | NA | 2 | NA | 49.0085 | -123.5621 | Northeast Galiano Island B   | Gulf Islands |\n",
       "| 2010 | H1465 | 1 | NA | NA | NA | NA | NA | NA | NA | ... | Northeast Galiano Island Bay | Gulf Islands | NA | NA | 2 | NA | 49.0085 | -123.5621 | Northeast Galiano Island Bay | Gulf Islands |\n",
       "| 2010 | H1465 | 1 | NA | NA | NA | NA | NA | NA | NA | ... | Northeast Galiano Island B   | Gulf Islands | NA | NA | 2 | NA | 49.0085 | -123.5621 | Northeast Galiano Island B   | Gulf Islands |\n",
       "| 2011 | H1465 | 1 | NA | NA | NA | NA | NA | NA | NA | ... | Northeast Galiano Island Bay | Gulf Islands | NA | NA | 2 | NA | 49.0085 | -123.5621 | Northeast Galiano Island Bay | Gulf Islands |\n",
       "| 2011 | H1465 | 1 | NA | NA | NA | NA | NA | NA | NA | ... | Northeast Galiano Island B   | Gulf Islands | NA | NA | 2 | NA | 49.0085 | -123.5621 | Northeast Galiano Island B   | Gulf Islands |\n",
       "| 2012 | H1465 | 1 | NA | NA | NA | NA | NA | NA | NA | ... | Northeast Galiano Island Bay | Gulf Islands | NA | NA | 2 | NA | 49.0085 | -123.5621 | Northeast Galiano Island Bay | Gulf Islands |\n",
       "| 2012 | H1465 | 1 | NA | NA | NA | NA | NA | NA | NA | ... | Northeast Galiano Island B   | Gulf Islands | NA | NA | 2 | NA | 49.0085 | -123.5621 | Northeast Galiano Island B   | Gulf Islands |\n",
       "| 2013 | H1465 | 1 | NA | NA | NA | NA | NA | NA | NA | ... | Northeast Galiano Island Bay | Gulf Islands | NA | NA | 2 | NA | 49.0085 | -123.5621 | Northeast Galiano Island Bay | Gulf Islands |\n",
       "| 2013 | H1465 | 1 | NA | NA | NA | NA | NA | NA | NA | ... | Northeast Galiano Island B   | Gulf Islands | NA | NA | 2 | NA | 49.0085 | -123.5621 | Northeast Galiano Island B   | Gulf Islands |\n",
       "| 2009 | H1471 | 1 | NA | NA | NA | NA | NA | NA | NA | ... | Marble Island                | Gulf Islands | NA | NA | 2 | NA | 48.7613 | -123.2992 | Marble Island                | Gulf Islands |\n",
       "| 2009 | H1471 | 1 | NA | NA | NA | NA | NA | NA | NA | ... | South Boat Nook              | Gulf Islands | NA | NA | 2 | NA | 48.7613 | -123.2992 | South Boat Nook              | Gulf Islands |\n",
       "| 2010 | H1471 | 1 | NA | NA | NA | NA | NA | NA | NA | ... | Marble Island                | Gulf Islands | NA | NA | 2 | NA | 48.7613 | -123.2992 | Marble Island                | Gulf Islands |\n",
       "| 2010 | H1471 | 1 | NA | NA | NA | NA | NA | NA | NA | ... | South Boat Nook              | Gulf Islands | NA | NA | 2 | NA | 48.7613 | -123.2992 | South Boat Nook              | Gulf Islands |\n",
       "| 2011 | H1471 | 1 | NA | NA | NA | NA | NA | NA | NA | ... | Marble Island                | Gulf Islands | NA | NA | 2 | NA | 48.7613 | -123.2992 | Marble Island                | Gulf Islands |\n",
       "| 2011 | H1471 | 1 | NA | NA | NA | NA | NA | NA | NA | ... | South Boat Nook              | Gulf Islands | NA | NA | 2 | NA | 48.7613 | -123.2992 | South Boat Nook              | Gulf Islands |\n",
       "| 2012 | H1471 | 1 | NA | NA | NA | NA | NA | NA | NA | ... | Marble Island                | Gulf Islands | NA | NA | 2 | NA | 48.7613 | -123.2992 | Marble Island                | Gulf Islands |\n",
       "| 2012 | H1471 | 1 | NA | NA | NA | NA | NA | NA | NA | ... | South Boat Nook              | Gulf Islands | NA | NA | 2 | NA | 48.7613 | -123.2992 | South Boat Nook              | Gulf Islands |\n",
       "| 2013 | H1471 | 1 | NA | NA | NA | NA | NA | NA | NA | ... | Marble Island                | Gulf Islands | NA | NA | 2 | NA | 48.7613 | -123.2992 | Marble Island                | Gulf Islands |\n",
       "| 2013 | H1471 | 1 | NA | NA | NA | NA | NA | NA | NA | ... | South Boat Nook              | Gulf Islands | NA | NA | 2 | NA | 48.7613 | -123.2992 | South Boat Nook              | Gulf Islands |\n",
       "\n"
      ],
      "text/plain": [
       "    Date.1 Site.Key count_number ï..Region.ID Region.Name Location Survey.Code\n",
       "1   1975   H0010    1            NA           NA          NA       NA         \n",
       "2   1975   H0010    1            NA           NA          NA       NA         \n",
       "3   1976   H0010    1            NA           NA          NA       NA         \n",
       "4   1976   H0010    1            NA           NA          NA       NA         \n",
       "5   1977   H0010    1            NA           NA          NA       NA         \n",
       "6   1977   H0010    1            NA           NA          NA       NA         \n",
       "7   1978   H0010    1            NA           NA          NA       NA         \n",
       "8   1978   H0010    1            NA           NA          NA       NA         \n",
       "9   1979   H0010    1            NA           NA          NA       NA         \n",
       "10  1979   H0010    1            NA           NA          NA       NA         \n",
       "11  1980   H0010    1            NA           NA          NA       NA         \n",
       "12  1980   H0010    1            NA           NA          NA       NA         \n",
       "13  1981   H0010    1            NA           NA          NA       NA         \n",
       "14  1981   H0010    1            NA           NA          NA       NA         \n",
       "15  1983   H0010    1            NA           NA          NA       NA         \n",
       "16  1983   H0010    1            NA           NA          NA       NA         \n",
       "17  1984   H0010    1            NA           NA          NA       NA         \n",
       "18  1984   H0010    1            NA           NA          NA       NA         \n",
       "19  1985   H0010    1            NA           NA          NA       NA         \n",
       "20  1985   H0010    1            NA           NA          NA       NA         \n",
       "21  1987   H0010    1            NA           NA          NA       NA         \n",
       "22  1987   H0010    1            NA           NA          NA       NA         \n",
       "23  1989   H0010    1            NA           NA          NA       NA         \n",
       "24  1989   H0010    1            NA           NA          NA       NA         \n",
       "25  1990   H0010    1            NA           NA          NA       NA         \n",
       "26  1990   H0010    1            NA           NA          NA       NA         \n",
       "27  1991   H0010    1            NA           NA          NA       NA         \n",
       "28  1991   H0010    1            NA           NA          NA       NA         \n",
       "29  1992   H0010    1            NA           NA          NA       NA         \n",
       "30  1992   H0010    1            NA           NA          NA       NA         \n",
       "... ...    ...      ...          ...          ...         ...      ...        \n",
       "695 2009   H0845    1            NA           NA          NA       NA         \n",
       "696 2009   H0845    1            NA           NA          NA       NA         \n",
       "697 2010   H0845    1            NA           NA          NA       NA         \n",
       "698 2010   H0845    1            NA           NA          NA       NA         \n",
       "699 2011   H0845    1            NA           NA          NA       NA         \n",
       "700 2011   H0845    1            NA           NA          NA       NA         \n",
       "701 2012   H0845    1            NA           NA          NA       NA         \n",
       "702 2012   H0845    1            NA           NA          NA       NA         \n",
       "703 2013   H0845    1            NA           NA          NA       NA         \n",
       "704 2013   H0845    1            NA           NA          NA       NA         \n",
       "705 2009   H1465    1            NA           NA          NA       NA         \n",
       "706 2009   H1465    1            NA           NA          NA       NA         \n",
       "707 2010   H1465    1            NA           NA          NA       NA         \n",
       "708 2010   H1465    1            NA           NA          NA       NA         \n",
       "709 2011   H1465    1            NA           NA          NA       NA         \n",
       "710 2011   H1465    1            NA           NA          NA       NA         \n",
       "711 2012   H1465    1            NA           NA          NA       NA         \n",
       "712 2012   H1465    1            NA           NA          NA       NA         \n",
       "713 2013   H1465    1            NA           NA          NA       NA         \n",
       "714 2013   H1465    1            NA           NA          NA       NA         \n",
       "715 2009   H1471    1            NA           NA          NA       NA         \n",
       "716 2009   H1471    1            NA           NA          NA       NA         \n",
       "717 2010   H1471    1            NA           NA          NA       NA         \n",
       "718 2010   H1471    1            NA           NA          NA       NA         \n",
       "719 2011   H1471    1            NA           NA          NA       NA         \n",
       "720 2011   H1471    1            NA           NA          NA       NA         \n",
       "721 2012   H1471    1            NA           NA          NA       NA         \n",
       "722 2012   H1471    1            NA           NA          NA       NA         \n",
       "723 2013   H1471    1            NA           NA          NA       NA         \n",
       "724 2013   H1471    1            NA           NA          NA       NA         \n",
       "    Species Use weighting_GO ... Location.Value               Location.Info\n",
       "1   NA      NA  NA           ... South James Island Reef      South Gulf   \n",
       "2   NA      NA  NA           ... South James Island Reef      South Gulf   \n",
       "3   NA      NA  NA           ... South James Island Reef      South Gulf   \n",
       "4   NA      NA  NA           ... South James Island Reef      South Gulf   \n",
       "5   NA      NA  NA           ... South James Island Reef      South Gulf   \n",
       "6   NA      NA  NA           ... South James Island Reef      South Gulf   \n",
       "7   NA      NA  NA           ... South James Island Reef      South Gulf   \n",
       "8   NA      NA  NA           ... South James Island Reef      South Gulf   \n",
       "9   NA      NA  NA           ... South James Island Reef      South Gulf   \n",
       "10  NA      NA  NA           ... South James Island Reef      South Gulf   \n",
       "11  NA      NA  NA           ... South James Island Reef      South Gulf   \n",
       "12  NA      NA  NA           ... South James Island Reef      South Gulf   \n",
       "13  NA      NA  NA           ... South James Island Reef      South Gulf   \n",
       "14  NA      NA  NA           ... South James Island Reef      South Gulf   \n",
       "15  NA      NA  NA           ... South James Island Reef      South Gulf   \n",
       "16  NA      NA  NA           ... South James Island Reef      South Gulf   \n",
       "17  NA      NA  NA           ... South James Island Reef      South Gulf   \n",
       "18  NA      NA  NA           ... South James Island Reef      South Gulf   \n",
       "19  NA      NA  NA           ... South James Island Reef      South Gulf   \n",
       "20  NA      NA  NA           ... South James Island Reef      South Gulf   \n",
       "21  NA      NA  NA           ... South James Island Reef      South Gulf   \n",
       "22  NA      NA  NA           ... South James Island Reef      South Gulf   \n",
       "23  NA      NA  NA           ... South James Island Reef      South Gulf   \n",
       "24  NA      NA  NA           ... South James Island Reef      South Gulf   \n",
       "25  NA      NA  NA           ... South James Island Reef      South Gulf   \n",
       "26  NA      NA  NA           ... South James Island Reef      South Gulf   \n",
       "27  NA      NA  NA           ... South James Island Reef      South Gulf   \n",
       "28  NA      NA  NA           ... South James Island Reef      South Gulf   \n",
       "29  NA      NA  NA           ... South James Island Reef      South Gulf   \n",
       "30  NA      NA  NA           ... South James Island Reef      South Gulf   \n",
       "... ...     ... ...              ...                          ...          \n",
       "695 NA      NA  NA           ... Port Browning Rocks          Gulf Islands \n",
       "696 NA      NA  NA           ... Port Browning Rocks          Gulf Islands \n",
       "697 NA      NA  NA           ... Port Browning Rocks          Gulf Islands \n",
       "698 NA      NA  NA           ... Port Browning Rocks          Gulf Islands \n",
       "699 NA      NA  NA           ... Port Browning Rocks          Gulf Islands \n",
       "700 NA      NA  NA           ... Port Browning Rocks          Gulf Islands \n",
       "701 NA      NA  NA           ... Port Browning Rocks          Gulf Islands \n",
       "702 NA      NA  NA           ... Port Browning Rocks          Gulf Islands \n",
       "703 NA      NA  NA           ... Port Browning Rocks          Gulf Islands \n",
       "704 NA      NA  NA           ... Port Browning Rocks          Gulf Islands \n",
       "705 NA      NA  NA           ... Northeast Galiano Island Bay Gulf Islands \n",
       "706 NA      NA  NA           ... Northeast Galiano Island B   Gulf Islands \n",
       "707 NA      NA  NA           ... Northeast Galiano Island Bay Gulf Islands \n",
       "708 NA      NA  NA           ... Northeast Galiano Island B   Gulf Islands \n",
       "709 NA      NA  NA           ... Northeast Galiano Island Bay Gulf Islands \n",
       "710 NA      NA  NA           ... Northeast Galiano Island B   Gulf Islands \n",
       "711 NA      NA  NA           ... Northeast Galiano Island Bay Gulf Islands \n",
       "712 NA      NA  NA           ... Northeast Galiano Island B   Gulf Islands \n",
       "713 NA      NA  NA           ... Northeast Galiano Island Bay Gulf Islands \n",
       "714 NA      NA  NA           ... Northeast Galiano Island B   Gulf Islands \n",
       "715 NA      NA  NA           ... Marble Island                Gulf Islands \n",
       "716 NA      NA  NA           ... South Boat Nook              Gulf Islands \n",
       "717 NA      NA  NA           ... Marble Island                Gulf Islands \n",
       "718 NA      NA  NA           ... South Boat Nook              Gulf Islands \n",
       "719 NA      NA  NA           ... Marble Island                Gulf Islands \n",
       "720 NA      NA  NA           ... South Boat Nook              Gulf Islands \n",
       "721 NA      NA  NA           ... Marble Island                Gulf Islands \n",
       "722 NA      NA  NA           ... South Boat Nook              Gulf Islands \n",
       "723 NA      NA  NA           ... Marble Island                Gulf Islands \n",
       "724 NA      NA  NA           ... South Boat Nook              Gulf Islands \n",
       "    Date Mean non_na_count Count_old Lat2    Lon2     \n",
       "1   NA   NA   10           NA        48.585  -123.2890\n",
       "2   NA   NA   10           NA        48.588  -123.3469\n",
       "3   NA   NA   10           NA        48.585  -123.2890\n",
       "4   NA   NA   10           NA        48.588  -123.3469\n",
       "5   NA   NA   10           NA        48.585  -123.2890\n",
       "6   NA   NA   10           NA        48.588  -123.3469\n",
       "7   NA   NA   10           NA        48.585  -123.2890\n",
       "8   NA   NA   10           NA        48.588  -123.3469\n",
       "9   NA   NA   10           NA        48.585  -123.2890\n",
       "10  NA   NA   10           NA        48.588  -123.3469\n",
       "11  NA   NA   10           NA        48.585  -123.2890\n",
       "12  NA   NA   10           NA        48.588  -123.3469\n",
       "13  NA   NA   10           NA        48.585  -123.2890\n",
       "14  NA   NA   10           NA        48.588  -123.3469\n",
       "15  NA   NA   10           NA        48.585  -123.2890\n",
       "16  NA   NA   10           NA        48.588  -123.3469\n",
       "17  NA   NA   10           NA        48.585  -123.2890\n",
       "18  NA   NA   10           NA        48.588  -123.3469\n",
       "19  NA   NA   10           NA        48.585  -123.2890\n",
       "20  NA   NA   10           NA        48.588  -123.3469\n",
       "21  NA   NA   10           NA        48.585  -123.2890\n",
       "22  NA   NA   10           NA        48.588  -123.3469\n",
       "23  NA   NA   10           NA        48.585  -123.2890\n",
       "24  NA   NA   10           NA        48.588  -123.3469\n",
       "25  NA   NA   10           NA        48.585  -123.2890\n",
       "26  NA   NA   10           NA        48.588  -123.3469\n",
       "27  NA   NA   10           NA        48.585  -123.2890\n",
       "28  NA   NA   10           NA        48.588  -123.3469\n",
       "29  NA   NA   10           NA        48.585  -123.2890\n",
       "30  NA   NA   10           NA        48.588  -123.3469\n",
       "... ...  ...  ...          ...       ...     ...      \n",
       "695 NA   NA   3            NA        48.7755 -123.2651\n",
       "696 NA   NA   3            NA        48.7759 -123.2659\n",
       "697 NA   NA   3            NA        48.7755 -123.2651\n",
       "698 NA   NA   3            NA        48.7759 -123.2659\n",
       "699 NA   NA   3            NA        48.7755 -123.2651\n",
       "700 NA   NA   3            NA        48.7759 -123.2659\n",
       "701 NA   NA   3            NA        48.7755 -123.2651\n",
       "702 NA   NA   3            NA        48.7759 -123.2659\n",
       "703 NA   NA   3            NA        48.7755 -123.2651\n",
       "704 NA   NA   3            NA        48.7759 -123.2659\n",
       "705 NA   NA   2            NA        49.0085 -123.5621\n",
       "706 NA   NA   2            NA        49.0085 -123.5621\n",
       "707 NA   NA   2            NA        49.0085 -123.5621\n",
       "708 NA   NA   2            NA        49.0085 -123.5621\n",
       "709 NA   NA   2            NA        49.0085 -123.5621\n",
       "710 NA   NA   2            NA        49.0085 -123.5621\n",
       "711 NA   NA   2            NA        49.0085 -123.5621\n",
       "712 NA   NA   2            NA        49.0085 -123.5621\n",
       "713 NA   NA   2            NA        49.0085 -123.5621\n",
       "714 NA   NA   2            NA        49.0085 -123.5621\n",
       "715 NA   NA   2            NA        48.7613 -123.2992\n",
       "716 NA   NA   2            NA        48.7613 -123.2992\n",
       "717 NA   NA   2            NA        48.7613 -123.2992\n",
       "718 NA   NA   2            NA        48.7613 -123.2992\n",
       "719 NA   NA   2            NA        48.7613 -123.2992\n",
       "720 NA   NA   2            NA        48.7613 -123.2992\n",
       "721 NA   NA   2            NA        48.7613 -123.2992\n",
       "722 NA   NA   2            NA        48.7613 -123.2992\n",
       "723 NA   NA   2            NA        48.7613 -123.2992\n",
       "724 NA   NA   2            NA        48.7613 -123.2992\n",
       "    LocVal2                      LocInfo2    \n",
       "1   South James Island Reef      South Gulf  \n",
       "2   South James Island Reef      South Gulf  \n",
       "3   South James Island Reef      South Gulf  \n",
       "4   South James Island Reef      South Gulf  \n",
       "5   South James Island Reef      South Gulf  \n",
       "6   South James Island Reef      South Gulf  \n",
       "7   South James Island Reef      South Gulf  \n",
       "8   South James Island Reef      South Gulf  \n",
       "9   South James Island Reef      South Gulf  \n",
       "10  South James Island Reef      South Gulf  \n",
       "11  South James Island Reef      South Gulf  \n",
       "12  South James Island Reef      South Gulf  \n",
       "13  South James Island Reef      South Gulf  \n",
       "14  South James Island Reef      South Gulf  \n",
       "15  South James Island Reef      South Gulf  \n",
       "16  South James Island Reef      South Gulf  \n",
       "17  South James Island Reef      South Gulf  \n",
       "18  South James Island Reef      South Gulf  \n",
       "19  South James Island Reef      South Gulf  \n",
       "20  South James Island Reef      South Gulf  \n",
       "21  South James Island Reef      South Gulf  \n",
       "22  South James Island Reef      South Gulf  \n",
       "23  South James Island Reef      South Gulf  \n",
       "24  South James Island Reef      South Gulf  \n",
       "25  South James Island Reef      South Gulf  \n",
       "26  South James Island Reef      South Gulf  \n",
       "27  South James Island Reef      South Gulf  \n",
       "28  South James Island Reef      South Gulf  \n",
       "29  South James Island Reef      South Gulf  \n",
       "30  South James Island Reef      South Gulf  \n",
       "... ...                          ...         \n",
       "695 Port Browning Rocks          Gulf Islands\n",
       "696 Port Browning Rocks          Gulf Islands\n",
       "697 Port Browning Rocks          Gulf Islands\n",
       "698 Port Browning Rocks          Gulf Islands\n",
       "699 Port Browning Rocks          Gulf Islands\n",
       "700 Port Browning Rocks          Gulf Islands\n",
       "701 Port Browning Rocks          Gulf Islands\n",
       "702 Port Browning Rocks          Gulf Islands\n",
       "703 Port Browning Rocks          Gulf Islands\n",
       "704 Port Browning Rocks          Gulf Islands\n",
       "705 Northeast Galiano Island Bay Gulf Islands\n",
       "706 Northeast Galiano Island B   Gulf Islands\n",
       "707 Northeast Galiano Island Bay Gulf Islands\n",
       "708 Northeast Galiano Island B   Gulf Islands\n",
       "709 Northeast Galiano Island Bay Gulf Islands\n",
       "710 Northeast Galiano Island B   Gulf Islands\n",
       "711 Northeast Galiano Island Bay Gulf Islands\n",
       "712 Northeast Galiano Island B   Gulf Islands\n",
       "713 Northeast Galiano Island Bay Gulf Islands\n",
       "714 Northeast Galiano Island B   Gulf Islands\n",
       "715 Marble Island                Gulf Islands\n",
       "716 South Boat Nook              Gulf Islands\n",
       "717 Marble Island                Gulf Islands\n",
       "718 South Boat Nook              Gulf Islands\n",
       "719 Marble Island                Gulf Islands\n",
       "720 South Boat Nook              Gulf Islands\n",
       "721 Marble Island                Gulf Islands\n",
       "722 South Boat Nook              Gulf Islands\n",
       "723 Marble Island                Gulf Islands\n",
       "724 South Boat Nook              Gulf Islands"
      ]
     },
     "metadata": {},
     "output_type": "display_data"
    },
    {
     "data": {
      "text/html": [
       "<table>\n",
       "<caption>A tibble: 15818 × 18</caption>\n",
       "<thead>\n",
       "\t<tr><th scope=col>Date.1</th><th scope=col>Site.Key</th><th scope=col>ï..Region.ID</th><th scope=col>Region.Name</th><th scope=col>Location</th><th scope=col>Survey.Code</th><th scope=col>Species</th><th scope=col>Use</th><th scope=col>weighting_GO</th><th scope=col>Latitude</th><th scope=col>Longitude</th><th scope=col>yr_total_est_sanj</th><th scope=col>Count</th><th scope=col>yr_expanded_est</th><th scope=col>X</th><th scope=col>Location.Value</th><th scope=col>Location.Info</th><th scope=col>Date</th></tr>\n",
       "\t<tr><th scope=col>&lt;int&gt;</th><th scope=col>&lt;fct&gt;</th><th scope=col>&lt;int&gt;</th><th scope=col>&lt;fct&gt;</th><th scope=col>&lt;fct&gt;</th><th scope=col>&lt;dbl&gt;</th><th scope=col>&lt;fct&gt;</th><th scope=col>&lt;fct&gt;</th><th scope=col>&lt;dbl&gt;</th><th scope=col>&lt;dbl&gt;</th><th scope=col>&lt;dbl&gt;</th><th scope=col>&lt;int&gt;</th><th scope=col>&lt;dbl&gt;</th><th scope=col>&lt;dbl&gt;</th><th scope=col>&lt;lgl&gt;</th><th scope=col>&lt;fct&gt;</th><th scope=col>&lt;fct&gt;</th><th scope=col>&lt;fct&gt;</th></tr>\n",
       "</thead>\n",
       "<tbody>\n",
       "\t<tr><td>1971</td><td>363</td><td>NA</td><td>NA</td><td>NA</td><td>NA</td><td>NA</td><td>NA</td><td>NA</td><td>48.74933</td><td>-122.8338</td><td>NA</td><td> 3.538125</td><td>NA</td><td>NA</td><td>NA</td><td>NA</td><td>NA</td></tr>\n",
       "\t<tr><td>1972</td><td>363</td><td>NA</td><td>NA</td><td>NA</td><td>NA</td><td>NA</td><td>NA</td><td>NA</td><td>48.74933</td><td>-122.8338</td><td>NA</td><td> 4.041470</td><td>NA</td><td>NA</td><td>NA</td><td>NA</td><td>NA</td></tr>\n",
       "\t<tr><td>1973</td><td>363</td><td>NA</td><td>NA</td><td>NA</td><td>NA</td><td>NA</td><td>NA</td><td>NA</td><td>48.74933</td><td>-122.8338</td><td>NA</td><td> 4.544815</td><td>NA</td><td>NA</td><td>NA</td><td>NA</td><td>NA</td></tr>\n",
       "\t<tr><td>1974</td><td>363</td><td>NA</td><td>NA</td><td>NA</td><td>NA</td><td>NA</td><td>NA</td><td>NA</td><td>48.74933</td><td>-122.8338</td><td>NA</td><td> 5.048159</td><td>NA</td><td>NA</td><td>NA</td><td>NA</td><td>NA</td></tr>\n",
       "\t<tr><td>1975</td><td>363</td><td>NA</td><td>NA</td><td>NA</td><td>NA</td><td>NA</td><td>NA</td><td>NA</td><td>48.74933</td><td>-122.8338</td><td>NA</td><td> 5.551504</td><td>NA</td><td>NA</td><td>NA</td><td>NA</td><td>NA</td></tr>\n",
       "\t<tr><td>1976</td><td>363</td><td>NA</td><td>NA</td><td>NA</td><td>NA</td><td>NA</td><td>NA</td><td>NA</td><td>48.74933</td><td>-122.8338</td><td>NA</td><td> 6.054849</td><td>NA</td><td>NA</td><td>NA</td><td>NA</td><td>NA</td></tr>\n",
       "\t<tr><td>1977</td><td>363</td><td>NA</td><td>NA</td><td>NA</td><td>NA</td><td>NA</td><td>NA</td><td>NA</td><td>48.74933</td><td>-122.8338</td><td>NA</td><td> 6.558194</td><td>NA</td><td>NA</td><td>NA</td><td>NA</td><td>NA</td></tr>\n",
       "\t<tr><td>1979</td><td>363</td><td>NA</td><td>NA</td><td>NA</td><td>NA</td><td>NA</td><td>NA</td><td>NA</td><td>48.74933</td><td>-122.8338</td><td>NA</td><td> 8.490659</td><td>NA</td><td>NA</td><td>NA</td><td>NA</td><td>NA</td></tr>\n",
       "\t<tr><td>1980</td><td>363</td><td>NA</td><td>NA</td><td>NA</td><td>NA</td><td>NA</td><td>NA</td><td>NA</td><td>48.74933</td><td>-122.8338</td><td>NA</td><td> 9.919780</td><td>NA</td><td>NA</td><td>NA</td><td>NA</td><td>NA</td></tr>\n",
       "\t<tr><td>1981</td><td>363</td><td>NA</td><td>NA</td><td>NA</td><td>NA</td><td>NA</td><td>NA</td><td>NA</td><td>48.74933</td><td>-122.8338</td><td>NA</td><td>11.348901</td><td>NA</td><td>NA</td><td>NA</td><td>NA</td><td>NA</td></tr>\n",
       "\t<tr><td>1982</td><td>363</td><td>NA</td><td>NA</td><td>NA</td><td>NA</td><td>NA</td><td>NA</td><td>NA</td><td>48.74933</td><td>-122.8338</td><td>NA</td><td>12.778022</td><td>NA</td><td>NA</td><td>NA</td><td>NA</td><td>NA</td></tr>\n",
       "\t<tr><td>1971</td><td>364</td><td>NA</td><td>NA</td><td>NA</td><td>NA</td><td>NA</td><td>NA</td><td>NA</td><td>48.74400</td><td>-122.8258</td><td>NA</td><td> 3.538125</td><td>NA</td><td>NA</td><td>NA</td><td>NA</td><td>NA</td></tr>\n",
       "\t<tr><td>1972</td><td>364</td><td>NA</td><td>NA</td><td>NA</td><td>NA</td><td>NA</td><td>NA</td><td>NA</td><td>48.74400</td><td>-122.8258</td><td>NA</td><td> 4.041470</td><td>NA</td><td>NA</td><td>NA</td><td>NA</td><td>NA</td></tr>\n",
       "\t<tr><td>1973</td><td>364</td><td>NA</td><td>NA</td><td>NA</td><td>NA</td><td>NA</td><td>NA</td><td>NA</td><td>48.74400</td><td>-122.8258</td><td>NA</td><td> 4.544815</td><td>NA</td><td>NA</td><td>NA</td><td>NA</td><td>NA</td></tr>\n",
       "\t<tr><td>1974</td><td>364</td><td>NA</td><td>NA</td><td>NA</td><td>NA</td><td>NA</td><td>NA</td><td>NA</td><td>48.74400</td><td>-122.8258</td><td>NA</td><td> 5.048159</td><td>NA</td><td>NA</td><td>NA</td><td>NA</td><td>NA</td></tr>\n",
       "\t<tr><td>1975</td><td>364</td><td>NA</td><td>NA</td><td>NA</td><td>NA</td><td>NA</td><td>NA</td><td>NA</td><td>48.74400</td><td>-122.8258</td><td>NA</td><td> 5.551504</td><td>NA</td><td>NA</td><td>NA</td><td>NA</td><td>NA</td></tr>\n",
       "\t<tr><td>1976</td><td>364</td><td>NA</td><td>NA</td><td>NA</td><td>NA</td><td>NA</td><td>NA</td><td>NA</td><td>48.74400</td><td>-122.8258</td><td>NA</td><td> 6.054849</td><td>NA</td><td>NA</td><td>NA</td><td>NA</td><td>NA</td></tr>\n",
       "\t<tr><td>1977</td><td>364</td><td>NA</td><td>NA</td><td>NA</td><td>NA</td><td>NA</td><td>NA</td><td>NA</td><td>48.74400</td><td>-122.8258</td><td>NA</td><td> 6.558194</td><td>NA</td><td>NA</td><td>NA</td><td>NA</td><td>NA</td></tr>\n",
       "\t<tr><td>1979</td><td>364</td><td>NA</td><td>NA</td><td>NA</td><td>NA</td><td>NA</td><td>NA</td><td>NA</td><td>48.74400</td><td>-122.8258</td><td>NA</td><td> 8.490659</td><td>NA</td><td>NA</td><td>NA</td><td>NA</td><td>NA</td></tr>\n",
       "\t<tr><td>1980</td><td>364</td><td>NA</td><td>NA</td><td>NA</td><td>NA</td><td>NA</td><td>NA</td><td>NA</td><td>48.74400</td><td>-122.8258</td><td>NA</td><td> 9.919780</td><td>NA</td><td>NA</td><td>NA</td><td>NA</td><td>NA</td></tr>\n",
       "\t<tr><td>1981</td><td>364</td><td>NA</td><td>NA</td><td>NA</td><td>NA</td><td>NA</td><td>NA</td><td>NA</td><td>48.74400</td><td>-122.8258</td><td>NA</td><td>11.348901</td><td>NA</td><td>NA</td><td>NA</td><td>NA</td><td>NA</td></tr>\n",
       "\t<tr><td>1982</td><td>364</td><td>NA</td><td>NA</td><td>NA</td><td>NA</td><td>NA</td><td>NA</td><td>NA</td><td>48.74400</td><td>-122.8258</td><td>NA</td><td>12.778022</td><td>NA</td><td>NA</td><td>NA</td><td>NA</td><td>NA</td></tr>\n",
       "\t<tr><td>1971</td><td>365</td><td>NA</td><td>NA</td><td>NA</td><td>NA</td><td>NA</td><td>NA</td><td>NA</td><td>48.74517</td><td>-122.8217</td><td>NA</td><td> 3.538125</td><td>NA</td><td>NA</td><td>NA</td><td>NA</td><td>NA</td></tr>\n",
       "\t<tr><td>1972</td><td>365</td><td>NA</td><td>NA</td><td>NA</td><td>NA</td><td>NA</td><td>NA</td><td>NA</td><td>48.74517</td><td>-122.8217</td><td>NA</td><td> 4.041470</td><td>NA</td><td>NA</td><td>NA</td><td>NA</td><td>NA</td></tr>\n",
       "\t<tr><td>1973</td><td>365</td><td>NA</td><td>NA</td><td>NA</td><td>NA</td><td>NA</td><td>NA</td><td>NA</td><td>48.74517</td><td>-122.8217</td><td>NA</td><td> 4.544815</td><td>NA</td><td>NA</td><td>NA</td><td>NA</td><td>NA</td></tr>\n",
       "\t<tr><td>1974</td><td>365</td><td>NA</td><td>NA</td><td>NA</td><td>NA</td><td>NA</td><td>NA</td><td>NA</td><td>48.74517</td><td>-122.8217</td><td>NA</td><td> 5.048159</td><td>NA</td><td>NA</td><td>NA</td><td>NA</td><td>NA</td></tr>\n",
       "\t<tr><td>1975</td><td>365</td><td>NA</td><td>NA</td><td>NA</td><td>NA</td><td>NA</td><td>NA</td><td>NA</td><td>48.74517</td><td>-122.8217</td><td>NA</td><td> 5.551504</td><td>NA</td><td>NA</td><td>NA</td><td>NA</td><td>NA</td></tr>\n",
       "\t<tr><td>1976</td><td>365</td><td>NA</td><td>NA</td><td>NA</td><td>NA</td><td>NA</td><td>NA</td><td>NA</td><td>48.74517</td><td>-122.8217</td><td>NA</td><td> 6.054849</td><td>NA</td><td>NA</td><td>NA</td><td>NA</td><td>NA</td></tr>\n",
       "\t<tr><td>1977</td><td>365</td><td>NA</td><td>NA</td><td>NA</td><td>NA</td><td>NA</td><td>NA</td><td>NA</td><td>48.74517</td><td>-122.8217</td><td>NA</td><td> 6.558194</td><td>NA</td><td>NA</td><td>NA</td><td>NA</td><td>NA</td></tr>\n",
       "\t<tr><td>1979</td><td>365</td><td>NA</td><td>NA</td><td>NA</td><td>NA</td><td>NA</td><td>NA</td><td>NA</td><td>48.74517</td><td>-122.8217</td><td>NA</td><td> 8.490659</td><td>NA</td><td>NA</td><td>NA</td><td>NA</td><td>NA</td></tr>\n",
       "\t<tr><td>...</td><td>...</td><td>...</td><td>...</td><td>...</td><td>...</td><td>...</td><td>...</td><td>...</td><td>...</td><td>...</td><td>...</td><td>...</td><td>...</td><td>...</td><td>...</td><td>...</td><td>...</td></tr>\n",
       "\t<tr><td>2008</td><td>H1496</td><td>NA</td><td>NA</td><td>NA</td><td>NA</td><td>NA</td><td>NA</td><td>NA</td><td>50.1251</td><td>-125.0816</td><td>NA</td><td>27.0</td><td>NA</td><td>NA</td><td>North Subtle Islands       </td><td>North East Gulf</td><td> 2008-08-15</td></tr>\n",
       "\t<tr><td>2009</td><td>H1496</td><td>NA</td><td>NA</td><td>NA</td><td>NA</td><td>NA</td><td>NA</td><td>NA</td><td>50.1251</td><td>-125.0816</td><td>NA</td><td>22.5</td><td>NA</td><td>NA</td><td>North Subtle Islands       </td><td>North East Gulf</td><td>NA         </td></tr>\n",
       "\t<tr><td>2010</td><td>H1496</td><td>NA</td><td>NA</td><td>NA</td><td>NA</td><td>NA</td><td>NA</td><td>NA</td><td>50.1251</td><td>-125.0816</td><td>NA</td><td>18.0</td><td>NA</td><td>NA</td><td>North Subtle Islands       </td><td>North East Gulf</td><td>NA         </td></tr>\n",
       "\t<tr><td>2011</td><td>H1496</td><td>NA</td><td>NA</td><td>NA</td><td>NA</td><td>NA</td><td>NA</td><td>NA</td><td>50.1251</td><td>-125.0816</td><td>NA</td><td>13.5</td><td>NA</td><td>NA</td><td>North Subtle Islands       </td><td>North East Gulf</td><td>NA         </td></tr>\n",
       "\t<tr><td>2012</td><td>H1496</td><td>NA</td><td>NA</td><td>NA</td><td>NA</td><td>NA</td><td>NA</td><td>NA</td><td>50.1251</td><td>-125.0816</td><td>NA</td><td> 9.0</td><td>NA</td><td>NA</td><td>North Subtle Islands       </td><td>North East Gulf</td><td>NA         </td></tr>\n",
       "\t<tr><td>2013</td><td>H1496</td><td>NA</td><td>NA</td><td>NA</td><td>NA</td><td>NA</td><td>NA</td><td>NA</td><td>50.1251</td><td>-125.0816</td><td>NA</td><td> 4.5</td><td>NA</td><td>NA</td><td>North Subtle Islands       </td><td>North East Gulf</td><td>NA         </td></tr>\n",
       "\t<tr><td>2014</td><td>H1496</td><td>NA</td><td>NA</td><td>NA</td><td>NA</td><td>NA</td><td>NA</td><td>NA</td><td>50.1251</td><td>-125.0816</td><td>NA</td><td> 0.0</td><td>NA</td><td>NA</td><td>North Subtle Islands       </td><td>North East Gulf</td><td> 2014-08-10</td></tr>\n",
       "\t<tr><td>2014</td><td>H1502</td><td>NA</td><td>NA</td><td>NA</td><td>NA</td><td>NA</td><td>NA</td><td>NA</td><td>49.0256</td><td> 123.1308</td><td>NA</td><td>13.0</td><td>NA</td><td>NA</td><td>Tswassen                   </td><td>Fraser River   </td><td> 2014-08-07</td></tr>\n",
       "\t<tr><td>2014</td><td>H1503</td><td>NA</td><td>NA</td><td>NA</td><td>NA</td><td>NA</td><td>NA</td><td>NA</td><td>49.0406</td><td> 123.2047</td><td>NA</td><td>24.0</td><td>NA</td><td>NA</td><td>Central Roberts Bank Site L</td><td>Fraser River   </td><td> 2014-08-07</td></tr>\n",
       "\t<tr><td>2014</td><td>H1504</td><td>NA</td><td>NA</td><td>NA</td><td>NA</td><td>NA</td><td>NA</td><td>NA</td><td>49.3396</td><td> 123.3059</td><td>NA</td><td>20.0</td><td>NA</td><td>NA</td><td>Passage Island             </td><td>Howe Sound     </td><td> 2014-08-07</td></tr>\n",
       "\t<tr><td>2014</td><td>H1505</td><td>NA</td><td>NA</td><td>NA</td><td>NA</td><td>NA</td><td>NA</td><td>NA</td><td>49.4164</td><td> 123.2355</td><td>NA</td><td> 5.0</td><td>NA</td><td>NA</td><td>Strip Creek                </td><td>Howe Sound     </td><td> 2014-08-07</td></tr>\n",
       "\t<tr><td>2014</td><td>H1506</td><td>NA</td><td>NA</td><td>NA</td><td>NA</td><td>NA</td><td>NA</td><td>NA</td><td>49.6295</td><td> 124.0608</td><td>NA</td><td> 7.0</td><td>NA</td><td>NA</td><td>Williams Island            </td><td>North East Gulf</td><td> 2014-08-08</td></tr>\n",
       "\t<tr><td>2014</td><td>H1507</td><td>NA</td><td>NA</td><td>NA</td><td>NA</td><td>NA</td><td>NA</td><td>NA</td><td>49.6294</td><td> 124.0835</td><td>NA</td><td>15.0</td><td>NA</td><td>NA</td><td>Pearson                    </td><td>North East Gulf</td><td> 2014-08-08</td></tr>\n",
       "\t<tr><td>2014</td><td>H1508</td><td>NA</td><td>NA</td><td>NA</td><td>NA</td><td>NA</td><td>NA</td><td>NA</td><td>49.7218</td><td> 124.2185</td><td>NA</td><td> 9.0</td><td>NA</td><td>NA</td><td>Oyster Island              </td><td>North East Gulf</td><td> 2014-08-08</td></tr>\n",
       "\t<tr><td>2014</td><td>H1509</td><td>NA</td><td>NA</td><td>NA</td><td>NA</td><td>NA</td><td>NA</td><td>NA</td><td>49.7725</td><td> 124.5743</td><td>NA</td><td> 6.0</td><td>NA</td><td>NA</td><td>Eagle Cove                 </td><td>North East Gulf</td><td> 2014-08-08</td></tr>\n",
       "\t<tr><td>2014</td><td>H1510</td><td>NA</td><td>NA</td><td>NA</td><td>NA</td><td>NA</td><td>NA</td><td>NA</td><td>49.5116</td><td> 124.1816</td><td>NA</td><td>11.0</td><td>NA</td><td>NA</td><td>Southwest Texada Island B  </td><td>North East Gulf</td><td> 2014-08-08</td></tr>\n",
       "\t<tr><td>2014</td><td>H1511</td><td>NA</td><td>NA</td><td>NA</td><td>NA</td><td>NA</td><td>NA</td><td>NA</td><td>49.4911</td><td> 124.1784</td><td>NA</td><td>28.0</td><td>NA</td><td>NA</td><td>Circle Island              </td><td>North East Gulf</td><td> 2014-08-08</td></tr>\n",
       "\t<tr><td>2014</td><td>H1512</td><td>NA</td><td>NA</td><td>NA</td><td>NA</td><td>NA</td><td>NA</td><td>NA</td><td>49.5058</td><td> 124.2576</td><td>NA</td><td>63.0</td><td>NA</td><td>NA</td><td>Avery Reef                 </td><td>North East Gulf</td><td> 2014-08-08</td></tr>\n",
       "\t<tr><td>2014</td><td>H1513</td><td>NA</td><td>NA</td><td>NA</td><td>NA</td><td>NA</td><td>NA</td><td>NA</td><td>49.6378</td><td> 123.8466</td><td>NA</td><td>79.0</td><td>NA</td><td>NA</td><td>Anderson Creek             </td><td>North East Gulf</td><td> 2014-08-22</td></tr>\n",
       "\t<tr><td>2014</td><td>H1514</td><td>NA</td><td>NA</td><td>NA</td><td>NA</td><td>NA</td><td>NA</td><td>NA</td><td>49.6504</td><td> 123.6731</td><td>NA</td><td>27.0</td><td>NA</td><td>NA</td><td>Salmon Inlet               </td><td>North East Gulf</td><td> 2014-08-22</td></tr>\n",
       "\t<tr><td>2014</td><td>H1515</td><td>NA</td><td>NA</td><td>NA</td><td>NA</td><td>NA</td><td>NA</td><td>NA</td><td>49.5348</td><td> 123.7931</td><td>NA</td><td>35.0</td><td>NA</td><td>NA</td><td>Carlson Point              </td><td>North East Gulf</td><td> 2014-08-22</td></tr>\n",
       "\t<tr><td>2014</td><td>H1516</td><td>NA</td><td>NA</td><td>NA</td><td>NA</td><td>NA</td><td>NA</td><td>NA</td><td>49.5257</td><td> 123.7950</td><td>NA</td><td>15.0</td><td>NA</td><td>NA</td><td>Carlson Reef               </td><td>North East Gulf</td><td> 2014-08-22</td></tr>\n",
       "\t<tr><td>2014</td><td>H1517</td><td>NA</td><td>NA</td><td>NA</td><td>NA</td><td>NA</td><td>NA</td><td>NA</td><td>49.7397</td><td> 123.8989</td><td>NA</td><td>11.0</td><td>NA</td><td>NA</td><td>Sechelt Islets             </td><td>North East Gulf</td><td> 2014-08-10</td></tr>\n",
       "\t<tr><td>2014</td><td>H1518</td><td>NA</td><td>NA</td><td>NA</td><td>NA</td><td>NA</td><td>NA</td><td>NA</td><td>49.7888</td><td> 123.9968</td><td>NA</td><td>35.0</td><td>NA</td><td>NA</td><td>Captain Island             </td><td>North East Gulf</td><td> 2014-08-10</td></tr>\n",
       "\t<tr><td>2014</td><td>H1519</td><td>NA</td><td>NA</td><td>NA</td><td>NA</td><td>NA</td><td>NA</td><td>NA</td><td>49.8166</td><td> 124.0823</td><td>NA</td><td>36.0</td><td>NA</td><td>NA</td><td>Sykes Island               </td><td>North East Gulf</td><td> 2014-08-10</td></tr>\n",
       "\t<tr><td>2014</td><td>H1520</td><td>NA</td><td>NA</td><td>NA</td><td>NA</td><td>NA</td><td>NA</td><td>NA</td><td>50.0855</td><td> 125.0293</td><td>NA</td><td> 8.0</td><td>NA</td><td>NA</td><td>Heather Islets             </td><td>North East Gulf</td><td> 2014-08-10</td></tr>\n",
       "\t<tr><td>2014</td><td>H1521</td><td>NA</td><td>NA</td><td>NA</td><td>NA</td><td>NA</td><td>NA</td><td>NA</td><td>50.1455</td><td> 125.1640</td><td>NA</td><td>21.0</td><td>NA</td><td>NA</td><td>Dunsterville Islet         </td><td>North East Gulf</td><td> 2014-08-10</td></tr>\n",
       "\t<tr><td>2014</td><td>H1522</td><td>NA</td><td>NA</td><td>NA</td><td>NA</td><td>NA</td><td>NA</td><td>NA</td><td>48.7799</td><td> 123.5587</td><td>NA</td><td>14.0</td><td>NA</td><td>NA</td><td>Sansum Point               </td><td>Gulf Islands   </td><td> 2014-08-22</td></tr>\n",
       "\t<tr><td>2014</td><td>H1523</td><td>NA</td><td>NA</td><td>NA</td><td>NA</td><td>NA</td><td>NA</td><td>NA</td><td>48.9072</td><td> 123.3595</td><td>NA</td><td>10.0</td><td>NA</td><td>NA</td><td>Andaje Point               </td><td>Gulf Islands   </td><td> 2014-08-21</td></tr>\n",
       "\t<tr><td>2014</td><td>H1524</td><td>NA</td><td>NA</td><td>NA</td><td>NA</td><td>NA</td><td>NA</td><td>NA</td><td>48.8576</td><td> 123.3396</td><td>NA</td><td>10.0</td><td>NA</td><td>NA</td><td>Mayne Island               </td><td>Gulf Islands   </td><td> 2014-08-21</td></tr>\n",
       "</tbody>\n",
       "</table>\n"
      ],
      "text/latex": [
       "A tibble: 15818 × 18\n",
       "\\begin{tabular}{r|llllllllllllllllll}\n",
       " Date.1 & Site.Key & ï..Region.ID & Region.Name & Location & Survey.Code & Species & Use & weighting\\_GO & Latitude & Longitude & yr\\_total\\_est\\_sanj & Count & yr\\_expanded\\_est & X & Location.Value & Location.Info & Date\\\\\n",
       " <int> & <fct> & <int> & <fct> & <fct> & <dbl> & <fct> & <fct> & <dbl> & <dbl> & <dbl> & <int> & <dbl> & <dbl> & <lgl> & <fct> & <fct> & <fct>\\\\\n",
       "\\hline\n",
       "\t 1971 & 363 & NA & NA & NA & NA & NA & NA & NA & 48.74933 & -122.8338 & NA &  3.538125 & NA & NA & NA & NA & NA\\\\\n",
       "\t 1972 & 363 & NA & NA & NA & NA & NA & NA & NA & 48.74933 & -122.8338 & NA &  4.041470 & NA & NA & NA & NA & NA\\\\\n",
       "\t 1973 & 363 & NA & NA & NA & NA & NA & NA & NA & 48.74933 & -122.8338 & NA &  4.544815 & NA & NA & NA & NA & NA\\\\\n",
       "\t 1974 & 363 & NA & NA & NA & NA & NA & NA & NA & 48.74933 & -122.8338 & NA &  5.048159 & NA & NA & NA & NA & NA\\\\\n",
       "\t 1975 & 363 & NA & NA & NA & NA & NA & NA & NA & 48.74933 & -122.8338 & NA &  5.551504 & NA & NA & NA & NA & NA\\\\\n",
       "\t 1976 & 363 & NA & NA & NA & NA & NA & NA & NA & 48.74933 & -122.8338 & NA &  6.054849 & NA & NA & NA & NA & NA\\\\\n",
       "\t 1977 & 363 & NA & NA & NA & NA & NA & NA & NA & 48.74933 & -122.8338 & NA &  6.558194 & NA & NA & NA & NA & NA\\\\\n",
       "\t 1979 & 363 & NA & NA & NA & NA & NA & NA & NA & 48.74933 & -122.8338 & NA &  8.490659 & NA & NA & NA & NA & NA\\\\\n",
       "\t 1980 & 363 & NA & NA & NA & NA & NA & NA & NA & 48.74933 & -122.8338 & NA &  9.919780 & NA & NA & NA & NA & NA\\\\\n",
       "\t 1981 & 363 & NA & NA & NA & NA & NA & NA & NA & 48.74933 & -122.8338 & NA & 11.348901 & NA & NA & NA & NA & NA\\\\\n",
       "\t 1982 & 363 & NA & NA & NA & NA & NA & NA & NA & 48.74933 & -122.8338 & NA & 12.778022 & NA & NA & NA & NA & NA\\\\\n",
       "\t 1971 & 364 & NA & NA & NA & NA & NA & NA & NA & 48.74400 & -122.8258 & NA &  3.538125 & NA & NA & NA & NA & NA\\\\\n",
       "\t 1972 & 364 & NA & NA & NA & NA & NA & NA & NA & 48.74400 & -122.8258 & NA &  4.041470 & NA & NA & NA & NA & NA\\\\\n",
       "\t 1973 & 364 & NA & NA & NA & NA & NA & NA & NA & 48.74400 & -122.8258 & NA &  4.544815 & NA & NA & NA & NA & NA\\\\\n",
       "\t 1974 & 364 & NA & NA & NA & NA & NA & NA & NA & 48.74400 & -122.8258 & NA &  5.048159 & NA & NA & NA & NA & NA\\\\\n",
       "\t 1975 & 364 & NA & NA & NA & NA & NA & NA & NA & 48.74400 & -122.8258 & NA &  5.551504 & NA & NA & NA & NA & NA\\\\\n",
       "\t 1976 & 364 & NA & NA & NA & NA & NA & NA & NA & 48.74400 & -122.8258 & NA &  6.054849 & NA & NA & NA & NA & NA\\\\\n",
       "\t 1977 & 364 & NA & NA & NA & NA & NA & NA & NA & 48.74400 & -122.8258 & NA &  6.558194 & NA & NA & NA & NA & NA\\\\\n",
       "\t 1979 & 364 & NA & NA & NA & NA & NA & NA & NA & 48.74400 & -122.8258 & NA &  8.490659 & NA & NA & NA & NA & NA\\\\\n",
       "\t 1980 & 364 & NA & NA & NA & NA & NA & NA & NA & 48.74400 & -122.8258 & NA &  9.919780 & NA & NA & NA & NA & NA\\\\\n",
       "\t 1981 & 364 & NA & NA & NA & NA & NA & NA & NA & 48.74400 & -122.8258 & NA & 11.348901 & NA & NA & NA & NA & NA\\\\\n",
       "\t 1982 & 364 & NA & NA & NA & NA & NA & NA & NA & 48.74400 & -122.8258 & NA & 12.778022 & NA & NA & NA & NA & NA\\\\\n",
       "\t 1971 & 365 & NA & NA & NA & NA & NA & NA & NA & 48.74517 & -122.8217 & NA &  3.538125 & NA & NA & NA & NA & NA\\\\\n",
       "\t 1972 & 365 & NA & NA & NA & NA & NA & NA & NA & 48.74517 & -122.8217 & NA &  4.041470 & NA & NA & NA & NA & NA\\\\\n",
       "\t 1973 & 365 & NA & NA & NA & NA & NA & NA & NA & 48.74517 & -122.8217 & NA &  4.544815 & NA & NA & NA & NA & NA\\\\\n",
       "\t 1974 & 365 & NA & NA & NA & NA & NA & NA & NA & 48.74517 & -122.8217 & NA &  5.048159 & NA & NA & NA & NA & NA\\\\\n",
       "\t 1975 & 365 & NA & NA & NA & NA & NA & NA & NA & 48.74517 & -122.8217 & NA &  5.551504 & NA & NA & NA & NA & NA\\\\\n",
       "\t 1976 & 365 & NA & NA & NA & NA & NA & NA & NA & 48.74517 & -122.8217 & NA &  6.054849 & NA & NA & NA & NA & NA\\\\\n",
       "\t 1977 & 365 & NA & NA & NA & NA & NA & NA & NA & 48.74517 & -122.8217 & NA &  6.558194 & NA & NA & NA & NA & NA\\\\\n",
       "\t 1979 & 365 & NA & NA & NA & NA & NA & NA & NA & 48.74517 & -122.8217 & NA &  8.490659 & NA & NA & NA & NA & NA\\\\\n",
       "\t ... & ... & ... & ... & ... & ... & ... & ... & ... & ... & ... & ... & ... & ... & ... & ... & ... & ...\\\\\n",
       "\t 2008 & H1496 & NA & NA & NA & NA & NA & NA & NA & 50.1251 & -125.0816 & NA & 27.0 & NA & NA & North Subtle Islands        & North East Gulf &  2008-08-15\\\\\n",
       "\t 2009 & H1496 & NA & NA & NA & NA & NA & NA & NA & 50.1251 & -125.0816 & NA & 22.5 & NA & NA & North Subtle Islands        & North East Gulf & NA         \\\\\n",
       "\t 2010 & H1496 & NA & NA & NA & NA & NA & NA & NA & 50.1251 & -125.0816 & NA & 18.0 & NA & NA & North Subtle Islands        & North East Gulf & NA         \\\\\n",
       "\t 2011 & H1496 & NA & NA & NA & NA & NA & NA & NA & 50.1251 & -125.0816 & NA & 13.5 & NA & NA & North Subtle Islands        & North East Gulf & NA         \\\\\n",
       "\t 2012 & H1496 & NA & NA & NA & NA & NA & NA & NA & 50.1251 & -125.0816 & NA &  9.0 & NA & NA & North Subtle Islands        & North East Gulf & NA         \\\\\n",
       "\t 2013 & H1496 & NA & NA & NA & NA & NA & NA & NA & 50.1251 & -125.0816 & NA &  4.5 & NA & NA & North Subtle Islands        & North East Gulf & NA         \\\\\n",
       "\t 2014 & H1496 & NA & NA & NA & NA & NA & NA & NA & 50.1251 & -125.0816 & NA &  0.0 & NA & NA & North Subtle Islands        & North East Gulf &  2014-08-10\\\\\n",
       "\t 2014 & H1502 & NA & NA & NA & NA & NA & NA & NA & 49.0256 &  123.1308 & NA & 13.0 & NA & NA & Tswassen                    & Fraser River    &  2014-08-07\\\\\n",
       "\t 2014 & H1503 & NA & NA & NA & NA & NA & NA & NA & 49.0406 &  123.2047 & NA & 24.0 & NA & NA & Central Roberts Bank Site L & Fraser River    &  2014-08-07\\\\\n",
       "\t 2014 & H1504 & NA & NA & NA & NA & NA & NA & NA & 49.3396 &  123.3059 & NA & 20.0 & NA & NA & Passage Island              & Howe Sound      &  2014-08-07\\\\\n",
       "\t 2014 & H1505 & NA & NA & NA & NA & NA & NA & NA & 49.4164 &  123.2355 & NA &  5.0 & NA & NA & Strip Creek                 & Howe Sound      &  2014-08-07\\\\\n",
       "\t 2014 & H1506 & NA & NA & NA & NA & NA & NA & NA & 49.6295 &  124.0608 & NA &  7.0 & NA & NA & Williams Island             & North East Gulf &  2014-08-08\\\\\n",
       "\t 2014 & H1507 & NA & NA & NA & NA & NA & NA & NA & 49.6294 &  124.0835 & NA & 15.0 & NA & NA & Pearson                     & North East Gulf &  2014-08-08\\\\\n",
       "\t 2014 & H1508 & NA & NA & NA & NA & NA & NA & NA & 49.7218 &  124.2185 & NA &  9.0 & NA & NA & Oyster Island               & North East Gulf &  2014-08-08\\\\\n",
       "\t 2014 & H1509 & NA & NA & NA & NA & NA & NA & NA & 49.7725 &  124.5743 & NA &  6.0 & NA & NA & Eagle Cove                  & North East Gulf &  2014-08-08\\\\\n",
       "\t 2014 & H1510 & NA & NA & NA & NA & NA & NA & NA & 49.5116 &  124.1816 & NA & 11.0 & NA & NA & Southwest Texada Island B   & North East Gulf &  2014-08-08\\\\\n",
       "\t 2014 & H1511 & NA & NA & NA & NA & NA & NA & NA & 49.4911 &  124.1784 & NA & 28.0 & NA & NA & Circle Island               & North East Gulf &  2014-08-08\\\\\n",
       "\t 2014 & H1512 & NA & NA & NA & NA & NA & NA & NA & 49.5058 &  124.2576 & NA & 63.0 & NA & NA & Avery Reef                  & North East Gulf &  2014-08-08\\\\\n",
       "\t 2014 & H1513 & NA & NA & NA & NA & NA & NA & NA & 49.6378 &  123.8466 & NA & 79.0 & NA & NA & Anderson Creek              & North East Gulf &  2014-08-22\\\\\n",
       "\t 2014 & H1514 & NA & NA & NA & NA & NA & NA & NA & 49.6504 &  123.6731 & NA & 27.0 & NA & NA & Salmon Inlet                & North East Gulf &  2014-08-22\\\\\n",
       "\t 2014 & H1515 & NA & NA & NA & NA & NA & NA & NA & 49.5348 &  123.7931 & NA & 35.0 & NA & NA & Carlson Point               & North East Gulf &  2014-08-22\\\\\n",
       "\t 2014 & H1516 & NA & NA & NA & NA & NA & NA & NA & 49.5257 &  123.7950 & NA & 15.0 & NA & NA & Carlson Reef                & North East Gulf &  2014-08-22\\\\\n",
       "\t 2014 & H1517 & NA & NA & NA & NA & NA & NA & NA & 49.7397 &  123.8989 & NA & 11.0 & NA & NA & Sechelt Islets              & North East Gulf &  2014-08-10\\\\\n",
       "\t 2014 & H1518 & NA & NA & NA & NA & NA & NA & NA & 49.7888 &  123.9968 & NA & 35.0 & NA & NA & Captain Island              & North East Gulf &  2014-08-10\\\\\n",
       "\t 2014 & H1519 & NA & NA & NA & NA & NA & NA & NA & 49.8166 &  124.0823 & NA & 36.0 & NA & NA & Sykes Island                & North East Gulf &  2014-08-10\\\\\n",
       "\t 2014 & H1520 & NA & NA & NA & NA & NA & NA & NA & 50.0855 &  125.0293 & NA &  8.0 & NA & NA & Heather Islets              & North East Gulf &  2014-08-10\\\\\n",
       "\t 2014 & H1521 & NA & NA & NA & NA & NA & NA & NA & 50.1455 &  125.1640 & NA & 21.0 & NA & NA & Dunsterville Islet          & North East Gulf &  2014-08-10\\\\\n",
       "\t 2014 & H1522 & NA & NA & NA & NA & NA & NA & NA & 48.7799 &  123.5587 & NA & 14.0 & NA & NA & Sansum Point                & Gulf Islands    &  2014-08-22\\\\\n",
       "\t 2014 & H1523 & NA & NA & NA & NA & NA & NA & NA & 48.9072 &  123.3595 & NA & 10.0 & NA & NA & Andaje Point                & Gulf Islands    &  2014-08-21\\\\\n",
       "\t 2014 & H1524 & NA & NA & NA & NA & NA & NA & NA & 48.8576 &  123.3396 & NA & 10.0 & NA & NA & Mayne Island                & Gulf Islands    &  2014-08-21\\\\\n",
       "\\end{tabular}\n"
      ],
      "text/markdown": [
       "\n",
       "A tibble: 15818 × 18\n",
       "\n",
       "| Date.1 &lt;int&gt; | Site.Key &lt;fct&gt; | ï..Region.ID &lt;int&gt; | Region.Name &lt;fct&gt; | Location &lt;fct&gt; | Survey.Code &lt;dbl&gt; | Species &lt;fct&gt; | Use &lt;fct&gt; | weighting_GO &lt;dbl&gt; | Latitude &lt;dbl&gt; | Longitude &lt;dbl&gt; | yr_total_est_sanj &lt;int&gt; | Count &lt;dbl&gt; | yr_expanded_est &lt;dbl&gt; | X &lt;lgl&gt; | Location.Value &lt;fct&gt; | Location.Info &lt;fct&gt; | Date &lt;fct&gt; |\n",
       "|---|---|---|---|---|---|---|---|---|---|---|---|---|---|---|---|---|---|\n",
       "| 1971 | 363 | NA | NA | NA | NA | NA | NA | NA | 48.74933 | -122.8338 | NA |  3.538125 | NA | NA | NA | NA | NA |\n",
       "| 1972 | 363 | NA | NA | NA | NA | NA | NA | NA | 48.74933 | -122.8338 | NA |  4.041470 | NA | NA | NA | NA | NA |\n",
       "| 1973 | 363 | NA | NA | NA | NA | NA | NA | NA | 48.74933 | -122.8338 | NA |  4.544815 | NA | NA | NA | NA | NA |\n",
       "| 1974 | 363 | NA | NA | NA | NA | NA | NA | NA | 48.74933 | -122.8338 | NA |  5.048159 | NA | NA | NA | NA | NA |\n",
       "| 1975 | 363 | NA | NA | NA | NA | NA | NA | NA | 48.74933 | -122.8338 | NA |  5.551504 | NA | NA | NA | NA | NA |\n",
       "| 1976 | 363 | NA | NA | NA | NA | NA | NA | NA | 48.74933 | -122.8338 | NA |  6.054849 | NA | NA | NA | NA | NA |\n",
       "| 1977 | 363 | NA | NA | NA | NA | NA | NA | NA | 48.74933 | -122.8338 | NA |  6.558194 | NA | NA | NA | NA | NA |\n",
       "| 1979 | 363 | NA | NA | NA | NA | NA | NA | NA | 48.74933 | -122.8338 | NA |  8.490659 | NA | NA | NA | NA | NA |\n",
       "| 1980 | 363 | NA | NA | NA | NA | NA | NA | NA | 48.74933 | -122.8338 | NA |  9.919780 | NA | NA | NA | NA | NA |\n",
       "| 1981 | 363 | NA | NA | NA | NA | NA | NA | NA | 48.74933 | -122.8338 | NA | 11.348901 | NA | NA | NA | NA | NA |\n",
       "| 1982 | 363 | NA | NA | NA | NA | NA | NA | NA | 48.74933 | -122.8338 | NA | 12.778022 | NA | NA | NA | NA | NA |\n",
       "| 1971 | 364 | NA | NA | NA | NA | NA | NA | NA | 48.74400 | -122.8258 | NA |  3.538125 | NA | NA | NA | NA | NA |\n",
       "| 1972 | 364 | NA | NA | NA | NA | NA | NA | NA | 48.74400 | -122.8258 | NA |  4.041470 | NA | NA | NA | NA | NA |\n",
       "| 1973 | 364 | NA | NA | NA | NA | NA | NA | NA | 48.74400 | -122.8258 | NA |  4.544815 | NA | NA | NA | NA | NA |\n",
       "| 1974 | 364 | NA | NA | NA | NA | NA | NA | NA | 48.74400 | -122.8258 | NA |  5.048159 | NA | NA | NA | NA | NA |\n",
       "| 1975 | 364 | NA | NA | NA | NA | NA | NA | NA | 48.74400 | -122.8258 | NA |  5.551504 | NA | NA | NA | NA | NA |\n",
       "| 1976 | 364 | NA | NA | NA | NA | NA | NA | NA | 48.74400 | -122.8258 | NA |  6.054849 | NA | NA | NA | NA | NA |\n",
       "| 1977 | 364 | NA | NA | NA | NA | NA | NA | NA | 48.74400 | -122.8258 | NA |  6.558194 | NA | NA | NA | NA | NA |\n",
       "| 1979 | 364 | NA | NA | NA | NA | NA | NA | NA | 48.74400 | -122.8258 | NA |  8.490659 | NA | NA | NA | NA | NA |\n",
       "| 1980 | 364 | NA | NA | NA | NA | NA | NA | NA | 48.74400 | -122.8258 | NA |  9.919780 | NA | NA | NA | NA | NA |\n",
       "| 1981 | 364 | NA | NA | NA | NA | NA | NA | NA | 48.74400 | -122.8258 | NA | 11.348901 | NA | NA | NA | NA | NA |\n",
       "| 1982 | 364 | NA | NA | NA | NA | NA | NA | NA | 48.74400 | -122.8258 | NA | 12.778022 | NA | NA | NA | NA | NA |\n",
       "| 1971 | 365 | NA | NA | NA | NA | NA | NA | NA | 48.74517 | -122.8217 | NA |  3.538125 | NA | NA | NA | NA | NA |\n",
       "| 1972 | 365 | NA | NA | NA | NA | NA | NA | NA | 48.74517 | -122.8217 | NA |  4.041470 | NA | NA | NA | NA | NA |\n",
       "| 1973 | 365 | NA | NA | NA | NA | NA | NA | NA | 48.74517 | -122.8217 | NA |  4.544815 | NA | NA | NA | NA | NA |\n",
       "| 1974 | 365 | NA | NA | NA | NA | NA | NA | NA | 48.74517 | -122.8217 | NA |  5.048159 | NA | NA | NA | NA | NA |\n",
       "| 1975 | 365 | NA | NA | NA | NA | NA | NA | NA | 48.74517 | -122.8217 | NA |  5.551504 | NA | NA | NA | NA | NA |\n",
       "| 1976 | 365 | NA | NA | NA | NA | NA | NA | NA | 48.74517 | -122.8217 | NA |  6.054849 | NA | NA | NA | NA | NA |\n",
       "| 1977 | 365 | NA | NA | NA | NA | NA | NA | NA | 48.74517 | -122.8217 | NA |  6.558194 | NA | NA | NA | NA | NA |\n",
       "| 1979 | 365 | NA | NA | NA | NA | NA | NA | NA | 48.74517 | -122.8217 | NA |  8.490659 | NA | NA | NA | NA | NA |\n",
       "| ... | ... | ... | ... | ... | ... | ... | ... | ... | ... | ... | ... | ... | ... | ... | ... | ... | ... |\n",
       "| 2008 | H1496 | NA | NA | NA | NA | NA | NA | NA | 50.1251 | -125.0816 | NA | 27.0 | NA | NA | North Subtle Islands        | North East Gulf |  2008-08-15 |\n",
       "| 2009 | H1496 | NA | NA | NA | NA | NA | NA | NA | 50.1251 | -125.0816 | NA | 22.5 | NA | NA | North Subtle Islands        | North East Gulf | NA          |\n",
       "| 2010 | H1496 | NA | NA | NA | NA | NA | NA | NA | 50.1251 | -125.0816 | NA | 18.0 | NA | NA | North Subtle Islands        | North East Gulf | NA          |\n",
       "| 2011 | H1496 | NA | NA | NA | NA | NA | NA | NA | 50.1251 | -125.0816 | NA | 13.5 | NA | NA | North Subtle Islands        | North East Gulf | NA          |\n",
       "| 2012 | H1496 | NA | NA | NA | NA | NA | NA | NA | 50.1251 | -125.0816 | NA |  9.0 | NA | NA | North Subtle Islands        | North East Gulf | NA          |\n",
       "| 2013 | H1496 | NA | NA | NA | NA | NA | NA | NA | 50.1251 | -125.0816 | NA |  4.5 | NA | NA | North Subtle Islands        | North East Gulf | NA          |\n",
       "| 2014 | H1496 | NA | NA | NA | NA | NA | NA | NA | 50.1251 | -125.0816 | NA |  0.0 | NA | NA | North Subtle Islands        | North East Gulf |  2014-08-10 |\n",
       "| 2014 | H1502 | NA | NA | NA | NA | NA | NA | NA | 49.0256 |  123.1308 | NA | 13.0 | NA | NA | Tswassen                    | Fraser River    |  2014-08-07 |\n",
       "| 2014 | H1503 | NA | NA | NA | NA | NA | NA | NA | 49.0406 |  123.2047 | NA | 24.0 | NA | NA | Central Roberts Bank Site L | Fraser River    |  2014-08-07 |\n",
       "| 2014 | H1504 | NA | NA | NA | NA | NA | NA | NA | 49.3396 |  123.3059 | NA | 20.0 | NA | NA | Passage Island              | Howe Sound      |  2014-08-07 |\n",
       "| 2014 | H1505 | NA | NA | NA | NA | NA | NA | NA | 49.4164 |  123.2355 | NA |  5.0 | NA | NA | Strip Creek                 | Howe Sound      |  2014-08-07 |\n",
       "| 2014 | H1506 | NA | NA | NA | NA | NA | NA | NA | 49.6295 |  124.0608 | NA |  7.0 | NA | NA | Williams Island             | North East Gulf |  2014-08-08 |\n",
       "| 2014 | H1507 | NA | NA | NA | NA | NA | NA | NA | 49.6294 |  124.0835 | NA | 15.0 | NA | NA | Pearson                     | North East Gulf |  2014-08-08 |\n",
       "| 2014 | H1508 | NA | NA | NA | NA | NA | NA | NA | 49.7218 |  124.2185 | NA |  9.0 | NA | NA | Oyster Island               | North East Gulf |  2014-08-08 |\n",
       "| 2014 | H1509 | NA | NA | NA | NA | NA | NA | NA | 49.7725 |  124.5743 | NA |  6.0 | NA | NA | Eagle Cove                  | North East Gulf |  2014-08-08 |\n",
       "| 2014 | H1510 | NA | NA | NA | NA | NA | NA | NA | 49.5116 |  124.1816 | NA | 11.0 | NA | NA | Southwest Texada Island B   | North East Gulf |  2014-08-08 |\n",
       "| 2014 | H1511 | NA | NA | NA | NA | NA | NA | NA | 49.4911 |  124.1784 | NA | 28.0 | NA | NA | Circle Island               | North East Gulf |  2014-08-08 |\n",
       "| 2014 | H1512 | NA | NA | NA | NA | NA | NA | NA | 49.5058 |  124.2576 | NA | 63.0 | NA | NA | Avery Reef                  | North East Gulf |  2014-08-08 |\n",
       "| 2014 | H1513 | NA | NA | NA | NA | NA | NA | NA | 49.6378 |  123.8466 | NA | 79.0 | NA | NA | Anderson Creek              | North East Gulf |  2014-08-22 |\n",
       "| 2014 | H1514 | NA | NA | NA | NA | NA | NA | NA | 49.6504 |  123.6731 | NA | 27.0 | NA | NA | Salmon Inlet                | North East Gulf |  2014-08-22 |\n",
       "| 2014 | H1515 | NA | NA | NA | NA | NA | NA | NA | 49.5348 |  123.7931 | NA | 35.0 | NA | NA | Carlson Point               | North East Gulf |  2014-08-22 |\n",
       "| 2014 | H1516 | NA | NA | NA | NA | NA | NA | NA | 49.5257 |  123.7950 | NA | 15.0 | NA | NA | Carlson Reef                | North East Gulf |  2014-08-22 |\n",
       "| 2014 | H1517 | NA | NA | NA | NA | NA | NA | NA | 49.7397 |  123.8989 | NA | 11.0 | NA | NA | Sechelt Islets              | North East Gulf |  2014-08-10 |\n",
       "| 2014 | H1518 | NA | NA | NA | NA | NA | NA | NA | 49.7888 |  123.9968 | NA | 35.0 | NA | NA | Captain Island              | North East Gulf |  2014-08-10 |\n",
       "| 2014 | H1519 | NA | NA | NA | NA | NA | NA | NA | 49.8166 |  124.0823 | NA | 36.0 | NA | NA | Sykes Island                | North East Gulf |  2014-08-10 |\n",
       "| 2014 | H1520 | NA | NA | NA | NA | NA | NA | NA | 50.0855 |  125.0293 | NA |  8.0 | NA | NA | Heather Islets              | North East Gulf |  2014-08-10 |\n",
       "| 2014 | H1521 | NA | NA | NA | NA | NA | NA | NA | 50.1455 |  125.1640 | NA | 21.0 | NA | NA | Dunsterville Islet          | North East Gulf |  2014-08-10 |\n",
       "| 2014 | H1522 | NA | NA | NA | NA | NA | NA | NA | 48.7799 |  123.5587 | NA | 14.0 | NA | NA | Sansum Point                | Gulf Islands    |  2014-08-22 |\n",
       "| 2014 | H1523 | NA | NA | NA | NA | NA | NA | NA | 48.9072 |  123.3595 | NA | 10.0 | NA | NA | Andaje Point                | Gulf Islands    |  2014-08-21 |\n",
       "| 2014 | H1524 | NA | NA | NA | NA | NA | NA | NA | 48.8576 |  123.3396 | NA | 10.0 | NA | NA | Mayne Island                | Gulf Islands    |  2014-08-21 |\n",
       "\n"
      ],
      "text/plain": [
       "      Date.1 Site.Key ï..Region.ID Region.Name Location Survey.Code Species Use\n",
       "1     1971   363      NA           NA          NA       NA          NA      NA \n",
       "2     1972   363      NA           NA          NA       NA          NA      NA \n",
       "3     1973   363      NA           NA          NA       NA          NA      NA \n",
       "4     1974   363      NA           NA          NA       NA          NA      NA \n",
       "5     1975   363      NA           NA          NA       NA          NA      NA \n",
       "6     1976   363      NA           NA          NA       NA          NA      NA \n",
       "7     1977   363      NA           NA          NA       NA          NA      NA \n",
       "8     1979   363      NA           NA          NA       NA          NA      NA \n",
       "9     1980   363      NA           NA          NA       NA          NA      NA \n",
       "10    1981   363      NA           NA          NA       NA          NA      NA \n",
       "11    1982   363      NA           NA          NA       NA          NA      NA \n",
       "12    1971   364      NA           NA          NA       NA          NA      NA \n",
       "13    1972   364      NA           NA          NA       NA          NA      NA \n",
       "14    1973   364      NA           NA          NA       NA          NA      NA \n",
       "15    1974   364      NA           NA          NA       NA          NA      NA \n",
       "16    1975   364      NA           NA          NA       NA          NA      NA \n",
       "17    1976   364      NA           NA          NA       NA          NA      NA \n",
       "18    1977   364      NA           NA          NA       NA          NA      NA \n",
       "19    1979   364      NA           NA          NA       NA          NA      NA \n",
       "20    1980   364      NA           NA          NA       NA          NA      NA \n",
       "21    1981   364      NA           NA          NA       NA          NA      NA \n",
       "22    1982   364      NA           NA          NA       NA          NA      NA \n",
       "23    1971   365      NA           NA          NA       NA          NA      NA \n",
       "24    1972   365      NA           NA          NA       NA          NA      NA \n",
       "25    1973   365      NA           NA          NA       NA          NA      NA \n",
       "26    1974   365      NA           NA          NA       NA          NA      NA \n",
       "27    1975   365      NA           NA          NA       NA          NA      NA \n",
       "28    1976   365      NA           NA          NA       NA          NA      NA \n",
       "29    1977   365      NA           NA          NA       NA          NA      NA \n",
       "30    1979   365      NA           NA          NA       NA          NA      NA \n",
       "...   ...    ...      ...          ...         ...      ...         ...     ...\n",
       "15789 2008   H1496    NA           NA          NA       NA          NA      NA \n",
       "15790 2009   H1496    NA           NA          NA       NA          NA      NA \n",
       "15791 2010   H1496    NA           NA          NA       NA          NA      NA \n",
       "15792 2011   H1496    NA           NA          NA       NA          NA      NA \n",
       "15793 2012   H1496    NA           NA          NA       NA          NA      NA \n",
       "15794 2013   H1496    NA           NA          NA       NA          NA      NA \n",
       "15795 2014   H1496    NA           NA          NA       NA          NA      NA \n",
       "15796 2014   H1502    NA           NA          NA       NA          NA      NA \n",
       "15797 2014   H1503    NA           NA          NA       NA          NA      NA \n",
       "15798 2014   H1504    NA           NA          NA       NA          NA      NA \n",
       "15799 2014   H1505    NA           NA          NA       NA          NA      NA \n",
       "15800 2014   H1506    NA           NA          NA       NA          NA      NA \n",
       "15801 2014   H1507    NA           NA          NA       NA          NA      NA \n",
       "15802 2014   H1508    NA           NA          NA       NA          NA      NA \n",
       "15803 2014   H1509    NA           NA          NA       NA          NA      NA \n",
       "15804 2014   H1510    NA           NA          NA       NA          NA      NA \n",
       "15805 2014   H1511    NA           NA          NA       NA          NA      NA \n",
       "15806 2014   H1512    NA           NA          NA       NA          NA      NA \n",
       "15807 2014   H1513    NA           NA          NA       NA          NA      NA \n",
       "15808 2014   H1514    NA           NA          NA       NA          NA      NA \n",
       "15809 2014   H1515    NA           NA          NA       NA          NA      NA \n",
       "15810 2014   H1516    NA           NA          NA       NA          NA      NA \n",
       "15811 2014   H1517    NA           NA          NA       NA          NA      NA \n",
       "15812 2014   H1518    NA           NA          NA       NA          NA      NA \n",
       "15813 2014   H1519    NA           NA          NA       NA          NA      NA \n",
       "15814 2014   H1520    NA           NA          NA       NA          NA      NA \n",
       "15815 2014   H1521    NA           NA          NA       NA          NA      NA \n",
       "15816 2014   H1522    NA           NA          NA       NA          NA      NA \n",
       "15817 2014   H1523    NA           NA          NA       NA          NA      NA \n",
       "15818 2014   H1524    NA           NA          NA       NA          NA      NA \n",
       "      weighting_GO Latitude Longitude yr_total_est_sanj Count    \n",
       "1     NA           48.74933 -122.8338 NA                 3.538125\n",
       "2     NA           48.74933 -122.8338 NA                 4.041470\n",
       "3     NA           48.74933 -122.8338 NA                 4.544815\n",
       "4     NA           48.74933 -122.8338 NA                 5.048159\n",
       "5     NA           48.74933 -122.8338 NA                 5.551504\n",
       "6     NA           48.74933 -122.8338 NA                 6.054849\n",
       "7     NA           48.74933 -122.8338 NA                 6.558194\n",
       "8     NA           48.74933 -122.8338 NA                 8.490659\n",
       "9     NA           48.74933 -122.8338 NA                 9.919780\n",
       "10    NA           48.74933 -122.8338 NA                11.348901\n",
       "11    NA           48.74933 -122.8338 NA                12.778022\n",
       "12    NA           48.74400 -122.8258 NA                 3.538125\n",
       "13    NA           48.74400 -122.8258 NA                 4.041470\n",
       "14    NA           48.74400 -122.8258 NA                 4.544815\n",
       "15    NA           48.74400 -122.8258 NA                 5.048159\n",
       "16    NA           48.74400 -122.8258 NA                 5.551504\n",
       "17    NA           48.74400 -122.8258 NA                 6.054849\n",
       "18    NA           48.74400 -122.8258 NA                 6.558194\n",
       "19    NA           48.74400 -122.8258 NA                 8.490659\n",
       "20    NA           48.74400 -122.8258 NA                 9.919780\n",
       "21    NA           48.74400 -122.8258 NA                11.348901\n",
       "22    NA           48.74400 -122.8258 NA                12.778022\n",
       "23    NA           48.74517 -122.8217 NA                 3.538125\n",
       "24    NA           48.74517 -122.8217 NA                 4.041470\n",
       "25    NA           48.74517 -122.8217 NA                 4.544815\n",
       "26    NA           48.74517 -122.8217 NA                 5.048159\n",
       "27    NA           48.74517 -122.8217 NA                 5.551504\n",
       "28    NA           48.74517 -122.8217 NA                 6.054849\n",
       "29    NA           48.74517 -122.8217 NA                 6.558194\n",
       "30    NA           48.74517 -122.8217 NA                 8.490659\n",
       "...   ...          ...      ...       ...               ...      \n",
       "15789 NA           50.1251  -125.0816 NA                27.0     \n",
       "15790 NA           50.1251  -125.0816 NA                22.5     \n",
       "15791 NA           50.1251  -125.0816 NA                18.0     \n",
       "15792 NA           50.1251  -125.0816 NA                13.5     \n",
       "15793 NA           50.1251  -125.0816 NA                 9.0     \n",
       "15794 NA           50.1251  -125.0816 NA                 4.5     \n",
       "15795 NA           50.1251  -125.0816 NA                 0.0     \n",
       "15796 NA           49.0256   123.1308 NA                13.0     \n",
       "15797 NA           49.0406   123.2047 NA                24.0     \n",
       "15798 NA           49.3396   123.3059 NA                20.0     \n",
       "15799 NA           49.4164   123.2355 NA                 5.0     \n",
       "15800 NA           49.6295   124.0608 NA                 7.0     \n",
       "15801 NA           49.6294   124.0835 NA                15.0     \n",
       "15802 NA           49.7218   124.2185 NA                 9.0     \n",
       "15803 NA           49.7725   124.5743 NA                 6.0     \n",
       "15804 NA           49.5116   124.1816 NA                11.0     \n",
       "15805 NA           49.4911   124.1784 NA                28.0     \n",
       "15806 NA           49.5058   124.2576 NA                63.0     \n",
       "15807 NA           49.6378   123.8466 NA                79.0     \n",
       "15808 NA           49.6504   123.6731 NA                27.0     \n",
       "15809 NA           49.5348   123.7931 NA                35.0     \n",
       "15810 NA           49.5257   123.7950 NA                15.0     \n",
       "15811 NA           49.7397   123.8989 NA                11.0     \n",
       "15812 NA           49.7888   123.9968 NA                35.0     \n",
       "15813 NA           49.8166   124.0823 NA                36.0     \n",
       "15814 NA           50.0855   125.0293 NA                 8.0     \n",
       "15815 NA           50.1455   125.1640 NA                21.0     \n",
       "15816 NA           48.7799   123.5587 NA                14.0     \n",
       "15817 NA           48.9072   123.3595 NA                10.0     \n",
       "15818 NA           48.8576   123.3396 NA                10.0     \n",
       "      yr_expanded_est X   Location.Value              Location.Info  \n",
       "1     NA              NA  NA                          NA             \n",
       "2     NA              NA  NA                          NA             \n",
       "3     NA              NA  NA                          NA             \n",
       "4     NA              NA  NA                          NA             \n",
       "5     NA              NA  NA                          NA             \n",
       "6     NA              NA  NA                          NA             \n",
       "7     NA              NA  NA                          NA             \n",
       "8     NA              NA  NA                          NA             \n",
       "9     NA              NA  NA                          NA             \n",
       "10    NA              NA  NA                          NA             \n",
       "11    NA              NA  NA                          NA             \n",
       "12    NA              NA  NA                          NA             \n",
       "13    NA              NA  NA                          NA             \n",
       "14    NA              NA  NA                          NA             \n",
       "15    NA              NA  NA                          NA             \n",
       "16    NA              NA  NA                          NA             \n",
       "17    NA              NA  NA                          NA             \n",
       "18    NA              NA  NA                          NA             \n",
       "19    NA              NA  NA                          NA             \n",
       "20    NA              NA  NA                          NA             \n",
       "21    NA              NA  NA                          NA             \n",
       "22    NA              NA  NA                          NA             \n",
       "23    NA              NA  NA                          NA             \n",
       "24    NA              NA  NA                          NA             \n",
       "25    NA              NA  NA                          NA             \n",
       "26    NA              NA  NA                          NA             \n",
       "27    NA              NA  NA                          NA             \n",
       "28    NA              NA  NA                          NA             \n",
       "29    NA              NA  NA                          NA             \n",
       "30    NA              NA  NA                          NA             \n",
       "...   ...             ... ...                         ...            \n",
       "15789 NA              NA  North Subtle Islands        North East Gulf\n",
       "15790 NA              NA  North Subtle Islands        North East Gulf\n",
       "15791 NA              NA  North Subtle Islands        North East Gulf\n",
       "15792 NA              NA  North Subtle Islands        North East Gulf\n",
       "15793 NA              NA  North Subtle Islands        North East Gulf\n",
       "15794 NA              NA  North Subtle Islands        North East Gulf\n",
       "15795 NA              NA  North Subtle Islands        North East Gulf\n",
       "15796 NA              NA  Tswassen                    Fraser River   \n",
       "15797 NA              NA  Central Roberts Bank Site L Fraser River   \n",
       "15798 NA              NA  Passage Island              Howe Sound     \n",
       "15799 NA              NA  Strip Creek                 Howe Sound     \n",
       "15800 NA              NA  Williams Island             North East Gulf\n",
       "15801 NA              NA  Pearson                     North East Gulf\n",
       "15802 NA              NA  Oyster Island               North East Gulf\n",
       "15803 NA              NA  Eagle Cove                  North East Gulf\n",
       "15804 NA              NA  Southwest Texada Island B   North East Gulf\n",
       "15805 NA              NA  Circle Island               North East Gulf\n",
       "15806 NA              NA  Avery Reef                  North East Gulf\n",
       "15807 NA              NA  Anderson Creek              North East Gulf\n",
       "15808 NA              NA  Salmon Inlet                North East Gulf\n",
       "15809 NA              NA  Carlson Point               North East Gulf\n",
       "15810 NA              NA  Carlson Reef                North East Gulf\n",
       "15811 NA              NA  Sechelt Islets              North East Gulf\n",
       "15812 NA              NA  Captain Island              North East Gulf\n",
       "15813 NA              NA  Sykes Island                North East Gulf\n",
       "15814 NA              NA  Heather Islets              North East Gulf\n",
       "15815 NA              NA  Dunsterville Islet          North East Gulf\n",
       "15816 NA              NA  Sansum Point                Gulf Islands   \n",
       "15817 NA              NA  Andaje Point                Gulf Islands   \n",
       "15818 NA              NA  Mayne Island                Gulf Islands   \n",
       "      Date       \n",
       "1     NA         \n",
       "2     NA         \n",
       "3     NA         \n",
       "4     NA         \n",
       "5     NA         \n",
       "6     NA         \n",
       "7     NA         \n",
       "8     NA         \n",
       "9     NA         \n",
       "10    NA         \n",
       "11    NA         \n",
       "12    NA         \n",
       "13    NA         \n",
       "14    NA         \n",
       "15    NA         \n",
       "16    NA         \n",
       "17    NA         \n",
       "18    NA         \n",
       "19    NA         \n",
       "20    NA         \n",
       "21    NA         \n",
       "22    NA         \n",
       "23    NA         \n",
       "24    NA         \n",
       "25    NA         \n",
       "26    NA         \n",
       "27    NA         \n",
       "28    NA         \n",
       "29    NA         \n",
       "30    NA         \n",
       "...   ...        \n",
       "15789  2008-08-15\n",
       "15790 NA         \n",
       "15791 NA         \n",
       "15792 NA         \n",
       "15793 NA         \n",
       "15794 NA         \n",
       "15795  2014-08-10\n",
       "15796  2014-08-07\n",
       "15797  2014-08-07\n",
       "15798  2014-08-07\n",
       "15799  2014-08-07\n",
       "15800  2014-08-08\n",
       "15801  2014-08-08\n",
       "15802  2014-08-08\n",
       "15803  2014-08-08\n",
       "15804  2014-08-08\n",
       "15805  2014-08-08\n",
       "15806  2014-08-08\n",
       "15807  2014-08-22\n",
       "15808  2014-08-22\n",
       "15809  2014-08-22\n",
       "15810  2014-08-22\n",
       "15811  2014-08-10\n",
       "15812  2014-08-10\n",
       "15813  2014-08-10\n",
       "15814  2014-08-10\n",
       "15815  2014-08-10\n",
       "15816  2014-08-22\n",
       "15817  2014-08-21\n",
       "15818  2014-08-21"
      ]
     },
     "metadata": {},
     "output_type": "display_data"
    }
   ],
   "source": [
    "#https://stackoverflow.com/questions/43501670/complete-column-with-group-by-and-complete/43501854\n",
    "all_years <- as_tibble(data.frame(\"Date.1\" = as.integer(c(1966,1967,1968,1969,1970,1971,1972,1973,1974,1975,1976,1977,1978,1979,1980,1981,1982,1983,1984,1985,1986,1987,1988,1989,1990,1991,1992,1993,1994,1995,1996,1997,1998,1999,2000,2001,2002,2003,2004,2005,2006,2007,2008,2009,2010,2011,2012,2013,2014,2015,2016,2017,2018))))\n",
    "\n",
    "# insert years / surveys for years in which there were no surveys\n",
    "hl_df_tibFixExtraYears <- all_years %>% left_join(h2_df_tibFixed, by = c(\"Date.1\")) \n",
    "hl_df_tibFixExtraYears\n",
    "\n",
    "hl_df_expandsurveys <- hl_df_tibFixExtraYears %>% \n",
    "    group_by(Date.1,Site.Key) %>% \n",
    "    summarise(count_number = n()) %>%\n",
    "    ungroup() %>%\n",
    "    complete(Date.1,Site.Key, fill = list(count_number = 1)) %>%\n",
    "    left_join(hl_df_tibFixExtraYears, by = c(\"Site.Key\",\"Date.1\")) \n",
    "\n",
    "# inspect one site - should have empty records for missing years\n",
    "hl_df_expandsurveys %>% filter(Site.Key == \"H0069\")\n",
    "\n",
    "SiteSurveyCounts <- hl_df_expandsurveys %>% \n",
    "   drop_na(Site.Key) %>%\n",
    "   group_by(Site.Key)  %>%\n",
    "   summarise(non_na_count = sum(!is.na(Count)))\n",
    "# if 1966 is NA set it to zero because interpolation needs a value there. \n",
    "   #mutate(x2 = na.approx(Count, Site.Key)) %>%\n",
    "   #arrange(Site.Key) %>%\n",
    "   #ungroup()\n",
    "\n",
    "# interpolate between years for those sites w/ more than one year w/ a survey\n",
    "hl_fg_tib_Interp <- hl_df_expandsurveys %>% left_join(SiteSurveyCounts, by = c(\"Site.Key\")) %>%\n",
    "   filter(non_na_count > 1) %>%\n",
    "   group_by(Site.Key) %>%\n",
    "   arrange(Site.Key,Date.1) %>%\n",
    "   mutate(x2 = na.approx(Count,x = Date.1, na.rm=FALSE)) %>%\n",
    "   rename(Count_old = Count) %>%\n",
    "   rename(Count = x2) %>%\n",
    "   ungroup()\n",
    "\n",
    "# join back the sites /w only one year survey\n",
    "hl_df_tibAllSurveys <- hl_df_expandsurveys %>% left_join(SiteSurveyCounts, by = c(\"Site.Key\")) %>%\n",
    "   filter(non_na_count == 1) %>%\n",
    "   filter(!is.na(Count)) %>%\n",
    "   bind_rows(hl_fg_tib_Interp) %>%\n",
    "   filter(!is.na(Count)) \n",
    "\n",
    "# get list of all unique sites\n",
    "tab_metadata <- hl_df_tibAllSurveys %>% distinct(Site.Key,Location.Value,Location.Info,Latitude,Longitude,.keep_all = FALSE) %>%\n",
    "    drop_na(Latitude) %>%\n",
    "    rename(LocInfo2 = Location.Info) %>%\n",
    "    rename(LocVal2 = Location.Value) %>%\n",
    "    rename(Lat2 = Latitude) %>%\n",
    "    rename(Lon2 = Longitude)\n",
    "\n",
    "hl_df_filledMetadata1 <- hl_df_tibAllSurveys %>% left_join(tab_metadata) %>%\n",
    "   filter(is.na(Location.Value) & is.na(Latitude)) %>%\n",
    "   mutate(Location.Value = LocVal2) %>%\n",
    "   mutate(Location.Info = LocInfo2) %>%\n",
    "   mutate(Latitude = Lat2) %>%\n",
    "   mutate(Longitude = Lon2)\n",
    "\n",
    "hl_df_filledMetadata <- hl_df_tibAllSurveys %>% \n",
    "   filter(!is.na(Location.Value) & !is.na(Latitude)) %>%\n",
    "   bind_rows(hl_df_filledMetadata1)\n",
    "\n",
    "hl_df_filledMetadata %>% group_by(Site.Key, Date.1) %>%\n",
    "   filter(n()>1)\n",
    "\n",
    "# final step\n",
    "# final table has interpolated counts between survey years\n",
    "\n",
    "# duplicates surveys of same site in one year - \n",
    "# fixing by taking mean value of all duplicates.\n",
    "# A few have slightly different coordinates\n",
    "# I did not inspect coordinate issues, kept the first record\n",
    "hl_df_wrangled <- hl_df_filledMetadata %>% distinct(Date.1, Site.Key, .keep_all = TRUE) %>%\n",
    "   arrange(Site.Key, Date.1) %>%\n",
    "   select(-one_of(c(\"LocVal2\",\"count_number\",\"Mean\",\"non_na_count\",\"Count_old\",\"LocInfo2\",\"Lat2\",\"Lon2\")))\n",
    "\n",
    "hl_df_wrangled"
   ]
  },
  {
   "cell_type": "code",
   "execution_count": 91,
   "metadata": {},
   "outputs": [
    {
     "data": {
      "image/png": "[encoded data removed]",
      "text/plain": [
       "plot without title"
      ]
     },
     "metadata": {},
     "output_type": "display_data"
    }
   ],
   "source": [
    "# Libraries\n",
    "library(ggplot2)\n",
    "\n",
    "# Plot\n",
    "hl_df_wrangled %>%\n",
    "  #filter(Region.Name == \"San Juan Islands: Rosario Strait\") %>%\n",
    "  ggplot( aes(x=Date.1, y=Count, group=\"Site.Key\", color=\"Site.Key\")) +\n",
    "  theme(legend.position=\"bottom\") +\n",
    "    geom_point()"
   ]
  },
  {
   "cell_type": "markdown",
   "metadata": {},
   "source": [
    "### 2) Spatial projections\n",
    "#### create spatial data frame from haulout locations\n",
    " <a class=\"anchor\" id=\"section-2\"></a>\n",
    "[BACK TO TOP](#top)"
   ]
  },
  {
   "cell_type": "code",
   "execution_count": 200,
   "metadata": {},
   "outputs": [
    {
     "data": {
      "image/png": "[encoded data removed]",
      "text/plain": [
       "plot without title"
      ]
     },
     "metadata": {},
     "output_type": "display_data"
    }
   ],
   "source": [
    "# fix the issues with positive longitudes\n",
    "#hl_pts$Longitude[hl_pts$Longitude > 0] <- #hl_pts$Longitude[hl_pts$Longitude > 0] * -1\n",
    "#plot(hl_pts$Longitude, hl_pts$Latitude)\n",
    "\n",
    "# fix issues with some points in wrong hemisphere\n",
    "hl_df2 <- hl_df_wrangled %>% mutate(Longitude = \n",
    "                               ifelse(Longitude>0, -Longitude, Longitude )\n",
    ")\n",
    "\n",
    "# create spatial pts object in lat / lon (sf R library)\n",
    "hl_pts3 <- hl_df2 %>%\n",
    "  st_as_sf(coords = c(\"Longitude\", \"Latitude\"), crs = 4326)\n",
    "\n",
    "#SpatialPointsDataFrame\n",
    "# tried this, but didn't work\n",
    "#hl_pts2 <- SpatialPointsDataFrame(coords=hl_pts$geometry,data=hl_pts)\n",
    "\n",
    "# reproject to BC Albers\n",
    "hl_pts_4326 <- hl_pts3 %>% st_set_crs(NA) %>% st_set_crs(4326)\n",
    "hl_pts_3005 <- hl_pts_4326 %>% st_transform(3005)\n",
    "#hl_pts_3005\n",
    "\n",
    "#plot the points\n",
    "world <- ne_countries(scale = \"medium\", returnclass = \"sf\")\n",
    "ggplot(data = world) +\n",
    "    geom_sf() +\n",
    "    geom_sf(data = hl_pts_3005, size = 1, shape = 1, color=alpha(\"black\",0.9)) + \n",
    "coord_sf(xlim = c(-121, -126), ylim = c(47, 52), expand = FALSE) #coord_sf(xlim = c(100, 140), ylim = c(45, 55), expand = FALSE)"
   ]
  },
  {
   "cell_type": "code",
   "execution_count": 93,
   "metadata": {},
   "outputs": [
    {
     "data": {
      "image/png": "[encoded data removed]",
      "text/plain": [
       "plot without title"
      ]
     },
     "metadata": {},
     "output_type": "display_data"
    }
   ],
   "source": [
    "#global view to check no points are way off\n",
    "world <- ne_countries(scale = \"medium\", returnclass = \"sf\")\n",
    "ggplot(data = world) +\n",
    "    geom_sf() +\n",
    "    geom_sf(data = hl_pts_3005, size = 1, shape = 1, color=alpha(\"red\",0.9))"
   ]
  },
  {
   "cell_type": "code",
   "execution_count": null,
   "metadata": {},
   "outputs": [],
   "source": [
    "# see Etten (2014) for example\n",
    "# create a raster from the Ecospace ASC\n",
    "# create transition matrix with raster\n",
    "# get nearesr marine cell row / col of ecospace map for each haulout\n",
    "\n",
    "\n",
    "# issue: our grid is rotated and gdistance might be making distance \n",
    "#        corrections assuming not rotated. "
   ]
  },
  {
   "cell_type": "code",
   "execution_count": null,
   "metadata": {},
   "outputs": [],
   "source": [
    "# NOT CURRENTLY USING THIS - 2022 - \n",
    "# using NEMO NetCDF instead"
   ]
  },
  {
   "cell_type": "code",
   "execution_count": 94,
   "metadata": {},
   "outputs": [
    {
     "data": {
      "text/plain": [
       "class      : RasterLayer \n",
       "dimensions : 151, 93, 14043  (nrow, ncol, ncell)\n",
       "resolution : 0.01417672, 0.01169338  (x, y)\n",
       "extent     : -124.5881, -123.2697, 48.54895, 50.31465  (xmin, xmax, ymin, ymax)\n",
       "crs        : +proj=longlat +datum=WGS84 +ellps=WGS84 +towgs84=0,0,0 \n",
       "source     : memory\n",
       "names      : layer \n",
       "values     : 0, 428  (min, max)\n"
      ]
     },
     "metadata": {},
     "output_type": "display_data"
    },
    {
     "data": {
      "image/png": "[encoded data removed]",
      "text/plain": [
       "Plot with title \"\""
      ]
     },
     "metadata": {},
     "output_type": "display_data"
    }
   ],
   "source": [
    "# read ecospace raster (2022)\n",
    "ecospace_file = \"C:/Users/Greig/Documents/GitHub/Ecosystem-Model-Data-Framework/data/basemap/ecospacedepthgrid.asc\"\n",
    "con = file(ecospace_file, \"r\")\n",
    "i = 0\n",
    "\n",
    "df1 <- read.table(ecospace_file, skip = 6, header = FALSE, sep = \"\")\n",
    "r_mat <- data.matrix(df1)\n",
    "# the values below determine the resolution using rows / cols. \n",
    "# because of the rotation I have chosen max and min from mid-points of rotated rectangular map\n",
    "r <- raster(r_mat,\n",
    "            xmn=-124.588135,\n",
    "            xmx=-123.2697,\n",
    "            ymn=48.54895,\n",
    "            ymx=50.314651,\n",
    "            crs=CRS(\"+proj=longlat +datum=WGS84\"))\n",
    "r\n",
    "plot(r, xlab=\"longs are wrong\", ylab=\"lats are wrong\") "
   ]
  },
  {
   "cell_type": "code",
   "execution_count": 95,
   "metadata": {},
   "outputs": [],
   "source": [
    "#calculate conductances hence 1/max(x)\n",
    "trans <- gdistance::transition(r, function(x) 1 / max(x), directions = 16)"
   ]
  },
  {
   "cell_type": "markdown",
   "metadata": {},
   "source": [
    "### Get basemap from bathymetry and fix issues\n",
    "#### check projections"
   ]
  },
  {
   "cell_type": "code",
   "execution_count": 115,
   "metadata": {},
   "outputs": [
    {
     "data": {
      "text/plain": [
       "class      : RasterLayer \n",
       "dimensions : 299, 132, 39468  (nrow, ncol, ncell)\n",
       "resolution : 2.274809, 1  (x, y)\n",
       "extent     : -0.1374046, 300.1374, 0.5, 299.5  (xmin, xmax, ymin, ymax)\n",
       "crs        : +proj=longlat +datum=WGS84 +ellps=WGS84 +towgs84=0,0,0 \n",
       "source     : C:/Users/Greig/Documents/GitHub/NEMO-Salish-Sea-2021/data/bathymetry/bathy_salishsea_20211130_1500m_20210706.nc \n",
       "names      : Bathymetry \n",
       "zvar       : Bathymetry \n"
      ]
     },
     "metadata": {},
     "output_type": "display_data"
    }
   ],
   "source": [
    "raster(ncfname,varname = \"Bathymetry\", xmn=min(\"nav_lon\"),xmx=max(\"nav_lon\"),ymn=min(\"nav_lat\"), ymx=max(\"nav_lat\"),crs=CRS(\"+proj=longlat +datum=WGS84\"))"
   ]
  },
  {
   "cell_type": "code",
   "execution_count": 120,
   "metadata": {},
   "outputs": [
    {
     "data": {
      "text/plain": [
       "File ../../NEMO-Salish-Sea-2021/data/bathymetry/bathy_salishsea_20211130_1500m_20210706.nc (NC_FORMAT_NETCDF4):\n",
       "\n",
       "     3 variables (excluding dimension variables):\n",
       "        float nav_lon[x,y]   (Chunking: [132,299])  (Compression: shuffle,level 4)\n",
       "            units: degrees_east\n",
       "        float nav_lat[x,y]   (Chunking: [132,299])  (Compression: shuffle,level 4)\n",
       "            units: degrees_north\n",
       "        double Bathymetry[x,y]   (Chunking: [132,299])  (Compression: shuffle,level 4)\n",
       "            _FillValue: 0\n",
       "            units: metres\n",
       "\n",
       "     2 dimensions:\n",
       "        x  Size:132\n",
       "        y  Size:299\n",
       "\n",
       "    1 global attributes:\n",
       "        _NCProperties: version=2,netcdf=4.7.2,hdf5=1.10.5"
      ]
     },
     "metadata": {},
     "output_type": "display_data"
    }
   ],
   "source": [
    "bathync"
   ]
  },
  {
   "cell_type": "code",
   "execution_count": 197,
   "metadata": {},
   "outputs": [
    {
     "data": {
      "text/html": [
       "<ol class=list-inline>\n",
       "\t<li>132</li>\n",
       "\t<li>299</li>\n",
       "</ol>\n"
      ],
      "text/latex": [
       "\\begin{enumerate*}\n",
       "\\item 132\n",
       "\\item 299\n",
       "\\end{enumerate*}\n"
      ],
      "text/markdown": [
       "1. 132\n",
       "2. 299\n",
       "\n",
       "\n"
      ],
      "text/plain": [
       "[1] 132 299"
      ]
     },
     "metadata": {},
     "output_type": "display_data"
    },
    {
     "data": {
      "text/html": [
       "<ol class=list-inline>\n",
       "\t<li>299</li>\n",
       "\t<li>132</li>\n",
       "</ol>\n"
      ],
      "text/latex": [
       "\\begin{enumerate*}\n",
       "\\item 299\n",
       "\\item 132\n",
       "\\end{enumerate*}\n"
      ],
      "text/markdown": [
       "1. 299\n",
       "2. 132\n",
       "\n",
       "\n"
      ],
      "text/plain": [
       "[1] 299 132"
      ]
     },
     "metadata": {},
     "output_type": "display_data"
    },
    {
     "data": {
      "text/plain": [
       "class      : RasterLayer \n",
       "dimensions : 299, 132, 39468  (nrow, ncol, ncell)\n",
       "resolution : 0.03825731, 0.01413907  (x, y)\n",
       "extent     : -126.3876, -121.3377, 46.86481, 51.0924  (xmin, xmax, ymin, ymax)\n",
       "crs        : +proj=longlat +ellps=WGS84 +datum=WGS84 +towgs84=0,0,0 \n",
       "source     : memory\n",
       "names      : layer \n",
       "values     : 1, 10000  (min, max)\n"
      ]
     },
     "metadata": {},
     "output_type": "display_data"
    },
    {
     "data": {
      "image/png": "[encoded data removed]",
      "text/plain": [
       "Plot with title \"\""
      ]
     },
     "metadata": {},
     "output_type": "display_data"
    },
    {
     "data": {
      "image/png": "[encoded data removed]",
      "text/plain": [
       "Plot with title \"\""
      ]
     },
     "metadata": {},
     "output_type": "display_data"
    }
   ],
   "source": [
    "# get the haulouts as geopackage (can also read shapefiles)\n",
    "#file_pts=\"temp/Haulouts.gpkg\"\n",
    "#file_pts=\"temp/Haulouts1974.gpkg\"\n",
    "#lyr=\"Haulouts\"\n",
    "#lyr=\"Haulouts1974\"\n",
    "#pnts <- readOGR(dsn=file_pts, layer=lyr)\n",
    "\n",
    "# did not use the 'costrastergen' function from ipdw\n",
    "# given that I already have a grid that's easy enough to use\n",
    "#pols <- readOGR(dsn=\"BCLand.shp.gpkg\")\n",
    "# this doesn't work (takes forever)\n",
    "#costras <- costrasterGen(pnts, pols, extent = \"pnts\",projstr = projection(pols))\n",
    "\n",
    "\n",
    "# 2022\n",
    "# Get bathymetry as .nc file and check\n",
    "ncfname <- paste(ncpath, ncname, \".nc\", sep=\"\")\n",
    "bathync <- nc_open(ncfname)\n",
    "\n",
    "nav_lat = ncvar_get(bathync, varid=\"nav_lat\")\n",
    "nav_lon = ncvar_get(bathync, varid=\"nav_lat\")\n",
    "max_y = max(ncvar_get(bathync, varid=\"nav_lat\"))\n",
    "min_y = min(ncvar_get(bathync, varid=\"nav_lat\"))\n",
    "max_x = max(ncvar_get(bathync, varid=\"nav_lon\"))\n",
    "min_x = min(ncvar_get(bathync, varid=\"nav_lon\"))\n",
    "\n",
    "bathy.array <- ncvar_get(bathync, \"Bathymetry\")\n",
    "fillvalue <- ncatt_get(bathync, \"Bathymetry\", \"_FillValue\")\n",
    "\n",
    "nc_close(bathync)\n",
    "\n",
    "bathy.array[bathy.array == fillvalue$value] <- NA\n",
    "\n",
    "# this is all a bunch of work to flip the dimensions (rotate the matrix) \n",
    "#  - why is it reading the NC file w/ x and y reversed??\n",
    "bathy_df = data.frame(bathy.array)\n",
    "r_mat <- data.matrix(bathy_df)\n",
    "dim(r_mat)\n",
    "foo <- apply(t(r_mat),2,rev)\n",
    "dim(foo)\n",
    "\n",
    "r <- raster(foo, xmn=min_x, xmx=max_x, \n",
    "            ymn=min_y, ymx=max_y, \n",
    "            crs=CRS(\"+proj=longlat +ellps=WGS84 +datum=WGS84 +no_defs+ towgs84=0,0,0\"))\n",
    "plot(r)\n",
    "\n",
    "# read the netcdf file as raster and create a copy to fiddle with\n",
    "# https://rspatial.org/raster/spatial/8-rastermanip.html\n",
    "#tmpin <- raster(ncfname,\n",
    "#                varname = \"Bathymetry\",\n",
    "#                xmn=min_x,\n",
    "#                xmx=max_x,\n",
    "#                ymn=min_y,\n",
    "#                ymx=max_y,\n",
    "#                crs=CRS(\"+proj=longlat +datum=WGS84\"))\n",
    "#tmpin\n",
    "\n",
    "x <- r\n",
    "\n",
    "# change the NA values to the raster to 10000 as a high 'cost'\n",
    "x[is.na(x[])] <- 10000\n",
    "# change all other values to 1\n",
    "x[x != 10000] <- 1\n",
    "\n",
    "x\n",
    "plot(x)"
   ]
  },
  {
   "cell_type": "markdown",
   "metadata": {},
   "source": [
    "## OLD CODE\n",
    "#### Prep Map Plot Display Libraries etc\n",
    "#### NOTE: the 'maxpixels' arg will simplify the raster and make it appear low res if it's set low"
   ]
  },
  {
   "cell_type": "code",
   "execution_count": 223,
   "metadata": {
    "scrolled": true
   },
   "outputs": [
    {
     "name": "stdout",
     "output_type": "stream",
     "text": [
      "[1] \"CRS of bathymetry:\"\n"
     ]
    },
    {
     "data": {
      "text/html": [
       "'+proj=longlat +ellps=WGS84 +datum=WGS84 +towgs84=0,0,0'"
      ],
      "text/latex": [
       "'+proj=longlat +ellps=WGS84 +datum=WGS84 +towgs84=0,0,0'"
      ],
      "text/markdown": [
       "'+proj=longlat +ellps=WGS84 +datum=WGS84 +towgs84=0,0,0'"
      ],
      "text/plain": [
       "[1] \"+proj=longlat +ellps=WGS84 +datum=WGS84 +towgs84=0,0,0\""
      ]
     },
     "metadata": {},
     "output_type": "display_data"
    },
    {
     "data": {
      "text/html": [
       "'+proj=aea +lat_1=50 +lat_2=58.5 +lat_0=45 +lon_0=-126 +x_0=1000000 +y_0=0 +ellps=GRS80 +towgs84=0,0,0,0,0,0,0 +units=m +no_defs'"
      ],
      "text/latex": [
       "'+proj=aea +lat\\_1=50 +lat\\_2=58.5 +lat\\_0=45 +lon\\_0=-126 +x\\_0=1000000 +y\\_0=0 +ellps=GRS80 +towgs84=0,0,0,0,0,0,0 +units=m +no\\_defs'"
      ],
      "text/markdown": [
       "'+proj=aea +lat_1=50 +lat_2=58.5 +lat_0=45 +lon_0=-126 +x_0=1000000 +y_0=0 +ellps=GRS80 +towgs84=0,0,0,0,0,0,0 +units=m +no_defs'"
      ],
      "text/plain": [
       "[1] \"+proj=aea +lat_1=50 +lat_2=58.5 +lat_0=45 +lon_0=-126 +x_0=1000000 +y_0=0 +ellps=GRS80 +towgs84=0,0,0,0,0,0,0 +units=m +no_defs\""
      ]
     },
     "metadata": {},
     "output_type": "display_data"
    },
    {
     "data": {
      "text/plain": [
       "class      : RasterLayer \n",
       "dimensions : 324, 148, 47952  (nrow, ncol, ncell)\n",
       "resolution : 2800, 1570  (x, y)\n",
       "extent     : 956303, 1370703, 191563.7, 700243.7  (xmin, xmax, ymin, ymax)\n",
       "crs        : +proj=aea +lat_1=50 +lat_2=58.5 +lat_0=45 +lon_0=-126 +x_0=1000000 +y_0=0 +ellps=GRS80 +towgs84=0,0,0,0,0,0,0 +units=m +no_defs \n",
       "source     : memory\n",
       "names      : layer \n",
       "values     : 1, 14646.69  (min, max)\n"
      ]
     },
     "metadata": {},
     "output_type": "display_data"
    },
    {
     "ename": "ERROR",
     "evalue": "Error: `data` must be a data frame, or other object coercible by `fortify()`, not an S4 object with class RasterLayer\n",
     "output_type": "error",
     "traceback": [
      "Error: `data` must be a data frame, or other object coercible by `fortify()`, not an S4 object with class RasterLayer\nTraceback:\n",
      "1. geom_tile(data = x, aes(x = x, y = y, fill = value), alpha = 0.5)",
      "2. layer(data = data, mapping = mapping, stat = stat, geom = GeomTile, \n .     position = position, show.legend = show.legend, inherit.aes = inherit.aes, \n .     params = list(linejoin = linejoin, na.rm = na.rm, ...))",
      "3. fortify(data)",
      "4. fortify.default(data)",
      "5. stop(msg, call. = FALSE)"
     ]
    }
   ],
   "source": [
    "# check projection\n",
    "crsBath <- projection(x)\n",
    "print(\"CRS of bathymetry:\")\n",
    "crsBath\n",
    "\n",
    "# check projection\n",
    "crsPts <- projection(hl_pts_3005)\n",
    "crsPts\n",
    "crs_aea =\"+proj=aea +lat_1=50 +lat_2=58.5 +lat_0=45 +lon_0=-126 +x_0=1000000 +y_0=0 +ellps=GRS80 +towgs84=0,0,0,0,0,0,0 +units=m +no_defs\"\n",
    "\n",
    "# the raster and pnts are unprojected (geo wgs84) \n",
    "# convert to albers equal area\n",
    "#s <- spTransform(hl_pts,crs_aea)\n",
    "#s\n",
    "\n",
    "# I'm not sure this works! Won't display on map if I do so. \n",
    "# May just be 'declaring projection'\n",
    "x2 <- projectRaster(x,crs=crs_aea)\n",
    "#x2 <- projectRaster(x,crs=3005)\n",
    "x2\n",
    "\n",
    "#x <- x2\n",
    "\n",
    "#plot(x2, main=\"Salish Sea\")\n",
    "#points(hl_pts_3005)\n",
    "##points(hl_pts_3005)\n",
    "\n",
    "# I got the crs projection info for aea from a geopackage\n",
    "#pols <- readOGR(dsn=\"temp/BCLand.shp.gpkg\")\n",
    "#crsPols <- projection(pols)\n",
    "#crsPols\n",
    "\n",
    "# Custom function to help display raster on map\n",
    "#\n",
    "# this function is custom from here: \n",
    "# https://stackoverflow.com/questions/48955504/how-to-overlay-a-transparent-raster-on-ggmap\n",
    "# \n",
    "#' Transform raster as data.frame to be later used with ggplot\n",
    "#' Modified from rasterVis::gplot\n",
    "#'\n",
    "#' @param x A Raster* object\n",
    "#' @param maxpixels Maximum number of pixels to use\n",
    "#'\n",
    "#' @details rasterVis::gplot is nice to plot a raster in a ggplot but\n",
    "#' if you want to plot different rasters on the same plot, you are stuck.\n",
    "#' If you want to add other information or transform your raster as a\n",
    "#' category raster, you can not do it. With `SDMSelect::gplot_data`, you retrieve your\n",
    "#' raster as a data.frame that can be modified as wanted using `dplyr` and\n",
    "#' then plot in `ggplot` using `geom_tile`.\n",
    "#' If Raster has levels, they will be joined to the final tibble.\n",
    "#'\n",
    "#' @export\n",
    "\n",
    "gplot_data <- function(x, maxpixels = 1000000)  {\n",
    "  x <- raster::sampleRegular(x, maxpixels, asRaster = TRUE)\n",
    "  coords <- raster::xyFromCell(x, seq_len(raster::ncell(x)))\n",
    "  ## Extract values\n",
    "  dat <- utils::stack(as.data.frame(raster::getValues(x)))\n",
    "  names(dat) <- c('value', 'variable')\n",
    "\n",
    "  dat <- dplyr::as.tbl(data.frame(coords, dat))\n",
    "\n",
    "  if (!is.null(levels(x))) {\n",
    "    dat <- dplyr::left_join(dat, levels(x)[[1]],\n",
    "                            by = c(\"value\" = \"ID\"))\n",
    "  }\n",
    "  dat\n",
    "}\n",
    "\n",
    "# transform raster to data frame for map display\n",
    "# (does not work if using gplot_data with x2, the attemped CRS 3005 raster)\n",
    "ss_ras_df <- gplot_data(x)\n",
    "\n",
    "world <- ne_countries(scale = \"medium\", returnclass = \"sf\")\n",
    "ggplot(data = world) +\n",
    "    geom_sf() +\n",
    "    geom_sf(data = hl_pts_3005, size = 1, shape = 1, color=alpha(\"red\",0.9)) + \n",
    "  geom_tile(data = ss_ras_df, \n",
    "            aes(x = x, y = y, fill = value), alpha=0.5) #+\n",
    "    coord_sf(xlim = c(-121, -126), ylim = c(47, 52), expand = FALSE) #coord_sf(xlim = c(100, 140), ylim = c(45, 55), expand = FALSE)"
   ]
  },
  {
   "cell_type": "markdown",
   "metadata": {},
   "source": [
    "### Re-Project Bathymetry"
   ]
  },
  {
   "cell_type": "code",
   "execution_count": 209,
   "metadata": {},
   "outputs": [
    {
     "name": "stdout",
     "output_type": "stream",
     "text": [
      "[1] \"CRS bathymetry before:\"\n"
     ]
    },
    {
     "data": {
      "text/html": [
       "'+proj=longlat +ellps=WGS84 +datum=WGS84 +towgs84=0,0,0'"
      ],
      "text/latex": [
       "'+proj=longlat +ellps=WGS84 +datum=WGS84 +towgs84=0,0,0'"
      ],
      "text/markdown": [
       "'+proj=longlat +ellps=WGS84 +datum=WGS84 +towgs84=0,0,0'"
      ],
      "text/plain": [
       "[1] \"+proj=longlat +ellps=WGS84 +datum=WGS84 +towgs84=0,0,0\""
      ]
     },
     "metadata": {},
     "output_type": "display_data"
    },
    {
     "name": "stdout",
     "output_type": "stream",
     "text": [
      "[1] \"CRS bathymetry after:\"\n"
     ]
    },
    {
     "data": {
      "text/html": [
       "'+proj=aea +lat_1=50 +lat_2=58.5 +lat_0=45 +lon_0=-126 +x_0=1000000 +y_0=0 +ellps=GRS80 +towgs84=0,0,0,0,0,0,0 +units=m +no_defs'"
      ],
      "text/latex": [
       "'+proj=aea +lat\\_1=50 +lat\\_2=58.5 +lat\\_0=45 +lon\\_0=-126 +x\\_0=1000000 +y\\_0=0 +ellps=GRS80 +towgs84=0,0,0,0,0,0,0 +units=m +no\\_defs'"
      ],
      "text/markdown": [
       "'+proj=aea +lat_1=50 +lat_2=58.5 +lat_0=45 +lon_0=-126 +x_0=1000000 +y_0=0 +ellps=GRS80 +towgs84=0,0,0,0,0,0,0 +units=m +no_defs'"
      ],
      "text/plain": [
       "[1] \"+proj=aea +lat_1=50 +lat_2=58.5 +lat_0=45 +lon_0=-126 +x_0=1000000 +y_0=0 +ellps=GRS80 +towgs84=0,0,0,0,0,0,0 +units=m +no_defs\""
      ]
     },
     "metadata": {},
     "output_type": "display_data"
    },
    {
     "name": "stdout",
     "output_type": "stream",
     "text": [
      "[1] \"CRS haulouts before:\"\n"
     ]
    },
    {
     "data": {
      "text/html": [
       "'+proj=aea +lat_1=50 +lat_2=58.5 +lat_0=45 +lon_0=-126 +x_0=1000000 +y_0=0 +ellps=GRS80 +towgs84=0,0,0,0,0,0,0 +units=m +no_defs'"
      ],
      "text/latex": [
       "'+proj=aea +lat\\_1=50 +lat\\_2=58.5 +lat\\_0=45 +lon\\_0=-126 +x\\_0=1000000 +y\\_0=0 +ellps=GRS80 +towgs84=0,0,0,0,0,0,0 +units=m +no\\_defs'"
      ],
      "text/markdown": [
       "'+proj=aea +lat_1=50 +lat_2=58.5 +lat_0=45 +lon_0=-126 +x_0=1000000 +y_0=0 +ellps=GRS80 +towgs84=0,0,0,0,0,0,0 +units=m +no_defs'"
      ],
      "text/plain": [
       "[1] \"+proj=aea +lat_1=50 +lat_2=58.5 +lat_0=45 +lon_0=-126 +x_0=1000000 +y_0=0 +ellps=GRS80 +towgs84=0,0,0,0,0,0,0 +units=m +no_defs\""
      ]
     },
     "metadata": {},
     "output_type": "display_data"
    }
   ],
   "source": [
    "# must work with certain data types and projections\n",
    "# reproject original raster\n",
    "crs_aea =\"+proj=aea +lat_1=50 +lat_2=58.5 +lat_0=45 +lon_0=-126 +x_0=1000000 +y_0=0 +ellps=GRS80 +towgs84=0,0,0,0,0,0,0 +units=m +no_defs\"\n",
    "x2 <- projectRaster(x,crs=crs_aea)\n",
    "\n",
    "crsBathx <- projection(x)\n",
    "print(\"CRS bathymetry before:\")\n",
    "crsBathx\n",
    "\n",
    "crsBathx2 <- projection(x2)\n",
    "print(\"CRS bathymetry after:\")\n",
    "crsBathx2\n",
    "\n",
    "\n",
    "crsBathPts <- projection(hl_pts_3005)\n",
    "print(\"CRS haulouts before:\")\n",
    "crsBathPts\n",
    "\n",
    "#reproject original points\n",
    "#s <- spTransform(hl_pts3,crs_aea)\n",
    "#s\n",
    "\n",
    "#crsBathxPts2 <- projection(s)\n",
    "#print(\"CRS haulouts after:\")\n",
    "#crsBathPts2"
   ]
  },
  {
   "cell_type": "markdown",
   "metadata": {},
   "source": [
    "### Set raster cells with haulouts as 'water'"
   ]
  },
  {
   "cell_type": "code",
   "execution_count": 224,
   "metadata": {},
   "outputs": [
    {
     "data": {
      "image/png": "[encoded data removed]",
      "text/plain": [
       "Plot with title \"layer\""
      ]
     },
     "metadata": {},
     "output_type": "display_data"
    }
   ],
   "source": [
    "# check that costs of travel across map are either 10,000 (land) or 1 (water)\n",
    "hist(x2)"
   ]
  },
  {
   "cell_type": "markdown",
   "metadata": {},
   "source": [
    "#### Fix issues due to reprojection process"
   ]
  },
  {
   "cell_type": "code",
   "execution_count": 213,
   "metadata": {},
   "outputs": [],
   "source": [
    "s1 <- hl_pts_3005\n",
    "\n",
    "#s1@data[\"count\"] <- 1 #for testing\n",
    "#s1@data\n",
    "\n",
    "# set 'cost' to 1 for all cells with a haulout\n",
    "# need further edits to ensure seals can make it out of landlocked cells\n",
    "ii <- raster::extract(x2, s1, cellnumbers=TRUE)[,\"cells\"]\n",
    "x2[ii] <- 1\n",
    "\n",
    "# problem fix: \n",
    "# - the unique values of x2 are not 1 and 10000 anymore due to reprojection process\n",
    "x2[x2 < 5000] <- 1\n",
    "x2[x2 >= 5000] <- 10000\n"
   ]
  },
  {
   "cell_type": "markdown",
   "metadata": {},
   "source": [
    "#### Exported raster and haulout points to QGIS, created points to connect some haulouts to water"
   ]
  },
  {
   "cell_type": "code",
   "execution_count": 214,
   "metadata": {
    "scrolled": true
   },
   "outputs": [
    {
     "name": "stderr",
     "output_type": "stream",
     "text": [
      "Warning message in abbreviate(fld_names, minlength = 7):\n",
      "\"abbreviate used with non-ASCII chars\"Warning message in abbreviate_shapefile_names(obj):\n",
      "\"Field names abbreviated for ESRI Shapefile driver\""
     ]
    },
    {
     "name": "stdout",
     "output_type": "stream",
     "text": [
      "Writing layer `tmp_haulouts_2022' to data source `tmp_haulouts_2022.shp' using driver `ESRI Shapefile'\n",
      "Writing 692 features with 16 fields and geometry type Point.\n"
     ]
    }
   ],
   "source": [
    "# fix haulout raster cells that are still landlocks\n",
    "# (in some cases, the haulout locations are landlocked by more than one cell)\n",
    "# I manually created this list using QGIS\n",
    "raster::writeRaster(x2,filename = \"tmp_costraster_2022\",format=\"GTiff\", overwrite = TRUE, NAflag = -9999)  \n",
    "\n",
    "# filter only unique haulout locations\n",
    "s2 <- hl_pts_3005 %>% distinct(Site.Key, .keep_all = TRUE)\n",
    "st_write(s2, \"tmp_haulouts_2022.shp\", delete_layer = TRUE) # overwrites"
   ]
  },
  {
   "cell_type": "markdown",
   "metadata": {},
   "source": [
    "#### Import the points representing paths to water and apply to cost raster"
   ]
  },
  {
   "cell_type": "code",
   "execution_count": 217,
   "metadata": {},
   "outputs": [],
   "source": [
    "# read the 'paths to water' point shapefile, created manually in QGIS\n",
    "# use points to set cost raster values to '1'\n",
    "pathsFix_df <- read.csv(\"C:/Users/Greig/Sync/6. SSMSP Model/Model Greig/Data/2. Seals/_MODEL_seal_HabCap/PathsToWater2022_2.csv\")\n",
    "# create spatial pts object in lat / lon (sf R library)\n",
    "pathsFix_df2 <- pathsFix_df %>% st_as_sf(coords = c(\"X\", \"Y\"), crs = 4326)\n",
    "\n",
    "# reproject to BC Albers\n",
    "pathsFix_4326 <- pathsFix_df2 %>% st_set_crs(NA) %>% st_set_crs(4326)\n",
    "pathsFix_3005 <- pathsFix_4326 %>% st_transform(3005)\n",
    "\n",
    "# set 'cost' to 1 for all cells with a haulout\n",
    "# need further edits to ensure seals can make it out of landlocked cells\n",
    "ii <- raster::extract(x2, pathsFix_3005, cellnumbers=TRUE)[,\"cells\"]\n",
    "x2[ii] <- 1"
   ]
  },
  {
   "cell_type": "markdown",
   "metadata": {},
   "source": [
    "#### Check that costs are still 10000 (land) or 1 (water)"
   ]
  },
  {
   "cell_type": "code",
   "execution_count": 218,
   "metadata": {},
   "outputs": [
    {
     "data": {
      "text/html": [
       "<ol class=list-inline>\n",
       "\t<li>1</li>\n",
       "\t<li>10000</li>\n",
       "</ol>\n"
      ],
      "text/latex": [
       "\\begin{enumerate*}\n",
       "\\item 1\n",
       "\\item 10000\n",
       "\\end{enumerate*}\n"
      ],
      "text/markdown": [
       "1. 1\n",
       "2. 10000\n",
       "\n",
       "\n"
      ],
      "text/plain": [
       "[1]     1 10000"
      ]
     },
     "metadata": {},
     "output_type": "display_data"
    }
   ],
   "source": [
    "unique(x2)"
   ]
  },
  {
   "cell_type": "markdown",
   "metadata": {},
   "source": [
    "### 3) Interpolation\n",
    "##### Transition matrix\n",
    " <a class=\"anchor\" id=\"section-3\"></a>\n",
    "[BACK TO TOP](#top)"
   ]
  },
  {
   "cell_type": "code",
   "execution_count": 227,
   "metadata": {},
   "outputs": [],
   "source": [
    "# below drawn from ipdw source code\n",
    "# https://github.com/jsta/ipdw/blob/master/R/pathdistGen.R\n",
    "\n",
    "# (1) calculates the cost to get anywhere from a point on the map\n",
    "# RANGE = Maximum Foraging Distance (in bathy raster / map units of meters)\n",
    "range = 40000 \n",
    "costras = x2\n",
    "spdf = s1\n",
    "ipdw_range <- range / raster::res(costras)[1] # range in map units\n",
    "# note the cells are not perfectly 500 m, so the ipdw_range is not as expected\n",
    "  \n",
    "#start interpolation\n",
    "#calculate conductances hence 1/max(x)\n",
    "trans <- gdistance::transition(costras, function(x) 1 / max(x), directions = 16)\n",
    "# (note - GLO - low conductances = high cost of travel)\n",
    "\n",
    "# NOTES - GLO\n",
    "# in transition, users define a function f(i,j) to calculate the transition value for each pair of adjacent cells \n",
    "# i and j\" (quoting from https://cran.r-project.org/web/packages/gdistance/vignettes/gdistance1.pdf)\n",
    "# also see https://gis.stackexchange.com/questions/280593/understanding-the-values-from-transition-layers-produced-by-the-r-package-gdist"
   ]
  },
  {
   "cell_type": "code",
   "execution_count": 228,
   "metadata": {},
   "outputs": [
    {
     "data": {
      "text/plain": [
       "class      : TransitionLayer \n",
       "dimensions : 324, 148, 47952  (nrow, ncol, ncell)\n",
       "resolution : 2800, 1570  (x, y)\n",
       "extent     : 956303, 1370703, 191563.7, 700243.7  (xmin, xmax, ymin, ymax)\n",
       "crs        : +proj=aea +lat_1=50 +lat_2=58.5 +lat_0=45 +lon_0=-126 +x_0=1000000 +y_0=0 +ellps=GRS80 +towgs84=0,0,0,0,0,0,0 +units=m +no_defs \n",
       "values      : conductance \n",
       "matrix class: dsCMatrix "
      ]
     },
     "metadata": {},
     "output_type": "display_data"
    }
   ],
   "source": [
    "trans"
   ]
  },
  {
   "cell_type": "code",
   "execution_count": 220,
   "metadata": {},
   "outputs": [],
   "source": [
    "# OLD CODE \n",
    "\n",
    "# problem is haulouts object is 'sf' and I need 'spdf'\n",
    "#  - https://gis.stackexchange.com/questions/239118/r-convert-sf-object-back-to-spatialpolygonsdataframe\n",
    "\n",
    "#haulouts@data$Count\n",
    "\n",
    "#spdf$Count2 <- (as.numeric(as.character(spdf$Count)))\n",
    "#haulouts <- as(spdf,\"Spatial\")\n",
    "#haulouts <- (haulouts[\"Count2\"])\n",
    "#haulouts <- haulouts[2,]\n",
    "#haulouts\n",
    "\n",
    "#seals = as.numeric(as.character(haulouts$Count))\n",
    "#seals\n",
    "#haulouts[\"Count\"] <- as.numeric(as.character(haulouts@data$Count))\n"
   ]
  },
  {
   "cell_type": "code",
   "execution_count": 221,
   "metadata": {},
   "outputs": [],
   "source": [
    "#paramlist <- c(\"Count2\")\n",
    "#final.ipdw <- ipdw(haulouts, costras, range = range, paramlist,\n",
    "                                   #  overlapped = TRUE)\n",
    "#pathdistanceraster <- pathdistGen(haulouts, costras, range, yearmon = \"default\", progressbar = TRUE)\n",
    "#raster::writeRaster(pathdistanceraster,filename = \"tmp_pathdist\",format=\"GTiff\", overwrite = TRUE, NAflag = -9999) "
   ]
  },
  {
   "cell_type": "code",
   "execution_count": 229,
   "metadata": {},
   "outputs": [
    {
     "data": {
      "text/html": [
       "14.2857142857143"
      ],
      "text/latex": [
       "14.2857142857143"
      ],
      "text/markdown": [
       "14.2857142857143"
      ],
      "text/plain": [
       "[1] 14.28571"
      ]
     },
     "metadata": {},
     "output_type": "display_data"
    }
   ],
   "source": [
    "ipdw_range"
   ]
  },
  {
   "cell_type": "code",
   "execution_count": 19,
   "metadata": {},
   "outputs": [],
   "source": [
    "# plot the transitionlayer\n",
    "#plot(raster(trans))\n",
    "\n",
    "# NOTE - GLO\n",
    "# Not meant to be visualized as it is a multidimensional matrix\n",
    "# transitionlayers when converted to raster are essentially averaging \n",
    "# the cost to all adjacent cells, for each cell"
   ]
  },
  {
   "cell_type": "code",
   "execution_count": null,
   "metadata": {},
   "outputs": [],
   "source": []
  },
  {
   "cell_type": "markdown",
   "metadata": {},
   "source": [
    "## 5) Test interpolation method "
   ]
  },
  {
   "cell_type": "code",
   "execution_count": 230,
   "metadata": {},
   "outputs": [],
   "source": [
    "# TEST - create cost surface for a point\n",
    "#    spdf needs to be sf\n",
    "coord <- st_coordinates(spdf[1,])\n",
    "costsurf <- gdistance::accCost(trans, coord)\n",
    "\n",
    "#    added by GLO to set to NA any cells outside the range\n",
    "costsurf <- calc(costsurf, fun=function(x){ x[x > ipdw_range] <- NA; return(x)} )"
   ]
  },
  {
   "cell_type": "code",
   "execution_count": 231,
   "metadata": {},
   "outputs": [],
   "source": [
    "#raster::writeRaster(trans,filename = \"tmp_transrast\",format=\"GTiff\", overwrite = TRUE, NAflag = -9999)  \n",
    "raster::writeRaster(costsurf,filename = \"tmp_costsurf\",format=\"GTiff\", overwrite = TRUE, NAflag = -9999)  \n",
    "#raster::writeRaster(x2,filename = \"tmp_costras\",format=\"GTiff\", overwrite = TRUE, NAflag = -9999)"
   ]
  },
  {
   "cell_type": "markdown",
   "metadata": {},
   "source": [
    "### Tests - plot and ggplot of one seal haulout distance / cost surface"
   ]
  },
  {
   "cell_type": "code",
   "execution_count": 232,
   "metadata": {
    "scrolled": true
   },
   "outputs": [
    {
     "data": {
      "image/png": "[encoded data removed]",
      "text/plain": [
       "Plot with title \"\""
      ]
     },
     "metadata": {},
     "output_type": "display_data"
    }
   ],
   "source": [
    "plot(costsurf)\n",
    "points(st_coordinates(spdf[1,]))"
   ]
  },
  {
   "cell_type": "markdown",
   "metadata": {},
   "source": [
    "#### Visualize using ggplot library "
   ]
  },
  {
   "cell_type": "code",
   "execution_count": 233,
   "metadata": {},
   "outputs": [
    {
     "data": {
      "image/png": "[encoded data removed]",
      "text/plain": [
       "plot without title"
      ]
     },
     "metadata": {},
     "output_type": "display_data"
    }
   ],
   "source": [
    "ss_ras_costsurf <- gplot_data(costsurf)\n",
    "\n",
    "ggplot() +\n",
    "geom_raster(data = ss_ras_costsurf,\n",
    "    aes(x = x, y = y,\n",
    "    fill = value)) +\n",
    "coord_quickmap()"
   ]
  },
  {
   "cell_type": "code",
   "execution_count": 234,
   "metadata": {
    "scrolled": true
   },
   "outputs": [
    {
     "data": {
      "image/png": "[encoded data removed]",
      "text/plain": [
       "plot without title"
      ]
     },
     "metadata": {},
     "output_type": "display_data"
    }
   ],
   "source": [
    "# reproject raster for display\n",
    "# NOTE - GLO - \n",
    "#\" it is generally not a good idea to use projectRaster with a crs= argument. \n",
    "# It is better to provide a Raster* object as template to project to\"\n",
    "# https://stackoverflow.com/questions/51137838/raster-projection-to-utm-to-lat-lon-in-r\n",
    "# https://spatialreference.org/ref/epsg/3005/proj4/\n",
    "#\n",
    "costsurf_4326 <- projectRaster(costsurf,x)\n",
    "\n",
    "# transform raster to data frame for map display\n",
    "# (does not work if using gplot_data with x2, the attemped CRS 3005 raster)\n",
    "ss_ras_costsurf <- gplot_data(costsurf_4326)\n",
    "\n",
    "ggplot(data = world) +\n",
    "    geom_sf(data = spdf[1,], size = 1, shape = 1, color=alpha(\"red\",0.9)) + \n",
    "    geom_tile(data = ss_ras_costsurf, \n",
    "            aes(x = x, y = y, fill = value), alpha=0.5) +\n",
    "    coord_sf(xlim = c(-125, -122.5), ylim = c(47.2, 49.5), expand = FALSE) #coord_sf(xlim = c(100, 140), ylim = c(45, 55), expand = FALSE)"
   ]
  },
  {
   "cell_type": "code",
   "execution_count": 235,
   "metadata": {},
   "outputs": [],
   "source": [
    "x_ipdw <- 1/costsurf\n",
    "\n",
    "# (5) # fix na's and infinite values\n",
    "x_ipdw[is.infinite(x_ipdw[])] <- 1\n",
    "x_ipdw[is.na(x_ipdw)] <- 0\n"
   ]
  },
  {
   "cell_type": "code",
   "execution_count": 239,
   "metadata": {},
   "outputs": [
    {
     "data": {
      "image/png": "[encoded data removed]",
      "text/plain": [
       "plot without title"
      ]
     },
     "metadata": {},
     "output_type": "display_data"
    }
   ],
   "source": [
    "costsurf_4326 <- projectRaster(x_ipdw,x)\n",
    "\n",
    "# transform raster to data frame for map display\n",
    "# (does not work if using gplot_data with x2, the attemped CRS 3005 raster)\n",
    "ss_ras_costsurf <- gplot_data(costsurf_4326)\n",
    "\n",
    "ggplot(data = world) +\n",
    "    geom_sf(data = spdf[1,], size = 2, shape = 1, color=alpha(\"red\",1)) + \n",
    "    geom_tile(data = ss_ras_costsurf, \n",
    "            aes(x = x, y = y, fill = value), alpha=0.9) #+\n",
    "    #coord_sf(xlim = c(-125, -126), ylim = c(50, 50.6), expand = FALSE) #coord_sf(xlim = c(100, 140), ylim = c(45, 55), expand = FALSE)"
   ]
  },
  {
   "cell_type": "markdown",
   "metadata": {},
   "source": [
    "### Get Unique years to loop through"
   ]
  },
  {
   "cell_type": "code",
   "execution_count": null,
   "metadata": {},
   "outputs": [],
   "source": []
  },
  {
   "cell_type": "code",
   "execution_count": 240,
   "metadata": {},
   "outputs": [
    {
     "data": {
      "text/html": [
       "<ol class=list-inline>\n",
       "\t<li>'1966'</li>\n",
       "\t<li>'1967'</li>\n",
       "\t<li>'1968'</li>\n",
       "\t<li>'1969'</li>\n",
       "\t<li>'1970'</li>\n",
       "\t<li>'1971'</li>\n",
       "\t<li>'1972'</li>\n",
       "\t<li>'1973'</li>\n",
       "\t<li>'1974'</li>\n",
       "\t<li>'1975'</li>\n",
       "\t<li>'1976'</li>\n",
       "\t<li>'1977'</li>\n",
       "\t<li>'1978'</li>\n",
       "\t<li>'1979'</li>\n",
       "\t<li>'1980'</li>\n",
       "\t<li>'1981'</li>\n",
       "\t<li>'1982'</li>\n",
       "\t<li>'1983'</li>\n",
       "\t<li>'1984'</li>\n",
       "\t<li>'1985'</li>\n",
       "\t<li>'1986'</li>\n",
       "\t<li>'1987'</li>\n",
       "\t<li>'1988'</li>\n",
       "\t<li>'1989'</li>\n",
       "\t<li>'1990'</li>\n",
       "\t<li>'1991'</li>\n",
       "\t<li>'1992'</li>\n",
       "\t<li>'1993'</li>\n",
       "\t<li>'1994'</li>\n",
       "\t<li>'1995'</li>\n",
       "\t<li>'1996'</li>\n",
       "\t<li>'1997'</li>\n",
       "\t<li>'1998'</li>\n",
       "\t<li>'1999'</li>\n",
       "\t<li>'2000'</li>\n",
       "\t<li>'2001'</li>\n",
       "\t<li>'2002'</li>\n",
       "\t<li>'2003'</li>\n",
       "\t<li>'2004'</li>\n",
       "\t<li>'2005'</li>\n",
       "\t<li>'2006'</li>\n",
       "\t<li>'2007'</li>\n",
       "\t<li>'2008'</li>\n",
       "\t<li>'2009'</li>\n",
       "\t<li>'2010'</li>\n",
       "\t<li>'2011'</li>\n",
       "\t<li>'2012'</li>\n",
       "\t<li>'2013'</li>\n",
       "\t<li>'2014'</li>\n",
       "</ol>\n"
      ],
      "text/latex": [
       "\\begin{enumerate*}\n",
       "\\item '1966'\n",
       "\\item '1967'\n",
       "\\item '1968'\n",
       "\\item '1969'\n",
       "\\item '1970'\n",
       "\\item '1971'\n",
       "\\item '1972'\n",
       "\\item '1973'\n",
       "\\item '1974'\n",
       "\\item '1975'\n",
       "\\item '1976'\n",
       "\\item '1977'\n",
       "\\item '1978'\n",
       "\\item '1979'\n",
       "\\item '1980'\n",
       "\\item '1981'\n",
       "\\item '1982'\n",
       "\\item '1983'\n",
       "\\item '1984'\n",
       "\\item '1985'\n",
       "\\item '1986'\n",
       "\\item '1987'\n",
       "\\item '1988'\n",
       "\\item '1989'\n",
       "\\item '1990'\n",
       "\\item '1991'\n",
       "\\item '1992'\n",
       "\\item '1993'\n",
       "\\item '1994'\n",
       "\\item '1995'\n",
       "\\item '1996'\n",
       "\\item '1997'\n",
       "\\item '1998'\n",
       "\\item '1999'\n",
       "\\item '2000'\n",
       "\\item '2001'\n",
       "\\item '2002'\n",
       "\\item '2003'\n",
       "\\item '2004'\n",
       "\\item '2005'\n",
       "\\item '2006'\n",
       "\\item '2007'\n",
       "\\item '2008'\n",
       "\\item '2009'\n",
       "\\item '2010'\n",
       "\\item '2011'\n",
       "\\item '2012'\n",
       "\\item '2013'\n",
       "\\item '2014'\n",
       "\\end{enumerate*}\n"
      ],
      "text/markdown": [
       "1. '1966'\n",
       "2. '1967'\n",
       "3. '1968'\n",
       "4. '1969'\n",
       "5. '1970'\n",
       "6. '1971'\n",
       "7. '1972'\n",
       "8. '1973'\n",
       "9. '1974'\n",
       "10. '1975'\n",
       "11. '1976'\n",
       "12. '1977'\n",
       "13. '1978'\n",
       "14. '1979'\n",
       "15. '1980'\n",
       "16. '1981'\n",
       "17. '1982'\n",
       "18. '1983'\n",
       "19. '1984'\n",
       "20. '1985'\n",
       "21. '1986'\n",
       "22. '1987'\n",
       "23. '1988'\n",
       "24. '1989'\n",
       "25. '1990'\n",
       "26. '1991'\n",
       "27. '1992'\n",
       "28. '1993'\n",
       "29. '1994'\n",
       "30. '1995'\n",
       "31. '1996'\n",
       "32. '1997'\n",
       "33. '1998'\n",
       "34. '1999'\n",
       "35. '2000'\n",
       "36. '2001'\n",
       "37. '2002'\n",
       "38. '2003'\n",
       "39. '2004'\n",
       "40. '2005'\n",
       "41. '2006'\n",
       "42. '2007'\n",
       "43. '2008'\n",
       "44. '2009'\n",
       "45. '2010'\n",
       "46. '2011'\n",
       "47. '2012'\n",
       "48. '2013'\n",
       "49. '2014'\n",
       "\n",
       "\n"
      ],
      "text/plain": [
       " [1] \"1966\" \"1967\" \"1968\" \"1969\" \"1970\" \"1971\" \"1972\" \"1973\" \"1974\" \"1975\"\n",
       "[11] \"1976\" \"1977\" \"1978\" \"1979\" \"1980\" \"1981\" \"1982\" \"1983\" \"1984\" \"1985\"\n",
       "[21] \"1986\" \"1987\" \"1988\" \"1989\" \"1990\" \"1991\" \"1992\" \"1993\" \"1994\" \"1995\"\n",
       "[31] \"1996\" \"1997\" \"1998\" \"1999\" \"2000\" \"2001\" \"2002\" \"2003\" \"2004\" \"2005\"\n",
       "[41] \"2006\" \"2007\" \"2008\" \"2009\" \"2010\" \"2011\" \"2012\" \"2013\" \"2014\""
      ]
     },
     "metadata": {},
     "output_type": "display_data"
    }
   ],
   "source": [
    "# get unique years (r language = year 'levels')\n",
    "#y_unique <-unique(format(as.Date(spdf$Date.1, format=\"%Y-%m-%d\"),\"%Y\"))\n",
    "y_unique <-unique(format(spdf$Date.1))\n",
    "\n",
    "# NOTE - GLO \n",
    "# https://stackoverflow.com/questions/24783860/loop-over-unique-values-r\n",
    "\n",
    "#TEST\n",
    "y = 0\n",
    "#for (y in 1:length(y_unique)){\n",
    "#    print(y_unique[y])\n",
    "#}\n",
    "sort(y_unique)"
   ]
  },
  {
   "cell_type": "code",
   "execution_count": 241,
   "metadata": {},
   "outputs": [
    {
     "name": "stderr",
     "output_type": "stream",
     "text": [
      "Registered S3 method overwritten by 'geojsonio':\n",
      "  method         from \n",
      "  print.location dplyr\n"
     ]
    },
    {
     "data": {
      "application/geo+json": {
       "features": [
        {
         "geometry": {
          "coordinates": [
           1233139.0865,
           420013.1251
          ],
          "type": "Point"
         },
         "properties": {
          "Count": 5.5515,
          "Date": null,
          "Date.1": 1975,
          "Location": null,
          "Location.Info": null,
          "Location.Value": null,
          "Region.Name": null,
          "Site.Key": "363",
          "Species": null,
          "Survey.Code": "NA",
          "Use": null,
          "X": null,
          "weighting_GO": "NA",
          "yr_expanded_est": "NA",
          "yr_total_est_sanj": "NA",
          "ï..Region.ID": "NA"
         },
         "type": "Feature"
        },
        {
         "geometry": {
          "coordinates": [
           1233754.3086,
           419447.9826
          ],
          "type": "Point"
         },
         "properties": {
          "Count": 5.5515,
          "Date": null,
          "Date.1": 1975,
          "Location": null,
          "Location.Info": null,
          "Location.Value": null,
          "Region.Name": null,
          "Site.Key": "364",
          "Species": null,
          "Survey.Code": "NA",
          "Use": null,
          "X": null,
          "weighting_GO": "NA",
          "yr_expanded_est": "NA",
          "yr_total_est_sanj": "NA",
          "ï..Region.ID": "NA"
         },
         "type": "Feature"
        },
        {
         "geometry": {
          "coordinates": [
           1234055.129,
           419591.1448
          ],
          "type": "Point"
         },
         "properties": {
          "Count": 5.5515,
          "Date": null,
          "Date.1": 1975,
          "Location": null,
          "Location.Info": null,
          "Location.Value": null,
          "Region.Name": null,
          "Site.Key": "365",
          "Species": null,
          "Survey.Code": "NA",
          "Use": null,
          "X": null,
          "weighting_GO": "NA",
          "yr_expanded_est": "NA",
          "yr_total_est_sanj": "NA",
          "ï..Region.ID": "NA"
         },
         "type": "Feature"
        },
        {
         "geometry": {
          "coordinates": [
           1234150.7632,
           419651.0092
          ],
          "type": "Point"
         },
         "properties": {
          "Count": 5.5515,
          "Date": null,
          "Date.1": 1975,
          "Location": null,
          "Location.Info": null,
          "Location.Value": null,
          "Region.Name": null,
          "Site.Key": "366",
          "Species": null,
          "Survey.Code": "NA",
          "Use": null,
          "X": null,
          "weighting_GO": "NA",
          "yr_expanded_est": "NA",
          "yr_total_est_sanj": "NA",
          "ï..Region.ID": "NA"
         },
         "type": "Feature"
        },
        {
         "geometry": {
          "coordinates": [
           1234490.24,
           419481.0545
          ],
          "type": "Point"
         },
         "properties": {
          "Count": 13.8788,
          "Date": null,
          "Date.1": 1975,
          "Location": null,
          "Location.Info": null,
          "Location.Value": null,
          "Region.Name": null,
          "Site.Key": "367",
          "Species": null,
          "Survey.Code": "NA",
          "Use": null,
          "X": null,
          "weighting_GO": "NA",
          "yr_expanded_est": "NA",
          "yr_total_est_sanj": "NA",
          "ï..Region.ID": "NA"
         },
         "type": "Feature"
        },
        {
         "geometry": {
          "coordinates": [
           1241814.7174,
           420297.4992
          ],
          "type": "Point"
         },
         "properties": {
          "Count": 13.8788,
          "Date": null,
          "Date.1": 1975,
          "Location": null,
          "Location.Info": null,
          "Location.Value": null,
          "Region.Name": null,
          "Site.Key": "368",
          "Species": null,
          "Survey.Code": "NA",
          "Use": null,
          "X": null,
          "weighting_GO": "NA",
          "yr_expanded_est": "NA",
          "yr_total_est_sanj": "NA",
          "ï..Region.ID": "NA"
         },
         "type": "Feature"
        }
       ],
       "type": "FeatureCollection"
      },
      "text/html": [
       "<table>\n",
       "<caption>A sf: 6 × 17</caption>\n",
       "<thead>\n",
       "\t<tr><th scope=col>Date.1</th><th scope=col>Site.Key</th><th scope=col>ï..Region.ID</th><th scope=col>Region.Name</th><th scope=col>Location</th><th scope=col>Survey.Code</th><th scope=col>Species</th><th scope=col>Use</th><th scope=col>weighting_GO</th><th scope=col>yr_total_est_sanj</th><th scope=col>Count</th><th scope=col>yr_expanded_est</th><th scope=col>X</th><th scope=col>Location.Value</th><th scope=col>Location.Info</th><th scope=col>Date</th><th scope=col>geometry</th></tr>\n",
       "\t<tr><th scope=col>&lt;int&gt;</th><th scope=col>&lt;fct&gt;</th><th scope=col>&lt;int&gt;</th><th scope=col>&lt;fct&gt;</th><th scope=col>&lt;fct&gt;</th><th scope=col>&lt;dbl&gt;</th><th scope=col>&lt;fct&gt;</th><th scope=col>&lt;fct&gt;</th><th scope=col>&lt;dbl&gt;</th><th scope=col>&lt;int&gt;</th><th scope=col>&lt;dbl&gt;</th><th scope=col>&lt;dbl&gt;</th><th scope=col>&lt;lgl&gt;</th><th scope=col>&lt;fct&gt;</th><th scope=col>&lt;fct&gt;</th><th scope=col>&lt;fct&gt;</th><th scope=col>&lt;POINT [m]&gt;</th></tr>\n",
       "</thead>\n",
       "<tbody>\n",
       "\t<tr><td>1975</td><td>363</td><td>NA</td><td>NA</td><td>NA</td><td>NA</td><td>NA</td><td>NA</td><td>NA</td><td>NA</td><td> 5.551504</td><td>NA</td><td>NA</td><td>NA</td><td>NA</td><td>NA</td><td>POINT (1233139 420013.1)</td></tr>\n",
       "\t<tr><td>1975</td><td>364</td><td>NA</td><td>NA</td><td>NA</td><td>NA</td><td>NA</td><td>NA</td><td>NA</td><td>NA</td><td> 5.551504</td><td>NA</td><td>NA</td><td>NA</td><td>NA</td><td>NA</td><td>POINT (1233754 419448)</td></tr>\n",
       "\t<tr><td>1975</td><td>365</td><td>NA</td><td>NA</td><td>NA</td><td>NA</td><td>NA</td><td>NA</td><td>NA</td><td>NA</td><td> 5.551504</td><td>NA</td><td>NA</td><td>NA</td><td>NA</td><td>NA</td><td>POINT (1234055 419591.1)</td></tr>\n",
       "\t<tr><td>1975</td><td>366</td><td>NA</td><td>NA</td><td>NA</td><td>NA</td><td>NA</td><td>NA</td><td>NA</td><td>NA</td><td> 5.551504</td><td>NA</td><td>NA</td><td>NA</td><td>NA</td><td>NA</td><td>POINT (1234151 419651)</td></tr>\n",
       "\t<tr><td>1975</td><td>367</td><td>NA</td><td>NA</td><td>NA</td><td>NA</td><td>NA</td><td>NA</td><td>NA</td><td>NA</td><td>13.878760</td><td>NA</td><td>NA</td><td>NA</td><td>NA</td><td>NA</td><td>POINT (1234490 419481.1)</td></tr>\n",
       "\t<tr><td>1975</td><td>368</td><td>NA</td><td>NA</td><td>NA</td><td>NA</td><td>NA</td><td>NA</td><td>NA</td><td>NA</td><td>13.878760</td><td>NA</td><td>NA</td><td>NA</td><td>NA</td><td>NA</td><td>POINT (1241815 420297.5)</td></tr>\n",
       "</tbody>\n",
       "</table>\n"
      ],
      "text/latex": [
       "A sf: 6 × 17\n",
       "\\begin{tabular}{r|lllllllllllllllll}\n",
       " Date.1 & Site.Key & ï..Region.ID & Region.Name & Location & Survey.Code & Species & Use & weighting\\_GO & yr\\_total\\_est\\_sanj & Count & yr\\_expanded\\_est & X & Location.Value & Location.Info & Date & geometry\\\\\n",
       " <int> & <fct> & <int> & <fct> & <fct> & <dbl> & <fct> & <fct> & <dbl> & <int> & <dbl> & <dbl> & <lgl> & <fct> & <fct> & <fct> & <POINT {[}m{]}>\\\\\n",
       "\\hline\n",
       "\t 1975 & 363 & NA & NA & NA & NA & NA & NA & NA & NA &  5.551504 & NA & NA & NA & NA & NA & POINT (1233139 420013.1)\\\\\n",
       "\t 1975 & 364 & NA & NA & NA & NA & NA & NA & NA & NA &  5.551504 & NA & NA & NA & NA & NA & POINT (1233754 419448)\\\\\n",
       "\t 1975 & 365 & NA & NA & NA & NA & NA & NA & NA & NA &  5.551504 & NA & NA & NA & NA & NA & POINT (1234055 419591.1)\\\\\n",
       "\t 1975 & 366 & NA & NA & NA & NA & NA & NA & NA & NA &  5.551504 & NA & NA & NA & NA & NA & POINT (1234151 419651)\\\\\n",
       "\t 1975 & 367 & NA & NA & NA & NA & NA & NA & NA & NA & 13.878760 & NA & NA & NA & NA & NA & POINT (1234490 419481.1)\\\\\n",
       "\t 1975 & 368 & NA & NA & NA & NA & NA & NA & NA & NA & 13.878760 & NA & NA & NA & NA & NA & POINT (1241815 420297.5)\\\\\n",
       "\\end{tabular}\n"
      ],
      "text/markdown": [
       "\n",
       "A sf: 6 × 17\n",
       "\n",
       "| Date.1 &lt;int&gt; | Site.Key &lt;fct&gt; | ï..Region.ID &lt;int&gt; | Region.Name &lt;fct&gt; | Location &lt;fct&gt; | Survey.Code &lt;dbl&gt; | Species &lt;fct&gt; | Use &lt;fct&gt; | weighting_GO &lt;dbl&gt; | yr_total_est_sanj &lt;int&gt; | Count &lt;dbl&gt; | yr_expanded_est &lt;dbl&gt; | X &lt;lgl&gt; | Location.Value &lt;fct&gt; | Location.Info &lt;fct&gt; | Date &lt;fct&gt; | geometry &lt;POINT [m]&gt; |\n",
       "|---|---|---|---|---|---|---|---|---|---|---|---|---|---|---|---|---|\n",
       "| 1975 | 363 | NA | NA | NA | NA | NA | NA | NA | NA |  5.551504 | NA | NA | NA | NA | NA | POINT (1233139 420013.1) |\n",
       "| 1975 | 364 | NA | NA | NA | NA | NA | NA | NA | NA |  5.551504 | NA | NA | NA | NA | NA | POINT (1233754 419448) |\n",
       "| 1975 | 365 | NA | NA | NA | NA | NA | NA | NA | NA |  5.551504 | NA | NA | NA | NA | NA | POINT (1234055 419591.1) |\n",
       "| 1975 | 366 | NA | NA | NA | NA | NA | NA | NA | NA |  5.551504 | NA | NA | NA | NA | NA | POINT (1234151 419651) |\n",
       "| 1975 | 367 | NA | NA | NA | NA | NA | NA | NA | NA | 13.878760 | NA | NA | NA | NA | NA | POINT (1234490 419481.1) |\n",
       "| 1975 | 368 | NA | NA | NA | NA | NA | NA | NA | NA | 13.878760 | NA | NA | NA | NA | NA | POINT (1241815 420297.5) |\n",
       "\n"
      ],
      "text/plain": [
       "  Date.1 Site.Key ï..Region.ID Region.Name Location Survey.Code Species Use\n",
       "1 1975   363      NA           NA          NA       NA          NA      NA \n",
       "2 1975   364      NA           NA          NA       NA          NA      NA \n",
       "3 1975   365      NA           NA          NA       NA          NA      NA \n",
       "4 1975   366      NA           NA          NA       NA          NA      NA \n",
       "5 1975   367      NA           NA          NA       NA          NA      NA \n",
       "6 1975   368      NA           NA          NA       NA          NA      NA \n",
       "  weighting_GO yr_total_est_sanj Count     yr_expanded_est X  Location.Value\n",
       "1 NA           NA                 5.551504 NA              NA NA            \n",
       "2 NA           NA                 5.551504 NA              NA NA            \n",
       "3 NA           NA                 5.551504 NA              NA NA            \n",
       "4 NA           NA                 5.551504 NA              NA NA            \n",
       "5 NA           NA                13.878760 NA              NA NA            \n",
       "6 NA           NA                13.878760 NA              NA NA            \n",
       "  Location.Info Date geometry                \n",
       "1 NA            NA   POINT (1233139 420013.1)\n",
       "2 NA            NA   POINT (1233754 419448)  \n",
       "3 NA            NA   POINT (1234055 419591.1)\n",
       "4 NA            NA   POINT (1234151 419651)  \n",
       "5 NA            NA   POINT (1234490 419481.1)\n",
       "6 NA            NA   POINT (1241815 420297.5)"
      ]
     },
     "metadata": {},
     "output_type": "display_data"
    }
   ],
   "source": [
    "# get only data from one year\n",
    "y = 5 # begins at index 1, not 0\n",
    "\n",
    "# filter for desired year\n",
    "#spdf_yr <- filter(spdf, format(as.Date(spdf$Date.1, format=\"%Y-%m-%d\"),\"%Y\") == y_unique[y])\n",
    "spdf_yr <- filter(spdf, spdf$Date.1 == y_unique[y])\n",
    "head(spdf_yr)"
   ]
  },
  {
   "cell_type": "markdown",
   "metadata": {},
   "source": [
    "## 6) Main Code Loops"
   ]
  },
  {
   "cell_type": "code",
   "execution_count": null,
   "metadata": {},
   "outputs": [],
   "source": []
  },
  {
   "cell_type": "code",
   "execution_count": 242,
   "metadata": {},
   "outputs": [
    {
     "name": "stdout",
     "output_type": "stream",
     "text": [
      "[1] \"1966\"\n",
      "[1] \"1967\"\n",
      "[1] \"1968\"\n",
      "[1] \"1969\"\n",
      "[1] \"1970\"\n",
      "[1] \"1971\"\n",
      "[1] \"1972\"\n",
      "[1] \"1973\"\n",
      "[1] \"1974\"\n",
      "[1] \"1975\"\n",
      "[1] \"1976\"\n",
      "[1] \"1977\"\n",
      "[1] \"1978\"\n",
      "[1] \"1979\"\n",
      "[1] \"1980\"\n",
      "[1] \"1981\"\n",
      "[1] \"1982\"\n",
      "[1] \"1983\"\n",
      "[1] \"1984\"\n",
      "[1] \"1985\"\n",
      "[1] \"1986\"\n",
      "[1] \"1987\"\n",
      "[1] \"1988\"\n",
      "[1] \"1989\"\n",
      "[1] \"1990\"\n",
      "[1] \"1991\"\n",
      "[1] \"1992\"\n",
      "[1] \"1993\"\n",
      "[1] \"1994\"\n",
      "[1] \"1995\"\n",
      "[1] \"1996\"\n",
      "[1] \"1997\"\n",
      "[1] \"1998\"\n",
      "[1] \"1999\"\n",
      "[1] \"2000\"\n",
      "[1] \"2001\"\n",
      "[1] \"2002\"\n",
      "[1] \"2003\"\n",
      "[1] \"2004\"\n",
      "[1] \"2005\"\n",
      "[1] \"2006\"\n",
      "[1] \"2007\"\n",
      "[1] \"2008\"\n",
      "[1] \"2009\"\n",
      "[1] \"2010\"\n",
      "[1] \"2011\"\n",
      "[1] \"2012\"\n",
      "[1] \"2013\"\n",
      "[1] \"2014\"\n"
     ]
    }
   ],
   "source": [
    "y_unique <- sort(y_unique)\n",
    "y <- 1\n",
    "for (y in 1:length(y_unique)){\n",
    "    print(y_unique[y])\n",
    "}\n"
   ]
  },
  {
   "cell_type": "markdown",
   "metadata": {},
   "source": [
    "### Temp - only get some years (each year takes ~30 min)"
   ]
  },
  {
   "cell_type": "code",
   "execution_count": 80,
   "metadata": {},
   "outputs": [],
   "source": [
    "y_unique = c(\"2000\",\"2001\",\"2002\")"
   ]
  },
  {
   "cell_type": "code",
   "execution_count": 81,
   "metadata": {
    "scrolled": true
   },
   "outputs": [
    {
     "data": {
      "application/geo+json": {
       "features": [
        {
         "geometry": {
          "coordinates": [
           1182113.5937,
           369469.6246
          ],
          "type": "Point"
         },
         "properties": {
          "Count": 173,
          "Date": " 1998-09-06",
          "Date.1": 1998,
          "Location.Info": "South Gulf",
          "Location.Value": "West Bentinck Island Reefs",
          "Site.Key": "H0001"
         },
         "type": "Feature"
        },
        {
         "geometry": {
          "coordinates": [
           1183602.1189,
           367956.1632
          ],
          "type": "Point"
         },
         "properties": {
          "Count": 359,
          "Date": " 1998-09-06",
          "Date.1": 1998,
          "Location.Info": "South Gulf",
          "Location.Value": "Race Rocks",
          "Site.Key": "H0002"
         },
         "type": "Feature"
        },
        {
         "geometry": {
          "coordinates": [
           1185123.2292,
           377157.1469
          ],
          "type": "Point"
         },
         "properties": {
          "Count": 129,
          "Date": " 1998-09-06",
          "Date.1": 1998,
          "Location.Info": "South Gulf",
          "Location.Value": "Haystock Islets",
          "Site.Key": "H0003"
         },
         "type": "Feature"
        },
        {
         "geometry": {
          "coordinates": [
           1202896.5048,
           382277.5807
          ],
          "type": "Point"
         },
         "properties": {
          "Count": 144,
          "Date": " 1998-09-06",
          "Date.1": 1998,
          "Location.Info": "South Gulf",
          "Location.Value": "Chain Islets",
          "Site.Key": "H0004"
         },
         "type": "Feature"
        },
        {
         "geometry": {
          "coordinates": [
           1200488.4186,
           393601.2546
          ],
          "type": "Point"
         },
         "properties": {
          "Count": 111,
          "Date": " 1998-09-06",
          "Date.1": 1998,
          "Location.Info": "South Gulf",
          "Location.Value": "Zero Rock",
          "Site.Key": "H0005"
         },
         "type": "Feature"
        },
        {
         "geometry": {
          "coordinates": [
           1201196.6335,
           397526.8582
          ],
          "type": "Point"
         },
         "properties": {
          "Count": 56,
          "Date": " 1998-09-06",
          "Date.1": 1998,
          "Location.Info": "South Gulf",
          "Location.Value": "South D'Arcy Island Reef",
          "Site.Key": "H0006"
         },
         "type": "Feature"
        },
        {
         "geometry": {
          "coordinates": [
           1202967.0023,
           398061.7425
          ],
          "type": "Point"
         },
         "properties": {
          "Count": 91,
          "Date": " 1998-09-06",
          "Date.1": 1998,
          "Location.Info": "South Gulf",
          "Location.Value": "Unit Rocks",
          "Site.Key": "H0007"
         },
         "type": "Feature"
        },
        {
         "geometry": {
          "coordinates": [
           1201824.5539,
           399283.7647
          ],
          "type": "Point"
         },
         "properties": {
          "Count": 46.5,
          "Date": null,
          "Date.1": 1998,
          "Location.Info": "South Gulf",
          "Location.Value": "Northwest Little D'Arcy Island Rock",
          "Site.Key": "H0008"
         },
         "type": "Feature"
        },
        {
         "geometry": {
          "coordinates": [
           1200339.3022,
           400392.9274
          ],
          "type": "Point"
         },
         "properties": {
          "Count": 149,
          "Date": " 1998-09-06",
          "Date.1": 1998,
          "Location.Info": "South Gulf",
          "Location.Value": "Sallas Rocks",
          "Site.Key": "H0009"
         },
         "type": "Feature"
        },
        {
         "geometry": {
          "coordinates": [
           1200339.3022,
           400392.9274
          ],
          "type": "Point"
         },
         "properties": {
          "Count": 5,
          "Date": null,
          "Date.1": 1998,
          "Location.Info": "South Gulf",
          "Location.Value": "South James Island Reef",
          "Site.Key": "H0010"
         },
         "type": "Feature"
        },
        {
         "geometry": {
          "coordinates": [
           1199355.5649,
           401554.9313
          ],
          "type": "Point"
         },
         "properties": {
          "Count": 46,
          "Date": " 1998-09-06",
          "Date.1": 1998,
          "Location.Info": "South Gulf",
          "Location.Value": "Munroe Rock",
          "Site.Key": "H0011"
         },
         "type": "Feature"
        },
        {
         "geometry": {
          "coordinates": [
           1195205.4498,
           397233.2517
          ],
          "type": "Point"
         },
         "properties": {
          "Count": 14.5,
          "Date": null,
          "Date.1": 1998,
          "Location.Info": "South Gulf",
          "Location.Value": "Cowichan HD",
          "Site.Key": "H0012"
         },
         "type": "Feature"
        },
        {
         "geometry": {
          "coordinates": [
           1198733.8022,
           404485.9133
          ],
          "type": "Point"
         },
         "properties": {
          "Count": 3,
          "Date": " 1998-09-06",
          "Date.1": 1998,
          "Location.Info": "South Gulf",
          "Location.Value": "East Sidney Island Reef",
          "Site.Key": "H0013"
         },
         "type": "Feature"
        },
        {
         "geometry": {
          "coordinates": [
           1199550.8024,
           406316.5808
          ],
          "type": "Point"
         },
         "properties": {
          "Count": 57,
          "Date": " 1998-09-06",
          "Date.1": 1998,
          "Location.Info": "South Gulf",
          "Location.Value": "Northwest Mandarte Island Rock",
          "Site.Key": "H0014"
         },
         "type": "Feature"
        },
        {
         "geometry": {
          "coordinates": [
           1200974.8079,
           410014.8569
          ],
          "type": "Point"
         },
         "properties": {
          "Count": 159,
          "Date": " 1998-09-06",
          "Date.1": 1998,
          "Location.Info": "South Gulf",
          "Location.Value": "Cooper Reef",
          "Site.Key": "H0015"
         },
         "type": "Feature"
        },
        {
         "geometry": {
          "coordinates": [
           1198308.1851,
           410434.9749
          ],
          "type": "Point"
         },
         "properties": {
          "Count": 42,
          "Date": " 1998-09-06",
          "Date.1": 1998,
          "Location.Info": "South Gulf",
          "Location.Value": "East Brethour Island Reef",
          "Site.Key": "H0016"
         },
         "type": "Feature"
        },
        {
         "geometry": {
          "coordinates": [
           1197490.7735,
           410770.5724
          ],
          "type": "Point"
         },
         "properties": {
          "Count": 29,
          "Date": " 1998-09-06",
          "Date.1": 1998,
          "Location.Info": "South Gulf",
          "Location.Value": "Northwest Brethour Island",
          "Site.Key": "H0017"
         },
         "type": "Feature"
        },
        {
         "geometry": {
          "coordinates": [
           1197059.9494,
           411231.9704
          ],
          "type": "Point"
         },
         "properties": {
          "Count": 0,
          "Date": " 1998-09-06",
          "Date.1": 1998,
          "Location.Info": "South Gulf",
          "Location.Value": "Reay Island",
          "Site.Key": "H0018"
         },
         "type": "Feature"
        },
        {
         "geometry": {
          "coordinates": [
           1196284.7473,
           410647.3087
          ],
          "type": "Point"
         },
         "properties": {
          "Count": 10,
          "Date": " 1998-09-06",
          "Date.1": 1998,
          "Location.Info": "South Gulf",
          "Location.Value": "Greig Island",
          "Site.Key": "H0019"
         },
         "type": "Feature"
        },
        {
         "geometry": {
          "coordinates": [
           1193835.6503,
           410600.2022
          ],
          "type": "Point"
         },
         "properties": {
          "Count": 2,
          "Date": null,
          "Date.1": 1998,
          "Location.Info": "South Gulf",
          "Location.Value": "South Coal Island Reef",
          "Site.Key": "H0020"
         },
         "type": "Feature"
        },
        {
         "geometry": {
          "coordinates": [
           1194139.461,
           409378.4452
          ],
          "type": "Point"
         },
         "properties": {
          "Count": 58,
          "Date": " 1998-09-06",
          "Date.1": 1998,
          "Location.Info": "South Gulf",
          "Location.Value": "South Ker Island Reef",
          "Site.Key": "H0021"
         },
         "type": "Feature"
        },
        {
         "geometry": {
          "coordinates": [
           1191276.2183,
           409939.2382
          ],
          "type": "Point"
         },
         "properties": {
          "Count": 25.5,
          "Date": null,
          "Date.1": 1998,
          "Location.Info": "South Gulf",
          "Location.Value": "Tsehum Harbour Reef",
          "Site.Key": "H0022"
         },
         "type": "Feature"
        },
        {
         "geometry": {
          "coordinates": [
           1192221.2868,
           411540.2637
          ],
          "type": "Point"
         },
         "properties": {
          "Count": 3.5,
          "Date": " 1998-09-06",
          "Date.1": 1998,
          "Location.Info": "South Gulf",
          "Location.Value": "North Goudge Island Reef",
          "Site.Key": "H0023"
         },
         "type": "Feature"
        },
        {
         "geometry": {
          "coordinates": [
           1180750.8122,
           406909.4818
          ],
          "type": "Point"
         },
         "properties": {
          "Count": 8.7143,
          "Date": null,
          "Date.1": 1998,
          "Location.Info": "South Gulf",
          "Location.Value": "Mill Bay",
          "Site.Key": "H0024"
         },
         "type": "Feature"
        },
        {
         "geometry": {
          "coordinates": [
           1180750.8122,
           406909.4818
          ],
          "type": "Point"
         },
         "properties": {
          "Count": 9.3333,
          "Date": null,
          "Date.1": 1998,
          "Location.Info": "South Gulf",
          "Location.Value": "East Fernie Island",
          "Site.Key": "H0025"
         },
         "type": "Feature"
        },
        {
         "geometry": {
          "coordinates": [
           1170840.8334,
           434492.0496
          ],
          "type": "Point"
         },
         "properties": {
          "Count": 16,
          "Date": " 1998-09-04",
          "Date.1": 1998,
          "Location.Info": "Gulf Islands",
          "Location.Value": "Shoal Island Flats",
          "Site.Key": "H0026"
         },
         "type": "Feature"
        },
        {
         "geometry": {
          "coordinates": [
           1167739.2143,
           449514.3599
          ],
          "type": "Point"
         },
         "properties": {
          "Count": 192,
          "Date": " 1998-09-04",
          "Date.1": 1998,
          "Location.Info": "Gulf Islands",
          "Location.Value": "Miami Islet",
          "Site.Key": "H0027"
         },
         "type": "Feature"
        },
        {
         "geometry": {
          "coordinates": [
           1167331.679,
           451245.9636
          ],
          "type": "Point"
         },
         "properties": {
          "Count": 99,
          "Date": " 1998-09-04",
          "Date.1": 1998,
          "Location.Info": "Gulf Islands",
          "Location.Value": "Danger Reefs",
          "Site.Key": "H0028"
         },
         "type": "Feature"
        },
        {
         "geometry": {
          "coordinates": [
           1228489.3046,
           456563.8229
          ],
          "type": "Point"
         },
         "properties": {
          "Count": 47.75,
          "Date": null,
          "Date.1": 1998,
          "Location.Info": "Boundary Bay",
          "Location.Value": "East Boundary Bay Site A",
          "Site.Key": "H0029"
         },
         "type": "Feature"
        },
        {
         "geometry": {
          "coordinates": [
           1226750.2575,
           456654.0797
          ],
          "type": "Point"
         },
         "properties": {
          "Count": 86,
          "Date": " 1998-08-05",
          "Date.1": 1998,
          "Location.Info": "Boundary Bay",
          "Location.Value": "East Boundary Bay Site B",
          "Site.Key": "H0030"
         },
         "type": "Feature"
        },
        {
         "geometry": {
          "coordinates": [
           1227317.8015,
           455400.3364
          ],
          "type": "Point"
         },
         "properties": {
          "Count": 121,
          "Date": " 1998-08-05",
          "Date.1": 1998,
          "Location.Info": "Boundary Bay",
          "Location.Value": "East Boundary Bay Site C",
          "Site.Key": "H0031"
         },
         "type": "Feature"
        },
        {
         "geometry": {
          "coordinates": [
           1224514.483,
           454866.5529
          ],
          "type": "Point"
         },
         "properties": {
          "Count": 2.2222,
          "Date": null,
          "Date.1": 1998,
          "Location.Info": "Boundary Bay",
          "Location.Value": "East Boundary Bay Site D",
          "Site.Key": "H0032"
         },
         "type": "Feature"
        },
        {
         "geometry": {
          "coordinates": [
           1224809.9961,
           453289.4811
          ],
          "type": "Point"
         },
         "properties": {
          "Count": 34,
          "Date": " 1998-08-05",
          "Date.1": 1998,
          "Location.Info": "Boundary Bay",
          "Location.Value": "Central Boundary Bay Site E",
          "Site.Key": "H0033"
         },
         "type": "Feature"
        },
        {
         "geometry": {
          "coordinates": [
           1221541.3158,
           451102.9058
          ],
          "type": "Point"
         },
         "properties": {
          "Count": 284,
          "Date": " 1998-08-05",
          "Date.1": 1998,
          "Location.Info": "Boundary Bay",
          "Location.Value": "West Boundary Bay Site F",
          "Site.Key": "H0034"
         },
         "type": "Feature"
        },
        {
         "geometry": {
          "coordinates": [
           1219957.7854,
           450601.8256
          ],
          "type": "Point"
         },
         "properties": {
          "Count": 5.7273,
          "Date": null,
          "Date.1": 1998,
          "Location.Info": "Boundary Bay",
          "Location.Value": "West Boundary Bay Site G",
          "Site.Key": "H0035"
         },
         "type": "Feature"
        },
        {
         "geometry": {
          "coordinates": [
           1206913.0389,
           454666.4278
          ],
          "type": "Point"
         },
         "properties": {
          "Count": 9.4286,
          "Date": null,
          "Date.1": 1998,
          "Location.Info": "Fraser River",
          "Location.Value": "Central Roberts Bank Site A",
          "Site.Key": "H0036"
         },
         "type": "Feature"
        },
        {
         "geometry": {
          "coordinates": [
           1202989.8409,
           452776.8947
          ],
          "type": "Point"
         },
         "properties": {
          "Count": 0.5556,
          "Date": null,
          "Date.1": 1998,
          "Location.Info": "Fraser River",
          "Location.Value": "Central Roberts Bank Site B",
          "Site.Key": "H0037"
         },
         "type": "Feature"
        },
        {
         "geometry": {
          "coordinates": [
           1201905.6278,
           459348.8872
          ],
          "type": "Point"
         },
         "properties": {
          "Count": 163.6667,
          "Date": null,
          "Date.1": 1998,
          "Location.Info": "Fraser River",
          "Location.Value": "North Roberts Bank Site C",
          "Site.Key": "H0038"
         },
         "type": "Feature"
        },
        {
         "geometry": {
          "coordinates": [
           1198839.465,
           456917.7751
          ],
          "type": "Point"
         },
         "properties": {
          "Count": 26,
          "Date": " 1998-08-05",
          "Date.1": 1998,
          "Location.Info": "Fraser River",
          "Location.Value": "North Roberts Bank Site D",
          "Site.Key": "H0039"
         },
         "type": "Feature"
        },
        {
         "geometry": {
          "coordinates": [
           1204153.4687,
           457991.9241
          ],
          "type": "Point"
         },
         "properties": {
          "Count": 69,
          "Date": " 1998-08-05",
          "Date.1": 1998,
          "Location.Info": "Fraser River",
          "Location.Value": "North Roberts Bank Site F",
          "Site.Key": "H0040"
         },
         "type": "Feature"
        },
        {
         "geometry": {
          "coordinates": [
           1205307.5772,
           458960.3502
          ],
          "type": "Point"
         },
         "properties": {
          "Count": 103,
          "Date": " 1998-08-05",
          "Date.1": 1998,
          "Location.Info": "Fraser River",
          "Location.Value": "North Roberts Bank Site E",
          "Site.Key": "H0041"
         },
         "type": "Feature"
        },
        {
         "geometry": {
          "coordinates": [
           1203060.8516,
           467354.5318
          ],
          "type": "Point"
         },
         "properties": {
          "Count": 54.3333,
          "Date": null,
          "Date.1": 1998,
          "Location.Info": "Fraser River",
          "Location.Value": "Central Sturgeon Bank Site C",
          "Site.Key": "H0042"
         },
         "type": "Feature"
        },
        {
         "geometry": {
          "coordinates": [
           1195939.7027,
           500451.8519
          ],
          "type": "Point"
         },
         "properties": {
          "Count": 214,
          "Date": " 1998-08-05",
          "Date.1": 1998,
          "Location.Info": "Howe Sound",
          "Location.Value": "Pam Rocks",
          "Site.Key": "H0043"
         },
         "type": "Feature"
        },
        {
         "geometry": {
          "coordinates": [
           1182388.3305,
           486117.6906
          ],
          "type": "Point"
         },
         "properties": {
          "Count": 138,
          "Date": " 1998-08-05",
          "Date.1": 1998,
          "Location.Info": "Howe Sound",
          "Location.Value": "North Popham Island Reefs",
          "Site.Key": "H0044"
         },
         "type": "Feature"
        },
        {
         "geometry": {
          "coordinates": [
           1184432.8195,
           484889.5722
          ],
          "type": "Point"
         },
         "properties": {
          "Count": 187,
          "Date": " 1998-08-05",
          "Date.1": 1998,
          "Location.Info": "Howe Sound",
          "Location.Value": "Northwest Worlcombe Island Reefs",
          "Site.Key": "H0045"
         },
         "type": "Feature"
        },
        {
         "geometry": {
          "coordinates": [
           1174539.0681,
           436803.9397
          ],
          "type": "Point"
         },
         "properties": {
          "Count": 0,
          "Date": " 1998-09-04",
          "Date.1": 1998,
          "Location.Info": "Gulf Islands",
          "Location.Value": "Sandstone Rocks",
          "Site.Key": "H0046"
         },
         "type": "Feature"
        },
        {
         "geometry": {
          "coordinates": [
           1172446.2892,
           446735.0302
          ],
          "type": "Point"
         },
         "properties": {
          "Count": 64,
          "Date": " 1998-09-04",
          "Date.1": 1998,
          "Location.Info": "Gulf Islands",
          "Location.Value": "Rose Islets",
          "Site.Key": "H0047"
         },
         "type": "Feature"
        },
        {
         "geometry": {
          "coordinates": [
           1168764.2353,
           448403.0008
          ],
          "type": "Point"
         },
         "properties": {
          "Count": 0,
          "Date": " 1998-09-04",
          "Date.1": 1998,
          "Location.Info": "Gulf Islands",
          "Location.Value": "Ragged Islets",
          "Site.Key": "H0048"
         },
         "type": "Feature"
        },
        {
         "geometry": {
          "coordinates": [
           1164319.9783,
           457773.2997
          ],
          "type": "Point"
         },
         "properties": {
          "Count": 48.1429,
          "Date": null,
          "Date.1": 1998,
          "Location.Info": "Gulf Islands",
          "Location.Value": "Northeast De Courcy Island Reef",
          "Site.Key": "H0049"
         },
         "type": "Feature"
        },
        {
         "geometry": {
          "coordinates": [
           1163379.4609,
           458610.4132
          ],
          "type": "Point"
         },
         "properties": {
          "Count": 1,
          "Date": null,
          "Date.1": 1998,
          "Location.Info": "Gulf Islands",
          "Location.Value": "Northeast Link Island Rock",
          "Site.Key": "H0050"
         },
         "type": "Feature"
        },
        {
         "geometry": {
          "coordinates": [
           1152834.4782,
           461422.094
          ],
          "type": "Point"
         },
         "properties": {
          "Count": 38.5,
          "Date": null,
          "Date.1": 1998,
          "Location.Info": "Gulf Islands",
          "Location.Value": "Nanaimo River Flats",
          "Site.Key": "H0051"
         },
         "type": "Feature"
        },
        {
         "geometry": {
          "coordinates": [
           1149386.096,
           467978.7995
          ],
          "type": "Point"
         },
         "properties": {
          "Count": 56,
          "Date": " 1998-08-09",
          "Date.1": 1998,
          "Location.Info": "Gulf Islands",
          "Location.Value": "Inskip Rock",
          "Site.Key": "H0052"
         },
         "type": "Feature"
        },
        {
         "geometry": {
          "coordinates": [
           1151977.9413,
           470655.4478
          ],
          "type": "Point"
         },
         "properties": {
          "Count": 44,
          "Date": " 1998-08-09",
          "Date.1": 1998,
          "Location.Info": "Gulf Islands",
          "Location.Value": "Five Finger Island",
          "Site.Key": "H0053"
         },
         "type": "Feature"
        },
        {
         "geometry": {
          "coordinates": [
           1153904.3481,
           468911.8538
          ],
          "type": "Point"
         },
         "properties": {
          "Count": 189.5,
          "Date": " 1998-08-09",
          "Date.1": 1998,
          "Location.Info": "Gulf Islands",
          "Location.Value": "Snake Island",
          "Site.Key": "H0054"
         },
         "type": "Feature"
        },
        {
         "geometry": {
          "coordinates": [
           1159529.3495,
           467270.8467
          ],
          "type": "Point"
         },
         "properties": {
          "Count": 117,
          "Date": " 1998-09-04",
          "Date.1": 1998,
          "Location.Info": "Gulf Islands",
          "Location.Value": "Southeast Orlebar Point Rock",
          "Site.Key": "H0055"
         },
         "type": "Feature"
        },
        {
         "geometry": {
          "coordinates": [
           1160734.9898,
           465351.9441
          ],
          "type": "Point"
         },
         "properties": {
          "Count": 33,
          "Date": " 1998-09-04",
          "Date.1": 1998,
          "Location.Info": "Gulf Islands",
          "Location.Value": "Northeast Gabriola Island Reef A",
          "Site.Key": "H0056"
         },
         "type": "Feature"
        },
        {
         "geometry": {
          "coordinates": [
           1161573.857,
           464911.2838
          ],
          "type": "Point"
         },
         "properties": {
          "Count": 25,
          "Date": null,
          "Date.1": 1998,
          "Location.Info": "Gulf Islands",
          "Location.Value": "Northeast Gabriola Island Reef B",
          "Site.Key": "H0057"
         },
         "type": "Feature"
        },
        {
         "geometry": {
          "coordinates": [
           1162823.6397,
           463950.1684
          ],
          "type": "Point"
         },
         "properties": {
          "Count": 17.3333,
          "Date": null,
          "Date.1": 1998,
          "Location.Info": "Gulf Islands",
          "Location.Value": "Northeast Gabriola Island Reef C",
          "Site.Key": "H0058"
         },
         "type": "Feature"
        },
        {
         "geometry": {
          "coordinates": [
           1169685.0856,
           462970.5462
          ],
          "type": "Point"
         },
         "properties": {
          "Count": 309,
          "Date": " 1998-09-04",
          "Date.1": 1998,
          "Location.Info": "Gulf Islands",
          "Location.Value": "Brant Reef",
          "Site.Key": "H0059"
         },
         "type": "Feature"
        },
        {
         "geometry": {
          "coordinates": [
           1169440.2045,
           462417.8568
          ],
          "type": "Point"
         },
         "properties": {
          "Count": 232,
          "Date": " 1998-09-04",
          "Date.1": 1998,
          "Location.Info": "Gulf Islands",
          "Location.Value": "Southeast Acorn Island Reef",
          "Site.Key": "H0060"
         },
         "type": "Feature"
        },
        {
         "geometry": {
          "coordinates": [
           1164917.0941,
           463349.6712
          ],
          "type": "Point"
         },
         "properties": {
          "Count": 3,
          "Date": null,
          "Date.1": 1998,
          "Location.Info": "Gulf Islands",
          "Location.Value": "Northeast Gabriola Island Reef D",
          "Site.Key": "H0061"
         },
         "type": "Feature"
        },
        {
         "geometry": {
          "coordinates": [
           1169070.3215,
           458982.3155
          ],
          "type": "Point"
         },
         "properties": {
          "Count": 18,
          "Date": " 1998-09-04",
          "Date.1": 1998,
          "Location.Info": "Gulf Islands",
          "Location.Value": "East Kendrick Island Rock",
          "Site.Key": "H0062"
         },
         "type": "Feature"
        },
        {
         "geometry": {
          "coordinates": [
           1170514.7004,
           457529.2605
          ],
          "type": "Point"
         },
         "properties": {
          "Count": 284,
          "Date": " 1998-09-04",
          "Date.1": 1998,
          "Location.Info": "Gulf Islands",
          "Location.Value": "Northeast Valdes Island Rock",
          "Site.Key": "H0063"
         },
         "type": "Feature"
        },
        {
         "geometry": {
          "coordinates": [
           1175388.6819,
           450312.3067
          ],
          "type": "Point"
         },
         "properties": {
          "Count": 81,
          "Date": " 1998-09-04",
          "Date.1": 1998,
          "Location.Info": "Gulf Islands",
          "Location.Value": "East Noel Bay Rock",
          "Site.Key": "H0064"
         },
         "type": "Feature"
        },
        {
         "geometry": {
          "coordinates": [
           1186364.4164,
           439815.2848
          ],
          "type": "Point"
         },
         "properties": {
          "Count": 156,
          "Date": " 1998-09-05",
          "Date.1": 1998,
          "Location.Info": "Gulf Islands",
          "Location.Value": "Northeast Galiano Island Reef",
          "Site.Key": "H0065"
         },
         "type": "Feature"
        },
        {
         "geometry": {
          "coordinates": [
           1190524.0479,
           437276.9917
          ],
          "type": "Point"
         },
         "properties": {
          "Count": 49.5833,
          "Date": null,
          "Date.1": 1998,
          "Location.Info": "Gulf Islands",
          "Location.Value": "South Cook Cove",
          "Site.Key": "H0066"
         },
         "type": "Feature"
        },
        {
         "geometry": {
          "coordinates": [
           1197636.2708,
           433920.0041
          ],
          "type": "Point"
         },
         "properties": {
          "Count": 59,
          "Date": " 1998-09-05",
          "Date.1": 1998,
          "Location.Info": "Gulf Islands",
          "Location.Value": "Southeast Gossip Island Reefs",
          "Site.Key": "H0067"
         },
         "type": "Feature"
        },
        {
         "geometry": {
          "coordinates": [
           1205831.0582,
           427614.9283
          ],
          "type": "Point"
         },
         "properties": {
          "Count": 0,
          "Date": " 1998-09-05",
          "Date.1": 1998,
          "Location.Info": "Gulf Islands",
          "Location.Value": "East Samuel Island Reef",
          "Site.Key": "H0068"
         },
         "type": "Feature"
        },
        {
         "geometry": {
          "coordinates": [
           1206023.4883,
           428144.8299
          ],
          "type": "Point"
         },
         "properties": {
          "Count": 458,
          "Date": " 1998-09-05",
          "Date.1": 1998,
          "Location.Info": "Gulf Islands",
          "Location.Value": "Belle Chain Islets",
          "Site.Key": "H0069"
         },
         "type": "Feature"
        },
        {
         "geometry": {
          "coordinates": [
           1199743.1531,
           460799.0457
          ],
          "type": "Point"
         },
         "properties": {
          "Count": 4.4,
          "Date": null,
          "Date.1": 1998,
          "Location.Info": "Fraser River",
          "Location.Value": "South Sturgeon Bank Site A",
          "Site.Key": "H0070"
         },
         "type": "Feature"
        },
        {
         "geometry": {
          "coordinates": [
           1202958.2788,
           466805.6938
          ],
          "type": "Point"
         },
         "properties": {
          "Count": 93,
          "Date": null,
          "Date.1": 1998,
          "Location.Info": "Fraser River",
          "Location.Value": "South Sturgeon Bank Site B",
          "Site.Key": "H0071"
         },
         "type": "Feature"
        },
        {
         "geometry": {
          "coordinates": [
           1164732.1404,
           457230.7004
          ],
          "type": "Point"
         },
         "properties": {
          "Count": 19,
          "Date": null,
          "Date.1": 1998,
          "Location.Info": "Gulf Islands",
          "Location.Value": "East De Courcy Island Reef",
          "Site.Key": "H0072"
         },
         "type": "Feature"
        },
        {
         "geometry": {
          "coordinates": [
           1212162.9335,
           425024.5006
          ],
          "type": "Point"
         },
         "properties": {
          "Count": 108,
          "Date": " 1998-09-05",
          "Date.1": 1998,
          "Location.Info": "Gulf Islands",
          "Location.Value": "West Tumbo Island Reef",
          "Site.Key": "H0073"
         },
         "type": "Feature"
        },
        {
         "geometry": {
          "coordinates": [
           1213862.4198,
           424882.9234
          ],
          "type": "Point"
         },
         "properties": {
          "Count": 185,
          "Date": " 1998-09-05",
          "Date.1": 1998,
          "Location.Info": "Gulf Islands",
          "Location.Value": "Pine Islet",
          "Site.Key": "H0074"
         },
         "type": "Feature"
        },
        {
         "geometry": {
          "coordinates": [
           1217784.5632,
           423723.1545
          ],
          "type": "Point"
         },
         "properties": {
          "Count": 223,
          "Date": " 1998-09-05",
          "Date.1": 1998,
          "Location.Info": "Gulf Islands",
          "Location.Value": "Boiling Reef",
          "Site.Key": "H0075"
         },
         "type": "Feature"
        },
        {
         "geometry": {
          "coordinates": [
           1212884.0198,
           420353.5259
          ],
          "type": "Point"
         },
         "properties": {
          "Count": 294,
          "Date": " 1998-09-05",
          "Date.1": 1998,
          "Location.Info": "Gulf Islands",
          "Location.Value": "Java Islets",
          "Site.Key": "H0076"
         },
         "type": "Feature"
        },
        {
         "geometry": {
          "coordinates": [
           1198493.4929,
           420296.3903
          ],
          "type": "Point"
         },
         "properties": {
          "Count": 42,
          "Date": " 1998-09-05",
          "Date.1": 1998,
          "Location.Info": "Gulf Islands",
          "Location.Value": "Beddis Rock",
          "Site.Key": "H0077"
         },
         "type": "Feature"
        },
        {
         "geometry": {
          "coordinates": [
           1196951.2684,
           426582.2251
          ],
          "type": "Point"
         },
         "properties": {
          "Count": 6,
          "Date": " 1998-09-05",
          "Date.1": 1998,
          "Location.Info": "Gulf Islands",
          "Location.Value": "Northeast Stanley Point",
          "Site.Key": "H0078"
         },
         "type": "Feature"
        },
        {
         "geometry": {
          "coordinates": [
           1192640.6554,
           428909.7783
          ],
          "type": "Point"
         },
         "properties": {
          "Count": 14,
          "Date": " 1998-09-05",
          "Date.1": 1998,
          "Location.Info": "Gulf Islands",
          "Location.Value": "Charles Rocks",
          "Site.Key": "H0079"
         },
         "type": "Feature"
        },
        {
         "geometry": {
          "coordinates": [
           1188877.1427,
           436116.6754
          ],
          "type": "Point"
         },
         "properties": {
          "Count": 3.6667,
          "Date": null,
          "Date.1": 1998,
          "Location.Info": "Gulf Islands",
          "Location.Value": "Midwest Galiano Island Reef A",
          "Site.Key": "H0080"
         },
         "type": "Feature"
        },
        {
         "geometry": {
          "coordinates": [
           1187194.7039,
           437144.775
          ],
          "type": "Point"
         },
         "properties": {
          "Count": 1,
          "Date": " 1998-09-05",
          "Date.1": 1998,
          "Location.Info": "Gulf Islands",
          "Location.Value": "Midwest Galiano Island Reef B",
          "Site.Key": "H0081"
         },
         "type": "Feature"
        },
        {
         "geometry": {
          "coordinates": [
           1184249.004,
           438617.3714
          ],
          "type": "Point"
         },
         "properties": {
          "Count": 11,
          "Date": " 1998-09-05",
          "Date.1": 1998,
          "Location.Info": "Gulf Islands",
          "Location.Value": "Midwest Galiano Island Reef C",
          "Site.Key": "H0082"
         },
         "type": "Feature"
        },
        {
         "geometry": {
          "coordinates": [
           1177170.0956,
           440182.2108
          ],
          "type": "Point"
         },
         "properties": {
          "Count": 12.5,
          "Date": " 1998-09-04",
          "Date.1": 1998,
          "Location.Info": "Gulf Islands",
          "Location.Value": "South Jackscrew Island Reef",
          "Site.Key": "H0083"
         },
         "type": "Feature"
        },
        {
         "geometry": {
          "coordinates": [
           1179184.9331,
           439640.2125
          ],
          "type": "Point"
         },
         "properties": {
          "Count": 0,
          "Date": " 1998-09-04",
          "Date.1": 1998,
          "Location.Info": "Gulf Islands",
          "Location.Value": "Midwest Wallace Island",
          "Site.Key": "H0084"
         },
         "type": "Feature"
        },
        {
         "geometry": {
          "coordinates": [
           1177468.2035,
           440692.4542
          ],
          "type": "Point"
         },
         "properties": {
          "Count": 27,
          "Date": " 1998-09-04",
          "Date.1": 1998,
          "Location.Info": "Gulf Islands",
          "Location.Value": "South Secretary Islets Rock",
          "Site.Key": "H0085"
         },
         "type": "Feature"
        },
        {
         "geometry": {
          "coordinates": [
           1175283.0168,
           441951.6561
          ],
          "type": "Point"
         },
         "properties": {
          "Count": 2,
          "Date": " 1998-09-04",
          "Date.1": 1998,
          "Location.Info": "Gulf Islands",
          "Location.Value": "South Mowgli Islet Rock",
          "Site.Key": "H0086"
         },
         "type": "Feature"
        },
        {
         "geometry": {
          "coordinates": [
           1139036.1405,
           476492.6886
          ],
          "type": "Point"
         },
         "properties": {
          "Count": 153.5,
          "Date": " 1998-08-09",
          "Date.1": 1998,
          "Location.Info": "Gulf Islands",
          "Location.Value": "Ada Islets",
          "Site.Key": "H0087"
         },
         "type": "Feature"
        },
        {
         "geometry": {
          "coordinates": [
           1138498.4268,
           475088.7675
          ],
          "type": "Point"
         },
         "properties": {
          "Count": 24,
          "Date": " 1998-08-09",
          "Date.1": 1998,
          "Location.Info": "North West Gulf",
          "Location.Value": "Southey Islets",
          "Site.Key": "H0088"
         },
         "type": "Feature"
        },
        {
         "geometry": {
          "coordinates": [
           1138119.5522,
           474545.0637
          ],
          "type": "Point"
         },
         "properties": {
          "Count": 0,
          "Date": " 1998-08-09",
          "Date.1": 1998,
          "Location.Info": "North West Gulf",
          "Location.Value": "East Wallis Point Rock",
          "Site.Key": "H0089"
         },
         "type": "Feature"
        },
        {
         "geometry": {
          "coordinates": [
           1140038.2001,
           474463.4459
          ],
          "type": "Point"
         },
         "properties": {
          "Count": 2,
          "Date": " 1998-08-09",
          "Date.1": 1998,
          "Location.Info": "North West Gulf",
          "Location.Value": "Maude Islet",
          "Site.Key": "H0090"
         },
         "type": "Feature"
        },
        {
         "geometry": {
          "coordinates": [
           1136072.2664,
           477569.5877
          ],
          "type": "Point"
         },
         "properties": {
          "Count": 18,
          "Date": " 1998-08-09",
          "Date.1": 1998,
          "Location.Info": "North West Gulf",
          "Location.Value": "North Schooner Reef",
          "Site.Key": "H0091"
         },
         "type": "Feature"
        },
        {
         "geometry": {
          "coordinates": [
           1135744.3743,
           478405.7314
          ],
          "type": "Point"
         },
         "properties": {
          "Count": 187,
          "Date": " 1998-08-09",
          "Date.1": 1998,
          "Location.Info": "North West Gulf",
          "Location.Value": "Yeo Islets",
          "Site.Key": "H0092"
         },
         "type": "Feature"
        },
        {
         "geometry": {
          "coordinates": [
           1135305.8019,
           481517.7836
          ],
          "type": "Point"
         },
         "properties": {
          "Count": 107,
          "Date": " 1998-08-09",
          "Date.1": 1998,
          "Location.Info": "North West Gulf",
          "Location.Value": "South Ballenas Islets Reefs",
          "Site.Key": "H0093"
         },
         "type": "Feature"
        },
        {
         "geometry": {
          "coordinates": [
           1129594.1073,
           480637.1794
          ],
          "type": "Point"
         },
         "properties": {
          "Count": 221,
          "Date": " 1998-08-09",
          "Date.1": 1998,
          "Location.Info": "North West Gulf",
          "Location.Value": "Northeast Mistaken Islet Reefs",
          "Site.Key": "H0094"
         },
         "type": "Feature"
        },
        {
         "geometry": {
          "coordinates": [
           1130358.3065,
           492106.6671
          ],
          "type": "Point"
         },
         "properties": {
          "Count": 191,
          "Date": " 1998-08-06",
          "Date.1": 1998,
          "Location.Info": "North East Gulf",
          "Location.Value": "Sangster Islet",
          "Site.Key": "H0095"
         },
         "type": "Feature"
        },
        {
         "geometry": {
          "coordinates": [
           1127945.5451,
           495392.4269
          ],
          "type": "Point"
         },
         "properties": {
          "Count": 0,
          "Date": " 1998-08-06",
          "Date.1": 1998,
          "Location.Info": "North East Gulf",
          "Location.Value": "Boat Cove Reefs",
          "Site.Key": "H0096"
         },
         "type": "Feature"
        },
        {
         "geometry": {
          "coordinates": [
           1122615.2136,
           494350.7134
          ],
          "type": "Point"
         },
         "properties": {
          "Count": 125.5,
          "Date": " 1998-08-06",
          "Date.1": 1998,
          "Location.Info": "North East Gulf",
          "Location.Value": "Sea Egg Rocks",
          "Site.Key": "H0097"
         },
         "type": "Feature"
        },
        {
         "geometry": {
          "coordinates": [
           1117405.9916,
           502834.1995
          ],
          "type": "Point"
         },
         "properties": {
          "Count": 291,
          "Date": " 1998-08-07",
          "Date.1": 1998,
          "Location.Info": "North East Gulf",
          "Location.Value": "Fegan Islets",
          "Site.Key": "H0098"
         },
         "type": "Feature"
        },
        {
         "geometry": {
          "coordinates": [
           1103453.9803,
           500954.9448
          ],
          "type": "Point"
         },
         "properties": {
          "Count": 356,
          "Date": " 1998-08-08",
          "Date.1": 1998,
          "Location.Info": "North West Gulf",
          "Location.Value": "Flora Islet",
          "Site.Key": "H0099"
         },
         "type": "Feature"
        },
        {
         "geometry": {
          "coordinates": [
           1088154.8249,
           496811.6402
          ],
          "type": "Point"
         },
         "properties": {
          "Count": 15,
          "Date": " 1998-08-08",
          "Date.1": 1998,
          "Location.Info": "North West Gulf",
          "Location.Value": "Mud Bay",
          "Site.Key": "H0100"
         },
         "type": "Feature"
        },
        {
         "geometry": {
          "coordinates": [
           1086043.2782,
           499043.5778
          ],
          "type": "Point"
         },
         "properties": {
          "Count": 17,
          "Date": " 1998-08-08",
          "Date.1": 1998,
          "Location.Info": "North West Gulf",
          "Location.Value": "South Fanny Bay",
          "Site.Key": "H0101"
         },
         "type": "Feature"
        },
        {
         "geometry": {
          "coordinates": [
           1083681.3858,
           511823.0308
          ],
          "type": "Point"
         },
         "properties": {
          "Count": 16,
          "Date": " 1998-08-08",
          "Date.1": 1998,
          "Location.Info": "North West Gulf",
          "Location.Value": "East Seal Islets Reef",
          "Site.Key": "H0102"
         },
         "type": "Feature"
        },
        {
         "geometry": {
          "coordinates": [
           1094415.9602,
           504949.6668
          ],
          "type": "Point"
         },
         "properties": {
          "Count": 144,
          "Date": " 1998-08-08",
          "Date.1": 1998,
          "Location.Info": "North West Gulf",
          "Location.Value": "Collishaw Point",
          "Site.Key": "H0103"
         },
         "type": "Feature"
        },
        {
         "geometry": {
          "coordinates": [
           1076539.2711,
           516536.6859
          ],
          "type": "Point"
         },
         "properties": {
          "Count": 262,
          "Date": " 1998-08-08",
          "Date.1": 1998,
          "Location.Info": "North West Gulf",
          "Location.Value": "Comox Harbour",
          "Site.Key": "H0104"
         },
         "type": "Feature"
        },
        {
         "geometry": {
          "coordinates": [
           1128149.2546,
           501179.0522
          ],
          "type": "Point"
         },
         "properties": {
          "Count": 58,
          "Date": " 1998-08-06",
          "Date.1": 1998,
          "Location.Info": "North East Gulf",
          "Location.Value": "East Jervis Island Reef",
          "Site.Key": "H0105"
         },
         "type": "Feature"
        },
        {
         "geometry": {
          "coordinates": [
           1132765.2991,
           498427.8282
          ],
          "type": "Point"
         },
         "properties": {
          "Count": 103,
          "Date": " 1998-08-06",
          "Date.1": 1998,
          "Location.Info": "North East Gulf",
          "Location.Value": "Sheer Island",
          "Site.Key": "H0106"
         },
         "type": "Feature"
        },
        {
         "geometry": {
          "coordinates": [
           1125663.2272,
           504720.0574
          ],
          "type": "Point"
         },
         "properties": {
          "Count": 0,
          "Date": " 1998-08-06",
          "Date.1": 1998,
          "Location.Info": "North East Gulf",
          "Location.Value": "Southwest Cook Bay Rock",
          "Site.Key": "H0107"
         },
         "type": "Feature"
        },
        {
         "geometry": {
          "coordinates": [
           1117493.8185,
           509741.1177
          ],
          "type": "Point"
         },
         "properties": {
          "Count": 55,
          "Date": " 1998-08-07",
          "Date.1": 1998,
          "Location.Info": "North East Gulf",
          "Location.Value": "Southeast Davie Bay Reefs",
          "Site.Key": "H0108"
         },
         "type": "Feature"
        },
        {
         "geometry": {
          "coordinates": [
           1111195.3371,
           514237.2923
          ],
          "type": "Point"
         },
         "properties": {
          "Count": 165,
          "Date": " 1998-08-07",
          "Date.1": 1998,
          "Location.Info": "North East Gulf",
          "Location.Value": "Mouat Islands",
          "Site.Key": "H0109"
         },
         "type": "Feature"
        },
        {
         "geometry": {
          "coordinates": [
           1098495.7252,
           530657.7388
          ],
          "type": "Point"
         },
         "properties": {
          "Count": 14,
          "Date": " 1998-08-07",
          "Date.1": 1998,
          "Location.Info": "North East Gulf",
          "Location.Value": "North Marshall Point",
          "Site.Key": "H0110"
         },
         "type": "Feature"
        },
        {
         "geometry": {
          "coordinates": [
           1096660.2721,
           533981.4072
          ],
          "type": "Point"
         },
         "properties": {
          "Count": 442,
          "Date": " 1998-08-07",
          "Date.1": 1998,
          "Location.Info": "North East Gulf",
          "Location.Value": "Rebecca Rock",
          "Site.Key": "H0111"
         },
         "type": "Feature"
        },
        {
         "geometry": {
          "coordinates": [
           1093676.8587,
           536861.9334
          ],
          "type": "Point"
         },
         "properties": {
          "Count": 122,
          "Date": " 1998-08-07",
          "Date.1": 1998,
          "Location.Info": "North East Gulf",
          "Location.Value": "Vivian Island",
          "Site.Key": "H0112"
         },
         "type": "Feature"
        },
        {
         "geometry": {
          "coordinates": [
           1091759.8421,
           544201.4437
          ],
          "type": "Point"
         },
         "properties": {
          "Count": 141,
          "Date": " 1998-08-07",
          "Date.1": 1998,
          "Location.Info": "North East Gulf",
          "Location.Value": "Mystery Reef",
          "Site.Key": "H0113"
         },
         "type": "Feature"
        },
        {
         "geometry": {
          "coordinates": [
           1084100.1792,
           545515.0005
          ],
          "type": "Point"
         },
         "properties": {
          "Count": 27,
          "Date": " 1998-08-07",
          "Date.1": 1998,
          "Location.Info": "North East Gulf",
          "Location.Value": "Stradiotti Reef",
          "Site.Key": "H0114"
         },
         "type": "Feature"
        },
        {
         "geometry": {
          "coordinates": [
           1081641.1049,
           547454.8555
          ],
          "type": "Point"
         },
         "properties": {
          "Count": 0,
          "Date": " 1998-08-07",
          "Date.1": 1998,
          "Location.Info": "North East Gulf",
          "Location.Value": "Southwest Savary Island",
          "Site.Key": "H0115"
         },
         "type": "Feature"
        },
        {
         "geometry": {
          "coordinates": [
           1080673.9595,
           550932.2206
          ],
          "type": "Point"
         },
         "properties": {
          "Count": 136,
          "Date": " 1998-08-07",
          "Date.1": 1998,
          "Location.Info": "North East Gulf",
          "Location.Value": "Keefer Rock",
          "Site.Key": "H0116"
         },
         "type": "Feature"
        },
        {
         "geometry": {
          "coordinates": [
           1080033.3437,
           552879.8992
          ],
          "type": "Point"
         },
         "properties": {
          "Count": 78.6667,
          "Date": null,
          "Date.1": 1998,
          "Location.Info": "North East Gulf",
          "Location.Value": "Mideast Hernando Island Rock",
          "Site.Key": "H0117"
         },
         "type": "Feature"
        },
        {
         "geometry": {
          "coordinates": [
           1076812.6874,
           550994.7098
          ],
          "type": "Point"
         },
         "properties": {
          "Count": 150,
          "Date": " 1998-08-07",
          "Date.1": 1998,
          "Location.Info": "North East Gulf",
          "Location.Value": "Southwest Hernando Island",
          "Site.Key": "H0118"
         },
         "type": "Feature"
        },
        {
         "geometry": {
          "coordinates": [
           1086401.7064,
           553785.2517
          ],
          "type": "Point"
         },
         "properties": {
          "Count": 0,
          "Date": " 1998-08-07",
          "Date.1": 1998,
          "Location.Info": "North East Gulf",
          "Location.Value": "South Copeland Islands",
          "Site.Key": "H0119"
         },
         "type": "Feature"
        },
        {
         "geometry": {
          "coordinates": [
           1082146.8225,
           558787.4238
          ],
          "type": "Point"
         },
         "properties": {
          "Count": 112,
          "Date": " 1998-08-07",
          "Date.1": 1998,
          "Location.Info": "North East Gulf",
          "Location.Value": "Powell Islets",
          "Site.Key": "H0120"
         },
         "type": "Feature"
        },
        {
         "geometry": {
          "coordinates": [
           1071577.3699,
           548782.5258
          ],
          "type": "Point"
         },
         "properties": {
          "Count": 201,
          "Date": " 1998-08-08",
          "Date.1": 1998,
          "Location.Info": "North East Gulf",
          "Location.Value": "Mitlenatch Island",
          "Site.Key": "H0121"
         },
         "type": "Feature"
        },
        {
         "geometry": {
          "coordinates": [
           1071436.9087,
           555699.5095
          ],
          "type": "Point"
         },
         "properties": {
          "Count": 20,
          "Date": " 1998-08-07",
          "Date.1": 1998,
          "Location.Info": "North East Gulf",
          "Location.Value": "Southwest Sutil Point Reef",
          "Site.Key": "H0122"
         },
         "type": "Feature"
        },
        {
         "geometry": {
          "coordinates": [
           1067578.3593,
           558004.987
          ],
          "type": "Point"
         },
         "properties": {
          "Count": 517,
          "Date": " 1998-08-07",
          "Date.1": 1998,
          "Location.Info": "North East Gulf",
          "Location.Value": "Marina Reef",
          "Site.Key": "H0123"
         },
         "type": "Feature"
        },
        {
         "geometry": {
          "coordinates": [
           1067096.8699,
           560279.1241
          ],
          "type": "Point"
         },
         "properties": {
          "Count": 57,
          "Date": " 1998-08-07",
          "Date.1": 1998,
          "Location.Info": "North East Gulf",
          "Location.Value": "Southwest Marina Island Reef",
          "Site.Key": "H0124"
         },
         "type": "Feature"
        },
        {
         "geometry": {
          "coordinates": [
           1058915.0285,
           567953.7924
          ],
          "type": "Point"
         },
         "properties": {
          "Count": 57,
          "Date": " 1998-08-08",
          "Date.1": 1998,
          "Location.Info": "North East Gulf",
          "Location.Value": "South Breton Islands",
          "Site.Key": "H0125"
         },
         "type": "Feature"
        },
        {
         "geometry": {
          "coordinates": [
           1082745.9819,
           521359.1424
          ],
          "type": "Point"
         },
         "properties": {
          "Count": 90,
          "Date": " 1998-08-08",
          "Date.1": 1998,
          "Location.Info": "North West Gulf",
          "Location.Value": "East Cape Lazo Reef",
          "Site.Key": "H0126"
         },
         "type": "Feature"
        },
        {
         "geometry": {
          "coordinates": [
           1055161.5935,
           583599.7672
          ],
          "type": "Point"
         },
         "properties": {
          "Count": 9.6,
          "Date": null,
          "Date.1": 1998,
          "Location.Info": "North East Gulf",
          "Location.Value": "Southeast Waiatt Bay Reef",
          "Site.Key": "H0127"
         },
         "type": "Feature"
        },
        {
         "geometry": {
          "coordinates": [
           1046239.4781,
           581785.408
          ],
          "type": "Point"
         },
         "properties": {
          "Count": 0.25,
          "Date": null,
          "Date.1": 1998,
          "Location.Info": "North East Gulf",
          "Location.Value": "Mid Chained Islands",
          "Site.Key": "H0128"
         },
         "type": "Feature"
        },
        {
         "geometry": {
          "coordinates": [
           1146870.9898,
           496966.4258
          ],
          "type": "Point"
         },
         "properties": {
          "Count": 97,
          "Date": " 1998-08-06",
          "Date.1": 1998,
          "Location.Info": "North East Gulf",
          "Location.Value": "Southwest South Thornmanby Island",
          "Site.Key": "H0129"
         },
         "type": "Feature"
        },
        {
         "geometry": {
          "coordinates": [
           1146534.4015,
           498335.5921
          ],
          "type": "Point"
         },
         "properties": {
          "Count": 21,
          "Date": " 1998-08-06",
          "Date.1": 1998,
          "Location.Info": "North East Gulf",
          "Location.Value": "Midwest South Thormanby Island",
          "Site.Key": "H0130"
         },
         "type": "Feature"
        },
        {
         "geometry": {
          "coordinates": [
           1137763.8304,
           515339.8804
          ],
          "type": "Point"
         },
         "properties": {
          "Count": 95,
          "Date": " 1998-08-06",
          "Date.1": 1998,
          "Location.Info": "North East Gulf",
          "Location.Value": "West Hodgson Islands",
          "Site.Key": "H0131"
         },
         "type": "Feature"
        },
        {
         "geometry": {
          "coordinates": [
           1148122.7374,
           532291.9545
          ],
          "type": "Point"
         },
         "properties": {
          "Count": 37.8889,
          "Date": null,
          "Date.1": 1998,
          "Location.Info": "North East Gulf",
          "Location.Value": "Miller Islet",
          "Site.Key": "H0132"
         },
         "type": "Feature"
        },
        {
         "geometry": {
          "coordinates": [
           1123261.8341,
           526769.5813
          ],
          "type": "Point"
         },
         "properties": {
          "Count": 68,
          "Date": " 1998-08-06",
          "Date.1": 1998,
          "Location.Info": "North East Gulf",
          "Location.Value": "McRae Islet",
          "Site.Key": "H0133"
         },
         "type": "Feature"
        },
        {
         "geometry": {
          "coordinates": [
           1131110.5351,
           518545.8268
          ],
          "type": "Point"
         },
         "properties": {
          "Count": 19,
          "Date": " 1998-08-06",
          "Date.1": 1998,
          "Location.Info": "North East Gulf",
          "Location.Value": "East Cape Cockburn Rock",
          "Site.Key": "H0134"
         },
         "type": "Feature"
        },
        {
         "geometry": {
          "coordinates": [
           1132640.4375,
           518051.472
          ],
          "type": "Point"
         },
         "properties": {
          "Count": 0,
          "Date": " 1998-08-06",
          "Date.1": 1998,
          "Location.Info": "North East Gulf",
          "Location.Value": "West Quarry Bay Reef",
          "Site.Key": "H0135"
         },
         "type": "Feature"
        },
        {
         "geometry": {
          "coordinates": [
           1158203.4696,
           495846.5574
          ],
          "type": "Point"
         },
         "properties": {
          "Count": 126,
          "Date": " 1998-08-06",
          "Date.1": 1998,
          "Location.Info": "North East Gulf",
          "Location.Value": "West Rail Islands",
          "Site.Key": "H0136"
         },
         "type": "Feature"
        },
        {
         "geometry": {
          "coordinates": [
           1166205.0482,
           491729.2723
          ],
          "type": "Point"
         },
         "properties": {
          "Count": 119,
          "Date": " 1998-08-06",
          "Date.1": 1998,
          "Location.Info": "North East Gulf",
          "Location.Value": "White Islets",
          "Site.Key": "H0153"
         },
         "type": "Feature"
        },
        {
         "geometry": {
          "coordinates": [
           1159691.3913,
           495614.6345
          ],
          "type": "Point"
         },
         "properties": {
          "Count": 24,
          "Date": " 1998-08-06",
          "Date.1": 1998,
          "Location.Info": "North East Gulf",
          "Location.Value": "Mid Trail Islands",
          "Site.Key": "H0154"
         },
         "type": "Feature"
        },
        {
         "geometry": {
          "coordinates": [
           1224156.9309,
           451115.4146
          ],
          "type": "Point"
         },
         "properties": {
          "Count": 118,
          "Date": " 1998-08-05",
          "Date.1": 1998,
          "Location.Info": "Boundary Bay",
          "Location.Value": "Central Boundary Bay Site H",
          "Site.Key": "H0155"
         },
         "type": "Feature"
        },
        {
         "geometry": {
          "coordinates": [
           1194292.8543,
           401675.3228
          ],
          "type": "Point"
         },
         "properties": {
          "Count": 0,
          "Date": null,
          "Date.1": 1998,
          "Location.Info": "South Gulf",
          "Location.Value": "Cordova Spit",
          "Site.Key": "H0156"
         },
         "type": "Feature"
        },
        {
         "geometry": {
          "coordinates": [
           1201698.8044,
           404266.2895
          ],
          "type": "Point"
         },
         "properties": {
          "Count": 39,
          "Date": " 1998-09-06",
          "Date.1": 1998,
          "Location.Info": "South Gulf",
          "Location.Value": "Halibut Island",
          "Site.Key": "H0157"
         },
         "type": "Feature"
        },
        {
         "geometry": {
          "coordinates": [
           1199945.5818,
           409319.8996
          ],
          "type": "Point"
         },
         "properties": {
          "Count": 0,
          "Date": null,
          "Date.1": 1998,
          "Location.Info": "South Gulf",
          "Location.Value": "North Gooch Island",
          "Site.Key": "H0158"
         },
         "type": "Feature"
        },
        {
         "geometry": {
          "coordinates": [
           1207082.154,
           419097.4199
          ],
          "type": "Point"
         },
         "properties": {
          "Count": 0,
          "Date": null,
          "Date.1": 1998,
          "Location.Info": "Gulf Islands",
          "Location.Value": "Northeast South Pender Island",
          "Site.Key": "H0159"
         },
         "type": "Feature"
        },
        {
         "geometry": {
          "coordinates": [
           1151497.6012,
           496811.8074
          ],
          "type": "Point"
         },
         "properties": {
          "Count": 72,
          "Date": " 1998-08-06",
          "Date.1": 1998,
          "Location.Info": "North East Gulf",
          "Location.Value": "Merry Island",
          "Site.Key": "H0160"
         },
         "type": "Feature"
        },
        {
         "geometry": {
          "coordinates": [
           1196733.8354,
           412441.661
          ],
          "type": "Point"
         },
         "properties": {
          "Count": 80,
          "Date": " 1998-09-06",
          "Date.1": 1998,
          "Location.Info": "South Gulf",
          "Location.Value": "Imrie Island",
          "Site.Key": "H0161"
         },
         "type": "Feature"
        },
        {
         "geometry": {
          "coordinates": [
           1209689.2215,
           420623.9514
          ],
          "type": "Point"
         },
         "properties": {
          "Count": 12,
          "Date": " 1998-09-05",
          "Date.1": 1998,
          "Location.Info": "Gulf Islands",
          "Location.Value": "Murder Point",
          "Site.Key": "H0162"
         },
         "type": "Feature"
        },
        {
         "geometry": {
          "coordinates": [
           1205991.0523,
           421709.7392
          ],
          "type": "Point"
         },
         "properties": {
          "Count": 0,
          "Date": null,
          "Date.1": 1998,
          "Location.Info": "Gulf Islands",
          "Location.Value": "Croaker Point",
          "Site.Key": "H0163"
         },
         "type": "Feature"
        },
        {
         "geometry": {
          "coordinates": [
           1201952.9012,
           423629.3735
          ],
          "type": "Point"
         },
         "properties": {
          "Count": 5,
          "Date": " 1998-09-05",
          "Date.1": 1998,
          "Location.Info": "Gulf Islands",
          "Location.Value": "East North Pender Island",
          "Site.Key": "H0164"
         },
         "type": "Feature"
        },
        {
         "geometry": {
          "coordinates": [
           1192785.9355,
           424192.9033
          ],
          "type": "Point"
         },
         "properties": {
          "Count": 66,
          "Date": " 1998-09-05",
          "Date.1": 1998,
          "Location.Info": "Gulf Islands",
          "Location.Value": "Channel Islets",
          "Site.Key": "H0165"
         },
         "type": "Feature"
        },
        {
         "geometry": {
          "coordinates": [
           1190944.9716,
           429213.9189
          ],
          "type": "Point"
         },
         "properties": {
          "Count": 2.5,
          "Date": " 1998-09-05",
          "Date.1": 1998,
          "Location.Info": "Gulf Islands",
          "Location.Value": "South Peile Point",
          "Site.Key": "H0166"
         },
         "type": "Feature"
        },
        {
         "geometry": {
          "coordinates": [
           1171581.6423,
           461299.1825
          ],
          "type": "Point"
         },
         "properties": {
          "Count": 58,
          "Date": " 1998-09-04",
          "Date.1": 1998,
          "Location.Info": "Gulf Islands",
          "Location.Value": "Gabriola Reefs",
          "Site.Key": "H0167"
         },
         "type": "Feature"
        },
        {
         "geometry": {
          "coordinates": [
           1186237.7794,
           432698.8652
          ],
          "type": "Point"
         },
         "properties": {
          "Count": 52,
          "Date": " 1998-09-05",
          "Date.1": 1998,
          "Location.Info": "Gulf Islands",
          "Location.Value": "Atkins Reef",
          "Site.Key": "H0168"
         },
         "type": "Feature"
        },
        {
         "geometry": {
          "coordinates": [
           1187641.7223,
           435138.4567
          ],
          "type": "Point"
         },
         "properties": {
          "Count": 3.5,
          "Date": null,
          "Date.1": 1998,
          "Location.Info": "Gulf Islands",
          "Location.Value": "Wise Island",
          "Site.Key": "H0169"
         },
         "type": "Feature"
        },
        {
         "geometry": {
          "coordinates": [
           1218534.2035,
           444560.8157
          ],
          "type": "Point"
         },
         "properties": {
          "Count": 1,
          "Date": " 1998-08-05",
          "Date.1": 1998,
          "Location.Info": "Boundary Bay",
          "Location.Value": "Southeast Point Roberts Reefs",
          "Site.Key": "H0170"
         },
         "type": "Feature"
        },
        {
         "geometry": {
          "coordinates": [
           1194635.2758,
           380676.6053
          ],
          "type": "Point"
         },
         "properties": {
          "Count": 3,
          "Date": " 1998-09-06",
          "Date.1": 1998,
          "Location.Info": "South Gulf",
          "Location.Value": "Glimpse Reefs",
          "Site.Key": "H0171"
         },
         "type": "Feature"
        },
        {
         "geometry": {
          "coordinates": [
           1229048.5741,
           450540.1016
          ],
          "type": "Point"
         },
         "properties": {
          "Count": 1,
          "Date": " 1998-08-05",
          "Date.1": 1998,
          "Location.Info": "Boundary Bay",
          "Location.Value": "Kwomais Point",
          "Site.Key": "H0172"
         },
         "type": "Feature"
        },
        {
         "geometry": {
          "coordinates": [
           1192366.1774,
           425788.455
          ],
          "type": "Point"
         },
         "properties": {
          "Count": 3,
          "Date": " 1998-09-05",
          "Date.1": 1998,
          "Location.Info": "Gulf Islands",
          "Location.Value": "Northwest Acland Islands Reefs",
          "Site.Key": "H0173"
         },
         "type": "Feature"
        },
        {
         "geometry": {
          "coordinates": [
           1175105.7949,
           447413.2109
          ],
          "type": "Point"
         },
         "properties": {
          "Count": 2,
          "Date": " 1998-09-04",
          "Date.1": 1998,
          "Location.Info": "Gulf Islands",
          "Location.Value": "Cardale Point",
          "Site.Key": "H0174"
         },
         "type": "Feature"
        },
        {
         "geometry": {
          "coordinates": [
           1174671.3719,
           418398.9469
          ],
          "type": "Point"
         },
         "properties": {
          "Count": 50.5714,
          "Date": null,
          "Date.1": 1998,
          "Location.Info": "Gulf Islands",
          "Location.Value": "Cowichan Bay",
          "Site.Key": "H0175"
         },
         "type": "Feature"
        },
        {
         "geometry": {
          "coordinates": [
           1128994.0155,
           501022.3312
          ],
          "type": "Point"
         },
         "properties": {
          "Count": 29,
          "Date": null,
          "Date.1": 1998,
          "Location.Info": "North East Gulf",
          "Location.Value": "North Paul Island Rock",
          "Site.Key": "H0176"
         },
         "type": "Feature"
        },
        {
         "geometry": {
          "coordinates": [
           1199436.8144,
           390484.7517
          ],
          "type": "Point"
         },
         "properties": {
          "Count": 0,
          "Date": " 1998-09-06",
          "Date.1": 1998,
          "Location.Info": "South Gulf",
          "Location.Value": "Cordova Bay Reef",
          "Site.Key": "H0177"
         },
         "type": "Feature"
        },
        {
         "geometry": {
          "coordinates": [
           1199991.4068,
           379623.2203
          ],
          "type": "Point"
         },
         "properties": {
          "Count": 105,
          "Date": " 1998-09-06",
          "Date.1": 1998,
          "Location.Info": "South Gulf",
          "Location.Value": "Trial Islands",
          "Site.Key": "H0178"
         },
         "type": "Feature"
        },
        {
         "geometry": {
          "coordinates": [
           1194028.1566,
           414751.0125
          ],
          "type": "Point"
         },
         "properties": {
          "Count": 0,
          "Date": " 1998-09-06",
          "Date.1": 1998,
          "Location.Info": "South Gulf",
          "Location.Value": "Tortoise Islets",
          "Site.Key": "H0179"
         },
         "type": "Feature"
        },
        {
         "geometry": {
          "coordinates": [
           1196767.3155,
           416442.3414
          ],
          "type": "Point"
         },
         "properties": {
          "Count": 91,
          "Date": " 1998-09-06",
          "Date.1": 1998,
          "Location.Info": "South Gulf",
          "Location.Value": "Reynard Point Reef",
          "Site.Key": "H0180"
         },
         "type": "Feature"
        },
        {
         "geometry": {
          "coordinates": [
           1174729.4775,
           442921.9939
          ],
          "type": "Point"
         },
         "properties": {
          "Count": 42,
          "Date": " 1998-09-04",
          "Date.1": 1998,
          "Location.Info": "Gulf Islands",
          "Location.Value": "South Norway Island Reef",
          "Site.Key": "H0181"
         },
         "type": "Feature"
        },
        {
         "geometry": {
          "coordinates": [
           1169812.5719,
           441891.9262
          ],
          "type": "Point"
         },
         "properties": {
          "Count": 54,
          "Date": " 1998-09-04",
          "Date.1": 1998,
          "Location.Info": "Gulf Islands",
          "Location.Value": "Hudson Island",
          "Site.Key": "H0182"
         },
         "type": "Feature"
        },
        {
         "geometry": {
          "coordinates": [
           1149083.3739,
           500733.0366
          ],
          "type": "Point"
         },
         "properties": {
          "Count": 3,
          "Date": " 1998-08-06",
          "Date.1": 1998,
          "Location.Info": "North East Gulf",
          "Location.Value": "Southeast Jeddah Point Rocks",
          "Site.Key": "H0183"
         },
         "type": "Feature"
        },
        {
         "geometry": {
          "coordinates": [
           1117839.223,
           523304.9548
          ],
          "type": "Point"
         },
         "properties": {
          "Count": 58,
          "Date": " 1998-08-06",
          "Date.1": 1998,
          "Location.Info": "North East Gulf",
          "Location.Value": "Northeast Point",
          "Site.Key": "H0184"
         },
         "type": "Feature"
        },
        {
         "geometry": {
          "coordinates": [
           1128661.1859,
           523721.8966
          ],
          "type": "Point"
         },
         "properties": {
          "Count": 31,
          "Date": null,
          "Date.1": 1998,
          "Location.Info": "North East Gulf",
          "Location.Value": "Northwest Kelly Island Rock",
          "Site.Key": "H0185"
         },
         "type": "Feature"
        },
        {
         "geometry": {
          "coordinates": [
           1095761.6414,
           539648.0021
          ],
          "type": "Point"
         },
         "properties": {
          "Count": 10,
          "Date": null,
          "Date.1": 1998,
          "Location.Info": "North East Gulf",
          "Location.Value": "Northwest Harwood Island",
          "Site.Key": "H0186"
         },
         "type": "Feature"
        },
        {
         "geometry": {
          "coordinates": [
           1088550.2376,
           546958.753
          ],
          "type": "Point"
         },
         "properties": {
          "Count": 44,
          "Date": " 1998-08-07",
          "Date.1": 1998,
          "Location.Info": "North East Gulf",
          "Location.Value": "Southeast Savary Island Reefs",
          "Site.Key": "H0187"
         },
         "type": "Feature"
        },
        {
         "geometry": {
          "coordinates": [
           1084983.8952,
           553227.346
          ],
          "type": "Point"
         },
         "properties": {
          "Count": 129,
          "Date": " 1998-08-07",
          "Date.1": 1998,
          "Location.Info": "North East Gulf",
          "Location.Value": "Major Islet",
          "Site.Key": "H0188"
         },
         "type": "Feature"
        },
        {
         "geometry": {
          "coordinates": [
           1205004.315,
           466597.4559
          ],
          "type": "Point"
         },
         "properties": {
          "Count": 190,
          "Date": " 1998-08-05",
          "Date.1": 1998,
          "Location.Info": "Fraser River",
          "Location.Value": "Swishwash Island",
          "Site.Key": "H0199"
         },
         "type": "Feature"
        },
        {
         "geometry": {
          "coordinates": [
           1185563.1707,
           487843.6891
          ],
          "type": "Point"
         },
         "properties": {
          "Count": 6.25,
          "Date": null,
          "Date.1": 1998,
          "Location.Info": "Howe Sound",
          "Location.Value": "Raged Island",
          "Site.Key": "H0200"
         },
         "type": "Feature"
        },
        {
         "geometry": {
          "coordinates": [
           1197843.3667,
           455412.2221
          ],
          "type": "Point"
         },
         "properties": {
          "Count": 59.4444,
          "Date": null,
          "Date.1": 1998,
          "Location.Info": "Fraser River",
          "Location.Value": "North Roberts Bank Site H",
          "Site.Key": "H0201"
         },
         "type": "Feature"
        },
        {
         "geometry": {
          "coordinates": [
           1092347.577,
           497163.2834
          ],
          "type": "Point"
         },
         "properties": {
          "Count": 59,
          "Date": " 1998-08-08",
          "Date.1": 1998,
          "Location.Info": "North West Gulf",
          "Location.Value": "East Repulse Point",
          "Site.Key": "H0202"
         },
         "type": "Feature"
        },
        {
         "geometry": {
          "coordinates": [
           1097618.5608,
           498372.5308
          ],
          "type": "Point"
         },
         "properties": {
          "Count": 123,
          "Date": " 1998-08-08",
          "Date.1": 1998,
          "Location.Info": "North West Gulf",
          "Location.Value": "East Norman Point",
          "Site.Key": "H0203"
         },
         "type": "Feature"
        },
        {
         "geometry": {
          "coordinates": [
           1089337.6843,
           505503.4427
          ],
          "type": "Point"
         },
         "properties": {
          "Count": 15,
          "Date": " 1998-08-08",
          "Date.1": 1998,
          "Location.Info": "North West Gulf",
          "Location.Value": "South Komas Bluff",
          "Site.Key": "H0204"
         },
         "type": "Feature"
        },
        {
         "geometry": {
          "coordinates": [
           1135246.3332,
           516774.0586
          ],
          "type": "Point"
         },
         "properties": {
          "Count": 9.2222,
          "Date": null,
          "Date.1": 1998,
          "Location.Info": "North East Gulf",
          "Location.Value": "Mermaid Point",
          "Site.Key": "H0205"
         },
         "type": "Feature"
        },
        {
         "geometry": {
          "coordinates": [
           1202628.0917,
           459577.263
          ],
          "type": "Point"
         },
         "properties": {
          "Count": 79,
          "Date": " 1998-08-05",
          "Date.1": 1998,
          "Location.Info": "Fraser River",
          "Location.Value": "North Roberts Bank Site G",
          "Site.Key": "H0206"
         },
         "type": "Feature"
        },
        {
         "geometry": {
          "coordinates": [
           1126365.7042,
           502079.8863
          ],
          "type": "Point"
         },
         "properties": {
          "Count": 352,
          "Date": " 1998-08-06",
          "Date.1": 1998,
          "Location.Info": "North East Gulf",
          "Location.Value": "Northwest Jervis Island Islet",
          "Site.Key": "H0209"
         },
         "type": "Feature"
        },
        {
         "geometry": {
          "coordinates": [
           1204762.9217,
           383715.9738
          ],
          "type": "Point"
         },
         "properties": {
          "Count": 232,
          "Date": " 1998-09-06",
          "Date.1": 1998,
          "Location.Info": "South Gulf",
          "Location.Value": "Chatham Islands",
          "Site.Key": "H0212"
         },
         "type": "Feature"
        },
        {
         "geometry": {
          "coordinates": [
           1162112.5203,
           444179.0625
          ],
          "type": "Point"
         },
         "properties": {
          "Count": 0,
          "Date": null,
          "Date.1": 1998,
          "Location.Info": "Gulf Islands",
          "Location.Value": "Ladysmith Harbour",
          "Site.Key": "H0213"
         },
         "type": "Feature"
        },
        {
         "geometry": {
          "coordinates": [
           1148629.8304,
           498117.8772
          ],
          "type": "Point"
         },
         "properties": {
          "Count": 19,
          "Date": " 1998-08-06",
          "Date.1": 1998,
          "Location.Info": "North East Gulf",
          "Location.Value": "Mideast South Thormanby Island",
          "Site.Key": "H0215"
         },
         "type": "Feature"
        },
        {
         "geometry": {
          "coordinates": [
           1182745.3671,
           372266.8117
          ],
          "type": "Point"
         },
         "properties": {
          "Count": 109,
          "Date": " 1998-09-06",
          "Date.1": 1998,
          "Location.Info": "South Gulf",
          "Location.Value": "Anchor Rock",
          "Site.Key": "H0216"
         },
         "type": "Feature"
        },
        {
         "geometry": {
          "coordinates": [
           1187318.5759,
           377878.9357
          ],
          "type": "Point"
         },
         "properties": {
          "Count": 153,
          "Date": " 1998-09-06",
          "Date.1": 1998,
          "Location.Info": "South Gulf",
          "Location.Value": "Albert Head",
          "Site.Key": "H0217"
         },
         "type": "Feature"
        },
        {
         "geometry": {
          "coordinates": [
           1199179.6962,
           408490.7894
          ],
          "type": "Point"
         },
         "properties": {
          "Count": 27,
          "Date": null,
          "Date.1": 1998,
          "Location.Info": "South Gulf",
          "Location.Value": "North Cod Reef",
          "Site.Key": "H0218"
         },
         "type": "Feature"
        },
        {
         "geometry": {
          "coordinates": [
           1201234.472,
           409025.0513
          ],
          "type": "Point"
         },
         "properties": {
          "Count": 28,
          "Date": " 1998-09-06",
          "Date.1": 1998,
          "Location.Info": "South Gulf",
          "Location.Value": "Tom Point",
          "Site.Key": "H0219"
         },
         "type": "Feature"
        },
        {
         "geometry": {
          "coordinates": [
           1197600.1608,
           408075.2944
          ],
          "type": "Point"
         },
         "properties": {
          "Count": 57,
          "Date": " 1998-09-06",
          "Date.1": 1998,
          "Location.Info": "South Gulf",
          "Location.Value": "Southeast Forrest Island Reefs",
          "Site.Key": "H0220"
         },
         "type": "Feature"
        },
        {
         "geometry": {
          "coordinates": [
           1191346.9982,
           413041.1339
          ],
          "type": "Point"
         },
         "properties": {
          "Count": 28,
          "Date": " 1998-09-06",
          "Date.1": 1998,
          "Location.Info": "South Gulf",
          "Location.Value": "Clive Island",
          "Site.Key": "H0221"
         },
         "type": "Feature"
        },
        {
         "geometry": {
          "coordinates": [
           1193537.3952,
           416843.5758
          ],
          "type": "Point"
         },
         "properties": {
          "Count": 42,
          "Date": " 1998-09-06",
          "Date.1": 1998,
          "Location.Info": "South Gulf",
          "Location.Value": "East Chads Island",
          "Site.Key": "H0222"
         },
         "type": "Feature"
        },
        {
         "geometry": {
          "coordinates": [
           1194564.4338,
           416193.0111
          ],
          "type": "Point"
         },
         "properties": {
          "Count": 0,
          "Date": " 1998-09-06",
          "Date.1": 1998,
          "Location.Info": "South Gulf",
          "Location.Value": "Pellow Islets",
          "Site.Key": "H0223"
         },
         "type": "Feature"
        },
        {
         "geometry": {
          "coordinates": [
           1199724.4859,
           414899.426
          ],
          "type": "Point"
         },
         "properties": {
          "Count": 11,
          "Date": null,
          "Date.1": 1998,
          "Location.Info": "South Gulf",
          "Location.Value": "Pelorus Point",
          "Site.Key": "H0224"
         },
         "type": "Feature"
        },
        {
         "geometry": {
          "coordinates": [
           1200835.3157,
           405577.1207
          ],
          "type": "Point"
         },
         "properties": {
          "Count": 33,
          "Date": " 1998-09-06",
          "Date.1": 1998,
          "Location.Info": "South Gulf",
          "Location.Value": "South Mandarte Island Reef",
          "Site.Key": "H0225"
         },
         "type": "Feature"
        },
        {
         "geometry": {
          "coordinates": [
           1192801.2979,
           414816.5991
          ],
          "type": "Point"
         },
         "properties": {
          "Count": 0,
          "Date": " 1998-09-06",
          "Date.1": 1998,
          "Location.Info": "South Gulf",
          "Location.Value": "South Brackman Island",
          "Site.Key": "H0226"
         },
         "type": "Feature"
        },
        {
         "geometry": {
          "coordinates": [
           1171391.5229,
           453357.0211
          ],
          "type": "Point"
         },
         "properties": {
          "Count": 3.7143,
          "Date": null,
          "Date.1": 1998,
          "Location.Info": "Gulf Islands",
          "Location.Value": "North Blackberry Point",
          "Site.Key": "H0227"
         },
         "type": "Feature"
        },
        {
         "geometry": {
          "coordinates": [
           1167493.0338,
           458019.5839
          ],
          "type": "Point"
         },
         "properties": {
          "Count": 2.6667,
          "Date": null,
          "Date.1": 1998,
          "Location.Info": "Gulf Islands",
          "Location.Value": "South Dibuxante Point",
          "Site.Key": "H0228"
         },
         "type": "Feature"
        },
        {
         "geometry": {
          "coordinates": [
           1184496.0258,
           485358.8718
          ],
          "type": "Point"
         },
         "properties": {
          "Count": 67,
          "Date": " 1998-08-05",
          "Date.1": 1998,
          "Location.Info": "Howe Sound",
          "Location.Value": "South Pasley Island Rock",
          "Site.Key": "H0229"
         },
         "type": "Feature"
        },
        {
         "geometry": {
          "coordinates": [
           1198761.8609,
           493897.9273
          ],
          "type": "Point"
         },
         "properties": {
          "Count": 14,
          "Date": " 1998-08-05",
          "Date.1": 1998,
          "Location.Info": "Howe Sound",
          "Location.Value": "East Bowyer Island",
          "Site.Key": "H0230"
         },
         "type": "Feature"
        },
        {
         "geometry": {
          "coordinates": [
           1200168.4763,
           464728.8805
          ],
          "type": "Point"
         },
         "properties": {
          "Count": 25,
          "Date": null,
          "Date.1": 1998,
          "Location.Info": "Fraser River",
          "Location.Value": "South Sturgeon Bank Site D",
          "Site.Key": "H0231"
         },
         "type": "Feature"
        },
        {
         "geometry": {
          "coordinates": [
           1196854.8337,
           487540.7661
          ],
          "type": "Point"
         },
         "properties": {
          "Count": 6,
          "Date": " 1998-08-05",
          "Date.1": 1998,
          "Location.Info": "Howe Sound",
          "Location.Value": "Whyte Islet",
          "Site.Key": "H0232"
         },
         "type": "Feature"
        },
        {
         "geometry": {
          "coordinates": [
           1159620.6811,
           468329.6444
          ],
          "type": "Point"
         },
         "properties": {
          "Count": 123,
          "Date": " 1998-09-04",
          "Date.1": 1998,
          "Location.Info": "Gulf Islands",
          "Location.Value": "Northwest Entrance Island Reefs",
          "Site.Key": "H0233"
         },
         "type": "Feature"
        },
        {
         "geometry": {
          "coordinates": [
           1161808.8843,
           454826.7464
          ],
          "type": "Point"
         },
         "properties": {
          "Count": 31,
          "Date": " 1998-09-04",
          "Date.1": 1998,
          "Location.Info": "Gulf Islands",
          "Location.Value": "Southeast Flewette Point Reef",
          "Site.Key": "H0234"
         },
         "type": "Feature"
        },
        {
         "geometry": {
          "coordinates": [
           1171546.7792,
           438915.4187
          ],
          "type": "Point"
         },
         "properties": {
          "Count": 83,
          "Date": " 1998-09-04",
          "Date.1": 1998,
          "Location.Info": "Gulf Islands",
          "Location.Value": "Escape Reef",
          "Site.Key": "H0235"
         },
         "type": "Feature"
        },
        {
         "geometry": {
          "coordinates": [
           1175191.1986,
           442715.3181
          ],
          "type": "Point"
         },
         "properties": {
          "Count": 13,
          "Date": " 1998-09-04",
          "Date.1": 1998,
          "Location.Info": "Gulf Islands",
          "Location.Value": "Mowgli Island",
          "Site.Key": "H0236"
         },
         "type": "Feature"
        },
        {
         "geometry": {
          "coordinates": [
           1194654.2026,
           425817.9883
          ],
          "type": "Point"
         },
         "properties": {
          "Count": 9.375,
          "Date": null,
          "Date.1": 1998,
          "Location.Info": "Gulf Islands",
          "Location.Value": "Red Islets",
          "Site.Key": "H0237"
         },
         "type": "Feature"
        },
        {
         "geometry": {
          "coordinates": [
           1200929.6262,
           425145.3785
          ],
          "type": "Point"
         },
         "properties": {
          "Count": 5,
          "Date": " 1998-09-05",
          "Date.1": 1998,
          "Location.Info": "Gulf Islands",
          "Location.Value": "Fane Island",
          "Site.Key": "H0238"
         },
         "type": "Feature"
        },
        {
         "geometry": {
          "coordinates": [
           1208671.7491,
           418427.5083
          ],
          "type": "Point"
         },
         "properties": {
          "Count": 74,
          "Date": " 1998-09-05",
          "Date.1": 1998,
          "Location.Info": "Gulf Islands",
          "Location.Value": "Blunden Islet",
          "Site.Key": "H0239"
         },
         "type": "Feature"
        },
        {
         "geometry": {
          "coordinates": [
           1205543.6254,
           425203.3411
          ],
          "type": "Point"
         },
         "properties": {
          "Count": 26,
          "Date": " 1998-09-05",
          "Date.1": 1998,
          "Location.Info": "Gulf Islands",
          "Location.Value": "King Islets",
          "Site.Key": "H0240"
         },
         "type": "Feature"
        },
        {
         "geometry": {
          "coordinates": [
           1201947.8146,
           430585.2711
          ],
          "type": "Point"
         },
         "properties": {
          "Count": 14,
          "Date": " 1998-09-05",
          "Date.1": 1998,
          "Location.Info": "Gulf Islands",
          "Location.Value": "Southeast Edith Point Reefs",
          "Site.Key": "H0241"
         },
         "type": "Feature"
        },
        {
         "geometry": {
          "coordinates": [
           1217223.0097,
           424999.8807
          ],
          "type": "Point"
         },
         "properties": {
          "Count": 12.6667,
          "Date": null,
          "Date.1": 1998,
          "Location.Info": "Gulf Islands",
          "Location.Value": "Tumbo Reef",
          "Site.Key": "H0242"
         },
         "type": "Feature"
        },
        {
         "geometry": {
          "coordinates": [
           1176619.4965,
           448798.2081
          ],
          "type": "Point"
         },
         "properties": {
          "Count": 208,
          "Date": " 1998-09-04",
          "Date.1": 1998,
          "Location.Info": "Gulf Islands",
          "Location.Value": "Canoe Islet",
          "Site.Key": "H0243"
         },
         "type": "Feature"
        },
        {
         "geometry": {
          "coordinates": [
           1130807.1826,
           507795.4926
          ],
          "type": "Point"
         },
         "properties": {
          "Count": 10,
          "Date": " 1998-08-06",
          "Date.1": 1998,
          "Location.Info": "North East Gulf",
          "Location.Value": "Southeast Texada Island",
          "Site.Key": "H0244"
         },
         "type": "Feature"
        },
        {
         "geometry": {
          "coordinates": [
           1127526.6728,
           501730.5901
          ],
          "type": "Point"
         },
         "properties": {
          "Count": 148.75,
          "Date": null,
          "Date.1": 1998,
          "Location.Info": "North East Gulf",
          "Location.Value": "Northeast Jervis Island",
          "Site.Key": "H0245"
         },
         "type": "Feature"
        },
        {
         "geometry": {
          "coordinates": [
           1132992.7284,
           493285.9711
          ],
          "type": "Point"
         },
         "properties": {
          "Count": 29.5,
          "Date": null,
          "Date.1": 1998,
          "Location.Info": "North East Gulf",
          "Location.Value": "East Young Point Rock",
          "Site.Key": "H0246"
         },
         "type": "Feature"
        },
        {
         "geometry": {
          "coordinates": [
           1116587.1827,
           499969.2394
          ],
          "type": "Point"
         },
         "properties": {
          "Count": 70,
          "Date": " 1998-08-07",
          "Date.1": 1998,
          "Location.Info": "North East Gulf",
          "Location.Value": "Finnerty Islands",
          "Site.Key": "H0247"
         },
         "type": "Feature"
        },
        {
         "geometry": {
          "coordinates": [
           1113105.1476,
           512866.9432
          ],
          "type": "Point"
         },
         "properties": {
          "Count": 8,
          "Date": " 1998-08-07",
          "Date.1": 1998,
          "Location.Info": "North East Gulf",
          "Location.Value": "Midwest Texada Island",
          "Site.Key": "H0248"
         },
         "type": "Feature"
        },
        {
         "geometry": {
          "coordinates": [
           1110568.0017,
           515836.0879
          ],
          "type": "Point"
         },
         "properties": {
          "Count": 78,
          "Date": " 1998-08-07",
          "Date.1": 1998,
          "Location.Info": "North East Gulf",
          "Location.Value": "South Dick Island",
          "Site.Key": "H0249"
         },
         "type": "Feature"
        },
        {
         "geometry": {
          "coordinates": [
           1098476.5909,
           525675.0136
          ],
          "type": "Point"
         },
         "properties": {
          "Count": 20,
          "Date": " 1998-08-07",
          "Date.1": 1998,
          "Location.Info": "North East Gulf",
          "Location.Value": "North Favada Point Rock",
          "Site.Key": "H0250"
         },
         "type": "Feature"
        },
        {
         "geometry": {
          "coordinates": [
           1113512.1175,
           498065.8357
          ],
          "type": "Point"
         },
         "properties": {
          "Count": 258,
          "Date": " 1998-08-07",
          "Date.1": 1998,
          "Location.Info": "North East Gulf",
          "Location.Value": "Sisters Islets",
          "Site.Key": "H0251"
         },
         "type": "Feature"
        },
        {
         "geometry": {
          "coordinates": [
           1194481.686,
           495847.2389
          ],
          "type": "Point"
         },
         "properties": {
          "Count": 2.5,
          "Date": null,
          "Date.1": 1998,
          "Location.Info": "Howe Sound",
          "Location.Value": "Sisters Islets",
          "Site.Key": "H0252"
         },
         "type": "Feature"
        },
        {
         "geometry": {
          "coordinates": [
           1183808.5236,
           487291.3737
          ],
          "type": "Point"
         },
         "properties": {
          "Count": 13.25,
          "Date": null,
          "Date.1": 1998,
          "Location.Info": "Howe Sound",
          "Location.Value": "North Hermit Island Rock",
          "Site.Key": "H0253"
         },
         "type": "Feature"
        },
        {
         "geometry": {
          "coordinates": [
           1190000.608,
           491742.4048
          ],
          "type": "Point"
         },
         "properties": {
          "Count": 0,
          "Date": " 1998-08-05",
          "Date.1": 1998,
          "Location.Info": "Howe Sound",
          "Location.Value": "West Hutt Island",
          "Site.Key": "H0315"
         },
         "type": "Feature"
        },
        {
         "geometry": {
          "coordinates": [
           1195666.6867,
           503422.4465
          ],
          "type": "Point"
         },
         "properties": {
          "Count": 0.5,
          "Date": null,
          "Date.1": 1998,
          "Location.Info": "Howe Sound",
          "Location.Value": "North Irby Point Rocks",
          "Site.Key": "H0316"
         },
         "type": "Feature"
        },
        {
         "geometry": {
          "coordinates": [
           1183178.0579,
           400874.2255
          ],
          "type": "Point"
         },
         "properties": {
          "Count": 11.7778,
          "Date": null,
          "Date.1": 1998,
          "Location.Info": "South Gulf",
          "Location.Value": "North Bamberton",
          "Site.Key": "H0318"
         },
         "type": "Feature"
        },
        {
         "geometry": {
          "coordinates": [
           1183830.6109,
           397876.2828
          ],
          "type": "Point"
         },
         "properties": {
          "Count": 7,
          "Date": null,
          "Date.1": 1998,
          "Location.Info": "South Gulf",
          "Location.Value": "Sheppard Point",
          "Site.Key": "H0319"
         },
         "type": "Feature"
        },
        {
         "geometry": {
          "coordinates": [
           1181419.0269,
           389530.0365
          ],
          "type": "Point"
         },
         "properties": {
          "Count": 3.6667,
          "Date": null,
          "Date.1": 1998,
          "Location.Info": "South Gulf",
          "Location.Value": "Goldstream Estuary",
          "Site.Key": "H0320"
         },
         "type": "Feature"
        },
        {
         "geometry": {
          "coordinates": [
           1190336.9954,
           382306.6272
          ],
          "type": "Point"
         },
         "properties": {
          "Count": 10,
          "Date": " 1998-09-06",
          "Date.1": 1998,
          "Location.Info": "South Gulf",
          "Location.Value": "Brothers Islands",
          "Site.Key": "H0321"
         },
         "type": "Feature"
        },
        {
         "geometry": {
          "coordinates": [
           1202133.9371,
           382225.9394
          ],
          "type": "Point"
         },
         "properties": {
          "Count": 185,
          "Date": " 1998-09-06",
          "Date.1": 1998,
          "Location.Info": "South Gulf",
          "Location.Value": "Great Chain Island",
          "Site.Key": "H0322"
         },
         "type": "Feature"
        },
        {
         "geometry": {
          "coordinates": [
           1195045.8152,
           409823.2503
          ],
          "type": "Point"
         },
         "properties": {
          "Count": 6,
          "Date": " 1998-09-06",
          "Date.1": 1998,
          "Location.Info": "South Gulf",
          "Location.Value": "Dock Island",
          "Site.Key": "H0323"
         },
         "type": "Feature"
        },
        {
         "geometry": {
          "coordinates": [
           1187782.5271,
           408757.1145
          ],
          "type": "Point"
         },
         "properties": {
          "Count": 3,
          "Date": null,
          "Date.1": 1998,
          "Location.Info": "South Gulf",
          "Location.Value": "Northeast Patricia Bay",
          "Site.Key": "H0324"
         },
         "type": "Feature"
        },
        {
         "geometry": {
          "coordinates": [
           1148803.7813,
           496621.8074
          ],
          "type": "Point"
         },
         "properties": {
          "Count": 52,
          "Date": " 1998-08-06",
          "Date.1": 1998,
          "Location.Info": "North East Gulf",
          "Location.Value": "Pirate Rock",
          "Site.Key": "H0325"
         },
         "type": "Feature"
        },
        {
         "geometry": {
          "coordinates": [
           1155651.2863,
           521481.2329
          ],
          "type": "Point"
         },
         "properties": {
          "Count": 109,
          "Date": null,
          "Date.1": 1998,
          "Location.Info": "North East Gulf",
          "Location.Value": "Northwest Highland Point Reef",
          "Site.Key": "H0326"
         },
         "type": "Feature"
        },
        {
         "geometry": {
          "coordinates": [
           1115768.5682,
           529007.5481
          ],
          "type": "Point"
         },
         "properties": {
          "Count": 0.3846,
          "Date": null,
          "Date.1": 1998,
          "Location.Info": "North East Gulf",
          "Location.Value": "Albion Point",
          "Site.Key": "H0327"
         },
         "type": "Feature"
        },
        {
         "geometry": {
          "coordinates": [
           1128249.5444,
           493098.6354
          ],
          "type": "Point"
         },
         "properties": {
          "Count": 196,
          "Date": " 1998-08-06",
          "Date.1": 1998,
          "Location.Info": "North East Gulf",
          "Location.Value": "Seal Reef",
          "Site.Key": "H0328"
         },
         "type": "Feature"
        },
        {
         "geometry": {
          "coordinates": [
           1069471.6026,
           534761.5132
          ],
          "type": "Point"
         },
         "properties": {
          "Count": 93,
          "Date": " 1998-08-08",
          "Date.1": 1998,
          "Location.Info": "North West Gulf",
          "Location.Value": "South Williams Beach",
          "Site.Key": "H0329"
         },
         "type": "Feature"
        },
        {
         "geometry": {
          "coordinates": [
           1074810.2361,
           528531.5035
          ],
          "type": "Point"
         },
         "properties": {
          "Count": 192,
          "Date": " 1998-08-08",
          "Date.1": 1998,
          "Location.Info": "North West Gulf",
          "Location.Value": "North Little River Reef",
          "Site.Key": "H0330"
         },
         "type": "Feature"
        },
        {
         "geometry": {
          "coordinates": [
           1106048.8551,
           485822.6514
          ],
          "type": "Point"
         },
         "properties": {
          "Count": 157,
          "Date": " 1998-08-08",
          "Date.1": 1998,
          "Location.Info": "North West Gulf",
          "Location.Value": "South Qualicum Bay Reef",
          "Site.Key": "H0331"
         },
         "type": "Feature"
        },
        {
         "geometry": {
          "coordinates": [
           1100429.6098,
           499594.0907
          ],
          "type": "Point"
         },
         "properties": {
          "Count": 0,
          "Date": " 1998-08-08",
          "Date.1": 1998,
          "Location.Info": "North West Gulf",
          "Location.Value": "Nash Bank Reef",
          "Site.Key": "H0332"
         },
         "type": "Feature"
        },
        {
         "geometry": {
          "coordinates": [
           1129627.6222,
           499470.5684
          ],
          "type": "Point"
         },
         "properties": {
          "Count": 1.1111,
          "Date": null,
          "Date.1": 1998,
          "Location.Info": "North East Gulf",
          "Location.Value": "West Jedediah Island Reef",
          "Site.Key": "H0333"
         },
         "type": "Feature"
        },
        {
         "geometry": {
          "coordinates": [
           1066458.9178,
           563051.9345
          ],
          "type": "Point"
         },
         "properties": {
          "Count": 6,
          "Date": " 1998-08-07",
          "Date.1": 1998,
          "Location.Info": "North East Gulf",
          "Location.Value": "Northwest Marina Island Reef",
          "Site.Key": "H0334"
         },
         "type": "Feature"
        },
        {
         "geometry": {
          "coordinates": [
           1151088.9867,
           470129.1417
          ],
          "type": "Point"
         },
         "properties": {
          "Count": 38,
          "Date": " 1998-08-09",
          "Date.1": 1998,
          "Location.Info": "Gulf Islands",
          "Location.Value": "Hudson Rocks",
          "Site.Key": "H0335"
         },
         "type": "Feature"
        },
        {
         "geometry": {
          "coordinates": [
           1180372.9023,
           440937.084
          ],
          "type": "Point"
         },
         "properties": {
          "Count": 2.6667,
          "Date": null,
          "Date.1": 1998,
          "Location.Info": "Gulf Islands",
          "Location.Value": "Midwest Galiano Island Reef D",
          "Site.Key": "H0336"
         },
         "type": "Feature"
        },
        {
         "geometry": {
          "coordinates": [
           1204408.0697,
           426558.7211
          ],
          "type": "Point"
         },
         "properties": {
          "Count": 0,
          "Date": " 1998-09-05",
          "Date.1": 1998,
          "Location.Info": "Gulf Islands",
          "Location.Value": "Lizard Island",
          "Site.Key": "H0337"
         },
         "type": "Feature"
        },
        {
         "geometry": {
          "coordinates": [
           1198236.649,
           416586.8911
          ],
          "type": "Point"
         },
         "properties": {
          "Count": 8,
          "Date": null,
          "Date.1": 1998,
          "Location.Info": "South Gulf",
          "Location.Value": "Parkin Point",
          "Site.Key": "H0338"
         },
         "type": "Feature"
        },
        {
         "geometry": {
          "coordinates": [
           1134567.1418,
           478875.0499
          ],
          "type": "Point"
         },
         "properties": {
          "Count": 12,
          "Date": " 1998-08-09",
          "Date.1": 1998,
          "Location.Info": "North West Gulf",
          "Location.Value": "Douglas Island",
          "Site.Key": "H0339"
         },
         "type": "Feature"
        },
        {
         "geometry": {
          "coordinates": [
           1133528.2735,
           479070.3265
          ],
          "type": "Point"
         },
         "properties": {
          "Count": 91,
          "Date": " 1998-08-09",
          "Date.1": 1998,
          "Location.Info": "North West Gulf",
          "Location.Value": "Gerald Island",
          "Site.Key": "H0340"
         },
         "type": "Feature"
        },
        {
         "geometry": {
          "coordinates": [
           1132759.1693,
           473881.8188
          ],
          "type": "Point"
         },
         "properties": {
          "Count": 0,
          "Date": " 1998-08-09",
          "Date.1": 1998,
          "Location.Info": "North West Gulf",
          "Location.Value": "Nanoose Bay",
          "Site.Key": "H0341"
         },
         "type": "Feature"
        },
        {
         "geometry": {
          "coordinates": [
           1169640.4512,
           460323.6625
          ],
          "type": "Point"
         },
         "properties": {
          "Count": 0,
          "Date": " 1998-09-04",
          "Date.1": 1998,
          "Location.Info": "Gulf Islands",
          "Location.Value": "Breakwater Island",
          "Site.Key": "H0342"
         },
         "type": "Feature"
        },
        {
         "geometry": {
          "coordinates": [
           1162965.3494,
           459686.5543
          ],
          "type": "Point"
         },
         "properties": {
          "Count": 1.75,
          "Date": null,
          "Date.1": 1998,
          "Location.Info": "Gulf Islands",
          "Location.Value": "Southeast False Narrows",
          "Site.Key": "H0343"
         },
         "type": "Feature"
        },
        {
         "geometry": {
          "coordinates": [
           1161116.8538,
           456138.7954
          ],
          "type": "Point"
         },
         "properties": {
          "Count": 31,
          "Date": " 1998-09-04",
          "Date.1": 1998,
          "Location.Info": "Gulf Islands",
          "Location.Value": "Northeast Reynolds Point Reef",
          "Site.Key": "H0344"
         },
         "type": "Feature"
        },
        {
         "geometry": {
          "coordinates": [
           1174355.0504,
           435942.1715
          ],
          "type": "Point"
         },
         "properties": {
          "Count": 59,
          "Date": " 1998-09-04",
          "Date.1": 1998,
          "Location.Info": "Gulf Islands",
          "Location.Value": "North Reef",
          "Site.Key": "H0345"
         },
         "type": "Feature"
        },
        {
         "geometry": {
          "coordinates": [
           1174969.3321,
           444508.0871
          ],
          "type": "Point"
         },
         "properties": {
          "Count": 1,
          "Date": " 1998-09-04",
          "Date.1": 1998,
          "Location.Info": "Gulf Islands",
          "Location.Value": "South Reid Island Reef",
          "Site.Key": "H0346"
         },
         "type": "Feature"
        },
        {
         "geometry": {
          "coordinates": [
           1181118.5333,
           438073.8175
          ],
          "type": "Point"
         },
         "properties": {
          "Count": 44,
          "Date": " 1998-09-04",
          "Date.1": 1998,
          "Location.Info": "Gulf Islands",
          "Location.Value": "Panther Point",
          "Site.Key": "H0347"
         },
         "type": "Feature"
        },
        {
         "geometry": {
          "coordinates": [
           1180170.6832,
           438729.7918
          ],
          "type": "Point"
         },
         "properties": {
          "Count": 2,
          "Date": " 1998-09-04",
          "Date.1": 1998,
          "Location.Info": "Gulf Islands",
          "Location.Value": "Conover Cove Reefs",
          "Site.Key": "H0348"
         },
         "type": "Feature"
        },
        {
         "geometry": {
          "coordinates": [
           1175951.8399,
           438885.09
          ],
          "type": "Point"
         },
         "properties": {
          "Count": 0,
          "Date": null,
          "Date.1": 1998,
          "Location.Info": "Gulf Islands",
          "Location.Value": "Grappler Rock",
          "Site.Key": "H0349"
         },
         "type": "Feature"
        },
        {
         "geometry": {
          "coordinates": [
           1196428.9027,
           434363.1738
          ],
          "type": "Point"
         },
         "properties": {
          "Count": 11,
          "Date": " 1998-09-05",
          "Date.1": 1998,
          "Location.Info": "Gulf Islands",
          "Location.Value": "York Rocks",
          "Site.Key": "H0350"
         },
         "type": "Feature"
        },
        {
         "geometry": {
          "coordinates": [
           1147859.1072,
           496416.6001
          ],
          "type": "Point"
         },
         "properties": {
          "Count": 55,
          "Date": null,
          "Date.1": 1998,
          "Location.Info": "North East Gulf",
          "Location.Value": "Bertha Island",
          "Site.Key": "H0351"
         },
         "type": "Feature"
        },
        {
         "geometry": {
          "coordinates": [
           1146316.4407,
           501398.373
          ],
          "type": "Point"
         },
         "properties": {
          "Count": 0,
          "Date": null,
          "Date.1": 1998,
          "Location.Info": "North East Gulf",
          "Location.Value": "Derby Point",
          "Site.Key": "H0352"
         },
         "type": "Feature"
        },
        {
         "geometry": {
          "coordinates": [
           1129546.8946,
           520952.6921
          ],
          "type": "Point"
         },
         "properties": {
          "Count": 32,
          "Date": " 1998-08-06",
          "Date.1": 1998,
          "Location.Info": "North East Gulf",
          "Location.Value": "Strawberry Islet",
          "Site.Key": "H0353"
         },
         "type": "Feature"
        },
        {
         "geometry": {
          "coordinates": [
           1109808.0777,
           531656.2622
          ],
          "type": "Point"
         },
         "properties": {
          "Count": 8,
          "Date": " 1998-08-06",
          "Date.1": 1998,
          "Location.Info": "North East Gulf",
          "Location.Value": "Myrtle Rocks",
          "Site.Key": "H0354"
         },
         "type": "Feature"
        },
        {
         "geometry": {
          "coordinates": [
           1118394.1208,
           497375.6769
          ],
          "type": "Point"
         },
         "properties": {
          "Count": 0.5,
          "Date": null,
          "Date.1": 1998,
          "Location.Info": "North East Gulf",
          "Location.Value": "Heath Islet",
          "Site.Key": "H0355"
         },
         "type": "Feature"
        },
        {
         "geometry": {
          "coordinates": [
           1059110.7011,
           547443.1641
          ],
          "type": "Point"
         },
         "properties": {
          "Count": 83,
          "Date": " 1998-08-08",
          "Date.1": 1998,
          "Location.Info": "North West Gulf",
          "Location.Value": "Shelter Point Reef",
          "Site.Key": "H0356"
         },
         "type": "Feature"
        },
        {
         "geometry": {
          "coordinates": [
           1098442.5477,
           503791.35
          ],
          "type": "Point"
         },
         "properties": {
          "Count": 10,
          "Date": null,
          "Date.1": 1998,
          "Location.Info": "North West Gulf",
          "Location.Value": "Tralee Point",
          "Site.Key": "H0357"
         },
         "type": "Feature"
        },
        {
         "geometry": {
          "coordinates": [
           1098490.5216,
           490707.7062
          ],
          "type": "Point"
         },
         "properties": {
          "Count": 1.6667,
          "Date": null,
          "Date.1": 1998,
          "Location.Info": "North West Gulf",
          "Location.Value": "North Qualicum Bay Reef",
          "Site.Key": "H0358"
         },
         "type": "Feature"
        },
        {
         "geometry": {
          "coordinates": [
           1132382.9362,
           479163.0316
          ],
          "type": "Point"
         },
         "properties": {
          "Count": 6.5,
          "Date": null,
          "Date.1": 1998,
          "Location.Info": "North West Gulf",
          "Location.Value": "Cottam Reef",
          "Site.Key": "H0359"
         },
         "type": "Feature"
        },
        {
         "geometry": {
          "coordinates": [
           1181841.7644,
           411845.8026
          ],
          "type": "Point"
         },
         "properties": {
          "Count": 4.2857,
          "Date": null,
          "Date.1": 1998,
          "Location.Info": "South Gulf",
          "Location.Value": "Hatch Point",
          "Site.Key": "H0360"
         },
         "type": "Feature"
        },
        {
         "geometry": {
          "coordinates": [
           1182124.7447,
           395018.0478
          ],
          "type": "Point"
         },
         "properties": {
          "Count": 23,
          "Date": null,
          "Date.1": 1998,
          "Location.Info": "South Gulf",
          "Location.Value": "Elbow Point",
          "Site.Key": "H0361"
         },
         "type": "Feature"
        },
        {
         "geometry": {
          "coordinates": [
           1197115.4854,
           402125.3246
          ],
          "type": "Point"
         },
         "properties": {
          "Count": 1,
          "Date": " 1998-09-06",
          "Date.1": 1998,
          "Location.Info": "South Gulf",
          "Location.Value": "East James Island",
          "Site.Key": "H0362"
         },
         "type": "Feature"
        },
        {
         "geometry": {
          "coordinates": [
           1197544.1418,
           409750.5777
          ],
          "type": "Point"
         },
         "properties": {
          "Count": 11.5,
          "Date": null,
          "Date.1": 1998,
          "Location.Info": "South Gulf",
          "Location.Value": "West Domville Island",
          "Site.Key": "H0363"
         },
         "type": "Feature"
        },
        {
         "geometry": {
          "coordinates": [
           1186530.3064,
           435809.6054
          ],
          "type": "Point"
         },
         "properties": {
          "Count": 99,
          "Date": " 1998-09-05",
          "Date.1": 1998,
          "Location.Info": "Gulf Islands",
          "Location.Value": "Ballingall Islets",
          "Site.Key": "H0364"
         },
         "type": "Feature"
        },
        {
         "geometry": {
          "coordinates": [
           1189147.8343,
           413460.8191
          ],
          "type": "Point"
         },
         "properties": {
          "Count": 30,
          "Date": " 1998-09-06",
          "Date.1": 1998,
          "Location.Info": "South Gulf",
          "Location.Value": "Arbutus Island",
          "Site.Key": "H0365"
         },
         "type": "Feature"
        },
        {
         "geometry": {
          "coordinates": [
           1192776.8796,
           412882.7125
          ],
          "type": "Point"
         },
         "properties": {
          "Count": 0,
          "Date": " 1998-09-06",
          "Date.1": 1998,
          "Location.Info": "South Gulf",
          "Location.Value": "Pym Island",
          "Site.Key": "H0366"
         },
         "type": "Feature"
        },
        {
         "geometry": {
          "coordinates": [
           1186201.7303,
           404424.1359
          ],
          "type": "Point"
         },
         "properties": {
          "Count": 15.7143,
          "Date": null,
          "Date.1": 1998,
          "Location.Info": "South Gulf",
          "Location.Value": "Dyer Rocks",
          "Site.Key": "H0367"
         },
         "type": "Feature"
        },
        {
         "geometry": {
          "coordinates": [
           1134570.8735,
           478174.8565
          ],
          "type": "Point"
         },
         "properties": {
          "Count": 0,
          "Date": " 1998-08-09",
          "Date.1": 1998,
          "Location.Info": "North West Gulf",
          "Location.Value": "Amelia Island",
          "Site.Key": "H0368"
         },
         "type": "Feature"
        },
        {
         "geometry": {
          "coordinates": [
           1139882.6676,
           476971.3453
          ],
          "type": "Point"
         },
         "properties": {
          "Count": 173,
          "Date": " 1998-08-09",
          "Date.1": 1998,
          "Location.Info": "North West Gulf",
          "Location.Value": "Winchelsea Islands",
          "Site.Key": "H0369"
         },
         "type": "Feature"
        },
        {
         "geometry": {
          "coordinates": [
           1148589.3104,
           471068.0339
          ],
          "type": "Point"
         },
         "properties": {
          "Count": 0,
          "Date": " 1998-08-09",
          "Date.1": 1998,
          "Location.Info": "Gulf Islands",
          "Location.Value": "Neck Point",
          "Site.Key": "H0370"
         },
         "type": "Feature"
        },
        {
         "geometry": {
          "coordinates": [
           1169787.2457,
           461640.065
          ],
          "type": "Point"
         },
         "properties": {
          "Count": 59,
          "Date": " 1998-09-04",
          "Date.1": 1998,
          "Location.Info": "Gulf Islands",
          "Location.Value": "West Bath Island",
          "Site.Key": "H0371"
         },
         "type": "Feature"
        },
        {
         "geometry": {
          "coordinates": [
           1189086.4476,
           489528.9608
          ],
          "type": "Point"
         },
         "properties": {
          "Count": 7,
          "Date": " 1998-08-05",
          "Date.1": 1998,
          "Location.Info": "Howe Sound",
          "Location.Value": "Northwest Bowen Island",
          "Site.Key": "H0372"
         },
         "type": "Feature"
        },
        {
         "geometry": {
          "coordinates": [
           1161185.7094,
           457919.1708
          ],
          "type": "Point"
         },
         "properties": {
          "Count": 33,
          "Date": " 1998-09-04",
          "Date.1": 1998,
          "Location.Info": "Gulf Islands",
          "Location.Value": "South Round Island Reef",
          "Site.Key": "H0373"
         },
         "type": "Feature"
        },
        {
         "geometry": {
          "coordinates": [
           1175923.1943,
           443840.2544
          ],
          "type": "Point"
         },
         "properties": {
          "Count": 52,
          "Date": " 1998-09-04",
          "Date.1": 1998,
          "Location.Info": "Gulf Islands",
          "Location.Value": "East Hall Island",
          "Site.Key": "H0374"
         },
         "type": "Feature"
        },
        {
         "geometry": {
          "coordinates": [
           1189184.6874,
           429682.9272
          ],
          "type": "Point"
         },
         "properties": {
          "Count": 12,
          "Date": null,
          "Date.1": 1998,
          "Location.Info": "Gulf Islands",
          "Location.Value": "Northeast Nose Point",
          "Site.Key": "H0375"
         },
         "type": "Feature"
        },
        {
         "geometry": {
          "coordinates": [
           1200566.313,
           431698.6039
          ],
          "type": "Point"
         },
         "properties": {
          "Count": 28,
          "Date": " 1998-09-05",
          "Date.1": 1998,
          "Location.Info": "Gulf Islands",
          "Location.Value": "East David Cove Reef",
          "Site.Key": "H0376"
         },
         "type": "Feature"
        },
        {
         "geometry": {
          "coordinates": [
           1203398.2267,
           421130.0442
          ],
          "type": "Point"
         },
         "properties": {
          "Count": 3,
          "Date": " 1998-09-05",
          "Date.1": 1998,
          "Location.Info": "Gulf Islands",
          "Location.Value": "Razor Point",
          "Site.Key": "H0377"
         },
         "type": "Feature"
        },
        {
         "geometry": {
          "coordinates": [
           1199241.1209,
           413070.0693
          ],
          "type": "Point"
         },
         "properties": {
          "Count": 14,
          "Date": " 1998-09-06",
          "Date.1": 1998,
          "Location.Info": "South Gulf",
          "Location.Value": "Point Fairfax",
          "Site.Key": "H0378"
         },
         "type": "Feature"
        },
        {
         "geometry": {
          "coordinates": [
           1186056.3299,
           428936.7096
          ],
          "type": "Point"
         },
         "properties": {
          "Count": 12.5,
          "Date": null,
          "Date.1": 1998,
          "Location.Info": "Gulf Islands",
          "Location.Value": "Chain Islets",
          "Site.Key": "H0379"
         },
         "type": "Feature"
        },
        {
         "geometry": {
          "coordinates": [
           1128770.6047,
           499526.8135
          ],
          "type": "Point"
         },
         "properties": {
          "Count": 0,
          "Date": " 1998-08-06",
          "Date.1": 1998,
          "Location.Info": "North East Gulf",
          "Location.Value": "Boho Island",
          "Site.Key": "H0405"
         },
         "type": "Feature"
        },
        {
         "geometry": {
          "coordinates": [
           1132714.6116,
           496180.5913
          ],
          "type": "Point"
         },
         "properties": {
          "Count": 47,
          "Date": " 1998-08-06",
          "Date.1": 1998,
          "Location.Info": "North East Gulf",
          "Location.Value": "East Lasqueti Rock",
          "Site.Key": "H0406"
         },
         "type": "Feature"
        },
        {
         "geometry": {
          "coordinates": [
           1209120.3315,
           455122.0228
          ],
          "type": "Point"
         },
         "properties": {
          "Count": 5,
          "Date": null,
          "Date.1": 1998,
          "Location.Info": "Fraser River",
          "Location.Value": "South Westham Island",
          "Site.Key": "H0408"
         },
         "type": "Feature"
        },
        {
         "geometry": {
          "coordinates": [
           1188495.4528,
           483235.3931
          ],
          "type": "Point"
         },
         "properties": {
          "Count": 22.5,
          "Date": null,
          "Date.1": 1998,
          "Location.Info": "Howe Sound",
          "Location.Value": "East Cape Roger Curtis",
          "Site.Key": "H0409"
         },
         "type": "Feature"
        },
        {
         "geometry": {
          "coordinates": [
           1191572.9459,
           498095.7585
          ],
          "type": "Point"
         },
         "properties": {
          "Count": 0,
          "Date": null,
          "Date.1": 1998,
          "Location.Info": "Howe Sound",
          "Location.Value": "Port Graves",
          "Site.Key": "H0410"
         },
         "type": "Feature"
        },
        {
         "geometry": {
          "coordinates": [
           1191920.9149,
           413084.4364
          ],
          "type": "Point"
         },
         "properties": {
          "Count": 0,
          "Date": null,
          "Date.1": 1998,
          "Location.Info": "South Gulf",
          "Location.Value": "North Knapp Island",
          "Site.Key": "H0411"
         },
         "type": "Feature"
        },
        {
         "geometry": {
          "coordinates": [
           1198472.5321,
           409219.2487
          ],
          "type": "Point"
         },
         "properties": {
          "Count": 13,
          "Date": " 1998-09-06",
          "Date.1": 1998,
          "Location.Info": "South Gulf",
          "Location.Value": "Rubly Island",
          "Site.Key": "H0412"
         },
         "type": "Feature"
        },
        {
         "geometry": {
          "coordinates": [
           1199429.7629,
           409677.8686
          ],
          "type": "Point"
         },
         "properties": {
          "Count": 5,
          "Date": " 1998-09-06",
          "Date.1": 1998,
          "Location.Info": "South Gulf",
          "Location.Value": "South Comet Island",
          "Site.Key": "H0413"
         },
         "type": "Feature"
        },
        {
         "geometry": {
          "coordinates": [
           1080845.2841,
           508264.1162
          ],
          "type": "Point"
         },
         "properties": {
          "Count": 0.6667,
          "Date": null,
          "Date.1": 1998,
          "Location.Info": "North West Gulf",
          "Location.Value": "South Union Point",
          "Site.Key": "H0414"
         },
         "type": "Feature"
        },
        {
         "geometry": {
          "coordinates": [
           1054388.252,
           563341.8378
          ],
          "type": "Point"
         },
         "properties": {
          "Count": 115.7143,
          "Date": null,
          "Date.1": 1998,
          "Location.Info": "North East Gulf",
          "Location.Value": "Gowlland Harbour",
          "Site.Key": "H0415"
         },
         "type": "Feature"
        },
        {
         "geometry": {
          "coordinates": [
           1195600.7969,
           501918.2856
          ],
          "type": "Point"
         },
         "properties": {
          "Count": 24,
          "Date": " 1998-08-05",
          "Date.1": 1998,
          "Location.Info": "Howe Sound",
          "Location.Value": "Christie Islet",
          "Site.Key": "H0445"
         },
         "type": "Feature"
        },
        {
         "geometry": {
          "coordinates": [
           1194857.309,
           497429.7343
          ],
          "type": "Point"
         },
         "properties": {
          "Count": 1,
          "Date": null,
          "Date.1": 1998,
          "Location.Info": "Howe Sound",
          "Location.Value": "North Halkett Point",
          "Site.Key": "H0446"
         },
         "type": "Feature"
        },
        {
         "geometry": {
          "coordinates": [
           1147458.9555,
           496705.3056
          ],
          "type": "Point"
         },
         "properties": {
          "Count": 21,
          "Date": null,
          "Date.1": 1998,
          "Location.Info": "North East Gulf",
          "Location.Value": "South South Thormanby Island Reef",
          "Site.Key": "H0447"
         },
         "type": "Feature"
        },
        {
         "geometry": {
          "coordinates": [
           1141517.8568,
           511082.8564
          ],
          "type": "Point"
         },
         "properties": {
          "Count": 15,
          "Date": " 1998-08-06",
          "Date.1": 1998,
          "Location.Info": "North East Gulf",
          "Location.Value": "North Whitestone Islands",
          "Site.Key": "H0448"
         },
         "type": "Feature"
        },
        {
         "geometry": {
          "coordinates": [
           1220241.1859,
           451692.2525
          ],
          "type": "Point"
         },
         "properties": {
          "Count": 16,
          "Date": " 1998-08-05",
          "Date.1": 1998,
          "Location.Info": "Boundary Bay",
          "Location.Value": "West Boundary Bay Site I",
          "Site.Key": "H0449"
         },
         "type": "Feature"
        },
        {
         "geometry": {
          "coordinates": [
           1202653.4541,
           453886.4567
          ],
          "type": "Point"
         },
         "properties": {
          "Count": 13.3333,
          "Date": null,
          "Date.1": 1998,
          "Location.Info": "Fraser River",
          "Location.Value": "Central Roberts Bank Site I",
          "Site.Key": "H0450"
         },
         "type": "Feature"
        },
        {
         "geometry": {
          "coordinates": [
           1203064.7669,
           465397.8567
          ],
          "type": "Point"
         },
         "properties": {
          "Count": 156,
          "Date": " 1998-08-05",
          "Date.1": 1998,
          "Location.Info": "Fraser River",
          "Location.Value": "Central Sturgeon Bank Site E",
          "Site.Key": "H0451"
         },
         "type": "Feature"
        },
        {
         "geometry": {
          "coordinates": [
           1151704.1344,
           464334.0722
          ],
          "type": "Point"
         },
         "properties": {
          "Count": 2,
          "Date": " 1998-08-09",
          "Date.1": 1998,
          "Location.Info": "Gulf Islands",
          "Location.Value": "West Protection Island",
          "Site.Key": "H0452"
         },
         "type": "Feature"
        },
        {
         "geometry": {
          "coordinates": [
           1179647.3333,
           444723.6341
          ],
          "type": "Point"
         },
         "properties": {
          "Count": 14.5,
          "Date": null,
          "Date.1": 1998,
          "Location.Info": "Gulf Islands",
          "Location.Value": "Northeast Galiano Island",
          "Site.Key": "H0453"
         },
         "type": "Feature"
        },
        {
         "geometry": {
          "coordinates": [
           1183859.241,
           440914.9923
          ],
          "type": "Point"
         },
         "properties": {
          "Count": 21.25,
          "Date": null,
          "Date.1": 1998,
          "Location.Info": "Gulf Islands",
          "Location.Value": "Northmideast Galiano Island",
          "Site.Key": "H0454"
         },
         "type": "Feature"
        },
        {
         "geometry": {
          "coordinates": [
           1213529.0602,
           422057.8273
          ],
          "type": "Point"
         },
         "properties": {
          "Count": 0,
          "Date": " 1998-09-05",
          "Date.1": 1998,
          "Location.Info": "Gulf Islands",
          "Location.Value": "Narvaez Bay Rock",
          "Site.Key": "H0455"
         },
         "type": "Feature"
        },
        {
         "geometry": {
          "coordinates": [
           1213023.2112,
           420914.8053
          ],
          "type": "Point"
         },
         "properties": {
          "Count": 6.5385,
          "Date": null,
          "Date.1": 1998,
          "Location.Info": "Gulf Islands",
          "Location.Value": "West Monarch Head",
          "Site.Key": "H0456"
         },
         "type": "Feature"
        },
        {
         "geometry": {
          "coordinates": [
           1196473.458,
           427930.8839
          ],
          "type": "Point"
         },
         "properties": {
          "Count": 27,
          "Date": " 1998-09-05",
          "Date.1": 1998,
          "Location.Info": "Gulf Islands",
          "Location.Value": "Dinner Point",
          "Site.Key": "H0457"
         },
         "type": "Feature"
        },
        {
         "geometry": {
          "coordinates": [
           1204553.558,
           420041.9602
          ],
          "type": "Point"
         },
         "properties": {
          "Count": 2,
          "Date": null,
          "Date.1": 1998,
          "Location.Info": "Gulf Islands",
          "Location.Value": "North South Pender Island",
          "Site.Key": "H0458"
         },
         "type": "Feature"
        },
        {
         "geometry": {
          "coordinates": [
           1200747.8448,
           418971.7298
          ],
          "type": "Point"
         },
         "properties": {
          "Count": 21,
          "Date": " 1998-09-05",
          "Date.1": 1998,
          "Location.Info": "Gulf Islands",
          "Location.Value": "South North Pender Island",
          "Site.Key": "H0459"
         },
         "type": "Feature"
        },
        {
         "geometry": {
          "coordinates": [
           1193399.1538,
           425126.7485
          ],
          "type": "Point"
         },
         "properties": {
          "Count": 3.3333,
          "Date": null,
          "Date.1": 1998,
          "Location.Info": "Gulf Islands",
          "Location.Value": "Southeast Acland Islands",
          "Site.Key": "H0460"
         },
         "type": "Feature"
        },
        {
         "geometry": {
          "coordinates": [
           1183678.447,
           403468.4913
          ],
          "type": "Point"
         },
         "properties": {
          "Count": 7.4286,
          "Date": null,
          "Date.1": 1998,
          "Location.Info": "South Gulf",
          "Location.Value": "Tozier Rock",
          "Site.Key": "H0461"
         },
         "type": "Feature"
        },
        {
         "geometry": {
          "coordinates": [
           1196047.0573,
           416770.7172
          ],
          "type": "Point"
         },
         "properties": {
          "Count": 106,
          "Date": " 1998-09-06",
          "Date.1": 1998,
          "Location.Info": "South Gulf",
          "Location.Value": "Canoe Rock",
          "Site.Key": "H0462"
         },
         "type": "Feature"
        },
        {
         "geometry": {
          "coordinates": [
           1198310.1497,
           413490.0784
          ],
          "type": "Point"
         },
         "properties": {
          "Count": 6.1429,
          "Date": null,
          "Date.1": 1998,
          "Location.Info": "South Gulf",
          "Location.Value": "West Point Fairfax",
          "Site.Key": "H0463"
         },
         "type": "Feature"
        },
        {
         "geometry": {
          "coordinates": [
           1166885.758,
           459389.2705
          ],
          "type": "Point"
         },
         "properties": {
          "Count": 12.2,
          "Date": null,
          "Date.1": 1998,
          "Location.Info": "Gulf Islands",
          "Location.Value": "Dibuxante Point",
          "Site.Key": "H0464"
         },
         "type": "Feature"
        },
        {
         "geometry": {
          "coordinates": [
           1178241.1273,
           440407.8004
          ],
          "type": "Point"
         },
         "properties": {
          "Count": 30,
          "Date": " 1998-09-04",
          "Date.1": 1998,
          "Location.Info": "Gulf Islands",
          "Location.Value": "South Chivers Point Reef",
          "Site.Key": "H0465"
         },
         "type": "Feature"
        },
        {
         "geometry": {
          "coordinates": [
           1183113.7338,
           370014.9911
          ],
          "type": "Point"
         },
         "properties": {
          "Count": 37,
          "Date": " 1998-09-06",
          "Date.1": 1998,
          "Location.Info": "South Gulf",
          "Location.Value": "Rocky Point",
          "Site.Key": "H0466"
         },
         "type": "Feature"
        },
        {
         "geometry": {
          "coordinates": [
           1182532.1446,
           374124.4536
          ],
          "type": "Point"
         },
         "properties": {
          "Count": 10,
          "Date": " 1998-09-06",
          "Date.1": 1998,
          "Location.Info": "South Gulf",
          "Location.Value": "Parker Bay",
          "Site.Key": "H0467"
         },
         "type": "Feature"
        },
        {
         "geometry": {
          "coordinates": [
           1201733.2729,
           385308.7242
          ],
          "type": "Point"
         },
         "properties": {
          "Count": 1.2,
          "Date": null,
          "Date.1": 1998,
          "Location.Info": "South Gulf",
          "Location.Value": "South Flower Island Rock",
          "Site.Key": "H0468"
         },
         "type": "Feature"
        },
        {
         "geometry": {
          "coordinates": [
           1201672.3559,
           398433.7428
          ],
          "type": "Point"
         },
         "properties": {
          "Count": 28,
          "Date": " 1998-09-06",
          "Date.1": 1998,
          "Location.Info": "South Gulf",
          "Location.Value": "East D'Arcy Island",
          "Site.Key": "H0469"
         },
         "type": "Feature"
        },
        {
         "geometry": {
          "coordinates": [
           1098108.5787,
           497392.4678
          ],
          "type": "Point"
         },
         "properties": {
          "Count": 350,
          "Date": " 1998-08-08",
          "Date.1": 1998,
          "Location.Info": "North West Gulf",
          "Location.Value": "Norris Rocks",
          "Site.Key": "H0470"
         },
         "type": "Feature"
        },
        {
         "geometry": {
          "coordinates": [
           1091743.7679,
           548672.8451
          ],
          "type": "Point"
         },
         "properties": {
          "Count": 0,
          "Date": " 1998-08-07",
          "Date.1": 1998,
          "Location.Info": "North East Gulf",
          "Location.Value": "Dinner Rock",
          "Site.Key": "H0471"
         },
         "type": "Feature"
        },
        {
         "geometry": {
          "coordinates": [
           1135904.5998,
           515935.1675
          ],
          "type": "Point"
         },
         "properties": {
          "Count": 0,
          "Date": " 1998-08-06",
          "Date.1": 1998,
          "Location.Info": "North East Gulf",
          "Location.Value": "Nelosn Rock",
          "Site.Key": "H0472"
         },
         "type": "Feature"
        },
        {
         "geometry": {
          "coordinates": [
           1129931.3314,
           521451.814
          ],
          "type": "Point"
         },
         "properties": {
          "Count": 9.4444,
          "Date": null,
          "Date.1": 1998,
          "Location.Info": "North East Gulf",
          "Location.Value": "Southwest Billings Bay",
          "Site.Key": "H0473"
         },
         "type": "Feature"
        },
        {
         "geometry": {
          "coordinates": [
           1128671.0458,
           502915.5532
          ],
          "type": "Point"
         },
         "properties": {
          "Count": 11,
          "Date": " 1998-08-06",
          "Date.1": 1998,
          "Location.Info": "North East Gulf",
          "Location.Value": "Southeast Boat Cove Rock",
          "Site.Key": "H0474"
         },
         "type": "Feature"
        },
        {
         "geometry": {
          "coordinates": [
           1129873.12,
           502945.8663
          ],
          "type": "Point"
         },
         "properties": {
          "Count": 9.2857,
          "Date": null,
          "Date.1": 1998,
          "Location.Info": "North East Gulf",
          "Location.Value": "Partington Point",
          "Site.Key": "H0475"
         },
         "type": "Feature"
        },
        {
         "geometry": {
          "coordinates": [
           1131373.5554,
           499248.1364
          ],
          "type": "Point"
         },
         "properties": {
          "Count": 29.2857,
          "Date": null,
          "Date.1": 1998,
          "Location.Info": "North East Gulf",
          "Location.Value": "East Jedediah Island Rock",
          "Site.Key": "H0476"
         },
         "type": "Feature"
        },
        {
         "geometry": {
          "coordinates": [
           1128482.7685,
           502910.8309
          ],
          "type": "Point"
         },
         "properties": {
          "Count": 18,
          "Date": " 1998-08-06",
          "Date.1": 1998,
          "Location.Info": "North East Gulf",
          "Location.Value": "Northeast Lasqueti Island Rock",
          "Site.Key": "H0477"
         },
         "type": "Feature"
        },
        {
         "geometry": {
          "coordinates": [
           1124764.1726,
           494024.4799
          ],
          "type": "Point"
         },
         "properties": {
          "Count": 46,
          "Date": " 1998-08-06",
          "Date.1": 1998,
          "Location.Info": "North East Gulf",
          "Location.Value": "East Jenkins Island Rock",
          "Site.Key": "H0478"
         },
         "type": "Feature"
        },
        {
         "geometry": {
          "coordinates": [
           1120000.1475,
           496623.6182
          ],
          "type": "Point"
         },
         "properties": {
          "Count": 21.75,
          "Date": null,
          "Date.1": 1998,
          "Location.Info": "North East Gulf",
          "Location.Value": "Southwest Lasqueti Island",
          "Site.Key": "H0479"
         },
         "type": "Feature"
        },
        {
         "geometry": {
          "coordinates": [
           1210565.641,
           447299.003
          ],
          "type": "Point"
         },
         "properties": {
          "Count": 18,
          "Date": " 1998-08-05",
          "Date.1": 1998,
          "Location.Info": "Fraser River",
          "Location.Value": "Tswassen Breakwater",
          "Site.Key": "H0480"
         },
         "type": "Feature"
        },
        {
         "geometry": {
          "coordinates": [
           1204361.6468,
           460868.4254
          ],
          "type": "Point"
         },
         "properties": {
          "Count": 28.6364,
          "Date": null,
          "Date.1": 1998,
          "Location.Info": "Fraser River",
          "Location.Value": "Garry Point",
          "Site.Key": "H0481"
         },
         "type": "Feature"
        },
        {
         "geometry": {
          "coordinates": [
           1198051.1687,
           485751.729
          ],
          "type": "Point"
         },
         "properties": {
          "Count": 0,
          "Date": " 1998-08-05",
          "Date.1": 1998,
          "Location.Info": "Howe Sound",
          "Location.Value": "Eagle Island",
          "Site.Key": "H0482"
         },
         "type": "Feature"
        },
        {
         "geometry": {
          "coordinates": [
           1198285.0225,
           484403.9937
          ],
          "type": "Point"
         },
         "properties": {
          "Count": 2,
          "Date": " 1998-08-05",
          "Date.1": 1998,
          "Location.Info": "Howe Sound",
          "Location.Value": "Grebe Islets",
          "Site.Key": "H0483"
         },
         "type": "Feature"
        },
        {
         "geometry": {
          "coordinates": [
           1185320.5249,
           487312.2847
          ],
          "type": "Point"
         },
         "properties": {
          "Count": 0.75,
          "Date": null,
          "Date.1": 1998,
          "Location.Info": "Howe Sound",
          "Location.Value": "Mickey Island",
          "Site.Key": "H0484"
         },
         "type": "Feature"
        },
        {
         "geometry": {
          "coordinates": [
           1130431.3542,
           494376.5369
          ],
          "type": "Point"
         },
         "properties": {
          "Count": 7,
          "Date": null,
          "Date.1": 1998,
          "Location.Info": "North East Gulf",
          "Location.Value": "Southeast Lasqueti Island",
          "Site.Key": "H0485"
         },
         "type": "Feature"
        },
        {
         "geometry": {
          "coordinates": [
           1133240.9251,
           499941.1888
          ],
          "type": "Point"
         },
         "properties": {
          "Count": 6,
          "Date": " 1998-08-06",
          "Date.1": 1998,
          "Location.Info": "North East Gulf",
          "Location.Value": "Southwest Texada Island",
          "Site.Key": "H0486"
         },
         "type": "Feature"
        },
        {
         "geometry": {
          "coordinates": [
           1120456.9196,
           508353.3174
          ],
          "type": "Point"
         },
         "properties": {
          "Count": 14,
          "Date": null,
          "Date.1": 1998,
          "Location.Info": "North East Gulf",
          "Location.Value": "Midsouthwest Texada Island",
          "Site.Key": "H0487"
         },
         "type": "Feature"
        },
        {
         "geometry": {
          "coordinates": [
           1107400.7665,
           519371.5257
          ],
          "type": "Point"
         },
         "properties": {
          "Count": 6,
          "Date": null,
          "Date.1": 1998,
          "Location.Info": "North East Gulf",
          "Location.Value": "North Giles Bay",
          "Site.Key": "H0488"
         },
         "type": "Feature"
        },
        {
         "geometry": {
          "coordinates": [
           1081703.2818,
           548946.4038
          ],
          "type": "Point"
         },
         "properties": {
          "Count": 11.5,
          "Date": null,
          "Date.1": 1998,
          "Location.Info": "North East Gulf",
          "Location.Value": "Indian Point",
          "Site.Key": "H0489"
         },
         "type": "Feature"
        },
        {
         "geometry": {
          "coordinates": [
           1095533.2514,
           499000.2988
          ],
          "type": "Point"
         },
         "properties": {
          "Count": 21,
          "Date": " 1998-08-08",
          "Date.1": 1998,
          "Location.Info": "North West Gulf",
          "Location.Value": "Maude Reef",
          "Site.Key": "H0490"
         },
         "type": "Feature"
        },
        {
         "geometry": {
          "coordinates": [
           1101387.3631,
           502481.2593
          ],
          "type": "Point"
         },
         "properties": {
          "Count": 17.5,
          "Date": null,
          "Date.1": 1998,
          "Location.Info": "North West Gulf",
          "Location.Value": "Cape Gurney",
          "Site.Key": "H0491"
         },
         "type": "Feature"
        },
        {
         "geometry": {
          "coordinates": [
           1077507.0832,
           556734.19
          ],
          "type": "Point"
         },
         "properties": {
          "Count": 7.9091,
          "Date": null,
          "Date.1": 1998,
          "Location.Info": "North East Gulf",
          "Location.Value": "Iron Point",
          "Site.Key": "H0492"
         },
         "type": "Feature"
        },
        {
         "geometry": {
          "coordinates": [
           1061765.8817,
           568722.0713
          ],
          "type": "Point"
         },
         "properties": {
          "Count": 53,
          "Date": " 1998-08-08",
          "Date.1": 1998,
          "Location.Info": "North East Gulf",
          "Location.Value": "Northwest Viner Point Rock",
          "Site.Key": "H0493"
         },
         "type": "Feature"
        },
        {
         "geometry": {
          "coordinates": [
           1060096.5979,
           569614.2789
          ],
          "type": "Point"
         },
         "properties": {
          "Count": 15,
          "Date": " 1998-08-08",
          "Date.1": 1998,
          "Location.Info": "North East Gulf",
          "Location.Value": "Agglomerate Island",
          "Site.Key": "H0494"
         },
         "type": "Feature"
        },
        {
         "geometry": {
          "coordinates": [
           1057862.0382,
           553691.1257
          ],
          "type": "Point"
         },
         "properties": {
          "Count": 32,
          "Date": null,
          "Date.1": 1998,
          "Location.Info": "North East Gulf",
          "Location.Value": "Cape Mudge",
          "Site.Key": "H0495"
         },
         "type": "Feature"
        },
        {
         "geometry": {
          "coordinates": [
           1137500.9629,
           475062.0611
          ],
          "type": "Point"
         },
         "properties": {
          "Count": 5,
          "Date": null,
          "Date.1": 1998,
          "Location.Info": "North West Gulf",
          "Location.Value": "North Wallis Point Rocks",
          "Site.Key": "H0496"
         },
         "type": "Feature"
        },
        {
         "geometry": {
          "coordinates": [
           1196742.7551,
           431119.0882
          ],
          "type": "Point"
         },
         "properties": {
          "Count": 6,
          "Date": " 1998-09-05",
          "Date.1": 1998,
          "Location.Info": "Gulf Islands",
          "Location.Value": "West Mary Anne Point",
          "Site.Key": "H0497"
         },
         "type": "Feature"
        },
        {
         "geometry": {
          "coordinates": [
           1188360.7634,
           435164.4825
          ],
          "type": "Point"
         },
         "properties": {
          "Count": 1,
          "Date": " 1998-09-05",
          "Date.1": 1998,
          "Location.Info": "Gulf Islands",
          "Location.Value": "Charles Island",
          "Site.Key": "H0498"
         },
         "type": "Feature"
        },
        {
         "geometry": {
          "coordinates": [
           1179468.5558,
           420117.2329
          ],
          "type": "Point"
         },
         "properties": {
          "Count": 19,
          "Date": " 1998-09-05",
          "Date.1": 1998,
          "Location.Info": "Gulf Islands",
          "Location.Value": "Burial Islet",
          "Site.Key": "H0499"
         },
         "type": "Feature"
        },
        {
         "geometry": {
          "coordinates": [
           1180073.3841,
           422226.6769
          ],
          "type": "Point"
         },
         "properties": {
          "Count": 7.4545,
          "Date": null,
          "Date.1": 1998,
          "Location.Info": "Gulf Islands",
          "Location.Value": "Bold Bluff Point",
          "Site.Key": "H0500"
         },
         "type": "Feature"
        },
        {
         "geometry": {
          "coordinates": [
           1176510.824,
           436692.8056
          ],
          "type": "Point"
         },
         "properties": {
          "Count": 0,
          "Date": null,
          "Date.1": 1998,
          "Location.Info": "Gulf Islands",
          "Location.Value": "Idol Island",
          "Site.Key": "H0501"
         },
         "type": "Feature"
        },
        {
         "geometry": {
          "coordinates": [
           1193264.3897,
           428555.1271
          ],
          "type": "Point"
         },
         "properties": {
          "Count": 0.2857,
          "Date": null,
          "Date.1": 1998,
          "Location.Info": "Gulf Islands",
          "Location.Value": "Hawkins Island",
          "Site.Key": "H0502"
         },
         "type": "Feature"
        },
        {
         "geometry": {
          "coordinates": [
           1197879.979,
           426739.6927
          ],
          "type": "Point"
         },
         "properties": {
          "Count": 2.3333,
          "Date": null,
          "Date.1": 1998,
          "Location.Info": "Gulf Islands",
          "Location.Value": "East Stanley Point",
          "Site.Key": "H0503"
         },
         "type": "Feature"
        },
        {
         "geometry": {
          "coordinates": [
           1204066.9315,
           417600.7265
          ],
          "type": "Point"
         },
         "properties": {
          "Count": 48,
          "Date": " 1998-09-05",
          "Date.1": 1998,
          "Location.Info": "Gulf Islands",
          "Location.Value": "North Wallace Point Rock",
          "Site.Key": "H0504"
         },
         "type": "Feature"
        },
        {
         "geometry": {
          "coordinates": [
           1197448.5592,
           422978.8059
          ],
          "type": "Point"
         },
         "properties": {
          "Count": 7,
          "Date": " 1998-09-05",
          "Date.1": 1998,
          "Location.Info": "Gulf Islands",
          "Location.Value": "South Otter Bay Rock",
          "Site.Key": "H0505"
         },
         "type": "Feature"
        },
        {
         "geometry": {
          "coordinates": [
           1186954.4131,
           485981.4
          ],
          "type": "Point"
         },
         "properties": {
          "Count": 1.5,
          "Date": null,
          "Date.1": 1998,
          "Location.Info": "Howe Sound",
          "Location.Value": "Bowen Bay Rock",
          "Site.Key": "H0506"
         },
         "type": "Feature"
        },
        {
         "geometry": {
          "coordinates": [
           1183397.4035,
           486787.4118
          ],
          "type": "Point"
         },
         "properties": {
          "Count": 8.75,
          "Date": null,
          "Date.1": 1998,
          "Location.Info": "Howe Sound",
          "Location.Value": "South Hermit Island Reef",
          "Site.Key": "H0507"
         },
         "type": "Feature"
        },
        {
         "geometry": {
          "coordinates": [
           1098838.0943,
           527861.7467
          ],
          "type": "Point"
         },
         "properties": {
          "Count": 36.1111,
          "Date": null,
          "Date.1": 1998,
          "Location.Info": "North East Gulf",
          "Location.Value": "Crescent Bay Islet",
          "Site.Key": "H0508"
         },
         "type": "Feature"
        },
        {
         "geometry": {
          "coordinates": [
           1123587.6858,
           494051.6187
          ],
          "type": "Point"
         },
         "properties": {
          "Count": 27.5,
          "Date": " 1998-08-06",
          "Date.1": 1998,
          "Location.Info": "North East Gulf",
          "Location.Value": "Southwest Jenkins Island",
          "Site.Key": "H0509"
         },
         "type": "Feature"
        },
        {
         "geometry": {
          "coordinates": [
           1132345.334,
           497838.814
          ],
          "type": "Point"
         },
         "properties": {
          "Count": 22.1429,
          "Date": null,
          "Date.1": 1998,
          "Location.Info": "North East Gulf",
          "Location.Value": "South Rabbit Island",
          "Site.Key": "H0510"
         },
         "type": "Feature"
        },
        {
         "geometry": {
          "coordinates": [
           1131207.3,
           497809.5891
          ],
          "type": "Point"
         },
         "properties": {
          "Count": 1.6667,
          "Date": null,
          "Date.1": 1998,
          "Location.Info": "North East Gulf",
          "Location.Value": "South Bull Island Islet",
          "Site.Key": "H0511"
         },
         "type": "Feature"
        },
        {
         "geometry": {
          "coordinates": [
           1130940.7123,
           498592.1919
          ],
          "type": "Point"
         },
         "properties": {
          "Count": 1,
          "Date": null,
          "Date.1": 1998,
          "Location.Info": "North East Gulf",
          "Location.Value": "South Jedediah Island",
          "Site.Key": "H0512"
         },
         "type": "Feature"
        },
        {
         "geometry": {
          "coordinates": [
           1131756.4845,
           497890.3715
          ],
          "type": "Point"
         },
         "properties": {
          "Count": 38.8889,
          "Date": null,
          "Date.1": 1998,
          "Location.Info": "North East Gulf",
          "Location.Value": "Southeast Bull Island Reef",
          "Site.Key": "H0513"
         },
         "type": "Feature"
        },
        {
         "geometry": {
          "coordinates": [
           1160972.2217,
           495510.0794
          ],
          "type": "Point"
         },
         "properties": {
          "Count": 0,
          "Date": " 1998-08-06",
          "Date.1": 1998,
          "Location.Info": "North East Gulf",
          "Location.Value": "East Trial Islands",
          "Site.Key": "H0514"
         },
         "type": "Feature"
        },
        {
         "geometry": {
          "coordinates": [
           1129297.0047,
           522837.0739
          ],
          "type": "Point"
         },
         "properties": {
          "Count": 1.4286,
          "Date": null,
          "Date.1": 1998,
          "Location.Info": "North East Gulf",
          "Location.Value": "South Kelly Island",
          "Site.Key": "H0515"
         },
         "type": "Feature"
        },
        {
         "geometry": {
          "coordinates": [
           1129626.7505,
           523779.6869
          ],
          "type": "Point"
         },
         "properties": {
          "Count": 12.8571,
          "Date": null,
          "Date.1": 1998,
          "Location.Info": "North East Gulf",
          "Location.Value": "Nocturne Island",
          "Site.Key": "H0516"
         },
         "type": "Feature"
        },
        {
         "geometry": {
          "coordinates": [
           1084847.8407,
           546339.4246
          ],
          "type": "Point"
         },
         "properties": {
          "Count": 32,
          "Date": " 1998-08-07",
          "Date.1": 1998,
          "Location.Info": "North East Gulf",
          "Location.Value": "South Beacon Point Reef",
          "Site.Key": "H0517"
         },
         "type": "Feature"
        },
        {
         "geometry": {
          "coordinates": [
           1083092.2271,
           557056.2248
          ],
          "type": "Point"
         },
         "properties": {
          "Count": 2,
          "Date": " 1998-08-07",
          "Date.1": 1998,
          "Location.Info": "North East Gulf",
          "Location.Value": "Townley Island",
          "Site.Key": "H0518"
         },
         "type": "Feature"
        },
        {
         "geometry": {
          "coordinates": [
           1065083.9084,
           568118.3653
          ],
          "type": "Point"
         },
         "properties": {
          "Count": 30,
          "Date": " 1998-08-08",
          "Date.1": 1998,
          "Location.Info": "North East Gulf",
          "Location.Value": "Centre Islet",
          "Site.Key": "H0519"
         },
         "type": "Feature"
        },
        {
         "geometry": {
          "coordinates": [
           1058349.7951,
           568603.6507
          ],
          "type": "Point"
         },
         "properties": {
          "Count": 5,
          "Date": " 1998-08-08",
          "Date.1": 1998,
          "Location.Info": "North East Gulf",
          "Location.Value": "North Breton Islands Islet",
          "Site.Key": "H0520"
         },
         "type": "Feature"
        },
        {
         "geometry": {
          "coordinates": [
           1055251.418,
           567534.2099
          ],
          "type": "Point"
         },
         "properties": {
          "Count": 0,
          "Date": " 1998-08-08",
          "Date.1": 1998,
          "Location.Info": "North East Gulf",
          "Location.Value": "Hyacinthe Bay Reef",
          "Site.Key": "H0521"
         },
         "type": "Feature"
        },
        {
         "geometry": {
          "coordinates": [
           1076928.5805,
           526172.1131
          ],
          "type": "Point"
         },
         "properties": {
          "Count": 11,
          "Date": " 1998-08-08",
          "Date.1": 1998,
          "Location.Info": "North West Gulf",
          "Location.Value": "Little River Reef",
          "Site.Key": "H0522"
         },
         "type": "Feature"
        },
        {
         "geometry": {
          "coordinates": [
           1168235.0409,
           463078.7381
          ],
          "type": "Point"
         },
         "properties": {
          "Count": 39,
          "Date": " 1998-09-04",
          "Date.1": 1998,
          "Location.Info": "Gulf Islands",
          "Location.Value": "Carlos Island",
          "Site.Key": "H0523"
         },
         "type": "Feature"
        },
        {
         "geometry": {
          "coordinates": [
           1168647.5622,
           459390.8689
          ],
          "type": "Point"
         },
         "properties": {
          "Count": 1.6667,
          "Date": null,
          "Date.1": 1998,
          "Location.Info": "Gulf Islands",
          "Location.Value": "North Kendrick Island Reef",
          "Site.Key": "H0524"
         },
         "type": "Feature"
        },
        {
         "geometry": {
          "coordinates": [
           1173763.246,
           449423.9942
          ],
          "type": "Point"
         },
         "properties": {
          "Count": 1.4286,
          "Date": null,
          "Date.1": 1998,
          "Location.Info": "Gulf Islands",
          "Location.Value": "South Shingle Point",
          "Site.Key": "H0525"
         },
         "type": "Feature"
        },
        {
         "geometry": {
          "coordinates": [
           1167136.939,
           459986.4657
          ],
          "type": "Point"
         },
         "properties": {
          "Count": 1.8333,
          "Date": null,
          "Date.1": 1998,
          "Location.Info": "Gulf Islands",
          "Location.Value": "Degnen Bay Reef",
          "Site.Key": "H0526"
         },
         "type": "Feature"
        },
        {
         "geometry": {
          "coordinates": [
           1155551.6613,
           464604.1228
          ],
          "type": "Point"
         },
         "properties": {
          "Count": 3,
          "Date": null,
          "Date.1": 1998,
          "Location.Info": "Gulf Islands",
          "Location.Value": "South Descanso Bay Point",
          "Site.Key": "H0527"
         },
         "type": "Feature"
        },
        {
         "geometry": {
          "coordinates": [
           1170403.8507,
           441533.5044
          ],
          "type": "Point"
         },
         "properties": {
          "Count": 22,
          "Date": " 1998-09-04",
          "Date.1": 1998,
          "Location.Info": "Gulf Islands",
          "Location.Value": "East Hudson Island",
          "Site.Key": "H0528"
         },
         "type": "Feature"
        },
        {
         "geometry": {
          "coordinates": [
           1175708.9102,
           443455.155
          ],
          "type": "Point"
         },
         "properties": {
          "Count": 3,
          "Date": " 1998-09-04",
          "Date.1": 1998,
          "Location.Info": "Gulf Islands",
          "Location.Value": "Southwest Hall Island",
          "Site.Key": "H0529"
         },
         "type": "Feature"
        },
        {
         "geometry": {
          "coordinates": [
           1188929.6145,
           438307.7761
          ],
          "type": "Point"
         },
         "properties": {
          "Count": 124.25,
          "Date": null,
          "Date.1": 1998,
          "Location.Info": "Gulf Islands",
          "Location.Value": "Northwest Cook Cove",
          "Site.Key": "H0530"
         },
         "type": "Feature"
        },
        {
         "geometry": {
          "coordinates": [
           1195687.2169,
           435324.2178
          ],
          "type": "Point"
         },
         "properties": {
          "Count": 69,
          "Date": " 1998-09-05",
          "Date.1": 1998,
          "Location.Info": "Gulf Islands",
          "Location.Value": "Lion Islets",
          "Site.Key": "H0531"
         },
         "type": "Feature"
        },
        {
         "geometry": {
          "coordinates": [
           1217144.1552,
           424418.7252
          ],
          "type": "Point"
         },
         "properties": {
          "Count": 33.5,
          "Date": null,
          "Date.1": 1998,
          "Location.Info": "Gulf Islands",
          "Location.Value": "Tumbo Point",
          "Site.Key": "H0532"
         },
         "type": "Feature"
        },
        {
         "geometry": {
          "coordinates": [
           1207798.7855,
           417948.1849
          ],
          "type": "Point"
         },
         "properties": {
          "Count": 34,
          "Date": " 1998-09-05",
          "Date.1": 1998,
          "Location.Info": "Gulf Islands",
          "Location.Value": "North Gowlland Point Reef",
          "Site.Key": "H0533"
         },
         "type": "Feature"
        },
        {
         "geometry": {
          "coordinates": [
           1204430.1684,
           418114.9409
          ],
          "type": "Point"
         },
         "properties": {
          "Count": 9,
          "Date": " 1998-09-05",
          "Date.1": 1998,
          "Location.Info": "Gulf Islands",
          "Location.Value": "Southeast Hay Point",
          "Site.Key": "H0534"
         },
         "type": "Feature"
        },
        {
         "geometry": {
          "coordinates": [
           1192616.0006,
           418831.4201
          ],
          "type": "Point"
         },
         "properties": {
          "Count": 8.7778,
          "Date": null,
          "Date.1": 1998,
          "Location.Info": "Gulf Islands",
          "Location.Value": "Eleanor Point",
          "Site.Key": "H0535"
         },
         "type": "Feature"
        },
        {
         "geometry": {
          "coordinates": [
           1185198.5958,
           411241.8467
          ],
          "type": "Point"
         },
         "properties": {
          "Count": 35,
          "Date": null,
          "Date.1": 1998,
          "Location.Info": "South Gulf",
          "Location.Value": "Wain Rock",
          "Site.Key": "H0536"
         },
         "type": "Feature"
        },
        {
         "geometry": {
          "coordinates": [
           1193137.3945,
           410318.8168
          ],
          "type": "Point"
         },
         "properties": {
          "Count": 47,
          "Date": " 1998-09-06",
          "Date.1": 1998,
          "Location.Info": "South Gulf",
          "Location.Value": "Southwest Coal Island Reef",
          "Site.Key": "H0537"
         },
         "type": "Feature"
        },
        {
         "geometry": {
          "coordinates": [
           1195626.6665,
           392495.5633
          ],
          "type": "Point"
         },
         "properties": {
          "Count": 36,
          "Date": " 1998-09-06",
          "Date.1": 1998,
          "Location.Info": "South Gulf",
          "Location.Value": "Cordova Bay Reef",
          "Site.Key": "H0538"
         },
         "type": "Feature"
        },
        {
         "geometry": {
          "coordinates": [
           1202766.1581,
           385648.3973
          ],
          "type": "Point"
         },
         "properties": {
          "Count": 0,
          "Date": null,
          "Date.1": 1998,
          "Location.Info": "South Gulf",
          "Location.Value": "Cadboro Point",
          "Site.Key": "H0539"
         },
         "type": "Feature"
        },
        {
         "geometry": {
          "coordinates": [
           1201084.366,
           382496.5341
          ],
          "type": "Point"
         },
         "properties": {
          "Count": 74.5,
          "Date": " 1998-08-05",
          "Date.1": 1998,
          "Location.Info": "South Gulf",
          "Location.Value": "Mayor Channel Reef",
          "Site.Key": "H0540"
         },
         "type": "Feature"
        },
        {
         "geometry": {
          "coordinates": [
           1200418.7978,
           381071.9346
          ],
          "type": "Point"
         },
         "properties": {
          "Count": 2.3333,
          "Date": null,
          "Date.1": 1998,
          "Location.Info": "South Gulf",
          "Location.Value": "Mouat Reef",
          "Site.Key": "H0541"
         },
         "type": "Feature"
        },
        {
         "geometry": {
          "coordinates": [
           1198720.6757,
           394122.4887
          ],
          "type": "Point"
         },
         "properties": {
          "Count": 8.5,
          "Date": null,
          "Date.1": 1998,
          "Location.Info": "South Gulf",
          "Location.Value": "Little Zero Rock",
          "Site.Key": "H0542"
         },
         "type": "Feature"
        },
        {
         "geometry": {
          "coordinates": [
           1204524.7807,
           458962.6773
          ],
          "type": "Point"
         },
         "properties": {
          "Count": 123,
          "Date": null,
          "Date.1": 1998,
          "Location.Info": "Fraser River",
          "Location.Value": "North Roberts Bank Site J",
          "Site.Key": "H0543"
         },
         "type": "Feature"
        },
        {
         "geometry": {
          "coordinates": [
           1169123.0001,
           461840.5868
          ],
          "type": "Point"
         },
         "properties": {
          "Count": 24.3333,
          "Date": null,
          "Date.1": 1998,
          "Location.Info": "Gulf Islands",
          "Location.Value": "Southeast Tugboat Island Reef",
          "Site.Key": "H0544"
         },
         "type": "Feature"
        },
        {
         "geometry": {
          "coordinates": [
           1169166.5192,
           462520.0418
          ],
          "type": "Point"
         },
         "properties": {
          "Count": 54.6667,
          "Date": null,
          "Date.1": 1998,
          "Location.Info": "Gulf Islands",
          "Location.Value": "South Acorn Island Reef",
          "Site.Key": "H0545"
         },
         "type": "Feature"
        },
        {
         "geometry": {
          "coordinates": [
           1175336.27,
           444064.8566
          ],
          "type": "Point"
         },
         "properties": {
          "Count": 5,
          "Date": null,
          "Date.1": 1998,
          "Location.Info": "Gulf Islands",
          "Location.Value": "North Hall Island",
          "Site.Key": "H0546"
         },
         "type": "Feature"
        },
        {
         "geometry": {
          "coordinates": [
           1176148.2078,
           442180.9896
          ],
          "type": "Point"
         },
         "properties": {
          "Count": 7.5,
          "Date": null,
          "Date.1": 1998,
          "Location.Info": "Gulf Islands",
          "Location.Value": "Northeast Secretary Island",
          "Site.Key": "H0547"
         },
         "type": "Feature"
        },
        {
         "geometry": {
          "coordinates": [
           1197280.1039,
           433428.6217
          ],
          "type": "Point"
         },
         "properties": {
          "Count": 16,
          "Date": " 1998-09-05",
          "Date.1": 1998,
          "Location.Info": "Gulf Islands",
          "Location.Value": "Northwest Rip Point",
          "Site.Key": "H0548"
         },
         "type": "Feature"
        },
        {
         "geometry": {
          "coordinates": [
           1194879.3224,
           431004.4459
          ],
          "type": "Point"
         },
         "properties": {
          "Count": 21,
          "Date": " 1998-09-04",
          "Date.1": 1998,
          "Location.Info": "Gulf Islands",
          "Location.Value": "West Georgeson Bay Reef",
          "Site.Key": "H0549"
         },
         "type": "Feature"
        },
        {
         "geometry": {
          "coordinates": [
           1193922.7019,
           426090.6771
          ],
          "type": "Point"
         },
         "properties": {
          "Count": 10,
          "Date": null,
          "Date.1": 1998,
          "Location.Info": "Gulf Islands",
          "Location.Value": "East Ellen Bay",
          "Site.Key": "H0550"
         },
         "type": "Feature"
        },
        {
         "geometry": {
          "coordinates": [
           1197105.635,
           425421.3713
          ],
          "type": "Point"
         },
         "properties": {
          "Count": 2,
          "Date": " 1998-09-05",
          "Date.1": 1998,
          "Location.Info": "Gulf Islands",
          "Location.Value": "Boat Islet",
          "Site.Key": "H0551"
         },
         "type": "Feature"
        },
        {
         "geometry": {
          "coordinates": [
           1182629.9097,
           404709.0191
          ],
          "type": "Point"
         },
         "properties": {
          "Count": 37.7778,
          "Date": null,
          "Date.1": 1998,
          "Location.Info": "South Gulf",
          "Location.Value": "Tanner Rock",
          "Site.Key": "H0552"
         },
         "type": "Feature"
        },
        {
         "geometry": {
          "coordinates": [
           1182868.4573,
           412659.2567
          ],
          "type": "Point"
         },
         "properties": {
          "Count": 5.5556,
          "Date": null,
          "Date.1": 1998,
          "Location.Info": "Gulf Islands",
          "Location.Value": "Patey Rock",
          "Site.Key": "H0553"
         },
         "type": "Feature"
        },
        {
         "geometry": {
          "coordinates": [
           1192016.9083,
           411077.2848
          ],
          "type": "Point"
         },
         "properties": {
          "Count": 20,
          "Date": " 1998-09-06",
          "Date.1": 1998,
          "Location.Info": "South Gulf",
          "Location.Value": "Southeast Swartz Head Reef",
          "Site.Key": "H0554"
         },
         "type": "Feature"
        },
        {
         "geometry": {
          "coordinates": [
           1148881.0809,
           498959.1254
          ],
          "type": "Point"
         },
         "properties": {
          "Count": 16.6667,
          "Date": null,
          "Date.1": 1998,
          "Location.Info": "North East Gulf",
          "Location.Value": "Egerton Rock",
          "Site.Key": "H0555"
         },
         "type": "Feature"
        },
        {
         "geometry": {
          "coordinates": [
           1142583.8535,
           511257.0156
          ],
          "type": "Point"
         },
         "properties": {
          "Count": 16.2857,
          "Date": null,
          "Date.1": 1998,
          "Location.Info": "North East Gulf",
          "Location.Value": "South Edgecombe Island Islet",
          "Site.Key": "H0556"
         },
         "type": "Feature"
        },
        {
         "geometry": {
          "coordinates": [
           1139443.7982,
           514707.0078
          ],
          "type": "Point"
         },
         "properties": {
          "Count": 18,
          "Date": " 1998-08-06",
          "Date.1": 1998,
          "Location.Info": "North East Gulf",
          "Location.Value": "Nares Rock",
          "Site.Key": "H0557"
         },
         "type": "Feature"
        },
        {
         "geometry": {
          "coordinates": [
           1124417.6178,
           526397.2313
          ],
          "type": "Point"
         },
         "properties": {
          "Count": 101,
          "Date": " 1998-08-06",
          "Date.1": 1998,
          "Location.Info": "North East Gulf",
          "Location.Value": "South West Scotch Fir Point Islet",
          "Site.Key": "H0558"
         },
         "type": "Feature"
        },
        {
         "geometry": {
          "coordinates": [
           1095676.8476,
           536887.9945
          ],
          "type": "Point"
         },
         "properties": {
          "Count": 17,
          "Date": " 1998-08-07",
          "Date.1": 1998,
          "Location.Info": "North East Gulf",
          "Location.Value": "Southwest Harwood Island",
          "Site.Key": "H0559"
         },
         "type": "Feature"
        },
        {
         "geometry": {
          "coordinates": [
           1117115.8078,
           502216.0475
          ],
          "type": "Point"
         },
         "properties": {
          "Count": 37,
          "Date": " 1998-08-07",
          "Date.1": 1998,
          "Location.Info": "North East Gulf",
          "Location.Value": "South Fegan Islets",
          "Site.Key": "H0560"
         },
         "type": "Feature"
        },
        {
         "geometry": {
          "coordinates": [
           1129082.7964,
           498934.2587
          ],
          "type": "Point"
         },
         "properties": {
          "Count": 0,
          "Date": " 1998-08-06",
          "Date.1": 1998,
          "Location.Info": "North East Gulf",
          "Location.Value": "South Boho Bay Islet",
          "Site.Key": "H0561"
         },
         "type": "Feature"
        },
        {
         "geometry": {
          "coordinates": [
           1130918.7768,
           500303.9069
          ],
          "type": "Point"
         },
         "properties": {
          "Count": 30,
          "Date": " 1998-08-06",
          "Date.1": 1998,
          "Location.Info": "North East Gulf",
          "Location.Value": "East Jedediah Island",
          "Site.Key": "H0562"
         },
         "type": "Feature"
        },
        {
         "geometry": {
          "coordinates": [
           1101345.338,
           522850.8621
          ],
          "type": "Point"
         },
         "properties": {
          "Count": 45,
          "Date": " 1998-08-07",
          "Date.1": 1998,
          "Location.Info": "North East Gulf",
          "Location.Value": "Southeast Davis Bay Islet",
          "Site.Key": "H0563"
         },
         "type": "Feature"
        },
        {
         "geometry": {
          "coordinates": [
           1201690.2441,
           463553.9999
          ],
          "type": "Point"
         },
         "properties": {
          "Count": 50.7143,
          "Date": null,
          "Date.1": 1998,
          "Location.Info": "Fraser River",
          "Location.Value": "Sturgeon Bank Site F",
          "Site.Key": "H0564"
         },
         "type": "Feature"
        },
        {
         "geometry": {
          "coordinates": [
           1204263.7427,
           459274.7596
          ],
          "type": "Point"
         },
         "properties": {
          "Count": 13,
          "Date": " 1998-08-05",
          "Date.1": 1998,
          "Location.Info": "Fraser River",
          "Location.Value": "Roberts Bank Site K",
          "Site.Key": "H0565"
         },
         "type": "Feature"
        },
        {
         "geometry": {
          "coordinates": [
           1207617.0102,
           465745.6588
          ],
          "type": "Point"
         },
         "properties": {
          "Count": 111,
          "Date": " 1998-08-05",
          "Date.1": 1998,
          "Location.Info": "Fraser River",
          "Location.Value": "Sturgeon Bank Site G",
          "Site.Key": "H0573"
         },
         "type": "Feature"
        },
        {
         "geometry": {
          "coordinates": [
           1184602.0441,
           485040.1996
          ],
          "type": "Point"
         },
         "properties": {
          "Count": 20,
          "Date": " 1998-08-05",
          "Date.1": 1998,
          "Location.Info": "Howe Sound",
          "Location.Value": "North Worlcombe Island Reef",
          "Site.Key": "H0574"
         },
         "type": "Feature"
        },
        {
         "geometry": {
          "coordinates": [
           1098073.8593,
           532362.3612
          ],
          "type": "Point"
         },
         "properties": {
          "Count": 4,
          "Date": " 1998-08-07",
          "Date.1": 1998,
          "Location.Info": "North East Gulf",
          "Location.Value": "Kiddie Point",
          "Site.Key": "H0575"
         },
         "type": "Feature"
        },
        {
         "geometry": {
          "coordinates": [
           1100329.5407,
           533029.0985
          ],
          "type": "Point"
         },
         "properties": {
          "Count": 17,
          "Date": " 1998-08-07",
          "Date.1": 1998,
          "Location.Info": "North East Gulf",
          "Location.Value": "Cyril Rock",
          "Site.Key": "H0576"
         },
         "type": "Feature"
        },
        {
         "geometry": {
          "coordinates": [
           1098368.3538,
           537995.9244
          ],
          "type": "Point"
         },
         "properties": {
          "Count": 6,
          "Date": " 1998-08-07",
          "Date.1": 1998,
          "Location.Info": "North East Gulf",
          "Location.Value": "Southeast Harwood Island",
          "Site.Key": "H0577"
         },
         "type": "Feature"
        },
        {
         "geometry": {
          "coordinates": [
           1076626.2991,
           556209.0833
          ],
          "type": "Point"
         },
         "properties": {
          "Count": 8,
          "Date": " 1998-08-07",
          "Date.1": 1998,
          "Location.Info": "North East Gulf",
          "Location.Value": "South Twin Islands",
          "Site.Key": "H0578"
         },
         "type": "Feature"
        },
        {
         "geometry": {
          "coordinates": [
           1065496.6482,
           567166.8857
          ],
          "type": "Point"
         },
         "properties": {
          "Count": 5,
          "Date": " 1998-08-08",
          "Date.1": 1998,
          "Location.Info": "North East Gulf",
          "Location.Value": "Southeast Subtle Islands",
          "Site.Key": "H0579"
         },
         "type": "Feature"
        },
        {
         "geometry": {
          "coordinates": [
           1058837.3251,
           568486.9141
          ],
          "type": "Point"
         },
         "properties": {
          "Count": 136,
          "Date": " 1998-08-08",
          "Date.1": 1998,
          "Location.Info": "North East Gulf",
          "Location.Value": "Northeast Breton Islands",
          "Site.Key": "H0580"
         },
         "type": "Feature"
        },
        {
         "geometry": {
          "coordinates": [
           1055915.7672,
           567597.1321
          ],
          "type": "Point"
         },
         "properties": {
          "Count": 20,
          "Date": " 1998-08-08",
          "Date.1": 1998,
          "Location.Info": "North East Gulf",
          "Location.Value": "Southwest Hyacinthe Point Reef",
          "Site.Key": "H0581"
         },
         "type": "Feature"
        },
        {
         "geometry": {
          "coordinates": [
           1061198.0166,
           542829.793
          ],
          "type": "Point"
         },
         "properties": {
          "Count": 3,
          "Date": " 1998-08-08",
          "Date.1": 1998,
          "Location.Info": "North West Gulf",
          "Location.Value": "Oyster Bay Reef",
          "Site.Key": "H0588"
         },
         "type": "Feature"
        },
        {
         "geometry": {
          "coordinates": [
           1150332.9483,
           468539.8134
          ],
          "type": "Point"
         },
         "properties": {
          "Count": 13,
          "Date": " 1998-08-09",
          "Date.1": 1998,
          "Location.Info": "Gulf Islands",
          "Location.Value": "Horswell Bluff Reef",
          "Site.Key": "H0589"
         },
         "type": "Feature"
        },
        {
         "geometry": {
          "coordinates": [
           1176120.6002,
           448603.4055
          ],
          "type": "Point"
         },
         "properties": {
          "Count": 14,
          "Date": " 1998-09-04",
          "Date.1": 1998,
          "Location.Info": "Gulf Islands",
          "Location.Value": "South Shah Point Reef",
          "Site.Key": "H0590"
         },
         "type": "Feature"
        },
        {
         "geometry": {
          "coordinates": [
           1164351.0603,
           450572.6164
          ],
          "type": "Point"
         },
         "properties": {
          "Count": 4,
          "Date": " 1998-09-04",
          "Date.1": 1998,
          "Location.Info": "Gulf Islands",
          "Location.Value": "Nicholson Cove Reef",
          "Site.Key": "H0591"
         },
         "type": "Feature"
        },
        {
         "geometry": {
          "coordinates": [
           1174062.9089,
           432165.705
          ],
          "type": "Point"
         },
         "properties": {
          "Count": 80,
          "Date": " 1998-09-04",
          "Date.1": 1998,
          "Location.Info": "Gulf Islands",
          "Location.Value": "Crofton Reef",
          "Site.Key": "H0592"
         },
         "type": "Feature"
        },
        {
         "geometry": {
          "coordinates": [
           1179551.6135,
           418775.8942
          ],
          "type": "Point"
         },
         "properties": {
          "Count": 12,
          "Date": " 1998-09-05",
          "Date.1": 1998,
          "Location.Info": "Gulf Islands",
          "Location.Value": "North Musgrave Point Reef",
          "Site.Key": "H0593"
         },
         "type": "Feature"
        },
        {
         "geometry": {
          "coordinates": [
           1200746.8649,
           388013.8293
          ],
          "type": "Point"
         },
         "properties": {
          "Count": 8,
          "Date": " 1998-09-06",
          "Date.1": 1998,
          "Location.Info": "South Gulf",
          "Location.Value": "South Finnerty Cove Reef",
          "Site.Key": "H0594"
         },
         "type": "Feature"
        }
       ],
       "type": "FeatureCollection"
      },
      "text/html": [
       "<table>\n",
       "<caption>A sf: 433 × 7</caption>\n",
       "<thead>\n",
       "\t<tr><th scope=col>Date.1</th><th scope=col>Site.Key</th><th scope=col>Location.Value</th><th scope=col>Location.Info</th><th scope=col>Date</th><th scope=col>Count</th><th scope=col>geometry</th></tr>\n",
       "\t<tr><th scope=col>&lt;int&gt;</th><th scope=col>&lt;fct&gt;</th><th scope=col>&lt;fct&gt;</th><th scope=col>&lt;fct&gt;</th><th scope=col>&lt;fct&gt;</th><th scope=col>&lt;dbl&gt;</th><th scope=col>&lt;POINT [m]&gt;</th></tr>\n",
       "</thead>\n",
       "<tbody>\n",
       "\t<tr><td>1998</td><td>H0001</td><td>West Bentinck Island Reefs         </td><td>South Gulf  </td><td> 1998-09-06</td><td>173.000000</td><td>POINT (1182114 369469.6)</td></tr>\n",
       "\t<tr><td>1998</td><td>H0002</td><td>Race Rocks                         </td><td>South Gulf  </td><td> 1998-09-06</td><td>359.000000</td><td>POINT (1183602 367956.2)</td></tr>\n",
       "\t<tr><td>1998</td><td>H0003</td><td>Haystock Islets                    </td><td>South Gulf  </td><td> 1998-09-06</td><td>129.000000</td><td>POINT (1185123 377157.1)</td></tr>\n",
       "\t<tr><td>1998</td><td>H0004</td><td>Chain Islets                       </td><td>South Gulf  </td><td> 1998-09-06</td><td>144.000000</td><td>POINT (1202897 382277.6)</td></tr>\n",
       "\t<tr><td>1998</td><td>H0005</td><td>Zero Rock                          </td><td>South Gulf  </td><td> 1998-09-06</td><td>111.000000</td><td>POINT (1200488 393601.3)</td></tr>\n",
       "\t<tr><td>1998</td><td>H0006</td><td>South D'Arcy Island Reef           </td><td>South Gulf  </td><td> 1998-09-06</td><td> 56.000000</td><td>POINT (1201197 397526.9)</td></tr>\n",
       "\t<tr><td>1998</td><td>H0007</td><td>Unit Rocks                         </td><td>South Gulf  </td><td> 1998-09-06</td><td> 91.000000</td><td>POINT (1202967 398061.7)</td></tr>\n",
       "\t<tr><td>1998</td><td>H0008</td><td>Northwest Little D'Arcy Island Rock</td><td>South Gulf  </td><td>NA         </td><td> 46.500000</td><td>POINT (1201825 399283.8)</td></tr>\n",
       "\t<tr><td>1998</td><td>H0009</td><td>Sallas Rocks                       </td><td>South Gulf  </td><td> 1998-09-06</td><td>149.000000</td><td>POINT (1200339 400392.9)</td></tr>\n",
       "\t<tr><td>1998</td><td>H0010</td><td>South James Island Reef            </td><td>South Gulf  </td><td>NA         </td><td>  5.000000</td><td>POINT (1200339 400392.9)</td></tr>\n",
       "\t<tr><td>1998</td><td>H0011</td><td>Munroe Rock                        </td><td>South Gulf  </td><td> 1998-09-06</td><td> 46.000000</td><td>POINT (1199356 401554.9)</td></tr>\n",
       "\t<tr><td>1998</td><td>H0012</td><td>Cowichan HD                        </td><td>South Gulf  </td><td>NA         </td><td> 14.500000</td><td>POINT (1195205 397233.3)</td></tr>\n",
       "\t<tr><td>1998</td><td>H0013</td><td>East Sidney Island Reef            </td><td>South Gulf  </td><td> 1998-09-06</td><td>  3.000000</td><td>POINT (1198734 404485.9)</td></tr>\n",
       "\t<tr><td>1998</td><td>H0014</td><td>Northwest Mandarte Island Rock     </td><td>South Gulf  </td><td> 1998-09-06</td><td> 57.000000</td><td>POINT (1199551 406316.6)</td></tr>\n",
       "\t<tr><td>1998</td><td>H0015</td><td>Cooper Reef                        </td><td>South Gulf  </td><td> 1998-09-06</td><td>159.000000</td><td>POINT (1200975 410014.9)</td></tr>\n",
       "\t<tr><td>1998</td><td>H0016</td><td>East Brethour Island Reef          </td><td>South Gulf  </td><td> 1998-09-06</td><td> 42.000000</td><td>POINT (1198308 410435)</td></tr>\n",
       "\t<tr><td>1998</td><td>H0017</td><td>Northwest Brethour Island          </td><td>South Gulf  </td><td> 1998-09-06</td><td> 29.000000</td><td>POINT (1197491 410770.6)</td></tr>\n",
       "\t<tr><td>1998</td><td>H0018</td><td>Reay Island                        </td><td>South Gulf  </td><td> 1998-09-06</td><td>  0.000000</td><td>POINT (1197060 411232)</td></tr>\n",
       "\t<tr><td>1998</td><td>H0019</td><td>Greig Island                       </td><td>South Gulf  </td><td> 1998-09-06</td><td> 10.000000</td><td>POINT (1196285 410647.3)</td></tr>\n",
       "\t<tr><td>1998</td><td>H0020</td><td>South Coal Island Reef             </td><td>South Gulf  </td><td>NA         </td><td>  2.000000</td><td>POINT (1193836 410600.2)</td></tr>\n",
       "\t<tr><td>1998</td><td>H0021</td><td>South Ker Island Reef              </td><td>South Gulf  </td><td> 1998-09-06</td><td> 58.000000</td><td>POINT (1194139 409378.4)</td></tr>\n",
       "\t<tr><td>1998</td><td>H0022</td><td>Tsehum Harbour Reef                </td><td>South Gulf  </td><td>NA         </td><td> 25.500000</td><td>POINT (1191276 409939.2)</td></tr>\n",
       "\t<tr><td>1998</td><td>H0023</td><td>North Goudge Island Reef           </td><td>South Gulf  </td><td> 1998-09-06</td><td>  3.500000</td><td>POINT (1192221 411540.3)</td></tr>\n",
       "\t<tr><td>1998</td><td>H0024</td><td>Mill Bay                           </td><td>South Gulf  </td><td>NA         </td><td>  8.714286</td><td>POINT (1180751 406909.5)</td></tr>\n",
       "\t<tr><td>1998</td><td>H0025</td><td>East Fernie Island                 </td><td>South Gulf  </td><td>NA         </td><td>  9.333333</td><td>POINT (1180751 406909.5)</td></tr>\n",
       "\t<tr><td>1998</td><td>H0026</td><td>Shoal Island Flats                 </td><td>Gulf Islands</td><td> 1998-09-04</td><td> 16.000000</td><td>POINT (1170841 434492)</td></tr>\n",
       "\t<tr><td>1998</td><td>H0027</td><td>Miami Islet                        </td><td>Gulf Islands</td><td> 1998-09-04</td><td>192.000000</td><td>POINT (1167739 449514.4)</td></tr>\n",
       "\t<tr><td>1998</td><td>H0028</td><td>Danger Reefs                       </td><td>Gulf Islands</td><td> 1998-09-04</td><td> 99.000000</td><td>POINT (1167332 451246)</td></tr>\n",
       "\t<tr><td>1998</td><td>H0029</td><td>East Boundary Bay Site A           </td><td>Boundary Bay</td><td>NA         </td><td> 47.750000</td><td>POINT (1228489 456563.8)</td></tr>\n",
       "\t<tr><td>1998</td><td>H0030</td><td>East Boundary Bay Site B           </td><td>Boundary Bay</td><td> 1998-08-05</td><td> 86.000000</td><td>POINT (1226750 456654.1)</td></tr>\n",
       "\t<tr><td>...</td><td>...</td><td>...</td><td>...</td><td>...</td><td>...</td><td>...</td></tr>\n",
       "\t<tr><td>1998</td><td>H0552</td><td>Tanner Rock                      </td><td>South Gulf     </td><td>NA         </td><td> 37.777778</td><td>POINT (1182630 404709)</td></tr>\n",
       "\t<tr><td>1998</td><td>H0553</td><td>Patey Rock                       </td><td>Gulf Islands   </td><td>NA         </td><td>  5.555556</td><td>POINT (1182868 412659.3)</td></tr>\n",
       "\t<tr><td>1998</td><td>H0554</td><td>Southeast Swartz Head Reef       </td><td>South Gulf     </td><td> 1998-09-06</td><td> 20.000000</td><td>POINT (1192017 411077.3)</td></tr>\n",
       "\t<tr><td>1998</td><td>H0555</td><td>Egerton Rock                     </td><td>North East Gulf</td><td>NA         </td><td> 16.666667</td><td>POINT (1148881 498959.1)</td></tr>\n",
       "\t<tr><td>1998</td><td>H0556</td><td>South Edgecombe Island Islet     </td><td>North East Gulf</td><td>NA         </td><td> 16.285714</td><td>POINT (1142584 511257)</td></tr>\n",
       "\t<tr><td>1998</td><td>H0557</td><td>Nares Rock                       </td><td>North East Gulf</td><td> 1998-08-06</td><td> 18.000000</td><td>POINT (1139444 514707)</td></tr>\n",
       "\t<tr><td>1998</td><td>H0558</td><td>South West Scotch Fir Point Islet</td><td>North East Gulf</td><td> 1998-08-06</td><td>101.000000</td><td>POINT (1124418 526397.2)</td></tr>\n",
       "\t<tr><td>1998</td><td>H0559</td><td>Southwest Harwood Island         </td><td>North East Gulf</td><td> 1998-08-07</td><td> 17.000000</td><td>POINT (1095677 536888)</td></tr>\n",
       "\t<tr><td>1998</td><td>H0560</td><td>South Fegan Islets               </td><td>North East Gulf</td><td> 1998-08-07</td><td> 37.000000</td><td>POINT (1117116 502216)</td></tr>\n",
       "\t<tr><td>1998</td><td>H0561</td><td>South Boho Bay Islet             </td><td>North East Gulf</td><td> 1998-08-06</td><td>  0.000000</td><td>POINT (1129083 498934.3)</td></tr>\n",
       "\t<tr><td>1998</td><td>H0562</td><td>East Jedediah Island             </td><td>North East Gulf</td><td> 1998-08-06</td><td> 30.000000</td><td>POINT (1130919 500303.9)</td></tr>\n",
       "\t<tr><td>1998</td><td>H0563</td><td>Southeast Davis Bay Islet        </td><td>North East Gulf</td><td> 1998-08-07</td><td> 45.000000</td><td>POINT (1101345 522850.9)</td></tr>\n",
       "\t<tr><td>1998</td><td>H0564</td><td>Sturgeon Bank Site F             </td><td>Fraser River   </td><td>NA         </td><td> 50.714286</td><td>POINT (1201690 463554)</td></tr>\n",
       "\t<tr><td>1998</td><td>H0565</td><td>Roberts Bank Site K              </td><td>Fraser River   </td><td> 1998-08-05</td><td> 13.000000</td><td>POINT (1204264 459274.8)</td></tr>\n",
       "\t<tr><td>1998</td><td>H0573</td><td>Sturgeon Bank Site G             </td><td>Fraser River   </td><td> 1998-08-05</td><td>111.000000</td><td>POINT (1207617 465745.7)</td></tr>\n",
       "\t<tr><td>1998</td><td>H0574</td><td>North Worlcombe Island Reef      </td><td>Howe Sound     </td><td> 1998-08-05</td><td> 20.000000</td><td>POINT (1184602 485040.2)</td></tr>\n",
       "\t<tr><td>1998</td><td>H0575</td><td>Kiddie Point                     </td><td>North East Gulf</td><td> 1998-08-07</td><td>  4.000000</td><td>POINT (1098074 532362.4)</td></tr>\n",
       "\t<tr><td>1998</td><td>H0576</td><td>Cyril Rock                       </td><td>North East Gulf</td><td> 1998-08-07</td><td> 17.000000</td><td>POINT (1100330 533029.1)</td></tr>\n",
       "\t<tr><td>1998</td><td>H0577</td><td>Southeast Harwood Island         </td><td>North East Gulf</td><td> 1998-08-07</td><td>  6.000000</td><td>POINT (1098368 537995.9)</td></tr>\n",
       "\t<tr><td>1998</td><td>H0578</td><td>South Twin Islands               </td><td>North East Gulf</td><td> 1998-08-07</td><td>  8.000000</td><td>POINT (1076626 556209.1)</td></tr>\n",
       "\t<tr><td>1998</td><td>H0579</td><td>Southeast Subtle Islands         </td><td>North East Gulf</td><td> 1998-08-08</td><td>  5.000000</td><td>POINT (1065497 567166.9)</td></tr>\n",
       "\t<tr><td>1998</td><td>H0580</td><td>Northeast Breton Islands         </td><td>North East Gulf</td><td> 1998-08-08</td><td>136.000000</td><td>POINT (1058837 568486.9)</td></tr>\n",
       "\t<tr><td>1998</td><td>H0581</td><td>Southwest Hyacinthe Point Reef   </td><td>North East Gulf</td><td> 1998-08-08</td><td> 20.000000</td><td>POINT (1055916 567597.1)</td></tr>\n",
       "\t<tr><td>1998</td><td>H0588</td><td>Oyster Bay Reef                  </td><td>North West Gulf</td><td> 1998-08-08</td><td>  3.000000</td><td>POINT (1061198 542829.8)</td></tr>\n",
       "\t<tr><td>1998</td><td>H0589</td><td>Horswell Bluff Reef              </td><td>Gulf Islands   </td><td> 1998-08-09</td><td> 13.000000</td><td>POINT (1150333 468539.8)</td></tr>\n",
       "\t<tr><td>1998</td><td>H0590</td><td>South Shah Point Reef            </td><td>Gulf Islands   </td><td> 1998-09-04</td><td> 14.000000</td><td>POINT (1176121 448603.4)</td></tr>\n",
       "\t<tr><td>1998</td><td>H0591</td><td>Nicholson Cove Reef              </td><td>Gulf Islands   </td><td> 1998-09-04</td><td>  4.000000</td><td>POINT (1164351 450572.6)</td></tr>\n",
       "\t<tr><td>1998</td><td>H0592</td><td>Crofton Reef                     </td><td>Gulf Islands   </td><td> 1998-09-04</td><td> 80.000000</td><td>POINT (1174063 432165.7)</td></tr>\n",
       "\t<tr><td>1998</td><td>H0593</td><td>North Musgrave Point Reef        </td><td>Gulf Islands   </td><td> 1998-09-05</td><td> 12.000000</td><td>POINT (1179552 418775.9)</td></tr>\n",
       "\t<tr><td>1998</td><td>H0594</td><td>South Finnerty Cove Reef         </td><td>South Gulf     </td><td> 1998-09-06</td><td>  8.000000</td><td>POINT (1200747 388013.8)</td></tr>\n",
       "</tbody>\n",
       "</table>\n"
      ],
      "text/latex": [
       "A sf: 433 × 7\n",
       "\\begin{tabular}{r|lllllll}\n",
       " Date.1 & Site.Key & Location.Value & Location.Info & Date & Count & geometry\\\\\n",
       " <int> & <fct> & <fct> & <fct> & <fct> & <dbl> & <POINT {[}m{]}>\\\\\n",
       "\\hline\n",
       "\t 1998 & H0001 & West Bentinck Island Reefs          & South Gulf   &  1998-09-06 & 173.000000 & POINT (1182114 369469.6)\\\\\n",
       "\t 1998 & H0002 & Race Rocks                          & South Gulf   &  1998-09-06 & 359.000000 & POINT (1183602 367956.2)\\\\\n",
       "\t 1998 & H0003 & Haystock Islets                     & South Gulf   &  1998-09-06 & 129.000000 & POINT (1185123 377157.1)\\\\\n",
       "\t 1998 & H0004 & Chain Islets                        & South Gulf   &  1998-09-06 & 144.000000 & POINT (1202897 382277.6)\\\\\n",
       "\t 1998 & H0005 & Zero Rock                           & South Gulf   &  1998-09-06 & 111.000000 & POINT (1200488 393601.3)\\\\\n",
       "\t 1998 & H0006 & South D'Arcy Island Reef            & South Gulf   &  1998-09-06 &  56.000000 & POINT (1201197 397526.9)\\\\\n",
       "\t 1998 & H0007 & Unit Rocks                          & South Gulf   &  1998-09-06 &  91.000000 & POINT (1202967 398061.7)\\\\\n",
       "\t 1998 & H0008 & Northwest Little D'Arcy Island Rock & South Gulf   & NA          &  46.500000 & POINT (1201825 399283.8)\\\\\n",
       "\t 1998 & H0009 & Sallas Rocks                        & South Gulf   &  1998-09-06 & 149.000000 & POINT (1200339 400392.9)\\\\\n",
       "\t 1998 & H0010 & South James Island Reef             & South Gulf   & NA          &   5.000000 & POINT (1200339 400392.9)\\\\\n",
       "\t 1998 & H0011 & Munroe Rock                         & South Gulf   &  1998-09-06 &  46.000000 & POINT (1199356 401554.9)\\\\\n",
       "\t 1998 & H0012 & Cowichan HD                         & South Gulf   & NA          &  14.500000 & POINT (1195205 397233.3)\\\\\n",
       "\t 1998 & H0013 & East Sidney Island Reef             & South Gulf   &  1998-09-06 &   3.000000 & POINT (1198734 404485.9)\\\\\n",
       "\t 1998 & H0014 & Northwest Mandarte Island Rock      & South Gulf   &  1998-09-06 &  57.000000 & POINT (1199551 406316.6)\\\\\n",
       "\t 1998 & H0015 & Cooper Reef                         & South Gulf   &  1998-09-06 & 159.000000 & POINT (1200975 410014.9)\\\\\n",
       "\t 1998 & H0016 & East Brethour Island Reef           & South Gulf   &  1998-09-06 &  42.000000 & POINT (1198308 410435)\\\\\n",
       "\t 1998 & H0017 & Northwest Brethour Island           & South Gulf   &  1998-09-06 &  29.000000 & POINT (1197491 410770.6)\\\\\n",
       "\t 1998 & H0018 & Reay Island                         & South Gulf   &  1998-09-06 &   0.000000 & POINT (1197060 411232)\\\\\n",
       "\t 1998 & H0019 & Greig Island                        & South Gulf   &  1998-09-06 &  10.000000 & POINT (1196285 410647.3)\\\\\n",
       "\t 1998 & H0020 & South Coal Island Reef              & South Gulf   & NA          &   2.000000 & POINT (1193836 410600.2)\\\\\n",
       "\t 1998 & H0021 & South Ker Island Reef               & South Gulf   &  1998-09-06 &  58.000000 & POINT (1194139 409378.4)\\\\\n",
       "\t 1998 & H0022 & Tsehum Harbour Reef                 & South Gulf   & NA          &  25.500000 & POINT (1191276 409939.2)\\\\\n",
       "\t 1998 & H0023 & North Goudge Island Reef            & South Gulf   &  1998-09-06 &   3.500000 & POINT (1192221 411540.3)\\\\\n",
       "\t 1998 & H0024 & Mill Bay                            & South Gulf   & NA          &   8.714286 & POINT (1180751 406909.5)\\\\\n",
       "\t 1998 & H0025 & East Fernie Island                  & South Gulf   & NA          &   9.333333 & POINT (1180751 406909.5)\\\\\n",
       "\t 1998 & H0026 & Shoal Island Flats                  & Gulf Islands &  1998-09-04 &  16.000000 & POINT (1170841 434492)\\\\\n",
       "\t 1998 & H0027 & Miami Islet                         & Gulf Islands &  1998-09-04 & 192.000000 & POINT (1167739 449514.4)\\\\\n",
       "\t 1998 & H0028 & Danger Reefs                        & Gulf Islands &  1998-09-04 &  99.000000 & POINT (1167332 451246)\\\\\n",
       "\t 1998 & H0029 & East Boundary Bay Site A            & Boundary Bay & NA          &  47.750000 & POINT (1228489 456563.8)\\\\\n",
       "\t 1998 & H0030 & East Boundary Bay Site B            & Boundary Bay &  1998-08-05 &  86.000000 & POINT (1226750 456654.1)\\\\\n",
       "\t ... & ... & ... & ... & ... & ... & ...\\\\\n",
       "\t 1998 & H0552 & Tanner Rock                       & South Gulf      & NA          &  37.777778 & POINT (1182630 404709)\\\\\n",
       "\t 1998 & H0553 & Patey Rock                        & Gulf Islands    & NA          &   5.555556 & POINT (1182868 412659.3)\\\\\n",
       "\t 1998 & H0554 & Southeast Swartz Head Reef        & South Gulf      &  1998-09-06 &  20.000000 & POINT (1192017 411077.3)\\\\\n",
       "\t 1998 & H0555 & Egerton Rock                      & North East Gulf & NA          &  16.666667 & POINT (1148881 498959.1)\\\\\n",
       "\t 1998 & H0556 & South Edgecombe Island Islet      & North East Gulf & NA          &  16.285714 & POINT (1142584 511257)\\\\\n",
       "\t 1998 & H0557 & Nares Rock                        & North East Gulf &  1998-08-06 &  18.000000 & POINT (1139444 514707)\\\\\n",
       "\t 1998 & H0558 & South West Scotch Fir Point Islet & North East Gulf &  1998-08-06 & 101.000000 & POINT (1124418 526397.2)\\\\\n",
       "\t 1998 & H0559 & Southwest Harwood Island          & North East Gulf &  1998-08-07 &  17.000000 & POINT (1095677 536888)\\\\\n",
       "\t 1998 & H0560 & South Fegan Islets                & North East Gulf &  1998-08-07 &  37.000000 & POINT (1117116 502216)\\\\\n",
       "\t 1998 & H0561 & South Boho Bay Islet              & North East Gulf &  1998-08-06 &   0.000000 & POINT (1129083 498934.3)\\\\\n",
       "\t 1998 & H0562 & East Jedediah Island              & North East Gulf &  1998-08-06 &  30.000000 & POINT (1130919 500303.9)\\\\\n",
       "\t 1998 & H0563 & Southeast Davis Bay Islet         & North East Gulf &  1998-08-07 &  45.000000 & POINT (1101345 522850.9)\\\\\n",
       "\t 1998 & H0564 & Sturgeon Bank Site F              & Fraser River    & NA          &  50.714286 & POINT (1201690 463554)\\\\\n",
       "\t 1998 & H0565 & Roberts Bank Site K               & Fraser River    &  1998-08-05 &  13.000000 & POINT (1204264 459274.8)\\\\\n",
       "\t 1998 & H0573 & Sturgeon Bank Site G              & Fraser River    &  1998-08-05 & 111.000000 & POINT (1207617 465745.7)\\\\\n",
       "\t 1998 & H0574 & North Worlcombe Island Reef       & Howe Sound      &  1998-08-05 &  20.000000 & POINT (1184602 485040.2)\\\\\n",
       "\t 1998 & H0575 & Kiddie Point                      & North East Gulf &  1998-08-07 &   4.000000 & POINT (1098074 532362.4)\\\\\n",
       "\t 1998 & H0576 & Cyril Rock                        & North East Gulf &  1998-08-07 &  17.000000 & POINT (1100330 533029.1)\\\\\n",
       "\t 1998 & H0577 & Southeast Harwood Island          & North East Gulf &  1998-08-07 &   6.000000 & POINT (1098368 537995.9)\\\\\n",
       "\t 1998 & H0578 & South Twin Islands                & North East Gulf &  1998-08-07 &   8.000000 & POINT (1076626 556209.1)\\\\\n",
       "\t 1998 & H0579 & Southeast Subtle Islands          & North East Gulf &  1998-08-08 &   5.000000 & POINT (1065497 567166.9)\\\\\n",
       "\t 1998 & H0580 & Northeast Breton Islands          & North East Gulf &  1998-08-08 & 136.000000 & POINT (1058837 568486.9)\\\\\n",
       "\t 1998 & H0581 & Southwest Hyacinthe Point Reef    & North East Gulf &  1998-08-08 &  20.000000 & POINT (1055916 567597.1)\\\\\n",
       "\t 1998 & H0588 & Oyster Bay Reef                   & North West Gulf &  1998-08-08 &   3.000000 & POINT (1061198 542829.8)\\\\\n",
       "\t 1998 & H0589 & Horswell Bluff Reef               & Gulf Islands    &  1998-08-09 &  13.000000 & POINT (1150333 468539.8)\\\\\n",
       "\t 1998 & H0590 & South Shah Point Reef             & Gulf Islands    &  1998-09-04 &  14.000000 & POINT (1176121 448603.4)\\\\\n",
       "\t 1998 & H0591 & Nicholson Cove Reef               & Gulf Islands    &  1998-09-04 &   4.000000 & POINT (1164351 450572.6)\\\\\n",
       "\t 1998 & H0592 & Crofton Reef                      & Gulf Islands    &  1998-09-04 &  80.000000 & POINT (1174063 432165.7)\\\\\n",
       "\t 1998 & H0593 & North Musgrave Point Reef         & Gulf Islands    &  1998-09-05 &  12.000000 & POINT (1179552 418775.9)\\\\\n",
       "\t 1998 & H0594 & South Finnerty Cove Reef          & South Gulf      &  1998-09-06 &   8.000000 & POINT (1200747 388013.8)\\\\\n",
       "\\end{tabular}\n"
      ],
      "text/markdown": [
       "\n",
       "A sf: 433 × 7\n",
       "\n",
       "| Date.1 &lt;int&gt; | Site.Key &lt;fct&gt; | Location.Value &lt;fct&gt; | Location.Info &lt;fct&gt; | Date &lt;fct&gt; | Count &lt;dbl&gt; | geometry &lt;POINT [m]&gt; |\n",
       "|---|---|---|---|---|---|---|\n",
       "| 1998 | H0001 | West Bentinck Island Reefs          | South Gulf   |  1998-09-06 | 173.000000 | POINT (1182114 369469.6) |\n",
       "| 1998 | H0002 | Race Rocks                          | South Gulf   |  1998-09-06 | 359.000000 | POINT (1183602 367956.2) |\n",
       "| 1998 | H0003 | Haystock Islets                     | South Gulf   |  1998-09-06 | 129.000000 | POINT (1185123 377157.1) |\n",
       "| 1998 | H0004 | Chain Islets                        | South Gulf   |  1998-09-06 | 144.000000 | POINT (1202897 382277.6) |\n",
       "| 1998 | H0005 | Zero Rock                           | South Gulf   |  1998-09-06 | 111.000000 | POINT (1200488 393601.3) |\n",
       "| 1998 | H0006 | South D'Arcy Island Reef            | South Gulf   |  1998-09-06 |  56.000000 | POINT (1201197 397526.9) |\n",
       "| 1998 | H0007 | Unit Rocks                          | South Gulf   |  1998-09-06 |  91.000000 | POINT (1202967 398061.7) |\n",
       "| 1998 | H0008 | Northwest Little D'Arcy Island Rock | South Gulf   | NA          |  46.500000 | POINT (1201825 399283.8) |\n",
       "| 1998 | H0009 | Sallas Rocks                        | South Gulf   |  1998-09-06 | 149.000000 | POINT (1200339 400392.9) |\n",
       "| 1998 | H0010 | South James Island Reef             | South Gulf   | NA          |   5.000000 | POINT (1200339 400392.9) |\n",
       "| 1998 | H0011 | Munroe Rock                         | South Gulf   |  1998-09-06 |  46.000000 | POINT (1199356 401554.9) |\n",
       "| 1998 | H0012 | Cowichan HD                         | South Gulf   | NA          |  14.500000 | POINT (1195205 397233.3) |\n",
       "| 1998 | H0013 | East Sidney Island Reef             | South Gulf   |  1998-09-06 |   3.000000 | POINT (1198734 404485.9) |\n",
       "| 1998 | H0014 | Northwest Mandarte Island Rock      | South Gulf   |  1998-09-06 |  57.000000 | POINT (1199551 406316.6) |\n",
       "| 1998 | H0015 | Cooper Reef                         | South Gulf   |  1998-09-06 | 159.000000 | POINT (1200975 410014.9) |\n",
       "| 1998 | H0016 | East Brethour Island Reef           | South Gulf   |  1998-09-06 |  42.000000 | POINT (1198308 410435) |\n",
       "| 1998 | H0017 | Northwest Brethour Island           | South Gulf   |  1998-09-06 |  29.000000 | POINT (1197491 410770.6) |\n",
       "| 1998 | H0018 | Reay Island                         | South Gulf   |  1998-09-06 |   0.000000 | POINT (1197060 411232) |\n",
       "| 1998 | H0019 | Greig Island                        | South Gulf   |  1998-09-06 |  10.000000 | POINT (1196285 410647.3) |\n",
       "| 1998 | H0020 | South Coal Island Reef              | South Gulf   | NA          |   2.000000 | POINT (1193836 410600.2) |\n",
       "| 1998 | H0021 | South Ker Island Reef               | South Gulf   |  1998-09-06 |  58.000000 | POINT (1194139 409378.4) |\n",
       "| 1998 | H0022 | Tsehum Harbour Reef                 | South Gulf   | NA          |  25.500000 | POINT (1191276 409939.2) |\n",
       "| 1998 | H0023 | North Goudge Island Reef            | South Gulf   |  1998-09-06 |   3.500000 | POINT (1192221 411540.3) |\n",
       "| 1998 | H0024 | Mill Bay                            | South Gulf   | NA          |   8.714286 | POINT (1180751 406909.5) |\n",
       "| 1998 | H0025 | East Fernie Island                  | South Gulf   | NA          |   9.333333 | POINT (1180751 406909.5) |\n",
       "| 1998 | H0026 | Shoal Island Flats                  | Gulf Islands |  1998-09-04 |  16.000000 | POINT (1170841 434492) |\n",
       "| 1998 | H0027 | Miami Islet                         | Gulf Islands |  1998-09-04 | 192.000000 | POINT (1167739 449514.4) |\n",
       "| 1998 | H0028 | Danger Reefs                        | Gulf Islands |  1998-09-04 |  99.000000 | POINT (1167332 451246) |\n",
       "| 1998 | H0029 | East Boundary Bay Site A            | Boundary Bay | NA          |  47.750000 | POINT (1228489 456563.8) |\n",
       "| 1998 | H0030 | East Boundary Bay Site B            | Boundary Bay |  1998-08-05 |  86.000000 | POINT (1226750 456654.1) |\n",
       "| ... | ... | ... | ... | ... | ... | ... |\n",
       "| 1998 | H0552 | Tanner Rock                       | South Gulf      | NA          |  37.777778 | POINT (1182630 404709) |\n",
       "| 1998 | H0553 | Patey Rock                        | Gulf Islands    | NA          |   5.555556 | POINT (1182868 412659.3) |\n",
       "| 1998 | H0554 | Southeast Swartz Head Reef        | South Gulf      |  1998-09-06 |  20.000000 | POINT (1192017 411077.3) |\n",
       "| 1998 | H0555 | Egerton Rock                      | North East Gulf | NA          |  16.666667 | POINT (1148881 498959.1) |\n",
       "| 1998 | H0556 | South Edgecombe Island Islet      | North East Gulf | NA          |  16.285714 | POINT (1142584 511257) |\n",
       "| 1998 | H0557 | Nares Rock                        | North East Gulf |  1998-08-06 |  18.000000 | POINT (1139444 514707) |\n",
       "| 1998 | H0558 | South West Scotch Fir Point Islet | North East Gulf |  1998-08-06 | 101.000000 | POINT (1124418 526397.2) |\n",
       "| 1998 | H0559 | Southwest Harwood Island          | North East Gulf |  1998-08-07 |  17.000000 | POINT (1095677 536888) |\n",
       "| 1998 | H0560 | South Fegan Islets                | North East Gulf |  1998-08-07 |  37.000000 | POINT (1117116 502216) |\n",
       "| 1998 | H0561 | South Boho Bay Islet              | North East Gulf |  1998-08-06 |   0.000000 | POINT (1129083 498934.3) |\n",
       "| 1998 | H0562 | East Jedediah Island              | North East Gulf |  1998-08-06 |  30.000000 | POINT (1130919 500303.9) |\n",
       "| 1998 | H0563 | Southeast Davis Bay Islet         | North East Gulf |  1998-08-07 |  45.000000 | POINT (1101345 522850.9) |\n",
       "| 1998 | H0564 | Sturgeon Bank Site F              | Fraser River    | NA          |  50.714286 | POINT (1201690 463554) |\n",
       "| 1998 | H0565 | Roberts Bank Site K               | Fraser River    |  1998-08-05 |  13.000000 | POINT (1204264 459274.8) |\n",
       "| 1998 | H0573 | Sturgeon Bank Site G              | Fraser River    |  1998-08-05 | 111.000000 | POINT (1207617 465745.7) |\n",
       "| 1998 | H0574 | North Worlcombe Island Reef       | Howe Sound      |  1998-08-05 |  20.000000 | POINT (1184602 485040.2) |\n",
       "| 1998 | H0575 | Kiddie Point                      | North East Gulf |  1998-08-07 |   4.000000 | POINT (1098074 532362.4) |\n",
       "| 1998 | H0576 | Cyril Rock                        | North East Gulf |  1998-08-07 |  17.000000 | POINT (1100330 533029.1) |\n",
       "| 1998 | H0577 | Southeast Harwood Island          | North East Gulf |  1998-08-07 |   6.000000 | POINT (1098368 537995.9) |\n",
       "| 1998 | H0578 | South Twin Islands                | North East Gulf |  1998-08-07 |   8.000000 | POINT (1076626 556209.1) |\n",
       "| 1998 | H0579 | Southeast Subtle Islands          | North East Gulf |  1998-08-08 |   5.000000 | POINT (1065497 567166.9) |\n",
       "| 1998 | H0580 | Northeast Breton Islands          | North East Gulf |  1998-08-08 | 136.000000 | POINT (1058837 568486.9) |\n",
       "| 1998 | H0581 | Southwest Hyacinthe Point Reef    | North East Gulf |  1998-08-08 |  20.000000 | POINT (1055916 567597.1) |\n",
       "| 1998 | H0588 | Oyster Bay Reef                   | North West Gulf |  1998-08-08 |   3.000000 | POINT (1061198 542829.8) |\n",
       "| 1998 | H0589 | Horswell Bluff Reef               | Gulf Islands    |  1998-08-09 |  13.000000 | POINT (1150333 468539.8) |\n",
       "| 1998 | H0590 | South Shah Point Reef             | Gulf Islands    |  1998-09-04 |  14.000000 | POINT (1176121 448603.4) |\n",
       "| 1998 | H0591 | Nicholson Cove Reef               | Gulf Islands    |  1998-09-04 |   4.000000 | POINT (1164351 450572.6) |\n",
       "| 1998 | H0592 | Crofton Reef                      | Gulf Islands    |  1998-09-04 |  80.000000 | POINT (1174063 432165.7) |\n",
       "| 1998 | H0593 | North Musgrave Point Reef         | Gulf Islands    |  1998-09-05 |  12.000000 | POINT (1179552 418775.9) |\n",
       "| 1998 | H0594 | South Finnerty Cove Reef          | South Gulf      |  1998-09-06 |   8.000000 | POINT (1200747 388013.8) |\n",
       "\n"
      ],
      "text/plain": [
       "    Date.1 Site.Key Location.Value                      Location.Info  \n",
       "1   1998   H0001    West Bentinck Island Reefs          South Gulf     \n",
       "2   1998   H0002    Race Rocks                          South Gulf     \n",
       "3   1998   H0003    Haystock Islets                     South Gulf     \n",
       "4   1998   H0004    Chain Islets                        South Gulf     \n",
       "5   1998   H0005    Zero Rock                           South Gulf     \n",
       "6   1998   H0006    South D'Arcy Island Reef            South Gulf     \n",
       "7   1998   H0007    Unit Rocks                          South Gulf     \n",
       "8   1998   H0008    Northwest Little D'Arcy Island Rock South Gulf     \n",
       "9   1998   H0009    Sallas Rocks                        South Gulf     \n",
       "10  1998   H0010    South James Island Reef             South Gulf     \n",
       "11  1998   H0011    Munroe Rock                         South Gulf     \n",
       "12  1998   H0012    Cowichan HD                         South Gulf     \n",
       "13  1998   H0013    East Sidney Island Reef             South Gulf     \n",
       "14  1998   H0014    Northwest Mandarte Island Rock      South Gulf     \n",
       "15  1998   H0015    Cooper Reef                         South Gulf     \n",
       "16  1998   H0016    East Brethour Island Reef           South Gulf     \n",
       "17  1998   H0017    Northwest Brethour Island           South Gulf     \n",
       "18  1998   H0018    Reay Island                         South Gulf     \n",
       "19  1998   H0019    Greig Island                        South Gulf     \n",
       "20  1998   H0020    South Coal Island Reef              South Gulf     \n",
       "21  1998   H0021    South Ker Island Reef               South Gulf     \n",
       "22  1998   H0022    Tsehum Harbour Reef                 South Gulf     \n",
       "23  1998   H0023    North Goudge Island Reef            South Gulf     \n",
       "24  1998   H0024    Mill Bay                            South Gulf     \n",
       "25  1998   H0025    East Fernie Island                  South Gulf     \n",
       "26  1998   H0026    Shoal Island Flats                  Gulf Islands   \n",
       "27  1998   H0027    Miami Islet                         Gulf Islands   \n",
       "28  1998   H0028    Danger Reefs                        Gulf Islands   \n",
       "29  1998   H0029    East Boundary Bay Site A            Boundary Bay   \n",
       "30  1998   H0030    East Boundary Bay Site B            Boundary Bay   \n",
       "... ...    ...      ...                                 ...            \n",
       "404 1998   H0552    Tanner Rock                         South Gulf     \n",
       "405 1998   H0553    Patey Rock                          Gulf Islands   \n",
       "406 1998   H0554    Southeast Swartz Head Reef          South Gulf     \n",
       "407 1998   H0555    Egerton Rock                        North East Gulf\n",
       "408 1998   H0556    South Edgecombe Island Islet        North East Gulf\n",
       "409 1998   H0557    Nares Rock                          North East Gulf\n",
       "410 1998   H0558    South West Scotch Fir Point Islet   North East Gulf\n",
       "411 1998   H0559    Southwest Harwood Island            North East Gulf\n",
       "412 1998   H0560    South Fegan Islets                  North East Gulf\n",
       "413 1998   H0561    South Boho Bay Islet                North East Gulf\n",
       "414 1998   H0562    East Jedediah Island                North East Gulf\n",
       "415 1998   H0563    Southeast Davis Bay Islet           North East Gulf\n",
       "416 1998   H0564    Sturgeon Bank Site F                Fraser River   \n",
       "417 1998   H0565    Roberts Bank Site K                 Fraser River   \n",
       "418 1998   H0573    Sturgeon Bank Site G                Fraser River   \n",
       "419 1998   H0574    North Worlcombe Island Reef         Howe Sound     \n",
       "420 1998   H0575    Kiddie Point                        North East Gulf\n",
       "421 1998   H0576    Cyril Rock                          North East Gulf\n",
       "422 1998   H0577    Southeast Harwood Island            North East Gulf\n",
       "423 1998   H0578    South Twin Islands                  North East Gulf\n",
       "424 1998   H0579    Southeast Subtle Islands            North East Gulf\n",
       "425 1998   H0580    Northeast Breton Islands            North East Gulf\n",
       "426 1998   H0581    Southwest Hyacinthe Point Reef      North East Gulf\n",
       "427 1998   H0588    Oyster Bay Reef                     North West Gulf\n",
       "428 1998   H0589    Horswell Bluff Reef                 Gulf Islands   \n",
       "429 1998   H0590    South Shah Point Reef               Gulf Islands   \n",
       "430 1998   H0591    Nicholson Cove Reef                 Gulf Islands   \n",
       "431 1998   H0592    Crofton Reef                        Gulf Islands   \n",
       "432 1998   H0593    North Musgrave Point Reef           Gulf Islands   \n",
       "433 1998   H0594    South Finnerty Cove Reef            South Gulf     \n",
       "    Date        Count      geometry                \n",
       "1    1998-09-06 173.000000 POINT (1182114 369469.6)\n",
       "2    1998-09-06 359.000000 POINT (1183602 367956.2)\n",
       "3    1998-09-06 129.000000 POINT (1185123 377157.1)\n",
       "4    1998-09-06 144.000000 POINT (1202897 382277.6)\n",
       "5    1998-09-06 111.000000 POINT (1200488 393601.3)\n",
       "6    1998-09-06  56.000000 POINT (1201197 397526.9)\n",
       "7    1998-09-06  91.000000 POINT (1202967 398061.7)\n",
       "8   NA           46.500000 POINT (1201825 399283.8)\n",
       "9    1998-09-06 149.000000 POINT (1200339 400392.9)\n",
       "10  NA            5.000000 POINT (1200339 400392.9)\n",
       "11   1998-09-06  46.000000 POINT (1199356 401554.9)\n",
       "12  NA           14.500000 POINT (1195205 397233.3)\n",
       "13   1998-09-06   3.000000 POINT (1198734 404485.9)\n",
       "14   1998-09-06  57.000000 POINT (1199551 406316.6)\n",
       "15   1998-09-06 159.000000 POINT (1200975 410014.9)\n",
       "16   1998-09-06  42.000000 POINT (1198308 410435)  \n",
       "17   1998-09-06  29.000000 POINT (1197491 410770.6)\n",
       "18   1998-09-06   0.000000 POINT (1197060 411232)  \n",
       "19   1998-09-06  10.000000 POINT (1196285 410647.3)\n",
       "20  NA            2.000000 POINT (1193836 410600.2)\n",
       "21   1998-09-06  58.000000 POINT (1194139 409378.4)\n",
       "22  NA           25.500000 POINT (1191276 409939.2)\n",
       "23   1998-09-06   3.500000 POINT (1192221 411540.3)\n",
       "24  NA            8.714286 POINT (1180751 406909.5)\n",
       "25  NA            9.333333 POINT (1180751 406909.5)\n",
       "26   1998-09-04  16.000000 POINT (1170841 434492)  \n",
       "27   1998-09-04 192.000000 POINT (1167739 449514.4)\n",
       "28   1998-09-04  99.000000 POINT (1167332 451246)  \n",
       "29  NA           47.750000 POINT (1228489 456563.8)\n",
       "30   1998-08-05  86.000000 POINT (1226750 456654.1)\n",
       "... ...         ...        ...                     \n",
       "404 NA           37.777778 POINT (1182630 404709)  \n",
       "405 NA            5.555556 POINT (1182868 412659.3)\n",
       "406  1998-09-06  20.000000 POINT (1192017 411077.3)\n",
       "407 NA           16.666667 POINT (1148881 498959.1)\n",
       "408 NA           16.285714 POINT (1142584 511257)  \n",
       "409  1998-08-06  18.000000 POINT (1139444 514707)  \n",
       "410  1998-08-06 101.000000 POINT (1124418 526397.2)\n",
       "411  1998-08-07  17.000000 POINT (1095677 536888)  \n",
       "412  1998-08-07  37.000000 POINT (1117116 502216)  \n",
       "413  1998-08-06   0.000000 POINT (1129083 498934.3)\n",
       "414  1998-08-06  30.000000 POINT (1130919 500303.9)\n",
       "415  1998-08-07  45.000000 POINT (1101345 522850.9)\n",
       "416 NA           50.714286 POINT (1201690 463554)  \n",
       "417  1998-08-05  13.000000 POINT (1204264 459274.8)\n",
       "418  1998-08-05 111.000000 POINT (1207617 465745.7)\n",
       "419  1998-08-05  20.000000 POINT (1184602 485040.2)\n",
       "420  1998-08-07   4.000000 POINT (1098074 532362.4)\n",
       "421  1998-08-07  17.000000 POINT (1100330 533029.1)\n",
       "422  1998-08-07   6.000000 POINT (1098368 537995.9)\n",
       "423  1998-08-07   8.000000 POINT (1076626 556209.1)\n",
       "424  1998-08-08   5.000000 POINT (1065497 567166.9)\n",
       "425  1998-08-08 136.000000 POINT (1058837 568486.9)\n",
       "426  1998-08-08  20.000000 POINT (1055916 567597.1)\n",
       "427  1998-08-08   3.000000 POINT (1061198 542829.8)\n",
       "428  1998-08-09  13.000000 POINT (1150333 468539.8)\n",
       "429  1998-09-04  14.000000 POINT (1176121 448603.4)\n",
       "430  1998-09-04   4.000000 POINT (1164351 450572.6)\n",
       "431  1998-09-04  80.000000 POINT (1174063 432165.7)\n",
       "432  1998-09-05  12.000000 POINT (1179552 418775.9)\n",
       "433  1998-09-06   8.000000 POINT (1200747 388013.8)"
      ]
     },
     "metadata": {},
     "output_type": "display_data"
    }
   ],
   "source": [
    "spdf_yr <- filter(spdf, Date.1 == y_unique[1])\n",
    "spdf_yr"
   ]
  },
  {
   "cell_type": "code",
   "execution_count": null,
   "metadata": {
    "scrolled": true
   },
   "outputs": [],
   "source": [
    "y <- 1\n",
    "\n",
    "for (y in 1:length(y_unique)){\n",
    "    spdf_yr <- filter(spdf, Date.1 == y_unique[y])\n",
    "\n",
    "\n",
    "i <- 1 # haulout index\n",
    "\n",
    "for(i in seq_len(nrow(spdf_yr))){\n",
    "    coord <- st_coordinates(spdf_yr[i,])\n",
    "    costsurf <- gdistance::accCost(trans, coord)\n",
    "\n",
    "    # (2) calculates the maximum distance?\n",
    "    #ipdw_dist <- raster::hist(costsurf, plot = FALSE)$breaks[2]\n",
    "    #if(ipdw_dist < ipdw_range){\n",
    "    #  ipdw_dist <- ipdw_range    \n",
    "    #}\n",
    "\n",
    "    # (2)\n",
    "    # added by GLO to set to NA any cells outside the range\n",
    "    costsurf <- calc(costsurf, fun=function(x){ x[x > ipdw_range] <- NA; return(x)} )\n",
    "\n",
    "    # (3) reclassify cost surface (is it accessible under the range / limit)\n",
    "    # problem - the upper class lumps all cells equal to max distance together\n",
    "    #costsurf_reclass <- raster::reclassify(costsurf, \n",
    "    #                                       c(ipdw_dist, +Inf, NA,\n",
    "    #                                         ipdw_range, #ipdw_dist, ipdw_range)) \n",
    "\n",
    "    # (4) make it inverse distance \n",
    "    #x_ipdw <- 1/costsurf^2\n",
    "    #x_ipdw <- calc(costsurf, fun=function(x){ x[x > range] <- NA; return(x)} )\n",
    "    x_ipdw <- 1/costsurf\n",
    "\n",
    "# (5) # fix na's and infinite values\n",
    "    x_ipdw[is.infinite(x_ipdw[])] <- 1\n",
    "    x_ipdw[is.na(x_ipdw)] <- 0\n",
    "\n",
    "# (6)  Multiply each cell's idpw value by the haulout size\n",
    "    \n",
    "    # rescale each cell value out of 1 where 1 = total from all cells\n",
    "    # each cell represents and then multiply by haulout size\n",
    "    tot_val = cellStats(x_ipdw,sum)\n",
    "    #seals = spdf[i,\"count\"]@data\n",
    "\n",
    "    pts_count <- spdf_yr %>% as.data.frame \n",
    "    # https://stackoverflow.com/questions/34469178/r-convert-factor-to-numeric-and-remove-levels\n",
    "    seals = as.numeric(as.character(pts_count$Count[i]))\n",
    "    #seals = spdf[i,\"Count\"]@data\n",
    "\n",
    "    var_f = tot_val*seals\n",
    "    #var_f = tot_val*seals[1,]\n",
    "    #print(\"seal count\")\n",
    "    #print(seals)\n",
    "    #print(\"tot_val\")\n",
    "    #print(tot_val)\n",
    "    #print(\"var_f\")\n",
    "    #print(var_f)\n",
    "    #print(\"check 2\")\n",
    "\n",
    "    # each cell = % of total foraging arena (or probability of foraging)\n",
    "    # weight by cell density at haulout\n",
    "    x2_ipdw <- x_ipdw / tot_val * seals\n",
    "    #x2_ipdw <- x_ipdw / tot_val * seals[1,]\n",
    "\n",
    "    #print(\"check 3\")\n",
    "\n",
    "    #print(i)\n",
    "    #print(paste(\"seals: \", seals))\n",
    "\n",
    "# (7) Write to disk\n",
    "    # (best practice is to write so not all rasters stored in RAM)\n",
    "    raster::writeRaster(x2_ipdw,filename = file.path(tempdir(), paste(y_unique[y],\"sealcount\", \"A1ras\", i, \".grd\", sep = \"\")), overwrite = TRUE, NAflag = -99999)\n",
    "    #print(\"check 3\")\n",
    "\n",
    "} # end haulout loop\n",
    "\n",
    "# (8) Open the temp rasters, create rasterstack (one for each haulout)\n",
    "\n",
    "# get list of temp raster files\n",
    "raster_flist <- list.files(path = file.path(tempdir()), pattern = paste(\"sealcount\", \"A1ras*\", sep = \"\"), full.names = TRUE)\n",
    "# filter to only get .grd files\n",
    "raster_flist <- raster_flist[grep(\".grd\", raster_flist, fixed = TRUE)]\n",
    "\n",
    "as.numeric(gsub('.*A1ras([0123456789]*)\\\\.grd$', '\\\\1', raster_flist)) -> fileNum # get raster by file\n",
    "\n",
    "raster_flist <- raster_flist[order(fileNum)] # order them\n",
    "rstack <- raster::stack(raster_flist)\n",
    "rstack <- raster::reclassify(rstack, cbind(-99999, NA))\n",
    "\n",
    "# delete temp rasters\n",
    "file.remove(list.files(path = file.path(tempdir()),\n",
    "                       pattern = paste(\"sealcount\", \"A1ras*\", sep = \"\"), \n",
    "                       full.names = TRUE))\n",
    "\n",
    "##(9) Combine the foraging intensity rasters for each haulout into one raster for all haulouts\n",
    "\n",
    "# 'add' rasters.\n",
    "# make sure NA is changed to zero\n",
    "z <- rstack[[1]]\n",
    "z[is.na(z[])] <- 0\n",
    "\n",
    "for (i in 2:nlayers(rstack)){\n",
    "  each_ras <- rstack[[i]]\n",
    "  each_ras[is.na(each_ras[])] <- 0\n",
    "  z <- z + each_ras\n",
    "}\n",
    "\n",
    "# rescale each cell value in similar fashion as step (6) \n",
    "# final result is each cell contains a multiplier (range 0 to 1)\n",
    "# representing a relative foraging intensity\n",
    "# can be used to multiple total biomass for SoG to get B per cell\n",
    "tot_val = cellStats(z, sum)\n",
    "final_sealrast <- z / tot_val\n",
    "\n",
    "#raster::writeRaster(x2_ipdw,filename = file.path(tempdir(), paste(y_unique[y],\"sealcount\", \"A1ras\", i, \".grd\", sep = \"\")), overwrite = TRUE, NAflag = -99999)\n",
    "  \n",
    "raster::writeRaster(final_sealrast,filename = paste(\"sealforagingintens\",y_unique[y],\".tiff\", sep=\"\"),format=\"GTiff\", overwrite = TRUE, NAflag = -9999)\n",
    "#raster::writeRaster(z,filename = paste(\"TMPsealforagingintens\",y_unique[y],\".tiff\", sep=\"\"),format=\"GTiff\", overwrite = TRUE, NAflag = -9999)\n",
    "\n",
    "print(paste(\"Finished year: \", y))\n",
    "}# end year loop"
   ]
  },
  {
   "cell_type": "code",
   "execution_count": 243,
   "metadata": {},
   "outputs": [
    {
     "data": {
      "text/html": [
       "'C:\\\\Users\\\\Greig\\\\AppData\\\\Local\\\\Temp\\\\RtmpOeWzH3'"
      ],
      "text/latex": [
       "'C:\\textbackslash{}\\textbackslash{}Users\\textbackslash{}\\textbackslash{}Greig\\textbackslash{}\\textbackslash{}AppData\\textbackslash{}\\textbackslash{}Local\\textbackslash{}\\textbackslash{}Temp\\textbackslash{}\\textbackslash{}RtmpOeWzH3'"
      ],
      "text/markdown": [
       "'C:\\\\Users\\\\Greig\\\\AppData\\\\Local\\\\Temp\\\\RtmpOeWzH3'"
      ],
      "text/plain": [
       "[1] \"C:\\\\Users\\\\Greig\\\\AppData\\\\Local\\\\Temp\\\\RtmpOeWzH3\""
      ]
     },
     "metadata": {},
     "output_type": "display_data"
    }
   ],
   "source": [
    "# where intermediate files are written\n",
    "tempdir()"
   ]
  },
  {
   "cell_type": "code",
   "execution_count": 233,
   "metadata": {},
   "outputs": [
    {
     "data": {
      "text/html": [
       "1"
      ],
      "text/latex": [
       "1"
      ],
      "text/markdown": [
       "1"
      ],
      "text/plain": [
       "[1] 1"
      ]
     },
     "metadata": {},
     "output_type": "display_data"
    }
   ],
   "source": [
    "# should sum to 1\n",
    "cellStats(final_sealrast,sum)"
   ]
  },
  {
   "cell_type": "code",
   "execution_count": 241,
   "metadata": {},
   "outputs": [
    {
     "data": {
      "image/png": "[encoded data removed]",
      "text/plain": [
       "Plot with title \"layer\""
      ]
     },
     "metadata": {},
     "output_type": "display_data"
    }
   ],
   "source": [
    "# helps with symbologization in qgis\n",
    "hist(final_sealrast)"
   ]
  },
  {
   "cell_type": "markdown",
   "metadata": {},
   "source": [
    "### Inspect Results"
   ]
  },
  {
   "cell_type": "code",
   "execution_count": 155,
   "metadata": {},
   "outputs": [
    {
     "data": {
      "text/html": [
       "2049.99999936204"
      ],
      "text/latex": [
       "2049.99999936204"
      ],
      "text/markdown": [
       "2049.99999936204"
      ],
      "text/plain": [
       "[1] 2050"
      ]
     },
     "metadata": {},
     "output_type": "display_data"
    },
    {
     "data": {
      "text/html": [
       "1"
      ],
      "text/latex": [
       "1"
      ],
      "text/markdown": [
       "1"
      ],
      "text/plain": [
       "[1] 1"
      ]
     },
     "metadata": {},
     "output_type": "display_data"
    }
   ],
   "source": [
    "cellStats(z, sum)\n",
    "cellStats(final_sealrast, sum)"
   ]
  },
  {
   "cell_type": "code",
   "execution_count": 156,
   "metadata": {},
   "outputs": [
    {
     "data": {
      "text/plain": [
       "class      : RasterLayer \n",
       "dimensions : 803, 568, 456104  (nrow, ncol, ncell)\n",
       "resolution : 549, 555  (x, y)\n",
       "extent     : 982848.8, 1294681, 223595.4, 669260.4  (xmin, xmax, ymin, ymax)\n",
       "crs        : +proj=aea +lat_1=50 +lat_2=58.5 +lat_0=45 +lon_0=-126 +x_0=1000000 +y_0=0 +ellps=GRS80 +towgs84=0,0,0,0,0,0,0 +units=m +no_defs \n",
       "source     : memory\n",
       "names      : layer \n",
       "values     : 0, 0.001333111  (min, max)\n"
      ]
     },
     "metadata": {},
     "output_type": "display_data"
    }
   ],
   "source": [
    "final_sealrast\n"
   ]
  },
  {
   "cell_type": "markdown",
   "metadata": {},
   "source": [
    "## 7) Multiply foraging intensity rasters by abundances\n",
    "#### Create distribution map for animation creation, communication, display etc (not meant for Ecospace)"
   ]
  },
  {
   "cell_type": "code",
   "execution_count": 41,
   "metadata": {},
   "outputs": [
    {
     "name": "stderr",
     "output_type": "stream",
     "text": [
      "Warning message:\n",
      "\"`as.tibble()` is deprecated, use `as_tibble()` (but mind the new semantics).\n",
      "\u001b[90mThis warning is displayed once per session.\u001b[39m\""
     ]
    },
    {
     "data": {
      "text/html": [
       "<table>\n",
       "<caption>A tibble: 45 × 9</caption>\n",
       "<thead>\n",
       "\t<tr><th scope=col>year</th><th scope=col>sog</th><th scope=col>ps</th><th scope=col>juan</th><th scope=col>coast</th><th scope=col>sog_density</th><th scope=col>ps_density</th><th scope=col>juan_density</th><th scope=col>coast_density</th></tr>\n",
       "\t<tr><th scope=col>&lt;int&gt;</th><th scope=col>&lt;dbl&gt;</th><th scope=col>&lt;dbl&gt;</th><th scope=col>&lt;dbl&gt;</th><th scope=col>&lt;dbl&gt;</th><th scope=col>&lt;dbl&gt;</th><th scope=col>&lt;dbl&gt;</th><th scope=col>&lt;dbl&gt;</th><th scope=col>&lt;dbl&gt;</th></tr>\n",
       "</thead>\n",
       "<tbody>\n",
       "\t<tr><td>1970</td><td> 2973.089</td><td> 1576.769</td><td> 283.6796</td><td> 506.3111</td><td> 1.002390</td><td>0.7354332</td><td> 1.260798</td><td> 2.259006</td></tr>\n",
       "\t<tr><td>1971</td><td> 3153.407</td><td> 1931.046</td><td> 347.4183</td><td> 625.1988</td><td> 1.063185</td><td>0.9006744</td><td> 1.544081</td><td> 2.789447</td></tr>\n",
       "\t<tr><td>1972</td><td> 3344.660</td><td> 2323.882</td><td> 418.0943</td><td> 759.8063</td><td> 1.127667</td><td>1.0839002</td><td> 1.858197</td><td> 3.390025</td></tr>\n",
       "\t<tr><td>1973</td><td> 3545.886</td><td> 2752.228</td><td> 495.1588</td><td> 909.8927</td><td> 1.195511</td><td>1.2836884</td><td> 2.200706</td><td> 4.059665</td></tr>\n",
       "\t<tr><td>1974</td><td> 3865.871</td><td> 3212.174</td><td> 577.9085</td><td>1074.8777</td><td> 1.303395</td><td>1.4982153</td><td> 2.568482</td><td> 4.795778</td></tr>\n",
       "\t<tr><td>1975</td><td> 4388.140</td><td> 3699.150</td><td> 665.5214</td><td>1253.8700</td><td> 1.479481</td><td>1.7253497</td><td> 2.957873</td><td> 5.594387</td></tr>\n",
       "\t<tr><td>1976</td><td> 4978.878</td><td> 4208.139</td><td> 757.0946</td><td>1443.5300</td><td> 1.678651</td><td>1.9627512</td><td> 3.364865</td><td> 6.440592</td></tr>\n",
       "\t<tr><td>1977</td><td> 5567.263</td><td> 4733.879</td><td> 851.6816</td><td>1663.3267</td><td> 1.877027</td><td>2.2079660</td><td> 3.785252</td><td> 7.421259</td></tr>\n",
       "\t<tr><td>1978</td><td> 6226.638</td><td> 4732.290</td><td> 638.0100</td><td>1911.7486</td><td> 2.099339</td><td>2.2072248</td><td> 2.835600</td><td> 8.529642</td></tr>\n",
       "\t<tr><td>1979</td><td> 6964.109</td><td> 5840.982</td><td>1050.8628</td><td>2175.3891</td><td> 2.347980</td><td>2.7243388</td><td> 4.670501</td><td> 9.705925</td></tr>\n",
       "\t<tr><td>1980</td><td> 7788.925</td><td> 6417.521</td><td>1154.5890</td><td>2507.6700</td><td> 2.626070</td><td>2.9932467</td><td> 5.131507</td><td>11.188462</td></tr>\n",
       "\t<tr><td>1981</td><td> 8711.429</td><td> 6996.378</td><td>1258.7323</td><td>2565.8100</td><td> 2.937097</td><td>3.2632359</td><td> 5.594366</td><td>11.447865</td></tr>\n",
       "\t<tr><td>1982</td><td> 9739.265</td><td> 7573.695</td><td>1362.5985</td><td>3107.9433</td><td> 3.283636</td><td>3.5325068</td><td> 6.055993</td><td>13.866699</td></tr>\n",
       "\t<tr><td>1983</td><td>11164.346</td><td> 7594.448</td><td>1350.9900</td><td>3609.2700</td><td> 3.764109</td><td>3.5421865</td><td> 6.004400</td><td>16.103467</td></tr>\n",
       "\t<tr><td>1984</td><td>12905.215</td><td> 9464.157</td><td>1568.2500</td><td>3579.2085</td><td> 4.351050</td><td>4.4142525</td><td> 6.970000</td><td>15.969341</td></tr>\n",
       "\t<tr><td>1985</td><td>14330.135</td><td> 8957.328</td><td>1970.6400</td><td>3853.8600</td><td> 4.831468</td><td>4.1778583</td><td> 8.758400</td><td>17.194753</td></tr>\n",
       "\t<tr><td>1986</td><td>15991.895</td><td> 9045.868</td><td>1298.9700</td><td>2737.1700</td><td> 5.391738</td><td>4.2191551</td><td> 5.773200</td><td>12.212421</td></tr>\n",
       "\t<tr><td>1987</td><td>19232.756</td><td> 9608.364</td><td>1554.4800</td><td>4902.1200</td><td> 6.484409</td><td>4.4815130</td><td> 6.908800</td><td>21.871771</td></tr>\n",
       "\t<tr><td>1988</td><td>21605.201</td><td>11765.406</td><td>2322.5400</td><td>4812.6978</td><td> 7.284289</td><td>5.4875961</td><td>10.322400</td><td>21.472796</td></tr>\n",
       "\t<tr><td>1989</td><td>24876.637</td><td>11663.320</td><td>2145.0600</td><td>5610.5100</td><td> 8.387268</td><td>5.4399815</td><td> 9.533600</td><td>25.032392</td></tr>\n",
       "\t<tr><td>1990</td><td>28718.014</td><td>11781.957</td><td>1747.2600</td><td>5324.0689</td><td> 9.682405</td><td>5.4953158</td><td> 7.765600</td><td>23.754379</td></tr>\n",
       "\t<tr><td>1991</td><td>27530.092</td><td>13439.520</td><td>1894.1400</td><td>5862.9600</td><td> 9.281892</td><td>6.2684328</td><td> 8.418400</td><td>26.158747</td></tr>\n",
       "\t<tr><td>1992</td><td>26357.678</td><td>13799.070</td><td>2417.4000</td><td>6412.2300</td><td> 8.886607</td><td>6.4361334</td><td>10.744000</td><td>28.609423</td></tr>\n",
       "\t<tr><td>1993</td><td>32905.290</td><td>15938.010</td><td>3295.6200</td><td>5422.3200</td><td>11.094164</td><td>7.4337733</td><td>14.647200</td><td>24.192745</td></tr>\n",
       "\t<tr><td>1994</td><td>41049.559</td><td>15114.118</td><td>2276.6400</td><td>5362.6500</td><td>13.840040</td><td>7.0494954</td><td>10.118400</td><td>23.926516</td></tr>\n",
       "\t<tr><td>1995</td><td>41095.479</td><td>16981.718</td><td>3489.9300</td><td>7446.5100</td><td>13.855522</td><td>7.9205775</td><td>15.510800</td><td>33.224066</td></tr>\n",
       "\t<tr><td>1996</td><td>41373.419</td><td>18257.490</td><td>3041.6400</td><td>4779.7200</td><td>13.949231</td><td>8.5156203</td><td>13.518400</td><td>21.325659</td></tr>\n",
       "\t<tr><td>1997</td><td>36548.515</td><td>15795.720</td><td>3494.5200</td><td>6458.1300</td><td>12.322493</td><td>7.3674067</td><td>15.531200</td><td>28.814215</td></tr>\n",
       "\t<tr><td>1998</td><td>32223.484</td><td>14669.640</td><td>2653.0200</td><td>5795.9056</td><td>10.864290</td><td>6.8421828</td><td>11.791200</td><td>25.859571</td></tr>\n",
       "\t<tr><td>1999</td><td>36560.085</td><td>13691.970</td><td>2680.5600</td><td>5068.8900</td><td>12.326394</td><td>6.3861800</td><td>11.913600</td><td>22.615848</td></tr>\n",
       "\t<tr><td>2000</td><td>41388.594</td><td>14660.164</td><td>2637.5394</td><td>5983.5930</td><td>13.954347</td><td>6.8377631</td><td>11.722397</td><td>26.696975</td></tr>\n",
       "\t<tr><td>2001</td><td>41801.322</td><td>14755.345</td><td>2654.6636</td><td>6140.0225</td><td>14.093500</td><td>6.8821573</td><td>11.798505</td><td>27.394916</td></tr>\n",
       "\t<tr><td>2002</td><td>42295.467</td><td>14835.948</td><td>2669.1650</td><td>6288.3203</td><td>14.260103</td><td>6.9197518</td><td>11.862955</td><td>28.056576</td></tr>\n",
       "\t<tr><td>2003</td><td>42822.232</td><td>14902.384</td><td>2681.1177</td><td>6428.6469</td><td>14.437705</td><td>6.9507390</td><td>11.916079</td><td>28.682670</td></tr>\n",
       "\t<tr><td>2004</td><td>41696.141</td><td>14955.003</td><td>2690.5845</td><td>6561.2015</td><td>14.058038</td><td>6.9752813</td><td>11.958153</td><td>29.274089</td></tr>\n",
       "\t<tr><td>2005</td><td>40625.068</td><td>14994.084</td><td>2697.6155</td><td>6686.2146</td><td>13.696921</td><td>6.9935092</td><td>11.989402</td><td>29.831859</td></tr>\n",
       "\t<tr><td>2006</td><td>39581.509</td><td>15019.837</td><td>2702.2489</td><td>6803.9414</td><td>13.345081</td><td>7.0055212</td><td>12.009995</td><td>30.357120</td></tr>\n",
       "\t<tr><td>2007</td><td>38564.756</td><td>15032.404</td><td>2704.5098</td><td>6914.6550</td><td>13.002278</td><td>7.0113825</td><td>12.020044</td><td>30.851091</td></tr>\n",
       "\t<tr><td>2008</td><td>37552.322</td><td>15031.852</td><td>2704.4106</td><td>7018.6418</td><td>12.660931</td><td>7.0111252</td><td>12.019603</td><td>31.315049</td></tr>\n",
       "\t<tr><td>2009</td><td>37914.584</td><td>15018.180</td><td>2701.9507</td><td>7116.1965</td><td>12.783069</td><td>7.0047479</td><td>12.008670</td><td>31.750308</td></tr>\n",
       "\t<tr><td>2010</td><td>38258.132</td><td>14991.311</td><td>2697.1166</td><td>7207.6181</td><td>12.898898</td><td>6.9922158</td><td>11.987185</td><td>32.158203</td></tr>\n",
       "\t<tr><td>2011</td><td>38604.793</td><td>14951.100</td><td>2689.8822</td><td>7293.2066</td><td>13.015776</td><td>6.9734607</td><td>11.955032</td><td>32.540073</td></tr>\n",
       "\t<tr><td>2012</td><td>38954.595</td><td>14897.330</td><td>2680.2084</td><td>7373.2601</td><td>13.133714</td><td>6.9483815</td><td>11.912037</td><td>32.897248</td></tr>\n",
       "\t<tr><td>2013</td><td>39307.567</td><td>14025.945</td><td>3365.9999</td><td>7448.0727</td><td>13.252720</td><td>6.5419521</td><td>14.959999</td><td>33.231039</td></tr>\n",
       "\t<tr><td>2014</td><td>39631.000</td><td>14985.327</td><td>2696.0401</td><td>7517.9322</td><td>13.361767</td><td>6.9894249</td><td>11.982400</td><td>33.542731</td></tr>\n",
       "</tbody>\n",
       "</table>\n"
      ],
      "text/latex": [
       "A tibble: 45 × 9\n",
       "\\begin{tabular}{r|lllllllll}\n",
       " year & sog & ps & juan & coast & sog\\_density & ps\\_density & juan\\_density & coast\\_density\\\\\n",
       " <int> & <dbl> & <dbl> & <dbl> & <dbl> & <dbl> & <dbl> & <dbl> & <dbl>\\\\\n",
       "\\hline\n",
       "\t 1970 &  2973.089 &  1576.769 &  283.6796 &  506.3111 &  1.002390 & 0.7354332 &  1.260798 &  2.259006\\\\\n",
       "\t 1971 &  3153.407 &  1931.046 &  347.4183 &  625.1988 &  1.063185 & 0.9006744 &  1.544081 &  2.789447\\\\\n",
       "\t 1972 &  3344.660 &  2323.882 &  418.0943 &  759.8063 &  1.127667 & 1.0839002 &  1.858197 &  3.390025\\\\\n",
       "\t 1973 &  3545.886 &  2752.228 &  495.1588 &  909.8927 &  1.195511 & 1.2836884 &  2.200706 &  4.059665\\\\\n",
       "\t 1974 &  3865.871 &  3212.174 &  577.9085 & 1074.8777 &  1.303395 & 1.4982153 &  2.568482 &  4.795778\\\\\n",
       "\t 1975 &  4388.140 &  3699.150 &  665.5214 & 1253.8700 &  1.479481 & 1.7253497 &  2.957873 &  5.594387\\\\\n",
       "\t 1976 &  4978.878 &  4208.139 &  757.0946 & 1443.5300 &  1.678651 & 1.9627512 &  3.364865 &  6.440592\\\\\n",
       "\t 1977 &  5567.263 &  4733.879 &  851.6816 & 1663.3267 &  1.877027 & 2.2079660 &  3.785252 &  7.421259\\\\\n",
       "\t 1978 &  6226.638 &  4732.290 &  638.0100 & 1911.7486 &  2.099339 & 2.2072248 &  2.835600 &  8.529642\\\\\n",
       "\t 1979 &  6964.109 &  5840.982 & 1050.8628 & 2175.3891 &  2.347980 & 2.7243388 &  4.670501 &  9.705925\\\\\n",
       "\t 1980 &  7788.925 &  6417.521 & 1154.5890 & 2507.6700 &  2.626070 & 2.9932467 &  5.131507 & 11.188462\\\\\n",
       "\t 1981 &  8711.429 &  6996.378 & 1258.7323 & 2565.8100 &  2.937097 & 3.2632359 &  5.594366 & 11.447865\\\\\n",
       "\t 1982 &  9739.265 &  7573.695 & 1362.5985 & 3107.9433 &  3.283636 & 3.5325068 &  6.055993 & 13.866699\\\\\n",
       "\t 1983 & 11164.346 &  7594.448 & 1350.9900 & 3609.2700 &  3.764109 & 3.5421865 &  6.004400 & 16.103467\\\\\n",
       "\t 1984 & 12905.215 &  9464.157 & 1568.2500 & 3579.2085 &  4.351050 & 4.4142525 &  6.970000 & 15.969341\\\\\n",
       "\t 1985 & 14330.135 &  8957.328 & 1970.6400 & 3853.8600 &  4.831468 & 4.1778583 &  8.758400 & 17.194753\\\\\n",
       "\t 1986 & 15991.895 &  9045.868 & 1298.9700 & 2737.1700 &  5.391738 & 4.2191551 &  5.773200 & 12.212421\\\\\n",
       "\t 1987 & 19232.756 &  9608.364 & 1554.4800 & 4902.1200 &  6.484409 & 4.4815130 &  6.908800 & 21.871771\\\\\n",
       "\t 1988 & 21605.201 & 11765.406 & 2322.5400 & 4812.6978 &  7.284289 & 5.4875961 & 10.322400 & 21.472796\\\\\n",
       "\t 1989 & 24876.637 & 11663.320 & 2145.0600 & 5610.5100 &  8.387268 & 5.4399815 &  9.533600 & 25.032392\\\\\n",
       "\t 1990 & 28718.014 & 11781.957 & 1747.2600 & 5324.0689 &  9.682405 & 5.4953158 &  7.765600 & 23.754379\\\\\n",
       "\t 1991 & 27530.092 & 13439.520 & 1894.1400 & 5862.9600 &  9.281892 & 6.2684328 &  8.418400 & 26.158747\\\\\n",
       "\t 1992 & 26357.678 & 13799.070 & 2417.4000 & 6412.2300 &  8.886607 & 6.4361334 & 10.744000 & 28.609423\\\\\n",
       "\t 1993 & 32905.290 & 15938.010 & 3295.6200 & 5422.3200 & 11.094164 & 7.4337733 & 14.647200 & 24.192745\\\\\n",
       "\t 1994 & 41049.559 & 15114.118 & 2276.6400 & 5362.6500 & 13.840040 & 7.0494954 & 10.118400 & 23.926516\\\\\n",
       "\t 1995 & 41095.479 & 16981.718 & 3489.9300 & 7446.5100 & 13.855522 & 7.9205775 & 15.510800 & 33.224066\\\\\n",
       "\t 1996 & 41373.419 & 18257.490 & 3041.6400 & 4779.7200 & 13.949231 & 8.5156203 & 13.518400 & 21.325659\\\\\n",
       "\t 1997 & 36548.515 & 15795.720 & 3494.5200 & 6458.1300 & 12.322493 & 7.3674067 & 15.531200 & 28.814215\\\\\n",
       "\t 1998 & 32223.484 & 14669.640 & 2653.0200 & 5795.9056 & 10.864290 & 6.8421828 & 11.791200 & 25.859571\\\\\n",
       "\t 1999 & 36560.085 & 13691.970 & 2680.5600 & 5068.8900 & 12.326394 & 6.3861800 & 11.913600 & 22.615848\\\\\n",
       "\t 2000 & 41388.594 & 14660.164 & 2637.5394 & 5983.5930 & 13.954347 & 6.8377631 & 11.722397 & 26.696975\\\\\n",
       "\t 2001 & 41801.322 & 14755.345 & 2654.6636 & 6140.0225 & 14.093500 & 6.8821573 & 11.798505 & 27.394916\\\\\n",
       "\t 2002 & 42295.467 & 14835.948 & 2669.1650 & 6288.3203 & 14.260103 & 6.9197518 & 11.862955 & 28.056576\\\\\n",
       "\t 2003 & 42822.232 & 14902.384 & 2681.1177 & 6428.6469 & 14.437705 & 6.9507390 & 11.916079 & 28.682670\\\\\n",
       "\t 2004 & 41696.141 & 14955.003 & 2690.5845 & 6561.2015 & 14.058038 & 6.9752813 & 11.958153 & 29.274089\\\\\n",
       "\t 2005 & 40625.068 & 14994.084 & 2697.6155 & 6686.2146 & 13.696921 & 6.9935092 & 11.989402 & 29.831859\\\\\n",
       "\t 2006 & 39581.509 & 15019.837 & 2702.2489 & 6803.9414 & 13.345081 & 7.0055212 & 12.009995 & 30.357120\\\\\n",
       "\t 2007 & 38564.756 & 15032.404 & 2704.5098 & 6914.6550 & 13.002278 & 7.0113825 & 12.020044 & 30.851091\\\\\n",
       "\t 2008 & 37552.322 & 15031.852 & 2704.4106 & 7018.6418 & 12.660931 & 7.0111252 & 12.019603 & 31.315049\\\\\n",
       "\t 2009 & 37914.584 & 15018.180 & 2701.9507 & 7116.1965 & 12.783069 & 7.0047479 & 12.008670 & 31.750308\\\\\n",
       "\t 2010 & 38258.132 & 14991.311 & 2697.1166 & 7207.6181 & 12.898898 & 6.9922158 & 11.987185 & 32.158203\\\\\n",
       "\t 2011 & 38604.793 & 14951.100 & 2689.8822 & 7293.2066 & 13.015776 & 6.9734607 & 11.955032 & 32.540073\\\\\n",
       "\t 2012 & 38954.595 & 14897.330 & 2680.2084 & 7373.2601 & 13.133714 & 6.9483815 & 11.912037 & 32.897248\\\\\n",
       "\t 2013 & 39307.567 & 14025.945 & 3365.9999 & 7448.0727 & 13.252720 & 6.5419521 & 14.959999 & 33.231039\\\\\n",
       "\t 2014 & 39631.000 & 14985.327 & 2696.0401 & 7517.9322 & 13.361767 & 6.9894249 & 11.982400 & 33.542731\\\\\n",
       "\\end{tabular}\n"
      ],
      "text/markdown": [
       "\n",
       "A tibble: 45 × 9\n",
       "\n",
       "| year &lt;int&gt; | sog &lt;dbl&gt; | ps &lt;dbl&gt; | juan &lt;dbl&gt; | coast &lt;dbl&gt; | sog_density &lt;dbl&gt; | ps_density &lt;dbl&gt; | juan_density &lt;dbl&gt; | coast_density &lt;dbl&gt; |\n",
       "|---|---|---|---|---|---|---|---|---|\n",
       "| 1970 |  2973.089 |  1576.769 |  283.6796 |  506.3111 |  1.002390 | 0.7354332 |  1.260798 |  2.259006 |\n",
       "| 1971 |  3153.407 |  1931.046 |  347.4183 |  625.1988 |  1.063185 | 0.9006744 |  1.544081 |  2.789447 |\n",
       "| 1972 |  3344.660 |  2323.882 |  418.0943 |  759.8063 |  1.127667 | 1.0839002 |  1.858197 |  3.390025 |\n",
       "| 1973 |  3545.886 |  2752.228 |  495.1588 |  909.8927 |  1.195511 | 1.2836884 |  2.200706 |  4.059665 |\n",
       "| 1974 |  3865.871 |  3212.174 |  577.9085 | 1074.8777 |  1.303395 | 1.4982153 |  2.568482 |  4.795778 |\n",
       "| 1975 |  4388.140 |  3699.150 |  665.5214 | 1253.8700 |  1.479481 | 1.7253497 |  2.957873 |  5.594387 |\n",
       "| 1976 |  4978.878 |  4208.139 |  757.0946 | 1443.5300 |  1.678651 | 1.9627512 |  3.364865 |  6.440592 |\n",
       "| 1977 |  5567.263 |  4733.879 |  851.6816 | 1663.3267 |  1.877027 | 2.2079660 |  3.785252 |  7.421259 |\n",
       "| 1978 |  6226.638 |  4732.290 |  638.0100 | 1911.7486 |  2.099339 | 2.2072248 |  2.835600 |  8.529642 |\n",
       "| 1979 |  6964.109 |  5840.982 | 1050.8628 | 2175.3891 |  2.347980 | 2.7243388 |  4.670501 |  9.705925 |\n",
       "| 1980 |  7788.925 |  6417.521 | 1154.5890 | 2507.6700 |  2.626070 | 2.9932467 |  5.131507 | 11.188462 |\n",
       "| 1981 |  8711.429 |  6996.378 | 1258.7323 | 2565.8100 |  2.937097 | 3.2632359 |  5.594366 | 11.447865 |\n",
       "| 1982 |  9739.265 |  7573.695 | 1362.5985 | 3107.9433 |  3.283636 | 3.5325068 |  6.055993 | 13.866699 |\n",
       "| 1983 | 11164.346 |  7594.448 | 1350.9900 | 3609.2700 |  3.764109 | 3.5421865 |  6.004400 | 16.103467 |\n",
       "| 1984 | 12905.215 |  9464.157 | 1568.2500 | 3579.2085 |  4.351050 | 4.4142525 |  6.970000 | 15.969341 |\n",
       "| 1985 | 14330.135 |  8957.328 | 1970.6400 | 3853.8600 |  4.831468 | 4.1778583 |  8.758400 | 17.194753 |\n",
       "| 1986 | 15991.895 |  9045.868 | 1298.9700 | 2737.1700 |  5.391738 | 4.2191551 |  5.773200 | 12.212421 |\n",
       "| 1987 | 19232.756 |  9608.364 | 1554.4800 | 4902.1200 |  6.484409 | 4.4815130 |  6.908800 | 21.871771 |\n",
       "| 1988 | 21605.201 | 11765.406 | 2322.5400 | 4812.6978 |  7.284289 | 5.4875961 | 10.322400 | 21.472796 |\n",
       "| 1989 | 24876.637 | 11663.320 | 2145.0600 | 5610.5100 |  8.387268 | 5.4399815 |  9.533600 | 25.032392 |\n",
       "| 1990 | 28718.014 | 11781.957 | 1747.2600 | 5324.0689 |  9.682405 | 5.4953158 |  7.765600 | 23.754379 |\n",
       "| 1991 | 27530.092 | 13439.520 | 1894.1400 | 5862.9600 |  9.281892 | 6.2684328 |  8.418400 | 26.158747 |\n",
       "| 1992 | 26357.678 | 13799.070 | 2417.4000 | 6412.2300 |  8.886607 | 6.4361334 | 10.744000 | 28.609423 |\n",
       "| 1993 | 32905.290 | 15938.010 | 3295.6200 | 5422.3200 | 11.094164 | 7.4337733 | 14.647200 | 24.192745 |\n",
       "| 1994 | 41049.559 | 15114.118 | 2276.6400 | 5362.6500 | 13.840040 | 7.0494954 | 10.118400 | 23.926516 |\n",
       "| 1995 | 41095.479 | 16981.718 | 3489.9300 | 7446.5100 | 13.855522 | 7.9205775 | 15.510800 | 33.224066 |\n",
       "| 1996 | 41373.419 | 18257.490 | 3041.6400 | 4779.7200 | 13.949231 | 8.5156203 | 13.518400 | 21.325659 |\n",
       "| 1997 | 36548.515 | 15795.720 | 3494.5200 | 6458.1300 | 12.322493 | 7.3674067 | 15.531200 | 28.814215 |\n",
       "| 1998 | 32223.484 | 14669.640 | 2653.0200 | 5795.9056 | 10.864290 | 6.8421828 | 11.791200 | 25.859571 |\n",
       "| 1999 | 36560.085 | 13691.970 | 2680.5600 | 5068.8900 | 12.326394 | 6.3861800 | 11.913600 | 22.615848 |\n",
       "| 2000 | 41388.594 | 14660.164 | 2637.5394 | 5983.5930 | 13.954347 | 6.8377631 | 11.722397 | 26.696975 |\n",
       "| 2001 | 41801.322 | 14755.345 | 2654.6636 | 6140.0225 | 14.093500 | 6.8821573 | 11.798505 | 27.394916 |\n",
       "| 2002 | 42295.467 | 14835.948 | 2669.1650 | 6288.3203 | 14.260103 | 6.9197518 | 11.862955 | 28.056576 |\n",
       "| 2003 | 42822.232 | 14902.384 | 2681.1177 | 6428.6469 | 14.437705 | 6.9507390 | 11.916079 | 28.682670 |\n",
       "| 2004 | 41696.141 | 14955.003 | 2690.5845 | 6561.2015 | 14.058038 | 6.9752813 | 11.958153 | 29.274089 |\n",
       "| 2005 | 40625.068 | 14994.084 | 2697.6155 | 6686.2146 | 13.696921 | 6.9935092 | 11.989402 | 29.831859 |\n",
       "| 2006 | 39581.509 | 15019.837 | 2702.2489 | 6803.9414 | 13.345081 | 7.0055212 | 12.009995 | 30.357120 |\n",
       "| 2007 | 38564.756 | 15032.404 | 2704.5098 | 6914.6550 | 13.002278 | 7.0113825 | 12.020044 | 30.851091 |\n",
       "| 2008 | 37552.322 | 15031.852 | 2704.4106 | 7018.6418 | 12.660931 | 7.0111252 | 12.019603 | 31.315049 |\n",
       "| 2009 | 37914.584 | 15018.180 | 2701.9507 | 7116.1965 | 12.783069 | 7.0047479 | 12.008670 | 31.750308 |\n",
       "| 2010 | 38258.132 | 14991.311 | 2697.1166 | 7207.6181 | 12.898898 | 6.9922158 | 11.987185 | 32.158203 |\n",
       "| 2011 | 38604.793 | 14951.100 | 2689.8822 | 7293.2066 | 13.015776 | 6.9734607 | 11.955032 | 32.540073 |\n",
       "| 2012 | 38954.595 | 14897.330 | 2680.2084 | 7373.2601 | 13.133714 | 6.9483815 | 11.912037 | 32.897248 |\n",
       "| 2013 | 39307.567 | 14025.945 | 3365.9999 | 7448.0727 | 13.252720 | 6.5419521 | 14.959999 | 33.231039 |\n",
       "| 2014 | 39631.000 | 14985.327 | 2696.0401 | 7517.9322 | 13.361767 | 6.9894249 | 11.982400 | 33.542731 |\n",
       "\n"
      ],
      "text/plain": [
       "   year sog       ps        juan      coast     sog_density ps_density\n",
       "1  1970  2973.089  1576.769  283.6796  506.3111  1.002390   0.7354332 \n",
       "2  1971  3153.407  1931.046  347.4183  625.1988  1.063185   0.9006744 \n",
       "3  1972  3344.660  2323.882  418.0943  759.8063  1.127667   1.0839002 \n",
       "4  1973  3545.886  2752.228  495.1588  909.8927  1.195511   1.2836884 \n",
       "5  1974  3865.871  3212.174  577.9085 1074.8777  1.303395   1.4982153 \n",
       "6  1975  4388.140  3699.150  665.5214 1253.8700  1.479481   1.7253497 \n",
       "7  1976  4978.878  4208.139  757.0946 1443.5300  1.678651   1.9627512 \n",
       "8  1977  5567.263  4733.879  851.6816 1663.3267  1.877027   2.2079660 \n",
       "9  1978  6226.638  4732.290  638.0100 1911.7486  2.099339   2.2072248 \n",
       "10 1979  6964.109  5840.982 1050.8628 2175.3891  2.347980   2.7243388 \n",
       "11 1980  7788.925  6417.521 1154.5890 2507.6700  2.626070   2.9932467 \n",
       "12 1981  8711.429  6996.378 1258.7323 2565.8100  2.937097   3.2632359 \n",
       "13 1982  9739.265  7573.695 1362.5985 3107.9433  3.283636   3.5325068 \n",
       "14 1983 11164.346  7594.448 1350.9900 3609.2700  3.764109   3.5421865 \n",
       "15 1984 12905.215  9464.157 1568.2500 3579.2085  4.351050   4.4142525 \n",
       "16 1985 14330.135  8957.328 1970.6400 3853.8600  4.831468   4.1778583 \n",
       "17 1986 15991.895  9045.868 1298.9700 2737.1700  5.391738   4.2191551 \n",
       "18 1987 19232.756  9608.364 1554.4800 4902.1200  6.484409   4.4815130 \n",
       "19 1988 21605.201 11765.406 2322.5400 4812.6978  7.284289   5.4875961 \n",
       "20 1989 24876.637 11663.320 2145.0600 5610.5100  8.387268   5.4399815 \n",
       "21 1990 28718.014 11781.957 1747.2600 5324.0689  9.682405   5.4953158 \n",
       "22 1991 27530.092 13439.520 1894.1400 5862.9600  9.281892   6.2684328 \n",
       "23 1992 26357.678 13799.070 2417.4000 6412.2300  8.886607   6.4361334 \n",
       "24 1993 32905.290 15938.010 3295.6200 5422.3200 11.094164   7.4337733 \n",
       "25 1994 41049.559 15114.118 2276.6400 5362.6500 13.840040   7.0494954 \n",
       "26 1995 41095.479 16981.718 3489.9300 7446.5100 13.855522   7.9205775 \n",
       "27 1996 41373.419 18257.490 3041.6400 4779.7200 13.949231   8.5156203 \n",
       "28 1997 36548.515 15795.720 3494.5200 6458.1300 12.322493   7.3674067 \n",
       "29 1998 32223.484 14669.640 2653.0200 5795.9056 10.864290   6.8421828 \n",
       "30 1999 36560.085 13691.970 2680.5600 5068.8900 12.326394   6.3861800 \n",
       "31 2000 41388.594 14660.164 2637.5394 5983.5930 13.954347   6.8377631 \n",
       "32 2001 41801.322 14755.345 2654.6636 6140.0225 14.093500   6.8821573 \n",
       "33 2002 42295.467 14835.948 2669.1650 6288.3203 14.260103   6.9197518 \n",
       "34 2003 42822.232 14902.384 2681.1177 6428.6469 14.437705   6.9507390 \n",
       "35 2004 41696.141 14955.003 2690.5845 6561.2015 14.058038   6.9752813 \n",
       "36 2005 40625.068 14994.084 2697.6155 6686.2146 13.696921   6.9935092 \n",
       "37 2006 39581.509 15019.837 2702.2489 6803.9414 13.345081   7.0055212 \n",
       "38 2007 38564.756 15032.404 2704.5098 6914.6550 13.002278   7.0113825 \n",
       "39 2008 37552.322 15031.852 2704.4106 7018.6418 12.660931   7.0111252 \n",
       "40 2009 37914.584 15018.180 2701.9507 7116.1965 12.783069   7.0047479 \n",
       "41 2010 38258.132 14991.311 2697.1166 7207.6181 12.898898   6.9922158 \n",
       "42 2011 38604.793 14951.100 2689.8822 7293.2066 13.015776   6.9734607 \n",
       "43 2012 38954.595 14897.330 2680.2084 7373.2601 13.133714   6.9483815 \n",
       "44 2013 39307.567 14025.945 3365.9999 7448.0727 13.252720   6.5419521 \n",
       "45 2014 39631.000 14985.327 2696.0401 7517.9322 13.361767   6.9894249 \n",
       "   juan_density coast_density\n",
       "1   1.260798     2.259006    \n",
       "2   1.544081     2.789447    \n",
       "3   1.858197     3.390025    \n",
       "4   2.200706     4.059665    \n",
       "5   2.568482     4.795778    \n",
       "6   2.957873     5.594387    \n",
       "7   3.364865     6.440592    \n",
       "8   3.785252     7.421259    \n",
       "9   2.835600     8.529642    \n",
       "10  4.670501     9.705925    \n",
       "11  5.131507    11.188462    \n",
       "12  5.594366    11.447865    \n",
       "13  6.055993    13.866699    \n",
       "14  6.004400    16.103467    \n",
       "15  6.970000    15.969341    \n",
       "16  8.758400    17.194753    \n",
       "17  5.773200    12.212421    \n",
       "18  6.908800    21.871771    \n",
       "19 10.322400    21.472796    \n",
       "20  9.533600    25.032392    \n",
       "21  7.765600    23.754379    \n",
       "22  8.418400    26.158747    \n",
       "23 10.744000    28.609423    \n",
       "24 14.647200    24.192745    \n",
       "25 10.118400    23.926516    \n",
       "26 15.510800    33.224066    \n",
       "27 13.518400    21.325659    \n",
       "28 15.531200    28.814215    \n",
       "29 11.791200    25.859571    \n",
       "30 11.913600    22.615848    \n",
       "31 11.722397    26.696975    \n",
       "32 11.798505    27.394916    \n",
       "33 11.862955    28.056576    \n",
       "34 11.916079    28.682670    \n",
       "35 11.958153    29.274089    \n",
       "36 11.989402    29.831859    \n",
       "37 12.009995    30.357120    \n",
       "38 12.020044    30.851091    \n",
       "39 12.019603    31.315049    \n",
       "40 12.008670    31.750308    \n",
       "41 11.987185    32.158203    \n",
       "42 11.955032    32.540073    \n",
       "43 11.912037    32.897248    \n",
       "44 14.959999    33.231039    \n",
       "45 11.982400    33.542731    "
      ]
     },
     "metadata": {},
     "output_type": "display_data"
    }
   ],
   "source": [
    "# get seal abundances from table\n",
    "seal_abun <- read.csv(\"../Abundance_Nelsonetal2019/MODIFIED/seal_data.csv\")\n",
    "seal_abun_tib <- as.tibble(seal_abun)\n",
    "seal_abun_tib"
   ]
  },
  {
   "cell_type": "code",
   "execution_count": 78,
   "metadata": {},
   "outputs": [],
   "source": [
    "# get relative distribution raster\n",
    "year1 = \"1997\"\n",
    "mypath = \"./\"\n",
    "#list.files(full.names = T)\n",
    "intens_file <- paste(\"./sealforagingintens\", year1, \".tif\", sep=\"\")\n",
    "r <- raster(x = intens_file, package=\"raster\")\n",
    "#r"
   ]
  },
  {
   "cell_type": "code",
   "execution_count": 79,
   "metadata": {},
   "outputs": [
    {
     "data": {
      "text/html": [
       "36548.51525"
      ],
      "text/latex": [
       "36548.51525"
      ],
      "text/markdown": [
       "36548.51525"
      ],
      "text/plain": [
       "[1] 36548.52"
      ]
     },
     "metadata": {},
     "output_type": "display_data"
    }
   ],
   "source": [
    "# get the abundance for year of interest\n",
    "#for (i in 1:length(seal_abun_tib)){\n",
    "#    print(seal_abun_tib$year[i])\n",
    "#    print(seal_abun_tib$sog[i])\n",
    "#}\n",
    "abun_yr <- seal_abun_tib %>% \n",
    "    filter(year == year1)%>% \n",
    "    pull(sog)\n",
    "abun_yr\n",
    "\n",
    "# multiply raster cells by abundance\n",
    "r2 <- r * abun_yr\n",
    "\n",
    "# export new raster\n",
    "raster::writeRaster(r2,filename = paste(\"sealforagingintensWeighted\",year1,\".tiff\", sep=\"\"),format=\"GTiff\", overwrite = TRUE, NAflag = -9999)"
   ]
  },
  {
   "cell_type": "markdown",
   "metadata": {},
   "source": [
    "### Make a GeoTIFF"
   ]
  },
  {
   "cell_type": "code",
   "execution_count": 68,
   "metadata": {},
   "outputs": [
    {
     "ename": "ERROR",
     "evalue": "Error in library(purr): there is no package called 'purr'\n",
     "output_type": "error",
     "traceback": [
      "Error in library(purr): there is no package called 'purr'\nTraceback:\n",
      "1. library(purr)"
     ]
    }
   ],
   "source": [
    "library(magick) # this is call to animate/read pngs\n",
    "#library(purr) not available for 3.5"
   ]
  },
  {
   "cell_type": "code",
   "execution_count": null,
   "metadata": {},
   "outputs": [],
   "source": [
    "filenames = [\"sealforagingintensWeighted1976\",\n",
    "             \"sealforagingintensWeighted1977\",\n",
    "             \"sealforagingintensWeighted1978\",\n",
    "             \"sealforagingintensWeighted1979\",\n",
    "             \"sealforagingintensWeighted1980\",\n",
    "             \"sealforagingintensWeighted1981\",\n",
    "             \"sealforagingintensWeighted1982\",\n",
    "             \"sealforagingintensWeighted1983\",\n",
    "             \"sealforagingintensWeighted1984\",\n",
    "             \"sealforagingintensWeighted1985\",\n",
    "             \"sealforagingintensWeighted1986\",\n",
    "             \"sealforagingintensWeighted1987\",\n",
    "             \"sealforagingintensWeighted1988\",\n",
    "             \"sealforagingintensWeighted1989\",\n",
    "             \"sealforagingintensWeighted1990\",\n",
    "             \"sealforagingintensWeighted1991\",\n",
    "             \"sealforagingintensWeighted1992\",\n",
    "             \"sealforagingintensWeighted1993\",\n",
    "             \"sealforagingintensWeighted1994\",\n",
    "             \"sealforagingintensWeighted1995\",\n",
    "             \"sealforagingintensWeighted1996\",\n",
    "             \"sealforagingintensWeighted1997\",\n",
    "             \"sealforagingintensWeighted1998\",\n",
    "             \"sealforagingintensWeighted1999\",\n",
    "             \"sealforagingintensWeighted2000\"]\n",
    "images = []\n",
    "for filename in filenames:\n",
    "    images.append(imageio.imread(filename))\n",
    "imageio.mimsave('SealDist.gif', images)"
   ]
  },
  {
   "cell_type": "code",
   "execution_count": null,
   "metadata": {},
   "outputs": [],
   "source": [
    "# Step 2: List those Plots, Read them in, and then make animation\n",
    "list.files(path = \"./fig_output/ndwi/\", pattern = \"*.png\", full.names = T) %>% \n",
    "  map(image_read) %>% # reads each path file\n",
    "  image_join() %>% # joins image\n",
    "  image_animate(fps=2) %>% # animates, can opt for number of loops\n",
    "  image_write(\"ndwi_aug_hgm.gif\") # write to current dir"
   ]
  }
 ],
 "metadata": {
  "kernelspec": {
   "display_name": "R",
   "language": "R",
   "name": "ir"
  },
  "language_info": {
   "codemirror_mode": "r",
   "file_extension": ".r",
   "mimetype": "text/x-r-source",
   "name": "R",
   "pygments_lexer": "r",
   "version": "3.6.3"
  }
 },
 "nbformat": 4,
 "nbformat_minor": 2
}
