{
 "cells": [
  {
   "cell_type": "code",
   "execution_count": 1,
   "id": "5fa8914c",
   "metadata": {},
   "outputs": [
    {
     "ename": "ERROR",
     "evalue": "Error in parse(text = x, srcfile = src): <text>:1:22: unexpected symbol\n1: Analysis - Visualize Monte\n                         ^\n",
     "output_type": "error",
     "traceback": [
      "Error in parse(text = x, srcfile = src): <text>:1:22: unexpected symbol\n1: Analysis - Visualize Monte\n                         ^\nTraceback:\n"
     ]
    }
   ],
   "source": [
    "# G Oldford Jan 17 2023\n",
    "\n",
    "# visualize monte carlo results from ecosim Monte Carlo\n",
    "# uses ggplot2\n",
    "#\n",
    "# https://erdavenport.github.io/R-ecology-lesson/05-visualization-ggplot2.html"
   ]
  },
  {
   "cell_type": "code",
   "execution_count": 2,
   "id": "97505e24",
   "metadata": {},
   "outputs": [
    {
     "name": "stderr",
     "output_type": "stream",
     "text": [
      "-- \u001b[1mAttaching packages\u001b[22m --------------------------------------- tidyverse 1.3.0 --\n",
      "\u001b[32mv\u001b[39m \u001b[34mggplot2\u001b[39m 3.2.1     \u001b[32mv\u001b[39m \u001b[34mpurrr  \u001b[39m 0.3.4\n",
      "\u001b[32mv\u001b[39m \u001b[34mtibble \u001b[39m 2.1.3     \u001b[32mv\u001b[39m \u001b[34mdplyr  \u001b[39m 1.0.2\n",
      "\u001b[32mv\u001b[39m \u001b[34mtidyr  \u001b[39m 1.1.2     \u001b[32mv\u001b[39m \u001b[34mstringr\u001b[39m 1.4.0\n",
      "\u001b[32mv\u001b[39m \u001b[34mreadr  \u001b[39m 1.3.1     \u001b[32mv\u001b[39m \u001b[34mforcats\u001b[39m 0.4.0\n",
      "-- \u001b[1mConflicts\u001b[22m ------------------------------------------ tidyverse_conflicts() --\n",
      "\u001b[31mx\u001b[39m \u001b[34mdplyr\u001b[39m::\u001b[32mfilter()\u001b[39m masks \u001b[34mstats\u001b[39m::filter()\n",
      "\u001b[31mx\u001b[39m \u001b[34mdplyr\u001b[39m::\u001b[32mlag()\u001b[39m    masks \u001b[34mstats\u001b[39m::lag()\n"
     ]
    }
   ],
   "source": [
    "library(tidyverse)\n",
    "library(matrixStats)"
   ]
  },
  {
   "cell_type": "code",
   "execution_count": 3,
   "id": "3ba0d049",
   "metadata": {
    "scrolled": true
   },
   "outputs": [
    {
     "name": "stderr",
     "output_type": "stream",
     "text": [
      "Note: Using an external vector in selections is ambiguous.\n",
      "\u001b[34mi\u001b[39m Use `all_of(n_MC_runs)` instead of `n_MC_runs` to silence this message.\n",
      "\u001b[34mi\u001b[39m See <https://tidyselect.r-lib.org/reference/faq-external-vector.html>.\n",
      "\u001b[90mThis message is displayed once per session.\u001b[39m\n"
     ]
    },
    {
     "data": {
      "text/html": [
       "<table>\n",
       "<caption>A data.frame: 6 × 100</caption>\n",
       "<thead>\n",
       "\t<tr><th scope=col>year</th><th scope=col>X2..Seals</th><th scope=col>X2..Seals.1</th><th scope=col>X2..Seals.2</th><th scope=col>X2..Seals.3</th><th scope=col>X2..Seals.4</th><th scope=col>X2..Seals.5</th><th scope=col>X2..Seals.6</th><th scope=col>X2..Seals.7</th><th scope=col>X2..Seals.8</th><th scope=col>...</th><th scope=col>X2..Seals.89</th><th scope=col>X2..Seals.90</th><th scope=col>X2..Seals.91</th><th scope=col>X2..Seals.92</th><th scope=col>X2..Seals.93</th><th scope=col>X2..Seals.94</th><th scope=col>X2..Seals.95</th><th scope=col>X2..Seals.96</th><th scope=col>X2..Seals.97</th><th scope=col>X2..Seals.98</th></tr>\n",
       "\t<tr><th scope=col>&lt;dbl&gt;</th><th scope=col>&lt;dbl&gt;</th><th scope=col>&lt;dbl&gt;</th><th scope=col>&lt;dbl&gt;</th><th scope=col>&lt;dbl&gt;</th><th scope=col>&lt;dbl&gt;</th><th scope=col>&lt;dbl&gt;</th><th scope=col>&lt;dbl&gt;</th><th scope=col>&lt;dbl&gt;</th><th scope=col>&lt;dbl&gt;</th><th scope=col>...</th><th scope=col>&lt;dbl&gt;</th><th scope=col>&lt;dbl&gt;</th><th scope=col>&lt;dbl&gt;</th><th scope=col>&lt;dbl&gt;</th><th scope=col>&lt;dbl&gt;</th><th scope=col>&lt;dbl&gt;</th><th scope=col>&lt;dbl&gt;</th><th scope=col>&lt;dbl&gt;</th><th scope=col>&lt;dbl&gt;</th><th scope=col>&lt;dbl&gt;</th></tr>\n",
       "</thead>\n",
       "<tbody>\n",
       "\t<tr><td>1950.000</td><td>1.000000</td><td>1.000000</td><td>1.000000</td><td>1.000000</td><td>1.000000</td><td>1.000000</td><td>1.000000</td><td>1.000000</td><td>1.000000</td><td>...</td><td>1.000000</td><td>1.000000</td><td>1.000000</td><td>1.000000</td><td>1.000000</td><td>1.000000</td><td>1.000000</td><td>1.000000</td><td>1.000000</td><td>1.000000</td></tr>\n",
       "\t<tr><td>1950.083</td><td>1.000293</td><td>1.000312</td><td>1.000269</td><td>1.000260</td><td>1.000325</td><td>1.000288</td><td>1.000305</td><td>1.000249</td><td>1.000273</td><td>...</td><td>1.000286</td><td>1.000318</td><td>1.000305</td><td>1.000298</td><td>1.000292</td><td>1.000270</td><td>1.000333</td><td>1.000284</td><td>1.000297</td><td>1.000327</td></tr>\n",
       "\t<tr><td>1950.167</td><td>1.000585</td><td>1.000624</td><td>1.000535</td><td>1.000517</td><td>1.000648</td><td>1.000575</td><td>1.000608</td><td>1.000496</td><td>1.000545</td><td>...</td><td>1.000570</td><td>1.000634</td><td>1.000608</td><td>1.000595</td><td>1.000583</td><td>1.000538</td><td>1.000665</td><td>1.000566</td><td>1.000593</td><td>1.000652</td></tr>\n",
       "\t<tr><td>1950.250</td><td>1.000879</td><td>1.000937</td><td>1.000803</td><td>1.000776</td><td>1.000973</td><td>1.000863</td><td>1.000913</td><td>1.000744</td><td>1.000818</td><td>...</td><td>1.000856</td><td>1.000953</td><td>1.000914</td><td>1.000893</td><td>1.000875</td><td>1.000807</td><td>1.000998</td><td>1.000849</td><td>1.000890</td><td>1.000979</td></tr>\n",
       "\t<tr><td>1950.333</td><td>1.001173</td><td>1.001251</td><td>1.001071</td><td>1.001035</td><td>1.001300</td><td>1.001152</td><td>1.001218</td><td>1.000992</td><td>1.001092</td><td>...</td><td>1.001142</td><td>1.001272</td><td>1.001221</td><td>1.001192</td><td>1.001168</td><td>1.001077</td><td>1.001333</td><td>1.001134</td><td>1.001188</td><td>1.001308</td></tr>\n",
       "\t<tr><td>1950.417</td><td>1.001468</td><td>1.001567</td><td>1.001340</td><td>1.001294</td><td>1.001628</td><td>1.001442</td><td>1.001525</td><td>1.001240</td><td>1.001367</td><td>...</td><td>1.001430</td><td>1.001594</td><td>1.001529</td><td>1.001493</td><td>1.001462</td><td>1.001348</td><td>1.001670</td><td>1.001419</td><td>1.001487</td><td>1.001639</td></tr>\n",
       "</tbody>\n",
       "</table>\n"
      ],
      "text/latex": [
       "A data.frame: 6 × 100\n",
       "\\begin{tabular}{r|llllllllllllllllllllllllllllllllllllllllllllllllllllllllllllllllllllllllllllllllllllllllllllllllllll}\n",
       " year & X2..Seals & X2..Seals.1 & X2..Seals.2 & X2..Seals.3 & X2..Seals.4 & X2..Seals.5 & X2..Seals.6 & X2..Seals.7 & X2..Seals.8 & X2..Seals.9 & X2..Seals.10 & X2..Seals.11 & X2..Seals.12 & X2..Seals.13 & X2..Seals.14 & X2..Seals.15 & X2..Seals.16 & X2..Seals.17 & X2..Seals.18 & X2..Seals.19 & X2..Seals.20 & X2..Seals.21 & X2..Seals.22 & X2..Seals.23 & X2..Seals.24 & X2..Seals.25 & X2..Seals.26 & X2..Seals.27 & X2..Seals.28 & X2..Seals.29 & X2..Seals.30 & X2..Seals.31 & X2..Seals.32 & X2..Seals.33 & X2..Seals.34 & X2..Seals.35 & X2..Seals.36 & X2..Seals.37 & X2..Seals.38 & X2..Seals.39 & X2..Seals.40 & X2..Seals.41 & X2..Seals.42 & X2..Seals.43 & X2..Seals.44 & X2..Seals.45 & X2..Seals.46 & X2..Seals.47 & X2..Seals.48 & X2..Seals.49 & X2..Seals.50 & X2..Seals.51 & X2..Seals.52 & X2..Seals.53 & X2..Seals.54 & X2..Seals.55 & X2..Seals.56 & X2..Seals.57 & X2..Seals.58 & X2..Seals.59 & X2..Seals.60 & X2..Seals.61 & X2..Seals.62 & X2..Seals.63 & X2..Seals.64 & X2..Seals.65 & X2..Seals.66 & X2..Seals.67 & X2..Seals.68 & X2..Seals.69 & X2..Seals.70 & X2..Seals.71 & X2..Seals.72 & X2..Seals.73 & X2..Seals.74 & X2..Seals.75 & X2..Seals.76 & X2..Seals.77 & X2..Seals.78 & X2..Seals.79 & X2..Seals.80 & X2..Seals.81 & X2..Seals.82 & X2..Seals.83 & X2..Seals.84 & X2..Seals.85 & X2..Seals.86 & X2..Seals.87 & X2..Seals.88 & X2..Seals.89 & X2..Seals.90 & X2..Seals.91 & X2..Seals.92 & X2..Seals.93 & X2..Seals.94 & X2..Seals.95 & X2..Seals.96 & X2..Seals.97 & X2..Seals.98\\\\\n",
       " <dbl> & <dbl> & <dbl> & <dbl> & <dbl> & <dbl> & <dbl> & <dbl> & <dbl> & <dbl> & <dbl> & <dbl> & <dbl> & <dbl> & <dbl> & <dbl> & <dbl> & <dbl> & <dbl> & <dbl> & <dbl> & <dbl> & <dbl> & <dbl> & <dbl> & <dbl> & <dbl> & <dbl> & <dbl> & <dbl> & <dbl> & <dbl> & <dbl> & <dbl> & <dbl> & <dbl> & <dbl> & <dbl> & <dbl> & <dbl> & <dbl> & <dbl> & <dbl> & <dbl> & <dbl> & <dbl> & <dbl> & <dbl> & <dbl> & <dbl> & <dbl> & <dbl> & <dbl> & <dbl> & <dbl> & <dbl> & <dbl> & <dbl> & <dbl> & <dbl> & <dbl> & <dbl> & <dbl> & <dbl> & <dbl> & <dbl> & <dbl> & <dbl> & <dbl> & <dbl> & <dbl> & <dbl> & <dbl> & <dbl> & <dbl> & <dbl> & <dbl> & <dbl> & <dbl> & <dbl> & <dbl> & <dbl> & <dbl> & <dbl> & <dbl> & <dbl> & <dbl> & <dbl> & <dbl> & <dbl> & <dbl> & <dbl> & <dbl> & <dbl> & <dbl> & <dbl> & <dbl> & <dbl> & <dbl> & <dbl>\\\\\n",
       "\\hline\n",
       "\t 1950.000 & 1.000000 & 1.000000 & 1.000000 & 1.000000 & 1.000000 & 1.000000 & 1.000000 & 1.000000 & 1.000000 & 1.000000 & 1.000000 & 1.000000 & 1.000000 & 1.000000 & 1.000000 & 1.000000 & 1.000000 & 1.000000 & 1.000000 & 1.000000 & 1.000000 & 1.000000 & 1.000000 & 1.000000 & 1.000000 & 1.000000 & 1.000000 & 1.000000 & 1.000000 & 1.000000 & 1.000000 & 1.000000 & 1.000000 & 1.000000 & 1.000000 & 1.000000 & 1.000000 & 1.000000 & 1.000000 & 1.000000 & 1.000000 & 1.000000 & 1.000000 & 1.000000 & 1.000000 & 1.000000 & 1.000000 & 1.000000 & 1.000000 & 1.000000 & 1.000000 & 1.000000 & 1.000000 & 1.000000 & 1.000000 & 1.000000 & 1.000000 & 1.000000 & 1.000000 & 1.000000 & 1.000000 & 1.000000 & 1.000000 & 1.000000 & 1.000000 & 1.000000 & 1.000000 & 1.000000 & 1.000000 & 1.000000 & 1.000000 & 1.000000 & 1.000000 & 1.000000 & 1.000000 & 1.000000 & 1.000000 & 1.000000 & 1.000000 & 1.000000 & 1.000000 & 1.000000 & 1.000000 & 1.000000 & 1.000000 & 1.000000 & 1.000000 & 1.000000 & 1.000000 & 1.000000 & 1.000000 & 1.000000 & 1.000000 & 1.000000 & 1.000000 & 1.000000 & 1.000000 & 1.000000 & 1.000000\\\\\n",
       "\t 1950.083 & 1.000293 & 1.000312 & 1.000269 & 1.000260 & 1.000325 & 1.000288 & 1.000305 & 1.000249 & 1.000273 & 1.000246 & 1.000312 & 1.000270 & 1.000310 & 1.000269 & 1.000258 & 1.000278 & 1.000279 & 1.000304 & 1.000315 & 1.000296 & 1.000270 & 1.000277 & 1.000283 & 1.000250 & 1.000264 & 1.000262 & 1.000326 & 1.000298 & 1.000301 & 1.000290 & 1.000305 & 1.000326 & 1.000289 & 1.000302 & 1.000282 & 1.000262 & 1.000254 & 1.000261 & 1.000286 & 1.000288 & 1.000296 & 1.000268 & 1.000277 & 1.000268 & 1.000322 & 1.000283 & 1.000272 & 1.000321 & 1.000251 & 1.000292 & 1.000277 & 1.000311 & 1.000344 & 1.000286 & 1.000296 & 1.000278 & 1.000335 & 1.000290 & 1.000308 & 1.000313 & 1.000278 & 1.000358 & 1.000257 & 1.000310 & 1.000280 & 1.000343 & 1.000249 & 1.000301 & 1.000314 & 1.000259 & 1.000283 & 1.000292 & 1.000278 & 1.000270 & 1.000318 & 1.000292 & 1.000358 & 1.000279 & 1.000291 & 1.000252 & 1.000292 & 1.000270 & 1.000297 & 1.000334 & 1.000289 & 1.000248 & 1.000284 & 1.000258 & 1.000267 & 1.000286 & 1.000318 & 1.000305 & 1.000298 & 1.000292 & 1.000270 & 1.000333 & 1.000284 & 1.000297 & 1.000327\\\\\n",
       "\t 1950.167 & 1.000585 & 1.000624 & 1.000535 & 1.000517 & 1.000648 & 1.000575 & 1.000608 & 1.000496 & 1.000545 & 1.000490 & 1.000623 & 1.000537 & 1.000619 & 1.000537 & 1.000515 & 1.000553 & 1.000557 & 1.000606 & 1.000628 & 1.000590 & 1.000539 & 1.000552 & 1.000565 & 1.000499 & 1.000527 & 1.000522 & 1.000651 & 1.000594 & 1.000601 & 1.000579 & 1.000609 & 1.000651 & 1.000577 & 1.000603 & 1.000562 & 1.000523 & 1.000507 & 1.000521 & 1.000570 & 1.000575 & 1.000591 & 1.000534 & 1.000552 & 1.000535 & 1.000644 & 1.000565 & 1.000542 & 1.000640 & 1.000501 & 1.000582 & 1.000553 & 1.000622 & 1.000686 & 1.000571 & 1.000590 & 1.000554 & 1.000669 & 1.000578 & 1.000614 & 1.000625 & 1.000554 & 1.000714 & 1.000513 & 1.000619 & 1.000558 & 1.000685 & 1.000496 & 1.000600 & 1.000627 & 1.000517 & 1.000564 & 1.000582 & 1.000556 & 1.000537 & 1.000634 & 1.000583 & 1.000714 & 1.000557 & 1.000581 & 1.000503 & 1.000583 & 1.000539 & 1.000593 & 1.000668 & 1.000576 & 1.000494 & 1.000567 & 1.000514 & 1.000533 & 1.000570 & 1.000634 & 1.000608 & 1.000595 & 1.000583 & 1.000538 & 1.000665 & 1.000566 & 1.000593 & 1.000652\\\\\n",
       "\t 1950.250 & 1.000879 & 1.000937 & 1.000803 & 1.000776 & 1.000973 & 1.000863 & 1.000913 & 1.000744 & 1.000818 & 1.000736 & 1.000936 & 1.000806 & 1.000929 & 1.000806 & 1.000773 & 1.000830 & 1.000836 & 1.000910 & 1.000942 & 1.000886 & 1.000808 & 1.000829 & 1.000849 & 1.000749 & 1.000791 & 1.000783 & 1.000978 & 1.000893 & 1.000903 & 1.000868 & 1.000915 & 1.000977 & 1.000867 & 1.000905 & 1.000844 & 1.000784 & 1.000760 & 1.000781 & 1.000856 & 1.000863 & 1.000888 & 1.000800 & 1.000829 & 1.000803 & 1.000966 & 1.000848 & 1.000814 & 1.000961 & 1.000751 & 1.000873 & 1.000831 & 1.000933 & 1.001030 & 1.000857 & 1.000885 & 1.000832 & 1.001005 & 1.000867 & 1.000922 & 1.000938 & 1.000831 & 1.001073 & 1.000769 & 1.000929 & 1.000838 & 1.001029 & 1.000744 & 1.000900 & 1.000942 & 1.000775 & 1.000847 & 1.000873 & 1.000834 & 1.000805 & 1.000952 & 1.000875 & 1.001072 & 1.000836 & 1.000872 & 1.000754 & 1.000875 & 1.000809 & 1.000890 & 1.001003 & 1.000864 & 1.000741 & 1.000850 & 1.000771 & 1.000800 & 1.000856 & 1.000953 & 1.000914 & 1.000893 & 1.000875 & 1.000807 & 1.000998 & 1.000849 & 1.000890 & 1.000979\\\\\n",
       "\t 1950.333 & 1.001173 & 1.001251 & 1.001071 & 1.001035 & 1.001300 & 1.001152 & 1.001218 & 1.000992 & 1.001092 & 1.000982 & 1.001250 & 1.001075 & 1.001241 & 1.001075 & 1.001032 & 1.001108 & 1.001116 & 1.001216 & 1.001258 & 1.001183 & 1.001078 & 1.001107 & 1.001133 & 1.001000 & 1.001055 & 1.001045 & 1.001307 & 1.001192 & 1.001205 & 1.001159 & 1.001221 & 1.001306 & 1.001158 & 1.001207 & 1.001126 & 1.001046 & 1.001014 & 1.001042 & 1.001142 & 1.001152 & 1.001185 & 1.001068 & 1.001107 & 1.001073 & 1.001290 & 1.001132 & 1.001086 & 1.001284 & 1.001002 & 1.001165 & 1.001109 & 1.001246 & 1.001376 & 1.001143 & 1.001181 & 1.001111 & 1.001342 & 1.001158 & 1.001232 & 1.001253 & 1.001109 & 1.001433 & 1.001025 & 1.001241 & 1.001119 & 1.001374 & 1.000993 & 1.001202 & 1.001258 & 1.001034 & 1.001130 & 1.001166 & 1.001113 & 1.001074 & 1.001272 & 1.001169 & 1.001432 & 1.001116 & 1.001164 & 1.001006 & 1.001169 & 1.001080 & 1.001188 & 1.001340 & 1.001154 & 1.000988 & 1.001134 & 1.001030 & 1.001068 & 1.001142 & 1.001272 & 1.001221 & 1.001192 & 1.001168 & 1.001077 & 1.001333 & 1.001134 & 1.001188 & 1.001308\\\\\n",
       "\t 1950.417 & 1.001468 & 1.001567 & 1.001340 & 1.001294 & 1.001628 & 1.001442 & 1.001525 & 1.001240 & 1.001367 & 1.001228 & 1.001565 & 1.001344 & 1.001555 & 1.001345 & 1.001291 & 1.001387 & 1.001396 & 1.001523 & 1.001574 & 1.001481 & 1.001349 & 1.001387 & 1.001419 & 1.001251 & 1.001320 & 1.001307 & 1.001636 & 1.001492 & 1.001509 & 1.001449 & 1.001529 & 1.001636 & 1.001450 & 1.001511 & 1.001408 & 1.001308 & 1.001269 & 1.001304 & 1.001429 & 1.001443 & 1.001484 & 1.001335 & 1.001385 & 1.001343 & 1.001616 & 1.001417 & 1.001359 & 1.001608 & 1.001254 & 1.001457 & 1.001389 & 1.001559 & 1.001723 & 1.001431 & 1.001478 & 1.001391 & 1.001680 & 1.001449 & 1.001543 & 1.001570 & 1.001388 & 1.001796 & 1.001282 & 1.001554 & 1.001401 & 1.001722 & 1.001242 & 1.001504 & 1.001576 & 1.001294 & 1.001415 & 1.001460 & 1.001393 & 1.001343 & 1.001593 & 1.001464 & 1.001794 & 1.001396 & 1.001457 & 1.001257 & 1.001463 & 1.001352 & 1.001488 & 1.001679 & 1.001444 & 1.001236 & 1.001418 & 1.001289 & 1.001338 & 1.001430 & 1.001594 & 1.001529 & 1.001493 & 1.001462 & 1.001348 & 1.001670 & 1.001419 & 1.001487 & 1.001639\\\\\n",
       "\\end{tabular}\n"
      ],
      "text/markdown": [
       "\n",
       "A data.frame: 6 × 100\n",
       "\n",
       "| year &lt;dbl&gt; | X2..Seals &lt;dbl&gt; | X2..Seals.1 &lt;dbl&gt; | X2..Seals.2 &lt;dbl&gt; | X2..Seals.3 &lt;dbl&gt; | X2..Seals.4 &lt;dbl&gt; | X2..Seals.5 &lt;dbl&gt; | X2..Seals.6 &lt;dbl&gt; | X2..Seals.7 &lt;dbl&gt; | X2..Seals.8 &lt;dbl&gt; | ... ... | X2..Seals.89 &lt;dbl&gt; | X2..Seals.90 &lt;dbl&gt; | X2..Seals.91 &lt;dbl&gt; | X2..Seals.92 &lt;dbl&gt; | X2..Seals.93 &lt;dbl&gt; | X2..Seals.94 &lt;dbl&gt; | X2..Seals.95 &lt;dbl&gt; | X2..Seals.96 &lt;dbl&gt; | X2..Seals.97 &lt;dbl&gt; | X2..Seals.98 &lt;dbl&gt; |\n",
       "|---|---|---|---|---|---|---|---|---|---|---|---|---|---|---|---|---|---|---|---|---|\n",
       "| 1950.000 | 1.000000 | 1.000000 | 1.000000 | 1.000000 | 1.000000 | 1.000000 | 1.000000 | 1.000000 | 1.000000 | ... | 1.000000 | 1.000000 | 1.000000 | 1.000000 | 1.000000 | 1.000000 | 1.000000 | 1.000000 | 1.000000 | 1.000000 |\n",
       "| 1950.083 | 1.000293 | 1.000312 | 1.000269 | 1.000260 | 1.000325 | 1.000288 | 1.000305 | 1.000249 | 1.000273 | ... | 1.000286 | 1.000318 | 1.000305 | 1.000298 | 1.000292 | 1.000270 | 1.000333 | 1.000284 | 1.000297 | 1.000327 |\n",
       "| 1950.167 | 1.000585 | 1.000624 | 1.000535 | 1.000517 | 1.000648 | 1.000575 | 1.000608 | 1.000496 | 1.000545 | ... | 1.000570 | 1.000634 | 1.000608 | 1.000595 | 1.000583 | 1.000538 | 1.000665 | 1.000566 | 1.000593 | 1.000652 |\n",
       "| 1950.250 | 1.000879 | 1.000937 | 1.000803 | 1.000776 | 1.000973 | 1.000863 | 1.000913 | 1.000744 | 1.000818 | ... | 1.000856 | 1.000953 | 1.000914 | 1.000893 | 1.000875 | 1.000807 | 1.000998 | 1.000849 | 1.000890 | 1.000979 |\n",
       "| 1950.333 | 1.001173 | 1.001251 | 1.001071 | 1.001035 | 1.001300 | 1.001152 | 1.001218 | 1.000992 | 1.001092 | ... | 1.001142 | 1.001272 | 1.001221 | 1.001192 | 1.001168 | 1.001077 | 1.001333 | 1.001134 | 1.001188 | 1.001308 |\n",
       "| 1950.417 | 1.001468 | 1.001567 | 1.001340 | 1.001294 | 1.001628 | 1.001442 | 1.001525 | 1.001240 | 1.001367 | ... | 1.001430 | 1.001594 | 1.001529 | 1.001493 | 1.001462 | 1.001348 | 1.001670 | 1.001419 | 1.001487 | 1.001639 |\n",
       "\n"
      ],
      "text/plain": [
       "  year     X2..Seals X2..Seals.1 X2..Seals.2 X2..Seals.3 X2..Seals.4\n",
       "1 1950.000 1.000000  1.000000    1.000000    1.000000    1.000000   \n",
       "2 1950.083 1.000293  1.000312    1.000269    1.000260    1.000325   \n",
       "3 1950.167 1.000585  1.000624    1.000535    1.000517    1.000648   \n",
       "4 1950.250 1.000879  1.000937    1.000803    1.000776    1.000973   \n",
       "5 1950.333 1.001173  1.001251    1.001071    1.001035    1.001300   \n",
       "6 1950.417 1.001468  1.001567    1.001340    1.001294    1.001628   \n",
       "  X2..Seals.5 X2..Seals.6 X2..Seals.7 X2..Seals.8 ... X2..Seals.89 X2..Seals.90\n",
       "1 1.000000    1.000000    1.000000    1.000000    ... 1.000000     1.000000    \n",
       "2 1.000288    1.000305    1.000249    1.000273    ... 1.000286     1.000318    \n",
       "3 1.000575    1.000608    1.000496    1.000545    ... 1.000570     1.000634    \n",
       "4 1.000863    1.000913    1.000744    1.000818    ... 1.000856     1.000953    \n",
       "5 1.001152    1.001218    1.000992    1.001092    ... 1.001142     1.001272    \n",
       "6 1.001442    1.001525    1.001240    1.001367    ... 1.001430     1.001594    \n",
       "  X2..Seals.91 X2..Seals.92 X2..Seals.93 X2..Seals.94 X2..Seals.95 X2..Seals.96\n",
       "1 1.000000     1.000000     1.000000     1.000000     1.000000     1.000000    \n",
       "2 1.000305     1.000298     1.000292     1.000270     1.000333     1.000284    \n",
       "3 1.000608     1.000595     1.000583     1.000538     1.000665     1.000566    \n",
       "4 1.000914     1.000893     1.000875     1.000807     1.000998     1.000849    \n",
       "5 1.001221     1.001192     1.001168     1.001077     1.001333     1.001134    \n",
       "6 1.001529     1.001493     1.001462     1.001348     1.001670     1.001419    \n",
       "  X2..Seals.97 X2..Seals.98\n",
       "1 1.000000     1.000000    \n",
       "2 1.000297     1.000327    \n",
       "3 1.000593     1.000652    \n",
       "4 1.000890     1.000979    \n",
       "5 1.001188     1.001308    \n",
       "6 1.001487     1.001639    "
      ]
     },
     "metadata": {},
     "output_type": "display_data"
    }
   ],
   "source": [
    "# read data and pivot so all runs in one col\n",
    "# I can't find Biomass in the auto written MC run out files, so I'm saving from the plot in the MC plugin\n",
    "path = \"C://Users//Greig//Sync//PSF//EwE//Georgia Strait 2021//UTL_model//6_MRM_SealTKWJuveSlmn//Results//Scenario3_MC//\"\n",
    "file = \"BiomassPlotSave_Scen3a_NoTKWForce2.csv\"\n",
    "header_lines = 1\n",
    "results_df <- read.csv(paste(path, file,sep=\"\"), skip = header_lines)\n",
    "\n",
    "n_MC_runs = 100 # determines columns to grab (first cols assumed to be seals)\n",
    "\n",
    "# rename 'data' col to Year\n",
    "results_trim = results_df %>% rename(year = Data) %>% \n",
    "               select(c(0:n_MC_runs))\n",
    "\n",
    "head(results_trim)"
   ]
  },
  {
   "cell_type": "code",
   "execution_count": null,
   "id": "a7e56694",
   "metadata": {},
   "outputs": [],
   "source": [
    "# for geom_ribbon plots get upper and lower bound \n",
    "columns <- c(2:n_MC_runs)\n",
    "\n",
    "results_trim2 = results_trim %>% \n",
    "  mutate(Mean= rowMeans(.[columns]), \n",
    "         logMean = rowMeans(log(.[columns])),\n",
    "         stdev=rowSds(as.matrix(.[columns])), \n",
    "         stdev_log=rowSds(as.matrix(log(.[columns])))) %>%\n",
    "  mutate(upper_B = Mean + (1.96 * stdev / sqrt(n_MC_runs)), # 95% confidence interv https://www.mathsisfun.com/data/confidence-interval.html\n",
    "        lower_B = Mean - (1.96 * stdev / sqrt(n_MC_runs))) %>%\n",
    "  mutate(year_int = round(year,0)) %>%\n",
    "  filter(year_int < 2022) %>% #deals with weird super-large year at end of TS data\n",
    "  select(c(\"year_int\",\"Mean\", \"stdev\", \"lower_B\",\"upper_B\")) %>%\n",
    "  mutate(source = \"EwE\") %>%\n",
    "  rename(year = year_int) %>%\n",
    "  # at this point there are 12 vals per year but these appear to jump every year\n",
    "  # below will average the stats across each year\n",
    "  group_by(year) %>% dplyr::summarize(mean_yr = mean(Mean, na.rm=TRUE), \n",
    "                                      mean_std = mean(stdev, na.rm=TRUE), \n",
    "                                      mean_lwrB = mean(lower_B, na.rm=TRUE),\n",
    "                                      mean_uppB = mean(upper_B, na.rm=TRUE))\n",
    "\n",
    "\n",
    "  #mutate(upper_B = exp(upper_logB), \n",
    "  #       lower_B = exp(lower_logB)) \n",
    "\n",
    "\n",
    "\n",
    "# pivot wide to long\n",
    "#results_piv = results_trim2 %>% pivot_longer(\n",
    "#   cols = starts_with(\"X2\"),\n",
    "#   names_to = \"Seals\",\n",
    "#   names_prefix = \"\",\n",
    "#   values_to = \"B\",\n",
    "#   values_drop_na = TRUE\n",
    "# )\n",
    "\n",
    "head(results_trim2)"
   ]
  },
  {
   "cell_type": "code",
   "execution_count": 52,
   "id": "878db485",
   "metadata": {},
   "outputs": [
    {
     "data": {
      "text/html": [
       "<table>\n",
       "<caption>A data.frame: 6 × 502</caption>\n",
       "<thead>\n",
       "\t<tr><th scope=col>year</th><th scope=col>X2..Seals</th><th scope=col>X2..Seals.1</th><th scope=col>X2..Seals.2</th><th scope=col>X2..Seals.3</th><th scope=col>X2..Seals.4</th><th scope=col>X2..Seals.5</th><th scope=col>X2..Seals.6</th><th scope=col>X2..Seals.7</th><th scope=col>X2..Seals.8</th><th scope=col>...</th><th scope=col>X2..Seals.491</th><th scope=col>X2..Seals.492</th><th scope=col>X2..Seals.493</th><th scope=col>X2..Seals.494</th><th scope=col>X2..Seals.495</th><th scope=col>X2..Seals.496</th><th scope=col>X2..Seals.497</th><th scope=col>X2..Seals.498</th><th scope=col>X2..Seals.499</th><th scope=col>X2..Seals.500</th></tr>\n",
       "\t<tr><th scope=col>&lt;dbl&gt;</th><th scope=col>&lt;dbl&gt;</th><th scope=col>&lt;dbl&gt;</th><th scope=col>&lt;dbl&gt;</th><th scope=col>&lt;dbl&gt;</th><th scope=col>&lt;dbl&gt;</th><th scope=col>&lt;dbl&gt;</th><th scope=col>&lt;dbl&gt;</th><th scope=col>&lt;dbl&gt;</th><th scope=col>&lt;dbl&gt;</th><th scope=col>...</th><th scope=col>&lt;dbl&gt;</th><th scope=col>&lt;dbl&gt;</th><th scope=col>&lt;dbl&gt;</th><th scope=col>&lt;dbl&gt;</th><th scope=col>&lt;dbl&gt;</th><th scope=col>&lt;dbl&gt;</th><th scope=col>&lt;dbl&gt;</th><th scope=col>&lt;dbl&gt;</th><th scope=col>&lt;dbl&gt;</th><th scope=col>&lt;int&gt;</th></tr>\n",
       "</thead>\n",
       "<tbody>\n",
       "\t<tr><td>1950.000</td><td>1.0000000</td><td>1.0000000</td><td>1.0000000</td><td>1.0000000</td><td>1.0000000</td><td>1.0000000</td><td>1.0000000</td><td>1.0000000</td><td>1.0000000</td><td>...</td><td>1.0000000</td><td>1.0000000</td><td>1.0000000</td><td>1.0000000</td><td>1.0000000</td><td>1.0000000</td><td>1.0000000</td><td>1.0000000</td><td>1.0000000</td><td> 1</td></tr>\n",
       "\t<tr><td>1950.083</td><td>0.9999005</td><td>0.9999060</td><td>0.9998989</td><td>0.9998944</td><td>0.9998854</td><td>0.9998988</td><td>0.9999036</td><td>0.9999064</td><td>0.9998963</td><td>...</td><td>0.9998980</td><td>0.9999005</td><td>0.9999069</td><td>0.9998999</td><td>0.9998958</td><td>0.9998930</td><td>0.9999051</td><td>0.9999020</td><td>0.9998998</td><td>NA</td></tr>\n",
       "\t<tr><td>1950.167</td><td>0.9997990</td><td>0.9998100</td><td>0.9997958</td><td>0.9997867</td><td>0.9997683</td><td>0.9997955</td><td>0.9998052</td><td>0.9998106</td><td>0.9997905</td><td>...</td><td>0.9997937</td><td>0.9997987</td><td>0.9998118</td><td>0.9997977</td><td>0.9997895</td><td>0.9997835</td><td>0.9998083</td><td>0.9998021</td><td>0.9997976</td><td>NA</td></tr>\n",
       "\t<tr><td>1950.250</td><td>0.9996979</td><td>0.9997144</td><td>0.9996929</td><td>0.9996794</td><td>0.9996517</td><td>0.9996926</td><td>0.9997073</td><td>0.9997153</td><td>0.9996850</td><td>...</td><td>0.9996899</td><td>0.9996976</td><td>0.9997172</td><td>0.9996960</td><td>0.9996835</td><td>0.9996746</td><td>0.9997118</td><td>0.9997024</td><td>0.9996957</td><td>NA</td></tr>\n",
       "\t<tr><td>1950.333</td><td>0.9995965</td><td>0.9996187</td><td>0.9995899</td><td>0.9995719</td><td>0.9995349</td><td>0.9995894</td><td>0.9996094</td><td>0.9996201</td><td>0.9995795</td><td>...</td><td>0.9995860</td><td>0.9995963</td><td>0.9996225</td><td>0.9995942</td><td>0.9995774</td><td>0.9995655</td><td>0.9996153</td><td>0.9996026</td><td>0.9995937</td><td>NA</td></tr>\n",
       "\t<tr><td>1950.417</td><td>0.9994949</td><td>0.9995228</td><td>0.9994864</td><td>0.9994638</td><td>0.9994177</td><td>0.9994859</td><td>0.9995112</td><td>0.9995246</td><td>0.9994736</td><td>...</td><td>0.9994818</td><td>0.9994948</td><td>0.9995277</td><td>0.9994920</td><td>0.9994711</td><td>0.9994560</td><td>0.9995186</td><td>0.9995024</td><td>0.9994915</td><td>NA</td></tr>\n",
       "</tbody>\n",
       "</table>\n"
      ],
      "text/latex": [
       "A data.frame: 6 × 502\n",
       "\\begin{tabular}{r|llllllllllllllllllllllllllllllllllllllllllllllllllllllllllllllllllllllllllllllllllllllllllllllllllllllllllllllllllllllllllllllllllllllllllllllllllllllllllllllllllllllllllllllllllllllllllllllllllllllllllllllllllllllllllllllllllllllllllllllllllllllllllllllllllllllllllllllllllllllllllllllllllllllllllllllllllllllllllllllllllllllllllllllllllllllllllllllllllllllllllllllllllllllllllllllllllllllllllllllllllllllllllllllllllllllllllllllllllllllllllllllllllllllllllllllllllllllllllllllllllllllllllllllllllllll}\n",
       " year & X2..Seals & X2..Seals.1 & X2..Seals.2 & X2..Seals.3 & X2..Seals.4 & X2..Seals.5 & X2..Seals.6 & X2..Seals.7 & X2..Seals.8 & X2..Seals.9 & X2..Seals.10 & X2..Seals.11 & X2..Seals.12 & X2..Seals.13 & X2..Seals.14 & X2..Seals.15 & X2..Seals.16 & X2..Seals.17 & X2..Seals.18 & X2..Seals.19 & X2..Seals.20 & X2..Seals.21 & X2..Seals.22 & X2..Seals.23 & X2..Seals.24 & X2..Seals.25 & X2..Seals.26 & X2..Seals.27 & X2..Seals.28 & X2..Seals.29 & X2..Seals.30 & X2..Seals.31 & X2..Seals.32 & X2..Seals.33 & X2..Seals.34 & X2..Seals.35 & X2..Seals.36 & X2..Seals.37 & X2..Seals.38 & X2..Seals.39 & X2..Seals.40 & X2..Seals.41 & X2..Seals.42 & X2..Seals.43 & X2..Seals.44 & X2..Seals.45 & X2..Seals.46 & X2..Seals.47 & X2..Seals.48 & X2..Seals.49 & X2..Seals.50 & X2..Seals.51 & X2..Seals.52 & X2..Seals.53 & X2..Seals.54 & X2..Seals.55 & X2..Seals.56 & X2..Seals.57 & X2..Seals.58 & X2..Seals.59 & X2..Seals.60 & X2..Seals.61 & X2..Seals.62 & X2..Seals.63 & X2..Seals.64 & X2..Seals.65 & X2..Seals.66 & X2..Seals.67 & X2..Seals.68 & X2..Seals.69 & X2..Seals.70 & X2..Seals.71 & X2..Seals.72 & X2..Seals.73 & X2..Seals.74 & X2..Seals.75 & X2..Seals.76 & X2..Seals.77 & X2..Seals.78 & X2..Seals.79 & X2..Seals.80 & X2..Seals.81 & X2..Seals.82 & X2..Seals.83 & X2..Seals.84 & X2..Seals.85 & X2..Seals.86 & X2..Seals.87 & X2..Seals.88 & X2..Seals.89 & X2..Seals.90 & X2..Seals.91 & X2..Seals.92 & X2..Seals.93 & X2..Seals.94 & X2..Seals.95 & X2..Seals.96 & X2..Seals.97 & X2..Seals.98 & X2..Seals.99 & X2..Seals.100 & X2..Seals.101 & X2..Seals.102 & X2..Seals.103 & X2..Seals.104 & X2..Seals.105 & X2..Seals.106 & X2..Seals.107 & X2..Seals.108 & X2..Seals.109 & X2..Seals.110 & X2..Seals.111 & X2..Seals.112 & X2..Seals.113 & X2..Seals.114 & X2..Seals.115 & X2..Seals.116 & X2..Seals.117 & X2..Seals.118 & X2..Seals.119 & X2..Seals.120 & X2..Seals.121 & X2..Seals.122 & X2..Seals.123 & X2..Seals.124 & X2..Seals.125 & X2..Seals.126 & X2..Seals.127 & X2..Seals.128 & X2..Seals.129 & X2..Seals.130 & X2..Seals.131 & X2..Seals.132 & X2..Seals.133 & X2..Seals.134 & X2..Seals.135 & X2..Seals.136 & X2..Seals.137 & X2..Seals.138 & X2..Seals.139 & X2..Seals.140 & X2..Seals.141 & X2..Seals.142 & X2..Seals.143 & X2..Seals.144 & X2..Seals.145 & X2..Seals.146 & X2..Seals.147 & X2..Seals.148 & X2..Seals.149 & X2..Seals.150 & X2..Seals.151 & X2..Seals.152 & X2..Seals.153 & X2..Seals.154 & X2..Seals.155 & X2..Seals.156 & X2..Seals.157 & X2..Seals.158 & X2..Seals.159 & X2..Seals.160 & X2..Seals.161 & X2..Seals.162 & X2..Seals.163 & X2..Seals.164 & X2..Seals.165 & X2..Seals.166 & X2..Seals.167 & X2..Seals.168 & X2..Seals.169 & X2..Seals.170 & X2..Seals.171 & X2..Seals.172 & X2..Seals.173 & X2..Seals.174 & X2..Seals.175 & X2..Seals.176 & X2..Seals.177 & X2..Seals.178 & X2..Seals.179 & X2..Seals.180 & X2..Seals.181 & X2..Seals.182 & X2..Seals.183 & X2..Seals.184 & X2..Seals.185 & X2..Seals.186 & X2..Seals.187 & X2..Seals.188 & X2..Seals.189 & X2..Seals.190 & X2..Seals.191 & X2..Seals.192 & X2..Seals.193 & X2..Seals.194 & X2..Seals.195 & X2..Seals.196 & X2..Seals.197 & X2..Seals.198 & X2..Seals.199 & X2..Seals.200 & X2..Seals.201 & X2..Seals.202 & X2..Seals.203 & X2..Seals.204 & X2..Seals.205 & X2..Seals.206 & X2..Seals.207 & X2..Seals.208 & X2..Seals.209 & X2..Seals.210 & X2..Seals.211 & X2..Seals.212 & X2..Seals.213 & X2..Seals.214 & X2..Seals.215 & X2..Seals.216 & X2..Seals.217 & X2..Seals.218 & X2..Seals.219 & X2..Seals.220 & X2..Seals.221 & X2..Seals.222 & X2..Seals.223 & X2..Seals.224 & X2..Seals.225 & X2..Seals.226 & X2..Seals.227 & X2..Seals.228 & X2..Seals.229 & X2..Seals.230 & X2..Seals.231 & X2..Seals.232 & X2..Seals.233 & X2..Seals.234 & X2..Seals.235 & X2..Seals.236 & X2..Seals.237 & X2..Seals.238 & X2..Seals.239 & X2..Seals.240 & X2..Seals.241 & X2..Seals.242 & X2..Seals.243 & X2..Seals.244 & X2..Seals.245 & X2..Seals.246 & X2..Seals.247 & X2..Seals.248 & X2..Seals.249 & X2..Seals.250 & X2..Seals.251 & X2..Seals.252 & X2..Seals.253 & X2..Seals.254 & X2..Seals.255 & X2..Seals.256 & X2..Seals.257 & X2..Seals.258 & X2..Seals.259 & X2..Seals.260 & X2..Seals.261 & X2..Seals.262 & X2..Seals.263 & X2..Seals.264 & X2..Seals.265 & X2..Seals.266 & X2..Seals.267 & X2..Seals.268 & X2..Seals.269 & X2..Seals.270 & X2..Seals.271 & X2..Seals.272 & X2..Seals.273 & X2..Seals.274 & X2..Seals.275 & X2..Seals.276 & X2..Seals.277 & X2..Seals.278 & X2..Seals.279 & X2..Seals.280 & X2..Seals.281 & X2..Seals.282 & X2..Seals.283 & X2..Seals.284 & X2..Seals.285 & X2..Seals.286 & X2..Seals.287 & X2..Seals.288 & X2..Seals.289 & X2..Seals.290 & X2..Seals.291 & X2..Seals.292 & X2..Seals.293 & X2..Seals.294 & X2..Seals.295 & X2..Seals.296 & X2..Seals.297 & X2..Seals.298 & X2..Seals.299 & X2..Seals.300 & X2..Seals.301 & X2..Seals.302 & X2..Seals.303 & X2..Seals.304 & X2..Seals.305 & X2..Seals.306 & X2..Seals.307 & X2..Seals.308 & X2..Seals.309 & X2..Seals.310 & X2..Seals.311 & X2..Seals.312 & X2..Seals.313 & X2..Seals.314 & X2..Seals.315 & X2..Seals.316 & X2..Seals.317 & X2..Seals.318 & X2..Seals.319 & X2..Seals.320 & X2..Seals.321 & X2..Seals.322 & X2..Seals.323 & X2..Seals.324 & X2..Seals.325 & X2..Seals.326 & X2..Seals.327 & X2..Seals.328 & X2..Seals.329 & X2..Seals.330 & X2..Seals.331 & X2..Seals.332 & X2..Seals.333 & X2..Seals.334 & X2..Seals.335 & X2..Seals.336 & X2..Seals.337 & X2..Seals.338 & X2..Seals.339 & X2..Seals.340 & X2..Seals.341 & X2..Seals.342 & X2..Seals.343 & X2..Seals.344 & X2..Seals.345 & X2..Seals.346 & X2..Seals.347 & X2..Seals.348 & X2..Seals.349 & X2..Seals.350 & X2..Seals.351 & X2..Seals.352 & X2..Seals.353 & X2..Seals.354 & X2..Seals.355 & X2..Seals.356 & X2..Seals.357 & X2..Seals.358 & X2..Seals.359 & X2..Seals.360 & X2..Seals.361 & X2..Seals.362 & X2..Seals.363 & X2..Seals.364 & X2..Seals.365 & X2..Seals.366 & X2..Seals.367 & X2..Seals.368 & X2..Seals.369 & X2..Seals.370 & X2..Seals.371 & X2..Seals.372 & X2..Seals.373 & X2..Seals.374 & X2..Seals.375 & X2..Seals.376 & X2..Seals.377 & X2..Seals.378 & X2..Seals.379 & X2..Seals.380 & X2..Seals.381 & X2..Seals.382 & X2..Seals.383 & X2..Seals.384 & X2..Seals.385 & X2..Seals.386 & X2..Seals.387 & X2..Seals.388 & X2..Seals.389 & X2..Seals.390 & X2..Seals.391 & X2..Seals.392 & X2..Seals.393 & X2..Seals.394 & X2..Seals.395 & X2..Seals.396 & X2..Seals.397 & X2..Seals.398 & X2..Seals.399 & X2..Seals.400 & X2..Seals.401 & X2..Seals.402 & X2..Seals.403 & X2..Seals.404 & X2..Seals.405 & X2..Seals.406 & X2..Seals.407 & X2..Seals.408 & X2..Seals.409 & X2..Seals.410 & X2..Seals.411 & X2..Seals.412 & X2..Seals.413 & X2..Seals.414 & X2..Seals.415 & X2..Seals.416 & X2..Seals.417 & X2..Seals.418 & X2..Seals.419 & X2..Seals.420 & X2..Seals.421 & X2..Seals.422 & X2..Seals.423 & X2..Seals.424 & X2..Seals.425 & X2..Seals.426 & X2..Seals.427 & X2..Seals.428 & X2..Seals.429 & X2..Seals.430 & X2..Seals.431 & X2..Seals.432 & X2..Seals.433 & X2..Seals.434 & X2..Seals.435 & X2..Seals.436 & X2..Seals.437 & X2..Seals.438 & X2..Seals.439 & X2..Seals.440 & X2..Seals.441 & X2..Seals.442 & X2..Seals.443 & X2..Seals.444 & X2..Seals.445 & X2..Seals.446 & X2..Seals.447 & X2..Seals.448 & X2..Seals.449 & X2..Seals.450 & X2..Seals.451 & X2..Seals.452 & X2..Seals.453 & X2..Seals.454 & X2..Seals.455 & X2..Seals.456 & X2..Seals.457 & X2..Seals.458 & X2..Seals.459 & X2..Seals.460 & X2..Seals.461 & X2..Seals.462 & X2..Seals.463 & X2..Seals.464 & X2..Seals.465 & X2..Seals.466 & X2..Seals.467 & X2..Seals.468 & X2..Seals.469 & X2..Seals.470 & X2..Seals.471 & X2..Seals.472 & X2..Seals.473 & X2..Seals.474 & X2..Seals.475 & X2..Seals.476 & X2..Seals.477 & X2..Seals.478 & X2..Seals.479 & X2..Seals.480 & X2..Seals.481 & X2..Seals.482 & X2..Seals.483 & X2..Seals.484 & X2..Seals.485 & X2..Seals.486 & X2..Seals.487 & X2..Seals.488 & X2..Seals.489 & X2..Seals.490 & X2..Seals.491 & X2..Seals.492 & X2..Seals.493 & X2..Seals.494 & X2..Seals.495 & X2..Seals.496 & X2..Seals.497 & X2..Seals.498 & X2..Seals.499 & X2..Seals.500\\\\\n",
       " <dbl> & <dbl> & <dbl> & <dbl> & <dbl> & <dbl> & <dbl> & <dbl> & <dbl> & <dbl> & <dbl> & <dbl> & <dbl> & <dbl> & <dbl> & <dbl> & <dbl> & <dbl> & <dbl> & <dbl> & <dbl> & <dbl> & <dbl> & <dbl> & <dbl> & <dbl> & <dbl> & <dbl> & <dbl> & <dbl> & <dbl> & <dbl> & <dbl> & <dbl> & <dbl> & <dbl> & <dbl> & <dbl> & <dbl> & <dbl> & <dbl> & <dbl> & <dbl> & <dbl> & <dbl> & <dbl> & <dbl> & <dbl> & <dbl> & <dbl> & <dbl> & <dbl> & <dbl> & <dbl> & <dbl> & <dbl> & <dbl> & <dbl> & <dbl> & <dbl> & <dbl> & <dbl> & <dbl> & <dbl> & <dbl> & <dbl> & <dbl> & <dbl> & <dbl> & <dbl> & <dbl> & <dbl> & <dbl> & <dbl> & <dbl> & <dbl> & <dbl> & <dbl> & <dbl> & <dbl> & <dbl> & <dbl> & <dbl> & <dbl> & <dbl> & <dbl> & <dbl> & <dbl> & <dbl> & <dbl> & <dbl> & <dbl> & <dbl> & <dbl> & <dbl> & <dbl> & <dbl> & <dbl> & <dbl> & <dbl> & <dbl> & <dbl> & <dbl> & <dbl> & <dbl> & <dbl> & <dbl> & <dbl> & <dbl> & <dbl> & <dbl> & <dbl> & <dbl> & <dbl> & <dbl> & <dbl> & <dbl> & <dbl> & <dbl> & <dbl> & <dbl> & <dbl> & <dbl> & <dbl> & <dbl> & <dbl> & <dbl> & <dbl> & <dbl> & <dbl> & <dbl> & <dbl> & <dbl> & <dbl> & <dbl> & <dbl> & <dbl> & <dbl> & <dbl> & <dbl> & <dbl> & <dbl> & <dbl> & <dbl> & <dbl> & <dbl> & <dbl> & <dbl> & <dbl> & <dbl> & <dbl> & <dbl> & <dbl> & <dbl> & <dbl> & <dbl> & <dbl> & <dbl> & <dbl> & <dbl> & <dbl> & <dbl> & <dbl> & <dbl> & <dbl> & <dbl> & <dbl> & <dbl> & <dbl> & <dbl> & <dbl> & <dbl> & <dbl> & <dbl> & <dbl> & <dbl> & <dbl> & <dbl> & <dbl> & <dbl> & <dbl> & <dbl> & <dbl> & <dbl> & <dbl> & <dbl> & <dbl> & <dbl> & <dbl> & <dbl> & <dbl> & <dbl> & <dbl> & <dbl> & <dbl> & <dbl> & <dbl> & <dbl> & <dbl> & <dbl> & <dbl> & <dbl> & <dbl> & <dbl> & <dbl> & <dbl> & <dbl> & <dbl> & <dbl> & <dbl> & <dbl> & <dbl> & <dbl> & <dbl> & <dbl> & <dbl> & <dbl> & <dbl> & <dbl> & <dbl> & <dbl> & <dbl> & <dbl> & <dbl> & <dbl> & <dbl> & <dbl> & <dbl> & <dbl> & <dbl> & <dbl> & <dbl> & <dbl> & <dbl> & <dbl> & <dbl> & <dbl> & <dbl> & <dbl> & <dbl> & <dbl> & <dbl> & <dbl> & <dbl> & <dbl> & <dbl> & <dbl> & <dbl> & <dbl> & <dbl> & <dbl> & <dbl> & <dbl> & <dbl> & <dbl> & <dbl> & <dbl> & <dbl> & <dbl> & <dbl> & <dbl> & <dbl> & <dbl> & <dbl> & <dbl> & <dbl> & <dbl> & <dbl> & <dbl> & <dbl> & <dbl> & <dbl> & <dbl> & <dbl> & <dbl> & <dbl> & <dbl> & <dbl> & <dbl> & <dbl> & <dbl> & <dbl> & <dbl> & <dbl> & <dbl> & <dbl> & <dbl> & <dbl> & <dbl> & <dbl> & <dbl> & <dbl> & <dbl> & <dbl> & <dbl> & <dbl> & <dbl> & <dbl> & <dbl> & <dbl> & <dbl> & <dbl> & <dbl> & <dbl> & <dbl> & <dbl> & <dbl> & <dbl> & <dbl> & <dbl> & <dbl> & <dbl> & <dbl> & <dbl> & <dbl> & <dbl> & <dbl> & <dbl> & <dbl> & <dbl> & <dbl> & <dbl> & <dbl> & <dbl> & <dbl> & <dbl> & <dbl> & <dbl> & <dbl> & <dbl> & <dbl> & <dbl> & <dbl> & <dbl> & <dbl> & <dbl> & <dbl> & <dbl> & <dbl> & <dbl> & <dbl> & <dbl> & <dbl> & <dbl> & <dbl> & <dbl> & <dbl> & <dbl> & <dbl> & <dbl> & <dbl> & <dbl> & <dbl> & <dbl> & <dbl> & <dbl> & <dbl> & <dbl> & <dbl> & <dbl> & <dbl> & <dbl> & <dbl> & <dbl> & <dbl> & <dbl> & <dbl> & <dbl> & <dbl> & <dbl> & <dbl> & <dbl> & <dbl> & <dbl> & <dbl> & <dbl> & <dbl> & <dbl> & <dbl> & <dbl> & <dbl> & <dbl> & <dbl> & <dbl> & <dbl> & <dbl> & <dbl> & <dbl> & <dbl> & <dbl> & <dbl> & <dbl> & <dbl> & <dbl> & <dbl> & <dbl> & <dbl> & <dbl> & <dbl> & <dbl> & <dbl> & <dbl> & <dbl> & <dbl> & <dbl> & <dbl> & <dbl> & <dbl> & <dbl> & <dbl> & <dbl> & <dbl> & <dbl> & <dbl> & <dbl> & <dbl> & <dbl> & <dbl> & <dbl> & <dbl> & <dbl> & <dbl> & <dbl> & <dbl> & <dbl> & <dbl> & <dbl> & <dbl> & <dbl> & <dbl> & <dbl> & <dbl> & <dbl> & <dbl> & <dbl> & <dbl> & <dbl> & <dbl> & <dbl> & <dbl> & <dbl> & <dbl> & <dbl> & <dbl> & <dbl> & <dbl> & <dbl> & <dbl> & <dbl> & <dbl> & <dbl> & <dbl> & <dbl> & <dbl> & <dbl> & <dbl> & <dbl> & <dbl> & <dbl> & <dbl> & <dbl> & <dbl> & <dbl> & <dbl> & <dbl> & <dbl> & <dbl> & <dbl> & <dbl> & <dbl> & <dbl> & <dbl> & <dbl> & <dbl> & <dbl> & <dbl> & <dbl> & <dbl> & <dbl> & <dbl> & <dbl> & <dbl> & <dbl> & <dbl> & <dbl> & <dbl> & <dbl> & <dbl> & <dbl> & <dbl> & <dbl> & <dbl> & <dbl> & <dbl> & <dbl> & <dbl> & <dbl> & <dbl> & <dbl> & <dbl> & <dbl> & <int>\\\\\n",
       "\\hline\n",
       "\t 1950.000 & 1.0000000 & 1.0000000 & 1.0000000 & 1.0000000 & 1.0000000 & 1.0000000 & 1.0000000 & 1.0000000 & 1.0000000 & 1.0000000 & 1.0000000 & 1.0000000 & 1.0000000 & 1.0000000 & 1.0000000 & 1.0000000 & 1.0000000 & 1.0000000 & 1.0000000 & 1.0000000 & 1.0000000 & 1.0000000 & 1.0000000 & 1.0000000 & 1.0000000 & 1.0000000 & 1.0000000 & 1.0000000 & 1.0000000 & 1.0000000 & 1.0000000 & 1.0000000 & 1.0000000 & 1.0000000 & 1.0000000 & 1.0000000 & 1.0000000 & 1.0000000 & 1.0000000 & 1.0000000 & 1.0000000 & 1.0000000 & 1.0000000 & 1.0000000 & 1.0000000 & 1.0000000 & 1.0000000 & 1.0000000 & 1.0000000 & 1.0000000 & 1.0000000 & 1.0000000 & 1.0000000 & 1.0000000 & 1.0000000 & 1.0000000 & 1.0000000 & 1.0000000 & 1.0000000 & 1.0000000 & 1.0000000 & 1.0000000 & 1.0000000 & 1.0000000 & 1.0000000 & 1.0000000 & 1.0000000 & 1.0000000 & 1.0000000 & 1.0000000 & 1.0000000 & 1.0000000 & 1.0000000 & 1.0000000 & 1.0000000 & 1.0000000 & 1.0000000 & 1.0000000 & 1.0000000 & 1.0000000 & 1.0000000 & 1.0000000 & 1.0000000 & 1.0000000 & 1.0000000 & 1.0000000 & 1.0000000 & 1.0000000 & 1.0000000 & 1.0000000 & 1.0000000 & 1.0000000 & 1.0000000 & 1.0000000 & 1.0000000 & 1.0000000 & 1.0000000 & 1.0000000 & 1.0000000 & 1.0000000 & 1.0000000 & 1.0000000 & 1.0000000 & 1.0000000 & 1.0000000 & 1.0000000 & 1.0000000 & 1.0000000 & 1.0000000 & 1.0000000 & 1.0000000 & 1.0000000 & 1.0000000 & 1.0000000 & 1.0000000 & 1.0000000 & 1.0000000 & 1.0000000 & 1.0000000 & 1.0000000 & 1.0000000 & 1.0000000 & 1.0000000 & 1.0000000 & 1.0000000 & 1.0000000 & 1.0000000 & 1.0000000 & 1.0000000 & 1.0000000 & 1.0000000 & 1.0000000 & 1.0000000 & 1.0000000 & 1.0000000 & 1.0000000 & 1.0000000 & 1.0000000 & 1.0000000 & 1.0000000 & 1.0000000 & 1.0000000 & 1.0000000 & 1.0000000 & 1.0000000 & 1.0000000 & 1.0000000 & 1.0000000 & 1.0000000 & 1.0000000 & 1.0000000 & 1.0000000 & 1.0000000 & 1.0000000 & 1.0000000 & 1.0000000 & 1.0000000 & 1.0000000 & 1.0000000 & 1.0000000 & 1.0000000 & 1.0000000 & 1.0000000 & 1.0000000 & 1.0000000 & 1.0000000 & 1.0000000 & 1.0000000 & 1.0000000 & 1.0000000 & 1.0000000 & 1.0000000 & 1.0000000 & 1.0000000 & 1.0000000 & 1.0000000 & 1.0000000 & 1.0000000 & 1.0000000 & 1.0000000 & 1.0000000 & 1.0000000 & 1.0000000 & 1.0000000 & 1.0000000 & 1.0000000 & 1.0000000 & 1.0000000 & 1.0000000 & 1.0000000 & 1.0000000 & 1.0000000 & 1.0000000 & 1.0000000 & 1.0000000 & 1.0000000 & 1.0000000 & 1.0000000 & 1.0000000 & 1.0000000 & 1.0000000 & 1.0000000 & 1.0000000 & 1.0000000 & 1.0000000 & 1.0000000 & 1.0000000 & 1.0000000 & 1.0000000 & 1.0000000 & 1.0000000 & 1.0000000 & 1.0000000 & 1.0000000 & 1.0000000 & 1.0000000 & 1.0000000 & 1.0000000 & 1.0000000 & 1.0000000 & 1.0000000 & 1.0000000 & 1.0000000 & 1.0000000 & 1.0000000 & 1.0000000 & 1.0000000 & 1.0000000 & 1.0000000 & 1.0000000 & 1.0000000 & 1.0000000 & 1.0000000 & 1.0000000 & 1.0000000 & 1.0000000 & 1.0000000 & 1.0000000 & 1.0000000 & 1.0000000 & 1.0000000 & 1.0000000 & 1.0000000 & 1.0000000 & 1.0000000 & 1.0000000 & 1.0000000 & 1.0000000 & 1.0000000 & 1.0000000 & 1.0000000 & 1.0000000 & 1.0000000 & 1.0000000 & 1.0000000 & 1.0000000 & 1.0000000 & 1.0000000 & 1.0000000 & 1.0000000 & 1.0000000 & 1.0000000 & 1.0000000 & 1.0000000 & 1.0000000 & 1.0000000 & 1.0000000 & 1.0000000 & 1.0000000 & 1.0000000 & 1.0000000 & 1.0000000 & 1.0000000 & 1.0000000 & 1.0000000 & 1.0000000 & 1.0000000 & 1.0000000 & 1.0000000 & 1.0000000 & 1.0000000 & 1.0000000 & 1.0000000 & 1.0000000 & 1.0000000 & 1.0000000 & 1.0000000 & 1.0000000 & 1.0000000 & 1.0000000 & 1.0000000 & 1.0000000 & 1.0000000 & 1.0000000 & 1.0000000 & 1.0000000 & 1.0000000 & 1.0000000 & 1.0000000 & 1.0000000 & 1.0000000 & 1.0000000 & 1.0000000 & 1.0000000 & 1.0000000 & 1.0000000 & 1.0000000 & 1.0000000 & 1.0000000 & 1.0000000 & 1.0000000 & 1.0000000 & 1.0000000 & 1.0000000 & 1.0000000 & 1.0000000 & 1.0000000 & 1.0000000 & 1.0000000 & 1.0000000 & 1.0000000 & 1.0000000 & 1.0000000 & 1.0000000 & 1.0000000 & 1.0000000 & 1.0000000 & 1.0000000 & 1.0000000 & 1.0000000 & 1.0000000 & 1.0000000 & 1.0000000 & 1.0000000 & 1.0000000 & 1.0000000 & 1.0000000 & 1.0000000 & 1.0000000 & 1.0000000 & 1.0000000 & 1.0000000 & 1.0000000 & 1.0000000 & 1.0000000 & 1.0000000 & 1.0000000 & 1.0000000 & 1.0000000 & 1.0000000 & 1.0000000 & 1.0000000 & 1.0000000 & 1.0000000 & 1.0000000 & 1.0000000 & 1.0000000 & 1.0000000 & 1.0000000 & 1.0000000 & 1.0000000 & 1.0000000 & 1.0000000 & 1.0000000 & 1.0000000 & 1.0000000 & 1.0000000 & 1.0000000 & 1.0000000 & 1.0000000 & 1.0000000 & 1.0000000 & 1.0000000 & 1.0000000 & 1.0000000 & 1.0000000 & 1.0000000 & 1.0000000 & 1.0000000 & 1.0000000 & 1.0000000 & 1.0000000 & 1.0000000 & 1.0000000 & 1.0000000 & 1.0000000 & 1.0000000 & 1.0000000 & 1.0000000 & 1.0000000 & 1.0000000 & 1.0000000 & 1.0000000 & 1.0000000 & 1.0000000 & 1.0000000 & 1.0000000 & 1.0000000 & 1.0000000 & 1.0000000 & 1.0000000 & 1.0000000 & 1.0000000 & 1.0000000 & 1.0000000 & 1.0000000 & 1.0000000 & 1.0000000 & 1.0000000 & 1.0000000 & 1.0000000 & 1.0000000 & 1.0000000 & 1.0000000 & 1.0000000 & 1.0000000 & 1.0000000 & 1.0000000 & 1.0000000 & 1.0000000 & 1.0000000 & 1.0000000 & 1.0000000 & 1.0000000 & 1.0000000 & 1.0000000 & 1.0000000 & 1.0000000 & 1.0000000 & 1.0000000 & 1.0000000 & 1.0000000 & 1.0000000 & 1.0000000 & 1.0000000 & 1.0000000 & 1.0000000 & 1.0000000 & 1.0000000 & 1.0000000 & 1.0000000 & 1.0000000 & 1.0000000 & 1.0000000 & 1.0000000 & 1.0000000 & 1.0000000 & 1.0000000 & 1.0000000 & 1.0000000 & 1.0000000 & 1.0000000 & 1.0000000 & 1.0000000 & 1.0000000 & 1.0000000 & 1.0000000 & 1.0000000 & 1.0000000 & 1.0000000 & 1.0000000 & 1.0000000 & 1.0000000 & 1.0000000 & 1.0000000 & 1.0000000 & 1.0000000 & 1.0000000 & 1.0000000 & 1.0000000 & 1.0000000 & 1.0000000 & 1.0000000 & 1.0000000 & 1.0000000 & 1.0000000 & 1.0000000 & 1.0000000 & 1.0000000 & 1.0000000 & 1.0000000 & 1.0000000 & 1.0000000 & 1.0000000 & 1.0000000 & 1.0000000 & 1.0000000 & 1.0000000 & 1.0000000 & 1.0000000 & 1.0000000 & 1.0000000 & 1.0000000 & 1.0000000 & 1.0000000 & 1.0000000 & 1.0000000 & 1.0000000 & 1.0000000 & 1.0000000 &  1\\\\\n",
       "\t 1950.083 & 0.9999005 & 0.9999060 & 0.9998989 & 0.9998944 & 0.9998854 & 0.9998988 & 0.9999036 & 0.9999064 & 0.9998963 & 0.9998912 & 0.9998993 & 0.9999111 & 0.9999113 & 0.9999164 & 0.9998922 & 0.9998985 & 0.9999023 & 0.9999133 & 0.9998913 & 0.9999124 & 0.9999037 & 0.9999037 & 0.9998967 & 0.9998935 & 0.9999002 & 0.9998901 & 0.9999105 & 0.9998909 & 0.9998963 & 0.9999073 & 0.9998952 & 0.9998953 & 0.9999015 & 0.9999104 & 0.9999086 & 0.9999061 & 0.9999062 & 0.9998924 & 0.9998981 & 0.9998974 & 0.9998999 & 0.9998981 & 0.9998865 & 0.9998983 & 0.9998860 & 0.9999120 & 0.9998948 & 0.9998971 & 0.9999039 & 0.9998945 & 0.9999198 & 0.9999083 & 0.9999013 & 0.9999046 & 0.9999053 & 0.9998972 & 0.9999081 & 0.9999083 & 0.9998970 & 0.9998989 & 0.9998961 & 0.9998961 & 0.9999127 & 0.9998957 & 0.9998922 & 0.9999133 & 0.9999085 & 0.9999165 & 0.9998981 & 0.9998977 & 0.9999021 & 0.9999099 & 0.9999008 & 0.9998977 & 0.9998918 & 0.9998951 & 0.9998955 & 0.9999028 & 0.9998848 & 0.9999046 & 0.9999006 & 0.9999101 & 0.9999134 & 0.9999003 & 0.9999055 & 0.9998989 & 0.9998849 & 0.9998999 & 0.9998966 & 0.9998879 & 0.9998938 & 0.9999062 & 0.9999049 & 0.9999045 & 0.9999045 & 0.9998934 & 0.9999080 & 0.9999116 & 0.9998989 & 0.9998905 & 0.9999145 & 0.9998923 & 0.9999139 & 0.9998981 & 0.9999027 & 0.9999045 & 0.9999026 & 0.9999031 & 0.9998937 & 0.9998994 & 0.9998983 & 0.9999003 & 0.9999074 & 0.9999062 & 0.9998924 & 0.9998960 & 0.9999021 & 0.9999106 & 0.9999012 & 0.9999075 & 0.9999068 & 0.9999023 & 0.9999011 & 0.9998911 & 0.9998924 & 0.9998907 & 0.9999055 & 0.9998976 & 0.9998918 & 0.9998848 & 0.9999039 & 0.9999006 & 0.9998926 & 0.9999052 & 0.9999086 & 0.9999033 & 0.9999067 & 0.9999005 & 0.9999104 & 0.9998941 & 0.9998978 & 0.9999020 & 0.9999027 & 0.9998903 & 0.9999109 & 0.9999077 & 0.9998917 & 0.9999059 & 0.9998990 & 0.9999067 & 0.9998936 & 0.9998858 & 0.9999117 & 0.9998940 & 0.9998992 & 0.9999012 & 0.9999020 & 0.9999102 & 0.9998929 & 0.9998996 & 0.9998962 & 0.9998997 & 0.9998876 & 0.9999050 & 0.9999036 & 0.9999177 & 0.9999000 & 0.9998952 & 0.9998917 & 0.9998988 & 0.9999087 & 0.9999026 & 0.9999012 & 0.9999133 & 0.9998885 & 0.9999124 & 0.9998880 & 0.9998967 & 0.9999104 & 0.9999012 & 0.9998972 & 0.9998910 & 0.9999048 & 0.9999055 & 0.9998952 & 0.9998910 & 0.9998910 & 0.9999025 & 0.9999067 & 0.9998887 & 0.9998991 & 0.9998932 & 0.9998953 & 0.9999057 & 0.9998961 & 0.9998987 & 0.9998950 & 0.9998969 & 0.9999027 & 0.9998972 & 0.9999065 & 0.9999170 & 0.9999036 & 0.9999049 & 0.9999002 & 0.9999065 & 0.9999057 & 0.9998873 & 0.9999004 & 0.9998960 & 0.9998943 & 0.9998971 & 0.9998989 & 0.9998969 & 0.9998922 & 0.9998896 & 0.9998978 & 0.9999113 & 0.9998990 & 0.9998934 & 0.9999066 & 0.9999028 & 0.9998872 & 0.9998974 & 0.9999069 & 0.9999101 & 0.9999124 & 0.9998935 & 0.9999057 & 0.9999099 & 0.9998943 & 0.9998943 & 0.9999038 & 0.9999146 & 0.9998932 & 0.9999004 & 0.9998926 & 0.9999115 & 0.9999076 & 0.9998972 & 0.9998928 & 0.9998919 & 0.9998956 & 0.9999035 & 0.9999070 & 0.9998963 & 0.9999043 & 0.9998987 & 0.9998893 & 0.9999055 & 0.9999029 & 0.9999041 & 0.9998956 & 0.9999095 & 0.9998867 & 0.9999112 & 0.9998866 & 0.9999001 & 0.9998986 & 0.9999059 & 0.9998958 & 0.9999089 & 0.9999001 & 0.9999009 & 0.9999028 & 0.9999036 & 0.9999006 & 0.9998934 & 0.9998962 & 0.9999155 & 0.9998929 & 0.9998994 & 0.9999000 & 0.9998942 & 0.9999061 & 0.9999131 & 0.9998968 & 0.9999021 & 0.9998972 & 0.9999062 & 0.9999070 & 0.9998888 & 0.9998896 & 0.9999097 & 0.9998980 & 0.9999105 & 0.9999044 & 0.9999033 & 0.9998952 & 0.9999088 & 0.9999089 & 0.9998960 & 0.9999019 & 0.9999071 & 0.9998966 & 0.9998965 & 0.9998901 & 0.9999056 & 0.9999118 & 0.9999070 & 0.9998913 & 0.9999126 & 0.9999117 & 0.9999090 & 0.9998993 & 0.9999053 & 0.9998980 & 0.9998848 & 0.9999014 & 0.9999036 & 0.9999092 & 0.9998991 & 0.9998866 & 0.9998847 & 0.9999087 & 0.9999136 & 0.9998937 & 0.9999034 & 0.9999073 & 0.9998858 & 0.9999085 & 0.9998918 & 0.9998960 & 0.9998963 & 0.9999067 & 0.9998999 & 0.9999158 & 0.9999057 & 0.9999064 & 0.9998970 & 0.9999042 & 0.9999000 & 0.9999020 & 0.9998998 & 0.9999025 & 0.9999017 & 0.9999061 & 0.9999169 & 0.9998887 & 0.9998928 & 0.9998987 & 0.9998987 & 0.9999110 & 0.9998996 & 0.9998973 & 0.9998893 & 0.9999056 & 0.9999213 & 0.9998997 & 0.9999003 & 0.9999040 & 0.9999008 & 0.9999006 & 0.9998974 & 0.9998984 & 0.9999080 & 0.9999128 & 0.9998922 & 0.9999085 & 0.9998914 & 0.9998966 & 0.9998867 & 0.9998928 & 0.9998929 & 0.9999093 & 0.9999097 & 0.9998931 & 0.9999076 & 0.9999086 & 0.9999019 & 0.9998921 & 0.9998962 & 0.9999094 & 0.9999074 & 0.9998928 & 0.9999022 & 0.9999102 & 0.9998979 & 0.9998953 & 0.9999045 & 0.9999076 & 0.9998973 & 0.9998962 & 0.9998893 & 0.9999109 & 0.9999033 & 0.9998918 & 0.9998990 & 0.9999031 & 0.9998988 & 0.9998924 & 0.9999006 & 0.9998975 & 0.9998952 & 0.9999101 & 0.9999005 & 0.9999029 & 0.9999024 & 0.9999005 & 0.9999024 & 0.9998872 & 0.9999006 & 0.9998935 & 0.9998953 & 0.9998980 & 0.9999093 & 0.9999002 & 0.9999018 & 0.9999081 & 0.9998930 & 0.9998963 & 0.9999158 & 0.9999120 & 0.9998954 & 0.9998901 & 0.9998988 & 0.9999020 & 0.9999071 & 0.9998981 & 0.9998910 & 0.9999164 & 0.9998916 & 0.9998981 & 0.9998993 & 0.9998957 & 0.9998912 & 0.9999125 & 0.9998908 & 0.9998948 & 0.9999040 & 0.9999201 & 0.9999021 & 0.9999058 & 0.9998903 & 0.9998918 & 0.9999007 & 0.9998905 & 0.9998949 & 0.9998972 & 0.9998870 & 0.9999007 & 0.9998980 & 0.9999111 & 0.9999144 & 0.9998845 & 0.9999030 & 0.9999064 & 0.9999020 & 0.9999024 & 0.9999149 & 0.9999075 & 0.9999009 & 0.9998886 & 0.9998984 & 0.9998995 & 0.9998994 & 0.9998980 & 0.9999067 & 0.9998935 & 0.9998862 & 0.9999073 & 0.9998936 & 0.9999075 & 0.9999031 & 0.9999098 & 0.9999031 & 0.9998845 & 0.9999066 & 0.9999040 & 0.9999017 & 0.9998983 & 0.9999070 & 0.9999043 & 0.9998933 & 0.9998978 & 0.9999017 & 0.9998956 & 0.9999021 & 0.9999077 & 0.9998996 & 0.9998945 & 0.9998962 & 0.9999037 & 0.9998864 & 0.9999121 & 0.9999027 & 0.9998968 & 0.9999107 & 0.9998893 & 0.9999014 & 0.9999012 & 0.9998980 & 0.9999005 & 0.9999069 & 0.9998999 & 0.9998958 & 0.9998930 & 0.9999051 & 0.9999020 & 0.9998998 & NA\\\\\n",
       "\t 1950.167 & 0.9997990 & 0.9998100 & 0.9997958 & 0.9997867 & 0.9997683 & 0.9997955 & 0.9998052 & 0.9998106 & 0.9997905 & 0.9997799 & 0.9997966 & 0.9998203 & 0.9998205 & 0.9998310 & 0.9997823 & 0.9997949 & 0.9998026 & 0.9998248 & 0.9997804 & 0.9998229 & 0.9998055 & 0.9998054 & 0.9997913 & 0.9997846 & 0.9997982 & 0.9997782 & 0.9998193 & 0.9997797 & 0.9997906 & 0.9998124 & 0.9997882 & 0.9997884 & 0.9998008 & 0.9998188 & 0.9998151 & 0.9998102 & 0.9998105 & 0.9997824 & 0.9997941 & 0.9997927 & 0.9997977 & 0.9997941 & 0.9997706 & 0.9997944 & 0.9997697 & 0.9998221 & 0.9997874 & 0.9997921 & 0.9998057 & 0.9997870 & 0.9998378 & 0.9998147 & 0.9998005 & 0.9998072 & 0.9998087 & 0.9997925 & 0.9998143 & 0.9998147 & 0.9997918 & 0.9997956 & 0.9997902 & 0.9997900 & 0.9998236 & 0.9997892 & 0.9997823 & 0.9998248 & 0.9998151 & 0.9998310 & 0.9997941 & 0.9997932 & 0.9998023 & 0.9998178 & 0.9997994 & 0.9997932 & 0.9997815 & 0.9997880 & 0.9997889 & 0.9998037 & 0.9997671 & 0.9998073 & 0.9997991 & 0.9998184 & 0.9998248 & 0.9997985 & 0.9998091 & 0.9997957 & 0.9997675 & 0.9997976 & 0.9997912 & 0.9997733 & 0.9997855 & 0.9998103 & 0.9998078 & 0.9998068 & 0.9998071 & 0.9997846 & 0.9998139 & 0.9998214 & 0.9997956 & 0.9997786 & 0.9998270 & 0.9997823 & 0.9998260 & 0.9997940 & 0.9998033 & 0.9998070 & 0.9998031 & 0.9998042 & 0.9997851 & 0.9997968 & 0.9997942 & 0.9997985 & 0.9998128 & 0.9998105 & 0.9997825 & 0.9997900 & 0.9998022 & 0.9998192 & 0.9998004 & 0.9998129 & 0.9998115 & 0.9998026 & 0.9998001 & 0.9997798 & 0.9997824 & 0.9997791 & 0.9998090 & 0.9997930 & 0.9997815 & 0.9997671 & 0.9998057 & 0.9997991 & 0.9997829 & 0.9998084 & 0.9998153 & 0.9998046 & 0.9998114 & 0.9997990 & 0.9998189 & 0.9997861 & 0.9997936 & 0.9998018 & 0.9998033 & 0.9997783 & 0.9998199 & 0.9998133 & 0.9997813 & 0.9998097 & 0.9997959 & 0.9998115 & 0.9997849 & 0.9997692 & 0.9998214 & 0.9997857 & 0.9997963 & 0.9998003 & 0.9998019 & 0.9998183 & 0.9997836 & 0.9997970 & 0.9997901 & 0.9997975 & 0.9997728 & 0.9998081 & 0.9998053 & 0.9998334 & 0.9997980 & 0.9997881 & 0.9997811 & 0.9997954 & 0.9998155 & 0.9998031 & 0.9998005 & 0.9998247 & 0.9997749 & 0.9998230 & 0.9997739 & 0.9997913 & 0.9998189 & 0.9998004 & 0.9997924 & 0.9997797 & 0.9998076 & 0.9998089 & 0.9997883 & 0.9997799 & 0.9997798 & 0.9998029 & 0.9998114 & 0.9997752 & 0.9997963 & 0.9997841 & 0.9997886 & 0.9998094 & 0.9997901 & 0.9997954 & 0.9997879 & 0.9997917 & 0.9998033 & 0.9997925 & 0.9998111 & 0.9998322 & 0.9998052 & 0.9998078 & 0.9997982 & 0.9998112 & 0.9998094 & 0.9997723 & 0.9997987 & 0.9997898 & 0.9997864 & 0.9997921 & 0.9997956 & 0.9997916 & 0.9997821 & 0.9997771 & 0.9997935 & 0.9998208 & 0.9997957 & 0.9997845 & 0.9998112 & 0.9998037 & 0.9997722 & 0.9997926 & 0.9998116 & 0.9998180 & 0.9998229 & 0.9997849 & 0.9998094 & 0.9998179 & 0.9997862 & 0.9997863 & 0.9998055 & 0.9998273 & 0.9997843 & 0.9997986 & 0.9997830 & 0.9998209 & 0.9998133 & 0.9997924 & 0.9997833 & 0.9997815 & 0.9997888 & 0.9998050 & 0.9998118 & 0.9997905 & 0.9998063 & 0.9997954 & 0.9997764 & 0.9998089 & 0.9998037 & 0.9998062 & 0.9997891 & 0.9998171 & 0.9997711 & 0.9998202 & 0.9997706 & 0.9997981 & 0.9997951 & 0.9998099 & 0.9997895 & 0.9998158 & 0.9997981 & 0.9997995 & 0.9998037 & 0.9998053 & 0.9997991 & 0.9997846 & 0.9997901 & 0.9998290 & 0.9997837 & 0.9997966 & 0.9997977 & 0.9997863 & 0.9998102 & 0.9998243 & 0.9997915 & 0.9998022 & 0.9997925 & 0.9998104 & 0.9998119 & 0.9997752 & 0.9997768 & 0.9998175 & 0.9997937 & 0.9998191 & 0.9998068 & 0.9998046 & 0.9997882 & 0.9998155 & 0.9998159 & 0.9997898 & 0.9998017 & 0.9998122 & 0.9997910 & 0.9997910 & 0.9997779 & 0.9998094 & 0.9998217 & 0.9998118 & 0.9997805 & 0.9998234 & 0.9998214 & 0.9998161 & 0.9997965 & 0.9998086 & 0.9997941 & 0.9997672 & 0.9998006 & 0.9998050 & 0.9998163 & 0.9997963 & 0.9997709 & 0.9997671 & 0.9998153 & 0.9998252 & 0.9997851 & 0.9998046 & 0.9998125 & 0.9997692 & 0.9998151 & 0.9997813 & 0.9997897 & 0.9997905 & 0.9998114 & 0.9997977 & 0.9998296 & 0.9998093 & 0.9998108 & 0.9997919 & 0.9998065 & 0.9997980 & 0.9998019 & 0.9997975 & 0.9998030 & 0.9998013 & 0.9998101 & 0.9998318 & 0.9997752 & 0.9997833 & 0.9997954 & 0.9997953 & 0.9998199 & 0.9997972 & 0.9997925 & 0.9997764 & 0.9998094 & 0.9998407 & 0.9997974 & 0.9997986 & 0.9998061 & 0.9997994 & 0.9997991 & 0.9997925 & 0.9997947 & 0.9998141 & 0.9998236 & 0.9997822 & 0.9998149 & 0.9997805 & 0.9997913 & 0.9997711 & 0.9997833 & 0.9997835 & 0.9998167 & 0.9998174 & 0.9997841 & 0.9998133 & 0.9998153 & 0.9998016 & 0.9997820 & 0.9997903 & 0.9998168 & 0.9998127 & 0.9997834 & 0.9998022 & 0.9998184 & 0.9997938 & 0.9997885 & 0.9998070 & 0.9998134 & 0.9997925 & 0.9997901 & 0.9997762 & 0.9998200 & 0.9998046 & 0.9997814 & 0.9997961 & 0.9998043 & 0.9997956 & 0.9997824 & 0.9997991 & 0.9997928 & 0.9997881 & 0.9998181 & 0.9997990 & 0.9998037 & 0.9998028 & 0.9997988 & 0.9998029 & 0.9997722 & 0.9997991 & 0.9997848 & 0.9997883 & 0.9997939 & 0.9998165 & 0.9997982 & 0.9998016 & 0.9998143 & 0.9997838 & 0.9997905 & 0.9998299 & 0.9998221 & 0.9997887 & 0.9997779 & 0.9997955 & 0.9998019 & 0.9998122 & 0.9997942 & 0.9997799 & 0.9998309 & 0.9997809 & 0.9997942 & 0.9997965 & 0.9997892 & 0.9997802 & 0.9998230 & 0.9997794 & 0.9997874 & 0.9998060 & 0.9998383 & 0.9998020 & 0.9998095 & 0.9997784 & 0.9997814 & 0.9997992 & 0.9997789 & 0.9997877 & 0.9997922 & 0.9997718 & 0.9997993 & 0.9997938 & 0.9998202 & 0.9998268 & 0.9997666 & 0.9998039 & 0.9998108 & 0.9998016 & 0.9998029 & 0.9998281 & 0.9998129 & 0.9997995 & 0.9997749 & 0.9997948 & 0.9997968 & 0.9997967 & 0.9997939 & 0.9998115 & 0.9997848 & 0.9997700 & 0.9998127 & 0.9997849 & 0.9998131 & 0.9998040 & 0.9998176 & 0.9998041 & 0.9997667 & 0.9998113 & 0.9998059 & 0.9998012 & 0.9997945 & 0.9998117 & 0.9998063 & 0.9997845 & 0.9997934 & 0.9998012 & 0.9997890 & 0.9998022 & 0.9998132 & 0.9997969 & 0.9997868 & 0.9997901 & 0.9998053 & 0.9997705 & 0.9998222 & 0.9998034 & 0.9997913 & 0.9998196 & 0.9997763 & 0.9998008 & 0.9998004 & 0.9997937 & 0.9997987 & 0.9998118 & 0.9997977 & 0.9997895 & 0.9997835 & 0.9998083 & 0.9998021 & 0.9997976 & NA\\\\\n",
       "\t 1950.250 & 0.9996979 & 0.9997144 & 0.9996929 & 0.9996794 & 0.9996517 & 0.9996926 & 0.9997073 & 0.9997153 & 0.9996850 & 0.9996692 & 0.9996941 & 0.9997300 & 0.9997303 & 0.9997459 & 0.9996728 & 0.9996918 & 0.9997034 & 0.9997366 & 0.9996698 & 0.9997337 & 0.9997077 & 0.9997075 & 0.9996863 & 0.9996763 & 0.9996969 & 0.9996665 & 0.9997283 & 0.9996688 & 0.9996852 & 0.9997181 & 0.9996816 & 0.9996819 & 0.9997007 & 0.9997277 & 0.9997221 & 0.9997148 & 0.9997152 & 0.9996729 & 0.9996905 & 0.9996883 & 0.9996960 & 0.9996904 & 0.9996550 & 0.9996909 & 0.9996538 & 0.9997326 & 0.9996805 & 0.9996874 & 0.9997079 & 0.9996796 & 0.9997563 & 0.9997214 & 0.9997001 & 0.9997103 & 0.9997125 & 0.9996880 & 0.9997209 & 0.9997216 & 0.9996871 & 0.9996927 & 0.9996846 & 0.9996843 & 0.9997349 & 0.9996831 & 0.9996727 & 0.9997365 & 0.9997221 & 0.9997460 & 0.9996905 & 0.9996892 & 0.9997028 & 0.9997261 & 0.9996986 & 0.9996893 & 0.9996713 & 0.9996813 & 0.9996826 & 0.9997050 & 0.9996499 & 0.9997104 & 0.9996982 & 0.9997270 & 0.9997367 & 0.9996971 & 0.9997131 & 0.9996929 & 0.9996505 & 0.9996958 & 0.9996861 & 0.9996592 & 0.9996775 & 0.9997149 & 0.9997112 & 0.9997097 & 0.9997100 & 0.9996763 & 0.9997202 & 0.9997315 & 0.9996929 & 0.9996673 & 0.9997401 & 0.9996728 & 0.9997385 & 0.9996904 & 0.9997042 & 0.9997100 & 0.9997041 & 0.9997057 & 0.9996769 & 0.9996945 & 0.9996907 & 0.9996971 & 0.9997185 & 0.9997151 & 0.9996730 & 0.9996844 & 0.9997026 & 0.9997283 & 0.9997000 & 0.9997188 & 0.9997167 & 0.9997033 & 0.9996997 & 0.9996689 & 0.9996729 & 0.9996679 & 0.9997129 & 0.9996888 & 0.9996714 & 0.9996499 & 0.9997081 & 0.9996982 & 0.9996737 & 0.9997121 & 0.9997224 & 0.9997063 & 0.9997165 & 0.9996978 & 0.9997278 & 0.9996784 & 0.9996897 & 0.9997022 & 0.9997044 & 0.9996668 & 0.9997293 & 0.9997194 & 0.9996712 & 0.9997140 & 0.9996932 & 0.9997166 & 0.9996766 & 0.9996530 & 0.9997316 & 0.9996778 & 0.9996939 & 0.9996998 & 0.9997022 & 0.9997271 & 0.9996746 & 0.9996950 & 0.9996845 & 0.9996956 & 0.9996586 & 0.9997116 & 0.9997073 & 0.9997497 & 0.9996964 & 0.9996814 & 0.9996710 & 0.9996925 & 0.9997227 & 0.9997041 & 0.9997001 & 0.9997366 & 0.9996616 & 0.9997340 & 0.9996600 & 0.9996864 & 0.9997279 & 0.9996998 & 0.9996880 & 0.9996688 & 0.9997107 & 0.9997128 & 0.9996817 & 0.9996691 & 0.9996689 & 0.9997038 & 0.9997165 & 0.9996620 & 0.9996937 & 0.9996755 & 0.9996822 & 0.9997135 & 0.9996845 & 0.9996924 & 0.9996811 & 0.9996869 & 0.9997042 & 0.9996880 & 0.9997160 & 0.9997479 & 0.9997073 & 0.9997111 & 0.9996966 & 0.9997162 & 0.9997136 & 0.9996576 & 0.9996974 & 0.9996840 & 0.9996788 & 0.9996874 & 0.9996927 & 0.9996868 & 0.9996725 & 0.9996648 & 0.9996896 & 0.9997307 & 0.9996929 & 0.9996761 & 0.9997163 & 0.9997050 & 0.9996575 & 0.9996883 & 0.9997171 & 0.9997265 & 0.9997339 & 0.9996766 & 0.9997136 & 0.9997263 & 0.9996787 & 0.9996787 & 0.9997076 & 0.9997406 & 0.9996757 & 0.9996973 & 0.9996738 & 0.9997309 & 0.9997193 & 0.9996880 & 0.9996742 & 0.9996716 & 0.9996826 & 0.9997069 & 0.9997172 & 0.9996851 & 0.9997090 & 0.9996924 & 0.9996637 & 0.9997128 & 0.9997048 & 0.9997088 & 0.9996830 & 0.9997252 & 0.9996558 & 0.9997300 & 0.9996552 & 0.9996966 & 0.9996918 & 0.9997143 & 0.9996834 & 0.9997232 & 0.9996966 & 0.9996988 & 0.9997049 & 0.9997073 & 0.9996982 & 0.9996761 & 0.9996844 & 0.9997430 & 0.9996748 & 0.9996943 & 0.9996960 & 0.9996787 & 0.9997147 & 0.9997360 & 0.9996865 & 0.9997027 & 0.9996879 & 0.9997149 & 0.9997173 & 0.9996620 & 0.9996644 & 0.9997257 & 0.9996900 & 0.9997280 & 0.9997096 & 0.9997062 & 0.9996816 & 0.9997228 & 0.9997234 & 0.9996842 & 0.9997020 & 0.9997178 & 0.9996858 & 0.9996856 & 0.9996662 & 0.9997134 & 0.9997321 & 0.9997173 & 0.9996700 & 0.9997346 & 0.9997317 & 0.9997236 & 0.9996940 & 0.9997124 & 0.9996904 & 0.9996499 & 0.9997004 & 0.9997069 & 0.9997239 & 0.9996939 & 0.9996554 & 0.9996499 & 0.9997225 & 0.9997374 & 0.9996770 & 0.9997063 & 0.9997184 & 0.9996530 & 0.9997221 & 0.9996713 & 0.9996840 & 0.9996850 & 0.9997166 & 0.9996960 & 0.9997440 & 0.9997133 & 0.9997156 & 0.9996871 & 0.9997092 & 0.9996964 & 0.9997022 & 0.9996956 & 0.9997039 & 0.9997013 & 0.9997147 & 0.9997473 & 0.9996619 & 0.9996742 & 0.9996924 & 0.9996922 & 0.9997295 & 0.9996952 & 0.9996880 & 0.9996637 & 0.9997135 & 0.9997606 & 0.9996954 & 0.9996972 & 0.9997085 & 0.9996985 & 0.9996979 & 0.9996883 & 0.9996915 & 0.9997206 & 0.9997349 & 0.9996725 & 0.9997219 & 0.9996701 & 0.9996861 & 0.9996558 & 0.9996743 & 0.9996745 & 0.9997245 & 0.9997256 & 0.9996754 & 0.9997193 & 0.9997225 & 0.9997019 & 0.9996722 & 0.9996847 & 0.9997247 & 0.9997185 & 0.9996744 & 0.9997027 & 0.9997271 & 0.9996899 & 0.9996821 & 0.9997099 & 0.9997194 & 0.9996881 & 0.9996843 & 0.9996636 & 0.9997295 & 0.9997064 & 0.9996714 & 0.9996935 & 0.9997057 & 0.9996928 & 0.9996729 & 0.9996980 & 0.9996886 & 0.9996816 & 0.9997266 & 0.9996979 & 0.9997049 & 0.9997036 & 0.9996976 & 0.9997036 & 0.9996575 & 0.9996980 & 0.9996765 & 0.9996819 & 0.9996904 & 0.9997244 & 0.9996966 & 0.9997019 & 0.9997211 & 0.9996750 & 0.9996850 & 0.9997444 & 0.9997326 & 0.9996824 & 0.9996661 & 0.9996926 & 0.9997022 & 0.9997178 & 0.9996907 & 0.9996692 & 0.9997458 & 0.9996706 & 0.9996906 & 0.9996941 & 0.9996831 & 0.9996695 & 0.9997341 & 0.9996683 & 0.9996805 & 0.9997084 & 0.9997571 & 0.9997024 & 0.9997137 & 0.9996669 & 0.9996713 & 0.9996983 & 0.9996675 & 0.9996808 & 0.9996877 & 0.9996569 & 0.9996984 & 0.9996900 & 0.9997299 & 0.9997398 & 0.9996492 & 0.9997054 & 0.9997156 & 0.9997019 & 0.9997037 & 0.9997417 & 0.9997188 & 0.9996988 & 0.9996614 & 0.9996915 & 0.9996947 & 0.9996944 & 0.9996902 & 0.9997166 & 0.9996764 & 0.9996542 & 0.9997185 & 0.9996766 & 0.9997191 & 0.9997055 & 0.9997260 & 0.9997056 & 0.9996493 & 0.9997164 & 0.9997084 & 0.9997011 & 0.9996911 & 0.9997171 & 0.9997090 & 0.9996761 & 0.9996894 & 0.9997013 & 0.9996828 & 0.9997026 & 0.9997193 & 0.9996946 & 0.9996794 & 0.9996846 & 0.9997074 & 0.9996549 & 0.9997328 & 0.9997046 & 0.9996864 & 0.9997288 & 0.9996637 & 0.9997005 & 0.9997001 & 0.9996899 & 0.9996976 & 0.9997172 & 0.9996960 & 0.9996835 & 0.9996746 & 0.9997118 & 0.9997024 & 0.9996957 & NA\\\\\n",
       "\t 1950.333 & 0.9995965 & 0.9996187 & 0.9995899 & 0.9995719 & 0.9995349 & 0.9995894 & 0.9996094 & 0.9996201 & 0.9995795 & 0.9995583 & 0.9995915 & 0.9996397 & 0.9996402 & 0.9996609 & 0.9995628 & 0.9995884 & 0.9996041 & 0.9996484 & 0.9995590 & 0.9996446 & 0.9996098 & 0.9996095 & 0.9995811 & 0.9995680 & 0.9995953 & 0.9995547 & 0.9996374 & 0.9995577 & 0.9995796 & 0.9996239 & 0.9995749 & 0.9995754 & 0.9996005 & 0.9996365 & 0.9996290 & 0.9996194 & 0.9996197 & 0.9995633 & 0.9995867 & 0.9995836 & 0.9995942 & 0.9995866 & 0.9995392 & 0.9995873 & 0.9995376 & 0.9996431 & 0.9995733 & 0.9995826 & 0.9996101 & 0.9995721 & 0.9996747 & 0.9996282 & 0.9995996 & 0.9996132 & 0.9996161 & 0.9995834 & 0.9996275 & 0.9996284 & 0.9995822 & 0.9995898 & 0.9995787 & 0.9995785 & 0.9996461 & 0.9995769 & 0.9995629 & 0.9996482 & 0.9996290 & 0.9996610 & 0.9995867 & 0.9995849 & 0.9996032 & 0.9996344 & 0.9995977 & 0.9995852 & 0.9995610 & 0.9995744 & 0.9995760 & 0.9996061 & 0.9995324 & 0.9996133 & 0.9995970 & 0.9996355 & 0.9996486 & 0.9995956 & 0.9996170 & 0.9995900 & 0.9995332 & 0.9995940 & 0.9995808 & 0.9995450 & 0.9995692 & 0.9996194 & 0.9996144 & 0.9996126 & 0.9996129 & 0.9995678 & 0.9996265 & 0.9996417 & 0.9995902 & 0.9995559 & 0.9996532 & 0.9995631 & 0.9996510 & 0.9995868 & 0.9996052 & 0.9996127 & 0.9996051 & 0.9996072 & 0.9995686 & 0.9995920 & 0.9995873 & 0.9995956 & 0.9996243 & 0.9996198 & 0.9995632 & 0.9995786 & 0.9996030 & 0.9996372 & 0.9995995 & 0.9996247 & 0.9996219 & 0.9996039 & 0.9995991 & 0.9995579 & 0.9995632 & 0.9995564 & 0.9996169 & 0.9995846 & 0.9995611 & 0.9995325 & 0.9996103 & 0.9995970 & 0.9995641 & 0.9996158 & 0.9996294 & 0.9996080 & 0.9996216 & 0.9995964 & 0.9996367 & 0.9995705 & 0.9995856 & 0.9996025 & 0.9996055 & 0.9995551 & 0.9996386 & 0.9996254 & 0.9995609 & 0.9996182 & 0.9995903 & 0.9996217 & 0.9995685 & 0.9995366 & 0.9996418 & 0.9995700 & 0.9995913 & 0.9995993 & 0.9996025 & 0.9996359 & 0.9995654 & 0.9995928 & 0.9995788 & 0.9995934 & 0.9995440 & 0.9996150 & 0.9996092 & 0.9996660 & 0.9995947 & 0.9995745 & 0.9995608 & 0.9995893 & 0.9996300 & 0.9996051 & 0.9995996 & 0.9996485 & 0.9995479 & 0.9996450 & 0.9995458 & 0.9995812 & 0.9996369 & 0.9995991 & 0.9995832 & 0.9995577 & 0.9996138 & 0.9996168 & 0.9995749 & 0.9995579 & 0.9995580 & 0.9996045 & 0.9996216 & 0.9995487 & 0.9995909 & 0.9995667 & 0.9995756 & 0.9996176 & 0.9995787 & 0.9995893 & 0.9995742 & 0.9995819 & 0.9996052 & 0.9995833 & 0.9996209 & 0.9996636 & 0.9996093 & 0.9996144 & 0.9995949 & 0.9996212 & 0.9996178 & 0.9995427 & 0.9995959 & 0.9995781 & 0.9995710 & 0.9995826 & 0.9995897 & 0.9995817 & 0.9995627 & 0.9995523 & 0.9995856 & 0.9996405 & 0.9995901 & 0.9995676 & 0.9996213 & 0.9996061 & 0.9995424 & 0.9995838 & 0.9996225 & 0.9996350 & 0.9996449 & 0.9995682 & 0.9996176 & 0.9996347 & 0.9995711 & 0.9995710 & 0.9996096 & 0.9996539 & 0.9995670 & 0.9995960 & 0.9995643 & 0.9996409 & 0.9996254 & 0.9995834 & 0.9995649 & 0.9995615 & 0.9995762 & 0.9996089 & 0.9996226 & 0.9995797 & 0.9996117 & 0.9995893 & 0.9995509 & 0.9996166 & 0.9996059 & 0.9996111 & 0.9995766 & 0.9996331 & 0.9995403 & 0.9996398 & 0.9995397 & 0.9995950 & 0.9995884 & 0.9996186 & 0.9995772 & 0.9996305 & 0.9995949 & 0.9995979 & 0.9996060 & 0.9996092 & 0.9995971 & 0.9995673 & 0.9995786 & 0.9996570 & 0.9995657 & 0.9995918 & 0.9995942 & 0.9995710 & 0.9996191 & 0.9996476 & 0.9995813 & 0.9996030 & 0.9995832 & 0.9996194 & 0.9996226 & 0.9995486 & 0.9995518 & 0.9996337 & 0.9995862 & 0.9996370 & 0.9996124 & 0.9996077 & 0.9995748 & 0.9996301 & 0.9996307 & 0.9995782 & 0.9996023 & 0.9996231 & 0.9995805 & 0.9995802 & 0.9995542 & 0.9996173 & 0.9996426 & 0.9996227 & 0.9995592 & 0.9996457 & 0.9996419 & 0.9996310 & 0.9995915 & 0.9996162 & 0.9995865 & 0.9995323 & 0.9996001 & 0.9996089 & 0.9996315 & 0.9995912 & 0.9995397 & 0.9995323 & 0.9996297 & 0.9996496 & 0.9995688 & 0.9996079 & 0.9996242 & 0.9995365 & 0.9996290 & 0.9995611 & 0.9995782 & 0.9995794 & 0.9996217 & 0.9995942 & 0.9996584 & 0.9996173 & 0.9996203 & 0.9995822 & 0.9996117 & 0.9995947 & 0.9996024 & 0.9995937 & 0.9996048 & 0.9996012 & 0.9996191 & 0.9996628 & 0.9995484 & 0.9995649 & 0.9995893 & 0.9995889 & 0.9996390 & 0.9995930 & 0.9995835 & 0.9995508 & 0.9996175 & 0.9996805 & 0.9995935 & 0.9995957 & 0.9996108 & 0.9995975 & 0.9995967 & 0.9995838 & 0.9995881 & 0.9996269 & 0.9996463 & 0.9995627 & 0.9996288 & 0.9995594 & 0.9995809 & 0.9995404 & 0.9995651 & 0.9995654 & 0.9996323 & 0.9996338 & 0.9995664 & 0.9996253 & 0.9996296 & 0.9996021 & 0.9995622 & 0.9995791 & 0.9996325 & 0.9996243 & 0.9995652 & 0.9996033 & 0.9996359 & 0.9995859 & 0.9995753 & 0.9996127 & 0.9996255 & 0.9995834 & 0.9995785 & 0.9995508 & 0.9996388 & 0.9996080 & 0.9995611 & 0.9995906 & 0.9996071 & 0.9995897 & 0.9995632 & 0.9995968 & 0.9995844 & 0.9995749 & 0.9996351 & 0.9995965 & 0.9996060 & 0.9996043 & 0.9995963 & 0.9996043 & 0.9995426 & 0.9995968 & 0.9995681 & 0.9995754 & 0.9995865 & 0.9996322 & 0.9995949 & 0.9996021 & 0.9996278 & 0.9995658 & 0.9995795 & 0.9996588 & 0.9996430 & 0.9995759 & 0.9995542 & 0.9995897 & 0.9996023 & 0.9996233 & 0.9995871 & 0.9995583 & 0.9996608 & 0.9995601 & 0.9995868 & 0.9995916 & 0.9995769 & 0.9995586 & 0.9996452 & 0.9995572 & 0.9995733 & 0.9996106 & 0.9996759 & 0.9996027 & 0.9996179 & 0.9995551 & 0.9995611 & 0.9995974 & 0.9995559 & 0.9995738 & 0.9995830 & 0.9995418 & 0.9995974 & 0.9995860 & 0.9996396 & 0.9996528 & 0.9995316 & 0.9996067 & 0.9996203 & 0.9996021 & 0.9996044 & 0.9996552 & 0.9996247 & 0.9995979 & 0.9995480 & 0.9995880 & 0.9995924 & 0.9995921 & 0.9995865 & 0.9996217 & 0.9995679 & 0.9995382 & 0.9996241 & 0.9995683 & 0.9996250 & 0.9996069 & 0.9996342 & 0.9996069 & 0.9995317 & 0.9996215 & 0.9996107 & 0.9996009 & 0.9995876 & 0.9996225 & 0.9996116 & 0.9995674 & 0.9995854 & 0.9996012 & 0.9995763 & 0.9996030 & 0.9996253 & 0.9995923 & 0.9995720 & 0.9995790 & 0.9996094 & 0.9995391 & 0.9996435 & 0.9996057 & 0.9995814 & 0.9996379 & 0.9995508 & 0.9996002 & 0.9995995 & 0.9995860 & 0.9995963 & 0.9996225 & 0.9995942 & 0.9995774 & 0.9995655 & 0.9996153 & 0.9996026 & 0.9995937 & NA\\\\\n",
       "\t 1950.417 & 0.9994949 & 0.9995228 & 0.9994864 & 0.9994638 & 0.9994177 & 0.9994859 & 0.9995112 & 0.9995246 & 0.9994736 & 0.9994470 & 0.9994885 & 0.9995492 & 0.9995499 & 0.9995758 & 0.9994525 & 0.9994848 & 0.9995046 & 0.9995600 & 0.9994478 & 0.9995553 & 0.9995116 & 0.9995113 & 0.9994755 & 0.9994593 & 0.9994937 & 0.9994425 & 0.9995461 & 0.9994461 & 0.9994737 & 0.9995295 & 0.9994679 & 0.9994683 & 0.9995000 & 0.9995452 & 0.9995358 & 0.9995237 & 0.9995241 & 0.9994532 & 0.9994825 & 0.9994785 & 0.9994920 & 0.9994825 & 0.9994230 & 0.9994835 & 0.9994208 & 0.9995533 & 0.9994658 & 0.9994774 & 0.9995119 & 0.9994640 & 0.9995930 & 0.9995347 & 0.9994988 & 0.9995158 & 0.9995196 & 0.9994783 & 0.9995338 & 0.9995348 & 0.9994770 & 0.9994866 & 0.9994724 & 0.9994724 & 0.9995570 & 0.9994702 & 0.9994527 & 0.9995597 & 0.9995357 & 0.9995759 & 0.9994825 & 0.9994802 & 0.9995033 & 0.9995427 & 0.9994965 & 0.9994810 & 0.9994501 & 0.9994670 & 0.9994690 & 0.9995070 & 0.9994145 & 0.9995159 & 0.9994956 & 0.9995438 & 0.9995603 & 0.9994938 & 0.9995206 & 0.9994869 & 0.9994153 & 0.9994919 & 0.9994753 & 0.9994302 & 0.9994604 & 0.9995238 & 0.9995172 & 0.9995152 & 0.9995154 & 0.9994591 & 0.9995326 & 0.9995515 & 0.9994872 & 0.9994441 & 0.9995662 & 0.9994529 & 0.9995632 & 0.9994829 & 0.9995057 & 0.9995153 & 0.9995059 & 0.9995085 & 0.9994600 & 0.9994893 & 0.9994836 & 0.9994939 & 0.9995298 & 0.9995242 & 0.9994530 & 0.9994724 & 0.9995030 & 0.9995459 & 0.9994985 & 0.9995305 & 0.9995267 & 0.9995042 & 0.9994982 & 0.9994467 & 0.9994531 & 0.9994445 & 0.9995205 & 0.9994799 & 0.9994502 & 0.9994146 & 0.9995123 & 0.9994954 & 0.9994541 & 0.9995192 & 0.9995362 & 0.9995094 & 0.9995266 & 0.9994947 & 0.9995455 & 0.9994622 & 0.9994813 & 0.9995026 & 0.9995063 & 0.9994430 & 0.9995477 & 0.9995312 & 0.9994501 & 0.9995223 & 0.9994871 & 0.9995264 & 0.9994600 & 0.9994200 & 0.9995518 & 0.9994619 & 0.9994884 & 0.9994985 & 0.9995024 & 0.9995446 & 0.9994557 & 0.9994903 & 0.9994727 & 0.9994909 & 0.9994291 & 0.9995180 & 0.9995107 & 0.9995822 & 0.9994926 & 0.9994673 & 0.9994500 & 0.9994859 & 0.9995371 & 0.9995056 & 0.9994987 & 0.9995602 & 0.9994336 & 0.9995559 & 0.9994313 & 0.9994758 & 0.9995456 & 0.9994981 & 0.9994780 & 0.9994462 & 0.9995165 & 0.9995206 & 0.9994677 & 0.9994462 & 0.9994467 & 0.9995049 & 0.9995264 & 0.9994349 & 0.9994879 & 0.9994575 & 0.9994684 & 0.9995215 & 0.9994724 & 0.9994857 & 0.9994671 & 0.9994766 & 0.9995058 & 0.9994783 & 0.9995255 & 0.9995791 & 0.9995109 & 0.9995175 & 0.9994928 & 0.9995258 & 0.9995217 & 0.9994272 & 0.9994941 & 0.9994717 & 0.9994628 & 0.9994774 & 0.9994863 & 0.9994763 & 0.9994524 & 0.9994394 & 0.9994811 & 0.9995501 & 0.9994872 & 0.9994588 & 0.9995261 & 0.9995070 & 0.9994270 & 0.9994792 & 0.9995277 & 0.9995434 & 0.9995559 & 0.9994592 & 0.9995213 & 0.9995429 & 0.9994633 & 0.9994628 & 0.9995114 & 0.9995672 & 0.9994577 & 0.9994944 & 0.9994544 & 0.9995508 & 0.9995313 & 0.9994785 & 0.9994551 & 0.9994510 & 0.9994696 & 0.9995106 & 0.9995276 & 0.9994739 & 0.9995142 & 0.9994859 & 0.9994375 & 0.9995201 & 0.9995068 & 0.9995131 & 0.9994700 & 0.9995408 & 0.9994243 & 0.9995496 & 0.9994236 & 0.9994931 & 0.9994847 & 0.9995227 & 0.9994705 & 0.9995376 & 0.9994929 & 0.9994968 & 0.9995067 & 0.9995108 & 0.9994957 & 0.9994583 & 0.9994725 & 0.9995708 & 0.9994561 & 0.9994891 & 0.9994922 & 0.9994629 & 0.9995232 & 0.9995590 & 0.9994757 & 0.9995029 & 0.9994781 & 0.9995235 & 0.9995277 & 0.9994347 & 0.9994386 & 0.9995415 & 0.9994823 & 0.9995458 & 0.9995149 & 0.9995089 & 0.9994677 & 0.9995371 & 0.9995378 & 0.9994720 & 0.9995022 & 0.9995282 & 0.9994746 & 0.9994744 & 0.9994417 & 0.9995210 & 0.9995527 & 0.9995280 & 0.9994479 & 0.9995566 & 0.9995519 & 0.9995381 & 0.9994887 & 0.9995198 & 0.9994821 & 0.9994141 & 0.9994996 & 0.9995107 & 0.9995390 & 0.9994882 & 0.9994236 & 0.9994143 & 0.9995367 & 0.9995617 & 0.9994602 & 0.9995093 & 0.9995298 & 0.9994196 & 0.9995357 & 0.9994506 & 0.9994722 & 0.9994736 & 0.9995264 & 0.9994920 & 0.9995728 & 0.9995213 & 0.9995248 & 0.9994771 & 0.9995139 & 0.9994926 & 0.9995024 & 0.9994916 & 0.9995053 & 0.9995008 & 0.9995233 & 0.9995781 & 0.9994344 & 0.9994555 & 0.9994857 & 0.9994852 & 0.9995483 & 0.9994903 & 0.9994786 & 0.9994374 & 0.9995211 & 0.9996004 & 0.9994913 & 0.9994939 & 0.9995129 & 0.9994963 & 0.9994952 & 0.9994789 & 0.9994846 & 0.9995330 & 0.9995576 & 0.9994524 & 0.9995356 & 0.9994483 & 0.9994751 & 0.9994245 & 0.9994555 & 0.9994560 & 0.9995399 & 0.9995419 & 0.9994572 & 0.9995310 & 0.9995363 & 0.9995020 & 0.9994518 & 0.9994732 & 0.9995400 & 0.9995298 & 0.9994556 & 0.9995037 & 0.9995447 & 0.9994814 & 0.9994682 & 0.9995152 & 0.9995313 & 0.9994784 & 0.9994724 & 0.9994375 & 0.9995479 & 0.9995092 & 0.9994504 & 0.9994873 & 0.9995083 & 0.9994863 & 0.9994532 & 0.9994953 & 0.9994798 & 0.9994679 & 0.9995435 & 0.9994949 & 0.9995068 & 0.9995047 & 0.9994948 & 0.9995047 & 0.9994273 & 0.9994952 & 0.9994594 & 0.9994684 & 0.9994824 & 0.9995399 & 0.9994929 & 0.9995019 & 0.9995342 & 0.9994562 & 0.9994737 & 0.9995729 & 0.9995533 & 0.9994691 & 0.9994419 & 0.9994864 & 0.9995022 & 0.9995285 & 0.9994832 & 0.9994471 & 0.9995757 & 0.9994493 & 0.9994827 & 0.9994888 & 0.9994704 & 0.9994472 & 0.9995561 & 0.9994456 & 0.9994659 & 0.9995126 & 0.9995946 & 0.9995028 & 0.9995219 & 0.9994428 & 0.9994504 & 0.9994962 & 0.9994438 & 0.9994663 & 0.9994781 & 0.9994262 & 0.9994960 & 0.9994816 & 0.9995492 & 0.9995657 & 0.9994135 & 0.9995080 & 0.9995247 & 0.9995021 & 0.9995048 & 0.9995685 & 0.9995304 & 0.9994969 & 0.9994341 & 0.9994842 & 0.9994898 & 0.9994897 & 0.9994824 & 0.9995267 & 0.9994592 & 0.9994218 & 0.9995296 & 0.9994596 & 0.9995307 & 0.9995081 & 0.9995422 & 0.9995080 & 0.9994135 & 0.9995262 & 0.9995129 & 0.9995005 & 0.9994838 & 0.9995278 & 0.9995140 & 0.9994582 & 0.9994811 & 0.9995009 & 0.9994696 & 0.9995033 & 0.9995312 & 0.9994897 & 0.9994641 & 0.9994730 & 0.9995111 & 0.9994229 & 0.9995540 & 0.9995065 & 0.9994761 & 0.9995468 & 0.9994374 & 0.9994994 & 0.9994985 & 0.9994818 & 0.9994948 & 0.9995277 & 0.9994920 & 0.9994711 & 0.9994560 & 0.9995186 & 0.9995024 & 0.9994915 & NA\\\\\n",
       "\\end{tabular}\n"
      ],
      "text/markdown": [
       "\n",
       "A data.frame: 6 × 502\n",
       "\n",
       "| year &lt;dbl&gt; | X2..Seals &lt;dbl&gt; | X2..Seals.1 &lt;dbl&gt; | X2..Seals.2 &lt;dbl&gt; | X2..Seals.3 &lt;dbl&gt; | X2..Seals.4 &lt;dbl&gt; | X2..Seals.5 &lt;dbl&gt; | X2..Seals.6 &lt;dbl&gt; | X2..Seals.7 &lt;dbl&gt; | X2..Seals.8 &lt;dbl&gt; | ... ... | X2..Seals.491 &lt;dbl&gt; | X2..Seals.492 &lt;dbl&gt; | X2..Seals.493 &lt;dbl&gt; | X2..Seals.494 &lt;dbl&gt; | X2..Seals.495 &lt;dbl&gt; | X2..Seals.496 &lt;dbl&gt; | X2..Seals.497 &lt;dbl&gt; | X2..Seals.498 &lt;dbl&gt; | X2..Seals.499 &lt;dbl&gt; | X2..Seals.500 &lt;int&gt; |\n",
       "|---|---|---|---|---|---|---|---|---|---|---|---|---|---|---|---|---|---|---|---|---|\n",
       "| 1950.000 | 1.0000000 | 1.0000000 | 1.0000000 | 1.0000000 | 1.0000000 | 1.0000000 | 1.0000000 | 1.0000000 | 1.0000000 | ... | 1.0000000 | 1.0000000 | 1.0000000 | 1.0000000 | 1.0000000 | 1.0000000 | 1.0000000 | 1.0000000 | 1.0000000 |  1 |\n",
       "| 1950.083 | 0.9999005 | 0.9999060 | 0.9998989 | 0.9998944 | 0.9998854 | 0.9998988 | 0.9999036 | 0.9999064 | 0.9998963 | ... | 0.9998980 | 0.9999005 | 0.9999069 | 0.9998999 | 0.9998958 | 0.9998930 | 0.9999051 | 0.9999020 | 0.9998998 | NA |\n",
       "| 1950.167 | 0.9997990 | 0.9998100 | 0.9997958 | 0.9997867 | 0.9997683 | 0.9997955 | 0.9998052 | 0.9998106 | 0.9997905 | ... | 0.9997937 | 0.9997987 | 0.9998118 | 0.9997977 | 0.9997895 | 0.9997835 | 0.9998083 | 0.9998021 | 0.9997976 | NA |\n",
       "| 1950.250 | 0.9996979 | 0.9997144 | 0.9996929 | 0.9996794 | 0.9996517 | 0.9996926 | 0.9997073 | 0.9997153 | 0.9996850 | ... | 0.9996899 | 0.9996976 | 0.9997172 | 0.9996960 | 0.9996835 | 0.9996746 | 0.9997118 | 0.9997024 | 0.9996957 | NA |\n",
       "| 1950.333 | 0.9995965 | 0.9996187 | 0.9995899 | 0.9995719 | 0.9995349 | 0.9995894 | 0.9996094 | 0.9996201 | 0.9995795 | ... | 0.9995860 | 0.9995963 | 0.9996225 | 0.9995942 | 0.9995774 | 0.9995655 | 0.9996153 | 0.9996026 | 0.9995937 | NA |\n",
       "| 1950.417 | 0.9994949 | 0.9995228 | 0.9994864 | 0.9994638 | 0.9994177 | 0.9994859 | 0.9995112 | 0.9995246 | 0.9994736 | ... | 0.9994818 | 0.9994948 | 0.9995277 | 0.9994920 | 0.9994711 | 0.9994560 | 0.9995186 | 0.9995024 | 0.9994915 | NA |\n",
       "\n"
      ],
      "text/plain": [
       "  year     X2..Seals X2..Seals.1 X2..Seals.2 X2..Seals.3 X2..Seals.4\n",
       "1 1950.000 1.0000000 1.0000000   1.0000000   1.0000000   1.0000000  \n",
       "2 1950.083 0.9999005 0.9999060   0.9998989   0.9998944   0.9998854  \n",
       "3 1950.167 0.9997990 0.9998100   0.9997958   0.9997867   0.9997683  \n",
       "4 1950.250 0.9996979 0.9997144   0.9996929   0.9996794   0.9996517  \n",
       "5 1950.333 0.9995965 0.9996187   0.9995899   0.9995719   0.9995349  \n",
       "6 1950.417 0.9994949 0.9995228   0.9994864   0.9994638   0.9994177  \n",
       "  X2..Seals.5 X2..Seals.6 X2..Seals.7 X2..Seals.8 ... X2..Seals.491\n",
       "1 1.0000000   1.0000000   1.0000000   1.0000000   ... 1.0000000    \n",
       "2 0.9998988   0.9999036   0.9999064   0.9998963   ... 0.9998980    \n",
       "3 0.9997955   0.9998052   0.9998106   0.9997905   ... 0.9997937    \n",
       "4 0.9996926   0.9997073   0.9997153   0.9996850   ... 0.9996899    \n",
       "5 0.9995894   0.9996094   0.9996201   0.9995795   ... 0.9995860    \n",
       "6 0.9994859   0.9995112   0.9995246   0.9994736   ... 0.9994818    \n",
       "  X2..Seals.492 X2..Seals.493 X2..Seals.494 X2..Seals.495 X2..Seals.496\n",
       "1 1.0000000     1.0000000     1.0000000     1.0000000     1.0000000    \n",
       "2 0.9999005     0.9999069     0.9998999     0.9998958     0.9998930    \n",
       "3 0.9997987     0.9998118     0.9997977     0.9997895     0.9997835    \n",
       "4 0.9996976     0.9997172     0.9996960     0.9996835     0.9996746    \n",
       "5 0.9995963     0.9996225     0.9995942     0.9995774     0.9995655    \n",
       "6 0.9994948     0.9995277     0.9994920     0.9994711     0.9994560    \n",
       "  X2..Seals.497 X2..Seals.498 X2..Seals.499 X2..Seals.500\n",
       "1 1.0000000     1.0000000     1.0000000      1           \n",
       "2 0.9999051     0.9999020     0.9998998     NA           \n",
       "3 0.9998083     0.9998021     0.9997976     NA           \n",
       "4 0.9997118     0.9997024     0.9996957     NA           \n",
       "5 0.9996153     0.9996026     0.9995937     NA           \n",
       "6 0.9995186     0.9995024     0.9994915     NA           "
      ]
     },
     "metadata": {},
     "output_type": "display_data"
    }
   ],
   "source": [
    "\n",
    "# I can't find Biomass in the auto written MC run out files, so I'm saving from the plot in the MC plugin\n",
    "path = \"C://Users//Greig//Sync//PSF//EwE//Georgia Strait 2021//UTL_model//6_MRM_SealTKWJuveSlmn//Results//Scenario3_MC//\"\n",
    "file = \"BiomassPlotSave_Scen3b_TKWForce_min.csv\"\n",
    "file = \"BiomassPlotSave_Scen3c_TKWForce_mid_500runs.csv\"\n",
    "header_lines = 1\n",
    "results_df <- read.csv(paste(path, file,sep=\"\"), skip = header_lines)\n",
    "\n",
    "n_MC_runs = 500 # determines columns to grab (first cols assumed to be seals)\n",
    "\n",
    "# rename 'data' col to Year\n",
    "results_trim_TKWForcemid = results_df %>% rename(year = Data) %>% \n",
    "               select(c(\"year\",starts_with(\"X2..Seals\")))\n",
    "\n",
    "head(results_trim_TKWForcemid)"
   ]
  },
  {
   "cell_type": "code",
   "execution_count": 51,
   "id": "fd7dbef6",
   "metadata": {},
   "outputs": [],
   "source": [
    "#starts_with(results_trim_TKWForcemid,\"X2..Seals\")\n",
    "#grep(\"X2..Seals\", colnames(results_trim_TKWForcemid))\n",
    "#results_trim_TKWForcemid"
   ]
  },
  {
   "cell_type": "code",
   "execution_count": null,
   "id": "ea3cf3f5",
   "metadata": {},
   "outputs": [],
   "source": []
  },
  {
   "cell_type": "code",
   "execution_count": 53,
   "id": "63eeda25",
   "metadata": {},
   "outputs": [
    {
     "name": "stderr",
     "output_type": "stream",
     "text": [
      "`summarise()` ungrouping output (override with `.groups` argument)\n"
     ]
    },
    {
     "data": {
      "text/html": [
       "<table>\n",
       "<caption>A tibble: 6 × 5</caption>\n",
       "<thead>\n",
       "\t<tr><th scope=col>year</th><th scope=col>mean_yr</th><th scope=col>mean_std</th><th scope=col>mean_lwrB</th><th scope=col>mean_uppB</th></tr>\n",
       "\t<tr><th scope=col>&lt;dbl&gt;</th><th scope=col>&lt;dbl&gt;</th><th scope=col>&lt;dbl&gt;</th><th scope=col>&lt;dbl&gt;</th><th scope=col>&lt;dbl&gt;</th></tr>\n",
       "</thead>\n",
       "<tbody>\n",
       "\t<tr><td>2015</td><td>0.9030645</td><td>0.5061758</td><td>0.8586962</td><td>0.9474327</td></tr>\n",
       "\t<tr><td>2016</td><td>0.9031850</td><td>0.5053145</td><td>0.8588922</td><td>0.9474778</td></tr>\n",
       "\t<tr><td>2017</td><td>0.9031828</td><td>0.5045441</td><td>0.8589575</td><td>0.9474080</td></tr>\n",
       "\t<tr><td>2018</td><td>0.9030397</td><td>0.5038130</td><td>0.8588786</td><td>0.9472009</td></tr>\n",
       "\t<tr><td>2019</td><td>0.9027842</td><td>0.5030950</td><td>0.8586859</td><td>0.9468824</td></tr>\n",
       "\t<tr><td>2020</td><td>0.9025235</td><td>0.5025495</td><td>0.8584731</td><td>0.9465739</td></tr>\n",
       "</tbody>\n",
       "</table>\n"
      ],
      "text/latex": [
       "A tibble: 6 × 5\n",
       "\\begin{tabular}{r|lllll}\n",
       " year & mean\\_yr & mean\\_std & mean\\_lwrB & mean\\_uppB\\\\\n",
       " <dbl> & <dbl> & <dbl> & <dbl> & <dbl>\\\\\n",
       "\\hline\n",
       "\t 2015 & 0.9030645 & 0.5061758 & 0.8586962 & 0.9474327\\\\\n",
       "\t 2016 & 0.9031850 & 0.5053145 & 0.8588922 & 0.9474778\\\\\n",
       "\t 2017 & 0.9031828 & 0.5045441 & 0.8589575 & 0.9474080\\\\\n",
       "\t 2018 & 0.9030397 & 0.5038130 & 0.8588786 & 0.9472009\\\\\n",
       "\t 2019 & 0.9027842 & 0.5030950 & 0.8586859 & 0.9468824\\\\\n",
       "\t 2020 & 0.9025235 & 0.5025495 & 0.8584731 & 0.9465739\\\\\n",
       "\\end{tabular}\n"
      ],
      "text/markdown": [
       "\n",
       "A tibble: 6 × 5\n",
       "\n",
       "| year &lt;dbl&gt; | mean_yr &lt;dbl&gt; | mean_std &lt;dbl&gt; | mean_lwrB &lt;dbl&gt; | mean_uppB &lt;dbl&gt; |\n",
       "|---|---|---|---|---|\n",
       "| 2015 | 0.9030645 | 0.5061758 | 0.8586962 | 0.9474327 |\n",
       "| 2016 | 0.9031850 | 0.5053145 | 0.8588922 | 0.9474778 |\n",
       "| 2017 | 0.9031828 | 0.5045441 | 0.8589575 | 0.9474080 |\n",
       "| 2018 | 0.9030397 | 0.5038130 | 0.8588786 | 0.9472009 |\n",
       "| 2019 | 0.9027842 | 0.5030950 | 0.8586859 | 0.9468824 |\n",
       "| 2020 | 0.9025235 | 0.5025495 | 0.8584731 | 0.9465739 |\n",
       "\n"
      ],
      "text/plain": [
       "  year mean_yr   mean_std  mean_lwrB mean_uppB\n",
       "1 2015 0.9030645 0.5061758 0.8586962 0.9474327\n",
       "2 2016 0.9031850 0.5053145 0.8588922 0.9474778\n",
       "3 2017 0.9031828 0.5045441 0.8589575 0.9474080\n",
       "4 2018 0.9030397 0.5038130 0.8588786 0.9472009\n",
       "5 2019 0.9027842 0.5030950 0.8586859 0.9468824\n",
       "6 2020 0.9025235 0.5025495 0.8584731 0.9465739"
      ]
     },
     "metadata": {},
     "output_type": "display_data"
    }
   ],
   "source": [
    "# for geom_ribbon plots get upper and lower bound \n",
    "columns <- grep(\"X2..Seals\", colnames(results_trim_TKWForcemid))\n",
    "\n",
    "results_trim_TKWmid = results_trim_TKWForcemid %>% \n",
    " mutate(Mean= rowMeans(.[columns],,na.rm = TRUE), \n",
    "         logMean = rowMeans(log(.[columns]),na.rm = TRUE),\n",
    "         stdev=rowSds(as.matrix(.[columns]),na.rm = TRUE), \n",
    "         stdev_log=rowSds(as.matrix(log(.[columns])),na.rm = TRUE)) %>%\n",
    "  mutate(upper_B = Mean + (1.96 * stdev / sqrt(n_MC_runs)), # 95% confidence interv https://www.mathsisfun.com/data/confidence-interval.html\n",
    "        lower_B = Mean - (1.96 * stdev / sqrt(n_MC_runs))) %>%\n",
    "  mutate(year_int = round(year,0)) %>%\n",
    "  filter(year_int < 2022) %>% #deals with weird super-large year at end of TS data\n",
    "  select(c(\"year_int\",\"Mean\", \"stdev\", \"lower_B\",\"upper_B\")) %>%\n",
    "  mutate(source = \"EwE\") %>%\n",
    "  rename(year = year_int) %>%\n",
    "  # at this point there are 12 vals per year but these appear to jump every year\n",
    "  # below will average the stats across each year\n",
    "  group_by(year) %>% dplyr::summarize(mean_yr = mean(Mean, na.rm=TRUE), \n",
    "                                      mean_std = mean(stdev, na.rm=TRUE), \n",
    "                                      mean_lwrB = mean(lower_B, na.rm=TRUE),\n",
    "                                      mean_uppB = mean(upper_B, na.rm=TRUE))\n",
    "\n",
    "\n",
    "  #mutate(upper_B = exp(upper_logB), \n",
    "  #       lower_B = exp(lower_logB)) \n",
    "\n",
    "\n",
    "\n",
    "# pivot wide to long\n",
    "#results_piv = results_trim2 %>% pivot_longer(\n",
    "#   cols = starts_with(\"X2\"),\n",
    "#   names_to = \"Seals\",\n",
    "#   names_prefix = \"\",\n",
    "#   values_to = \"B\",\n",
    "#   values_drop_na = TRUE\n",
    "# )\n",
    "\n",
    "tail(results_trim_TKWmid)"
   ]
  },
  {
   "cell_type": "code",
   "execution_count": 48,
   "id": "2d2260d8",
   "metadata": {},
   "outputs": [
    {
     "data": {
      "text/html": [
       "<table>\n",
       "<caption>A data.frame: 6 × 3</caption>\n",
       "<thead>\n",
       "\t<tr><th scope=col>year</th><th scope=col>SealsObsRelB</th><th scope=col>source</th></tr>\n",
       "\t<tr><th scope=col>&lt;int&gt;</th><th scope=col>&lt;dbl&gt;</th><th scope=col>&lt;chr&gt;</th></tr>\n",
       "</thead>\n",
       "<tbody>\n",
       "\t<tr><td>1950</td><td>1.0000000</td><td>surveys</td></tr>\n",
       "\t<tr><td>1951</td><td>0.9900000</td><td>surveys</td></tr>\n",
       "\t<tr><td>1952</td><td>0.9801002</td><td>surveys</td></tr>\n",
       "\t<tr><td>1953</td><td>0.9702992</td><td>surveys</td></tr>\n",
       "\t<tr><td>1954</td><td>0.9605959</td><td>surveys</td></tr>\n",
       "\t<tr><td>1955</td><td>0.9509903</td><td>surveys</td></tr>\n",
       "</tbody>\n",
       "</table>\n"
      ],
      "text/latex": [
       "A data.frame: 6 × 3\n",
       "\\begin{tabular}{r|lll}\n",
       " year & SealsObsRelB & source\\\\\n",
       " <int> & <dbl> & <chr>\\\\\n",
       "\\hline\n",
       "\t 1950 & 1.0000000 & surveys\\\\\n",
       "\t 1951 & 0.9900000 & surveys\\\\\n",
       "\t 1952 & 0.9801002 & surveys\\\\\n",
       "\t 1953 & 0.9702992 & surveys\\\\\n",
       "\t 1954 & 0.9605959 & surveys\\\\\n",
       "\t 1955 & 0.9509903 & surveys\\\\\n",
       "\\end{tabular}\n"
      ],
      "text/markdown": [
       "\n",
       "A data.frame: 6 × 3\n",
       "\n",
       "| year &lt;int&gt; | SealsObsRelB &lt;dbl&gt; | source &lt;chr&gt; |\n",
       "|---|---|---|\n",
       "| 1950 | 1.0000000 | surveys |\n",
       "| 1951 | 0.9900000 | surveys |\n",
       "| 1952 | 0.9801002 | surveys |\n",
       "| 1953 | 0.9702992 | surveys |\n",
       "| 1954 | 0.9605959 | surveys |\n",
       "| 1955 | 0.9509903 | surveys |\n",
       "\n"
      ],
      "text/plain": [
       "  year SealsObsRelB source \n",
       "1 1950 1.0000000    surveys\n",
       "2 1951 0.9900000    surveys\n",
       "3 1952 0.9801002    surveys\n",
       "4 1953 0.9702992    surveys\n",
       "5 1954 0.9605959    surveys\n",
       "6 1955 0.9509903    surveys"
      ]
     },
     "metadata": {},
     "output_type": "display_data"
    }
   ],
   "source": [
    "# read seal time series data\n",
    "# convert from abs to rel to match MC out\n",
    "path = \"C://Users//Greig//Sync//PSF//EwE//Georgia Strait 2021//UTL_model//6_MRM_SealTKWJuveSlmn//\"\n",
    "file = \"SealTKW_timeseries_Scen1_NoTKWForcing.csv\"\n",
    "header_lines = 3\n",
    "sealobs_df <- read.csv(paste(path, file,sep=\"\"), skip = header_lines)\n",
    "relB_base = sealobs_df$BiomassAbs[1]\n",
    "sealobs_df$SealsObsRelB = sealobs_df$BiomassAbs / relB_base\n",
    "seals_obs_relB = sealobs_df %>% rename(year = Type) %>% \n",
    "               select(c(\"year\",\"SealsObsRelB\")) %>%\n",
    "               mutate(source = \"surveys\")\n",
    "\n",
    "head(seals_obs_relB)"
   ]
  },
  {
   "cell_type": "code",
   "execution_count": 45,
   "id": "1c74426a",
   "metadata": {},
   "outputs": [
    {
     "data": {
      "text/html": [
       "<table>\n",
       "<caption>A tibble: 6 × 7</caption>\n",
       "<thead>\n",
       "\t<tr><th scope=col>year</th><th scope=col>mean_yr</th><th scope=col>mean_std</th><th scope=col>mean_lwrB</th><th scope=col>mean_uppB</th><th scope=col>SealsObsRelB</th><th scope=col>source</th></tr>\n",
       "\t<tr><th scope=col>&lt;dbl&gt;</th><th scope=col>&lt;dbl&gt;</th><th scope=col>&lt;dbl&gt;</th><th scope=col>&lt;dbl&gt;</th><th scope=col>&lt;dbl&gt;</th><th scope=col>&lt;dbl&gt;</th><th scope=col>&lt;chr&gt;</th></tr>\n",
       "</thead>\n",
       "<tbody>\n",
       "\t<tr><td>2014</td><td>NA</td><td>NA</td><td>NA</td><td>NA</td><td>1.283177</td><td>surveys</td></tr>\n",
       "\t<tr><td>2015</td><td>NA</td><td>NA</td><td>NA</td><td>NA</td><td>0.000000</td><td>surveys</td></tr>\n",
       "\t<tr><td>2016</td><td>NA</td><td>NA</td><td>NA</td><td>NA</td><td>0.000000</td><td>surveys</td></tr>\n",
       "\t<tr><td>2017</td><td>NA</td><td>NA</td><td>NA</td><td>NA</td><td>0.000000</td><td>surveys</td></tr>\n",
       "\t<tr><td>2018</td><td>NA</td><td>NA</td><td>NA</td><td>NA</td><td>0.000000</td><td>surveys</td></tr>\n",
       "\t<tr><td>2019</td><td>NA</td><td>NA</td><td>NA</td><td>NA</td><td>0.000000</td><td>surveys</td></tr>\n",
       "</tbody>\n",
       "</table>\n"
      ],
      "text/latex": [
       "A tibble: 6 × 7\n",
       "\\begin{tabular}{r|lllllll}\n",
       " year & mean\\_yr & mean\\_std & mean\\_lwrB & mean\\_uppB & SealsObsRelB & source\\\\\n",
       " <dbl> & <dbl> & <dbl> & <dbl> & <dbl> & <dbl> & <chr>\\\\\n",
       "\\hline\n",
       "\t 2014 & NA & NA & NA & NA & 1.283177 & surveys\\\\\n",
       "\t 2015 & NA & NA & NA & NA & 0.000000 & surveys\\\\\n",
       "\t 2016 & NA & NA & NA & NA & 0.000000 & surveys\\\\\n",
       "\t 2017 & NA & NA & NA & NA & 0.000000 & surveys\\\\\n",
       "\t 2018 & NA & NA & NA & NA & 0.000000 & surveys\\\\\n",
       "\t 2019 & NA & NA & NA & NA & 0.000000 & surveys\\\\\n",
       "\\end{tabular}\n"
      ],
      "text/markdown": [
       "\n",
       "A tibble: 6 × 7\n",
       "\n",
       "| year &lt;dbl&gt; | mean_yr &lt;dbl&gt; | mean_std &lt;dbl&gt; | mean_lwrB &lt;dbl&gt; | mean_uppB &lt;dbl&gt; | SealsObsRelB &lt;dbl&gt; | source &lt;chr&gt; |\n",
       "|---|---|---|---|---|---|---|\n",
       "| 2014 | NA | NA | NA | NA | 1.283177 | surveys |\n",
       "| 2015 | NA | NA | NA | NA | 0.000000 | surveys |\n",
       "| 2016 | NA | NA | NA | NA | 0.000000 | surveys |\n",
       "| 2017 | NA | NA | NA | NA | 0.000000 | surveys |\n",
       "| 2018 | NA | NA | NA | NA | 0.000000 | surveys |\n",
       "| 2019 | NA | NA | NA | NA | 0.000000 | surveys |\n",
       "\n"
      ],
      "text/plain": [
       "  year mean_yr mean_std mean_lwrB mean_uppB SealsObsRelB source \n",
       "1 2014 NA      NA       NA        NA        1.283177     surveys\n",
       "2 2015 NA      NA       NA        NA        0.000000     surveys\n",
       "3 2016 NA      NA       NA        NA        0.000000     surveys\n",
       "4 2017 NA      NA       NA        NA        0.000000     surveys\n",
       "5 2018 NA      NA       NA        NA        0.000000     surveys\n",
       "6 2019 NA      NA       NA        NA        0.000000     surveys"
      ]
     },
     "metadata": {},
     "output_type": "display_data"
    }
   ],
   "source": [
    "# merge two tables\n",
    "model_obs_binding = bind_rows(results_trim2,seals_obs_relB)\n",
    "\n",
    "tail(model_obs_binding)"
   ]
  },
  {
   "cell_type": "code",
   "execution_count": null,
   "id": "1a9fb442",
   "metadata": {},
   "outputs": [],
   "source": []
  },
  {
   "cell_type": "code",
   "execution_count": 49,
   "id": "468327ff",
   "metadata": {},
   "outputs": [],
   "source": [
    "SealsObsRelB_1970on = seals_obs_relB %>% filter(year > 1969)"
   ]
  },
  {
   "cell_type": "code",
   "execution_count": null,
   "id": "01968b24",
   "metadata": {},
   "outputs": [],
   "source": []
  },
  {
   "cell_type": "code",
   "execution_count": 54,
   "id": "ba77b30c",
   "metadata": {},
   "outputs": [
    {
     "name": "stderr",
     "output_type": "stream",
     "text": [
      "Warning message:\n",
      "\"Ignoring unknown aesthetics: y\""
     ]
    },
    {
     "data": {
      "image/png": "[encoded data removed]",
      "text/plain": [
       "plot without title"
      ]
     },
     "metadata": {},
     "output_type": "display_data"
    }
   ],
   "source": [
    "ggplot(data = results_trim2, aes(x = year, y = mean_yr)) +\n",
    "    geom_ribbon(aes(ymin=mean_lwrB, ymax=mean_uppB),alpha = 0.1, color = \"blue\") +\n",
    "    geom_ribbon(data = results_trim_TKWmid, aes(y=mean_yr, ymin=mean_lwrB, ymax=mean_uppB),alpha = 0.1, color = \"blue\") +\n",
    "    geom_point(data = SealsObsRelB_1970on, aes(y=SealsObsRelB, x=year),alpha = 0.8, color = \"black\") + \n",
    "    ylab(\"Relative Seal Biomass (SoG)\")"
   ]
  },
  {
   "cell_type": "code",
   "execution_count": 56,
   "id": "0aa5b9b4",
   "metadata": {},
   "outputs": [
    {
     "data": {
      "text/html": [
       "<table>\n",
       "<caption>A data.frame: 6 × 7</caption>\n",
       "<thead>\n",
       "\t<tr><th scope=col>year</th><th scope=col>seals_sc1</th><th scope=col>seals_sc1_up</th><th scope=col>seals_sc1_lo</th><th scope=col>seals_sc2b</th><th scope=col>seals_sc2b_up</th><th scope=col>seals_sc2b_lo</th></tr>\n",
       "\t<tr><th scope=col>&lt;int&gt;</th><th scope=col>&lt;dbl&gt;</th><th scope=col>&lt;dbl&gt;</th><th scope=col>&lt;dbl&gt;</th><th scope=col>&lt;dbl&gt;</th><th scope=col>&lt;dbl&gt;</th><th scope=col>&lt;dbl&gt;</th></tr>\n",
       "</thead>\n",
       "<tbody>\n",
       "\t<tr><td>1950</td><td>0.1698849</td><td>0.2208504</td><td>0.1359079</td><td>0.1698851</td><td>0.2208506</td><td>0.1359081</td></tr>\n",
       "\t<tr><td>1951</td><td>0.1697782</td><td>0.2207117</td><td>0.1358226</td><td>0.1697793</td><td>0.2207131</td><td>0.1358234</td></tr>\n",
       "\t<tr><td>1952</td><td>0.1666590</td><td>0.2166567</td><td>0.1333272</td><td>0.1666638</td><td>0.2166629</td><td>0.1333310</td></tr>\n",
       "\t<tr><td>1953</td><td>0.1612633</td><td>0.2096423</td><td>0.1290106</td><td>0.1612942</td><td>0.2096825</td><td>0.1290354</td></tr>\n",
       "\t<tr><td>1954</td><td>0.1530211</td><td>0.1989274</td><td>0.1224169</td><td>0.1531146</td><td>0.1990490</td><td>0.1224917</td></tr>\n",
       "\t<tr><td>1955</td><td>0.1429197</td><td>0.1857956</td><td>0.1143358</td><td>0.1431347</td><td>0.1860751</td><td>0.1145078</td></tr>\n",
       "</tbody>\n",
       "</table>\n"
      ],
      "text/latex": [
       "A data.frame: 6 × 7\n",
       "\\begin{tabular}{r|lllllll}\n",
       " year & seals\\_sc1 & seals\\_sc1\\_up & seals\\_sc1\\_lo & seals\\_sc2b & seals\\_sc2b\\_up & seals\\_sc2b\\_lo\\\\\n",
       " <int> & <dbl> & <dbl> & <dbl> & <dbl> & <dbl> & <dbl>\\\\\n",
       "\\hline\n",
       "\t 1950 & 0.1698849 & 0.2208504 & 0.1359079 & 0.1698851 & 0.2208506 & 0.1359081\\\\\n",
       "\t 1951 & 0.1697782 & 0.2207117 & 0.1358226 & 0.1697793 & 0.2207131 & 0.1358234\\\\\n",
       "\t 1952 & 0.1666590 & 0.2166567 & 0.1333272 & 0.1666638 & 0.2166629 & 0.1333310\\\\\n",
       "\t 1953 & 0.1612633 & 0.2096423 & 0.1290106 & 0.1612942 & 0.2096825 & 0.1290354\\\\\n",
       "\t 1954 & 0.1530211 & 0.1989274 & 0.1224169 & 0.1531146 & 0.1990490 & 0.1224917\\\\\n",
       "\t 1955 & 0.1429197 & 0.1857956 & 0.1143358 & 0.1431347 & 0.1860751 & 0.1145078\\\\\n",
       "\\end{tabular}\n"
      ],
      "text/markdown": [
       "\n",
       "A data.frame: 6 × 7\n",
       "\n",
       "| year &lt;int&gt; | seals_sc1 &lt;dbl&gt; | seals_sc1_up &lt;dbl&gt; | seals_sc1_lo &lt;dbl&gt; | seals_sc2b &lt;dbl&gt; | seals_sc2b_up &lt;dbl&gt; | seals_sc2b_lo &lt;dbl&gt; |\n",
       "|---|---|---|---|---|---|---|\n",
       "| 1950 | 0.1698849 | 0.2208504 | 0.1359079 | 0.1698851 | 0.2208506 | 0.1359081 |\n",
       "| 1951 | 0.1697782 | 0.2207117 | 0.1358226 | 0.1697793 | 0.2207131 | 0.1358234 |\n",
       "| 1952 | 0.1666590 | 0.2166567 | 0.1333272 | 0.1666638 | 0.2166629 | 0.1333310 |\n",
       "| 1953 | 0.1612633 | 0.2096423 | 0.1290106 | 0.1612942 | 0.2096825 | 0.1290354 |\n",
       "| 1954 | 0.1530211 | 0.1989274 | 0.1224169 | 0.1531146 | 0.1990490 | 0.1224917 |\n",
       "| 1955 | 0.1429197 | 0.1857956 | 0.1143358 | 0.1431347 | 0.1860751 | 0.1145078 |\n",
       "\n"
      ],
      "text/plain": [
       "  year seals_sc1 seals_sc1_up seals_sc1_lo seals_sc2b seals_sc2b_up\n",
       "1 1950 0.1698849 0.2208504    0.1359079    0.1698851  0.2208506    \n",
       "2 1951 0.1697782 0.2207117    0.1358226    0.1697793  0.2207131    \n",
       "3 1952 0.1666590 0.2166567    0.1333272    0.1666638  0.2166629    \n",
       "4 1953 0.1612633 0.2096423    0.1290106    0.1612942  0.2096825    \n",
       "5 1954 0.1530211 0.1989274    0.1224169    0.1531146  0.1990490    \n",
       "6 1955 0.1429197 0.1857956    0.1143358    0.1431347  0.1860751    \n",
       "  seals_sc2b_lo\n",
       "1 0.1359081    \n",
       "2 0.1358234    \n",
       "3 0.1333310    \n",
       "4 0.1290354    \n",
       "5 0.1224917    \n",
       "6 0.1145078    "
      ]
     },
     "metadata": {},
     "output_type": "display_data"
    }
   ],
   "source": [
    "# temporary\n",
    "# read seal time series data\n",
    "# convert from abs to rel to match MC out\n",
    "path = \"C://Users//Greig//Sync//PSF//EwE//Georgia Strait 2021//UTL_model//6_MRM_SealTKWJuveSlmn//results//\"\n",
    "file = \"biomass_annual_justresultsnoMC_scen1scen2b.csv\"\n",
    "header_lines = 0\n",
    "roughrundata_df <- read.csv(paste(path, file,sep=\"\"), skip = header_lines)\n",
    "\n",
    "\n",
    "head(roughrundata_df)\n",
    "\n"
   ]
  },
  {
   "cell_type": "code",
   "execution_count": 78,
   "id": "eceb355e",
   "metadata": {},
   "outputs": [
    {
     "name": "stderr",
     "output_type": "stream",
     "text": [
      "Warning message:\n",
      "\"Ignoring unknown aesthetics: y\""
     ]
    },
    {
     "data": {
      "image/png": "[encoded data removed]",
      "text/plain": [
       "plot without title"
      ]
     },
     "metadata": {},
     "output_type": "display_data"
    }
   ],
   "source": [
    "ggplot(data = roughrundata_df, aes(x = year, y = seals_sc1)) +\n",
    "    geom_line() +\n",
    "    geom_ribbon(aes(ymin=seals_sc1_lo, ymax=seals_sc1_up),alpha = 0.1, fill = \"blue\") +\n",
    "    geom_line(aes(y=seals_sc2b)) +\n",
    "    geom_ribbon(aes(y=seals_sc2b, ymin=seals_sc2b_lo, ymax=seals_sc2b_up),alpha = 0.1, fill = \"green\") +\n",
    "    geom_point(data = seals_obs_relB_norecent, aes(y=SealsObsRelB_mt, x=year),alpha = 0.8, color = \"black\") + \n",
    "    ylab(\"Seal Biomass Density (mt km-2)\") "
   ]
  },
  {
   "cell_type": "code",
   "execution_count": 60,
   "id": "23da2072",
   "metadata": {},
   "outputs": [],
   "source": [
    "seals_obs_relB$SealsObsRelB_mt = seals_obs_relB$SealsObsRelB * 0.169"
   ]
  },
  {
   "cell_type": "code",
   "execution_count": 77,
   "id": "fd076823",
   "metadata": {},
   "outputs": [],
   "source": [
    "seals_obs_relB_norecent = seals_obs_relB %>% filter(seals_obs_relB < 2015)"
   ]
  },
  {
   "cell_type": "code",
   "execution_count": null,
   "id": "49cdd40a",
   "metadata": {},
   "outputs": [],
   "source": []
  }
 ],
 "metadata": {
  "kernelspec": {
   "display_name": "R",
   "language": "R",
   "name": "ir"
  },
  "language_info": {
   "codemirror_mode": "r",
   "file_extension": ".r",
   "mimetype": "text/x-r-source",
   "name": "R",
   "pygments_lexer": "r",
   "version": "3.6.3"
  }
 },
 "nbformat": 4,
 "nbformat_minor": 5
}
