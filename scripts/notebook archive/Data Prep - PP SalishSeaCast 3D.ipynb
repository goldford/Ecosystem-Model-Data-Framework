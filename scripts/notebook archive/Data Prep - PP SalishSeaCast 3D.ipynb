{
 "cells": [
  {
   "cell_type": "code",
   "execution_count": null,
   "id": "c660eac8",
   "metadata": {},
   "outputs": [],
   "source": [
    "# next up - use python-cdo for rapid depth integration"
   ]
  },
  {
   "cell_type": "code",
   "execution_count": null,
   "id": "249503b7",
   "metadata": {},
   "outputs": [],
   "source": [
    "# G Oldford 2022\n",
    "#\n",
    "# Data In\n",
    "#  1/ SalishSeaCast NetCDF 3D Biology fields\n",
    "#      2007 - 2019 (two-year NetCDF files)\n",
    "#      monthly averages, all depths\n",
    "#      diatoms and flagellates only downloaded\n",
    "#      Downloaded Jan 27 from \n",
    "#      https://salishsea.eos.ubc.ca/erddap/info/index.html?page=1&itemsPerPage=1000\n",
    "#      \"Green, SalishSeaCast, 3d Biology Fields, Monthly, v19-05\"\n",
    "#       See Ben's code for help with visuals\n",
    "#       https://github.com/SalishSeaCast/analysis-ben/blob/master/notebooks/Jun-Aug_anomalies_201905.ipynb\n",
    "#       units are mole_concentration_of_diatoms_expressed_as_nitrogen_in_sea_water mmol m-3\"\n",
    "#\n",
    "# Purpose: \n",
    "#  prepare 2D (depth integrated) monthly and annual Biomass time series\n",
    "#  as spatial-temporal NC and as time series"
   ]
  },
  {
   "cell_type": "code",
   "execution_count": 11,
   "id": "4e20bb4a",
   "metadata": {},
   "outputs": [
    {
     "name": "stdout",
     "output_type": "stream",
     "text": [
      "C:\\ProgramData\\Anaconda3\n"
     ]
    }
   ],
   "source": [
    "import sys\n",
    "print(sys.prefix)"
   ]
  },
  {
   "cell_type": "code",
   "execution_count": 8,
   "id": "dc8635b6",
   "metadata": {},
   "outputs": [
    {
     "name": "stdout",
     "output_type": "stream",
     "text": [
      "Collecting package metadata (current_repodata.json): ...working... done\n",
      "Solving environment: ...working... failed with initial frozen solve. Retrying with flexible solve.\n"
     ]
    },
    {
     "name": "stderr",
     "output_type": "stream",
     "text": [
      "\n",
      "Building graph of deps:   0%|          | 0/4 [00:00<?, ?it/s]\n",
      "Examining @/win-64::__win==0=0:   0%|          | 0/4 [00:00<?, ?it/s]\n",
      "Examining python=3.7:  25%|##5       | 1/4 [00:00<?, ?it/s]          \n",
      "Examining python-cdo:  50%|#####     | 2/4 [00:01<00:01,  1.69it/s]\n",
      "Examining python-cdo:  75%|#######5  | 3/4 [00:01<00:00,  2.53it/s]\n",
      "Examining @/win-64::__archspec==1=x86_64:  75%|#######5  | 3/4 [00:02<00:00,  2.53it/s]\n",
      "Examining @/win-64::__archspec==1=x86_64: 100%|##########| 4/4 [00:02<00:00,  1.51it/s]\n",
      "                                                                                       \n",
      "\n",
      "Determining conflicts:   0%|          | 0/4 [00:00<?, ?it/s]\n"
     ]
    },
    {
     "name": "stdout",
     "output_type": "stream",
     "text": [
      "Solving environment: ...working... failed with repodata from current_repodata.json, will retry with next repodata source.\n",
      "Collecting package metadata (repodata.json): ...working... done\n",
      "Solving environment: ...working... failed with initial frozen solve. Retrying with flexible solve.\n",
      "Solving environment: ...working... \n",
      "Found conflicts! Looking for incompatible packages.\n",
      "This can take several minutes.  Press CTRL-C to abort.\n",
      "failed\n"
     ]
    },
    {
     "name": "stderr",
     "output_type": "stream",
     "text": [
      "Examining conflict for python python-cdo:   0%|          | 0/4 [00:00<?, ?it/s]\n",
      "                                                                               \n",
      "\n",
      "UnsatisfiableError: The following specifications were found to be incompatible with each other:\n",
      "\n",
      "Output in format: Requested package -> Available versions\n",
      "\n"
     ]
    }
   ],
   "source": [
    "import netCDF4 as nc\n",
    "import numpy as np\n",
    "import sys\n",
    "!conda install --yes --prefix {sys.prefix} python-cdo\n",
    "# https://anaconda.org/conda-forge/python-cdo"
   ]
  },
  {
   "cell_type": "code",
   "execution_count": 6,
   "id": "d65988c2",
   "metadata": {},
   "outputs": [],
   "source": [
    "year_start = 2007\n",
    "year_end = 2018\n",
    "\n",
    "p_Biology3D = \"C://Users//Greig//Sync//6. SSMSP Model//Model Greig//Data//28. Phytoplankton//DiatomsFlag_Allen3DModel_2007-2019//ORIGINAL//\"\n",
    "f_Biology3D = \"ubcSSg3DBiologyFields1moV19-05_DiatomsFlagellates_{}-{}.nc\".format(year_start,year_start+2)\n",
    "f = p_Biology3D + f_Biology3D\n",
    "\n",
    "with nc.Dataset(f) as ncid:\n",
    "    print(ncid.variables)\n"
   ]
  },
  {
   "cell_type": "code",
   "execution_count": 7,
   "id": "2b89a483",
   "metadata": {},
   "outputs": [
    {
     "name": "stdout",
     "output_type": "stream",
     "text": [
      "{'time': <class 'netCDF4._netCDF4.Variable'>\n",
      "float64 time(time)\n",
      "    _ChunkSizes: 1\n",
      "    _CoordinateAxisType: Time\n",
      "    actual_range: [1.1925360e+09 1.2609648e+09]\n",
      "    axis: T\n",
      "    calendar: gregorian\n",
      "    cell_methods: time_counter: mean\n",
      "    comment: time values are UTC at the centre of the intervals over which the calculated model results are averaged; e.g. the field average values for January 2007 have a time value of 2007-01-16 12:00:00Z\n",
      "    coverage_content_type: modelResult\n",
      "    ioos_category: Time\n",
      "    long_name: Time axis\n",
      "    standard_name: time\n",
      "    time_origin: 01-JAN-1970 00:00:00\n",
      "    units: seconds since 1970-01-01T00:00:00Z\n",
      "unlimited dimensions: \n",
      "current shape = (27,)\n",
      "filling on, default _FillValue of 9.969209968386869e+36 used, 'depth': <class 'netCDF4._netCDF4.Variable'>\n",
      "float32 depth(depth)\n",
      "    _CoordinateAxisType: Height\n",
      "    _CoordinateZisPositive: down\n",
      "    actual_range: [ 0.5000003 44.517723 ]\n",
      "    axis: Z\n",
      "    coverage_content_type: modelResult\n",
      "    ioos_category: Location\n",
      "    long_name: Depth\n",
      "    name: deptht\n",
      "    positive: down\n",
      "    standard_name: depth\n",
      "    units: m\n",
      "unlimited dimensions: \n",
      "current shape = (24,)\n",
      "filling on, default _FillValue of 9.969209968386869e+36 used, 'gridY': <class 'netCDF4._netCDF4.Variable'>\n",
      "int16 gridY(gridY)\n",
      "    actual_range: [  0 897]\n",
      "    comment: gridY values are grid indices in the model y-direction; geo-location data for the SalishSeaCast NEMO model grid is available in the ubcSSnBathymetry2V17-02 dataset.\n",
      "    coverage_content_type: modelResult\n",
      "    ioos_category: location\n",
      "    long_name: Y\n",
      "    units: count\n",
      "unlimited dimensions: \n",
      "current shape = (898,)\n",
      "filling on, default _FillValue of -32767 used, 'gridX': <class 'netCDF4._netCDF4.Variable'>\n",
      "int16 gridX(gridX)\n",
      "    actual_range: [  0 397]\n",
      "    comment: gridX values are grid indices in the model x-direction; geo-location data for the SalishSeaCast NEMO model grid is available in the ubcSSnBathymetry2V17-02 dataset.\n",
      "    coverage_content_type: modelResult\n",
      "    ioos_category: location\n",
      "    long_name: X\n",
      "    units: count\n",
      "unlimited dimensions: \n",
      "current shape = (398,)\n",
      "filling on, default _FillValue of -32767 used, 'diatoms': <class 'netCDF4._netCDF4.Variable'>\n",
      "float32 diatoms(time, depth, gridY, gridX)\n",
      "    _ChunkSizes: [  1  40 898 398]\n",
      "    _FillValue: 1e+20\n",
      "    colorBarMaximum: 20.0\n",
      "    colorBarMinimum: 0.0\n",
      "    coverage_content_type: modelResult\n",
      "    ioos_category: biology\n",
      "    long_name: Diatoms Concentration\n",
      "    missing_value: 1e+20\n",
      "    standard_name: mole_concentration_of_diatoms_expressed_as_nitrogen_in_sea_water\n",
      "    units: mmol m-3\n",
      "unlimited dimensions: \n",
      "current shape = (27, 24, 898, 398)\n",
      "filling on, 'flagellates': <class 'netCDF4._netCDF4.Variable'>\n",
      "float32 flagellates(time, depth, gridY, gridX)\n",
      "    _ChunkSizes: [  1  40 898 398]\n",
      "    _FillValue: 1e+20\n",
      "    colorBarMaximum: 128.0\n",
      "    colorBarMinimum: 0.0\n",
      "    coverage_content_type: modelResult\n",
      "    ioos_category: biology\n",
      "    long_name: Flagellates Concentration\n",
      "    missing_value: 1e+20\n",
      "    standard_name: mole_concentration_of_flagellates_expressed_as_nitrogen_in_sea_water\n",
      "    units: mmol m-3\n",
      "unlimited dimensions: \n",
      "current shape = (27, 24, 898, 398)\n",
      "filling on}\n"
     ]
    },
    {
     "name": "stderr",
     "output_type": "stream",
     "text": [
      "C:\\ProgramData\\Anaconda3\\lib\\site-packages\\ipykernel_launcher.py:2: DeprecationWarning: tostring() is deprecated. Use tobytes() instead.\n",
      "  \n"
     ]
    }
   ],
   "source": [
    "\n",
    "\n"
   ]
  },
  {
   "cell_type": "code",
   "execution_count": null,
   "id": "c3d88ece",
   "metadata": {},
   "outputs": [],
   "source": []
  },
  {
   "cell_type": "code",
   "execution_count": null,
   "id": "7850989f",
   "metadata": {},
   "outputs": [],
   "source": []
  }
 ],
 "metadata": {
  "kernelspec": {
   "display_name": "Python 3 (ipykernel)",
   "language": "python",
   "name": "python3"
  },
  "language_info": {
   "codemirror_mode": {
    "name": "ipython",
    "version": 3
   },
   "file_extension": ".py",
   "mimetype": "text/x-python",
   "name": "python",
   "nbconvert_exporter": "python",
   "pygments_lexer": "ipython3",
   "version": "3.7.4"
  }
 },
 "nbformat": 4,
 "nbformat_minor": 5
}
