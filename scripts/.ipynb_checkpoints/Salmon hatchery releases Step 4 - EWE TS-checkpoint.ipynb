{
 "cells": [
  {
   "cell_type": "code",
   "execution_count": null,
   "metadata": {},
   "outputs": [],
   "source": [
    "# last edited Jan 12, 2021 by GO"
   ]
  },
  {
   "cell_type": "markdown",
   "metadata": {},
   "source": [
    "### Export Custom Time Series file for Ecosim / Ecospace\n",
    "Jan 2021\n",
    "By: G Oldford\n",
    "<br> Purpose: Export a hatchery forcing or time series file to .csv's or ASCII's for EWE\n",
    "\n",
    "In: \n",
    "  - HatcheryRel_TS_ForNextStep.csv - EPAD data from Carl (DFO / SEP)- from 'step 3'\n",
    "Out:\n",
    " - CSV TBD <br>\n",
    " - ASCII TBD <br>\n",
    "\n",
    "Purpose:\n",
    "   - export the monthly timestep forcing file that Ecosim expects\n",
    "   - export the monthly timestep spatial forcing file that Ecospace expects\n",
    "\n",
    "Notes:\n",
    "- EPAD data from Carl Walters and RMIS locations data from SOGDC"
   ]
  },
  {
   "cell_type": "code",
   "execution_count": null,
   "metadata": {},
   "outputs": [],
   "source": [
    "## TOC: <a class=\"anchor\" id=\"top\"></a>\n",
    "* [1. Read file](#section-1)\n",
    "* [2. Fix dates / timesteps](#section-2)\n",
    "* [3. Produce Ecosim TS file](#section-3)\n",
    "* [4. Produce Ecospace TS file](#section-4)\n",
    "* [5. Write to File](#section-5)"
   ]
  },
  {
   "cell_type": "code",
   "execution_count": null,
   "metadata": {},
   "outputs": [],
   "source": [
    "# Set EWE start yr\n",
    "start_year = 1950\n",
    "start_month = 1"
   ]
  },
  {
   "cell_type": "code",
   "execution_count": null,
   "metadata": {},
   "outputs": [],
   "source": [
    "import pandas as pd\n",
    "\n",
    "# locations table from the SSMSP SOGDC (may have more lats / lons added than source at RMIS)\n",
    "localpath_in = \"C:/Users/Greig/Sync/6. SSMSP Model/Model Greig/Data/1. Salmon/Hatchery Releases/EPADHatcherReleasesGST\"\n",
    "releases_df = pd.read_csv(localpath_in + \"/MODIFIED/HatcheryRel_TS_ForNextstep.csv\")"
   ]
  },
  {
   "cell_type": "code",
   "execution_count": null,
   "metadata": {},
   "outputs": [],
   "source": []
  },
  {
   "cell_type": "code",
   "execution_count": null,
   "metadata": {},
   "outputs": [],
   "source": []
  },
  {
   "cell_type": "code",
   "execution_count": null,
   "metadata": {},
   "outputs": [],
   "source": []
  },
  {
   "cell_type": "code",
   "execution_count": null,
   "metadata": {},
   "outputs": [],
   "source": []
  },
  {
   "cell_type": "code",
   "execution_count": null,
   "metadata": {},
   "outputs": [],
   "source": []
  }
 ],
 "metadata": {
  "kernelspec": {
   "display_name": "Python 3",
   "language": "python",
   "name": "python3"
  },
  "language_info": {
   "codemirror_mode": {
    "name": "ipython",
    "version": 3
   },
   "file_extension": ".py",
   "mimetype": "text/x-python",
   "name": "python",
   "nbconvert_exporter": "python",
   "pygments_lexer": "ipython3",
   "version": "3.7.4"
  }
 },
 "nbformat": 4,
 "nbformat_minor": 2
}
